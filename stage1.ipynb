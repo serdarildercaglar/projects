{
 "cells": [
  {
   "cell_type": "code",
   "execution_count": 1,
   "id": "f767239f",
   "metadata": {},
   "outputs": [],
   "source": [
    "import pandas as pd\n",
    "import numpy as np\n",
    "from sklearn.impute import SimpleImputer\n",
    "import matplotlib.pyplot as plt\n",
    "import seaborn as sns\n",
    "import re\n",
    "import warnings\n",
    "warnings.filterwarnings(\"ignore\")\n",
    "pd.set_option(\"display.max_columns\", None)\n",
    "\n"
   ]
  },
  {
   "cell_type": "code",
   "execution_count": 2,
   "id": "29216552",
   "metadata": {},
   "outputs": [],
   "source": [
    "df = pd.read_json(\"stage1.json\")"
   ]
  },
  {
   "cell_type": "code",
   "execution_count": 3,
   "id": "d05a4324",
   "metadata": {},
   "outputs": [
    {
     "data": {
      "text/plain": [
       "Index(['make_model', 'body_type', 'price', 'vat', 'km', 'registration',\n",
       "       'prev_owner', 'hp', 'Type', 'Next Inspection', 'Inspection new',\n",
       "       'Warranty', 'Make', 'Model', 'First Registration', 'Body Color',\n",
       "       'Upholstery', 'Body', 'Nr. of Doors', 'Nr. of Seats', 'Gearing Type',\n",
       "       'Displacement', 'Weight', 'Drive chain', 'Consumption', 'CO2 Emission',\n",
       "       'Emission Class', '\\nComfort & Convenience\\n',\n",
       "       '\\nEntertainment & Media\\n', '\\nExtras\\n', '\\nSafety & Security\\n',\n",
       "       'Emission Label', 'Gears', 'Country version'],\n",
       "      dtype='object')"
      ]
     },
     "execution_count": 3,
     "metadata": {},
     "output_type": "execute_result"
    }
   ],
   "source": [
    "df.columns"
   ]
  },
  {
   "cell_type": "code",
   "execution_count": 4,
   "id": "cc8f9c52",
   "metadata": {},
   "outputs": [
    {
     "data": {
      "text/html": [
       "<div>\n",
       "<style scoped>\n",
       "    .dataframe tbody tr th:only-of-type {\n",
       "        vertical-align: middle;\n",
       "    }\n",
       "\n",
       "    .dataframe tbody tr th {\n",
       "        vertical-align: top;\n",
       "    }\n",
       "\n",
       "    .dataframe thead th {\n",
       "        text-align: right;\n",
       "    }\n",
       "</style>\n",
       "<table border=\"1\" class=\"dataframe\">\n",
       "  <thead>\n",
       "    <tr style=\"text-align: right;\">\n",
       "      <th></th>\n",
       "      <th>make_model</th>\n",
       "      <th>body_type</th>\n",
       "      <th>price</th>\n",
       "      <th>vat</th>\n",
       "      <th>km</th>\n",
       "      <th>registration</th>\n",
       "      <th>prev_owner</th>\n",
       "      <th>hp</th>\n",
       "      <th>Type</th>\n",
       "      <th>Next Inspection</th>\n",
       "      <th>Inspection new</th>\n",
       "      <th>Warranty</th>\n",
       "      <th>Make</th>\n",
       "      <th>Model</th>\n",
       "      <th>First Registration</th>\n",
       "      <th>Body Color</th>\n",
       "      <th>Upholstery</th>\n",
       "      <th>Body</th>\n",
       "      <th>Nr. of Doors</th>\n",
       "      <th>Nr. of Seats</th>\n",
       "      <th>Gearing Type</th>\n",
       "      <th>Displacement</th>\n",
       "      <th>Weight</th>\n",
       "      <th>Drive chain</th>\n",
       "      <th>Consumption</th>\n",
       "      <th>CO2 Emission</th>\n",
       "      <th>Emission Class</th>\n",
       "      <th>\\nComfort &amp; Convenience\\n</th>\n",
       "      <th>\\nEntertainment &amp; Media\\n</th>\n",
       "      <th>\\nExtras\\n</th>\n",
       "      <th>\\nSafety &amp; Security\\n</th>\n",
       "      <th>Emission Label</th>\n",
       "      <th>Gears</th>\n",
       "      <th>Country version</th>\n",
       "    </tr>\n",
       "  </thead>\n",
       "  <tbody>\n",
       "    <tr>\n",
       "      <th>0</th>\n",
       "      <td>Audi A1</td>\n",
       "      <td>Sedans</td>\n",
       "      <td>15770</td>\n",
       "      <td>VAT deductible</td>\n",
       "      <td>56,013 km</td>\n",
       "      <td>01/2016</td>\n",
       "      <td>2 previous owners</td>\n",
       "      <td>66 kW</td>\n",
       "      <td>[, Used, , Diesel (Particulate Filter)]</td>\n",
       "      <td>[\\n06/2021\\n, \\n99 g CO2/km (comb)\\n]</td>\n",
       "      <td>[\\nYes\\n, \\nEuro 6\\n]</td>\n",
       "      <td></td>\n",
       "      <td>\\nAudi\\n</td>\n",
       "      <td>[\\n, A1, \\n]</td>\n",
       "      <td>[\\n, 2016, \\n]</td>\n",
       "      <td>[\\n, Black, \\n]</td>\n",
       "      <td>[\\nCloth, Black\\n]</td>\n",
       "      <td>[\\n, Sedans, \\n]</td>\n",
       "      <td>[\\n5\\n]</td>\n",
       "      <td>[\\n5\\n]</td>\n",
       "      <td>[\\n, Automatic, \\n]</td>\n",
       "      <td>[\\n1,422 cc\\n]</td>\n",
       "      <td>[\\n1,220 kg\\n]</td>\n",
       "      <td>[\\nfront\\n]</td>\n",
       "      <td>[[3.8 l/100 km (comb)], [4.3 l/100 km (city)],...</td>\n",
       "      <td>[\\n99 g CO2/km (comb)\\n]</td>\n",
       "      <td>[\\nEuro 6\\n]</td>\n",
       "      <td>[Air conditioning, Armrest, Automatic climate ...</td>\n",
       "      <td>[Bluetooth, Hands-free equipment, On-board com...</td>\n",
       "      <td>[Alloy wheels, Catalytic Converter, Voice Cont...</td>\n",
       "      <td>[ABS, Central door lock, Daytime running light...</td>\n",
       "      <td>None</td>\n",
       "      <td>None</td>\n",
       "      <td>None</td>\n",
       "    </tr>\n",
       "    <tr>\n",
       "      <th>1</th>\n",
       "      <td>Audi A1</td>\n",
       "      <td>Sedans</td>\n",
       "      <td>14500</td>\n",
       "      <td>Price negotiable</td>\n",
       "      <td>80,000 km</td>\n",
       "      <td>03/2017</td>\n",
       "      <td>None</td>\n",
       "      <td>141 kW</td>\n",
       "      <td>[, Used, , Gasoline]</td>\n",
       "      <td>None</td>\n",
       "      <td>None</td>\n",
       "      <td>None</td>\n",
       "      <td>\\nAudi\\n</td>\n",
       "      <td>[\\n, A1, \\n]</td>\n",
       "      <td>[\\n, 2017, \\n]</td>\n",
       "      <td>[\\n, Red, \\n]</td>\n",
       "      <td>[\\nCloth, Grey\\n]</td>\n",
       "      <td>[\\n, Sedans, \\n]</td>\n",
       "      <td>[\\n3\\n]</td>\n",
       "      <td>[\\n4\\n]</td>\n",
       "      <td>[\\n, Automatic, \\n]</td>\n",
       "      <td>[\\n1,798 cc\\n]</td>\n",
       "      <td>[\\n1,255 kg\\n]</td>\n",
       "      <td>[\\nfront\\n]</td>\n",
       "      <td>[[5.6 l/100 km (comb)], [7.1 l/100 km (city)],...</td>\n",
       "      <td>[\\n129 g CO2/km (comb)\\n]</td>\n",
       "      <td>[\\nEuro 6\\n]</td>\n",
       "      <td>[Air conditioning, Automatic climate control, ...</td>\n",
       "      <td>[Bluetooth, Hands-free equipment, On-board com...</td>\n",
       "      <td>[Alloy wheels, Sport seats, Sport suspension, ...</td>\n",
       "      <td>[ABS, Central door lock, Central door lock wit...</td>\n",
       "      <td>[\\n4 (Green)\\n]</td>\n",
       "      <td>[\\n7\\n]</td>\n",
       "      <td>None</td>\n",
       "    </tr>\n",
       "    <tr>\n",
       "      <th>2</th>\n",
       "      <td>Audi A1</td>\n",
       "      <td>Sedans</td>\n",
       "      <td>14640</td>\n",
       "      <td>VAT deductible</td>\n",
       "      <td>83,450 km</td>\n",
       "      <td>02/2016</td>\n",
       "      <td>1 previous owner</td>\n",
       "      <td>85 kW</td>\n",
       "      <td>[, Used, , Diesel (Particulate Filter)]</td>\n",
       "      <td>None</td>\n",
       "      <td>None</td>\n",
       "      <td></td>\n",
       "      <td>\\nAudi\\n</td>\n",
       "      <td>[\\n, A1, \\n]</td>\n",
       "      <td>[\\n, 2016, \\n]</td>\n",
       "      <td>[\\n, Black, \\n]</td>\n",
       "      <td>[\\nCloth, Black\\n]</td>\n",
       "      <td>[\\n, Sedans, \\n]</td>\n",
       "      <td>[\\n4\\n]</td>\n",
       "      <td>[\\n4\\n]</td>\n",
       "      <td>[\\n, Automatic, \\n]</td>\n",
       "      <td>[\\n1,598 cc\\n]</td>\n",
       "      <td>None</td>\n",
       "      <td>[\\nfront\\n]</td>\n",
       "      <td>[[3.8 l/100 km (comb)], [4.4 l/100 km (city)],...</td>\n",
       "      <td>[\\n99 g CO2/km (comb)\\n]</td>\n",
       "      <td>[\\nEuro 6\\n]</td>\n",
       "      <td>[Air conditioning, Cruise control, Electrical ...</td>\n",
       "      <td>[MP3, On-board computer]</td>\n",
       "      <td>[Alloy wheels, Voice Control]</td>\n",
       "      <td>[ABS, Central door lock, Daytime running light...</td>\n",
       "      <td>[\\n4 (Green)\\n]</td>\n",
       "      <td>None</td>\n",
       "      <td>None</td>\n",
       "    </tr>\n",
       "    <tr>\n",
       "      <th>3</th>\n",
       "      <td>Audi A1</td>\n",
       "      <td>Sedans</td>\n",
       "      <td>14500</td>\n",
       "      <td>None</td>\n",
       "      <td>73,000 km</td>\n",
       "      <td>08/2016</td>\n",
       "      <td>1 previous owner</td>\n",
       "      <td>66 kW</td>\n",
       "      <td>[, Used, , Diesel (Particulate Filter)]</td>\n",
       "      <td>None</td>\n",
       "      <td>None</td>\n",
       "      <td>None</td>\n",
       "      <td>\\nAudi\\n</td>\n",
       "      <td>[\\n, A1, \\n]</td>\n",
       "      <td>[\\n, 2016, \\n]</td>\n",
       "      <td>[\\n, Brown, \\n]</td>\n",
       "      <td>None</td>\n",
       "      <td>[\\n, Sedans, \\n]</td>\n",
       "      <td>[\\n3\\n]</td>\n",
       "      <td>[\\n4\\n]</td>\n",
       "      <td>[\\n, Automatic, \\n]</td>\n",
       "      <td>[\\n1,422 cc\\n]</td>\n",
       "      <td>[\\n1,195 kg\\n]</td>\n",
       "      <td>None</td>\n",
       "      <td>[[3.8 l/100 km (comb)], [4.3 l/100 km (city)],...</td>\n",
       "      <td>[\\n99 g CO2/km (comb)\\n]</td>\n",
       "      <td>[\\nEuro 6\\n]</td>\n",
       "      <td>[Air suspension, Armrest, Auxiliary heating, E...</td>\n",
       "      <td>[Bluetooth, CD player, Hands-free equipment, M...</td>\n",
       "      <td>[Alloy wheels, Sport seats, Voice Control]</td>\n",
       "      <td>[ABS, Alarm system, Central door lock with rem...</td>\n",
       "      <td>None</td>\n",
       "      <td>[\\n6\\n]</td>\n",
       "      <td>None</td>\n",
       "    </tr>\n",
       "    <tr>\n",
       "      <th>4</th>\n",
       "      <td>Audi A1</td>\n",
       "      <td>Sedans</td>\n",
       "      <td>16790</td>\n",
       "      <td>None</td>\n",
       "      <td>16,200 km</td>\n",
       "      <td>05/2016</td>\n",
       "      <td>1 previous owner</td>\n",
       "      <td>66 kW</td>\n",
       "      <td>[, Used, , Diesel (Particulate Filter)]</td>\n",
       "      <td>None</td>\n",
       "      <td>[\\nYes\\n, \\n109 g CO2/km (comb)\\n]</td>\n",
       "      <td></td>\n",
       "      <td>\\nAudi\\n</td>\n",
       "      <td>[\\n, A1, \\n]</td>\n",
       "      <td>[\\n, 2016, \\n]</td>\n",
       "      <td>[\\n, Black, \\n]</td>\n",
       "      <td>[\\nCloth, Black\\n]</td>\n",
       "      <td>[\\n, Sedans, \\n]</td>\n",
       "      <td>[\\n5\\n]</td>\n",
       "      <td>[\\n5\\n]</td>\n",
       "      <td>[\\n, Automatic, \\n]</td>\n",
       "      <td>[\\n1,422 cc\\n]</td>\n",
       "      <td>None</td>\n",
       "      <td>[\\nfront\\n]</td>\n",
       "      <td>[[4.1 l/100 km (comb)], [4.6 l/100 km (city)],...</td>\n",
       "      <td>[\\n109 g CO2/km (comb)\\n]</td>\n",
       "      <td>[\\nEuro 6\\n]</td>\n",
       "      <td>[Air conditioning, Armrest, Automatic climate ...</td>\n",
       "      <td>[Bluetooth, CD player, Hands-free equipment, M...</td>\n",
       "      <td>[Alloy wheels, Sport package, Sport suspension...</td>\n",
       "      <td>[ABS, Central door lock, Driver-side airbag, E...</td>\n",
       "      <td>None</td>\n",
       "      <td>None</td>\n",
       "      <td>[\\nGermany\\n]</td>\n",
       "    </tr>\n",
       "  </tbody>\n",
       "</table>\n",
       "</div>"
      ],
      "text/plain": [
       "  make_model body_type  price               vat         km registration  \\\n",
       "0    Audi A1    Sedans  15770    VAT deductible  56,013 km      01/2016   \n",
       "1    Audi A1    Sedans  14500  Price negotiable  80,000 km      03/2017   \n",
       "2    Audi A1    Sedans  14640    VAT deductible  83,450 km      02/2016   \n",
       "3    Audi A1    Sedans  14500              None  73,000 km      08/2016   \n",
       "4    Audi A1    Sedans  16790              None  16,200 km      05/2016   \n",
       "\n",
       "          prev_owner      hp                                     Type  \\\n",
       "0  2 previous owners   66 kW  [, Used, , Diesel (Particulate Filter)]   \n",
       "1               None  141 kW                     [, Used, , Gasoline]   \n",
       "2   1 previous owner   85 kW  [, Used, , Diesel (Particulate Filter)]   \n",
       "3   1 previous owner   66 kW  [, Used, , Diesel (Particulate Filter)]   \n",
       "4   1 previous owner   66 kW  [, Used, , Diesel (Particulate Filter)]   \n",
       "\n",
       "                         Next Inspection                      Inspection new  \\\n",
       "0  [\\n06/2021\\n, \\n99 g CO2/km (comb)\\n]               [\\nYes\\n, \\nEuro 6\\n]   \n",
       "1                                   None                                None   \n",
       "2                                   None                                None   \n",
       "3                                   None                                None   \n",
       "4                                   None  [\\nYes\\n, \\n109 g CO2/km (comb)\\n]   \n",
       "\n",
       "  Warranty      Make         Model First Registration       Body Color  \\\n",
       "0           \\nAudi\\n  [\\n, A1, \\n]     [\\n, 2016, \\n]  [\\n, Black, \\n]   \n",
       "1     None  \\nAudi\\n  [\\n, A1, \\n]     [\\n, 2017, \\n]    [\\n, Red, \\n]   \n",
       "2           \\nAudi\\n  [\\n, A1, \\n]     [\\n, 2016, \\n]  [\\n, Black, \\n]   \n",
       "3     None  \\nAudi\\n  [\\n, A1, \\n]     [\\n, 2016, \\n]  [\\n, Brown, \\n]   \n",
       "4           \\nAudi\\n  [\\n, A1, \\n]     [\\n, 2016, \\n]  [\\n, Black, \\n]   \n",
       "\n",
       "           Upholstery              Body Nr. of Doors Nr. of Seats  \\\n",
       "0  [\\nCloth, Black\\n]  [\\n, Sedans, \\n]      [\\n5\\n]      [\\n5\\n]   \n",
       "1   [\\nCloth, Grey\\n]  [\\n, Sedans, \\n]      [\\n3\\n]      [\\n4\\n]   \n",
       "2  [\\nCloth, Black\\n]  [\\n, Sedans, \\n]      [\\n4\\n]      [\\n4\\n]   \n",
       "3                None  [\\n, Sedans, \\n]      [\\n3\\n]      [\\n4\\n]   \n",
       "4  [\\nCloth, Black\\n]  [\\n, Sedans, \\n]      [\\n5\\n]      [\\n5\\n]   \n",
       "\n",
       "          Gearing Type    Displacement          Weight  Drive chain  \\\n",
       "0  [\\n, Automatic, \\n]  [\\n1,422 cc\\n]  [\\n1,220 kg\\n]  [\\nfront\\n]   \n",
       "1  [\\n, Automatic, \\n]  [\\n1,798 cc\\n]  [\\n1,255 kg\\n]  [\\nfront\\n]   \n",
       "2  [\\n, Automatic, \\n]  [\\n1,598 cc\\n]            None  [\\nfront\\n]   \n",
       "3  [\\n, Automatic, \\n]  [\\n1,422 cc\\n]  [\\n1,195 kg\\n]         None   \n",
       "4  [\\n, Automatic, \\n]  [\\n1,422 cc\\n]            None  [\\nfront\\n]   \n",
       "\n",
       "                                         Consumption  \\\n",
       "0  [[3.8 l/100 km (comb)], [4.3 l/100 km (city)],...   \n",
       "1  [[5.6 l/100 km (comb)], [7.1 l/100 km (city)],...   \n",
       "2  [[3.8 l/100 km (comb)], [4.4 l/100 km (city)],...   \n",
       "3  [[3.8 l/100 km (comb)], [4.3 l/100 km (city)],...   \n",
       "4  [[4.1 l/100 km (comb)], [4.6 l/100 km (city)],...   \n",
       "\n",
       "                CO2 Emission Emission Class  \\\n",
       "0   [\\n99 g CO2/km (comb)\\n]   [\\nEuro 6\\n]   \n",
       "1  [\\n129 g CO2/km (comb)\\n]   [\\nEuro 6\\n]   \n",
       "2   [\\n99 g CO2/km (comb)\\n]   [\\nEuro 6\\n]   \n",
       "3   [\\n99 g CO2/km (comb)\\n]   [\\nEuro 6\\n]   \n",
       "4  [\\n109 g CO2/km (comb)\\n]   [\\nEuro 6\\n]   \n",
       "\n",
       "                           \\nComfort & Convenience\\n  \\\n",
       "0  [Air conditioning, Armrest, Automatic climate ...   \n",
       "1  [Air conditioning, Automatic climate control, ...   \n",
       "2  [Air conditioning, Cruise control, Electrical ...   \n",
       "3  [Air suspension, Armrest, Auxiliary heating, E...   \n",
       "4  [Air conditioning, Armrest, Automatic climate ...   \n",
       "\n",
       "                           \\nEntertainment & Media\\n  \\\n",
       "0  [Bluetooth, Hands-free equipment, On-board com...   \n",
       "1  [Bluetooth, Hands-free equipment, On-board com...   \n",
       "2                           [MP3, On-board computer]   \n",
       "3  [Bluetooth, CD player, Hands-free equipment, M...   \n",
       "4  [Bluetooth, CD player, Hands-free equipment, M...   \n",
       "\n",
       "                                          \\nExtras\\n  \\\n",
       "0  [Alloy wheels, Catalytic Converter, Voice Cont...   \n",
       "1  [Alloy wheels, Sport seats, Sport suspension, ...   \n",
       "2                      [Alloy wheels, Voice Control]   \n",
       "3         [Alloy wheels, Sport seats, Voice Control]   \n",
       "4  [Alloy wheels, Sport package, Sport suspension...   \n",
       "\n",
       "                               \\nSafety & Security\\n   Emission Label  \\\n",
       "0  [ABS, Central door lock, Daytime running light...             None   \n",
       "1  [ABS, Central door lock, Central door lock wit...  [\\n4 (Green)\\n]   \n",
       "2  [ABS, Central door lock, Daytime running light...  [\\n4 (Green)\\n]   \n",
       "3  [ABS, Alarm system, Central door lock with rem...             None   \n",
       "4  [ABS, Central door lock, Driver-side airbag, E...             None   \n",
       "\n",
       "     Gears Country version  \n",
       "0     None            None  \n",
       "1  [\\n7\\n]            None  \n",
       "2     None            None  \n",
       "3  [\\n6\\n]            None  \n",
       "4     None   [\\nGermany\\n]  "
      ]
     },
     "execution_count": 4,
     "metadata": {},
     "output_type": "execute_result"
    }
   ],
   "source": [
    "df.head()"
   ]
  },
  {
   "cell_type": "markdown",
   "id": "a8ad586d",
   "metadata": {},
   "source": []
  },
  {
   "cell_type": "code",
   "execution_count": 5,
   "id": "a6ef98ad",
   "metadata": {},
   "outputs": [
    {
     "data": {
      "text/plain": [
       "(15919, 34)"
      ]
     },
     "execution_count": 5,
     "metadata": {},
     "output_type": "execute_result"
    }
   ],
   "source": [
    "df.shape"
   ]
  },
  {
   "cell_type": "code",
   "execution_count": 6,
   "id": "8b2e71d2",
   "metadata": {},
   "outputs": [
    {
     "data": {
      "text/plain": [
       "(15919, 34)"
      ]
     },
     "execution_count": 6,
     "metadata": {},
     "output_type": "execute_result"
    }
   ],
   "source": [
    "df.shape"
   ]
  },
  {
   "cell_type": "markdown",
   "id": "e96bd5ec",
   "metadata": {},
   "source": [
    "### make_model \n",
    "**Bu sütunda yer alan veriler üzerinde herhangi bir cleaning işlemi yapmaya gerek yok.**"
   ]
  },
  {
   "cell_type": "code",
   "execution_count": 7,
   "id": "7d29095c",
   "metadata": {
    "scrolled": true
   },
   "outputs": [
    {
     "data": {
      "text/plain": [
       "8986         Opel Corsa\n",
       "8456         Opel Corsa\n",
       "2157            Audi A1\n",
       "15101    Renault Espace\n",
       "1820            Audi A1\n",
       "Name: make_model, dtype: object"
      ]
     },
     "execution_count": 7,
     "metadata": {},
     "output_type": "execute_result"
    }
   ],
   "source": [
    "df.make_model.sample(5)\n",
    "    "
   ]
  },
  {
   "cell_type": "code",
   "execution_count": null,
   "id": "13767765",
   "metadata": {},
   "outputs": [],
   "source": []
  },
  {
   "cell_type": "code",
   "execution_count": 8,
   "id": "99a0e62e",
   "metadata": {},
   "outputs": [
    {
     "data": {
      "text/plain": [
       "0"
      ]
     },
     "execution_count": 8,
     "metadata": {},
     "output_type": "execute_result"
    }
   ],
   "source": [
    "df.make_model.isnull().sum()"
   ]
  },
  {
   "cell_type": "markdown",
   "id": "d8d5d978",
   "metadata": {},
   "source": [
    "### body_type\n",
    "**bu sütun üzerinde data cleaning işlemi yapmaya gerek yok."
   ]
  },
  {
   "cell_type": "code",
   "execution_count": 9,
   "id": "229452ca",
   "metadata": {},
   "outputs": [
    {
     "data": {
      "text/plain": [
       "60"
      ]
     },
     "execution_count": 9,
     "metadata": {},
     "output_type": "execute_result"
    }
   ],
   "source": [
    "df.body_type.isnull().sum()"
   ]
  },
  {
   "cell_type": "code",
   "execution_count": 10,
   "id": "4a3eb346",
   "metadata": {},
   "outputs": [
    {
     "data": {
      "text/plain": [
       "Sedans           7903\n",
       "Station wagon    3553\n",
       "Compact          3153\n",
       "Van               783\n",
       "Other             290\n",
       "Transporter        88\n",
       "NaN                60\n",
       "Off-Road           56\n",
       "Coupe              25\n",
       "Convertible         8\n",
       "Name: body_type, dtype: int64"
      ]
     },
     "execution_count": 10,
     "metadata": {},
     "output_type": "execute_result"
    }
   ],
   "source": [
    "df.body_type.value_counts(dropna = False)\n"
   ]
  },
  {
   "cell_type": "code",
   "execution_count": 11,
   "id": "4e7f1764",
   "metadata": {},
   "outputs": [
    {
     "data": {
      "text/plain": [
       "Sedans           2598\n",
       "Station wagon     282\n",
       "Compact           182\n",
       "Other              16\n",
       "Convertible         8\n",
       "NaN                 7\n",
       "Coupe               4\n",
       "Name: body_type, dtype: int64"
      ]
     },
     "execution_count": 11,
     "metadata": {},
     "output_type": "execute_result"
    }
   ],
   "source": [
    "df[df.make_model == 'Audi A3'].body_type.value_counts(dropna = False)"
   ]
  },
  {
   "cell_type": "code",
   "execution_count": 12,
   "id": "5ba250ec",
   "metadata": {},
   "outputs": [
    {
     "data": {
      "text/plain": [
       "Sedans           7963\n",
       "Station wagon    3553\n",
       "Compact          3153\n",
       "Van               783\n",
       "Other             290\n",
       "Transporter        88\n",
       "Off-Road           56\n",
       "Coupe              25\n",
       "Convertible         8\n",
       "Name: body_type, dtype: int64"
      ]
     },
     "execution_count": 12,
     "metadata": {},
     "output_type": "execute_result"
    }
   ],
   "source": [
    "\n",
    "imputer = SimpleImputer(missing_values=None, strategy='most_frequent')\n",
    "\n",
    "df.body_type = imputer.fit_transform(df['body_type'].values.reshape(-1,1))[:,0]\n",
    "\n",
    "df.body_type.value_counts(dropna=False)\n",
    "\n",
    "\n"
   ]
  },
  {
   "cell_type": "code",
   "execution_count": 13,
   "id": "8672e95c",
   "metadata": {},
   "outputs": [
    {
     "data": {
      "text/plain": [
       "Sedans           8253\n",
       "Station wagon    3553\n",
       "Compact          3153\n",
       "Van               783\n",
       "Transporter        88\n",
       "Off-Road           56\n",
       "Coupe              25\n",
       "Convertible         8\n",
       "Name: body_type, dtype: int64"
      ]
     },
     "execution_count": 13,
     "metadata": {},
     "output_type": "execute_result"
    }
   ],
   "source": [
    "imputer = SimpleImputer(missing_values='Other', strategy='most_frequent')\n",
    "\n",
    "df.body_type = imputer.fit_transform(df[['body_type']].values)[:,0]\n",
    "\n",
    "df.body_type.value_counts(dropna=False)\n",
    "\n",
    "# df[['body_type']].values ile tek boyutlu diziyi yine çift boyutlu yapmış olduk. "
   ]
  },
  {
   "cell_type": "code",
   "execution_count": 14,
   "id": "5b5c416e",
   "metadata": {},
   "outputs": [
    {
     "data": {
      "text/plain": [
       "1"
      ]
     },
     "execution_count": 14,
     "metadata": {},
     "output_type": "execute_result"
    }
   ],
   "source": [
    "df['body_type'].values.ndim"
   ]
  },
  {
   "cell_type": "code",
   "execution_count": 15,
   "id": "5b892100",
   "metadata": {},
   "outputs": [
    {
     "data": {
      "text/plain": [
       "2"
      ]
     },
     "execution_count": 15,
     "metadata": {},
     "output_type": "execute_result"
    }
   ],
   "source": [
    "df['body_type'].values.reshape(-1,1).ndim"
   ]
  },
  {
   "cell_type": "code",
   "execution_count": 16,
   "id": "fc7f2831",
   "metadata": {},
   "outputs": [
    {
     "data": {
      "text/plain": [
       "array([['Sedans'],\n",
       "       ['Sedans'],\n",
       "       ['Sedans'],\n",
       "       ...,\n",
       "       ['Van'],\n",
       "       ['Van'],\n",
       "       ['Van']], dtype=object)"
      ]
     },
     "execution_count": 16,
     "metadata": {},
     "output_type": "execute_result"
    }
   ],
   "source": [
    "df[['body_type']].values\n"
   ]
  },
  {
   "cell_type": "code",
   "execution_count": 17,
   "id": "8b226a59",
   "metadata": {},
   "outputs": [
    {
     "data": {
      "text/html": [
       "<div>\n",
       "<style scoped>\n",
       "    .dataframe tbody tr th:only-of-type {\n",
       "        vertical-align: middle;\n",
       "    }\n",
       "\n",
       "    .dataframe tbody tr th {\n",
       "        vertical-align: top;\n",
       "    }\n",
       "\n",
       "    .dataframe thead th {\n",
       "        text-align: right;\n",
       "    }\n",
       "</style>\n",
       "<table border=\"1\" class=\"dataframe\">\n",
       "  <thead>\n",
       "    <tr style=\"text-align: right;\">\n",
       "      <th></th>\n",
       "      <th>body_type</th>\n",
       "      <th>make_model</th>\n",
       "    </tr>\n",
       "  </thead>\n",
       "  <tbody>\n",
       "  </tbody>\n",
       "</table>\n",
       "</div>"
      ],
      "text/plain": [
       "Empty DataFrame\n",
       "Columns: [body_type, make_model]\n",
       "Index: []"
      ]
     },
     "execution_count": 17,
     "metadata": {},
     "output_type": "execute_result"
    }
   ],
   "source": [
    "df[(df.body_type.isnull())&(df.make_model == 'Audi A3')][['body_type','make_model']]\n"
   ]
  },
  {
   "cell_type": "code",
   "execution_count": 18,
   "id": "50ef8aea",
   "metadata": {},
   "outputs": [
    {
     "data": {
      "text/plain": [
       "Index(['make_model', 'body_type', 'price', 'vat', 'km', 'registration',\n",
       "       'prev_owner', 'hp', 'Type', 'Next Inspection', 'Inspection new',\n",
       "       'Warranty', 'Make', 'Model', 'First Registration', 'Body Color',\n",
       "       'Upholstery', 'Body', 'Nr. of Doors', 'Nr. of Seats', 'Gearing Type',\n",
       "       'Displacement', 'Weight', 'Drive chain', 'Consumption', 'CO2 Emission',\n",
       "       'Emission Class', '\\nComfort & Convenience\\n',\n",
       "       '\\nEntertainment & Media\\n', '\\nExtras\\n', '\\nSafety & Security\\n',\n",
       "       'Emission Label', 'Gears', 'Country version'],\n",
       "      dtype='object')"
      ]
     },
     "execution_count": 18,
     "metadata": {},
     "output_type": "execute_result"
    }
   ],
   "source": [
    "df.columns"
   ]
  },
  {
   "cell_type": "markdown",
   "id": "8c512860",
   "metadata": {},
   "source": [
    "### price"
   ]
  },
  {
   "cell_type": "markdown",
   "id": "c190dc19",
   "metadata": {},
   "source": [
    "**Bu sütunda integer değerler var ve veri tipi de integer. Null değerler yok fakat outlier değerler var.**"
   ]
  },
  {
   "cell_type": "code",
   "execution_count": 19,
   "id": "c0b7b3bc",
   "metadata": {},
   "outputs": [
    {
     "data": {
      "text/plain": [
       "dtype('int64')"
      ]
     },
     "execution_count": 19,
     "metadata": {},
     "output_type": "execute_result"
    }
   ],
   "source": [
    "df.price.dtype"
   ]
  },
  {
   "cell_type": "code",
   "execution_count": 20,
   "id": "3bb5342d",
   "metadata": {},
   "outputs": [
    {
     "data": {
      "text/plain": [
       "0"
      ]
     },
     "execution_count": 20,
     "metadata": {},
     "output_type": "execute_result"
    }
   ],
   "source": [
    "df.price.isnull().sum()"
   ]
  },
  {
   "cell_type": "code",
   "execution_count": 21,
   "id": "560eee2f",
   "metadata": {},
   "outputs": [],
   "source": [
    "min_price,max_price = min(df.price), max(df.price)"
   ]
  },
  {
   "cell_type": "code",
   "execution_count": 22,
   "id": "a0734c33",
   "metadata": {},
   "outputs": [
    {
     "data": {
      "text/plain": [
       "[13, 74600]"
      ]
     },
     "execution_count": 22,
     "metadata": {},
     "output_type": "execute_result"
    }
   ],
   "source": [
    "[min_price,max_price]"
   ]
  },
  {
   "cell_type": "code",
   "execution_count": 23,
   "id": "7ec46687",
   "metadata": {},
   "outputs": [
    {
     "data": {
      "image/png": "[encoded data removed]",
      "text/plain": [
       "<Figure size 864x432 with 1 Axes>"
      ]
     },
     "metadata": {
      "needs_background": "light"
     },
     "output_type": "display_data"
    }
   ],
   "source": [
    "plt.figure(figsize = (12,6))\n",
    "sns.boxplot(data = df, y = np.log(df.price), x = 'make_model', whis = 2);\n",
    "plt.xticks(rotation = 45);"
   ]
  },
  {
   "cell_type": "code",
   "execution_count": 24,
   "id": "7bff0d35",
   "metadata": {
    "scrolled": true
   },
   "outputs": [
    {
     "data": {
      "text/html": [
       "<div>\n",
       "<style scoped>\n",
       "    .dataframe tbody tr th:only-of-type {\n",
       "        vertical-align: middle;\n",
       "    }\n",
       "\n",
       "    .dataframe tbody tr th {\n",
       "        vertical-align: top;\n",
       "    }\n",
       "\n",
       "    .dataframe thead th {\n",
       "        text-align: right;\n",
       "    }\n",
       "</style>\n",
       "<table border=\"1\" class=\"dataframe\">\n",
       "  <thead>\n",
       "    <tr style=\"text-align: right;\">\n",
       "      <th></th>\n",
       "      <th>make_model</th>\n",
       "      <th>body_type</th>\n",
       "      <th>price</th>\n",
       "      <th>vat</th>\n",
       "      <th>km</th>\n",
       "      <th>registration</th>\n",
       "      <th>prev_owner</th>\n",
       "      <th>hp</th>\n",
       "      <th>Type</th>\n",
       "      <th>Next Inspection</th>\n",
       "      <th>Inspection new</th>\n",
       "      <th>Warranty</th>\n",
       "      <th>Make</th>\n",
       "      <th>Model</th>\n",
       "      <th>First Registration</th>\n",
       "      <th>Body Color</th>\n",
       "      <th>Upholstery</th>\n",
       "      <th>Body</th>\n",
       "      <th>Nr. of Doors</th>\n",
       "      <th>Nr. of Seats</th>\n",
       "      <th>Gearing Type</th>\n",
       "      <th>Displacement</th>\n",
       "      <th>Weight</th>\n",
       "      <th>Drive chain</th>\n",
       "      <th>Consumption</th>\n",
       "      <th>CO2 Emission</th>\n",
       "      <th>Emission Class</th>\n",
       "      <th>\\nComfort &amp; Convenience\\n</th>\n",
       "      <th>\\nEntertainment &amp; Media\\n</th>\n",
       "      <th>\\nExtras\\n</th>\n",
       "      <th>\\nSafety &amp; Security\\n</th>\n",
       "      <th>Emission Label</th>\n",
       "      <th>Gears</th>\n",
       "      <th>Country version</th>\n",
       "    </tr>\n",
       "  </thead>\n",
       "  <tbody>\n",
       "    <tr>\n",
       "      <th>8594</th>\n",
       "      <td>Opel Corsa</td>\n",
       "      <td>Sedans</td>\n",
       "      <td>13</td>\n",
       "      <td>None</td>\n",
       "      <td>123 km</td>\n",
       "      <td>06/2018</td>\n",
       "      <td>None</td>\n",
       "      <td>66 kW</td>\n",
       "      <td>[, Used, , Gasoline]</td>\n",
       "      <td>None</td>\n",
       "      <td>None</td>\n",
       "      <td>None</td>\n",
       "      <td>\\nOpel\\n</td>\n",
       "      <td>[\\n, Corsa, \\n]</td>\n",
       "      <td>[\\n, 2018, \\n]</td>\n",
       "      <td>[\\n, Gold, \\n]</td>\n",
       "      <td>None</td>\n",
       "      <td>[\\n, Sedans, \\n]</td>\n",
       "      <td>[\\n3\\n]</td>\n",
       "      <td>[\\n5\\n]</td>\n",
       "      <td>[\\n, Manual, \\n]</td>\n",
       "      <td>[\\n1,398 cc\\n]</td>\n",
       "      <td>[\\n1,141 kg\\n]</td>\n",
       "      <td>None</td>\n",
       "      <td>[[5.6 l/100 km (comb)], [6.8 l/100 km (city)],...</td>\n",
       "      <td>[\\n128 g CO2/km (comb)\\n]</td>\n",
       "      <td>[\\nEuro 6d-TEMP\\n]</td>\n",
       "      <td>[Air conditioning, Cruise control, Electrical ...</td>\n",
       "      <td>[Bluetooth, CD player, Hands-free equipment, M...</td>\n",
       "      <td>[Alloy wheels]</td>\n",
       "      <td>[ABS, Adaptive headlights, Central door lock w...</td>\n",
       "      <td>None</td>\n",
       "      <td>[\\n5\\n]</td>\n",
       "      <td>None</td>\n",
       "    </tr>\n",
       "  </tbody>\n",
       "</table>\n",
       "</div>"
      ],
      "text/plain": [
       "      make_model body_type  price   vat      km registration prev_owner  \\\n",
       "8594  Opel Corsa    Sedans     13  None  123 km      06/2018       None   \n",
       "\n",
       "         hp                  Type Next Inspection Inspection new Warranty  \\\n",
       "8594  66 kW  [, Used, , Gasoline]            None           None     None   \n",
       "\n",
       "          Make            Model First Registration      Body Color Upholstery  \\\n",
       "8594  \\nOpel\\n  [\\n, Corsa, \\n]     [\\n, 2018, \\n]  [\\n, Gold, \\n]       None   \n",
       "\n",
       "                  Body Nr. of Doors Nr. of Seats      Gearing Type  \\\n",
       "8594  [\\n, Sedans, \\n]      [\\n3\\n]      [\\n5\\n]  [\\n, Manual, \\n]   \n",
       "\n",
       "        Displacement          Weight Drive chain  \\\n",
       "8594  [\\n1,398 cc\\n]  [\\n1,141 kg\\n]        None   \n",
       "\n",
       "                                            Consumption  \\\n",
       "8594  [[5.6 l/100 km (comb)], [6.8 l/100 km (city)],...   \n",
       "\n",
       "                   CO2 Emission      Emission Class  \\\n",
       "8594  [\\n128 g CO2/km (comb)\\n]  [\\nEuro 6d-TEMP\\n]   \n",
       "\n",
       "                              \\nComfort & Convenience\\n  \\\n",
       "8594  [Air conditioning, Cruise control, Electrical ...   \n",
       "\n",
       "                              \\nEntertainment & Media\\n      \\nExtras\\n  \\\n",
       "8594  [Bluetooth, CD player, Hands-free equipment, M...  [Alloy wheels]   \n",
       "\n",
       "                                  \\nSafety & Security\\n Emission Label  \\\n",
       "8594  [ABS, Adaptive headlights, Central door lock w...           None   \n",
       "\n",
       "        Gears Country version  \n",
       "8594  [\\n5\\n]            None  "
      ]
     },
     "execution_count": 24,
     "metadata": {},
     "output_type": "execute_result"
    }
   ],
   "source": [
    "df[df.price == df.price.min()]"
   ]
  },
  {
   "cell_type": "code",
   "execution_count": 25,
   "id": "22c2fdba",
   "metadata": {},
   "outputs": [
    {
     "data": {
      "text/plain": [
       "8594     13\n",
       "8828    120\n",
       "6066    255\n",
       "8829    331\n",
       "Name: price, dtype: int64"
      ]
     },
     "execution_count": 25,
     "metadata": {},
     "output_type": "execute_result"
    }
   ],
   "source": [
    "df.price.nsmallest(4)"
   ]
  },
  {
   "cell_type": "code",
   "execution_count": 26,
   "id": "8a8e38a2",
   "metadata": {},
   "outputs": [
    {
     "data": {
      "text/plain": [
       "3648     74600\n",
       "15826    68320\n",
       "3649     67600\n",
       "3587     64900\n",
       "Name: price, dtype: int64"
      ]
     },
     "execution_count": 26,
     "metadata": {},
     "output_type": "execute_result"
    }
   ],
   "source": [
    "df.price.nlargest(4)"
   ]
  },
  {
   "cell_type": "code",
   "execution_count": 27,
   "id": "1a38fd6b",
   "metadata": {},
   "outputs": [],
   "source": [
    "outlier_price = list(df.price.sort_values().head(4).index)"
   ]
  },
  {
   "cell_type": "code",
   "execution_count": 28,
   "id": "916ffb60",
   "metadata": {},
   "outputs": [],
   "source": [
    "df.drop(index=outlier_price,axis=0,inplace=True)"
   ]
  },
  {
   "cell_type": "code",
   "execution_count": 29,
   "id": "4115765b",
   "metadata": {},
   "outputs": [
    {
     "data": {
      "image/png": "[encoded data removed]",
      "text/plain": [
       "<Figure size 864x432 with 1 Axes>"
      ]
     },
     "metadata": {
      "needs_background": "light"
     },
     "output_type": "display_data"
    }
   ],
   "source": [
    "plt.figure(figsize = (12,6))\n",
    "sns.boxplot(data = df, y = np.log(df.price), x = 'make_model', whis = 2.3);\n",
    "plt.xticks(rotation = 45);"
   ]
  },
  {
   "cell_type": "markdown",
   "id": "bbf8efa6",
   "metadata": {},
   "source": [
    "**Outlier değerler var bunlar ile daha sonra ilgileneceğiz. Outlier değerleri tespit edip bunlar ile ilgili \n",
    "karar vereceğiz.**"
   ]
  },
  {
   "cell_type": "markdown",
   "id": "0b0a7b3f",
   "metadata": {},
   "source": [
    "### vat \n",
    "**bu sütunda yer alan değerler için web sitesini incelediğimiz zaman 2 farklı seçenek vardı.\n",
    "bunlardan null olanları false diğerlerini True yaptık.** "
   ]
  },
  {
   "cell_type": "code",
   "execution_count": 30,
   "id": "956b845f",
   "metadata": {},
   "outputs": [
    {
     "data": {
      "text/plain": [
       "3902               None\n",
       "4906     VAT deductible\n",
       "12499    VAT deductible\n",
       "12578    VAT deductible\n",
       "11208              None\n",
       "Name: vat, dtype: object"
      ]
     },
     "execution_count": 30,
     "metadata": {},
     "output_type": "execute_result"
    }
   ],
   "source": [
    "df.vat.sample(5)"
   ]
  },
  {
   "cell_type": "code",
   "execution_count": 31,
   "id": "3ab26f96",
   "metadata": {},
   "outputs": [
    {
     "data": {
      "text/plain": [
       "array(['VAT deductible', 'Price negotiable', None], dtype=object)"
      ]
     },
     "execution_count": 31,
     "metadata": {},
     "output_type": "execute_result"
    }
   ],
   "source": [
    "df.vat.unique()"
   ]
  },
  {
   "cell_type": "code",
   "execution_count": 32,
   "id": "2954126b",
   "metadata": {},
   "outputs": [
    {
     "data": {
      "text/plain": [
       "VAT deductible      10980\n",
       "Price negotiable      426\n",
       "Name: vat, dtype: int64"
      ]
     },
     "execution_count": 32,
     "metadata": {},
     "output_type": "execute_result"
    }
   ],
   "source": [
    "df.vat.value_counts()"
   ]
  },
  {
   "cell_type": "code",
   "execution_count": 33,
   "id": "e709b061",
   "metadata": {},
   "outputs": [
    {
     "data": {
      "text/plain": [
       "4509"
      ]
     },
     "execution_count": 33,
     "metadata": {},
     "output_type": "execute_result"
    }
   ],
   "source": [
    "df.vat.isnull().sum()"
   ]
  },
  {
   "cell_type": "code",
   "execution_count": 34,
   "id": "f0b16ed3",
   "metadata": {},
   "outputs": [
    {
     "data": {
      "text/plain": [
       "NoneType"
      ]
     },
     "execution_count": 34,
     "metadata": {},
     "output_type": "execute_result"
    }
   ],
   "source": [
    "type(df.vat[4])"
   ]
  },
  {
   "cell_type": "code",
   "execution_count": 35,
   "id": "52de0f35",
   "metadata": {},
   "outputs": [],
   "source": [
    "df.vat = df.vat.map(lambda x: 0 if x == None else 1)"
   ]
  },
  {
   "cell_type": "code",
   "execution_count": 36,
   "id": "8298ee6a",
   "metadata": {},
   "outputs": [
    {
     "data": {
      "text/plain": [
       "1    11406\n",
       "0     4509\n",
       "Name: vat, dtype: int64"
      ]
     },
     "execution_count": 36,
     "metadata": {},
     "output_type": "execute_result"
    }
   ],
   "source": [
    "df.vat.value_counts()"
   ]
  },
  {
   "cell_type": "code",
   "execution_count": 37,
   "id": "c723891a",
   "metadata": {},
   "outputs": [
    {
     "data": {
      "text/plain": [
       "False"
      ]
     },
     "execution_count": 37,
     "metadata": {},
     "output_type": "execute_result"
    }
   ],
   "source": [
    "np.nan == np.nan  # np.nan özel bir değer. kendisine bile eşit değil."
   ]
  },
  {
   "cell_type": "code",
   "execution_count": 38,
   "id": "7326d141",
   "metadata": {},
   "outputs": [
    {
     "data": {
      "text/plain": [
       "float"
      ]
     },
     "execution_count": 38,
     "metadata": {},
     "output_type": "execute_result"
    }
   ],
   "source": [
    "type(np.nan)  # değer tipi olarak float döndürür."
   ]
  },
  {
   "cell_type": "markdown",
   "id": "f710b42c",
   "metadata": {},
   "source": [
    "### km \n",
    "**sütunu string veri tipinde. Bu sütunu temizleyip integer veri tipine çevirmeliyiz.** "
   ]
  },
  {
   "cell_type": "code",
   "execution_count": 39,
   "id": "397ae366",
   "metadata": {},
   "outputs": [
    {
     "data": {
      "text/plain": [
       "0        56,013 km\n",
       "1        80,000 km\n",
       "2        83,450 km\n",
       "3        73,000 km\n",
       "4        16,200 km\n",
       "           ...    \n",
       "15914         - km\n",
       "15915     9,900 km\n",
       "15916        15 km\n",
       "15917        10 km\n",
       "15918         - km\n",
       "Name: km, Length: 15915, dtype: object"
      ]
     },
     "execution_count": 39,
     "metadata": {},
     "output_type": "execute_result"
    }
   ],
   "source": [
    "df.km"
   ]
  },
  {
   "cell_type": "code",
   "execution_count": 40,
   "id": "1a98bdd2",
   "metadata": {},
   "outputs": [],
   "source": [
    "df.km = df.km.str.replace(',','').str.strip(' km').replace('-', np.nan).astype(float)\n"
   ]
  },
  {
   "cell_type": "code",
   "execution_count": 41,
   "id": "b96625d3",
   "metadata": {},
   "outputs": [
    {
     "data": {
      "text/plain": [
       "0        56013.0\n",
       "1        80000.0\n",
       "2        83450.0\n",
       "3        73000.0\n",
       "4        16200.0\n",
       "          ...   \n",
       "15914        NaN\n",
       "15915     9900.0\n",
       "15916       15.0\n",
       "15917       10.0\n",
       "15918        NaN\n",
       "Name: km, Length: 15915, dtype: float64"
      ]
     },
     "execution_count": 41,
     "metadata": {},
     "output_type": "execute_result"
    }
   ],
   "source": [
    "df.km"
   ]
  },
  {
   "cell_type": "markdown",
   "id": "255cad0e",
   "metadata": {},
   "source": [
    "**km sütunu içinde yer alan non-integer ifadeler temizlendi. Yerlerine nan değerler atandı. Nan değerlerin yerine**\n",
    "**diğer sütunlar incelendikten sonra ortalama bir km değeri atamayı planlıyoruz. Şimdilik işlem yapılmadı.**"
   ]
  },
  {
   "cell_type": "code",
   "execution_count": 42,
   "id": "7363c416",
   "metadata": {},
   "outputs": [
    {
     "data": {
      "text/plain": [
       "1024"
      ]
     },
     "execution_count": 42,
     "metadata": {},
     "output_type": "execute_result"
    }
   ],
   "source": [
    "df.km.isnull().sum()"
   ]
  },
  {
   "cell_type": "code",
   "execution_count": 43,
   "id": "93788d05",
   "metadata": {},
   "outputs": [
    {
     "ename": "TypeError",
     "evalue": "unhashable type: 'list'",
     "output_type": "error",
     "traceback": [
      "\u001b[1;31m---------------------------------------------------------------------------\u001b[0m",
      "\u001b[1;31mTypeError\u001b[0m                                 Traceback (most recent call last)",
      "\u001b[1;32mpandas\\_libs\\hashtable_class_helper.pxi\u001b[0m in \u001b[0;36mpandas._libs.hashtable.PyObjectHashTable.map_locations\u001b[1;34m()\u001b[0m\n",
      "\u001b[1;31mTypeError\u001b[0m: unhashable type: 'list'"
     ]
    },
    {
     "name": "stderr",
     "output_type": "stream",
     "text": [
      "Exception ignored in: 'pandas._libs.index.IndexEngine._call_map_locations'\n",
      "Traceback (most recent call last):\n",
      "  File \"pandas\\_libs\\hashtable_class_helper.pxi\", line 5231, in pandas._libs.hashtable.PyObjectHashTable.map_locations\n",
      "TypeError: unhashable type: 'list'\n"
     ]
    },
    {
     "data": {
      "text/plain": [
       "NaN               838\n",
       "[\\n, 2019, \\n]    147\n",
       "[\\n, 2018, \\n]     38\n",
       "[\\n, 2017, \\n]      1\n",
       "Name: First Registration, dtype: int64"
      ]
     },
     "execution_count": 43,
     "metadata": {},
     "output_type": "execute_result"
    }
   ],
   "source": [
    "df[df.km.isnull()]['First Registration'].value_counts(dropna= False)"
   ]
  },
  {
   "cell_type": "code",
   "execution_count": 44,
   "id": "040ffe4a",
   "metadata": {},
   "outputs": [],
   "source": [
    "df_km = df.km.fillna(0)"
   ]
  },
  {
   "cell_type": "code",
   "execution_count": 45,
   "id": "46ac7740",
   "metadata": {},
   "outputs": [
    {
     "data": {
      "text/html": [
       "<div>\n",
       "<style scoped>\n",
       "    .dataframe tbody tr th:only-of-type {\n",
       "        vertical-align: middle;\n",
       "    }\n",
       "\n",
       "    .dataframe tbody tr th {\n",
       "        vertical-align: top;\n",
       "    }\n",
       "\n",
       "    .dataframe thead th {\n",
       "        text-align: right;\n",
       "    }\n",
       "</style>\n",
       "<table border=\"1\" class=\"dataframe\">\n",
       "  <thead>\n",
       "    <tr style=\"text-align: right;\">\n",
       "      <th></th>\n",
       "      <th>make_model</th>\n",
       "      <th>body_type</th>\n",
       "      <th>price</th>\n",
       "      <th>vat</th>\n",
       "      <th>km</th>\n",
       "      <th>registration</th>\n",
       "      <th>prev_owner</th>\n",
       "      <th>hp</th>\n",
       "      <th>Type</th>\n",
       "      <th>Next Inspection</th>\n",
       "      <th>Inspection new</th>\n",
       "      <th>Warranty</th>\n",
       "      <th>Make</th>\n",
       "      <th>Model</th>\n",
       "      <th>First Registration</th>\n",
       "      <th>Body Color</th>\n",
       "      <th>Upholstery</th>\n",
       "      <th>Body</th>\n",
       "      <th>Nr. of Doors</th>\n",
       "      <th>Nr. of Seats</th>\n",
       "      <th>Gearing Type</th>\n",
       "      <th>Displacement</th>\n",
       "      <th>Weight</th>\n",
       "      <th>Drive chain</th>\n",
       "      <th>Consumption</th>\n",
       "      <th>CO2 Emission</th>\n",
       "      <th>Emission Class</th>\n",
       "      <th>\\nComfort &amp; Convenience\\n</th>\n",
       "      <th>\\nEntertainment &amp; Media\\n</th>\n",
       "      <th>\\nExtras\\n</th>\n",
       "      <th>\\nSafety &amp; Security\\n</th>\n",
       "      <th>Emission Label</th>\n",
       "      <th>Gears</th>\n",
       "      <th>Country version</th>\n",
       "    </tr>\n",
       "  </thead>\n",
       "  <tbody>\n",
       "    <tr>\n",
       "      <th>734</th>\n",
       "      <td>Audi A1</td>\n",
       "      <td>Sedans</td>\n",
       "      <td>30000</td>\n",
       "      <td>0</td>\n",
       "      <td>0.0</td>\n",
       "      <td>-/-</td>\n",
       "      <td>None</td>\n",
       "      <td>85 kW</td>\n",
       "      <td>[, New, , Gasoline]</td>\n",
       "      <td>None</td>\n",
       "      <td>None</td>\n",
       "      <td>None</td>\n",
       "      <td>\\nAudi\\n</td>\n",
       "      <td>[\\n, A1, \\n]</td>\n",
       "      <td>None</td>\n",
       "      <td>[\\n, White, \\n]</td>\n",
       "      <td>[\\nPart leather, Black\\n]</td>\n",
       "      <td>[\\n, Sedans, \\n]</td>\n",
       "      <td>[\\n5\\n]</td>\n",
       "      <td>[\\n5\\n]</td>\n",
       "      <td>[\\n, Semi-automatic, \\n]</td>\n",
       "      <td>[\\n999 cc\\n]</td>\n",
       "      <td>[\\n1,230 kg\\n]</td>\n",
       "      <td>None</td>\n",
       "      <td>[[4.8 l/100 km (comb)], [5.8 l/100 km (city)],...</td>\n",
       "      <td>[\\n108 g CO2/km (comb)\\n]</td>\n",
       "      <td>[\\nEuro 6d-TEMP\\n]</td>\n",
       "      <td>[Air conditioning, Seat ventilation, Split rea...</td>\n",
       "      <td>[Bluetooth, Radio]</td>\n",
       "      <td>[Alloy wheels, Sport suspension]</td>\n",
       "      <td>[ABS, Alarm system, Central door lock, Driver-...</td>\n",
       "      <td>None</td>\n",
       "      <td>[\\n7\\n]</td>\n",
       "      <td>[\\nItaly\\n]</td>\n",
       "    </tr>\n",
       "    <tr>\n",
       "      <th>2370</th>\n",
       "      <td>Audi A1</td>\n",
       "      <td>Sedans</td>\n",
       "      <td>17999</td>\n",
       "      <td>0</td>\n",
       "      <td>0.0</td>\n",
       "      <td>-/-</td>\n",
       "      <td>None</td>\n",
       "      <td>70 kW</td>\n",
       "      <td>[, New, , Gasoline]</td>\n",
       "      <td>None</td>\n",
       "      <td>None</td>\n",
       "      <td>None</td>\n",
       "      <td>\\nAudi\\n</td>\n",
       "      <td>[\\n, A1, \\n]</td>\n",
       "      <td>None</td>\n",
       "      <td>[\\n, Black, \\n]</td>\n",
       "      <td>None</td>\n",
       "      <td>[\\n, Sedans, \\n]</td>\n",
       "      <td>[\\n5\\n]</td>\n",
       "      <td>[\\n5\\n]</td>\n",
       "      <td>[\\n, Manual, \\n]</td>\n",
       "      <td>[\\n999 cc\\n]</td>\n",
       "      <td>[\\n1,135 kg\\n]</td>\n",
       "      <td>None</td>\n",
       "      <td>[[4.3 l/100 km (comb)], [5 l/100 km (city)], [...</td>\n",
       "      <td>[\\n98 g CO2/km (comb)\\n]</td>\n",
       "      <td>[\\nEuro 6\\n]</td>\n",
       "      <td>None</td>\n",
       "      <td>None</td>\n",
       "      <td>None</td>\n",
       "      <td>None</td>\n",
       "      <td>None</td>\n",
       "      <td>[\\n5\\n]</td>\n",
       "      <td>[\\nSpain\\n]</td>\n",
       "    </tr>\n",
       "    <tr>\n",
       "      <th>2496</th>\n",
       "      <td>Audi A1</td>\n",
       "      <td>Compact</td>\n",
       "      <td>22720</td>\n",
       "      <td>1</td>\n",
       "      <td>0.0</td>\n",
       "      <td>-/-</td>\n",
       "      <td>None</td>\n",
       "      <td>85 kW</td>\n",
       "      <td>[, New, , Super 95]</td>\n",
       "      <td>None</td>\n",
       "      <td>[\\nYes\\n, \\n111 g CO2/km (comb)\\n]</td>\n",
       "      <td>24</td>\n",
       "      <td>\\nAudi\\n</td>\n",
       "      <td>[\\n, A1, \\n]</td>\n",
       "      <td>None</td>\n",
       "      <td>[\\n, White, \\n]</td>\n",
       "      <td>[\\nCloth, Black\\n]</td>\n",
       "      <td>[\\n, Compact, \\n]</td>\n",
       "      <td>[\\n5\\n]</td>\n",
       "      <td>[\\n5\\n]</td>\n",
       "      <td>[\\n, Manual, \\n]</td>\n",
       "      <td>[\\n999 cc\\n]</td>\n",
       "      <td>[\\n1,180 kg\\n]</td>\n",
       "      <td>None</td>\n",
       "      <td>[[4.9 l/100 km (comb)], [6 l/100 km (city)], [...</td>\n",
       "      <td>[\\n111 g CO2/km (comb)\\n]</td>\n",
       "      <td>None</td>\n",
       "      <td>[Air conditioning, Electrical side mirrors, Li...</td>\n",
       "      <td>[Bluetooth, CD player, Hands-free equipment, M...</td>\n",
       "      <td>[Alloy wheels, Catalytic Converter, Voice Cont...</td>\n",
       "      <td>[ABS, Central door lock, Daytime running light...</td>\n",
       "      <td>[\\n4 (Green)\\n]</td>\n",
       "      <td>[\\n6\\n]</td>\n",
       "      <td>None</td>\n",
       "    </tr>\n",
       "    <tr>\n",
       "      <th>2501</th>\n",
       "      <td>Audi A1</td>\n",
       "      <td>Compact</td>\n",
       "      <td>22720</td>\n",
       "      <td>1</td>\n",
       "      <td>0.0</td>\n",
       "      <td>-/-</td>\n",
       "      <td>None</td>\n",
       "      <td>85 kW</td>\n",
       "      <td>[, New, , Super 95]</td>\n",
       "      <td>None</td>\n",
       "      <td>[\\nYes\\n, \\n0 kWh/100 km (comb)\\n]</td>\n",
       "      <td>24</td>\n",
       "      <td>\\nAudi\\n</td>\n",
       "      <td>[\\n, A1, \\n]</td>\n",
       "      <td>None</td>\n",
       "      <td>[\\n, Grey, \\n]</td>\n",
       "      <td>[\\nCloth, Black\\n]</td>\n",
       "      <td>[\\n, Compact, \\n]</td>\n",
       "      <td>[\\n5\\n]</td>\n",
       "      <td>[\\n5\\n]</td>\n",
       "      <td>[\\n, Manual, \\n]</td>\n",
       "      <td>[\\n999 cc\\n]</td>\n",
       "      <td>None</td>\n",
       "      <td>None</td>\n",
       "      <td>[[4.9 l/100 km (comb)], [6 l/100 km (city)], [...</td>\n",
       "      <td>[\\n111 g CO2/km (comb)\\n]</td>\n",
       "      <td>[\\nEuro 6\\n]</td>\n",
       "      <td>[Air conditioning, Electrical side mirrors, Li...</td>\n",
       "      <td>[Bluetooth, CD player, Hands-free equipment, M...</td>\n",
       "      <td>[Alloy wheels, Catalytic Converter, Voice Cont...</td>\n",
       "      <td>[ABS, Central door lock, Daytime running light...</td>\n",
       "      <td>[\\n4 (Green)\\n]</td>\n",
       "      <td>[\\n6\\n]</td>\n",
       "      <td>None</td>\n",
       "    </tr>\n",
       "    <tr>\n",
       "      <th>5017</th>\n",
       "      <td>Audi A3</td>\n",
       "      <td>Sedans</td>\n",
       "      <td>27470</td>\n",
       "      <td>1</td>\n",
       "      <td>0.0</td>\n",
       "      <td>-/-</td>\n",
       "      <td>None</td>\n",
       "      <td>85 kW</td>\n",
       "      <td>[, New, , Diesel]</td>\n",
       "      <td>None</td>\n",
       "      <td>None</td>\n",
       "      <td>24</td>\n",
       "      <td>\\nAudi\\n</td>\n",
       "      <td>[\\n, A3, \\n]</td>\n",
       "      <td>None</td>\n",
       "      <td>[\\n, White, \\n]</td>\n",
       "      <td>[\\nCloth, Grey\\n]</td>\n",
       "      <td>[\\n, Sedans, \\n]</td>\n",
       "      <td>[\\n5\\n]</td>\n",
       "      <td>[\\n5\\n]</td>\n",
       "      <td>[\\n, Automatic, \\n]</td>\n",
       "      <td>[\\n1,598 cc\\n]</td>\n",
       "      <td>[\\n1,285 kg\\n]</td>\n",
       "      <td>[\\nfront\\n]</td>\n",
       "      <td>[[4 l/100 km (comb)], [4.2 l/100 km (city)], [...</td>\n",
       "      <td>[\\n106 g CO2/km (comb)\\n]</td>\n",
       "      <td>[\\nEuro 6\\n]</td>\n",
       "      <td>[Air conditioning, Armrest, Automatic climate ...</td>\n",
       "      <td>[Bluetooth, Hands-free equipment, On-board com...</td>\n",
       "      <td>[Alloy wheels, Sport suspension, Voice Control]</td>\n",
       "      <td>[ABS, Driver drowsiness detection, Driver-side...</td>\n",
       "      <td>None</td>\n",
       "      <td>[\\n7\\n]</td>\n",
       "      <td>[\\nSpain\\n]</td>\n",
       "    </tr>\n",
       "    <tr>\n",
       "      <th>5553</th>\n",
       "      <td>Audi A3</td>\n",
       "      <td>Station wagon</td>\n",
       "      <td>23290</td>\n",
       "      <td>0</td>\n",
       "      <td>0.0</td>\n",
       "      <td>-/-</td>\n",
       "      <td>None</td>\n",
       "      <td>85 kW</td>\n",
       "      <td>[, New, , Super E10 95]</td>\n",
       "      <td>None</td>\n",
       "      <td>[\\nYes\\n, \\nEuro 6d-TEMP\\n]</td>\n",
       "      <td>None</td>\n",
       "      <td>\\nAudi\\n</td>\n",
       "      <td>[\\n, A3, \\n]</td>\n",
       "      <td>None</td>\n",
       "      <td>[\\n, Black, \\n]</td>\n",
       "      <td>None</td>\n",
       "      <td>[\\n, Station wagon, \\n]</td>\n",
       "      <td>[\\n5\\n]</td>\n",
       "      <td>[\\n5\\n]</td>\n",
       "      <td>[\\n, Manual, \\n]</td>\n",
       "      <td>[\\n999 cc\\n]</td>\n",
       "      <td>[\\n1,265 kg\\n]</td>\n",
       "      <td>None</td>\n",
       "      <td>[[5 l/100 km (comb)], [5.8 l/100 km (city)], [...</td>\n",
       "      <td>[\\n114 g CO2/km (comb)\\n]</td>\n",
       "      <td>[\\nEuro 6d-TEMP\\n]</td>\n",
       "      <td>[Air conditioning, Electrical side mirrors, Hi...</td>\n",
       "      <td>[Bluetooth, CD player, MP3, On-board computer,...</td>\n",
       "      <td>[Alloy wheels, Sport seats, Sport suspension, ...</td>\n",
       "      <td>[ABS, Central door lock with remote control, D...</td>\n",
       "      <td>None</td>\n",
       "      <td>[\\n6\\n]</td>\n",
       "      <td>[\\nGermany\\n]</td>\n",
       "    </tr>\n",
       "    <tr>\n",
       "      <th>5607</th>\n",
       "      <td>Audi A3</td>\n",
       "      <td>Compact</td>\n",
       "      <td>22675</td>\n",
       "      <td>1</td>\n",
       "      <td>0.0</td>\n",
       "      <td>-/-</td>\n",
       "      <td>None</td>\n",
       "      <td>85 kW</td>\n",
       "      <td>[, New, , Gasoline]</td>\n",
       "      <td>None</td>\n",
       "      <td>None</td>\n",
       "      <td>36</td>\n",
       "      <td>\\nAudi\\n</td>\n",
       "      <td>[\\n, A3, \\n]</td>\n",
       "      <td>None</td>\n",
       "      <td>[\\n, Grey, \\n]</td>\n",
       "      <td>[\\nCloth, Black\\n]</td>\n",
       "      <td>[\\n, Compact, \\n]</td>\n",
       "      <td>[\\n5\\n]</td>\n",
       "      <td>[\\n5\\n]</td>\n",
       "      <td>[\\n, Manual, \\n]</td>\n",
       "      <td>[\\n999 cc\\n]</td>\n",
       "      <td>[\\n1,255 kg\\n]</td>\n",
       "      <td>[\\nfront\\n]</td>\n",
       "      <td>[[5 l/100 km (comb)], [], []]</td>\n",
       "      <td>[\\n114 g CO2/km (comb)\\n]</td>\n",
       "      <td>[\\nEuro 6\\n]</td>\n",
       "      <td>[Air conditioning, Armrest, Automatic climate ...</td>\n",
       "      <td>[Bluetooth, CD player, Hands-free equipment, M...</td>\n",
       "      <td>[Alloy wheels, Voice Control]</td>\n",
       "      <td>[ABS, Alarm system, Central door lock with rem...</td>\n",
       "      <td>None</td>\n",
       "      <td>[\\n6\\n]</td>\n",
       "      <td>[\\nBelgium\\n]</td>\n",
       "    </tr>\n",
       "    <tr>\n",
       "      <th>5668</th>\n",
       "      <td>Audi A3</td>\n",
       "      <td>Sedans</td>\n",
       "      <td>25400</td>\n",
       "      <td>1</td>\n",
       "      <td>0.0</td>\n",
       "      <td>-/-</td>\n",
       "      <td>None</td>\n",
       "      <td>85 kW</td>\n",
       "      <td>[, New, , Gasoline]</td>\n",
       "      <td>None</td>\n",
       "      <td>None</td>\n",
       "      <td>24</td>\n",
       "      <td>\\nAudi\\n</td>\n",
       "      <td>[\\n, A3, \\n]</td>\n",
       "      <td>None</td>\n",
       "      <td>[\\n, White, \\n]</td>\n",
       "      <td>[\\nCloth, Grey\\n]</td>\n",
       "      <td>[\\n, Sedans, \\n]</td>\n",
       "      <td>[\\n5\\n]</td>\n",
       "      <td>[\\n5\\n]</td>\n",
       "      <td>[\\n, Manual, \\n]</td>\n",
       "      <td>[\\n999 cc\\n]</td>\n",
       "      <td>[\\n1,180 kg\\n]</td>\n",
       "      <td>[\\nfront\\n]</td>\n",
       "      <td>[[4.7 l/100 km (comb)], [5.7 l/100 km (city)],...</td>\n",
       "      <td>[\\n107 g CO2/km (comb)\\n]</td>\n",
       "      <td>[\\nEuro 6\\n]</td>\n",
       "      <td>[Air conditioning, Armrest, Automatic climate ...</td>\n",
       "      <td>[Bluetooth, Hands-free equipment, On-board com...</td>\n",
       "      <td>[Alloy wheels, Sport suspension, Voice Control]</td>\n",
       "      <td>[ABS, Driver drowsiness detection, Driver-side...</td>\n",
       "      <td>None</td>\n",
       "      <td>[\\n6\\n]</td>\n",
       "      <td>[\\nSpain\\n]</td>\n",
       "    </tr>\n",
       "    <tr>\n",
       "      <th>5672</th>\n",
       "      <td>Audi A3</td>\n",
       "      <td>Sedans</td>\n",
       "      <td>25400</td>\n",
       "      <td>1</td>\n",
       "      <td>0.0</td>\n",
       "      <td>-/-</td>\n",
       "      <td>None</td>\n",
       "      <td>85 kW</td>\n",
       "      <td>[, New, , Gasoline]</td>\n",
       "      <td>None</td>\n",
       "      <td>None</td>\n",
       "      <td>24</td>\n",
       "      <td>\\nAudi\\n</td>\n",
       "      <td>[\\n, A3, \\n]</td>\n",
       "      <td>None</td>\n",
       "      <td>[\\n, White, \\n]</td>\n",
       "      <td>[\\nCloth, Grey\\n]</td>\n",
       "      <td>[\\n, Sedans, \\n]</td>\n",
       "      <td>[\\n5\\n]</td>\n",
       "      <td>[\\n5\\n]</td>\n",
       "      <td>[\\n, Manual, \\n]</td>\n",
       "      <td>[\\n999 cc\\n]</td>\n",
       "      <td>[\\n1,180 kg\\n]</td>\n",
       "      <td>[\\nfront\\n]</td>\n",
       "      <td>[[4.7 l/100 km (comb)], [5.7 l/100 km (city)],...</td>\n",
       "      <td>[\\n107 g CO2/km (comb)\\n]</td>\n",
       "      <td>[\\nEuro 6\\n]</td>\n",
       "      <td>[Air conditioning, Armrest, Automatic climate ...</td>\n",
       "      <td>[Bluetooth, Hands-free equipment, On-board com...</td>\n",
       "      <td>[Alloy wheels, Sport suspension, Voice Control]</td>\n",
       "      <td>[ABS, Driver drowsiness detection, Driver-side...</td>\n",
       "      <td>None</td>\n",
       "      <td>[\\n6\\n]</td>\n",
       "      <td>[\\nSpain\\n]</td>\n",
       "    </tr>\n",
       "    <tr>\n",
       "      <th>7698</th>\n",
       "      <td>Opel Astra</td>\n",
       "      <td>Sedans</td>\n",
       "      <td>26791</td>\n",
       "      <td>1</td>\n",
       "      <td>0.0</td>\n",
       "      <td>-/-</td>\n",
       "      <td>None</td>\n",
       "      <td>110 kW</td>\n",
       "      <td>[, New, , Super 95]</td>\n",
       "      <td>None</td>\n",
       "      <td>None</td>\n",
       "      <td>24</td>\n",
       "      <td>\\nOpel\\n</td>\n",
       "      <td>[\\n, Astra, \\n]</td>\n",
       "      <td>None</td>\n",
       "      <td>[\\n, Grey, \\n]</td>\n",
       "      <td>[\\nCloth, Black\\n]</td>\n",
       "      <td>[\\n, Sedans, \\n]</td>\n",
       "      <td>[\\n5\\n]</td>\n",
       "      <td>[\\n5\\n]</td>\n",
       "      <td>[\\n, Automatic, \\n]</td>\n",
       "      <td>[\\n1,399 cc\\n]</td>\n",
       "      <td>None</td>\n",
       "      <td>[\\nfront\\n]</td>\n",
       "      <td>[[6.1 l/100 km (comb)], [7.5 l/100 km (city)],...</td>\n",
       "      <td>[\\n139 g CO2/km (comb)\\n]</td>\n",
       "      <td>[\\nEuro 6d-TEMP\\n]</td>\n",
       "      <td>[Air conditioning, Armrest, Automatic climate ...</td>\n",
       "      <td>[Bluetooth, Hands-free equipment, MP3, On-boar...</td>\n",
       "      <td>[Alloy wheels, Touch screen, Voice Control]</td>\n",
       "      <td>[ABS, Adaptive headlights, Blind spot monitor,...</td>\n",
       "      <td>[\\n4 (Green)\\n]</td>\n",
       "      <td>[\\n6\\n]</td>\n",
       "      <td>[\\nGermany\\n]</td>\n",
       "    </tr>\n",
       "    <tr>\n",
       "      <th>7828</th>\n",
       "      <td>Opel Astra</td>\n",
       "      <td>Sedans</td>\n",
       "      <td>23580</td>\n",
       "      <td>1</td>\n",
       "      <td>0.0</td>\n",
       "      <td>-/-</td>\n",
       "      <td>None</td>\n",
       "      <td>110 kW</td>\n",
       "      <td>[, New, , Regular/Benzine 91 / Super 95 / Supe...</td>\n",
       "      <td>None</td>\n",
       "      <td>[\\nYes\\n, \\n, 5.7 l/100 km (comb), \\n, 7.3 l/1...</td>\n",
       "      <td>24</td>\n",
       "      <td>\\nOpel\\n</td>\n",
       "      <td>[\\n, Astra, \\n]</td>\n",
       "      <td>None</td>\n",
       "      <td>[\\n, White, \\n]</td>\n",
       "      <td>[\\nCloth, Black\\n]</td>\n",
       "      <td>[\\n, Sedans, \\n]</td>\n",
       "      <td>[\\n5\\n]</td>\n",
       "      <td>[\\n5\\n]</td>\n",
       "      <td>[\\n, Automatic, \\n]</td>\n",
       "      <td>[\\n1,399 cc\\n]</td>\n",
       "      <td>[\\n1,308 kg\\n]</td>\n",
       "      <td>[\\nfront\\n]</td>\n",
       "      <td>[\\n, 5.7 l/100 km (comb), \\n, 7.3 l/100 km (ci...</td>\n",
       "      <td>[\\n130 g CO2/km (comb)\\n]</td>\n",
       "      <td>None</td>\n",
       "      <td>[Air conditioning, Armrest, Automatic climate ...</td>\n",
       "      <td>[Bluetooth, Hands-free equipment, MP3, On-boar...</td>\n",
       "      <td>[Alloy wheels, Touch screen, Voice Control]</td>\n",
       "      <td>[ABS, Central door lock, Central door lock wit...</td>\n",
       "      <td>None</td>\n",
       "      <td>[\\n6\\n]</td>\n",
       "      <td>[\\nGermany\\n]</td>\n",
       "    </tr>\n",
       "    <tr>\n",
       "      <th>8098</th>\n",
       "      <td>Opel Astra</td>\n",
       "      <td>Sedans</td>\n",
       "      <td>18980</td>\n",
       "      <td>1</td>\n",
       "      <td>0.0</td>\n",
       "      <td>-/-</td>\n",
       "      <td>None</td>\n",
       "      <td>92 kW</td>\n",
       "      <td>[, New, , Super 95 / Regular/Benzine 91 / Supe...</td>\n",
       "      <td>None</td>\n",
       "      <td>[\\nYes\\n, \\n124 g CO2/km (comb)\\n]</td>\n",
       "      <td>12</td>\n",
       "      <td>\\nOpel\\n</td>\n",
       "      <td>[\\n, Astra, \\n]</td>\n",
       "      <td>None</td>\n",
       "      <td>[\\n, Blue, \\n]</td>\n",
       "      <td>[\\nCloth, Black\\n]</td>\n",
       "      <td>[\\n, Sedans, \\n]</td>\n",
       "      <td>[\\n5\\n]</td>\n",
       "      <td>[\\n5\\n]</td>\n",
       "      <td>[\\n, Manual, \\n]</td>\n",
       "      <td>[\\n1,399 cc\\n]</td>\n",
       "      <td>[\\n1,278 kg\\n]</td>\n",
       "      <td>[\\nfront\\n]</td>\n",
       "      <td>[\\n, 5.4 l/100 km (comb), \\n, 7.1 l/100 km (ci...</td>\n",
       "      <td>[\\n124 g CO2/km (comb)\\n]</td>\n",
       "      <td>None</td>\n",
       "      <td>[Air conditioning, Cruise control, Electrical ...</td>\n",
       "      <td>[Bluetooth, Hands-free equipment, MP3, On-boar...</td>\n",
       "      <td>[Catalytic Converter, Touch screen]</td>\n",
       "      <td>[ABS, Central door lock, Central door lock wit...</td>\n",
       "      <td>None</td>\n",
       "      <td>[\\n6\\n]</td>\n",
       "      <td>[\\nGermany\\n]</td>\n",
       "    </tr>\n",
       "    <tr>\n",
       "      <th>9882</th>\n",
       "      <td>Opel Corsa</td>\n",
       "      <td>Compact</td>\n",
       "      <td>17491</td>\n",
       "      <td>1</td>\n",
       "      <td>0.0</td>\n",
       "      <td>-/-</td>\n",
       "      <td>None</td>\n",
       "      <td>66 kW</td>\n",
       "      <td>[, New, , Super 95]</td>\n",
       "      <td>None</td>\n",
       "      <td>None</td>\n",
       "      <td>24</td>\n",
       "      <td>\\nOpel\\n</td>\n",
       "      <td>[\\n, Corsa, \\n]</td>\n",
       "      <td>None</td>\n",
       "      <td>[\\n, Silver, \\n]</td>\n",
       "      <td>[\\nCloth, Black\\n]</td>\n",
       "      <td>[\\n, Compact, \\n]</td>\n",
       "      <td>[\\n5\\n]</td>\n",
       "      <td>[\\n5\\n]</td>\n",
       "      <td>[\\n, Automatic, \\n]</td>\n",
       "      <td>[\\n1,398 cc\\n]</td>\n",
       "      <td>None</td>\n",
       "      <td>[\\nfront\\n]</td>\n",
       "      <td>[[6.9 l/100 km (comb)], [8.6 l/100 km (city)],...</td>\n",
       "      <td>[\\n157 g CO2/km (comb)\\n]</td>\n",
       "      <td>[\\nEuro 6d-TEMP\\n]</td>\n",
       "      <td>[Air conditioning, Automatic climate control, ...</td>\n",
       "      <td>[Bluetooth, Hands-free equipment, MP3, On-boar...</td>\n",
       "      <td>[Alloy wheels, Touch screen]</td>\n",
       "      <td>[ABS, Central door lock, Central door lock wit...</td>\n",
       "      <td>[\\n4 (Green)\\n]</td>\n",
       "      <td>[\\n6\\n]</td>\n",
       "      <td>[\\nGermany\\n]</td>\n",
       "    </tr>\n",
       "    <tr>\n",
       "      <th>9892</th>\n",
       "      <td>Opel Corsa</td>\n",
       "      <td>Compact</td>\n",
       "      <td>16891</td>\n",
       "      <td>1</td>\n",
       "      <td>0.0</td>\n",
       "      <td>-/-</td>\n",
       "      <td>None</td>\n",
       "      <td>66 kW</td>\n",
       "      <td>[, New, , Super 95]</td>\n",
       "      <td>None</td>\n",
       "      <td>None</td>\n",
       "      <td>24</td>\n",
       "      <td>\\nOpel\\n</td>\n",
       "      <td>[\\n, Corsa, \\n]</td>\n",
       "      <td>None</td>\n",
       "      <td>[\\n, Blue, \\n]</td>\n",
       "      <td>[\\nCloth, Black\\n]</td>\n",
       "      <td>[\\n, Compact, \\n]</td>\n",
       "      <td>[\\n5\\n]</td>\n",
       "      <td>[\\n5\\n]</td>\n",
       "      <td>[\\n, Automatic, \\n]</td>\n",
       "      <td>[\\n1,398 cc\\n]</td>\n",
       "      <td>None</td>\n",
       "      <td>[\\nfront\\n]</td>\n",
       "      <td>[[6 l/100 km (comb)], [8 l/100 km (city)], [4....</td>\n",
       "      <td>[\\n139 g CO2/km (comb)\\n]</td>\n",
       "      <td>[\\nEuro 6d-TEMP\\n]</td>\n",
       "      <td>[Air conditioning, Automatic climate control, ...</td>\n",
       "      <td>[Bluetooth, Hands-free equipment, MP3, On-boar...</td>\n",
       "      <td>[Alloy wheels, Touch screen, Voice Control]</td>\n",
       "      <td>[ABS, Central door lock, Central door lock wit...</td>\n",
       "      <td>[\\n4 (Green)\\n]</td>\n",
       "      <td>[\\n6\\n]</td>\n",
       "      <td>[\\nGermany\\n]</td>\n",
       "    </tr>\n",
       "    <tr>\n",
       "      <th>9929</th>\n",
       "      <td>Opel Corsa</td>\n",
       "      <td>Compact</td>\n",
       "      <td>17291</td>\n",
       "      <td>1</td>\n",
       "      <td>0.0</td>\n",
       "      <td>-/-</td>\n",
       "      <td>None</td>\n",
       "      <td>66 kW</td>\n",
       "      <td>[, New, , Super 95]</td>\n",
       "      <td>None</td>\n",
       "      <td>None</td>\n",
       "      <td>24</td>\n",
       "      <td>\\nOpel\\n</td>\n",
       "      <td>[\\n, Corsa, \\n]</td>\n",
       "      <td>None</td>\n",
       "      <td>[\\n, Black, \\n]</td>\n",
       "      <td>[\\nCloth, Black\\n]</td>\n",
       "      <td>[\\n, Compact, \\n]</td>\n",
       "      <td>[\\n5\\n]</td>\n",
       "      <td>[\\n5\\n]</td>\n",
       "      <td>[\\n, Automatic, \\n]</td>\n",
       "      <td>[\\n1,398 cc\\n]</td>\n",
       "      <td>None</td>\n",
       "      <td>[\\nfront\\n]</td>\n",
       "      <td>[[6.9 l/100 km (comb)], [8.6 l/100 km (city)],...</td>\n",
       "      <td>[\\n157 g CO2/km (comb)\\n]</td>\n",
       "      <td>[\\nEuro 6d-TEMP\\n]</td>\n",
       "      <td>[Air conditioning, Automatic climate control, ...</td>\n",
       "      <td>[Bluetooth, Hands-free equipment, MP3, On-boar...</td>\n",
       "      <td>[Alloy wheels, Touch screen]</td>\n",
       "      <td>[ABS, Central door lock, Central door lock wit...</td>\n",
       "      <td>[\\n4 (Green)\\n]</td>\n",
       "      <td>None</td>\n",
       "      <td>[\\nGermany\\n]</td>\n",
       "    </tr>\n",
       "    <tr>\n",
       "      <th>9935</th>\n",
       "      <td>Opel Corsa</td>\n",
       "      <td>Compact</td>\n",
       "      <td>17091</td>\n",
       "      <td>1</td>\n",
       "      <td>0.0</td>\n",
       "      <td>-/-</td>\n",
       "      <td>None</td>\n",
       "      <td>66 kW</td>\n",
       "      <td>[, New, , Super 95]</td>\n",
       "      <td>None</td>\n",
       "      <td>None</td>\n",
       "      <td>24</td>\n",
       "      <td>\\nOpel\\n</td>\n",
       "      <td>[\\n, Corsa, \\n]</td>\n",
       "      <td>None</td>\n",
       "      <td>[\\n, White, \\n]</td>\n",
       "      <td>[\\nCloth, Black\\n]</td>\n",
       "      <td>[\\n, Compact, \\n]</td>\n",
       "      <td>[\\n5\\n]</td>\n",
       "      <td>[\\n5\\n]</td>\n",
       "      <td>[\\n, Automatic, \\n]</td>\n",
       "      <td>[\\n1,398 cc\\n]</td>\n",
       "      <td>None</td>\n",
       "      <td>[\\nfront\\n]</td>\n",
       "      <td>[[6 l/100 km (comb)], [8 l/100 km (city)], [4....</td>\n",
       "      <td>[\\n139 g CO2/km (comb)\\n]</td>\n",
       "      <td>[\\nEuro 6d-TEMP\\n]</td>\n",
       "      <td>[Air conditioning, Automatic climate control, ...</td>\n",
       "      <td>[Bluetooth, Hands-free equipment, MP3, On-boar...</td>\n",
       "      <td>[Alloy wheels, Touch screen, Voice Control]</td>\n",
       "      <td>[ABS, Central door lock, Central door lock wit...</td>\n",
       "      <td>[\\n4 (Green)\\n]</td>\n",
       "      <td>[\\n6\\n]</td>\n",
       "      <td>[\\nGermany\\n]</td>\n",
       "    </tr>\n",
       "    <tr>\n",
       "      <th>12512</th>\n",
       "      <td>Opel Insignia</td>\n",
       "      <td>Station wagon</td>\n",
       "      <td>36591</td>\n",
       "      <td>1</td>\n",
       "      <td>0.0</td>\n",
       "      <td>-/-</td>\n",
       "      <td>None</td>\n",
       "      <td>125 kW</td>\n",
       "      <td>[, New, , Diesel (Particulate Filter)]</td>\n",
       "      <td>None</td>\n",
       "      <td>None</td>\n",
       "      <td>24</td>\n",
       "      <td>\\nOpel\\n</td>\n",
       "      <td>[\\n, Insignia, \\n]</td>\n",
       "      <td>None</td>\n",
       "      <td>[\\n, Grey, \\n]</td>\n",
       "      <td>[\\nPart leather, Black\\n]</td>\n",
       "      <td>[\\n, Station wagon, \\n]</td>\n",
       "      <td>[\\n5\\n]</td>\n",
       "      <td>[\\n5\\n]</td>\n",
       "      <td>[\\n, Automatic, \\n]</td>\n",
       "      <td>[\\n1,956 cc\\n]</td>\n",
       "      <td>None</td>\n",
       "      <td>[\\nfront\\n]</td>\n",
       "      <td>[[5.6 l/100 km (comb)], [7.1 l/100 km (city)],...</td>\n",
       "      <td>[\\n148 g CO2/km (comb)\\n]</td>\n",
       "      <td>[\\nEuro 6d-TEMP\\n]</td>\n",
       "      <td>[Air conditioning, Armrest, Automatic climate ...</td>\n",
       "      <td>[Bluetooth, Hands-free equipment, MP3, On-boar...</td>\n",
       "      <td>[Alloy wheels, Roof rack, Touch screen, Traile...</td>\n",
       "      <td>[ABS, Blind spot monitor, Central door lock, C...</td>\n",
       "      <td>[\\n4 (Green)\\n]</td>\n",
       "      <td>None</td>\n",
       "      <td>[\\nGermany\\n]</td>\n",
       "    </tr>\n",
       "    <tr>\n",
       "      <th>14518</th>\n",
       "      <td>Renault Clio</td>\n",
       "      <td>Compact</td>\n",
       "      <td>10790</td>\n",
       "      <td>0</td>\n",
       "      <td>0.0</td>\n",
       "      <td>-/-</td>\n",
       "      <td>None</td>\n",
       "      <td>56 kW</td>\n",
       "      <td>[, New, , Gasoline]</td>\n",
       "      <td>None</td>\n",
       "      <td>None</td>\n",
       "      <td>48</td>\n",
       "      <td>\\nRenault\\n</td>\n",
       "      <td>[\\n, Clio, \\n]</td>\n",
       "      <td>None</td>\n",
       "      <td>[\\n, White, \\n]</td>\n",
       "      <td>[\\nCloth, Black\\n]</td>\n",
       "      <td>[\\n, Compact, \\n]</td>\n",
       "      <td>[\\n5\\n]</td>\n",
       "      <td>[\\n5\\n]</td>\n",
       "      <td>[\\n, Manual, \\n]</td>\n",
       "      <td>[\\n898 cc\\n]</td>\n",
       "      <td>[\\n1,165 kg\\n]</td>\n",
       "      <td>[\\nfront\\n]</td>\n",
       "      <td>[[5 l/100 km (comb)], [6.3 l/100 km (city)], [...</td>\n",
       "      <td>[\\n113 g CO2/km (comb)\\n]</td>\n",
       "      <td>[\\nEuro 6c\\n]</td>\n",
       "      <td>[Air conditioning, Cruise control, Electrical ...</td>\n",
       "      <td>[Bluetooth, Digital radio, Hands-free equipmen...</td>\n",
       "      <td>None</td>\n",
       "      <td>[ABS, Central door lock with remote control, D...</td>\n",
       "      <td>None</td>\n",
       "      <td>[\\n5\\n]</td>\n",
       "      <td>[\\nAustria\\n]</td>\n",
       "    </tr>\n",
       "    <tr>\n",
       "      <th>15668</th>\n",
       "      <td>Renault Espace</td>\n",
       "      <td>Van</td>\n",
       "      <td>39290</td>\n",
       "      <td>0</td>\n",
       "      <td>0.0</td>\n",
       "      <td>-/-</td>\n",
       "      <td>None</td>\n",
       "      <td>118 kW</td>\n",
       "      <td>[, New, , Diesel]</td>\n",
       "      <td>None</td>\n",
       "      <td>None</td>\n",
       "      <td>None</td>\n",
       "      <td>\\nRenault\\n</td>\n",
       "      <td>[\\n, Espace, \\n]</td>\n",
       "      <td>None</td>\n",
       "      <td>[\\n, Grey, \\n]</td>\n",
       "      <td>None</td>\n",
       "      <td>[\\n, Van, \\n]</td>\n",
       "      <td>[\\n5\\n]</td>\n",
       "      <td>[\\n5\\n]</td>\n",
       "      <td>[\\n, Automatic, \\n]</td>\n",
       "      <td>[\\n1,598 cc\\n]</td>\n",
       "      <td>[\\n1,734 kg\\n]</td>\n",
       "      <td>[\\nfront\\n]</td>\n",
       "      <td>[[4.7 l/100 km (comb)], [5.1 l/100 km (city)],...</td>\n",
       "      <td>[\\n120 g CO2/km (comb)\\n]</td>\n",
       "      <td>[\\nEuro 6\\n]</td>\n",
       "      <td>[Air conditioning, Armrest, Automatic climate ...</td>\n",
       "      <td>[Bluetooth, Hands-free equipment, MP3, USB]</td>\n",
       "      <td>[Alloy wheels, Touch screen]</td>\n",
       "      <td>[Central door lock, LED Daytime Running Lights...</td>\n",
       "      <td>None</td>\n",
       "      <td>[\\n6\\n]</td>\n",
       "      <td>[\\nItaly\\n]</td>\n",
       "    </tr>\n",
       "  </tbody>\n",
       "</table>\n",
       "</div>"
      ],
      "text/plain": [
       "           make_model      body_type  price  vat   km registration prev_owner  \\\n",
       "734           Audi A1         Sedans  30000    0  0.0          -/-       None   \n",
       "2370          Audi A1         Sedans  17999    0  0.0          -/-       None   \n",
       "2496          Audi A1        Compact  22720    1  0.0          -/-       None   \n",
       "2501          Audi A1        Compact  22720    1  0.0          -/-       None   \n",
       "5017          Audi A3         Sedans  27470    1  0.0          -/-       None   \n",
       "5553          Audi A3  Station wagon  23290    0  0.0          -/-       None   \n",
       "5607          Audi A3        Compact  22675    1  0.0          -/-       None   \n",
       "5668          Audi A3         Sedans  25400    1  0.0          -/-       None   \n",
       "5672          Audi A3         Sedans  25400    1  0.0          -/-       None   \n",
       "7698       Opel Astra         Sedans  26791    1  0.0          -/-       None   \n",
       "7828       Opel Astra         Sedans  23580    1  0.0          -/-       None   \n",
       "8098       Opel Astra         Sedans  18980    1  0.0          -/-       None   \n",
       "9882       Opel Corsa        Compact  17491    1  0.0          -/-       None   \n",
       "9892       Opel Corsa        Compact  16891    1  0.0          -/-       None   \n",
       "9929       Opel Corsa        Compact  17291    1  0.0          -/-       None   \n",
       "9935       Opel Corsa        Compact  17091    1  0.0          -/-       None   \n",
       "12512   Opel Insignia  Station wagon  36591    1  0.0          -/-       None   \n",
       "14518    Renault Clio        Compact  10790    0  0.0          -/-       None   \n",
       "15668  Renault Espace            Van  39290    0  0.0          -/-       None   \n",
       "\n",
       "           hp                                               Type  \\\n",
       "734     85 kW                                [, New, , Gasoline]   \n",
       "2370    70 kW                                [, New, , Gasoline]   \n",
       "2496    85 kW                                [, New, , Super 95]   \n",
       "2501    85 kW                                [, New, , Super 95]   \n",
       "5017    85 kW                                  [, New, , Diesel]   \n",
       "5553    85 kW                            [, New, , Super E10 95]   \n",
       "5607    85 kW                                [, New, , Gasoline]   \n",
       "5668    85 kW                                [, New, , Gasoline]   \n",
       "5672    85 kW                                [, New, , Gasoline]   \n",
       "7698   110 kW                                [, New, , Super 95]   \n",
       "7828   110 kW  [, New, , Regular/Benzine 91 / Super 95 / Supe...   \n",
       "8098    92 kW  [, New, , Super 95 / Regular/Benzine 91 / Supe...   \n",
       "9882    66 kW                                [, New, , Super 95]   \n",
       "9892    66 kW                                [, New, , Super 95]   \n",
       "9929    66 kW                                [, New, , Super 95]   \n",
       "9935    66 kW                                [, New, , Super 95]   \n",
       "12512  125 kW             [, New, , Diesel (Particulate Filter)]   \n",
       "14518   56 kW                                [, New, , Gasoline]   \n",
       "15668  118 kW                                  [, New, , Diesel]   \n",
       "\n",
       "      Next Inspection                                     Inspection new  \\\n",
       "734              None                                               None   \n",
       "2370             None                                               None   \n",
       "2496             None                 [\\nYes\\n, \\n111 g CO2/km (comb)\\n]   \n",
       "2501             None                 [\\nYes\\n, \\n0 kWh/100 km (comb)\\n]   \n",
       "5017             None                                               None   \n",
       "5553             None                        [\\nYes\\n, \\nEuro 6d-TEMP\\n]   \n",
       "5607             None                                               None   \n",
       "5668             None                                               None   \n",
       "5672             None                                               None   \n",
       "7698             None                                               None   \n",
       "7828             None  [\\nYes\\n, \\n, 5.7 l/100 km (comb), \\n, 7.3 l/1...   \n",
       "8098             None                 [\\nYes\\n, \\n124 g CO2/km (comb)\\n]   \n",
       "9882             None                                               None   \n",
       "9892             None                                               None   \n",
       "9929             None                                               None   \n",
       "9935             None                                               None   \n",
       "12512            None                                               None   \n",
       "14518            None                                               None   \n",
       "15668            None                                               None   \n",
       "\n",
       "      Warranty         Make               Model First Registration  \\\n",
       "734       None     \\nAudi\\n        [\\n, A1, \\n]               None   \n",
       "2370      None     \\nAudi\\n        [\\n, A1, \\n]               None   \n",
       "2496        24     \\nAudi\\n        [\\n, A1, \\n]               None   \n",
       "2501        24     \\nAudi\\n        [\\n, A1, \\n]               None   \n",
       "5017        24     \\nAudi\\n        [\\n, A3, \\n]               None   \n",
       "5553      None     \\nAudi\\n        [\\n, A3, \\n]               None   \n",
       "5607        36     \\nAudi\\n        [\\n, A3, \\n]               None   \n",
       "5668        24     \\nAudi\\n        [\\n, A3, \\n]               None   \n",
       "5672        24     \\nAudi\\n        [\\n, A3, \\n]               None   \n",
       "7698        24     \\nOpel\\n     [\\n, Astra, \\n]               None   \n",
       "7828        24     \\nOpel\\n     [\\n, Astra, \\n]               None   \n",
       "8098        12     \\nOpel\\n     [\\n, Astra, \\n]               None   \n",
       "9882        24     \\nOpel\\n     [\\n, Corsa, \\n]               None   \n",
       "9892        24     \\nOpel\\n     [\\n, Corsa, \\n]               None   \n",
       "9929        24     \\nOpel\\n     [\\n, Corsa, \\n]               None   \n",
       "9935        24     \\nOpel\\n     [\\n, Corsa, \\n]               None   \n",
       "12512       24     \\nOpel\\n  [\\n, Insignia, \\n]               None   \n",
       "14518       48  \\nRenault\\n      [\\n, Clio, \\n]               None   \n",
       "15668     None  \\nRenault\\n    [\\n, Espace, \\n]               None   \n",
       "\n",
       "             Body Color                 Upholstery                     Body  \\\n",
       "734     [\\n, White, \\n]  [\\nPart leather, Black\\n]         [\\n, Sedans, \\n]   \n",
       "2370    [\\n, Black, \\n]                       None         [\\n, Sedans, \\n]   \n",
       "2496    [\\n, White, \\n]         [\\nCloth, Black\\n]        [\\n, Compact, \\n]   \n",
       "2501     [\\n, Grey, \\n]         [\\nCloth, Black\\n]        [\\n, Compact, \\n]   \n",
       "5017    [\\n, White, \\n]          [\\nCloth, Grey\\n]         [\\n, Sedans, \\n]   \n",
       "5553    [\\n, Black, \\n]                       None  [\\n, Station wagon, \\n]   \n",
       "5607     [\\n, Grey, \\n]         [\\nCloth, Black\\n]        [\\n, Compact, \\n]   \n",
       "5668    [\\n, White, \\n]          [\\nCloth, Grey\\n]         [\\n, Sedans, \\n]   \n",
       "5672    [\\n, White, \\n]          [\\nCloth, Grey\\n]         [\\n, Sedans, \\n]   \n",
       "7698     [\\n, Grey, \\n]         [\\nCloth, Black\\n]         [\\n, Sedans, \\n]   \n",
       "7828    [\\n, White, \\n]         [\\nCloth, Black\\n]         [\\n, Sedans, \\n]   \n",
       "8098     [\\n, Blue, \\n]         [\\nCloth, Black\\n]         [\\n, Sedans, \\n]   \n",
       "9882   [\\n, Silver, \\n]         [\\nCloth, Black\\n]        [\\n, Compact, \\n]   \n",
       "9892     [\\n, Blue, \\n]         [\\nCloth, Black\\n]        [\\n, Compact, \\n]   \n",
       "9929    [\\n, Black, \\n]         [\\nCloth, Black\\n]        [\\n, Compact, \\n]   \n",
       "9935    [\\n, White, \\n]         [\\nCloth, Black\\n]        [\\n, Compact, \\n]   \n",
       "12512    [\\n, Grey, \\n]  [\\nPart leather, Black\\n]  [\\n, Station wagon, \\n]   \n",
       "14518   [\\n, White, \\n]         [\\nCloth, Black\\n]        [\\n, Compact, \\n]   \n",
       "15668    [\\n, Grey, \\n]                       None            [\\n, Van, \\n]   \n",
       "\n",
       "      Nr. of Doors Nr. of Seats              Gearing Type    Displacement  \\\n",
       "734        [\\n5\\n]      [\\n5\\n]  [\\n, Semi-automatic, \\n]    [\\n999 cc\\n]   \n",
       "2370       [\\n5\\n]      [\\n5\\n]          [\\n, Manual, \\n]    [\\n999 cc\\n]   \n",
       "2496       [\\n5\\n]      [\\n5\\n]          [\\n, Manual, \\n]    [\\n999 cc\\n]   \n",
       "2501       [\\n5\\n]      [\\n5\\n]          [\\n, Manual, \\n]    [\\n999 cc\\n]   \n",
       "5017       [\\n5\\n]      [\\n5\\n]       [\\n, Automatic, \\n]  [\\n1,598 cc\\n]   \n",
       "5553       [\\n5\\n]      [\\n5\\n]          [\\n, Manual, \\n]    [\\n999 cc\\n]   \n",
       "5607       [\\n5\\n]      [\\n5\\n]          [\\n, Manual, \\n]    [\\n999 cc\\n]   \n",
       "5668       [\\n5\\n]      [\\n5\\n]          [\\n, Manual, \\n]    [\\n999 cc\\n]   \n",
       "5672       [\\n5\\n]      [\\n5\\n]          [\\n, Manual, \\n]    [\\n999 cc\\n]   \n",
       "7698       [\\n5\\n]      [\\n5\\n]       [\\n, Automatic, \\n]  [\\n1,399 cc\\n]   \n",
       "7828       [\\n5\\n]      [\\n5\\n]       [\\n, Automatic, \\n]  [\\n1,399 cc\\n]   \n",
       "8098       [\\n5\\n]      [\\n5\\n]          [\\n, Manual, \\n]  [\\n1,399 cc\\n]   \n",
       "9882       [\\n5\\n]      [\\n5\\n]       [\\n, Automatic, \\n]  [\\n1,398 cc\\n]   \n",
       "9892       [\\n5\\n]      [\\n5\\n]       [\\n, Automatic, \\n]  [\\n1,398 cc\\n]   \n",
       "9929       [\\n5\\n]      [\\n5\\n]       [\\n, Automatic, \\n]  [\\n1,398 cc\\n]   \n",
       "9935       [\\n5\\n]      [\\n5\\n]       [\\n, Automatic, \\n]  [\\n1,398 cc\\n]   \n",
       "12512      [\\n5\\n]      [\\n5\\n]       [\\n, Automatic, \\n]  [\\n1,956 cc\\n]   \n",
       "14518      [\\n5\\n]      [\\n5\\n]          [\\n, Manual, \\n]    [\\n898 cc\\n]   \n",
       "15668      [\\n5\\n]      [\\n5\\n]       [\\n, Automatic, \\n]  [\\n1,598 cc\\n]   \n",
       "\n",
       "               Weight  Drive chain  \\\n",
       "734    [\\n1,230 kg\\n]         None   \n",
       "2370   [\\n1,135 kg\\n]         None   \n",
       "2496   [\\n1,180 kg\\n]         None   \n",
       "2501             None         None   \n",
       "5017   [\\n1,285 kg\\n]  [\\nfront\\n]   \n",
       "5553   [\\n1,265 kg\\n]         None   \n",
       "5607   [\\n1,255 kg\\n]  [\\nfront\\n]   \n",
       "5668   [\\n1,180 kg\\n]  [\\nfront\\n]   \n",
       "5672   [\\n1,180 kg\\n]  [\\nfront\\n]   \n",
       "7698             None  [\\nfront\\n]   \n",
       "7828   [\\n1,308 kg\\n]  [\\nfront\\n]   \n",
       "8098   [\\n1,278 kg\\n]  [\\nfront\\n]   \n",
       "9882             None  [\\nfront\\n]   \n",
       "9892             None  [\\nfront\\n]   \n",
       "9929             None  [\\nfront\\n]   \n",
       "9935             None  [\\nfront\\n]   \n",
       "12512            None  [\\nfront\\n]   \n",
       "14518  [\\n1,165 kg\\n]  [\\nfront\\n]   \n",
       "15668  [\\n1,734 kg\\n]  [\\nfront\\n]   \n",
       "\n",
       "                                             Consumption  \\\n",
       "734    [[4.8 l/100 km (comb)], [5.8 l/100 km (city)],...   \n",
       "2370   [[4.3 l/100 km (comb)], [5 l/100 km (city)], [...   \n",
       "2496   [[4.9 l/100 km (comb)], [6 l/100 km (city)], [...   \n",
       "2501   [[4.9 l/100 km (comb)], [6 l/100 km (city)], [...   \n",
       "5017   [[4 l/100 km (comb)], [4.2 l/100 km (city)], [...   \n",
       "5553   [[5 l/100 km (comb)], [5.8 l/100 km (city)], [...   \n",
       "5607                       [[5 l/100 km (comb)], [], []]   \n",
       "5668   [[4.7 l/100 km (comb)], [5.7 l/100 km (city)],...   \n",
       "5672   [[4.7 l/100 km (comb)], [5.7 l/100 km (city)],...   \n",
       "7698   [[6.1 l/100 km (comb)], [7.5 l/100 km (city)],...   \n",
       "7828   [\\n, 5.7 l/100 km (comb), \\n, 7.3 l/100 km (ci...   \n",
       "8098   [\\n, 5.4 l/100 km (comb), \\n, 7.1 l/100 km (ci...   \n",
       "9882   [[6.9 l/100 km (comb)], [8.6 l/100 km (city)],...   \n",
       "9892   [[6 l/100 km (comb)], [8 l/100 km (city)], [4....   \n",
       "9929   [[6.9 l/100 km (comb)], [8.6 l/100 km (city)],...   \n",
       "9935   [[6 l/100 km (comb)], [8 l/100 km (city)], [4....   \n",
       "12512  [[5.6 l/100 km (comb)], [7.1 l/100 km (city)],...   \n",
       "14518  [[5 l/100 km (comb)], [6.3 l/100 km (city)], [...   \n",
       "15668  [[4.7 l/100 km (comb)], [5.1 l/100 km (city)],...   \n",
       "\n",
       "                    CO2 Emission      Emission Class  \\\n",
       "734    [\\n108 g CO2/km (comb)\\n]  [\\nEuro 6d-TEMP\\n]   \n",
       "2370    [\\n98 g CO2/km (comb)\\n]        [\\nEuro 6\\n]   \n",
       "2496   [\\n111 g CO2/km (comb)\\n]                None   \n",
       "2501   [\\n111 g CO2/km (comb)\\n]        [\\nEuro 6\\n]   \n",
       "5017   [\\n106 g CO2/km (comb)\\n]        [\\nEuro 6\\n]   \n",
       "5553   [\\n114 g CO2/km (comb)\\n]  [\\nEuro 6d-TEMP\\n]   \n",
       "5607   [\\n114 g CO2/km (comb)\\n]        [\\nEuro 6\\n]   \n",
       "5668   [\\n107 g CO2/km (comb)\\n]        [\\nEuro 6\\n]   \n",
       "5672   [\\n107 g CO2/km (comb)\\n]        [\\nEuro 6\\n]   \n",
       "7698   [\\n139 g CO2/km (comb)\\n]  [\\nEuro 6d-TEMP\\n]   \n",
       "7828   [\\n130 g CO2/km (comb)\\n]                None   \n",
       "8098   [\\n124 g CO2/km (comb)\\n]                None   \n",
       "9882   [\\n157 g CO2/km (comb)\\n]  [\\nEuro 6d-TEMP\\n]   \n",
       "9892   [\\n139 g CO2/km (comb)\\n]  [\\nEuro 6d-TEMP\\n]   \n",
       "9929   [\\n157 g CO2/km (comb)\\n]  [\\nEuro 6d-TEMP\\n]   \n",
       "9935   [\\n139 g CO2/km (comb)\\n]  [\\nEuro 6d-TEMP\\n]   \n",
       "12512  [\\n148 g CO2/km (comb)\\n]  [\\nEuro 6d-TEMP\\n]   \n",
       "14518  [\\n113 g CO2/km (comb)\\n]       [\\nEuro 6c\\n]   \n",
       "15668  [\\n120 g CO2/km (comb)\\n]        [\\nEuro 6\\n]   \n",
       "\n",
       "                               \\nComfort & Convenience\\n  \\\n",
       "734    [Air conditioning, Seat ventilation, Split rea...   \n",
       "2370                                                None   \n",
       "2496   [Air conditioning, Electrical side mirrors, Li...   \n",
       "2501   [Air conditioning, Electrical side mirrors, Li...   \n",
       "5017   [Air conditioning, Armrest, Automatic climate ...   \n",
       "5553   [Air conditioning, Electrical side mirrors, Hi...   \n",
       "5607   [Air conditioning, Armrest, Automatic climate ...   \n",
       "5668   [Air conditioning, Armrest, Automatic climate ...   \n",
       "5672   [Air conditioning, Armrest, Automatic climate ...   \n",
       "7698   [Air conditioning, Armrest, Automatic climate ...   \n",
       "7828   [Air conditioning, Armrest, Automatic climate ...   \n",
       "8098   [Air conditioning, Cruise control, Electrical ...   \n",
       "9882   [Air conditioning, Automatic climate control, ...   \n",
       "9892   [Air conditioning, Automatic climate control, ...   \n",
       "9929   [Air conditioning, Automatic climate control, ...   \n",
       "9935   [Air conditioning, Automatic climate control, ...   \n",
       "12512  [Air conditioning, Armrest, Automatic climate ...   \n",
       "14518  [Air conditioning, Cruise control, Electrical ...   \n",
       "15668  [Air conditioning, Armrest, Automatic climate ...   \n",
       "\n",
       "                               \\nEntertainment & Media\\n  \\\n",
       "734                                   [Bluetooth, Radio]   \n",
       "2370                                                None   \n",
       "2496   [Bluetooth, CD player, Hands-free equipment, M...   \n",
       "2501   [Bluetooth, CD player, Hands-free equipment, M...   \n",
       "5017   [Bluetooth, Hands-free equipment, On-board com...   \n",
       "5553   [Bluetooth, CD player, MP3, On-board computer,...   \n",
       "5607   [Bluetooth, CD player, Hands-free equipment, M...   \n",
       "5668   [Bluetooth, Hands-free equipment, On-board com...   \n",
       "5672   [Bluetooth, Hands-free equipment, On-board com...   \n",
       "7698   [Bluetooth, Hands-free equipment, MP3, On-boar...   \n",
       "7828   [Bluetooth, Hands-free equipment, MP3, On-boar...   \n",
       "8098   [Bluetooth, Hands-free equipment, MP3, On-boar...   \n",
       "9882   [Bluetooth, Hands-free equipment, MP3, On-boar...   \n",
       "9892   [Bluetooth, Hands-free equipment, MP3, On-boar...   \n",
       "9929   [Bluetooth, Hands-free equipment, MP3, On-boar...   \n",
       "9935   [Bluetooth, Hands-free equipment, MP3, On-boar...   \n",
       "12512  [Bluetooth, Hands-free equipment, MP3, On-boar...   \n",
       "14518  [Bluetooth, Digital radio, Hands-free equipmen...   \n",
       "15668        [Bluetooth, Hands-free equipment, MP3, USB]   \n",
       "\n",
       "                                              \\nExtras\\n  \\\n",
       "734                     [Alloy wheels, Sport suspension]   \n",
       "2370                                                None   \n",
       "2496   [Alloy wheels, Catalytic Converter, Voice Cont...   \n",
       "2501   [Alloy wheels, Catalytic Converter, Voice Cont...   \n",
       "5017     [Alloy wheels, Sport suspension, Voice Control]   \n",
       "5553   [Alloy wheels, Sport seats, Sport suspension, ...   \n",
       "5607                       [Alloy wheels, Voice Control]   \n",
       "5668     [Alloy wheels, Sport suspension, Voice Control]   \n",
       "5672     [Alloy wheels, Sport suspension, Voice Control]   \n",
       "7698         [Alloy wheels, Touch screen, Voice Control]   \n",
       "7828         [Alloy wheels, Touch screen, Voice Control]   \n",
       "8098                 [Catalytic Converter, Touch screen]   \n",
       "9882                        [Alloy wheels, Touch screen]   \n",
       "9892         [Alloy wheels, Touch screen, Voice Control]   \n",
       "9929                        [Alloy wheels, Touch screen]   \n",
       "9935         [Alloy wheels, Touch screen, Voice Control]   \n",
       "12512  [Alloy wheels, Roof rack, Touch screen, Traile...   \n",
       "14518                                               None   \n",
       "15668                       [Alloy wheels, Touch screen]   \n",
       "\n",
       "                                   \\nSafety & Security\\n   Emission Label  \\\n",
       "734    [ABS, Alarm system, Central door lock, Driver-...             None   \n",
       "2370                                                None             None   \n",
       "2496   [ABS, Central door lock, Daytime running light...  [\\n4 (Green)\\n]   \n",
       "2501   [ABS, Central door lock, Daytime running light...  [\\n4 (Green)\\n]   \n",
       "5017   [ABS, Driver drowsiness detection, Driver-side...             None   \n",
       "5553   [ABS, Central door lock with remote control, D...             None   \n",
       "5607   [ABS, Alarm system, Central door lock with rem...             None   \n",
       "5668   [ABS, Driver drowsiness detection, Driver-side...             None   \n",
       "5672   [ABS, Driver drowsiness detection, Driver-side...             None   \n",
       "7698   [ABS, Adaptive headlights, Blind spot monitor,...  [\\n4 (Green)\\n]   \n",
       "7828   [ABS, Central door lock, Central door lock wit...             None   \n",
       "8098   [ABS, Central door lock, Central door lock wit...             None   \n",
       "9882   [ABS, Central door lock, Central door lock wit...  [\\n4 (Green)\\n]   \n",
       "9892   [ABS, Central door lock, Central door lock wit...  [\\n4 (Green)\\n]   \n",
       "9929   [ABS, Central door lock, Central door lock wit...  [\\n4 (Green)\\n]   \n",
       "9935   [ABS, Central door lock, Central door lock wit...  [\\n4 (Green)\\n]   \n",
       "12512  [ABS, Blind spot monitor, Central door lock, C...  [\\n4 (Green)\\n]   \n",
       "14518  [ABS, Central door lock with remote control, D...             None   \n",
       "15668  [Central door lock, LED Daytime Running Lights...             None   \n",
       "\n",
       "         Gears Country version  \n",
       "734    [\\n7\\n]     [\\nItaly\\n]  \n",
       "2370   [\\n5\\n]     [\\nSpain\\n]  \n",
       "2496   [\\n6\\n]            None  \n",
       "2501   [\\n6\\n]            None  \n",
       "5017   [\\n7\\n]     [\\nSpain\\n]  \n",
       "5553   [\\n6\\n]   [\\nGermany\\n]  \n",
       "5607   [\\n6\\n]   [\\nBelgium\\n]  \n",
       "5668   [\\n6\\n]     [\\nSpain\\n]  \n",
       "5672   [\\n6\\n]     [\\nSpain\\n]  \n",
       "7698   [\\n6\\n]   [\\nGermany\\n]  \n",
       "7828   [\\n6\\n]   [\\nGermany\\n]  \n",
       "8098   [\\n6\\n]   [\\nGermany\\n]  \n",
       "9882   [\\n6\\n]   [\\nGermany\\n]  \n",
       "9892   [\\n6\\n]   [\\nGermany\\n]  \n",
       "9929      None   [\\nGermany\\n]  \n",
       "9935   [\\n6\\n]   [\\nGermany\\n]  \n",
       "12512     None   [\\nGermany\\n]  \n",
       "14518  [\\n5\\n]   [\\nAustria\\n]  \n",
       "15668  [\\n6\\n]     [\\nItaly\\n]  "
      ]
     },
     "execution_count": 45,
     "metadata": {},
     "output_type": "execute_result"
    }
   ],
   "source": [
    "df[df.km == 0]"
   ]
  },
  {
   "cell_type": "markdown",
   "id": "2fdc06fc",
   "metadata": {},
   "source": [
    "### registration Sütunu"
   ]
  },
  {
   "cell_type": "markdown",
   "id": "463e7f6e",
   "metadata": {},
   "source": [
    "**Veri tipini datetime tipine çevirmeliyiz. Çünkü tarih verisi içeriyor.** "
   ]
  },
  {
   "cell_type": "code",
   "execution_count": 46,
   "id": "22d953db",
   "metadata": {},
   "outputs": [
    {
     "data": {
      "text/plain": [
       "0    01/2016\n",
       "1    03/2017\n",
       "2    02/2016\n",
       "3    08/2016\n",
       "4    05/2016\n",
       "Name: registration, dtype: object"
      ]
     },
     "execution_count": 46,
     "metadata": {},
     "output_type": "execute_result"
    }
   ],
   "source": [
    "df.registration.head()"
   ]
  },
  {
   "cell_type": "code",
   "execution_count": 47,
   "id": "3f03da6f",
   "metadata": {},
   "outputs": [
    {
     "data": {
      "text/plain": [
       "0"
      ]
     },
     "execution_count": 47,
     "metadata": {},
     "output_type": "execute_result"
    }
   ],
   "source": [
    "df.registration.isnull().sum()"
   ]
  },
  {
   "cell_type": "code",
   "execution_count": 48,
   "id": "6065e3b7",
   "metadata": {},
   "outputs": [],
   "source": [
    "df.registration = df.registration.replace('-/-', np.nan)\n"
   ]
  },
  {
   "cell_type": "code",
   "execution_count": 49,
   "id": "ba433999",
   "metadata": {},
   "outputs": [],
   "source": [
    "df.registration = pd.to_datetime(df.registration)\n"
   ]
  },
  {
   "cell_type": "code",
   "execution_count": 50,
   "id": "84a42483",
   "metadata": {},
   "outputs": [
    {
     "data": {
      "text/plain": [
       "1597"
      ]
     },
     "execution_count": 50,
     "metadata": {},
     "output_type": "execute_result"
    }
   ],
   "source": [
    "df[\"First Registration\"].isnull().sum()"
   ]
  },
  {
   "cell_type": "code",
   "execution_count": 51,
   "id": "dd8bfb9a",
   "metadata": {},
   "outputs": [
    {
     "data": {
      "text/plain": [
       "1597"
      ]
     },
     "execution_count": 51,
     "metadata": {},
     "output_type": "execute_result"
    }
   ],
   "source": [
    "df.registration.isnull().sum()"
   ]
  },
  {
   "cell_type": "code",
   "execution_count": 52,
   "id": "9996fe62",
   "metadata": {},
   "outputs": [
    {
     "data": {
      "text/html": [
       "<div>\n",
       "<style scoped>\n",
       "    .dataframe tbody tr th:only-of-type {\n",
       "        vertical-align: middle;\n",
       "    }\n",
       "\n",
       "    .dataframe tbody tr th {\n",
       "        vertical-align: top;\n",
       "    }\n",
       "\n",
       "    .dataframe thead th {\n",
       "        text-align: right;\n",
       "    }\n",
       "</style>\n",
       "<table border=\"1\" class=\"dataframe\">\n",
       "  <thead>\n",
       "    <tr style=\"text-align: right;\">\n",
       "      <th></th>\n",
       "      <th>First Registration</th>\n",
       "      <th>registration</th>\n",
       "    </tr>\n",
       "  </thead>\n",
       "  <tbody>\n",
       "    <tr>\n",
       "      <th>3950</th>\n",
       "      <td>[\\n, 2017, \\n]</td>\n",
       "      <td>2017-08-01</td>\n",
       "    </tr>\n",
       "    <tr>\n",
       "      <th>812</th>\n",
       "      <td>[\\n, 2017, \\n]</td>\n",
       "      <td>2017-03-01</td>\n",
       "    </tr>\n",
       "    <tr>\n",
       "      <th>4727</th>\n",
       "      <td>[\\n, 2018, \\n]</td>\n",
       "      <td>2018-02-01</td>\n",
       "    </tr>\n",
       "    <tr>\n",
       "      <th>8970</th>\n",
       "      <td>[\\n, 2017, \\n]</td>\n",
       "      <td>2017-05-01</td>\n",
       "    </tr>\n",
       "    <tr>\n",
       "      <th>12756</th>\n",
       "      <td>None</td>\n",
       "      <td>NaT</td>\n",
       "    </tr>\n",
       "  </tbody>\n",
       "</table>\n",
       "</div>"
      ],
      "text/plain": [
       "      First Registration registration\n",
       "3950      [\\n, 2017, \\n]   2017-08-01\n",
       "812       [\\n, 2017, \\n]   2017-03-01\n",
       "4727      [\\n, 2018, \\n]   2018-02-01\n",
       "8970      [\\n, 2017, \\n]   2017-05-01\n",
       "12756               None          NaT"
      ]
     },
     "execution_count": 52,
     "metadata": {},
     "output_type": "execute_result"
    }
   ],
   "source": [
    "df[['First Registration','registration']].sample(5)\n",
    "# first registration sütunun  ile registration sütunu benzer değerleri içerdiği için\n",
    "# first registration sütunu drop edilebilir"
   ]
  },
  {
   "cell_type": "code",
   "execution_count": 53,
   "id": "555201d3",
   "metadata": {},
   "outputs": [],
   "source": [
    "df.drop('First Registration',axis=1,inplace=True)"
   ]
  },
  {
   "cell_type": "markdown",
   "id": "05ef1bdb",
   "metadata": {},
   "source": [
    "###  registration sütununda yer alan nan değerler için daha sonra tekrar bakılacak."
   ]
  },
  {
   "cell_type": "code",
   "execution_count": null,
   "id": "c4a8246c",
   "metadata": {},
   "outputs": [],
   "source": []
  },
  {
   "cell_type": "markdown",
   "id": "4605f0f9",
   "metadata": {},
   "source": [
    "### 'prev_owner' sütunu\n",
    "**arabanın kaçıncı el olduğu bilgisi yer alıyor. Bu sütunun daha anlamlı hale gelmesi için integer'a çevirilebilir.**"
   ]
  },
  {
   "cell_type": "code",
   "execution_count": 54,
   "id": "d719dcef",
   "metadata": {},
   "outputs": [
    {
     "data": {
      "text/plain": [
       "0    2 previous owners\n",
       "1                 None\n",
       "2     1 previous owner\n",
       "3     1 previous owner\n",
       "4     1 previous owner\n",
       "Name: prev_owner, dtype: object"
      ]
     },
     "execution_count": 54,
     "metadata": {},
     "output_type": "execute_result"
    }
   ],
   "source": [
    "df.prev_owner.head()"
   ]
  },
  {
   "cell_type": "code",
   "execution_count": 55,
   "id": "52d0e239",
   "metadata": {},
   "outputs": [
    {
     "data": {
      "text/plain": [
       "array(['2 previous owners', None, '1 previous owner', '3 previous owners',\n",
       "       '4 previous owners'], dtype=object)"
      ]
     },
     "execution_count": 55,
     "metadata": {},
     "output_type": "execute_result"
    }
   ],
   "source": [
    "df.prev_owner.unique()"
   ]
  },
  {
   "cell_type": "code",
   "execution_count": 56,
   "id": "bf9cf8ae",
   "metadata": {},
   "outputs": [
    {
     "data": {
      "text/plain": [
       "6824"
      ]
     },
     "execution_count": 56,
     "metadata": {},
     "output_type": "execute_result"
    }
   ],
   "source": [
    "df.prev_owner.isnull().sum()"
   ]
  },
  {
   "cell_type": "code",
   "execution_count": 57,
   "id": "3df2787b",
   "metadata": {},
   "outputs": [],
   "source": [
    "df.prev_owner = df.prev_owner.str.strip('previous owners').astype(float)\n"
   ]
  },
  {
   "cell_type": "code",
   "execution_count": 58,
   "id": "ef616105",
   "metadata": {},
   "outputs": [],
   "source": [
    "# df.prev_owner.map(lambda x: x.split()[0],na_action='ignore').astype(float)"
   ]
  },
  {
   "cell_type": "markdown",
   "id": "fbd85454",
   "metadata": {},
   "source": [
    "### hp sütunu\n",
    "** bu sütunu integer ya da float a çevirebiliriz.** "
   ]
  },
  {
   "cell_type": "code",
   "execution_count": 59,
   "id": "3dd956fd",
   "metadata": {
    "scrolled": true
   },
   "outputs": [
    {
     "data": {
      "text/plain": [
       "85 kW     2542\n",
       "66 kW     2119\n",
       "81 kW     1402\n",
       "100 kW    1307\n",
       "110 kW    1112\n",
       "          ... \n",
       "84 kW        1\n",
       "195 kW       1\n",
       "44 kW        1\n",
       "239 kW       1\n",
       "9 kW         1\n",
       "Name: hp, Length: 81, dtype: int64"
      ]
     },
     "execution_count": 59,
     "metadata": {},
     "output_type": "execute_result"
    }
   ],
   "source": [
    "df.hp.value_counts()"
   ]
  },
  {
   "cell_type": "code",
   "execution_count": 60,
   "id": "d858c581",
   "metadata": {},
   "outputs": [
    {
     "data": {
      "text/plain": [
       "0         66 kW\n",
       "1        141 kW\n",
       "2         85 kW\n",
       "3         66 kW\n",
       "4         66 kW\n",
       "          ...  \n",
       "15914    147 kW\n",
       "15915    165 kW\n",
       "15916    146 kW\n",
       "15917    147 kW\n",
       "15918    165 kW\n",
       "Name: hp, Length: 15915, dtype: object"
      ]
     },
     "execution_count": 60,
     "metadata": {},
     "output_type": "execute_result"
    }
   ],
   "source": [
    "df.hp"
   ]
  },
  {
   "cell_type": "code",
   "execution_count": 61,
   "id": "63780cae",
   "metadata": {},
   "outputs": [],
   "source": [
    "df.hp = df.hp.str.strip(\" kW\").replace(\"-\",np.nan).astype(float)"
   ]
  },
  {
   "cell_type": "code",
   "execution_count": 62,
   "id": "ec9a19f2",
   "metadata": {},
   "outputs": [
    {
     "data": {
      "text/plain": [
       "88"
      ]
     },
     "execution_count": 62,
     "metadata": {},
     "output_type": "execute_result"
    }
   ],
   "source": [
    "df.hp.isnull().sum()"
   ]
  },
  {
   "cell_type": "markdown",
   "id": "41223050",
   "metadata": {},
   "source": [
    "### Type sütunu"
   ]
  },
  {
   "cell_type": "code",
   "execution_count": 63,
   "id": "a554069b",
   "metadata": {},
   "outputs": [
    {
     "data": {
      "text/plain": [
       "0                  [, Used, , Diesel (Particulate Filter)]\n",
       "1                                     [, Used, , Gasoline]\n",
       "2                  [, Used, , Diesel (Particulate Filter)]\n",
       "3                  [, Used, , Diesel (Particulate Filter)]\n",
       "4                  [, Used, , Diesel (Particulate Filter)]\n",
       "                               ...                        \n",
       "15914               [, New, , Diesel (Particulate Filter)]\n",
       "15915    [, Used, , Super 95 / Super Plus 98 (Particula...\n",
       "15916                         [, Pre-registered, , Diesel]\n",
       "15917                         [, Pre-registered, , Diesel]\n",
       "15918                        [, Demonstration, , Super 95]\n",
       "Name: Type, Length: 15915, dtype: object"
      ]
     },
     "execution_count": 63,
     "metadata": {},
     "output_type": "execute_result"
    }
   ],
   "source": [
    "df.Type"
   ]
  },
  {
   "cell_type": "code",
   "execution_count": 64,
   "id": "bca4d5c0",
   "metadata": {},
   "outputs": [
    {
     "data": {
      "text/plain": [
       "3756    Used\n",
       "1127    Used\n",
       "3507    Used\n",
       "8325    Used\n",
       "5831    Used\n",
       "Name: Type, dtype: object"
      ]
     },
     "execution_count": 64,
     "metadata": {},
     "output_type": "execute_result"
    }
   ],
   "source": [
    "df.Type.map(lambda x: x[1],na_action='ignore').sample(5)\n",
    "# siteyi incelediğimiz bu bilgilerin \"Vehicle condition\" olarak karşımıza çıktığını görmekteyiz. Serda\n",
    "# bu nedenle Vehicle condition sütunu oluşturup type sütununu parçalıyoruz."
   ]
  },
  {
   "cell_type": "code",
   "execution_count": 65,
   "id": "2896a700",
   "metadata": {},
   "outputs": [],
   "source": [
    "df[\"Vehicle condition\"] = df.Type.map(lambda x: x[1],na_action='ignore')\n"
   ]
  },
  {
   "cell_type": "code",
   "execution_count": 66,
   "id": "20626a0a",
   "metadata": {},
   "outputs": [
    {
     "data": {
      "text/plain": [
       "0    Used\n",
       "1    Used\n",
       "2    Used\n",
       "3    Used\n",
       "4    Used\n",
       "Name: Vehicle condition, dtype: object"
      ]
     },
     "execution_count": 66,
     "metadata": {},
     "output_type": "execute_result"
    }
   ],
   "source": [
    "df[\"Vehicle condition\"].head()"
   ]
  },
  {
   "cell_type": "code",
   "execution_count": 67,
   "id": "e0d52de0",
   "metadata": {},
   "outputs": [
    {
     "data": {
      "text/plain": [
       "4818"
      ]
     },
     "execution_count": 67,
     "metadata": {},
     "output_type": "execute_result"
    }
   ],
   "source": [
    "df.Type.map(lambda x: x[3],na_action='ignore').str.contains(\"Particulate Filter\").sum()\n",
    "# particulate filter içeren satır sayısı"
   ]
  },
  {
   "cell_type": "code",
   "execution_count": 68,
   "id": "9517262d",
   "metadata": {
    "scrolled": false
   },
   "outputs": [],
   "source": [
    "df[\"particul_filter\"] = df.Type.map(lambda x: x[3], na_action='ignore').str.extract(\"\\(([^)]+)\").fillna(False)\n",
    "# particule filter için regex denemesi () parantez içinde yer yazan 'particulate filter' string ifadeyi almak için\n",
    "# içinde particulate filter yazmayan nan değerlere False atadık"
   ]
  },
  {
   "cell_type": "code",
   "execution_count": 69,
   "id": "ce7366d3",
   "metadata": {},
   "outputs": [],
   "source": [
    "df.particul_filter = df.particul_filter.map(lambda x: True if x else False)\n",
    "# içinde particulate filter yazanları True yazmayanlar ise zaten false"
   ]
  },
  {
   "cell_type": "code",
   "execution_count": 70,
   "id": "27d8b320",
   "metadata": {},
   "outputs": [
    {
     "data": {
      "text/plain": [
       "0         True\n",
       "1        False\n",
       "2         True\n",
       "3         True\n",
       "4         True\n",
       "         ...  \n",
       "15914     True\n",
       "15915     True\n",
       "15916    False\n",
       "15917    False\n",
       "15918    False\n",
       "Name: particul_filter, Length: 15915, dtype: bool"
      ]
     },
     "execution_count": 70,
     "metadata": {},
     "output_type": "execute_result"
    }
   ],
   "source": [
    "df.particul_filter"
   ]
  },
  {
   "cell_type": "code",
   "execution_count": 71,
   "id": "0983422e",
   "metadata": {},
   "outputs": [],
   "source": [
    "df[\"Fuel Type\"] = df.Type.map(lambda x: x[3],na_action='ignore').str.extract(\"([^(]+)\")\n",
    "# ( karakterinden önceki her şeyi al \n",
    "# bu sayede araçların yakıt tiplerini çekmiş olacağız."
   ]
  },
  {
   "cell_type": "code",
   "execution_count": 72,
   "id": "a5b812b9",
   "metadata": {},
   "outputs": [
    {
     "data": {
      "text/plain": [
       "0                          Diesel \n",
       "1                         Gasoline\n",
       "2                          Diesel \n",
       "3                          Diesel \n",
       "4                          Diesel \n",
       "                   ...            \n",
       "15914                      Diesel \n",
       "15915    Super 95 / Super Plus 98 \n",
       "15916                       Diesel\n",
       "15917                       Diesel\n",
       "15918                     Super 95\n",
       "Name: Fuel Type, Length: 15915, dtype: object"
      ]
     },
     "execution_count": 72,
     "metadata": {},
     "output_type": "execute_result"
    }
   ],
   "source": [
    "df[\"Fuel Type\"]"
   ]
  },
  {
   "cell_type": "code",
   "execution_count": 73,
   "id": "d9eff92a",
   "metadata": {},
   "outputs": [
    {
     "data": {
      "text/plain": [
       "0                  [, Used, , Diesel (Particulate Filter)]\n",
       "1                                     [, Used, , Gasoline]\n",
       "2                  [, Used, , Diesel (Particulate Filter)]\n",
       "3                  [, Used, , Diesel (Particulate Filter)]\n",
       "4                  [, Used, , Diesel (Particulate Filter)]\n",
       "                               ...                        \n",
       "15914               [, New, , Diesel (Particulate Filter)]\n",
       "15915    [, Used, , Super 95 / Super Plus 98 (Particula...\n",
       "15916                         [, Pre-registered, , Diesel]\n",
       "15917                         [, Pre-registered, , Diesel]\n",
       "15918                        [, Demonstration, , Super 95]\n",
       "Name: Type, Length: 15915, dtype: object"
      ]
     },
     "execution_count": 73,
     "metadata": {},
     "output_type": "execute_result"
    }
   ],
   "source": [
    "df.Type"
   ]
  },
  {
   "cell_type": "code",
   "execution_count": 74,
   "id": "306058ed",
   "metadata": {},
   "outputs": [],
   "source": [
    "# Type sütunundan Vehicle condition,  Fuel Type ve particul_filter olmak üzere yeni kolanlar oluşturduk\n",
    "# Type sütunu artık düşebiliriz\n",
    "df.drop('Type',axis=1, inplace=True)"
   ]
  },
  {
   "cell_type": "code",
   "execution_count": 75,
   "id": "d83d94d9",
   "metadata": {},
   "outputs": [
    {
     "data": {
      "text/plain": [
       "Index(['make_model', 'body_type', 'price', 'vat', 'km', 'registration',\n",
       "       'prev_owner', 'hp', 'Next Inspection', 'Inspection new', 'Warranty',\n",
       "       'Make', 'Model', 'Body Color', 'Upholstery', 'Body', 'Nr. of Doors',\n",
       "       'Nr. of Seats', 'Gearing Type', 'Displacement', 'Weight', 'Drive chain',\n",
       "       'Consumption', 'CO2 Emission', 'Emission Class',\n",
       "       '\\nComfort & Convenience\\n', '\\nEntertainment & Media\\n', '\\nExtras\\n',\n",
       "       '\\nSafety & Security\\n', 'Emission Label', 'Gears', 'Country version',\n",
       "       'Vehicle condition', 'particul_filter', 'Fuel Type'],\n",
       "      dtype='object')"
      ]
     },
     "execution_count": 75,
     "metadata": {},
     "output_type": "execute_result"
    }
   ],
   "source": [
    "df.columns"
   ]
  },
  {
   "cell_type": "markdown",
   "id": "ae9fb112",
   "metadata": {},
   "source": [
    "### 'Next Inspection' sütunu"
   ]
  },
  {
   "cell_type": "code",
   "execution_count": 76,
   "id": "d09df026",
   "metadata": {},
   "outputs": [
    {
     "data": {
      "text/plain": [
       "Index(['make_model', 'body_type', 'price', 'vat', 'km', 'registration',\n",
       "       'prev_owner', 'hp', 'Next Inspection', 'Inspection new', 'Warranty',\n",
       "       'Make', 'Model', 'Body Color', 'Upholstery', 'Body', 'Nr. of Doors',\n",
       "       'Nr. of Seats', 'Gearing Type', 'Displacement', 'Weight', 'Drive chain',\n",
       "       'Consumption', 'CO2 Emission', 'Emission Class',\n",
       "       '\\nComfort & Convenience\\n', '\\nEntertainment & Media\\n', '\\nExtras\\n',\n",
       "       '\\nSafety & Security\\n', 'Emission Label', 'Gears', 'Country version',\n",
       "       'Vehicle condition', 'particul_filter', 'Fuel Type'],\n",
       "      dtype='object')"
      ]
     },
     "execution_count": 76,
     "metadata": {},
     "output_type": "execute_result"
    }
   ],
   "source": [
    "df.columns"
   ]
  },
  {
   "cell_type": "code",
   "execution_count": 77,
   "id": "02da654f",
   "metadata": {},
   "outputs": [
    {
     "data": {
      "text/plain": [
       "12380"
      ]
     },
     "execution_count": 77,
     "metadata": {},
     "output_type": "execute_result"
    }
   ],
   "source": [
    "df['Next Inspection'].isnull().sum()"
   ]
  },
  {
   "cell_type": "code",
   "execution_count": 78,
   "id": "a98bfe7f",
   "metadata": {},
   "outputs": [],
   "source": [
    "# null sayısına bakılırsa bu sütunu düşebiliriz.\n"
   ]
  },
  {
   "cell_type": "code",
   "execution_count": 79,
   "id": "5366418a",
   "metadata": {},
   "outputs": [],
   "source": [
    "df.drop('Next Inspection',axis=1, inplace=True)"
   ]
  },
  {
   "cell_type": "markdown",
   "id": "3e584c7a",
   "metadata": {},
   "source": [
    "### 'Inspection new' Sütunu"
   ]
  },
  {
   "cell_type": "code",
   "execution_count": 80,
   "id": "70462c5d",
   "metadata": {},
   "outputs": [
    {
     "data": {
      "text/plain": [
       "11983"
      ]
     },
     "execution_count": 80,
     "metadata": {},
     "output_type": "execute_result"
    }
   ],
   "source": [
    "df['Inspection new'].isnull().sum()"
   ]
  },
  {
   "cell_type": "code",
   "execution_count": 81,
   "id": "93bbf53e",
   "metadata": {},
   "outputs": [],
   "source": [
    "# null sayısına bakılırsa bu sütunu da düşebiliriz.\n",
    "df.drop('Inspection new',axis=1,inplace = True)"
   ]
  },
  {
   "cell_type": "markdown",
   "id": "78ecaa08",
   "metadata": {},
   "source": [
    "### 'Warranty' sütunu"
   ]
  },
  {
   "cell_type": "code",
   "execution_count": 82,
   "id": "4b2c5e46",
   "metadata": {},
   "outputs": [
    {
     "data": {
      "text/plain": [
       "5418"
      ]
     },
     "execution_count": 82,
     "metadata": {},
     "output_type": "execute_result"
    }
   ],
   "source": [
    "df.Warranty.isnull().sum()"
   ]
  },
  {
   "cell_type": "code",
   "execution_count": 83,
   "id": "d3a88558",
   "metadata": {},
   "outputs": [
    {
     "data": {
      "text/plain": [
       "7701"
      ]
     },
     "execution_count": 83,
     "metadata": {},
     "output_type": "execute_result"
    }
   ],
   "source": [
    "sum(df.Warranty == \"\")"
   ]
  },
  {
   "cell_type": "code",
   "execution_count": 84,
   "id": "245c750f",
   "metadata": {},
   "outputs": [
    {
     "data": {
      "text/plain": [
       "(7701, 33)"
      ]
     },
     "execution_count": 84,
     "metadata": {},
     "output_type": "execute_result"
    }
   ],
   "source": [
    "df[df.Warranty == \"\"].shape"
   ]
  },
  {
   "cell_type": "code",
   "execution_count": 85,
   "id": "3baad18c",
   "metadata": {},
   "outputs": [],
   "source": [
    "# null ve \"\" ifadeleri 13000 den fazla. Bu sütunun neredeyse tamamı da null. Düşülebilir. \n",
    "df.drop('Warranty',axis=1,inplace=True)"
   ]
  },
  {
   "cell_type": "code",
   "execution_count": 86,
   "id": "57d7cb83",
   "metadata": {},
   "outputs": [
    {
     "data": {
      "text/plain": [
       "Index(['make_model', 'body_type', 'price', 'vat', 'km', 'registration',\n",
       "       'prev_owner', 'hp', 'Make', 'Model', 'Body Color', 'Upholstery', 'Body',\n",
       "       'Nr. of Doors', 'Nr. of Seats', 'Gearing Type', 'Displacement',\n",
       "       'Weight', 'Drive chain', 'Consumption', 'CO2 Emission',\n",
       "       'Emission Class', '\\nComfort & Convenience\\n',\n",
       "       '\\nEntertainment & Media\\n', '\\nExtras\\n', '\\nSafety & Security\\n',\n",
       "       'Emission Label', 'Gears', 'Country version', 'Vehicle condition',\n",
       "       'particul_filter', 'Fuel Type'],\n",
       "      dtype='object')"
      ]
     },
     "execution_count": 86,
     "metadata": {},
     "output_type": "execute_result"
    }
   ],
   "source": [
    "df.columns"
   ]
  },
  {
   "cell_type": "markdown",
   "id": "63e02dca",
   "metadata": {},
   "source": [
    "### Make ve Model Sütunları"
   ]
  },
  {
   "cell_type": "code",
   "execution_count": 87,
   "id": "1fbc9c64",
   "metadata": {},
   "outputs": [],
   "source": [
    "df.Make = df.Make.str.strip(\"\\n\")"
   ]
  },
  {
   "cell_type": "code",
   "execution_count": 88,
   "id": "58f9afd0",
   "metadata": {},
   "outputs": [
    {
     "data": {
      "text/plain": [
       "0           Audi\n",
       "1           Audi\n",
       "2           Audi\n",
       "3           Audi\n",
       "4           Audi\n",
       "          ...   \n",
       "15914    Renault\n",
       "15915    Renault\n",
       "15916    Renault\n",
       "15917    Renault\n",
       "15918    Renault\n",
       "Name: Make, Length: 15915, dtype: object"
      ]
     },
     "execution_count": 88,
     "metadata": {},
     "output_type": "execute_result"
    }
   ],
   "source": [
    "df.Make"
   ]
  },
  {
   "cell_type": "code",
   "execution_count": 89,
   "id": "f90c1099",
   "metadata": {},
   "outputs": [],
   "source": [
    "df.Model = df.Model.map(lambda x: x[1],na_action='ignore')"
   ]
  },
  {
   "cell_type": "markdown",
   "id": "dbc048b6",
   "metadata": {},
   "source": [
    "### 'Body Color' Sütunu"
   ]
  },
  {
   "cell_type": "code",
   "execution_count": 90,
   "id": "e90aed31",
   "metadata": {},
   "outputs": [],
   "source": [
    "df['Body Color'] = df['Body Color'].map(lambda x: x[1],na_action='ignore')"
   ]
  },
  {
   "cell_type": "code",
   "execution_count": 91,
   "id": "1be93f81",
   "metadata": {},
   "outputs": [
    {
     "data": {
      "text/plain": [
       "0        Black\n",
       "1          Red\n",
       "2        Black\n",
       "3        Brown\n",
       "4        Black\n",
       "         ...  \n",
       "15914     Grey\n",
       "15915     Grey\n",
       "15916    White\n",
       "15917     Grey\n",
       "15918     Grey\n",
       "Name: Body Color, Length: 15915, dtype: object"
      ]
     },
     "execution_count": 91,
     "metadata": {},
     "output_type": "execute_result"
    }
   ],
   "source": [
    "df['Body Color']"
   ]
  },
  {
   "cell_type": "code",
   "execution_count": 92,
   "id": "e86659c3",
   "metadata": {},
   "outputs": [
    {
     "ename": "TypeError",
     "evalue": "unhashable type: 'list'",
     "output_type": "error",
     "traceback": [
      "\u001b[1;31m---------------------------------------------------------------------------\u001b[0m",
      "\u001b[1;31mTypeError\u001b[0m                                 Traceback (most recent call last)",
      "\u001b[1;32mpandas\\_libs\\hashtable_class_helper.pxi\u001b[0m in \u001b[0;36mpandas._libs.hashtable.PyObjectHashTable.map_locations\u001b[1;34m()\u001b[0m\n",
      "\u001b[1;31mTypeError\u001b[0m: unhashable type: 'list'"
     ]
    },
    {
     "name": "stderr",
     "output_type": "stream",
     "text": [
      "Exception ignored in: 'pandas._libs.index.IndexEngine._call_map_locations'\n",
      "Traceback (most recent call last):\n",
      "  File \"pandas\\_libs\\hashtable_class_helper.pxi\", line 5231, in pandas._libs.hashtable.PyObjectHashTable.map_locations\n",
      "TypeError: unhashable type: 'list'\n"
     ]
    },
    {
     "data": {
      "text/plain": [
       "[\\nCloth, Black\\n]           5819\n",
       "[\\nPart leather, Black\\n]    1121\n",
       "[\\nCloth\\n]                  1005\n",
       "[\\nCloth, Grey\\n]             891\n",
       "[\\nCloth, Other\\n]            639\n",
       "[\\nFull leather, Black\\n]     575\n",
       "[\\nBlack\\n]                   491\n",
       "[\\nGrey\\n]                    273\n",
       "[\\nOther, Other\\n]            182\n",
       "[\\nPart leather\\n]            140\n",
       "[\\nFull leather\\n]            139\n",
       "[\\nPart leather, Grey\\n]      116\n",
       "[\\nFull leather, Brown\\n]     116\n",
       "[\\nOther, Black\\n]            110\n",
       "[\\nFull leather, Other\\n]      72\n",
       "[\\nFull leather, Grey\\n]       67\n",
       "[\\nPart leather, Other\\n]      65\n",
       "[\\nOther\\n]                    56\n",
       "[\\nPart leather, Brown\\n]      50\n",
       "[\\nalcantara, Black\\n]         47\n",
       "[\\nFull leather, Beige\\n]      36\n",
       "[\\nVelour, Black\\n]            36\n",
       "[\\nCloth, Brown\\n]             28\n",
       "[\\nVelour\\n]                   16\n",
       "[\\nOther, Grey\\n]              15\n",
       "[\\nCloth, Beige\\n]             13\n",
       "[\\nBrown\\n]                    12\n",
       "[\\nCloth, Blue\\n]              12\n",
       "[\\nCloth, White\\n]              8\n",
       "[\\nVelour, Grey\\n]              8\n",
       "[\\nalcantara, Grey\\n]           6\n",
       "[\\nCloth, Red\\n]                5\n",
       "[\\nOther, Yellow\\n]             4\n",
       "[\\nBeige\\n]                     3\n",
       "[\\nPart leather, Red\\n]         3\n",
       "[\\nalcantara\\n]                 2\n",
       "[\\nPart leather, White\\n]       2\n",
       "[\\nBlue\\n]                      2\n",
       "[\\nWhite\\n]                     2\n",
       "[\\nPart leather, Beige\\n]       2\n",
       "[\\nalcantara, Other\\n]          2\n",
       "[\\nFull leather, Blue\\n]        2\n",
       "[\\nOther, Brown\\n]              1\n",
       "[\\nCloth, Orange\\n]             1\n",
       "[\\nFull leather, Red\\n]         1\n",
       "[\\nFull leather, White\\n]       1\n",
       "Name: Upholstery, dtype: int64"
      ]
     },
     "execution_count": 92,
     "metadata": {},
     "output_type": "execute_result"
    }
   ],
   "source": [
    "df.Upholstery.map(lambda x: x).value_counts()\n",
    "# bu sütunu incelediğimiz zaman arabaların koltuklarının deri mi kumaşmı olduğu bilgis ön plana çıkıyor. Ben fiyata etki edecek \n",
    "#olan kumaş mı deri mi kısmını alıp gerisini atacağım. "
   ]
  },
  {
   "cell_type": "code",
   "execution_count": 93,
   "id": "c7651281",
   "metadata": {},
   "outputs": [
    {
     "data": {
      "text/plain": [
       "3718"
      ]
     },
     "execution_count": 93,
     "metadata": {},
     "output_type": "execute_result"
    }
   ],
   "source": [
    "df.Upholstery.isnull().sum()"
   ]
  },
  {
   "cell_type": "code",
   "execution_count": 94,
   "id": "5188f8b4",
   "metadata": {},
   "outputs": [],
   "source": [
    "df.Upholstery = df.Upholstery.map(lambda x: x[0].strip(\"\\n\").split(\",\")[0],na_action='ignore')"
   ]
  },
  {
   "cell_type": "code",
   "execution_count": 95,
   "id": "cb90b25c",
   "metadata": {},
   "outputs": [
    {
     "data": {
      "text/plain": [
       "3718"
      ]
     },
     "execution_count": 95,
     "metadata": {},
     "output_type": "execute_result"
    }
   ],
   "source": [
    "df.Upholstery.isnull().sum()"
   ]
  },
  {
   "cell_type": "code",
   "execution_count": 96,
   "id": "4df09684",
   "metadata": {
    "scrolled": true
   },
   "outputs": [
    {
     "data": {
      "text/plain": [
       "array(['Cloth', None, 'Part leather', 'Full leather', 'Black', 'Other',\n",
       "       'alcantara', 'Velour', 'Grey', 'Blue', 'White', 'Beige', 'Brown'],\n",
       "      dtype=object)"
      ]
     },
     "execution_count": 96,
     "metadata": {},
     "output_type": "execute_result"
    }
   ],
   "source": [
    "df.Upholstery.unique()"
   ]
  },
  {
   "cell_type": "code",
   "execution_count": 97,
   "id": "964193e9",
   "metadata": {},
   "outputs": [
    {
     "data": {
      "text/plain": [
       "0               Cloth\n",
       "1               Cloth\n",
       "2               Cloth\n",
       "3                None\n",
       "4               Cloth\n",
       "             ...     \n",
       "15914            None\n",
       "15915           Cloth\n",
       "15916    Full leather\n",
       "15917    Part leather\n",
       "15918    Full leather\n",
       "Name: Upholstery, Length: 15915, dtype: object"
      ]
     },
     "execution_count": 97,
     "metadata": {},
     "output_type": "execute_result"
    }
   ],
   "source": [
    "df.Upholstery"
   ]
  },
  {
   "cell_type": "code",
   "execution_count": 98,
   "id": "bd9d6670",
   "metadata": {},
   "outputs": [],
   "source": [
    "color = ['Grey','Blue','White','Beige', 'Brown','Black','Other']"
   ]
  },
  {
   "cell_type": "code",
   "execution_count": 99,
   "id": "d275ef74",
   "metadata": {},
   "outputs": [],
   "source": [
    "df.Upholstery = df.Upholstery.map(lambda x: None if x in color else x)"
   ]
  },
  {
   "cell_type": "code",
   "execution_count": 100,
   "id": "4e01ff34",
   "metadata": {},
   "outputs": [
    {
     "data": {
      "text/plain": [
       "0               Cloth\n",
       "1               Cloth\n",
       "2               Cloth\n",
       "3                None\n",
       "4               Cloth\n",
       "             ...     \n",
       "15914            None\n",
       "15915           Cloth\n",
       "15916    Full leather\n",
       "15917    Part leather\n",
       "15918    Full leather\n",
       "Name: Upholstery, Length: 15915, dtype: object"
      ]
     },
     "execution_count": 100,
     "metadata": {},
     "output_type": "execute_result"
    }
   ],
   "source": [
    "df.Upholstery"
   ]
  },
  {
   "cell_type": "code",
   "execution_count": 101,
   "id": "58a85ba8",
   "metadata": {},
   "outputs": [
    {
     "data": {
      "text/plain": [
       "4869"
      ]
     },
     "execution_count": 101,
     "metadata": {},
     "output_type": "execute_result"
    }
   ],
   "source": [
    "df.Upholstery.isnull().sum()"
   ]
  },
  {
   "cell_type": "markdown",
   "id": "aa78d834",
   "metadata": {},
   "source": [
    "### Body Sütunu"
   ]
  },
  {
   "cell_type": "code",
   "execution_count": 102,
   "id": "929c79ae",
   "metadata": {},
   "outputs": [],
   "source": [
    "df.Body = df.Body.map(lambda x: x[1],na_action='ignore')"
   ]
  },
  {
   "cell_type": "markdown",
   "id": "65b51241",
   "metadata": {},
   "source": [
    "### 'Nr. of Doors' sütunu"
   ]
  },
  {
   "cell_type": "code",
   "execution_count": 103,
   "id": "72bc4a8a",
   "metadata": {},
   "outputs": [],
   "source": [
    "df['Nr. of Doors'] = df['Nr. of Doors'].map(lambda x: x[0].strip(\"\\n\"),na_action='ignore')"
   ]
  },
  {
   "cell_type": "code",
   "execution_count": 104,
   "id": "85411965",
   "metadata": {},
   "outputs": [
    {
     "data": {
      "text/plain": [
       "5    11572\n",
       "4     3079\n",
       "3      831\n",
       "2      219\n",
       "1        1\n",
       "7        1\n",
       "Name: Nr. of Doors, dtype: int64"
      ]
     },
     "execution_count": 104,
     "metadata": {},
     "output_type": "execute_result"
    }
   ],
   "source": [
    "df['Nr. of Doors'].value_counts()"
   ]
  },
  {
   "cell_type": "code",
   "execution_count": 105,
   "id": "1502b5f9",
   "metadata": {},
   "outputs": [
    {
     "data": {
      "text/plain": [
       "212"
      ]
     },
     "execution_count": 105,
     "metadata": {},
     "output_type": "execute_result"
    }
   ],
   "source": [
    "df['Nr. of Doors'].isnull().sum()"
   ]
  },
  {
   "cell_type": "code",
   "execution_count": 106,
   "id": "26f3e793",
   "metadata": {},
   "outputs": [],
   "source": [
    "df['Nr. of Doors'] = df['Nr. of Doors'].astype(float)"
   ]
  },
  {
   "cell_type": "code",
   "execution_count": 107,
   "id": "a9250ebd",
   "metadata": {},
   "outputs": [
    {
     "data": {
      "text/plain": [
       "dtype('float64')"
      ]
     },
     "execution_count": 107,
     "metadata": {},
     "output_type": "execute_result"
    }
   ],
   "source": [
    "df['Nr. of Doors'].dtype"
   ]
  },
  {
   "cell_type": "markdown",
   "id": "c867e95c",
   "metadata": {},
   "source": [
    "### 'Gearing Type'"
   ]
  },
  {
   "cell_type": "code",
   "execution_count": 108,
   "id": "97ccf0b7",
   "metadata": {
    "scrolled": true
   },
   "outputs": [
    {
     "data": {
      "text/plain": [
       "array(['Automatic', 'Manual', 'Semi-automatic'], dtype=object)"
      ]
     },
     "execution_count": 108,
     "metadata": {},
     "output_type": "execute_result"
    }
   ],
   "source": [
    "df['Gearing Type'].map(lambda x: x[1],na_action='ignore').unique()"
   ]
  },
  {
   "cell_type": "code",
   "execution_count": 109,
   "id": "94fc1366",
   "metadata": {},
   "outputs": [],
   "source": [
    "df['Gearing Type'] = df['Gearing Type'].map(lambda x: x[1],na_action='ignore')"
   ]
  },
  {
   "cell_type": "code",
   "execution_count": 110,
   "id": "0eb2a923",
   "metadata": {},
   "outputs": [
    {
     "data": {
      "text/plain": [
       "0"
      ]
     },
     "execution_count": 110,
     "metadata": {},
     "output_type": "execute_result"
    }
   ],
   "source": [
    "df['Gearing Type'].isnull().sum()"
   ]
  },
  {
   "cell_type": "code",
   "execution_count": 111,
   "id": "b31f4747",
   "metadata": {},
   "outputs": [
    {
     "data": {
      "text/plain": [
       "Index(['make_model', 'body_type', 'price', 'vat', 'km', 'registration',\n",
       "       'prev_owner', 'hp', 'Make', 'Model', 'Body Color', 'Upholstery', 'Body',\n",
       "       'Nr. of Doors', 'Nr. of Seats', 'Gearing Type', 'Displacement',\n",
       "       'Weight', 'Drive chain', 'Consumption', 'CO2 Emission',\n",
       "       'Emission Class', '\\nComfort & Convenience\\n',\n",
       "       '\\nEntertainment & Media\\n', '\\nExtras\\n', '\\nSafety & Security\\n',\n",
       "       'Emission Label', 'Gears', 'Country version', 'Vehicle condition',\n",
       "       'particul_filter', 'Fuel Type'],\n",
       "      dtype='object')"
      ]
     },
     "execution_count": 111,
     "metadata": {},
     "output_type": "execute_result"
    }
   ],
   "source": [
    "df.columns"
   ]
  },
  {
   "cell_type": "markdown",
   "id": "4bbb1c6e",
   "metadata": {},
   "source": [
    "### 'Displacement' Sütunu"
   ]
  },
  {
   "cell_type": "code",
   "execution_count": 112,
   "id": "5e05b8f4",
   "metadata": {},
   "outputs": [
    {
     "data": {
      "text/plain": [
       "0        [\\n1,422 cc\\n]\n",
       "1        [\\n1,798 cc\\n]\n",
       "2        [\\n1,598 cc\\n]\n",
       "3        [\\n1,422 cc\\n]\n",
       "4        [\\n1,422 cc\\n]\n",
       "              ...      \n",
       "15914    [\\n1,997 cc\\n]\n",
       "15915    [\\n1,798 cc\\n]\n",
       "15916    [\\n1,997 cc\\n]\n",
       "15917    [\\n1,997 cc\\n]\n",
       "15918    [\\n1,798 cc\\n]\n",
       "Name: Displacement, Length: 15915, dtype: object"
      ]
     },
     "execution_count": 112,
     "metadata": {},
     "output_type": "execute_result"
    }
   ],
   "source": [
    "df['Displacement']"
   ]
  },
  {
   "cell_type": "code",
   "execution_count": 113,
   "id": "abf7d461",
   "metadata": {},
   "outputs": [],
   "source": [
    "df['Displacement'] = df['Displacement'].map(lambda x: x[0].strip(\",\\n1\").strip(\" cc\"),na_action='ignore')"
   ]
  },
  {
   "cell_type": "code",
   "execution_count": 114,
   "id": "23ec25ee",
   "metadata": {},
   "outputs": [
    {
     "data": {
      "text/plain": [
       "36"
      ]
     },
     "execution_count": 114,
     "metadata": {},
     "output_type": "execute_result"
    }
   ],
   "source": [
    "sum(df['Displacement'] == '')\n",
    "# 36 tane '' değeri var."
   ]
  },
  {
   "cell_type": "code",
   "execution_count": 115,
   "id": "6415ae42",
   "metadata": {},
   "outputs": [],
   "source": [
    "df['Displacement'] = df['Displacement'].map(lambda x: x if x.isnumeric() else np.nan,na_action='ignore')"
   ]
  },
  {
   "cell_type": "code",
   "execution_count": 116,
   "id": "13f10205",
   "metadata": {},
   "outputs": [
    {
     "data": {
      "text/plain": [
       "0"
      ]
     },
     "execution_count": 116,
     "metadata": {},
     "output_type": "execute_result"
    }
   ],
   "source": [
    "sum(df['Displacement'] == '')\n",
    "# kodumu çalışmış"
   ]
  },
  {
   "cell_type": "code",
   "execution_count": 117,
   "id": "606dbcb4",
   "metadata": {},
   "outputs": [],
   "source": [
    "df['Displacement'] = df['Displacement'].astype(float)"
   ]
  },
  {
   "cell_type": "code",
   "execution_count": 118,
   "id": "18a7dbe0",
   "metadata": {},
   "outputs": [
    {
     "data": {
      "text/plain": [
       "601"
      ]
     },
     "execution_count": 118,
     "metadata": {},
     "output_type": "execute_result"
    }
   ],
   "source": [
    "df['Displacement'].isnull().sum()"
   ]
  },
  {
   "cell_type": "code",
   "execution_count": 119,
   "id": "e9c150f1",
   "metadata": {},
   "outputs": [
    {
     "data": {
      "text/plain": [
       "41"
      ]
     },
     "execution_count": 119,
     "metadata": {},
     "output_type": "execute_result"
    }
   ],
   "source": [
    "sum(df.Displacement== 0.)"
   ]
  },
  {
   "cell_type": "code",
   "execution_count": 120,
   "id": "6c777f87",
   "metadata": {},
   "outputs": [],
   "source": [
    "df.Displacement = df.Displacement.map(lambda x: np.nan if x == 0. else x)"
   ]
  },
  {
   "cell_type": "code",
   "execution_count": 121,
   "id": "88bfaaa3",
   "metadata": {},
   "outputs": [
    {
     "data": {
      "text/plain": [
       "0"
      ]
     },
     "execution_count": 121,
     "metadata": {},
     "output_type": "execute_result"
    }
   ],
   "source": [
    "sum(df.Displacement== 0.)"
   ]
  },
  {
   "cell_type": "code",
   "execution_count": 122,
   "id": "70b40fd9",
   "metadata": {},
   "outputs": [
    {
     "data": {
      "text/plain": [
       "642"
      ]
     },
     "execution_count": 122,
     "metadata": {},
     "output_type": "execute_result"
    }
   ],
   "source": [
    "df['Displacement'].isnull().sum()"
   ]
  },
  {
   "cell_type": "markdown",
   "id": "689c85f1",
   "metadata": {},
   "source": [
    "### Weight Sütunu"
   ]
  },
  {
   "cell_type": "code",
   "execution_count": 123,
   "id": "39888b6a",
   "metadata": {},
   "outputs": [
    {
     "data": {
      "text/plain": [
       "['\\n1,220 kg\\n']"
      ]
     },
     "execution_count": 123,
     "metadata": {},
     "output_type": "execute_result"
    }
   ],
   "source": [
    "df.Weight[0]\n",
    "# tek bir satır ile veri tipimizi tanımış olduk.\n",
    "# weight sütununda birim yazmasına gerek yok. Bu sütunu da float yapabiliriz\n"
   ]
  },
  {
   "cell_type": "code",
   "execution_count": 124,
   "id": "2d1461b1",
   "metadata": {},
   "outputs": [],
   "source": [
    "df.Weight = df.Weight.map(lambda x: x[0].strip('\\n1,').strip(\" kg\"),na_action='ignore')"
   ]
  },
  {
   "cell_type": "code",
   "execution_count": 125,
   "id": "833c4fa9",
   "metadata": {},
   "outputs": [
    {
     "data": {
      "text/plain": [
       "6974"
      ]
     },
     "execution_count": 125,
     "metadata": {},
     "output_type": "execute_result"
    }
   ],
   "source": [
    "df.Weight.isnull().sum()"
   ]
  },
  {
   "cell_type": "markdown",
   "id": "90893ac6",
   "metadata": {},
   "source": [
    "### 'Drive chain' Sütunu\n"
   ]
  },
  {
   "cell_type": "code",
   "execution_count": 126,
   "id": "27a7bee6",
   "metadata": {
    "scrolled": true
   },
   "outputs": [
    {
     "data": {
      "text/plain": [
       "0        [\\nfront\\n]\n",
       "1        [\\nfront\\n]\n",
       "2        [\\nfront\\n]\n",
       "3               None\n",
       "4        [\\nfront\\n]\n",
       "            ...     \n",
       "15914    [\\nfront\\n]\n",
       "15915    [\\nfront\\n]\n",
       "15916    [\\nfront\\n]\n",
       "15917    [\\nfront\\n]\n",
       "15918      [\\n4WD\\n]\n",
       "Name: Drive chain, Length: 15915, dtype: object"
      ]
     },
     "execution_count": 126,
     "metadata": {},
     "output_type": "execute_result"
    }
   ],
   "source": [
    "df['Drive chain']"
   ]
  },
  {
   "cell_type": "code",
   "execution_count": 127,
   "id": "f3df0ba0",
   "metadata": {},
   "outputs": [],
   "source": [
    "df['Drive chain'] = df['Drive chain'].map(lambda x: x[0].strip('\\n'),na_action='ignore')"
   ]
  },
  {
   "cell_type": "code",
   "execution_count": 128,
   "id": "495e95ba",
   "metadata": {},
   "outputs": [
    {
     "data": {
      "text/plain": [
       "array(['front', None, '4WD', 'rear'], dtype=object)"
      ]
     },
     "execution_count": 128,
     "metadata": {},
     "output_type": "execute_result"
    }
   ],
   "source": [
    "df['Drive chain'].unique()"
   ]
  },
  {
   "cell_type": "code",
   "execution_count": 129,
   "id": "cf81b215",
   "metadata": {},
   "outputs": [
    {
     "data": {
      "text/plain": [
       "6854"
      ]
     },
     "execution_count": 129,
     "metadata": {},
     "output_type": "execute_result"
    }
   ],
   "source": [
    "df['Drive chain'].isnull().sum()"
   ]
  },
  {
   "cell_type": "markdown",
   "id": "ec5cce6b",
   "metadata": {},
   "source": [
    "### Consumption "
   ]
  },
  {
   "cell_type": "markdown",
   "id": "8d96c380",
   "metadata": {},
   "source": [
    "* bu sütunda 3 farklı veri bulunmakta fakat bazı sütunlarda 3 ten daha az veya \n",
    "* daha fazla verilerde bulunmakta. Bu nedenle sütunda gerekli temizlikleri yaptıktan sonra ortalama alacağız. "
   ]
  },
  {
   "cell_type": "code",
   "execution_count": 130,
   "id": "01d5cdcc",
   "metadata": {},
   "outputs": [
    {
     "ename": "TypeError",
     "evalue": "unhashable type: 'list'",
     "output_type": "error",
     "traceback": [
      "\u001b[1;31m---------------------------------------------------------------------------\u001b[0m",
      "\u001b[1;31mTypeError\u001b[0m                                 Traceback (most recent call last)",
      "\u001b[1;32mpandas\\_libs\\hashtable_class_helper.pxi\u001b[0m in \u001b[0;36mpandas._libs.hashtable.PyObjectHashTable.map_locations\u001b[1;34m()\u001b[0m\n",
      "\u001b[1;31mTypeError\u001b[0m: unhashable type: 'list'"
     ]
    },
    {
     "name": "stderr",
     "output_type": "stream",
     "text": [
      "Exception ignored in: 'pandas._libs.index.IndexEngine._call_map_locations'\n",
      "Traceback (most recent call last):\n",
      "  File \"pandas\\_libs\\hashtable_class_helper.pxi\", line 5231, in pandas._libs.hashtable.PyObjectHashTable.map_locations\n",
      "TypeError: unhashable type: 'list'\n"
     ]
    },
    {
     "data": {
      "text/plain": [
       "[[3.9 l/100 km (comb)], [4.1 l/100 km (city)], [3.7 l/100 km (country)]]              304\n",
       "[[4.2 l/100 km (comb)], [5 l/100 km (city)], [3.7 l/100 km (country)]]                276\n",
       "[[5.4 l/100 km (comb)], [6.8 l/100 km (city)], [4.5 l/100 km (country)]]              257\n",
       "[[3.8 l/100 km (comb)], [4.3 l/100 km (city)], [3.5 l/100 km (country)]]              253\n",
       "[[4.7 l/100 km (comb)], [5.1 l/100 km (city)], [4.4 l/100 km (country)]]              244\n",
       "                                                                                     ... \n",
       "[[3.7 l/100 km (comb)], [4.5 l/100 km (city)], [3.3 l/100 km (country)]]                1\n",
       "[[4.2 l/100 km (comb)], [5.3 l/100 km (city)], [3.6 l/100 km (country)]]                1\n",
       "[\\n, 5.1 l/100 km (comb), \\n, 6.4 l/100 km (city), \\n, 4.3 l/100 km (country), \\n]      1\n",
       "[[4.6 l/100 km (comb)], [5.4 l/100 km (city)], [6.7 l/100 km (country)]]                1\n",
       "[\\n, 7.4 l/100 km (comb), \\n, 9.6 l/100 km (city), \\n, 6 l/100 km (country), \\n]        1\n",
       "Name: Consumption, Length: 881, dtype: int64"
      ]
     },
     "execution_count": 130,
     "metadata": {},
     "output_type": "execute_result"
    }
   ],
   "source": [
    "df.Consumption.value_counts()"
   ]
  },
  {
   "cell_type": "code",
   "execution_count": 131,
   "id": "803ad5b4",
   "metadata": {
    "scrolled": true
   },
   "outputs": [
    {
     "data": {
      "text/plain": [
       "[['3.8 l/100 km (comb)'], ['4.3 l/100 km (city)'], ['3.5 l/100 km (country)']]"
      ]
     },
     "execution_count": 131,
     "metadata": {},
     "output_type": "execute_result"
    }
   ],
   "source": [
    "df.Consumption[0]"
   ]
  },
  {
   "cell_type": "code",
   "execution_count": 132,
   "id": "8a47905b",
   "metadata": {
    "scrolled": false
   },
   "outputs": [
    {
     "data": {
      "text/plain": [
       "6877     [[3.4 l/100 km (comb)], [3.9 l/100 km (city)],...\n",
       "760      [[3.7 l/100 km (comb)], [4.2 l/100 km (city)],...\n",
       "3565     [[3.7 l/100 km (comb)], [4.2 l/100 km (city)],...\n",
       "10843    [[5.1 l/100 km (comb)], [6.5 l/100 km (city)],...\n",
       "13685    [[3.6 l/100 km (comb)], [4.3 l/100 km (city)],...\n",
       "14773                                                 None\n",
       "10428                                                 None\n",
       "9509     [[5.7 l/100 km (comb)], [7.3 l/100 km (city)],...\n",
       "10922    [[5.8 l/100 km (comb)], [7.5 l/100 km (city)],...\n",
       "10836    [[4.9 l/100 km (comb)], [6.4 l/100 km (city)],...\n",
       "Name: Consumption, dtype: object"
      ]
     },
     "execution_count": 132,
     "metadata": {},
     "output_type": "execute_result"
    }
   ],
   "source": [
    "df.Consumption.sample(10)"
   ]
  },
  {
   "cell_type": "code",
   "execution_count": null,
   "id": "a0286ea2",
   "metadata": {},
   "outputs": [],
   "source": []
  },
  {
   "cell_type": "code",
   "execution_count": 133,
   "id": "5d9bde79",
   "metadata": {},
   "outputs": [
    {
     "data": {
      "text/plain": [
       "['\\n',\n",
       " '5 l/100 km (comb)',\n",
       " '\\n',\n",
       " '5.9 l/100 km (city)',\n",
       " '\\n',\n",
       " '4.5 l/100 km (country)',\n",
       " '\\n']"
      ]
     },
     "execution_count": 133,
     "metadata": {},
     "output_type": "execute_result"
    }
   ],
   "source": [
    "df.Consumption[8013]\n",
    "# bu index de 7 eleman var. \n",
    "# boş elemanların hepsi de \\n\n"
   ]
  },
  {
   "cell_type": "code",
   "execution_count": 134,
   "id": "18c1bf7f",
   "metadata": {
    "scrolled": true
   },
   "outputs": [
    {
     "data": {
      "text/plain": [
       "[['4 l/100 km (comb)'], ['4.6 l/100 km (city)'], ['3.6 l/100 km (country)']]"
      ]
     },
     "execution_count": 134,
     "metadata": {},
     "output_type": "execute_result"
    }
   ],
   "source": [
    "df.Consumption[10]"
   ]
  },
  {
   "cell_type": "code",
   "execution_count": 135,
   "id": "eaa9f1c4",
   "metadata": {},
   "outputs": [
    {
     "data": {
      "text/plain": [
       "Index(['make_model', 'body_type', 'price', 'vat', 'km', 'registration',\n",
       "       'prev_owner', 'hp', 'Make', 'Model', 'Body Color', 'Upholstery', 'Body',\n",
       "       'Nr. of Doors', 'Nr. of Seats', 'Gearing Type', 'Displacement',\n",
       "       'Weight', 'Drive chain', 'Consumption', 'CO2 Emission',\n",
       "       'Emission Class', '\\nComfort & Convenience\\n',\n",
       "       '\\nEntertainment & Media\\n', '\\nExtras\\n', '\\nSafety & Security\\n',\n",
       "       'Emission Label', 'Gears', 'Country version', 'Vehicle condition',\n",
       "       'particul_filter', 'Fuel Type'],\n",
       "      dtype='object')"
      ]
     },
     "execution_count": 135,
     "metadata": {},
     "output_type": "execute_result"
    }
   ],
   "source": [
    "df.columns"
   ]
  },
  {
   "cell_type": "markdown",
   "id": "db918619",
   "metadata": {},
   "source": [
    "### CO2 Emission sütunu"
   ]
  },
  {
   "cell_type": "code",
   "execution_count": 136,
   "id": "b828de49",
   "metadata": {},
   "outputs": [
    {
     "data": {
      "text/plain": [
       "['\\n99 g CO2/km (comb)\\n']"
      ]
     },
     "execution_count": 136,
     "metadata": {},
     "output_type": "execute_result"
    }
   ],
   "source": [
    "df['CO2 Emission'][0]"
   ]
  },
  {
   "cell_type": "code",
   "execution_count": 137,
   "id": "8ec464c3",
   "metadata": {},
   "outputs": [
    {
     "ename": "TypeError",
     "evalue": "unhashable type: 'list'",
     "output_type": "error",
     "traceback": [
      "\u001b[1;31m---------------------------------------------------------------------------\u001b[0m",
      "\u001b[1;31mTypeError\u001b[0m                                 Traceback (most recent call last)",
      "\u001b[1;32mpandas\\_libs\\hashtable_class_helper.pxi\u001b[0m in \u001b[0;36mpandas._libs.hashtable.PyObjectHashTable.map_locations\u001b[1;34m()\u001b[0m\n",
      "\u001b[1;31mTypeError\u001b[0m: unhashable type: 'list'"
     ]
    },
    {
     "name": "stderr",
     "output_type": "stream",
     "text": [
      "Exception ignored in: 'pandas._libs.index.IndexEngine._call_map_locations'\n",
      "Traceback (most recent call last):\n",
      "  File \"pandas\\_libs\\hashtable_class_helper.pxi\", line 5231, in pandas._libs.hashtable.PyObjectHashTable.map_locations\n",
      "TypeError: unhashable type: 'list'\n"
     ]
    },
    {
     "data": {
      "text/plain": [
       "[\\n119 g CO2/km (comb)\\n]    361\n",
       "[\\n135 g CO2/km (comb)\\n]    202\n",
       "[\\n132 g CO2/km (comb)\\n]    100\n",
       "[\\n159 g CO2/km (comb)\\n]      7\n",
       "[\\n116 g CO2/km (comb)\\n]    157\n",
       "[[], [], []]                 627\n",
       "[\\n199 g CO2/km (comb)\\n]      2\n",
       "[\\n131 g CO2/km (comb)\\n]     48\n",
       "[\\n130 g CO2/km (comb)\\n]    180\n",
       "[\\n98 g CO2/km (comb)\\n]     151\n",
       "Name: CO2 Emission, dtype: int64"
      ]
     },
     "execution_count": 137,
     "metadata": {},
     "output_type": "execute_result"
    }
   ],
   "source": [
    "df['CO2 Emission'].value_counts().sample(10)"
   ]
  },
  {
   "cell_type": "code",
   "execution_count": 138,
   "id": "dd4bea57",
   "metadata": {},
   "outputs": [],
   "source": [
    "# tüm satırlar tek elemanlı listeden oluşuyor. 1 den fazla elemanı olan \n",
    "# tüm satırlar [[], [], []]  şeklinde bunları none yapacağız."
   ]
  },
  {
   "cell_type": "code",
   "execution_count": 139,
   "id": "f0c1078f",
   "metadata": {},
   "outputs": [],
   "source": [
    "df['CO2 Emission'] = df['CO2 Emission'].map(lambda x: None if len(x) > 3 else x,na_action='ignore') "
   ]
  },
  {
   "cell_type": "code",
   "execution_count": 140,
   "id": "54ce3b41",
   "metadata": {},
   "outputs": [
    {
     "data": {
      "text/plain": [
       "0         99 g CO2/km (comb)\n",
       "1        129 g CO2/km (comb)\n",
       "2         99 g CO2/km (comb)\n",
       "3         99 g CO2/km (comb)\n",
       "4        109 g CO2/km (comb)\n",
       "                ...         \n",
       "15914    139 g CO2/km (comb)\n",
       "15915    168 g CO2/km (comb)\n",
       "15916    139 g CO2/km (comb)\n",
       "15917    139 g CO2/km (comb)\n",
       "15918    153 g CO2/km (comb)\n",
       "Name: CO2 Emission, Length: 15915, dtype: object"
      ]
     },
     "execution_count": 140,
     "metadata": {},
     "output_type": "execute_result"
    }
   ],
   "source": [
    "df['CO2 Emission'] = df['CO2 Emission'].map(lambda x: x[0],na_action='ignore').str.strip(\"\\n\")\n",
    "df['CO2 Emission']"
   ]
  },
  {
   "cell_type": "code",
   "execution_count": 141,
   "id": "bcb4d2ec",
   "metadata": {},
   "outputs": [],
   "source": [
    "# df['CO2 Emission'].str.strip(\" g CO2/km (comb)\").astype(float)"
   ]
  },
  {
   "cell_type": "code",
   "execution_count": 142,
   "id": "e62ab8f4",
   "metadata": {},
   "outputs": [],
   "source": [
    "df['CO2 Emission'] = df['CO2 Emission'].str.replace(\",\",\".\")"
   ]
  },
  {
   "cell_type": "code",
   "execution_count": 143,
   "id": "440cd00e",
   "metadata": {},
   "outputs": [],
   "source": [
    "df['CO2 Emission'] = df['CO2 Emission'].str.strip(\" g CO2/km (comb)\").astype(float)"
   ]
  },
  {
   "cell_type": "code",
   "execution_count": 144,
   "id": "3814e17d",
   "metadata": {},
   "outputs": [
    {
     "data": {
      "text/plain": [
       "2435"
      ]
     },
     "execution_count": 144,
     "metadata": {},
     "output_type": "execute_result"
    }
   ],
   "source": [
    "df['CO2 Emission'].isnull().sum()"
   ]
  },
  {
   "cell_type": "code",
   "execution_count": 145,
   "id": "e318a713",
   "metadata": {},
   "outputs": [
    {
     "data": {
      "text/plain": [
       "0         99.0\n",
       "1        129.0\n",
       "2         99.0\n",
       "3         99.0\n",
       "4        109.0\n",
       "         ...  \n",
       "15914    139.0\n",
       "15915    168.0\n",
       "15916    139.0\n",
       "15917    139.0\n",
       "15918    153.0\n",
       "Name: CO2 Emission, Length: 15915, dtype: float64"
      ]
     },
     "execution_count": 145,
     "metadata": {},
     "output_type": "execute_result"
    }
   ],
   "source": [
    "df['CO2 Emission']"
   ]
  },
  {
   "cell_type": "code",
   "execution_count": 146,
   "id": "5f1cabff",
   "metadata": {},
   "outputs": [
    {
     "data": {
      "text/plain": [
       "2435"
      ]
     },
     "execution_count": 146,
     "metadata": {},
     "output_type": "execute_result"
    }
   ],
   "source": [
    "df['CO2 Emission'].isnull().sum()"
   ]
  },
  {
   "cell_type": "code",
   "execution_count": 147,
   "id": "bc6ec74e",
   "metadata": {
    "scrolled": true
   },
   "outputs": [
    {
     "data": {
      "text/plain": [
       "Index(['make_model', 'body_type', 'price', 'vat', 'km', 'registration',\n",
       "       'prev_owner', 'hp', 'Make', 'Model', 'Body Color', 'Upholstery', 'Body',\n",
       "       'Nr. of Doors', 'Nr. of Seats', 'Gearing Type', 'Displacement',\n",
       "       'Weight', 'Drive chain', 'Consumption', 'CO2 Emission',\n",
       "       'Emission Class', '\\nComfort & Convenience\\n',\n",
       "       '\\nEntertainment & Media\\n', '\\nExtras\\n', '\\nSafety & Security\\n',\n",
       "       'Emission Label', 'Gears', 'Country version', 'Vehicle condition',\n",
       "       'particul_filter', 'Fuel Type'],\n",
       "      dtype='object')"
      ]
     },
     "execution_count": 147,
     "metadata": {},
     "output_type": "execute_result"
    }
   ],
   "source": [
    "df.columns"
   ]
  },
  {
   "cell_type": "markdown",
   "id": "384950d1",
   "metadata": {},
   "source": [
    "### 'Emission Class' Sütunu"
   ]
  },
  {
   "cell_type": "code",
   "execution_count": 148,
   "id": "2afff0f7",
   "metadata": {},
   "outputs": [
    {
     "ename": "TypeError",
     "evalue": "unhashable type: 'list'",
     "output_type": "error",
     "traceback": [
      "\u001b[1;31m---------------------------------------------------------------------------\u001b[0m",
      "\u001b[1;31mTypeError\u001b[0m                                 Traceback (most recent call last)",
      "\u001b[1;32mpandas\\_libs\\hashtable_class_helper.pxi\u001b[0m in \u001b[0;36mpandas._libs.hashtable.PyObjectHashTable.map_locations\u001b[1;34m()\u001b[0m\n",
      "\u001b[1;31mTypeError\u001b[0m: unhashable type: 'list'"
     ]
    },
    {
     "name": "stderr",
     "output_type": "stream",
     "text": [
      "Exception ignored in: 'pandas._libs.index.IndexEngine._call_map_locations'\n",
      "Traceback (most recent call last):\n",
      "  File \"pandas\\_libs\\hashtable_class_helper.pxi\", line 5231, in pandas._libs.hashtable.PyObjectHashTable.map_locations\n",
      "TypeError: unhashable type: 'list'\n"
     ]
    },
    {
     "data": {
      "text/plain": [
       "[\\nEuro 6\\n]          10137\n",
       "NaN                    3020\n",
       "[\\nEuro 6d-TEMP\\n]     1844\n",
       "[[], [], []]            607\n",
       "[\\nEuro 6c\\n]           127\n",
       "[\\nEuro 5\\n]             78\n",
       "[\\nEuro 6d\\n]            62\n",
       "[\\nEuro 4\\n]             40\n",
       "Name: Emission Class, dtype: int64"
      ]
     },
     "execution_count": 148,
     "metadata": {},
     "output_type": "execute_result"
    }
   ],
   "source": [
    "df['Emission Class'].value_counts(dropna = False)"
   ]
  },
  {
   "cell_type": "code",
   "execution_count": 149,
   "id": "7165b806",
   "metadata": {},
   "outputs": [
    {
     "data": {
      "text/plain": [
       "['\\nEuro 6\\n']"
      ]
     },
     "execution_count": 149,
     "metadata": {},
     "output_type": "execute_result"
    }
   ],
   "source": [
    "df['Emission Class'][0]\n",
    "# tek parça string eleman"
   ]
  },
  {
   "cell_type": "code",
   "execution_count": 150,
   "id": "5a2cae60",
   "metadata": {},
   "outputs": [],
   "source": [
    "df['Emission Class'] = df['Emission Class'].map(lambda x: np.nan if len(x)>3 else x,na_action='ignore')"
   ]
  },
  {
   "cell_type": "code",
   "execution_count": 151,
   "id": "0a806ad2",
   "metadata": {},
   "outputs": [
    {
     "data": {
      "text/plain": [
       "0              [\\nEuro 6\\n]\n",
       "1              [\\nEuro 6\\n]\n",
       "2              [\\nEuro 6\\n]\n",
       "3              [\\nEuro 6\\n]\n",
       "4              [\\nEuro 6\\n]\n",
       "                ...        \n",
       "15914                  None\n",
       "15915                  None\n",
       "15916    [\\nEuro 6d-TEMP\\n]\n",
       "15917          [\\nEuro 6\\n]\n",
       "15918          [\\nEuro 6\\n]\n",
       "Name: Emission Class, Length: 15915, dtype: object"
      ]
     },
     "execution_count": 151,
     "metadata": {},
     "output_type": "execute_result"
    }
   ],
   "source": [
    "df['Emission Class']"
   ]
  },
  {
   "cell_type": "code",
   "execution_count": 152,
   "id": "88a71300",
   "metadata": {},
   "outputs": [],
   "source": [
    "df['Emission Class'] = df['Emission Class'].map(lambda x: x[0],na_action='ignore').str.strip(\"\\n\")"
   ]
  },
  {
   "cell_type": "code",
   "execution_count": 153,
   "id": "4be3a299",
   "metadata": {},
   "outputs": [
    {
     "data": {
      "text/plain": [
       "array(['Euro 6', None, 'Euro 5', 'Euro 6d-TEMP', nan, 'Euro 6c', 'Euro 4',\n",
       "       'Euro 6d'], dtype=object)"
      ]
     },
     "execution_count": 153,
     "metadata": {},
     "output_type": "execute_result"
    }
   ],
   "source": [
    "df['Emission Class'].unique()"
   ]
  },
  {
   "cell_type": "code",
   "execution_count": 154,
   "id": "ddaacca6",
   "metadata": {},
   "outputs": [
    {
     "data": {
      "text/plain": [
       "151            Euro 6\n",
       "7955             None\n",
       "5045             None\n",
       "5535     Euro 6d-TEMP\n",
       "2294           Euro 6\n",
       "1046           Euro 6\n",
       "14152          Euro 6\n",
       "11781            None\n",
       "13903          Euro 6\n",
       "585            Euro 6\n",
       "Name: Emission Class, dtype: object"
      ]
     },
     "execution_count": 154,
     "metadata": {},
     "output_type": "execute_result"
    }
   ],
   "source": [
    "df['Emission Class'].sample(10)"
   ]
  },
  {
   "cell_type": "code",
   "execution_count": 155,
   "id": "13f3e8bc",
   "metadata": {},
   "outputs": [
    {
     "data": {
      "text/plain": [
       "array(['Euro 6', 'Euro 5', 'Euro 6d-TEMP', 'Euro 6c', 'Euro 4', 'Euro 6d'],\n",
       "      dtype=object)"
      ]
     },
     "execution_count": 155,
     "metadata": {},
     "output_type": "execute_result"
    }
   ],
   "source": [
    "df['Emission Class'].dropna().unique()"
   ]
  },
  {
   "cell_type": "markdown",
   "id": "986dd824",
   "metadata": {},
   "source": [
    "### ['\\nComfort & Convenience\\n'] Sütunu"
   ]
  },
  {
   "cell_type": "code",
   "execution_count": 156,
   "id": "fddfc6c0",
   "metadata": {},
   "outputs": [],
   "source": [
    "df.rename(columns={'\\nComfort & Convenience\\n':'comfort'},inplace=True)"
   ]
  },
  {
   "cell_type": "code",
   "execution_count": 157,
   "id": "31a55e75",
   "metadata": {},
   "outputs": [
    {
     "data": {
      "text/plain": [
       "0        [Air conditioning, Armrest, Automatic climate ...\n",
       "1        [Air conditioning, Automatic climate control, ...\n",
       "2        [Air conditioning, Cruise control, Electrical ...\n",
       "3        [Air suspension, Armrest, Auxiliary heating, E...\n",
       "4        [Air conditioning, Armrest, Automatic climate ...\n",
       "                               ...                        \n",
       "15914    [Air conditioning, Automatic climate control, ...\n",
       "15915    [Air conditioning, Automatic climate control, ...\n",
       "15916    [Air conditioning, Armrest, Automatic climate ...\n",
       "15917    [Air conditioning, Automatic climate control, ...\n",
       "15918    [Air conditioning, Automatic climate control, ...\n",
       "Name: comfort, Length: 15915, dtype: object"
      ]
     },
     "execution_count": 157,
     "metadata": {},
     "output_type": "execute_result"
    }
   ],
   "source": [
    "df.comfort"
   ]
  },
  {
   "cell_type": "code",
   "execution_count": 158,
   "id": "706a486d",
   "metadata": {},
   "outputs": [],
   "source": [
    "comfort_unique = []\n",
    "for i in df.comfort.dropna():\n",
    "        for j in i:\n",
    "            if j not in comfort_unique:\n",
    "                comfort_unique.append(j)\n",
    "            \n",
    "    \n",
    "        \n",
    "        "
   ]
  },
  {
   "cell_type": "code",
   "execution_count": 159,
   "id": "417523aa",
   "metadata": {},
   "outputs": [
    {
     "data": {
      "text/plain": [
       "['Air conditioning',\n",
       " 'Armrest',\n",
       " 'Automatic climate control',\n",
       " 'Cruise control',\n",
       " 'Electrical side mirrors',\n",
       " 'Hill Holder',\n",
       " 'Leather steering wheel',\n",
       " 'Light sensor',\n",
       " 'Multi-function steering wheel',\n",
       " 'Navigation system',\n",
       " 'Park Distance Control',\n",
       " 'Parking assist system sensors rear',\n",
       " 'Power windows',\n",
       " 'Rain sensor',\n",
       " 'Seat heating',\n",
       " 'Start-stop system',\n",
       " 'Lumbar support',\n",
       " 'Tinted windows',\n",
       " 'Parking assist system sensors front',\n",
       " 'Air suspension',\n",
       " 'Auxiliary heating',\n",
       " 'Heads-up display',\n",
       " 'Split rear seats',\n",
       " 'Keyless central door lock',\n",
       " 'Electrically heated windshield',\n",
       " 'Seat ventilation',\n",
       " 'Wind deflector',\n",
       " 'Leather seats',\n",
       " 'Sunroof',\n",
       " 'Panorama roof',\n",
       " 'Parking assist system camera',\n",
       " 'Electrically adjustable seats',\n",
       " 'Parking assist system self-steering',\n",
       " 'Windshield',\n",
       " 'Electric tailgate',\n",
       " 'Heated steering wheel',\n",
       " 'Massage seats',\n",
       " 'Electric Starter']"
      ]
     },
     "execution_count": 159,
     "metadata": {},
     "output_type": "execute_result"
    }
   ],
   "source": [
    "comfort_unique\n",
    "# unique özelliklerin hepsini bir listede topladık. "
   ]
  },
  {
   "cell_type": "code",
   "execution_count": 160,
   "id": "cf0e78c8",
   "metadata": {
    "scrolled": true
   },
   "outputs": [],
   "source": [
    "# daha sonra bu sütunda yer alan uniq değerlerin hepsinden  sütunlar\n",
    "# oluşturup her bir sütunda yer alan anahtar kelime için true false atayacağız. "
   ]
  },
  {
   "cell_type": "code",
   "execution_count": 161,
   "id": "ceb86f44",
   "metadata": {},
   "outputs": [
    {
     "data": {
      "text/plain": [
       "['Air conditioning',\n",
       " 'Armrest',\n",
       " 'Automatic climate control',\n",
       " 'Cruise control',\n",
       " 'Electrical side mirrors',\n",
       " 'Hill Holder',\n",
       " 'Leather steering wheel',\n",
       " 'Light sensor',\n",
       " 'Multi-function steering wheel',\n",
       " 'Navigation system',\n",
       " 'Park Distance Control',\n",
       " 'Parking assist system sensors rear',\n",
       " 'Power windows',\n",
       " 'Rain sensor',\n",
       " 'Seat heating',\n",
       " 'Start-stop system']"
      ]
     },
     "execution_count": 161,
     "metadata": {},
     "output_type": "execute_result"
    }
   ],
   "source": [
    "df.comfort.map(lambda x: x)[0]"
   ]
  },
  {
   "cell_type": "code",
   "execution_count": 162,
   "id": "104b2f73",
   "metadata": {},
   "outputs": [],
   "source": [
    "liste = ['Air conditioning',\n",
    " 'Armrest',\n",
    " 'Automatic climate control',\n",
    " 'Cruise control',\n",
    " 'Electrical side mirrors',\n",
    " 'Hill Holder',\n",
    " 'Leather steering wheel',\n",
    " 'Light sensor',\n",
    " 'Multi-function steering wheel',\n",
    " 'Navigation system',\n",
    " 'Park Distance Control',\n",
    " 'Parking assist system sensors rear',\n",
    " 'Power windows',\n",
    " 'Rain sensor',\n",
    " 'Seat heating',\n",
    " 'Start-stop system']"
   ]
  },
  {
   "cell_type": "code",
   "execution_count": 163,
   "id": "537edab3",
   "metadata": {},
   "outputs": [],
   "source": [
    "string = \",\".join(liste)"
   ]
  },
  {
   "cell_type": "code",
   "execution_count": 164,
   "id": "8a95046c",
   "metadata": {},
   "outputs": [
    {
     "data": {
      "text/plain": [
       "'Air conditioning,Armrest,Automatic climate control,Cruise control,Electrical side mirrors,Hill Holder,Leather steering wheel,Light sensor,Multi-function steering wheel,Navigation system,Park Distance Control,Parking assist system sensors rear,Power windows,Rain sensor,Seat heating,Start-stop system'"
      ]
     },
     "execution_count": 164,
     "metadata": {},
     "output_type": "execute_result"
    }
   ],
   "source": [
    "string"
   ]
  },
  {
   "cell_type": "code",
   "execution_count": 165,
   "id": "46ff7b3d",
   "metadata": {},
   "outputs": [],
   "source": [
    "# df[\"col_name\"] = [item[0] if type(item) == list else item for item in df[\"col_name\"]]\n",
    "# df[\"col_name\"] = df[\"col_name\"].apply(lambda item: item[0] if type(item) == list else item)\n",
    "# stewe hocanın çözümü"
   ]
  },
  {
   "cell_type": "code",
   "execution_count": 166,
   "id": "4b199a5e",
   "metadata": {},
   "outputs": [
    {
     "data": {
      "text/plain": [
       "0        Air conditioning,Armrest,Automatic climate con...\n",
       "1        Air conditioning,Automatic climate control,Hil...\n",
       "2        Air conditioning,Cruise control,Electrical sid...\n",
       "3        Air suspension,Armrest,Auxiliary heating,Elect...\n",
       "4        Air conditioning,Armrest,Automatic climate con...\n",
       "                               ...                        \n",
       "15914    Air conditioning,Automatic climate control,Cru...\n",
       "15915    Air conditioning,Automatic climate control,Cru...\n",
       "15916    Air conditioning,Armrest,Automatic climate con...\n",
       "15917    Air conditioning,Automatic climate control,Cru...\n",
       "15918    Air conditioning,Automatic climate control,Cru...\n",
       "Name: comfort, Length: 15915, dtype: object"
      ]
     },
     "execution_count": 166,
     "metadata": {},
     "output_type": "execute_result"
    }
   ],
   "source": [
    "df.comfort.map(lambda x: \",\".join(x),na_action='ignore')"
   ]
  },
  {
   "cell_type": "code",
   "execution_count": 167,
   "id": "d78c0530",
   "metadata": {},
   "outputs": [
    {
     "data": {
      "text/html": [
       "<div>\n",
       "<style scoped>\n",
       "    .dataframe tbody tr th:only-of-type {\n",
       "        vertical-align: middle;\n",
       "    }\n",
       "\n",
       "    .dataframe tbody tr th {\n",
       "        vertical-align: top;\n",
       "    }\n",
       "\n",
       "    .dataframe thead th {\n",
       "        text-align: right;\n",
       "    }\n",
       "</style>\n",
       "<table border=\"1\" class=\"dataframe\">\n",
       "  <thead>\n",
       "    <tr style=\"text-align: right;\">\n",
       "      <th></th>\n",
       "      <th>Air conditioning</th>\n",
       "      <th>Air suspension</th>\n",
       "      <th>Armrest</th>\n",
       "      <th>Automatic climate control</th>\n",
       "      <th>Auxiliary heating</th>\n",
       "      <th>Cruise control</th>\n",
       "      <th>Electric Starter</th>\n",
       "      <th>Electric tailgate</th>\n",
       "      <th>Electrical side mirrors</th>\n",
       "      <th>Electrically adjustable seats</th>\n",
       "      <th>Electrically heated windshield</th>\n",
       "      <th>Heads-up display</th>\n",
       "      <th>Heated steering wheel</th>\n",
       "      <th>Hill Holder</th>\n",
       "      <th>Keyless central door lock</th>\n",
       "      <th>Leather seats</th>\n",
       "      <th>Leather steering wheel</th>\n",
       "      <th>Light sensor</th>\n",
       "      <th>Lumbar support</th>\n",
       "      <th>Massage seats</th>\n",
       "      <th>Multi-function steering wheel</th>\n",
       "      <th>Navigation system</th>\n",
       "      <th>Panorama roof</th>\n",
       "      <th>Park Distance Control</th>\n",
       "      <th>Parking assist system camera</th>\n",
       "      <th>Parking assist system self-steering</th>\n",
       "      <th>Parking assist system sensors front</th>\n",
       "      <th>Parking assist system sensors rear</th>\n",
       "      <th>Power windows</th>\n",
       "      <th>Rain sensor</th>\n",
       "      <th>Seat heating</th>\n",
       "      <th>Seat ventilation</th>\n",
       "      <th>Split rear seats</th>\n",
       "      <th>Start-stop system</th>\n",
       "      <th>Sunroof</th>\n",
       "      <th>Tinted windows</th>\n",
       "      <th>Wind deflector</th>\n",
       "      <th>Windshield</th>\n",
       "    </tr>\n",
       "  </thead>\n",
       "  <tbody>\n",
       "    <tr>\n",
       "      <th>0</th>\n",
       "      <td>1</td>\n",
       "      <td>0</td>\n",
       "      <td>1</td>\n",
       "      <td>1</td>\n",
       "      <td>0</td>\n",
       "      <td>1</td>\n",
       "      <td>0</td>\n",
       "      <td>0</td>\n",
       "      <td>1</td>\n",
       "      <td>0</td>\n",
       "      <td>0</td>\n",
       "      <td>0</td>\n",
       "      <td>0</td>\n",
       "      <td>1</td>\n",
       "      <td>0</td>\n",
       "      <td>0</td>\n",
       "      <td>1</td>\n",
       "      <td>1</td>\n",
       "      <td>0</td>\n",
       "      <td>0</td>\n",
       "      <td>1</td>\n",
       "      <td>1</td>\n",
       "      <td>0</td>\n",
       "      <td>1</td>\n",
       "      <td>0</td>\n",
       "      <td>0</td>\n",
       "      <td>0</td>\n",
       "      <td>1</td>\n",
       "      <td>1</td>\n",
       "      <td>1</td>\n",
       "      <td>1</td>\n",
       "      <td>0</td>\n",
       "      <td>0</td>\n",
       "      <td>1</td>\n",
       "      <td>0</td>\n",
       "      <td>0</td>\n",
       "      <td>0</td>\n",
       "      <td>0</td>\n",
       "    </tr>\n",
       "    <tr>\n",
       "      <th>1</th>\n",
       "      <td>1</td>\n",
       "      <td>0</td>\n",
       "      <td>0</td>\n",
       "      <td>1</td>\n",
       "      <td>0</td>\n",
       "      <td>0</td>\n",
       "      <td>0</td>\n",
       "      <td>0</td>\n",
       "      <td>0</td>\n",
       "      <td>0</td>\n",
       "      <td>0</td>\n",
       "      <td>0</td>\n",
       "      <td>0</td>\n",
       "      <td>1</td>\n",
       "      <td>0</td>\n",
       "      <td>0</td>\n",
       "      <td>1</td>\n",
       "      <td>0</td>\n",
       "      <td>1</td>\n",
       "      <td>0</td>\n",
       "      <td>0</td>\n",
       "      <td>0</td>\n",
       "      <td>0</td>\n",
       "      <td>0</td>\n",
       "      <td>0</td>\n",
       "      <td>0</td>\n",
       "      <td>0</td>\n",
       "      <td>1</td>\n",
       "      <td>1</td>\n",
       "      <td>0</td>\n",
       "      <td>0</td>\n",
       "      <td>0</td>\n",
       "      <td>0</td>\n",
       "      <td>1</td>\n",
       "      <td>0</td>\n",
       "      <td>1</td>\n",
       "      <td>0</td>\n",
       "      <td>0</td>\n",
       "    </tr>\n",
       "    <tr>\n",
       "      <th>2</th>\n",
       "      <td>1</td>\n",
       "      <td>0</td>\n",
       "      <td>0</td>\n",
       "      <td>0</td>\n",
       "      <td>0</td>\n",
       "      <td>1</td>\n",
       "      <td>0</td>\n",
       "      <td>0</td>\n",
       "      <td>1</td>\n",
       "      <td>0</td>\n",
       "      <td>0</td>\n",
       "      <td>0</td>\n",
       "      <td>0</td>\n",
       "      <td>1</td>\n",
       "      <td>0</td>\n",
       "      <td>0</td>\n",
       "      <td>1</td>\n",
       "      <td>0</td>\n",
       "      <td>0</td>\n",
       "      <td>0</td>\n",
       "      <td>1</td>\n",
       "      <td>1</td>\n",
       "      <td>0</td>\n",
       "      <td>1</td>\n",
       "      <td>0</td>\n",
       "      <td>0</td>\n",
       "      <td>1</td>\n",
       "      <td>1</td>\n",
       "      <td>1</td>\n",
       "      <td>0</td>\n",
       "      <td>1</td>\n",
       "      <td>0</td>\n",
       "      <td>0</td>\n",
       "      <td>1</td>\n",
       "      <td>0</td>\n",
       "      <td>0</td>\n",
       "      <td>0</td>\n",
       "      <td>0</td>\n",
       "    </tr>\n",
       "    <tr>\n",
       "      <th>3</th>\n",
       "      <td>0</td>\n",
       "      <td>1</td>\n",
       "      <td>1</td>\n",
       "      <td>0</td>\n",
       "      <td>1</td>\n",
       "      <td>0</td>\n",
       "      <td>0</td>\n",
       "      <td>0</td>\n",
       "      <td>1</td>\n",
       "      <td>0</td>\n",
       "      <td>0</td>\n",
       "      <td>1</td>\n",
       "      <td>0</td>\n",
       "      <td>1</td>\n",
       "      <td>0</td>\n",
       "      <td>0</td>\n",
       "      <td>1</td>\n",
       "      <td>1</td>\n",
       "      <td>1</td>\n",
       "      <td>0</td>\n",
       "      <td>1</td>\n",
       "      <td>1</td>\n",
       "      <td>0</td>\n",
       "      <td>0</td>\n",
       "      <td>0</td>\n",
       "      <td>0</td>\n",
       "      <td>0</td>\n",
       "      <td>0</td>\n",
       "      <td>1</td>\n",
       "      <td>1</td>\n",
       "      <td>1</td>\n",
       "      <td>0</td>\n",
       "      <td>1</td>\n",
       "      <td>1</td>\n",
       "      <td>0</td>\n",
       "      <td>0</td>\n",
       "      <td>0</td>\n",
       "      <td>0</td>\n",
       "    </tr>\n",
       "    <tr>\n",
       "      <th>4</th>\n",
       "      <td>1</td>\n",
       "      <td>0</td>\n",
       "      <td>1</td>\n",
       "      <td>1</td>\n",
       "      <td>0</td>\n",
       "      <td>0</td>\n",
       "      <td>0</td>\n",
       "      <td>0</td>\n",
       "      <td>1</td>\n",
       "      <td>0</td>\n",
       "      <td>0</td>\n",
       "      <td>0</td>\n",
       "      <td>0</td>\n",
       "      <td>1</td>\n",
       "      <td>0</td>\n",
       "      <td>0</td>\n",
       "      <td>1</td>\n",
       "      <td>1</td>\n",
       "      <td>0</td>\n",
       "      <td>0</td>\n",
       "      <td>1</td>\n",
       "      <td>0</td>\n",
       "      <td>0</td>\n",
       "      <td>1</td>\n",
       "      <td>0</td>\n",
       "      <td>0</td>\n",
       "      <td>0</td>\n",
       "      <td>1</td>\n",
       "      <td>1</td>\n",
       "      <td>1</td>\n",
       "      <td>0</td>\n",
       "      <td>0</td>\n",
       "      <td>0</td>\n",
       "      <td>1</td>\n",
       "      <td>0</td>\n",
       "      <td>0</td>\n",
       "      <td>0</td>\n",
       "      <td>0</td>\n",
       "    </tr>\n",
       "    <tr>\n",
       "      <th>...</th>\n",
       "      <td>...</td>\n",
       "      <td>...</td>\n",
       "      <td>...</td>\n",
       "      <td>...</td>\n",
       "      <td>...</td>\n",
       "      <td>...</td>\n",
       "      <td>...</td>\n",
       "      <td>...</td>\n",
       "      <td>...</td>\n",
       "      <td>...</td>\n",
       "      <td>...</td>\n",
       "      <td>...</td>\n",
       "      <td>...</td>\n",
       "      <td>...</td>\n",
       "      <td>...</td>\n",
       "      <td>...</td>\n",
       "      <td>...</td>\n",
       "      <td>...</td>\n",
       "      <td>...</td>\n",
       "      <td>...</td>\n",
       "      <td>...</td>\n",
       "      <td>...</td>\n",
       "      <td>...</td>\n",
       "      <td>...</td>\n",
       "      <td>...</td>\n",
       "      <td>...</td>\n",
       "      <td>...</td>\n",
       "      <td>...</td>\n",
       "      <td>...</td>\n",
       "      <td>...</td>\n",
       "      <td>...</td>\n",
       "      <td>...</td>\n",
       "      <td>...</td>\n",
       "      <td>...</td>\n",
       "      <td>...</td>\n",
       "      <td>...</td>\n",
       "      <td>...</td>\n",
       "      <td>...</td>\n",
       "    </tr>\n",
       "    <tr>\n",
       "      <th>15914</th>\n",
       "      <td>1</td>\n",
       "      <td>0</td>\n",
       "      <td>0</td>\n",
       "      <td>1</td>\n",
       "      <td>0</td>\n",
       "      <td>1</td>\n",
       "      <td>0</td>\n",
       "      <td>0</td>\n",
       "      <td>1</td>\n",
       "      <td>1</td>\n",
       "      <td>0</td>\n",
       "      <td>0</td>\n",
       "      <td>0</td>\n",
       "      <td>1</td>\n",
       "      <td>1</td>\n",
       "      <td>0</td>\n",
       "      <td>1</td>\n",
       "      <td>1</td>\n",
       "      <td>0</td>\n",
       "      <td>1</td>\n",
       "      <td>1</td>\n",
       "      <td>1</td>\n",
       "      <td>0</td>\n",
       "      <td>1</td>\n",
       "      <td>0</td>\n",
       "      <td>0</td>\n",
       "      <td>1</td>\n",
       "      <td>1</td>\n",
       "      <td>1</td>\n",
       "      <td>1</td>\n",
       "      <td>0</td>\n",
       "      <td>0</td>\n",
       "      <td>1</td>\n",
       "      <td>1</td>\n",
       "      <td>0</td>\n",
       "      <td>1</td>\n",
       "      <td>0</td>\n",
       "      <td>0</td>\n",
       "    </tr>\n",
       "    <tr>\n",
       "      <th>15915</th>\n",
       "      <td>1</td>\n",
       "      <td>0</td>\n",
       "      <td>0</td>\n",
       "      <td>1</td>\n",
       "      <td>0</td>\n",
       "      <td>1</td>\n",
       "      <td>0</td>\n",
       "      <td>1</td>\n",
       "      <td>1</td>\n",
       "      <td>0</td>\n",
       "      <td>1</td>\n",
       "      <td>1</td>\n",
       "      <td>1</td>\n",
       "      <td>1</td>\n",
       "      <td>1</td>\n",
       "      <td>0</td>\n",
       "      <td>1</td>\n",
       "      <td>1</td>\n",
       "      <td>1</td>\n",
       "      <td>0</td>\n",
       "      <td>0</td>\n",
       "      <td>1</td>\n",
       "      <td>0</td>\n",
       "      <td>1</td>\n",
       "      <td>1</td>\n",
       "      <td>1</td>\n",
       "      <td>1</td>\n",
       "      <td>1</td>\n",
       "      <td>1</td>\n",
       "      <td>1</td>\n",
       "      <td>1</td>\n",
       "      <td>0</td>\n",
       "      <td>0</td>\n",
       "      <td>0</td>\n",
       "      <td>1</td>\n",
       "      <td>0</td>\n",
       "      <td>0</td>\n",
       "      <td>0</td>\n",
       "    </tr>\n",
       "    <tr>\n",
       "      <th>15916</th>\n",
       "      <td>1</td>\n",
       "      <td>0</td>\n",
       "      <td>1</td>\n",
       "      <td>1</td>\n",
       "      <td>0</td>\n",
       "      <td>1</td>\n",
       "      <td>0</td>\n",
       "      <td>1</td>\n",
       "      <td>1</td>\n",
       "      <td>0</td>\n",
       "      <td>1</td>\n",
       "      <td>1</td>\n",
       "      <td>1</td>\n",
       "      <td>0</td>\n",
       "      <td>0</td>\n",
       "      <td>0</td>\n",
       "      <td>1</td>\n",
       "      <td>1</td>\n",
       "      <td>0</td>\n",
       "      <td>1</td>\n",
       "      <td>1</td>\n",
       "      <td>1</td>\n",
       "      <td>1</td>\n",
       "      <td>1</td>\n",
       "      <td>1</td>\n",
       "      <td>0</td>\n",
       "      <td>1</td>\n",
       "      <td>1</td>\n",
       "      <td>1</td>\n",
       "      <td>1</td>\n",
       "      <td>1</td>\n",
       "      <td>1</td>\n",
       "      <td>0</td>\n",
       "      <td>0</td>\n",
       "      <td>1</td>\n",
       "      <td>0</td>\n",
       "      <td>0</td>\n",
       "      <td>0</td>\n",
       "    </tr>\n",
       "    <tr>\n",
       "      <th>15917</th>\n",
       "      <td>1</td>\n",
       "      <td>0</td>\n",
       "      <td>0</td>\n",
       "      <td>1</td>\n",
       "      <td>0</td>\n",
       "      <td>1</td>\n",
       "      <td>0</td>\n",
       "      <td>0</td>\n",
       "      <td>1</td>\n",
       "      <td>1</td>\n",
       "      <td>0</td>\n",
       "      <td>0</td>\n",
       "      <td>0</td>\n",
       "      <td>0</td>\n",
       "      <td>0</td>\n",
       "      <td>0</td>\n",
       "      <td>1</td>\n",
       "      <td>1</td>\n",
       "      <td>0</td>\n",
       "      <td>0</td>\n",
       "      <td>0</td>\n",
       "      <td>0</td>\n",
       "      <td>0</td>\n",
       "      <td>1</td>\n",
       "      <td>0</td>\n",
       "      <td>0</td>\n",
       "      <td>0</td>\n",
       "      <td>0</td>\n",
       "      <td>1</td>\n",
       "      <td>0</td>\n",
       "      <td>0</td>\n",
       "      <td>0</td>\n",
       "      <td>0</td>\n",
       "      <td>1</td>\n",
       "      <td>0</td>\n",
       "      <td>0</td>\n",
       "      <td>0</td>\n",
       "      <td>0</td>\n",
       "    </tr>\n",
       "    <tr>\n",
       "      <th>15918</th>\n",
       "      <td>1</td>\n",
       "      <td>0</td>\n",
       "      <td>0</td>\n",
       "      <td>1</td>\n",
       "      <td>0</td>\n",
       "      <td>1</td>\n",
       "      <td>0</td>\n",
       "      <td>1</td>\n",
       "      <td>1</td>\n",
       "      <td>1</td>\n",
       "      <td>0</td>\n",
       "      <td>0</td>\n",
       "      <td>0</td>\n",
       "      <td>1</td>\n",
       "      <td>0</td>\n",
       "      <td>0</td>\n",
       "      <td>1</td>\n",
       "      <td>0</td>\n",
       "      <td>0</td>\n",
       "      <td>0</td>\n",
       "      <td>0</td>\n",
       "      <td>1</td>\n",
       "      <td>0</td>\n",
       "      <td>0</td>\n",
       "      <td>0</td>\n",
       "      <td>0</td>\n",
       "      <td>0</td>\n",
       "      <td>0</td>\n",
       "      <td>1</td>\n",
       "      <td>0</td>\n",
       "      <td>1</td>\n",
       "      <td>0</td>\n",
       "      <td>0</td>\n",
       "      <td>0</td>\n",
       "      <td>0</td>\n",
       "      <td>0</td>\n",
       "      <td>0</td>\n",
       "      <td>0</td>\n",
       "    </tr>\n",
       "  </tbody>\n",
       "</table>\n",
       "<p>15915 rows × 38 columns</p>\n",
       "</div>"
      ],
      "text/plain": [
       "       Air conditioning  Air suspension  Armrest  Automatic climate control  \\\n",
       "0                     1               0        1                          1   \n",
       "1                     1               0        0                          1   \n",
       "2                     1               0        0                          0   \n",
       "3                     0               1        1                          0   \n",
       "4                     1               0        1                          1   \n",
       "...                 ...             ...      ...                        ...   \n",
       "15914                 1               0        0                          1   \n",
       "15915                 1               0        0                          1   \n",
       "15916                 1               0        1                          1   \n",
       "15917                 1               0        0                          1   \n",
       "15918                 1               0        0                          1   \n",
       "\n",
       "       Auxiliary heating  Cruise control  Electric Starter  Electric tailgate  \\\n",
       "0                      0               1                 0                  0   \n",
       "1                      0               0                 0                  0   \n",
       "2                      0               1                 0                  0   \n",
       "3                      1               0                 0                  0   \n",
       "4                      0               0                 0                  0   \n",
       "...                  ...             ...               ...                ...   \n",
       "15914                  0               1                 0                  0   \n",
       "15915                  0               1                 0                  1   \n",
       "15916                  0               1                 0                  1   \n",
       "15917                  0               1                 0                  0   \n",
       "15918                  0               1                 0                  1   \n",
       "\n",
       "       Electrical side mirrors  Electrically adjustable seats  \\\n",
       "0                            1                              0   \n",
       "1                            0                              0   \n",
       "2                            1                              0   \n",
       "3                            1                              0   \n",
       "4                            1                              0   \n",
       "...                        ...                            ...   \n",
       "15914                        1                              1   \n",
       "15915                        1                              0   \n",
       "15916                        1                              0   \n",
       "15917                        1                              1   \n",
       "15918                        1                              1   \n",
       "\n",
       "       Electrically heated windshield  Heads-up display  \\\n",
       "0                                   0                 0   \n",
       "1                                   0                 0   \n",
       "2                                   0                 0   \n",
       "3                                   0                 1   \n",
       "4                                   0                 0   \n",
       "...                               ...               ...   \n",
       "15914                               0                 0   \n",
       "15915                               1                 1   \n",
       "15916                               1                 1   \n",
       "15917                               0                 0   \n",
       "15918                               0                 0   \n",
       "\n",
       "       Heated steering wheel  Hill Holder  Keyless central door lock  \\\n",
       "0                          0            1                          0   \n",
       "1                          0            1                          0   \n",
       "2                          0            1                          0   \n",
       "3                          0            1                          0   \n",
       "4                          0            1                          0   \n",
       "...                      ...          ...                        ...   \n",
       "15914                      0            1                          1   \n",
       "15915                      1            1                          1   \n",
       "15916                      1            0                          0   \n",
       "15917                      0            0                          0   \n",
       "15918                      0            1                          0   \n",
       "\n",
       "       Leather seats  Leather steering wheel  Light sensor  Lumbar support  \\\n",
       "0                  0                       1             1               0   \n",
       "1                  0                       1             0               1   \n",
       "2                  0                       1             0               0   \n",
       "3                  0                       1             1               1   \n",
       "4                  0                       1             1               0   \n",
       "...              ...                     ...           ...             ...   \n",
       "15914              0                       1             1               0   \n",
       "15915              0                       1             1               1   \n",
       "15916              0                       1             1               0   \n",
       "15917              0                       1             1               0   \n",
       "15918              0                       1             0               0   \n",
       "\n",
       "       Massage seats  Multi-function steering wheel  Navigation system  \\\n",
       "0                  0                              1                  1   \n",
       "1                  0                              0                  0   \n",
       "2                  0                              1                  1   \n",
       "3                  0                              1                  1   \n",
       "4                  0                              1                  0   \n",
       "...              ...                            ...                ...   \n",
       "15914              1                              1                  1   \n",
       "15915              0                              0                  1   \n",
       "15916              1                              1                  1   \n",
       "15917              0                              0                  0   \n",
       "15918              0                              0                  1   \n",
       "\n",
       "       Panorama roof  Park Distance Control  Parking assist system camera  \\\n",
       "0                  0                      1                             0   \n",
       "1                  0                      0                             0   \n",
       "2                  0                      1                             0   \n",
       "3                  0                      0                             0   \n",
       "4                  0                      1                             0   \n",
       "...              ...                    ...                           ...   \n",
       "15914              0                      1                             0   \n",
       "15915              0                      1                             1   \n",
       "15916              1                      1                             1   \n",
       "15917              0                      1                             0   \n",
       "15918              0                      0                             0   \n",
       "\n",
       "       Parking assist system self-steering  \\\n",
       "0                                        0   \n",
       "1                                        0   \n",
       "2                                        0   \n",
       "3                                        0   \n",
       "4                                        0   \n",
       "...                                    ...   \n",
       "15914                                    0   \n",
       "15915                                    1   \n",
       "15916                                    0   \n",
       "15917                                    0   \n",
       "15918                                    0   \n",
       "\n",
       "       Parking assist system sensors front  \\\n",
       "0                                        0   \n",
       "1                                        0   \n",
       "2                                        1   \n",
       "3                                        0   \n",
       "4                                        0   \n",
       "...                                    ...   \n",
       "15914                                    1   \n",
       "15915                                    1   \n",
       "15916                                    1   \n",
       "15917                                    0   \n",
       "15918                                    0   \n",
       "\n",
       "       Parking assist system sensors rear  Power windows  Rain sensor  \\\n",
       "0                                       1              1            1   \n",
       "1                                       1              1            0   \n",
       "2                                       1              1            0   \n",
       "3                                       0              1            1   \n",
       "4                                       1              1            1   \n",
       "...                                   ...            ...          ...   \n",
       "15914                                   1              1            1   \n",
       "15915                                   1              1            1   \n",
       "15916                                   1              1            1   \n",
       "15917                                   0              1            0   \n",
       "15918                                   0              1            0   \n",
       "\n",
       "       Seat heating  Seat ventilation  Split rear seats  Start-stop system  \\\n",
       "0                 1                 0                 0                  1   \n",
       "1                 0                 0                 0                  1   \n",
       "2                 1                 0                 0                  1   \n",
       "3                 1                 0                 1                  1   \n",
       "4                 0                 0                 0                  1   \n",
       "...             ...               ...               ...                ...   \n",
       "15914             0                 0                 1                  1   \n",
       "15915             1                 0                 0                  0   \n",
       "15916             1                 1                 0                  0   \n",
       "15917             0                 0                 0                  1   \n",
       "15918             1                 0                 0                  0   \n",
       "\n",
       "       Sunroof  Tinted windows  Wind deflector  Windshield  \n",
       "0            0               0               0           0  \n",
       "1            0               1               0           0  \n",
       "2            0               0               0           0  \n",
       "3            0               0               0           0  \n",
       "4            0               0               0           0  \n",
       "...        ...             ...             ...         ...  \n",
       "15914        0               1               0           0  \n",
       "15915        1               0               0           0  \n",
       "15916        1               0               0           0  \n",
       "15917        0               0               0           0  \n",
       "15918        0               0               0           0  \n",
       "\n",
       "[15915 rows x 38 columns]"
      ]
     },
     "execution_count": 167,
     "metadata": {},
     "output_type": "execute_result"
    }
   ],
   "source": [
    "df.comfort.map(lambda x: \",\".join(x),na_action='ignore').str.get_dummies(\",\")"
   ]
  },
  {
   "cell_type": "code",
   "execution_count": 168,
   "id": "2ba9ac42",
   "metadata": {},
   "outputs": [
    {
     "data": {
      "text/html": [
       "<div>\n",
       "<style scoped>\n",
       "    .dataframe tbody tr th:only-of-type {\n",
       "        vertical-align: middle;\n",
       "    }\n",
       "\n",
       "    .dataframe tbody tr th {\n",
       "        vertical-align: top;\n",
       "    }\n",
       "\n",
       "    .dataframe thead th {\n",
       "        text-align: right;\n",
       "    }\n",
       "</style>\n",
       "<table border=\"1\" class=\"dataframe\">\n",
       "  <thead>\n",
       "    <tr style=\"text-align: right;\">\n",
       "      <th></th>\n",
       "      <th>'Air suspension'</th>\n",
       "      <th>'Armrest'</th>\n",
       "      <th>'Armrest']</th>\n",
       "      <th>'Automatic climate control'</th>\n",
       "      <th>'Automatic climate control']</th>\n",
       "      <th>'Auxiliary heating'</th>\n",
       "      <th>'Cruise control'</th>\n",
       "      <th>'Cruise control']</th>\n",
       "      <th>'Electric Starter'</th>\n",
       "      <th>'Electric tailgate'</th>\n",
       "      <th>'Electrical side mirrors'</th>\n",
       "      <th>'Electrical side mirrors']</th>\n",
       "      <th>'Electrically adjustable seats'</th>\n",
       "      <th>'Electrically heated windshield'</th>\n",
       "      <th>'Heads-up display'</th>\n",
       "      <th>'Heated steering wheel'</th>\n",
       "      <th>'Hill Holder'</th>\n",
       "      <th>'Hill Holder']</th>\n",
       "      <th>'Keyless central door lock'</th>\n",
       "      <th>'Keyless central door lock']</th>\n",
       "      <th>'Leather seats'</th>\n",
       "      <th>'Leather steering wheel'</th>\n",
       "      <th>'Leather steering wheel']</th>\n",
       "      <th>'Light sensor'</th>\n",
       "      <th>'Lumbar support'</th>\n",
       "      <th>'Lumbar support']</th>\n",
       "      <th>'Massage seats'</th>\n",
       "      <th>'Multi-function steering wheel'</th>\n",
       "      <th>'Multi-function steering wheel']</th>\n",
       "      <th>'Navigation system'</th>\n",
       "      <th>'Navigation system']</th>\n",
       "      <th>'Panorama roof'</th>\n",
       "      <th>'Panorama roof']</th>\n",
       "      <th>'Park Distance Control'</th>\n",
       "      <th>'Park Distance Control']</th>\n",
       "      <th>'Parking assist system camera'</th>\n",
       "      <th>'Parking assist system camera']</th>\n",
       "      <th>'Parking assist system self-steering'</th>\n",
       "      <th>'Parking assist system self-steering']</th>\n",
       "      <th>'Parking assist system sensors front'</th>\n",
       "      <th>'Parking assist system sensors front']</th>\n",
       "      <th>'Parking assist system sensors rear'</th>\n",
       "      <th>'Parking assist system sensors rear']</th>\n",
       "      <th>'Power windows'</th>\n",
       "      <th>'Power windows']</th>\n",
       "      <th>'Rain sensor'</th>\n",
       "      <th>'Rain sensor']</th>\n",
       "      <th>'Seat heating'</th>\n",
       "      <th>'Seat heating']</th>\n",
       "      <th>'Seat ventilation'</th>\n",
       "      <th>'Seat ventilation']</th>\n",
       "      <th>'Split rear seats'</th>\n",
       "      <th>'Split rear seats']</th>\n",
       "      <th>'Start-stop system'</th>\n",
       "      <th>'Start-stop system']</th>\n",
       "      <th>'Sunroof'</th>\n",
       "      <th>'Sunroof']</th>\n",
       "      <th>'Tinted windows'</th>\n",
       "      <th>'Tinted windows']</th>\n",
       "      <th>'Wind deflector']</th>\n",
       "      <th>'Windshield']</th>\n",
       "      <th>['Air conditioning'</th>\n",
       "      <th>['Air conditioning']</th>\n",
       "      <th>['Air suspension'</th>\n",
       "      <th>['Air suspension']</th>\n",
       "      <th>['Armrest'</th>\n",
       "      <th>['Auxiliary heating'</th>\n",
       "      <th>['Cruise control'</th>\n",
       "      <th>['Cruise control']</th>\n",
       "      <th>['Electrical side mirrors'</th>\n",
       "      <th>['Electrically adjustable seats'</th>\n",
       "      <th>['Electrically heated windshield'</th>\n",
       "      <th>['Heads-up display']</th>\n",
       "      <th>['Heated steering wheel'</th>\n",
       "      <th>['Hill Holder'</th>\n",
       "      <th>['Hill Holder']</th>\n",
       "      <th>['Leather steering wheel'</th>\n",
       "      <th>['Light sensor'</th>\n",
       "      <th>['Multi-function steering wheel'</th>\n",
       "      <th>['Multi-function steering wheel']</th>\n",
       "      <th>['Navigation system'</th>\n",
       "      <th>['Navigation system']</th>\n",
       "      <th>['Panorama roof']</th>\n",
       "      <th>['Park Distance Control'</th>\n",
       "      <th>['Park Distance Control']</th>\n",
       "      <th>['Power windows'</th>\n",
       "      <th>['Power windows']</th>\n",
       "      <th>['Rain sensor']</th>\n",
       "      <th>['Sunroof']</th>\n",
       "    </tr>\n",
       "  </thead>\n",
       "  <tbody>\n",
       "    <tr>\n",
       "      <th>0</th>\n",
       "      <td>0</td>\n",
       "      <td>1</td>\n",
       "      <td>0</td>\n",
       "      <td>1</td>\n",
       "      <td>0</td>\n",
       "      <td>0</td>\n",
       "      <td>1</td>\n",
       "      <td>0</td>\n",
       "      <td>0</td>\n",
       "      <td>0</td>\n",
       "      <td>1</td>\n",
       "      <td>0</td>\n",
       "      <td>0</td>\n",
       "      <td>0</td>\n",
       "      <td>0</td>\n",
       "      <td>0</td>\n",
       "      <td>1</td>\n",
       "      <td>0</td>\n",
       "      <td>0</td>\n",
       "      <td>0</td>\n",
       "      <td>0</td>\n",
       "      <td>1</td>\n",
       "      <td>0</td>\n",
       "      <td>1</td>\n",
       "      <td>0</td>\n",
       "      <td>0</td>\n",
       "      <td>0</td>\n",
       "      <td>1</td>\n",
       "      <td>0</td>\n",
       "      <td>1</td>\n",
       "      <td>0</td>\n",
       "      <td>0</td>\n",
       "      <td>0</td>\n",
       "      <td>1</td>\n",
       "      <td>0</td>\n",
       "      <td>0</td>\n",
       "      <td>0</td>\n",
       "      <td>0</td>\n",
       "      <td>0</td>\n",
       "      <td>0</td>\n",
       "      <td>0</td>\n",
       "      <td>1</td>\n",
       "      <td>0</td>\n",
       "      <td>1</td>\n",
       "      <td>0</td>\n",
       "      <td>1</td>\n",
       "      <td>0</td>\n",
       "      <td>1</td>\n",
       "      <td>0</td>\n",
       "      <td>0</td>\n",
       "      <td>0</td>\n",
       "      <td>0</td>\n",
       "      <td>0</td>\n",
       "      <td>0</td>\n",
       "      <td>1</td>\n",
       "      <td>0</td>\n",
       "      <td>0</td>\n",
       "      <td>0</td>\n",
       "      <td>0</td>\n",
       "      <td>0</td>\n",
       "      <td>0</td>\n",
       "      <td>1</td>\n",
       "      <td>0</td>\n",
       "      <td>0</td>\n",
       "      <td>0</td>\n",
       "      <td>0</td>\n",
       "      <td>0</td>\n",
       "      <td>0</td>\n",
       "      <td>0</td>\n",
       "      <td>0</td>\n",
       "      <td>0</td>\n",
       "      <td>0</td>\n",
       "      <td>0</td>\n",
       "      <td>0</td>\n",
       "      <td>0</td>\n",
       "      <td>0</td>\n",
       "      <td>0</td>\n",
       "      <td>0</td>\n",
       "      <td>0</td>\n",
       "      <td>0</td>\n",
       "      <td>0</td>\n",
       "      <td>0</td>\n",
       "      <td>0</td>\n",
       "      <td>0</td>\n",
       "      <td>0</td>\n",
       "      <td>0</td>\n",
       "      <td>0</td>\n",
       "      <td>0</td>\n",
       "      <td>0</td>\n",
       "    </tr>\n",
       "    <tr>\n",
       "      <th>1</th>\n",
       "      <td>0</td>\n",
       "      <td>0</td>\n",
       "      <td>0</td>\n",
       "      <td>1</td>\n",
       "      <td>0</td>\n",
       "      <td>0</td>\n",
       "      <td>0</td>\n",
       "      <td>0</td>\n",
       "      <td>0</td>\n",
       "      <td>0</td>\n",
       "      <td>0</td>\n",
       "      <td>0</td>\n",
       "      <td>0</td>\n",
       "      <td>0</td>\n",
       "      <td>0</td>\n",
       "      <td>0</td>\n",
       "      <td>1</td>\n",
       "      <td>0</td>\n",
       "      <td>0</td>\n",
       "      <td>0</td>\n",
       "      <td>0</td>\n",
       "      <td>1</td>\n",
       "      <td>0</td>\n",
       "      <td>0</td>\n",
       "      <td>1</td>\n",
       "      <td>0</td>\n",
       "      <td>0</td>\n",
       "      <td>0</td>\n",
       "      <td>0</td>\n",
       "      <td>0</td>\n",
       "      <td>0</td>\n",
       "      <td>0</td>\n",
       "      <td>0</td>\n",
       "      <td>0</td>\n",
       "      <td>0</td>\n",
       "      <td>0</td>\n",
       "      <td>0</td>\n",
       "      <td>0</td>\n",
       "      <td>0</td>\n",
       "      <td>0</td>\n",
       "      <td>0</td>\n",
       "      <td>1</td>\n",
       "      <td>0</td>\n",
       "      <td>1</td>\n",
       "      <td>0</td>\n",
       "      <td>0</td>\n",
       "      <td>0</td>\n",
       "      <td>0</td>\n",
       "      <td>0</td>\n",
       "      <td>0</td>\n",
       "      <td>0</td>\n",
       "      <td>0</td>\n",
       "      <td>0</td>\n",
       "      <td>1</td>\n",
       "      <td>0</td>\n",
       "      <td>0</td>\n",
       "      <td>0</td>\n",
       "      <td>0</td>\n",
       "      <td>1</td>\n",
       "      <td>0</td>\n",
       "      <td>0</td>\n",
       "      <td>1</td>\n",
       "      <td>0</td>\n",
       "      <td>0</td>\n",
       "      <td>0</td>\n",
       "      <td>0</td>\n",
       "      <td>0</td>\n",
       "      <td>0</td>\n",
       "      <td>0</td>\n",
       "      <td>0</td>\n",
       "      <td>0</td>\n",
       "      <td>0</td>\n",
       "      <td>0</td>\n",
       "      <td>0</td>\n",
       "      <td>0</td>\n",
       "      <td>0</td>\n",
       "      <td>0</td>\n",
       "      <td>0</td>\n",
       "      <td>0</td>\n",
       "      <td>0</td>\n",
       "      <td>0</td>\n",
       "      <td>0</td>\n",
       "      <td>0</td>\n",
       "      <td>0</td>\n",
       "      <td>0</td>\n",
       "      <td>0</td>\n",
       "      <td>0</td>\n",
       "      <td>0</td>\n",
       "      <td>0</td>\n",
       "    </tr>\n",
       "    <tr>\n",
       "      <th>2</th>\n",
       "      <td>0</td>\n",
       "      <td>0</td>\n",
       "      <td>0</td>\n",
       "      <td>0</td>\n",
       "      <td>0</td>\n",
       "      <td>0</td>\n",
       "      <td>1</td>\n",
       "      <td>0</td>\n",
       "      <td>0</td>\n",
       "      <td>0</td>\n",
       "      <td>1</td>\n",
       "      <td>0</td>\n",
       "      <td>0</td>\n",
       "      <td>0</td>\n",
       "      <td>0</td>\n",
       "      <td>0</td>\n",
       "      <td>1</td>\n",
       "      <td>0</td>\n",
       "      <td>0</td>\n",
       "      <td>0</td>\n",
       "      <td>0</td>\n",
       "      <td>1</td>\n",
       "      <td>0</td>\n",
       "      <td>0</td>\n",
       "      <td>0</td>\n",
       "      <td>0</td>\n",
       "      <td>0</td>\n",
       "      <td>1</td>\n",
       "      <td>0</td>\n",
       "      <td>1</td>\n",
       "      <td>0</td>\n",
       "      <td>0</td>\n",
       "      <td>0</td>\n",
       "      <td>1</td>\n",
       "      <td>0</td>\n",
       "      <td>0</td>\n",
       "      <td>0</td>\n",
       "      <td>0</td>\n",
       "      <td>0</td>\n",
       "      <td>1</td>\n",
       "      <td>0</td>\n",
       "      <td>1</td>\n",
       "      <td>0</td>\n",
       "      <td>1</td>\n",
       "      <td>0</td>\n",
       "      <td>0</td>\n",
       "      <td>0</td>\n",
       "      <td>1</td>\n",
       "      <td>0</td>\n",
       "      <td>0</td>\n",
       "      <td>0</td>\n",
       "      <td>0</td>\n",
       "      <td>0</td>\n",
       "      <td>0</td>\n",
       "      <td>1</td>\n",
       "      <td>0</td>\n",
       "      <td>0</td>\n",
       "      <td>0</td>\n",
       "      <td>0</td>\n",
       "      <td>0</td>\n",
       "      <td>0</td>\n",
       "      <td>1</td>\n",
       "      <td>0</td>\n",
       "      <td>0</td>\n",
       "      <td>0</td>\n",
       "      <td>0</td>\n",
       "      <td>0</td>\n",
       "      <td>0</td>\n",
       "      <td>0</td>\n",
       "      <td>0</td>\n",
       "      <td>0</td>\n",
       "      <td>0</td>\n",
       "      <td>0</td>\n",
       "      <td>0</td>\n",
       "      <td>0</td>\n",
       "      <td>0</td>\n",
       "      <td>0</td>\n",
       "      <td>0</td>\n",
       "      <td>0</td>\n",
       "      <td>0</td>\n",
       "      <td>0</td>\n",
       "      <td>0</td>\n",
       "      <td>0</td>\n",
       "      <td>0</td>\n",
       "      <td>0</td>\n",
       "      <td>0</td>\n",
       "      <td>0</td>\n",
       "      <td>0</td>\n",
       "      <td>0</td>\n",
       "    </tr>\n",
       "    <tr>\n",
       "      <th>3</th>\n",
       "      <td>0</td>\n",
       "      <td>1</td>\n",
       "      <td>0</td>\n",
       "      <td>0</td>\n",
       "      <td>0</td>\n",
       "      <td>1</td>\n",
       "      <td>0</td>\n",
       "      <td>0</td>\n",
       "      <td>0</td>\n",
       "      <td>0</td>\n",
       "      <td>1</td>\n",
       "      <td>0</td>\n",
       "      <td>0</td>\n",
       "      <td>0</td>\n",
       "      <td>1</td>\n",
       "      <td>0</td>\n",
       "      <td>1</td>\n",
       "      <td>0</td>\n",
       "      <td>0</td>\n",
       "      <td>0</td>\n",
       "      <td>0</td>\n",
       "      <td>1</td>\n",
       "      <td>0</td>\n",
       "      <td>1</td>\n",
       "      <td>1</td>\n",
       "      <td>0</td>\n",
       "      <td>0</td>\n",
       "      <td>1</td>\n",
       "      <td>0</td>\n",
       "      <td>1</td>\n",
       "      <td>0</td>\n",
       "      <td>0</td>\n",
       "      <td>0</td>\n",
       "      <td>0</td>\n",
       "      <td>0</td>\n",
       "      <td>0</td>\n",
       "      <td>0</td>\n",
       "      <td>0</td>\n",
       "      <td>0</td>\n",
       "      <td>0</td>\n",
       "      <td>0</td>\n",
       "      <td>0</td>\n",
       "      <td>0</td>\n",
       "      <td>1</td>\n",
       "      <td>0</td>\n",
       "      <td>1</td>\n",
       "      <td>0</td>\n",
       "      <td>1</td>\n",
       "      <td>0</td>\n",
       "      <td>0</td>\n",
       "      <td>0</td>\n",
       "      <td>1</td>\n",
       "      <td>0</td>\n",
       "      <td>0</td>\n",
       "      <td>1</td>\n",
       "      <td>0</td>\n",
       "      <td>0</td>\n",
       "      <td>0</td>\n",
       "      <td>0</td>\n",
       "      <td>0</td>\n",
       "      <td>0</td>\n",
       "      <td>0</td>\n",
       "      <td>0</td>\n",
       "      <td>1</td>\n",
       "      <td>0</td>\n",
       "      <td>0</td>\n",
       "      <td>0</td>\n",
       "      <td>0</td>\n",
       "      <td>0</td>\n",
       "      <td>0</td>\n",
       "      <td>0</td>\n",
       "      <td>0</td>\n",
       "      <td>0</td>\n",
       "      <td>0</td>\n",
       "      <td>0</td>\n",
       "      <td>0</td>\n",
       "      <td>0</td>\n",
       "      <td>0</td>\n",
       "      <td>0</td>\n",
       "      <td>0</td>\n",
       "      <td>0</td>\n",
       "      <td>0</td>\n",
       "      <td>0</td>\n",
       "      <td>0</td>\n",
       "      <td>0</td>\n",
       "      <td>0</td>\n",
       "      <td>0</td>\n",
       "      <td>0</td>\n",
       "      <td>0</td>\n",
       "    </tr>\n",
       "    <tr>\n",
       "      <th>4</th>\n",
       "      <td>0</td>\n",
       "      <td>1</td>\n",
       "      <td>0</td>\n",
       "      <td>1</td>\n",
       "      <td>0</td>\n",
       "      <td>0</td>\n",
       "      <td>0</td>\n",
       "      <td>0</td>\n",
       "      <td>0</td>\n",
       "      <td>0</td>\n",
       "      <td>1</td>\n",
       "      <td>0</td>\n",
       "      <td>0</td>\n",
       "      <td>0</td>\n",
       "      <td>0</td>\n",
       "      <td>0</td>\n",
       "      <td>1</td>\n",
       "      <td>0</td>\n",
       "      <td>0</td>\n",
       "      <td>0</td>\n",
       "      <td>0</td>\n",
       "      <td>1</td>\n",
       "      <td>0</td>\n",
       "      <td>1</td>\n",
       "      <td>0</td>\n",
       "      <td>0</td>\n",
       "      <td>0</td>\n",
       "      <td>1</td>\n",
       "      <td>0</td>\n",
       "      <td>0</td>\n",
       "      <td>0</td>\n",
       "      <td>0</td>\n",
       "      <td>0</td>\n",
       "      <td>1</td>\n",
       "      <td>0</td>\n",
       "      <td>0</td>\n",
       "      <td>0</td>\n",
       "      <td>0</td>\n",
       "      <td>0</td>\n",
       "      <td>0</td>\n",
       "      <td>0</td>\n",
       "      <td>1</td>\n",
       "      <td>0</td>\n",
       "      <td>1</td>\n",
       "      <td>0</td>\n",
       "      <td>1</td>\n",
       "      <td>0</td>\n",
       "      <td>0</td>\n",
       "      <td>0</td>\n",
       "      <td>0</td>\n",
       "      <td>0</td>\n",
       "      <td>0</td>\n",
       "      <td>0</td>\n",
       "      <td>0</td>\n",
       "      <td>1</td>\n",
       "      <td>0</td>\n",
       "      <td>0</td>\n",
       "      <td>0</td>\n",
       "      <td>0</td>\n",
       "      <td>0</td>\n",
       "      <td>0</td>\n",
       "      <td>1</td>\n",
       "      <td>0</td>\n",
       "      <td>0</td>\n",
       "      <td>0</td>\n",
       "      <td>0</td>\n",
       "      <td>0</td>\n",
       "      <td>0</td>\n",
       "      <td>0</td>\n",
       "      <td>0</td>\n",
       "      <td>0</td>\n",
       "      <td>0</td>\n",
       "      <td>0</td>\n",
       "      <td>0</td>\n",
       "      <td>0</td>\n",
       "      <td>0</td>\n",
       "      <td>0</td>\n",
       "      <td>0</td>\n",
       "      <td>0</td>\n",
       "      <td>0</td>\n",
       "      <td>0</td>\n",
       "      <td>0</td>\n",
       "      <td>0</td>\n",
       "      <td>0</td>\n",
       "      <td>0</td>\n",
       "      <td>0</td>\n",
       "      <td>0</td>\n",
       "      <td>0</td>\n",
       "      <td>0</td>\n",
       "    </tr>\n",
       "    <tr>\n",
       "      <th>...</th>\n",
       "      <td>...</td>\n",
       "      <td>...</td>\n",
       "      <td>...</td>\n",
       "      <td>...</td>\n",
       "      <td>...</td>\n",
       "      <td>...</td>\n",
       "      <td>...</td>\n",
       "      <td>...</td>\n",
       "      <td>...</td>\n",
       "      <td>...</td>\n",
       "      <td>...</td>\n",
       "      <td>...</td>\n",
       "      <td>...</td>\n",
       "      <td>...</td>\n",
       "      <td>...</td>\n",
       "      <td>...</td>\n",
       "      <td>...</td>\n",
       "      <td>...</td>\n",
       "      <td>...</td>\n",
       "      <td>...</td>\n",
       "      <td>...</td>\n",
       "      <td>...</td>\n",
       "      <td>...</td>\n",
       "      <td>...</td>\n",
       "      <td>...</td>\n",
       "      <td>...</td>\n",
       "      <td>...</td>\n",
       "      <td>...</td>\n",
       "      <td>...</td>\n",
       "      <td>...</td>\n",
       "      <td>...</td>\n",
       "      <td>...</td>\n",
       "      <td>...</td>\n",
       "      <td>...</td>\n",
       "      <td>...</td>\n",
       "      <td>...</td>\n",
       "      <td>...</td>\n",
       "      <td>...</td>\n",
       "      <td>...</td>\n",
       "      <td>...</td>\n",
       "      <td>...</td>\n",
       "      <td>...</td>\n",
       "      <td>...</td>\n",
       "      <td>...</td>\n",
       "      <td>...</td>\n",
       "      <td>...</td>\n",
       "      <td>...</td>\n",
       "      <td>...</td>\n",
       "      <td>...</td>\n",
       "      <td>...</td>\n",
       "      <td>...</td>\n",
       "      <td>...</td>\n",
       "      <td>...</td>\n",
       "      <td>...</td>\n",
       "      <td>...</td>\n",
       "      <td>...</td>\n",
       "      <td>...</td>\n",
       "      <td>...</td>\n",
       "      <td>...</td>\n",
       "      <td>...</td>\n",
       "      <td>...</td>\n",
       "      <td>...</td>\n",
       "      <td>...</td>\n",
       "      <td>...</td>\n",
       "      <td>...</td>\n",
       "      <td>...</td>\n",
       "      <td>...</td>\n",
       "      <td>...</td>\n",
       "      <td>...</td>\n",
       "      <td>...</td>\n",
       "      <td>...</td>\n",
       "      <td>...</td>\n",
       "      <td>...</td>\n",
       "      <td>...</td>\n",
       "      <td>...</td>\n",
       "      <td>...</td>\n",
       "      <td>...</td>\n",
       "      <td>...</td>\n",
       "      <td>...</td>\n",
       "      <td>...</td>\n",
       "      <td>...</td>\n",
       "      <td>...</td>\n",
       "      <td>...</td>\n",
       "      <td>...</td>\n",
       "      <td>...</td>\n",
       "      <td>...</td>\n",
       "      <td>...</td>\n",
       "      <td>...</td>\n",
       "      <td>...</td>\n",
       "    </tr>\n",
       "    <tr>\n",
       "      <th>15914</th>\n",
       "      <td>0</td>\n",
       "      <td>0</td>\n",
       "      <td>0</td>\n",
       "      <td>1</td>\n",
       "      <td>0</td>\n",
       "      <td>0</td>\n",
       "      <td>1</td>\n",
       "      <td>0</td>\n",
       "      <td>0</td>\n",
       "      <td>0</td>\n",
       "      <td>1</td>\n",
       "      <td>0</td>\n",
       "      <td>1</td>\n",
       "      <td>0</td>\n",
       "      <td>0</td>\n",
       "      <td>0</td>\n",
       "      <td>1</td>\n",
       "      <td>0</td>\n",
       "      <td>1</td>\n",
       "      <td>0</td>\n",
       "      <td>0</td>\n",
       "      <td>1</td>\n",
       "      <td>0</td>\n",
       "      <td>1</td>\n",
       "      <td>0</td>\n",
       "      <td>0</td>\n",
       "      <td>1</td>\n",
       "      <td>1</td>\n",
       "      <td>0</td>\n",
       "      <td>1</td>\n",
       "      <td>0</td>\n",
       "      <td>0</td>\n",
       "      <td>0</td>\n",
       "      <td>1</td>\n",
       "      <td>0</td>\n",
       "      <td>0</td>\n",
       "      <td>0</td>\n",
       "      <td>0</td>\n",
       "      <td>0</td>\n",
       "      <td>1</td>\n",
       "      <td>0</td>\n",
       "      <td>1</td>\n",
       "      <td>0</td>\n",
       "      <td>1</td>\n",
       "      <td>0</td>\n",
       "      <td>1</td>\n",
       "      <td>0</td>\n",
       "      <td>0</td>\n",
       "      <td>0</td>\n",
       "      <td>0</td>\n",
       "      <td>0</td>\n",
       "      <td>1</td>\n",
       "      <td>0</td>\n",
       "      <td>1</td>\n",
       "      <td>0</td>\n",
       "      <td>0</td>\n",
       "      <td>0</td>\n",
       "      <td>0</td>\n",
       "      <td>1</td>\n",
       "      <td>0</td>\n",
       "      <td>0</td>\n",
       "      <td>1</td>\n",
       "      <td>0</td>\n",
       "      <td>0</td>\n",
       "      <td>0</td>\n",
       "      <td>0</td>\n",
       "      <td>0</td>\n",
       "      <td>0</td>\n",
       "      <td>0</td>\n",
       "      <td>0</td>\n",
       "      <td>0</td>\n",
       "      <td>0</td>\n",
       "      <td>0</td>\n",
       "      <td>0</td>\n",
       "      <td>0</td>\n",
       "      <td>0</td>\n",
       "      <td>0</td>\n",
       "      <td>0</td>\n",
       "      <td>0</td>\n",
       "      <td>0</td>\n",
       "      <td>0</td>\n",
       "      <td>0</td>\n",
       "      <td>0</td>\n",
       "      <td>0</td>\n",
       "      <td>0</td>\n",
       "      <td>0</td>\n",
       "      <td>0</td>\n",
       "      <td>0</td>\n",
       "      <td>0</td>\n",
       "    </tr>\n",
       "    <tr>\n",
       "      <th>15915</th>\n",
       "      <td>0</td>\n",
       "      <td>0</td>\n",
       "      <td>0</td>\n",
       "      <td>1</td>\n",
       "      <td>0</td>\n",
       "      <td>0</td>\n",
       "      <td>1</td>\n",
       "      <td>0</td>\n",
       "      <td>0</td>\n",
       "      <td>1</td>\n",
       "      <td>1</td>\n",
       "      <td>0</td>\n",
       "      <td>0</td>\n",
       "      <td>1</td>\n",
       "      <td>1</td>\n",
       "      <td>1</td>\n",
       "      <td>1</td>\n",
       "      <td>0</td>\n",
       "      <td>1</td>\n",
       "      <td>0</td>\n",
       "      <td>0</td>\n",
       "      <td>1</td>\n",
       "      <td>0</td>\n",
       "      <td>1</td>\n",
       "      <td>1</td>\n",
       "      <td>0</td>\n",
       "      <td>0</td>\n",
       "      <td>0</td>\n",
       "      <td>0</td>\n",
       "      <td>1</td>\n",
       "      <td>0</td>\n",
       "      <td>0</td>\n",
       "      <td>0</td>\n",
       "      <td>1</td>\n",
       "      <td>0</td>\n",
       "      <td>1</td>\n",
       "      <td>0</td>\n",
       "      <td>1</td>\n",
       "      <td>0</td>\n",
       "      <td>1</td>\n",
       "      <td>0</td>\n",
       "      <td>1</td>\n",
       "      <td>0</td>\n",
       "      <td>1</td>\n",
       "      <td>0</td>\n",
       "      <td>1</td>\n",
       "      <td>0</td>\n",
       "      <td>1</td>\n",
       "      <td>0</td>\n",
       "      <td>0</td>\n",
       "      <td>0</td>\n",
       "      <td>0</td>\n",
       "      <td>0</td>\n",
       "      <td>0</td>\n",
       "      <td>0</td>\n",
       "      <td>0</td>\n",
       "      <td>1</td>\n",
       "      <td>0</td>\n",
       "      <td>0</td>\n",
       "      <td>0</td>\n",
       "      <td>0</td>\n",
       "      <td>1</td>\n",
       "      <td>0</td>\n",
       "      <td>0</td>\n",
       "      <td>0</td>\n",
       "      <td>0</td>\n",
       "      <td>0</td>\n",
       "      <td>0</td>\n",
       "      <td>0</td>\n",
       "      <td>0</td>\n",
       "      <td>0</td>\n",
       "      <td>0</td>\n",
       "      <td>0</td>\n",
       "      <td>0</td>\n",
       "      <td>0</td>\n",
       "      <td>0</td>\n",
       "      <td>0</td>\n",
       "      <td>0</td>\n",
       "      <td>0</td>\n",
       "      <td>0</td>\n",
       "      <td>0</td>\n",
       "      <td>0</td>\n",
       "      <td>0</td>\n",
       "      <td>0</td>\n",
       "      <td>0</td>\n",
       "      <td>0</td>\n",
       "      <td>0</td>\n",
       "      <td>0</td>\n",
       "      <td>0</td>\n",
       "    </tr>\n",
       "    <tr>\n",
       "      <th>15916</th>\n",
       "      <td>0</td>\n",
       "      <td>1</td>\n",
       "      <td>0</td>\n",
       "      <td>1</td>\n",
       "      <td>0</td>\n",
       "      <td>0</td>\n",
       "      <td>1</td>\n",
       "      <td>0</td>\n",
       "      <td>0</td>\n",
       "      <td>1</td>\n",
       "      <td>1</td>\n",
       "      <td>0</td>\n",
       "      <td>0</td>\n",
       "      <td>1</td>\n",
       "      <td>1</td>\n",
       "      <td>1</td>\n",
       "      <td>0</td>\n",
       "      <td>0</td>\n",
       "      <td>0</td>\n",
       "      <td>0</td>\n",
       "      <td>0</td>\n",
       "      <td>1</td>\n",
       "      <td>0</td>\n",
       "      <td>1</td>\n",
       "      <td>0</td>\n",
       "      <td>0</td>\n",
       "      <td>1</td>\n",
       "      <td>1</td>\n",
       "      <td>0</td>\n",
       "      <td>1</td>\n",
       "      <td>0</td>\n",
       "      <td>1</td>\n",
       "      <td>0</td>\n",
       "      <td>1</td>\n",
       "      <td>0</td>\n",
       "      <td>1</td>\n",
       "      <td>0</td>\n",
       "      <td>0</td>\n",
       "      <td>0</td>\n",
       "      <td>1</td>\n",
       "      <td>0</td>\n",
       "      <td>1</td>\n",
       "      <td>0</td>\n",
       "      <td>1</td>\n",
       "      <td>0</td>\n",
       "      <td>1</td>\n",
       "      <td>0</td>\n",
       "      <td>1</td>\n",
       "      <td>0</td>\n",
       "      <td>1</td>\n",
       "      <td>0</td>\n",
       "      <td>0</td>\n",
       "      <td>0</td>\n",
       "      <td>0</td>\n",
       "      <td>0</td>\n",
       "      <td>0</td>\n",
       "      <td>1</td>\n",
       "      <td>0</td>\n",
       "      <td>0</td>\n",
       "      <td>0</td>\n",
       "      <td>0</td>\n",
       "      <td>1</td>\n",
       "      <td>0</td>\n",
       "      <td>0</td>\n",
       "      <td>0</td>\n",
       "      <td>0</td>\n",
       "      <td>0</td>\n",
       "      <td>0</td>\n",
       "      <td>0</td>\n",
       "      <td>0</td>\n",
       "      <td>0</td>\n",
       "      <td>0</td>\n",
       "      <td>0</td>\n",
       "      <td>0</td>\n",
       "      <td>0</td>\n",
       "      <td>0</td>\n",
       "      <td>0</td>\n",
       "      <td>0</td>\n",
       "      <td>0</td>\n",
       "      <td>0</td>\n",
       "      <td>0</td>\n",
       "      <td>0</td>\n",
       "      <td>0</td>\n",
       "      <td>0</td>\n",
       "      <td>0</td>\n",
       "      <td>0</td>\n",
       "      <td>0</td>\n",
       "      <td>0</td>\n",
       "      <td>0</td>\n",
       "    </tr>\n",
       "    <tr>\n",
       "      <th>15917</th>\n",
       "      <td>0</td>\n",
       "      <td>0</td>\n",
       "      <td>0</td>\n",
       "      <td>1</td>\n",
       "      <td>0</td>\n",
       "      <td>0</td>\n",
       "      <td>1</td>\n",
       "      <td>0</td>\n",
       "      <td>0</td>\n",
       "      <td>0</td>\n",
       "      <td>1</td>\n",
       "      <td>0</td>\n",
       "      <td>1</td>\n",
       "      <td>0</td>\n",
       "      <td>0</td>\n",
       "      <td>0</td>\n",
       "      <td>0</td>\n",
       "      <td>0</td>\n",
       "      <td>0</td>\n",
       "      <td>0</td>\n",
       "      <td>0</td>\n",
       "      <td>1</td>\n",
       "      <td>0</td>\n",
       "      <td>1</td>\n",
       "      <td>0</td>\n",
       "      <td>0</td>\n",
       "      <td>0</td>\n",
       "      <td>0</td>\n",
       "      <td>0</td>\n",
       "      <td>0</td>\n",
       "      <td>0</td>\n",
       "      <td>0</td>\n",
       "      <td>0</td>\n",
       "      <td>1</td>\n",
       "      <td>0</td>\n",
       "      <td>0</td>\n",
       "      <td>0</td>\n",
       "      <td>0</td>\n",
       "      <td>0</td>\n",
       "      <td>0</td>\n",
       "      <td>0</td>\n",
       "      <td>0</td>\n",
       "      <td>0</td>\n",
       "      <td>1</td>\n",
       "      <td>0</td>\n",
       "      <td>0</td>\n",
       "      <td>0</td>\n",
       "      <td>0</td>\n",
       "      <td>0</td>\n",
       "      <td>0</td>\n",
       "      <td>0</td>\n",
       "      <td>0</td>\n",
       "      <td>0</td>\n",
       "      <td>0</td>\n",
       "      <td>1</td>\n",
       "      <td>0</td>\n",
       "      <td>0</td>\n",
       "      <td>0</td>\n",
       "      <td>0</td>\n",
       "      <td>0</td>\n",
       "      <td>0</td>\n",
       "      <td>1</td>\n",
       "      <td>0</td>\n",
       "      <td>0</td>\n",
       "      <td>0</td>\n",
       "      <td>0</td>\n",
       "      <td>0</td>\n",
       "      <td>0</td>\n",
       "      <td>0</td>\n",
       "      <td>0</td>\n",
       "      <td>0</td>\n",
       "      <td>0</td>\n",
       "      <td>0</td>\n",
       "      <td>0</td>\n",
       "      <td>0</td>\n",
       "      <td>0</td>\n",
       "      <td>0</td>\n",
       "      <td>0</td>\n",
       "      <td>0</td>\n",
       "      <td>0</td>\n",
       "      <td>0</td>\n",
       "      <td>0</td>\n",
       "      <td>0</td>\n",
       "      <td>0</td>\n",
       "      <td>0</td>\n",
       "      <td>0</td>\n",
       "      <td>0</td>\n",
       "      <td>0</td>\n",
       "      <td>0</td>\n",
       "    </tr>\n",
       "    <tr>\n",
       "      <th>15918</th>\n",
       "      <td>0</td>\n",
       "      <td>0</td>\n",
       "      <td>0</td>\n",
       "      <td>1</td>\n",
       "      <td>0</td>\n",
       "      <td>0</td>\n",
       "      <td>1</td>\n",
       "      <td>0</td>\n",
       "      <td>0</td>\n",
       "      <td>1</td>\n",
       "      <td>1</td>\n",
       "      <td>0</td>\n",
       "      <td>1</td>\n",
       "      <td>0</td>\n",
       "      <td>0</td>\n",
       "      <td>0</td>\n",
       "      <td>1</td>\n",
       "      <td>0</td>\n",
       "      <td>0</td>\n",
       "      <td>0</td>\n",
       "      <td>0</td>\n",
       "      <td>1</td>\n",
       "      <td>0</td>\n",
       "      <td>0</td>\n",
       "      <td>0</td>\n",
       "      <td>0</td>\n",
       "      <td>0</td>\n",
       "      <td>0</td>\n",
       "      <td>0</td>\n",
       "      <td>1</td>\n",
       "      <td>0</td>\n",
       "      <td>0</td>\n",
       "      <td>0</td>\n",
       "      <td>0</td>\n",
       "      <td>0</td>\n",
       "      <td>0</td>\n",
       "      <td>0</td>\n",
       "      <td>0</td>\n",
       "      <td>0</td>\n",
       "      <td>0</td>\n",
       "      <td>0</td>\n",
       "      <td>0</td>\n",
       "      <td>0</td>\n",
       "      <td>1</td>\n",
       "      <td>0</td>\n",
       "      <td>0</td>\n",
       "      <td>0</td>\n",
       "      <td>0</td>\n",
       "      <td>1</td>\n",
       "      <td>0</td>\n",
       "      <td>0</td>\n",
       "      <td>0</td>\n",
       "      <td>0</td>\n",
       "      <td>0</td>\n",
       "      <td>0</td>\n",
       "      <td>0</td>\n",
       "      <td>0</td>\n",
       "      <td>0</td>\n",
       "      <td>0</td>\n",
       "      <td>0</td>\n",
       "      <td>0</td>\n",
       "      <td>1</td>\n",
       "      <td>0</td>\n",
       "      <td>0</td>\n",
       "      <td>0</td>\n",
       "      <td>0</td>\n",
       "      <td>0</td>\n",
       "      <td>0</td>\n",
       "      <td>0</td>\n",
       "      <td>0</td>\n",
       "      <td>0</td>\n",
       "      <td>0</td>\n",
       "      <td>0</td>\n",
       "      <td>0</td>\n",
       "      <td>0</td>\n",
       "      <td>0</td>\n",
       "      <td>0</td>\n",
       "      <td>0</td>\n",
       "      <td>0</td>\n",
       "      <td>0</td>\n",
       "      <td>0</td>\n",
       "      <td>0</td>\n",
       "      <td>0</td>\n",
       "      <td>0</td>\n",
       "      <td>0</td>\n",
       "      <td>0</td>\n",
       "      <td>0</td>\n",
       "      <td>0</td>\n",
       "      <td>0</td>\n",
       "    </tr>\n",
       "  </tbody>\n",
       "</table>\n",
       "<p>15915 rows × 89 columns</p>\n",
       "</div>"
      ],
      "text/plain": [
       "        'Air suspension'   'Armrest'   'Armrest']  \\\n",
       "0                      0           1            0   \n",
       "1                      0           0            0   \n",
       "2                      0           0            0   \n",
       "3                      0           1            0   \n",
       "4                      0           1            0   \n",
       "...                  ...         ...          ...   \n",
       "15914                  0           0            0   \n",
       "15915                  0           0            0   \n",
       "15916                  0           1            0   \n",
       "15917                  0           0            0   \n",
       "15918                  0           0            0   \n",
       "\n",
       "        'Automatic climate control'   'Automatic climate control']  \\\n",
       "0                                 1                              0   \n",
       "1                                 1                              0   \n",
       "2                                 0                              0   \n",
       "3                                 0                              0   \n",
       "4                                 1                              0   \n",
       "...                             ...                            ...   \n",
       "15914                             1                              0   \n",
       "15915                             1                              0   \n",
       "15916                             1                              0   \n",
       "15917                             1                              0   \n",
       "15918                             1                              0   \n",
       "\n",
       "        'Auxiliary heating'   'Cruise control'   'Cruise control']  \\\n",
       "0                         0                  1                   0   \n",
       "1                         0                  0                   0   \n",
       "2                         0                  1                   0   \n",
       "3                         1                  0                   0   \n",
       "4                         0                  0                   0   \n",
       "...                     ...                ...                 ...   \n",
       "15914                     0                  1                   0   \n",
       "15915                     0                  1                   0   \n",
       "15916                     0                  1                   0   \n",
       "15917                     0                  1                   0   \n",
       "15918                     0                  1                   0   \n",
       "\n",
       "        'Electric Starter'   'Electric tailgate'   'Electrical side mirrors'  \\\n",
       "0                        0                     0                           1   \n",
       "1                        0                     0                           0   \n",
       "2                        0                     0                           1   \n",
       "3                        0                     0                           1   \n",
       "4                        0                     0                           1   \n",
       "...                    ...                   ...                         ...   \n",
       "15914                    0                     0                           1   \n",
       "15915                    0                     1                           1   \n",
       "15916                    0                     1                           1   \n",
       "15917                    0                     0                           1   \n",
       "15918                    0                     1                           1   \n",
       "\n",
       "        'Electrical side mirrors']   'Electrically adjustable seats'  \\\n",
       "0                                0                                 0   \n",
       "1                                0                                 0   \n",
       "2                                0                                 0   \n",
       "3                                0                                 0   \n",
       "4                                0                                 0   \n",
       "...                            ...                               ...   \n",
       "15914                            0                                 1   \n",
       "15915                            0                                 0   \n",
       "15916                            0                                 0   \n",
       "15917                            0                                 1   \n",
       "15918                            0                                 1   \n",
       "\n",
       "        'Electrically heated windshield'   'Heads-up display'  \\\n",
       "0                                      0                    0   \n",
       "1                                      0                    0   \n",
       "2                                      0                    0   \n",
       "3                                      0                    1   \n",
       "4                                      0                    0   \n",
       "...                                  ...                  ...   \n",
       "15914                                  0                    0   \n",
       "15915                                  1                    1   \n",
       "15916                                  1                    1   \n",
       "15917                                  0                    0   \n",
       "15918                                  0                    0   \n",
       "\n",
       "        'Heated steering wheel'   'Hill Holder'   'Hill Holder']  \\\n",
       "0                             0               1                0   \n",
       "1                             0               1                0   \n",
       "2                             0               1                0   \n",
       "3                             0               1                0   \n",
       "4                             0               1                0   \n",
       "...                         ...             ...              ...   \n",
       "15914                         0               1                0   \n",
       "15915                         1               1                0   \n",
       "15916                         1               0                0   \n",
       "15917                         0               0                0   \n",
       "15918                         0               1                0   \n",
       "\n",
       "        'Keyless central door lock'   'Keyless central door lock']  \\\n",
       "0                                 0                              0   \n",
       "1                                 0                              0   \n",
       "2                                 0                              0   \n",
       "3                                 0                              0   \n",
       "4                                 0                              0   \n",
       "...                             ...                            ...   \n",
       "15914                             1                              0   \n",
       "15915                             1                              0   \n",
       "15916                             0                              0   \n",
       "15917                             0                              0   \n",
       "15918                             0                              0   \n",
       "\n",
       "        'Leather seats'   'Leather steering wheel'  \\\n",
       "0                     0                          1   \n",
       "1                     0                          1   \n",
       "2                     0                          1   \n",
       "3                     0                          1   \n",
       "4                     0                          1   \n",
       "...                 ...                        ...   \n",
       "15914                 0                          1   \n",
       "15915                 0                          1   \n",
       "15916                 0                          1   \n",
       "15917                 0                          1   \n",
       "15918                 0                          1   \n",
       "\n",
       "        'Leather steering wheel']   'Light sensor'   'Lumbar support'  \\\n",
       "0                               0                1                  0   \n",
       "1                               0                0                  1   \n",
       "2                               0                0                  0   \n",
       "3                               0                1                  1   \n",
       "4                               0                1                  0   \n",
       "...                           ...              ...                ...   \n",
       "15914                           0                1                  0   \n",
       "15915                           0                1                  1   \n",
       "15916                           0                1                  0   \n",
       "15917                           0                1                  0   \n",
       "15918                           0                0                  0   \n",
       "\n",
       "        'Lumbar support']   'Massage seats'   'Multi-function steering wheel'  \\\n",
       "0                       0                 0                                 1   \n",
       "1                       0                 0                                 0   \n",
       "2                       0                 0                                 1   \n",
       "3                       0                 0                                 1   \n",
       "4                       0                 0                                 1   \n",
       "...                   ...               ...                               ...   \n",
       "15914                   0                 1                                 1   \n",
       "15915                   0                 0                                 0   \n",
       "15916                   0                 1                                 1   \n",
       "15917                   0                 0                                 0   \n",
       "15918                   0                 0                                 0   \n",
       "\n",
       "        'Multi-function steering wheel']   'Navigation system'  \\\n",
       "0                                      0                     1   \n",
       "1                                      0                     0   \n",
       "2                                      0                     1   \n",
       "3                                      0                     1   \n",
       "4                                      0                     0   \n",
       "...                                  ...                   ...   \n",
       "15914                                  0                     1   \n",
       "15915                                  0                     1   \n",
       "15916                                  0                     1   \n",
       "15917                                  0                     0   \n",
       "15918                                  0                     1   \n",
       "\n",
       "        'Navigation system']   'Panorama roof'   'Panorama roof']  \\\n",
       "0                          0                 0                  0   \n",
       "1                          0                 0                  0   \n",
       "2                          0                 0                  0   \n",
       "3                          0                 0                  0   \n",
       "4                          0                 0                  0   \n",
       "...                      ...               ...                ...   \n",
       "15914                      0                 0                  0   \n",
       "15915                      0                 0                  0   \n",
       "15916                      0                 1                  0   \n",
       "15917                      0                 0                  0   \n",
       "15918                      0                 0                  0   \n",
       "\n",
       "        'Park Distance Control'   'Park Distance Control']  \\\n",
       "0                             1                          0   \n",
       "1                             0                          0   \n",
       "2                             1                          0   \n",
       "3                             0                          0   \n",
       "4                             1                          0   \n",
       "...                         ...                        ...   \n",
       "15914                         1                          0   \n",
       "15915                         1                          0   \n",
       "15916                         1                          0   \n",
       "15917                         1                          0   \n",
       "15918                         0                          0   \n",
       "\n",
       "        'Parking assist system camera'   'Parking assist system camera']  \\\n",
       "0                                    0                                 0   \n",
       "1                                    0                                 0   \n",
       "2                                    0                                 0   \n",
       "3                                    0                                 0   \n",
       "4                                    0                                 0   \n",
       "...                                ...                               ...   \n",
       "15914                                0                                 0   \n",
       "15915                                1                                 0   \n",
       "15916                                1                                 0   \n",
       "15917                                0                                 0   \n",
       "15918                                0                                 0   \n",
       "\n",
       "        'Parking assist system self-steering'  \\\n",
       "0                                           0   \n",
       "1                                           0   \n",
       "2                                           0   \n",
       "3                                           0   \n",
       "4                                           0   \n",
       "...                                       ...   \n",
       "15914                                       0   \n",
       "15915                                       1   \n",
       "15916                                       0   \n",
       "15917                                       0   \n",
       "15918                                       0   \n",
       "\n",
       "        'Parking assist system self-steering']  \\\n",
       "0                                            0   \n",
       "1                                            0   \n",
       "2                                            0   \n",
       "3                                            0   \n",
       "4                                            0   \n",
       "...                                        ...   \n",
       "15914                                        0   \n",
       "15915                                        0   \n",
       "15916                                        0   \n",
       "15917                                        0   \n",
       "15918                                        0   \n",
       "\n",
       "        'Parking assist system sensors front'  \\\n",
       "0                                           0   \n",
       "1                                           0   \n",
       "2                                           1   \n",
       "3                                           0   \n",
       "4                                           0   \n",
       "...                                       ...   \n",
       "15914                                       1   \n",
       "15915                                       1   \n",
       "15916                                       1   \n",
       "15917                                       0   \n",
       "15918                                       0   \n",
       "\n",
       "        'Parking assist system sensors front']  \\\n",
       "0                                            0   \n",
       "1                                            0   \n",
       "2                                            0   \n",
       "3                                            0   \n",
       "4                                            0   \n",
       "...                                        ...   \n",
       "15914                                        0   \n",
       "15915                                        0   \n",
       "15916                                        0   \n",
       "15917                                        0   \n",
       "15918                                        0   \n",
       "\n",
       "        'Parking assist system sensors rear'  \\\n",
       "0                                          1   \n",
       "1                                          1   \n",
       "2                                          1   \n",
       "3                                          0   \n",
       "4                                          1   \n",
       "...                                      ...   \n",
       "15914                                      1   \n",
       "15915                                      1   \n",
       "15916                                      1   \n",
       "15917                                      0   \n",
       "15918                                      0   \n",
       "\n",
       "        'Parking assist system sensors rear']   'Power windows'  \\\n",
       "0                                           0                 1   \n",
       "1                                           0                 1   \n",
       "2                                           0                 1   \n",
       "3                                           0                 1   \n",
       "4                                           0                 1   \n",
       "...                                       ...               ...   \n",
       "15914                                       0                 1   \n",
       "15915                                       0                 1   \n",
       "15916                                       0                 1   \n",
       "15917                                       0                 1   \n",
       "15918                                       0                 1   \n",
       "\n",
       "        'Power windows']   'Rain sensor'   'Rain sensor']   'Seat heating'  \\\n",
       "0                      0               1                0                1   \n",
       "1                      0               0                0                0   \n",
       "2                      0               0                0                1   \n",
       "3                      0               1                0                1   \n",
       "4                      0               1                0                0   \n",
       "...                  ...             ...              ...              ...   \n",
       "15914                  0               1                0                0   \n",
       "15915                  0               1                0                1   \n",
       "15916                  0               1                0                1   \n",
       "15917                  0               0                0                0   \n",
       "15918                  0               0                0                0   \n",
       "\n",
       "        'Seat heating']   'Seat ventilation'   'Seat ventilation']  \\\n",
       "0                     0                    0                     0   \n",
       "1                     0                    0                     0   \n",
       "2                     0                    0                     0   \n",
       "3                     0                    0                     0   \n",
       "4                     0                    0                     0   \n",
       "...                 ...                  ...                   ...   \n",
       "15914                 0                    0                     0   \n",
       "15915                 0                    0                     0   \n",
       "15916                 0                    1                     0   \n",
       "15917                 0                    0                     0   \n",
       "15918                 1                    0                     0   \n",
       "\n",
       "        'Split rear seats'   'Split rear seats']   'Start-stop system'  \\\n",
       "0                        0                     0                     0   \n",
       "1                        0                     0                     1   \n",
       "2                        0                     0                     0   \n",
       "3                        1                     0                     0   \n",
       "4                        0                     0                     0   \n",
       "...                    ...                   ...                   ...   \n",
       "15914                    1                     0                     1   \n",
       "15915                    0                     0                     0   \n",
       "15916                    0                     0                     0   \n",
       "15917                    0                     0                     0   \n",
       "15918                    0                     0                     0   \n",
       "\n",
       "        'Start-stop system']   'Sunroof'   'Sunroof']   'Tinted windows'  \\\n",
       "0                          1           0            0                  0   \n",
       "1                          0           0            0                  0   \n",
       "2                          1           0            0                  0   \n",
       "3                          1           0            0                  0   \n",
       "4                          1           0            0                  0   \n",
       "...                      ...         ...          ...                ...   \n",
       "15914                      0           0            0                  0   \n",
       "15915                      0           0            1                  0   \n",
       "15916                      0           0            1                  0   \n",
       "15917                      1           0            0                  0   \n",
       "15918                      0           0            0                  0   \n",
       "\n",
       "        'Tinted windows']   'Wind deflector']   'Windshield']  \\\n",
       "0                       0                   0               0   \n",
       "1                       1                   0               0   \n",
       "2                       0                   0               0   \n",
       "3                       0                   0               0   \n",
       "4                       0                   0               0   \n",
       "...                   ...                 ...             ...   \n",
       "15914                   1                   0               0   \n",
       "15915                   0                   0               0   \n",
       "15916                   0                   0               0   \n",
       "15917                   0                   0               0   \n",
       "15918                   0                   0               0   \n",
       "\n",
       "       ['Air conditioning'  ['Air conditioning']  ['Air suspension'  \\\n",
       "0                        1                     0                  0   \n",
       "1                        1                     0                  0   \n",
       "2                        1                     0                  0   \n",
       "3                        0                     0                  1   \n",
       "4                        1                     0                  0   \n",
       "...                    ...                   ...                ...   \n",
       "15914                    1                     0                  0   \n",
       "15915                    1                     0                  0   \n",
       "15916                    1                     0                  0   \n",
       "15917                    1                     0                  0   \n",
       "15918                    1                     0                  0   \n",
       "\n",
       "       ['Air suspension']  ['Armrest'  ['Auxiliary heating'  \\\n",
       "0                       0           0                     0   \n",
       "1                       0           0                     0   \n",
       "2                       0           0                     0   \n",
       "3                       0           0                     0   \n",
       "4                       0           0                     0   \n",
       "...                   ...         ...                   ...   \n",
       "15914                   0           0                     0   \n",
       "15915                   0           0                     0   \n",
       "15916                   0           0                     0   \n",
       "15917                   0           0                     0   \n",
       "15918                   0           0                     0   \n",
       "\n",
       "       ['Cruise control'  ['Cruise control']  ['Electrical side mirrors'  \\\n",
       "0                      0                   0                           0   \n",
       "1                      0                   0                           0   \n",
       "2                      0                   0                           0   \n",
       "3                      0                   0                           0   \n",
       "4                      0                   0                           0   \n",
       "...                  ...                 ...                         ...   \n",
       "15914                  0                   0                           0   \n",
       "15915                  0                   0                           0   \n",
       "15916                  0                   0                           0   \n",
       "15917                  0                   0                           0   \n",
       "15918                  0                   0                           0   \n",
       "\n",
       "       ['Electrically adjustable seats'  ['Electrically heated windshield'  \\\n",
       "0                                     0                                  0   \n",
       "1                                     0                                  0   \n",
       "2                                     0                                  0   \n",
       "3                                     0                                  0   \n",
       "4                                     0                                  0   \n",
       "...                                 ...                                ...   \n",
       "15914                                 0                                  0   \n",
       "15915                                 0                                  0   \n",
       "15916                                 0                                  0   \n",
       "15917                                 0                                  0   \n",
       "15918                                 0                                  0   \n",
       "\n",
       "       ['Heads-up display']  ['Heated steering wheel'  ['Hill Holder'  \\\n",
       "0                         0                         0               0   \n",
       "1                         0                         0               0   \n",
       "2                         0                         0               0   \n",
       "3                         0                         0               0   \n",
       "4                         0                         0               0   \n",
       "...                     ...                       ...             ...   \n",
       "15914                     0                         0               0   \n",
       "15915                     0                         0               0   \n",
       "15916                     0                         0               0   \n",
       "15917                     0                         0               0   \n",
       "15918                     0                         0               0   \n",
       "\n",
       "       ['Hill Holder']  ['Leather steering wheel'  ['Light sensor'  \\\n",
       "0                    0                          0                0   \n",
       "1                    0                          0                0   \n",
       "2                    0                          0                0   \n",
       "3                    0                          0                0   \n",
       "4                    0                          0                0   \n",
       "...                ...                        ...              ...   \n",
       "15914                0                          0                0   \n",
       "15915                0                          0                0   \n",
       "15916                0                          0                0   \n",
       "15917                0                          0                0   \n",
       "15918                0                          0                0   \n",
       "\n",
       "       ['Multi-function steering wheel'  ['Multi-function steering wheel']  \\\n",
       "0                                     0                                  0   \n",
       "1                                     0                                  0   \n",
       "2                                     0                                  0   \n",
       "3                                     0                                  0   \n",
       "4                                     0                                  0   \n",
       "...                                 ...                                ...   \n",
       "15914                                 0                                  0   \n",
       "15915                                 0                                  0   \n",
       "15916                                 0                                  0   \n",
       "15917                                 0                                  0   \n",
       "15918                                 0                                  0   \n",
       "\n",
       "       ['Navigation system'  ['Navigation system']  ['Panorama roof']  \\\n",
       "0                         0                      0                  0   \n",
       "1                         0                      0                  0   \n",
       "2                         0                      0                  0   \n",
       "3                         0                      0                  0   \n",
       "4                         0                      0                  0   \n",
       "...                     ...                    ...                ...   \n",
       "15914                     0                      0                  0   \n",
       "15915                     0                      0                  0   \n",
       "15916                     0                      0                  0   \n",
       "15917                     0                      0                  0   \n",
       "15918                     0                      0                  0   \n",
       "\n",
       "       ['Park Distance Control'  ['Park Distance Control']  ['Power windows'  \\\n",
       "0                             0                          0                 0   \n",
       "1                             0                          0                 0   \n",
       "2                             0                          0                 0   \n",
       "3                             0                          0                 0   \n",
       "4                             0                          0                 0   \n",
       "...                         ...                        ...               ...   \n",
       "15914                         0                          0                 0   \n",
       "15915                         0                          0                 0   \n",
       "15916                         0                          0                 0   \n",
       "15917                         0                          0                 0   \n",
       "15918                         0                          0                 0   \n",
       "\n",
       "       ['Power windows']  ['Rain sensor']  ['Sunroof']  \n",
       "0                      0                0            0  \n",
       "1                      0                0            0  \n",
       "2                      0                0            0  \n",
       "3                      0                0            0  \n",
       "4                      0                0            0  \n",
       "...                  ...              ...          ...  \n",
       "15914                  0                0            0  \n",
       "15915                  0                0            0  \n",
       "15916                  0                0            0  \n",
       "15917                  0                0            0  \n",
       "15918                  0                0            0  \n",
       "\n",
       "[15915 rows x 89 columns]"
      ]
     },
     "execution_count": 168,
     "metadata": {},
     "output_type": "execute_result"
    }
   ],
   "source": [
    "df.comfort.str.get_dummies(\",\")\n",
    "# string hale getirmezsek gereksiz sütunlar oluşuyor"
   ]
  },
  {
   "cell_type": "markdown",
   "id": "23d14ef0",
   "metadata": {},
   "source": [
    "### '\\nEntertainment & Media\\n' Sütunu"
   ]
  },
  {
   "cell_type": "code",
   "execution_count": 169,
   "id": "6ac58aa2",
   "metadata": {},
   "outputs": [],
   "source": [
    "df.rename(columns={'\\nEntertainment & Media\\n':'media'},inplace=True)"
   ]
  },
  {
   "cell_type": "code",
   "execution_count": 170,
   "id": "3034cedb",
   "metadata": {},
   "outputs": [
    {
     "data": {
      "text/plain": [
       "7394                                                  None\n",
       "12727    [Bluetooth, Digital radio, On-board computer, ...\n",
       "11971    [Bluetooth, Digital radio, Hands-free equipmen...\n",
       "12639                       [Bluetooth, On-board computer]\n",
       "5516     [Bluetooth, CD player, Hands-free equipment, M...\n",
       "Name: media, dtype: object"
      ]
     },
     "execution_count": 170,
     "metadata": {},
     "output_type": "execute_result"
    }
   ],
   "source": [
    "df.media.sample(5)"
   ]
  },
  {
   "cell_type": "code",
   "execution_count": 171,
   "id": "5d2255fd",
   "metadata": {},
   "outputs": [],
   "source": [
    "media_unique = {j for i in df.media.dropna() for j in i}\n",
    "# set comprehension ile unique değerlerini bulduk. "
   ]
  },
  {
   "cell_type": "code",
   "execution_count": 172,
   "id": "0806bd0a",
   "metadata": {},
   "outputs": [
    {
     "data": {
      "text/plain": [
       "10"
      ]
     },
     "execution_count": 172,
     "metadata": {},
     "output_type": "execute_result"
    }
   ],
   "source": [
    "len(media_unique)"
   ]
  },
  {
   "cell_type": "code",
   "execution_count": 173,
   "id": "3753ce38",
   "metadata": {},
   "outputs": [],
   "source": [
    "# comfort sütunu için yapmayı planladığımız işlemlerin aynısını bu sütunlar içinde yapabiliriz"
   ]
  },
  {
   "cell_type": "code",
   "execution_count": 174,
   "id": "ed115b83",
   "metadata": {},
   "outputs": [
    {
     "data": {
      "text/html": [
       "<div>\n",
       "<style scoped>\n",
       "    .dataframe tbody tr th:only-of-type {\n",
       "        vertical-align: middle;\n",
       "    }\n",
       "\n",
       "    .dataframe tbody tr th {\n",
       "        vertical-align: top;\n",
       "    }\n",
       "\n",
       "    .dataframe thead th {\n",
       "        text-align: right;\n",
       "    }\n",
       "</style>\n",
       "<table border=\"1\" class=\"dataframe\">\n",
       "  <thead>\n",
       "    <tr style=\"text-align: right;\">\n",
       "      <th></th>\n",
       "      <th>'CD player'</th>\n",
       "      <th>'CD player']</th>\n",
       "      <th>'Digital radio'</th>\n",
       "      <th>'Digital radio']</th>\n",
       "      <th>'Hands-free equipment'</th>\n",
       "      <th>'Hands-free equipment']</th>\n",
       "      <th>'MP3'</th>\n",
       "      <th>'MP3']</th>\n",
       "      <th>'On-board computer'</th>\n",
       "      <th>'On-board computer']</th>\n",
       "      <th>'Radio'</th>\n",
       "      <th>'Radio']</th>\n",
       "      <th>'Sound system'</th>\n",
       "      <th>'Sound system']</th>\n",
       "      <th>'Television'</th>\n",
       "      <th>'Television']</th>\n",
       "      <th>'USB']</th>\n",
       "      <th>['Bluetooth'</th>\n",
       "      <th>['Bluetooth']</th>\n",
       "      <th>['CD player'</th>\n",
       "      <th>['CD player']</th>\n",
       "      <th>['Digital radio'</th>\n",
       "      <th>['Digital radio']</th>\n",
       "      <th>['Hands-free equipment'</th>\n",
       "      <th>['Hands-free equipment']</th>\n",
       "      <th>['MP3'</th>\n",
       "      <th>['MP3']</th>\n",
       "      <th>['On-board computer'</th>\n",
       "      <th>['On-board computer']</th>\n",
       "      <th>['Radio'</th>\n",
       "      <th>['Radio']</th>\n",
       "      <th>['Sound system'</th>\n",
       "      <th>['Sound system']</th>\n",
       "      <th>['USB']</th>\n",
       "    </tr>\n",
       "  </thead>\n",
       "  <tbody>\n",
       "    <tr>\n",
       "      <th>0</th>\n",
       "      <td>0</td>\n",
       "      <td>0</td>\n",
       "      <td>0</td>\n",
       "      <td>0</td>\n",
       "      <td>1</td>\n",
       "      <td>0</td>\n",
       "      <td>0</td>\n",
       "      <td>0</td>\n",
       "      <td>1</td>\n",
       "      <td>0</td>\n",
       "      <td>0</td>\n",
       "      <td>1</td>\n",
       "      <td>0</td>\n",
       "      <td>0</td>\n",
       "      <td>0</td>\n",
       "      <td>0</td>\n",
       "      <td>0</td>\n",
       "      <td>1</td>\n",
       "      <td>0</td>\n",
       "      <td>0</td>\n",
       "      <td>0</td>\n",
       "      <td>0</td>\n",
       "      <td>0</td>\n",
       "      <td>0</td>\n",
       "      <td>0</td>\n",
       "      <td>0</td>\n",
       "      <td>0</td>\n",
       "      <td>0</td>\n",
       "      <td>0</td>\n",
       "      <td>0</td>\n",
       "      <td>0</td>\n",
       "      <td>0</td>\n",
       "      <td>0</td>\n",
       "      <td>0</td>\n",
       "    </tr>\n",
       "    <tr>\n",
       "      <th>1</th>\n",
       "      <td>0</td>\n",
       "      <td>0</td>\n",
       "      <td>0</td>\n",
       "      <td>0</td>\n",
       "      <td>1</td>\n",
       "      <td>0</td>\n",
       "      <td>0</td>\n",
       "      <td>0</td>\n",
       "      <td>1</td>\n",
       "      <td>0</td>\n",
       "      <td>1</td>\n",
       "      <td>0</td>\n",
       "      <td>0</td>\n",
       "      <td>1</td>\n",
       "      <td>0</td>\n",
       "      <td>0</td>\n",
       "      <td>0</td>\n",
       "      <td>1</td>\n",
       "      <td>0</td>\n",
       "      <td>0</td>\n",
       "      <td>0</td>\n",
       "      <td>0</td>\n",
       "      <td>0</td>\n",
       "      <td>0</td>\n",
       "      <td>0</td>\n",
       "      <td>0</td>\n",
       "      <td>0</td>\n",
       "      <td>0</td>\n",
       "      <td>0</td>\n",
       "      <td>0</td>\n",
       "      <td>0</td>\n",
       "      <td>0</td>\n",
       "      <td>0</td>\n",
       "      <td>0</td>\n",
       "    </tr>\n",
       "    <tr>\n",
       "      <th>2</th>\n",
       "      <td>0</td>\n",
       "      <td>0</td>\n",
       "      <td>0</td>\n",
       "      <td>0</td>\n",
       "      <td>0</td>\n",
       "      <td>0</td>\n",
       "      <td>0</td>\n",
       "      <td>0</td>\n",
       "      <td>0</td>\n",
       "      <td>1</td>\n",
       "      <td>0</td>\n",
       "      <td>0</td>\n",
       "      <td>0</td>\n",
       "      <td>0</td>\n",
       "      <td>0</td>\n",
       "      <td>0</td>\n",
       "      <td>0</td>\n",
       "      <td>0</td>\n",
       "      <td>0</td>\n",
       "      <td>0</td>\n",
       "      <td>0</td>\n",
       "      <td>0</td>\n",
       "      <td>0</td>\n",
       "      <td>0</td>\n",
       "      <td>0</td>\n",
       "      <td>1</td>\n",
       "      <td>0</td>\n",
       "      <td>0</td>\n",
       "      <td>0</td>\n",
       "      <td>0</td>\n",
       "      <td>0</td>\n",
       "      <td>0</td>\n",
       "      <td>0</td>\n",
       "      <td>0</td>\n",
       "    </tr>\n",
       "    <tr>\n",
       "      <th>3</th>\n",
       "      <td>1</td>\n",
       "      <td>0</td>\n",
       "      <td>0</td>\n",
       "      <td>0</td>\n",
       "      <td>1</td>\n",
       "      <td>0</td>\n",
       "      <td>1</td>\n",
       "      <td>0</td>\n",
       "      <td>1</td>\n",
       "      <td>0</td>\n",
       "      <td>1</td>\n",
       "      <td>0</td>\n",
       "      <td>1</td>\n",
       "      <td>0</td>\n",
       "      <td>0</td>\n",
       "      <td>0</td>\n",
       "      <td>1</td>\n",
       "      <td>1</td>\n",
       "      <td>0</td>\n",
       "      <td>0</td>\n",
       "      <td>0</td>\n",
       "      <td>0</td>\n",
       "      <td>0</td>\n",
       "      <td>0</td>\n",
       "      <td>0</td>\n",
       "      <td>0</td>\n",
       "      <td>0</td>\n",
       "      <td>0</td>\n",
       "      <td>0</td>\n",
       "      <td>0</td>\n",
       "      <td>0</td>\n",
       "      <td>0</td>\n",
       "      <td>0</td>\n",
       "      <td>0</td>\n",
       "    </tr>\n",
       "    <tr>\n",
       "      <th>4</th>\n",
       "      <td>1</td>\n",
       "      <td>0</td>\n",
       "      <td>0</td>\n",
       "      <td>0</td>\n",
       "      <td>1</td>\n",
       "      <td>0</td>\n",
       "      <td>1</td>\n",
       "      <td>0</td>\n",
       "      <td>1</td>\n",
       "      <td>0</td>\n",
       "      <td>1</td>\n",
       "      <td>0</td>\n",
       "      <td>0</td>\n",
       "      <td>0</td>\n",
       "      <td>0</td>\n",
       "      <td>0</td>\n",
       "      <td>1</td>\n",
       "      <td>1</td>\n",
       "      <td>0</td>\n",
       "      <td>0</td>\n",
       "      <td>0</td>\n",
       "      <td>0</td>\n",
       "      <td>0</td>\n",
       "      <td>0</td>\n",
       "      <td>0</td>\n",
       "      <td>0</td>\n",
       "      <td>0</td>\n",
       "      <td>0</td>\n",
       "      <td>0</td>\n",
       "      <td>0</td>\n",
       "      <td>0</td>\n",
       "      <td>0</td>\n",
       "      <td>0</td>\n",
       "      <td>0</td>\n",
       "    </tr>\n",
       "    <tr>\n",
       "      <th>...</th>\n",
       "      <td>...</td>\n",
       "      <td>...</td>\n",
       "      <td>...</td>\n",
       "      <td>...</td>\n",
       "      <td>...</td>\n",
       "      <td>...</td>\n",
       "      <td>...</td>\n",
       "      <td>...</td>\n",
       "      <td>...</td>\n",
       "      <td>...</td>\n",
       "      <td>...</td>\n",
       "      <td>...</td>\n",
       "      <td>...</td>\n",
       "      <td>...</td>\n",
       "      <td>...</td>\n",
       "      <td>...</td>\n",
       "      <td>...</td>\n",
       "      <td>...</td>\n",
       "      <td>...</td>\n",
       "      <td>...</td>\n",
       "      <td>...</td>\n",
       "      <td>...</td>\n",
       "      <td>...</td>\n",
       "      <td>...</td>\n",
       "      <td>...</td>\n",
       "      <td>...</td>\n",
       "      <td>...</td>\n",
       "      <td>...</td>\n",
       "      <td>...</td>\n",
       "      <td>...</td>\n",
       "      <td>...</td>\n",
       "      <td>...</td>\n",
       "      <td>...</td>\n",
       "      <td>...</td>\n",
       "    </tr>\n",
       "    <tr>\n",
       "      <th>15914</th>\n",
       "      <td>0</td>\n",
       "      <td>0</td>\n",
       "      <td>1</td>\n",
       "      <td>0</td>\n",
       "      <td>1</td>\n",
       "      <td>0</td>\n",
       "      <td>0</td>\n",
       "      <td>0</td>\n",
       "      <td>1</td>\n",
       "      <td>0</td>\n",
       "      <td>1</td>\n",
       "      <td>0</td>\n",
       "      <td>0</td>\n",
       "      <td>0</td>\n",
       "      <td>0</td>\n",
       "      <td>0</td>\n",
       "      <td>1</td>\n",
       "      <td>1</td>\n",
       "      <td>0</td>\n",
       "      <td>0</td>\n",
       "      <td>0</td>\n",
       "      <td>0</td>\n",
       "      <td>0</td>\n",
       "      <td>0</td>\n",
       "      <td>0</td>\n",
       "      <td>0</td>\n",
       "      <td>0</td>\n",
       "      <td>0</td>\n",
       "      <td>0</td>\n",
       "      <td>0</td>\n",
       "      <td>0</td>\n",
       "      <td>0</td>\n",
       "      <td>0</td>\n",
       "      <td>0</td>\n",
       "    </tr>\n",
       "    <tr>\n",
       "      <th>15915</th>\n",
       "      <td>0</td>\n",
       "      <td>0</td>\n",
       "      <td>1</td>\n",
       "      <td>0</td>\n",
       "      <td>1</td>\n",
       "      <td>0</td>\n",
       "      <td>0</td>\n",
       "      <td>0</td>\n",
       "      <td>0</td>\n",
       "      <td>0</td>\n",
       "      <td>1</td>\n",
       "      <td>0</td>\n",
       "      <td>0</td>\n",
       "      <td>0</td>\n",
       "      <td>0</td>\n",
       "      <td>0</td>\n",
       "      <td>1</td>\n",
       "      <td>1</td>\n",
       "      <td>0</td>\n",
       "      <td>0</td>\n",
       "      <td>0</td>\n",
       "      <td>0</td>\n",
       "      <td>0</td>\n",
       "      <td>0</td>\n",
       "      <td>0</td>\n",
       "      <td>0</td>\n",
       "      <td>0</td>\n",
       "      <td>0</td>\n",
       "      <td>0</td>\n",
       "      <td>0</td>\n",
       "      <td>0</td>\n",
       "      <td>0</td>\n",
       "      <td>0</td>\n",
       "      <td>0</td>\n",
       "    </tr>\n",
       "    <tr>\n",
       "      <th>15916</th>\n",
       "      <td>0</td>\n",
       "      <td>0</td>\n",
       "      <td>0</td>\n",
       "      <td>0</td>\n",
       "      <td>1</td>\n",
       "      <td>0</td>\n",
       "      <td>0</td>\n",
       "      <td>0</td>\n",
       "      <td>1</td>\n",
       "      <td>0</td>\n",
       "      <td>0</td>\n",
       "      <td>1</td>\n",
       "      <td>0</td>\n",
       "      <td>0</td>\n",
       "      <td>0</td>\n",
       "      <td>0</td>\n",
       "      <td>0</td>\n",
       "      <td>1</td>\n",
       "      <td>0</td>\n",
       "      <td>0</td>\n",
       "      <td>0</td>\n",
       "      <td>0</td>\n",
       "      <td>0</td>\n",
       "      <td>0</td>\n",
       "      <td>0</td>\n",
       "      <td>0</td>\n",
       "      <td>0</td>\n",
       "      <td>0</td>\n",
       "      <td>0</td>\n",
       "      <td>0</td>\n",
       "      <td>0</td>\n",
       "      <td>0</td>\n",
       "      <td>0</td>\n",
       "      <td>0</td>\n",
       "    </tr>\n",
       "    <tr>\n",
       "      <th>15917</th>\n",
       "      <td>0</td>\n",
       "      <td>0</td>\n",
       "      <td>1</td>\n",
       "      <td>0</td>\n",
       "      <td>0</td>\n",
       "      <td>0</td>\n",
       "      <td>0</td>\n",
       "      <td>0</td>\n",
       "      <td>0</td>\n",
       "      <td>0</td>\n",
       "      <td>1</td>\n",
       "      <td>0</td>\n",
       "      <td>0</td>\n",
       "      <td>0</td>\n",
       "      <td>0</td>\n",
       "      <td>0</td>\n",
       "      <td>1</td>\n",
       "      <td>1</td>\n",
       "      <td>0</td>\n",
       "      <td>0</td>\n",
       "      <td>0</td>\n",
       "      <td>0</td>\n",
       "      <td>0</td>\n",
       "      <td>0</td>\n",
       "      <td>0</td>\n",
       "      <td>0</td>\n",
       "      <td>0</td>\n",
       "      <td>0</td>\n",
       "      <td>0</td>\n",
       "      <td>0</td>\n",
       "      <td>0</td>\n",
       "      <td>0</td>\n",
       "      <td>0</td>\n",
       "      <td>0</td>\n",
       "    </tr>\n",
       "    <tr>\n",
       "      <th>15918</th>\n",
       "      <td>0</td>\n",
       "      <td>0</td>\n",
       "      <td>0</td>\n",
       "      <td>0</td>\n",
       "      <td>0</td>\n",
       "      <td>0</td>\n",
       "      <td>0</td>\n",
       "      <td>0</td>\n",
       "      <td>0</td>\n",
       "      <td>0</td>\n",
       "      <td>0</td>\n",
       "      <td>0</td>\n",
       "      <td>0</td>\n",
       "      <td>0</td>\n",
       "      <td>0</td>\n",
       "      <td>0</td>\n",
       "      <td>0</td>\n",
       "      <td>0</td>\n",
       "      <td>0</td>\n",
       "      <td>0</td>\n",
       "      <td>0</td>\n",
       "      <td>0</td>\n",
       "      <td>0</td>\n",
       "      <td>0</td>\n",
       "      <td>0</td>\n",
       "      <td>0</td>\n",
       "      <td>0</td>\n",
       "      <td>0</td>\n",
       "      <td>0</td>\n",
       "      <td>0</td>\n",
       "      <td>0</td>\n",
       "      <td>0</td>\n",
       "      <td>0</td>\n",
       "      <td>1</td>\n",
       "    </tr>\n",
       "  </tbody>\n",
       "</table>\n",
       "<p>15915 rows × 34 columns</p>\n",
       "</div>"
      ],
      "text/plain": [
       "        'CD player'   'CD player']   'Digital radio'   'Digital radio']  \\\n",
       "0                 0              0                 0                  0   \n",
       "1                 0              0                 0                  0   \n",
       "2                 0              0                 0                  0   \n",
       "3                 1              0                 0                  0   \n",
       "4                 1              0                 0                  0   \n",
       "...             ...            ...               ...                ...   \n",
       "15914             0              0                 1                  0   \n",
       "15915             0              0                 1                  0   \n",
       "15916             0              0                 0                  0   \n",
       "15917             0              0                 1                  0   \n",
       "15918             0              0                 0                  0   \n",
       "\n",
       "        'Hands-free equipment'   'Hands-free equipment']   'MP3'   'MP3']  \\\n",
       "0                            1                         0       0        0   \n",
       "1                            1                         0       0        0   \n",
       "2                            0                         0       0        0   \n",
       "3                            1                         0       1        0   \n",
       "4                            1                         0       1        0   \n",
       "...                        ...                       ...     ...      ...   \n",
       "15914                        1                         0       0        0   \n",
       "15915                        1                         0       0        0   \n",
       "15916                        1                         0       0        0   \n",
       "15917                        0                         0       0        0   \n",
       "15918                        0                         0       0        0   \n",
       "\n",
       "        'On-board computer'   'On-board computer']   'Radio'   'Radio']  \\\n",
       "0                         1                      0         0          1   \n",
       "1                         1                      0         1          0   \n",
       "2                         0                      1         0          0   \n",
       "3                         1                      0         1          0   \n",
       "4                         1                      0         1          0   \n",
       "...                     ...                    ...       ...        ...   \n",
       "15914                     1                      0         1          0   \n",
       "15915                     0                      0         1          0   \n",
       "15916                     1                      0         0          1   \n",
       "15917                     0                      0         1          0   \n",
       "15918                     0                      0         0          0   \n",
       "\n",
       "        'Sound system'   'Sound system']   'Television'   'Television']  \\\n",
       "0                    0                 0              0               0   \n",
       "1                    0                 1              0               0   \n",
       "2                    0                 0              0               0   \n",
       "3                    1                 0              0               0   \n",
       "4                    0                 0              0               0   \n",
       "...                ...               ...            ...             ...   \n",
       "15914                0                 0              0               0   \n",
       "15915                0                 0              0               0   \n",
       "15916                0                 0              0               0   \n",
       "15917                0                 0              0               0   \n",
       "15918                0                 0              0               0   \n",
       "\n",
       "        'USB']  ['Bluetooth'  ['Bluetooth']  ['CD player'  ['CD player']  \\\n",
       "0            0             1              0             0              0   \n",
       "1            0             1              0             0              0   \n",
       "2            0             0              0             0              0   \n",
       "3            1             1              0             0              0   \n",
       "4            1             1              0             0              0   \n",
       "...        ...           ...            ...           ...            ...   \n",
       "15914        1             1              0             0              0   \n",
       "15915        1             1              0             0              0   \n",
       "15916        0             1              0             0              0   \n",
       "15917        1             1              0             0              0   \n",
       "15918        0             0              0             0              0   \n",
       "\n",
       "       ['Digital radio'  ['Digital radio']  ['Hands-free equipment'  \\\n",
       "0                     0                  0                        0   \n",
       "1                     0                  0                        0   \n",
       "2                     0                  0                        0   \n",
       "3                     0                  0                        0   \n",
       "4                     0                  0                        0   \n",
       "...                 ...                ...                      ...   \n",
       "15914                 0                  0                        0   \n",
       "15915                 0                  0                        0   \n",
       "15916                 0                  0                        0   \n",
       "15917                 0                  0                        0   \n",
       "15918                 0                  0                        0   \n",
       "\n",
       "       ['Hands-free equipment']  ['MP3'  ['MP3']  ['On-board computer'  \\\n",
       "0                             0       0        0                     0   \n",
       "1                             0       0        0                     0   \n",
       "2                             0       1        0                     0   \n",
       "3                             0       0        0                     0   \n",
       "4                             0       0        0                     0   \n",
       "...                         ...     ...      ...                   ...   \n",
       "15914                         0       0        0                     0   \n",
       "15915                         0       0        0                     0   \n",
       "15916                         0       0        0                     0   \n",
       "15917                         0       0        0                     0   \n",
       "15918                         0       0        0                     0   \n",
       "\n",
       "       ['On-board computer']  ['Radio'  ['Radio']  ['Sound system'  \\\n",
       "0                          0         0          0                0   \n",
       "1                          0         0          0                0   \n",
       "2                          0         0          0                0   \n",
       "3                          0         0          0                0   \n",
       "4                          0         0          0                0   \n",
       "...                      ...       ...        ...              ...   \n",
       "15914                      0         0          0                0   \n",
       "15915                      0         0          0                0   \n",
       "15916                      0         0          0                0   \n",
       "15917                      0         0          0                0   \n",
       "15918                      0         0          0                0   \n",
       "\n",
       "       ['Sound system']  ['USB']  \n",
       "0                     0        0  \n",
       "1                     0        0  \n",
       "2                     0        0  \n",
       "3                     0        0  \n",
       "4                     0        0  \n",
       "...                 ...      ...  \n",
       "15914                 0        0  \n",
       "15915                 0        0  \n",
       "15916                 0        0  \n",
       "15917                 0        0  \n",
       "15918                 0        1  \n",
       "\n",
       "[15915 rows x 34 columns]"
      ]
     },
     "execution_count": 174,
     "metadata": {},
     "output_type": "execute_result"
    }
   ],
   "source": [
    "df.media.str.get_dummies(\",\")"
   ]
  },
  {
   "cell_type": "code",
   "execution_count": 175,
   "id": "7f4bee0d",
   "metadata": {},
   "outputs": [
    {
     "data": {
      "text/html": [
       "<div>\n",
       "<style scoped>\n",
       "    .dataframe tbody tr th:only-of-type {\n",
       "        vertical-align: middle;\n",
       "    }\n",
       "\n",
       "    .dataframe tbody tr th {\n",
       "        vertical-align: top;\n",
       "    }\n",
       "\n",
       "    .dataframe thead th {\n",
       "        text-align: right;\n",
       "    }\n",
       "</style>\n",
       "<table border=\"1\" class=\"dataframe\">\n",
       "  <thead>\n",
       "    <tr style=\"text-align: right;\">\n",
       "      <th></th>\n",
       "      <th>Bluetooth</th>\n",
       "      <th>CD player</th>\n",
       "      <th>Digital radio</th>\n",
       "      <th>Hands-free equipment</th>\n",
       "      <th>MP3</th>\n",
       "      <th>On-board computer</th>\n",
       "      <th>Radio</th>\n",
       "      <th>Sound system</th>\n",
       "      <th>Television</th>\n",
       "      <th>USB</th>\n",
       "    </tr>\n",
       "  </thead>\n",
       "  <tbody>\n",
       "    <tr>\n",
       "      <th>0</th>\n",
       "      <td>1</td>\n",
       "      <td>0</td>\n",
       "      <td>0</td>\n",
       "      <td>1</td>\n",
       "      <td>0</td>\n",
       "      <td>1</td>\n",
       "      <td>1</td>\n",
       "      <td>0</td>\n",
       "      <td>0</td>\n",
       "      <td>0</td>\n",
       "    </tr>\n",
       "    <tr>\n",
       "      <th>1</th>\n",
       "      <td>1</td>\n",
       "      <td>0</td>\n",
       "      <td>0</td>\n",
       "      <td>1</td>\n",
       "      <td>0</td>\n",
       "      <td>1</td>\n",
       "      <td>1</td>\n",
       "      <td>1</td>\n",
       "      <td>0</td>\n",
       "      <td>0</td>\n",
       "    </tr>\n",
       "    <tr>\n",
       "      <th>2</th>\n",
       "      <td>0</td>\n",
       "      <td>0</td>\n",
       "      <td>0</td>\n",
       "      <td>0</td>\n",
       "      <td>1</td>\n",
       "      <td>1</td>\n",
       "      <td>0</td>\n",
       "      <td>0</td>\n",
       "      <td>0</td>\n",
       "      <td>0</td>\n",
       "    </tr>\n",
       "    <tr>\n",
       "      <th>3</th>\n",
       "      <td>1</td>\n",
       "      <td>1</td>\n",
       "      <td>0</td>\n",
       "      <td>1</td>\n",
       "      <td>1</td>\n",
       "      <td>1</td>\n",
       "      <td>1</td>\n",
       "      <td>1</td>\n",
       "      <td>0</td>\n",
       "      <td>1</td>\n",
       "    </tr>\n",
       "    <tr>\n",
       "      <th>4</th>\n",
       "      <td>1</td>\n",
       "      <td>1</td>\n",
       "      <td>0</td>\n",
       "      <td>1</td>\n",
       "      <td>1</td>\n",
       "      <td>1</td>\n",
       "      <td>1</td>\n",
       "      <td>0</td>\n",
       "      <td>0</td>\n",
       "      <td>1</td>\n",
       "    </tr>\n",
       "    <tr>\n",
       "      <th>...</th>\n",
       "      <td>...</td>\n",
       "      <td>...</td>\n",
       "      <td>...</td>\n",
       "      <td>...</td>\n",
       "      <td>...</td>\n",
       "      <td>...</td>\n",
       "      <td>...</td>\n",
       "      <td>...</td>\n",
       "      <td>...</td>\n",
       "      <td>...</td>\n",
       "    </tr>\n",
       "    <tr>\n",
       "      <th>15914</th>\n",
       "      <td>1</td>\n",
       "      <td>0</td>\n",
       "      <td>1</td>\n",
       "      <td>1</td>\n",
       "      <td>0</td>\n",
       "      <td>1</td>\n",
       "      <td>1</td>\n",
       "      <td>0</td>\n",
       "      <td>0</td>\n",
       "      <td>1</td>\n",
       "    </tr>\n",
       "    <tr>\n",
       "      <th>15915</th>\n",
       "      <td>1</td>\n",
       "      <td>0</td>\n",
       "      <td>1</td>\n",
       "      <td>1</td>\n",
       "      <td>0</td>\n",
       "      <td>0</td>\n",
       "      <td>1</td>\n",
       "      <td>0</td>\n",
       "      <td>0</td>\n",
       "      <td>1</td>\n",
       "    </tr>\n",
       "    <tr>\n",
       "      <th>15916</th>\n",
       "      <td>1</td>\n",
       "      <td>0</td>\n",
       "      <td>0</td>\n",
       "      <td>1</td>\n",
       "      <td>0</td>\n",
       "      <td>1</td>\n",
       "      <td>1</td>\n",
       "      <td>0</td>\n",
       "      <td>0</td>\n",
       "      <td>0</td>\n",
       "    </tr>\n",
       "    <tr>\n",
       "      <th>15917</th>\n",
       "      <td>1</td>\n",
       "      <td>0</td>\n",
       "      <td>1</td>\n",
       "      <td>0</td>\n",
       "      <td>0</td>\n",
       "      <td>0</td>\n",
       "      <td>1</td>\n",
       "      <td>0</td>\n",
       "      <td>0</td>\n",
       "      <td>1</td>\n",
       "    </tr>\n",
       "    <tr>\n",
       "      <th>15918</th>\n",
       "      <td>0</td>\n",
       "      <td>0</td>\n",
       "      <td>0</td>\n",
       "      <td>0</td>\n",
       "      <td>0</td>\n",
       "      <td>0</td>\n",
       "      <td>0</td>\n",
       "      <td>0</td>\n",
       "      <td>0</td>\n",
       "      <td>1</td>\n",
       "    </tr>\n",
       "  </tbody>\n",
       "</table>\n",
       "<p>15915 rows × 10 columns</p>\n",
       "</div>"
      ],
      "text/plain": [
       "       Bluetooth  CD player  Digital radio  Hands-free equipment  MP3  \\\n",
       "0              1          0              0                     1    0   \n",
       "1              1          0              0                     1    0   \n",
       "2              0          0              0                     0    1   \n",
       "3              1          1              0                     1    1   \n",
       "4              1          1              0                     1    1   \n",
       "...          ...        ...            ...                   ...  ...   \n",
       "15914          1          0              1                     1    0   \n",
       "15915          1          0              1                     1    0   \n",
       "15916          1          0              0                     1    0   \n",
       "15917          1          0              1                     0    0   \n",
       "15918          0          0              0                     0    0   \n",
       "\n",
       "       On-board computer  Radio  Sound system  Television  USB  \n",
       "0                      1      1             0           0    0  \n",
       "1                      1      1             1           0    0  \n",
       "2                      1      0             0           0    0  \n",
       "3                      1      1             1           0    1  \n",
       "4                      1      1             0           0    1  \n",
       "...                  ...    ...           ...         ...  ...  \n",
       "15914                  1      1             0           0    1  \n",
       "15915                  0      1             0           0    1  \n",
       "15916                  1      1             0           0    0  \n",
       "15917                  0      1             0           0    1  \n",
       "15918                  0      0             0           0    1  \n",
       "\n",
       "[15915 rows x 10 columns]"
      ]
     },
     "execution_count": 175,
     "metadata": {},
     "output_type": "execute_result"
    }
   ],
   "source": [
    "df.media.map(lambda x: \",\".join(x), na_action='ignore').str.get_dummies(\",\")"
   ]
  },
  {
   "cell_type": "code",
   "execution_count": 176,
   "id": "123033b6",
   "metadata": {},
   "outputs": [
    {
     "data": {
      "text/plain": [
       "Index(['make_model', 'body_type', 'price', 'vat', 'km', 'registration',\n",
       "       'prev_owner', 'hp', 'Make', 'Model', 'Body Color', 'Upholstery', 'Body',\n",
       "       'Nr. of Doors', 'Nr. of Seats', 'Gearing Type', 'Displacement',\n",
       "       'Weight', 'Drive chain', 'Consumption', 'CO2 Emission',\n",
       "       'Emission Class', 'comfort', 'media', '\\nExtras\\n',\n",
       "       '\\nSafety & Security\\n', 'Emission Label', 'Gears', 'Country version',\n",
       "       'Vehicle condition', 'particul_filter', 'Fuel Type'],\n",
       "      dtype='object')"
      ]
     },
     "execution_count": 176,
     "metadata": {},
     "output_type": "execute_result"
    }
   ],
   "source": [
    "df.columns"
   ]
  },
  {
   "cell_type": "markdown",
   "id": "7b42ba7f",
   "metadata": {},
   "source": [
    "### '\\nExtras\\n' sütunu "
   ]
  },
  {
   "cell_type": "code",
   "execution_count": 177,
   "id": "72e48c3d",
   "metadata": {},
   "outputs": [],
   "source": [
    "df.rename(columns= {'\\nExtras\\n':\"Extras\"},inplace=True)"
   ]
  },
  {
   "cell_type": "code",
   "execution_count": 178,
   "id": "8a075a34",
   "metadata": {},
   "outputs": [
    {
     "data": {
      "text/plain": [
       "0        [Alloy wheels, Catalytic Converter, Voice Cont...\n",
       "1        [Alloy wheels, Sport seats, Sport suspension, ...\n",
       "2                            [Alloy wheels, Voice Control]\n",
       "3               [Alloy wheels, Sport seats, Voice Control]\n",
       "4        [Alloy wheels, Sport package, Sport suspension...\n",
       "                               ...                        \n",
       "15914                         [Alloy wheels, Touch screen]\n",
       "15915          [Alloy wheels, Touch screen, Voice Control]\n",
       "15916                                       [Alloy wheels]\n",
       "15917                         [Alloy wheels, Touch screen]\n",
       "15918                         [Alloy wheels, Touch screen]\n",
       "Name: Extras, Length: 15915, dtype: object"
      ]
     },
     "execution_count": 178,
     "metadata": {},
     "output_type": "execute_result"
    }
   ],
   "source": [
    "df.Extras"
   ]
  },
  {
   "cell_type": "code",
   "execution_count": 179,
   "id": "ad188324",
   "metadata": {},
   "outputs": [
    {
     "data": {
      "text/plain": [
       "4116    [Alloy wheels, Sport suspension, Voice Control]\n",
       "5117                        [Alloy wheels, Sport seats]\n",
       "2434                [Alloy wheels, Catalytic Converter]\n",
       "8886                        [Alloy wheels, Sport seats]\n",
       "4762                   [Alloy wheels, Sport suspension]\n",
       "Name: Extras, dtype: object"
      ]
     },
     "execution_count": 179,
     "metadata": {},
     "output_type": "execute_result"
    }
   ],
   "source": [
    "df.Extras.sample(5)"
   ]
  },
  {
   "cell_type": "code",
   "execution_count": 180,
   "id": "bdc27898",
   "metadata": {},
   "outputs": [],
   "source": [
    "extras_unique = {j for i in df.Extras.dropna() for j in i}"
   ]
  },
  {
   "cell_type": "code",
   "execution_count": 181,
   "id": "6b49e590",
   "metadata": {},
   "outputs": [
    {
     "data": {
      "text/plain": [
       "17"
      ]
     },
     "execution_count": 181,
     "metadata": {},
     "output_type": "execute_result"
    }
   ],
   "source": [
    "len(extras_unique)"
   ]
  },
  {
   "cell_type": "code",
   "execution_count": 182,
   "id": "d4ab3a17",
   "metadata": {
    "scrolled": true
   },
   "outputs": [
    {
     "data": {
      "text/plain": [
       "['Alloy wheels', 'Catalytic Converter', 'Voice Control']"
      ]
     },
     "execution_count": 182,
     "metadata": {},
     "output_type": "execute_result"
    }
   ],
   "source": [
    "df.Extras[0]"
   ]
  },
  {
   "cell_type": "code",
   "execution_count": 183,
   "id": "85f3e5b7",
   "metadata": {},
   "outputs": [
    {
     "data": {
      "text/html": [
       "<div>\n",
       "<style scoped>\n",
       "    .dataframe tbody tr th:only-of-type {\n",
       "        vertical-align: middle;\n",
       "    }\n",
       "\n",
       "    .dataframe tbody tr th {\n",
       "        vertical-align: top;\n",
       "    }\n",
       "\n",
       "    .dataframe thead th {\n",
       "        text-align: right;\n",
       "    }\n",
       "</style>\n",
       "<table border=\"1\" class=\"dataframe\">\n",
       "  <thead>\n",
       "    <tr style=\"text-align: right;\">\n",
       "      <th></th>\n",
       "      <th>Alloy wheels</th>\n",
       "      <th>Cab or rented Car</th>\n",
       "      <th>Catalytic Converter</th>\n",
       "      <th>Handicapped enabled</th>\n",
       "      <th>Right hand drive</th>\n",
       "      <th>Roof rack</th>\n",
       "      <th>Shift paddles</th>\n",
       "      <th>Ski bag</th>\n",
       "      <th>Sliding door</th>\n",
       "      <th>Sport package</th>\n",
       "      <th>Sport seats</th>\n",
       "      <th>Sport suspension</th>\n",
       "      <th>Touch screen</th>\n",
       "      <th>Trailer hitch</th>\n",
       "      <th>Tuned car</th>\n",
       "      <th>Voice Control</th>\n",
       "      <th>Winter tyres</th>\n",
       "    </tr>\n",
       "  </thead>\n",
       "  <tbody>\n",
       "    <tr>\n",
       "      <th>0</th>\n",
       "      <td>1</td>\n",
       "      <td>0</td>\n",
       "      <td>1</td>\n",
       "      <td>0</td>\n",
       "      <td>0</td>\n",
       "      <td>0</td>\n",
       "      <td>0</td>\n",
       "      <td>0</td>\n",
       "      <td>0</td>\n",
       "      <td>0</td>\n",
       "      <td>0</td>\n",
       "      <td>0</td>\n",
       "      <td>0</td>\n",
       "      <td>0</td>\n",
       "      <td>0</td>\n",
       "      <td>1</td>\n",
       "      <td>0</td>\n",
       "    </tr>\n",
       "    <tr>\n",
       "      <th>1</th>\n",
       "      <td>1</td>\n",
       "      <td>0</td>\n",
       "      <td>0</td>\n",
       "      <td>0</td>\n",
       "      <td>0</td>\n",
       "      <td>0</td>\n",
       "      <td>0</td>\n",
       "      <td>0</td>\n",
       "      <td>0</td>\n",
       "      <td>0</td>\n",
       "      <td>1</td>\n",
       "      <td>1</td>\n",
       "      <td>0</td>\n",
       "      <td>0</td>\n",
       "      <td>0</td>\n",
       "      <td>1</td>\n",
       "      <td>0</td>\n",
       "    </tr>\n",
       "    <tr>\n",
       "      <th>2</th>\n",
       "      <td>1</td>\n",
       "      <td>0</td>\n",
       "      <td>0</td>\n",
       "      <td>0</td>\n",
       "      <td>0</td>\n",
       "      <td>0</td>\n",
       "      <td>0</td>\n",
       "      <td>0</td>\n",
       "      <td>0</td>\n",
       "      <td>0</td>\n",
       "      <td>0</td>\n",
       "      <td>0</td>\n",
       "      <td>0</td>\n",
       "      <td>0</td>\n",
       "      <td>0</td>\n",
       "      <td>1</td>\n",
       "      <td>0</td>\n",
       "    </tr>\n",
       "    <tr>\n",
       "      <th>3</th>\n",
       "      <td>1</td>\n",
       "      <td>0</td>\n",
       "      <td>0</td>\n",
       "      <td>0</td>\n",
       "      <td>0</td>\n",
       "      <td>0</td>\n",
       "      <td>0</td>\n",
       "      <td>0</td>\n",
       "      <td>0</td>\n",
       "      <td>0</td>\n",
       "      <td>1</td>\n",
       "      <td>0</td>\n",
       "      <td>0</td>\n",
       "      <td>0</td>\n",
       "      <td>0</td>\n",
       "      <td>1</td>\n",
       "      <td>0</td>\n",
       "    </tr>\n",
       "    <tr>\n",
       "      <th>4</th>\n",
       "      <td>1</td>\n",
       "      <td>0</td>\n",
       "      <td>0</td>\n",
       "      <td>0</td>\n",
       "      <td>0</td>\n",
       "      <td>0</td>\n",
       "      <td>0</td>\n",
       "      <td>0</td>\n",
       "      <td>0</td>\n",
       "      <td>1</td>\n",
       "      <td>0</td>\n",
       "      <td>1</td>\n",
       "      <td>0</td>\n",
       "      <td>0</td>\n",
       "      <td>0</td>\n",
       "      <td>1</td>\n",
       "      <td>0</td>\n",
       "    </tr>\n",
       "    <tr>\n",
       "      <th>...</th>\n",
       "      <td>...</td>\n",
       "      <td>...</td>\n",
       "      <td>...</td>\n",
       "      <td>...</td>\n",
       "      <td>...</td>\n",
       "      <td>...</td>\n",
       "      <td>...</td>\n",
       "      <td>...</td>\n",
       "      <td>...</td>\n",
       "      <td>...</td>\n",
       "      <td>...</td>\n",
       "      <td>...</td>\n",
       "      <td>...</td>\n",
       "      <td>...</td>\n",
       "      <td>...</td>\n",
       "      <td>...</td>\n",
       "      <td>...</td>\n",
       "    </tr>\n",
       "    <tr>\n",
       "      <th>15914</th>\n",
       "      <td>1</td>\n",
       "      <td>0</td>\n",
       "      <td>0</td>\n",
       "      <td>0</td>\n",
       "      <td>0</td>\n",
       "      <td>0</td>\n",
       "      <td>0</td>\n",
       "      <td>0</td>\n",
       "      <td>0</td>\n",
       "      <td>0</td>\n",
       "      <td>0</td>\n",
       "      <td>0</td>\n",
       "      <td>1</td>\n",
       "      <td>0</td>\n",
       "      <td>0</td>\n",
       "      <td>0</td>\n",
       "      <td>0</td>\n",
       "    </tr>\n",
       "    <tr>\n",
       "      <th>15915</th>\n",
       "      <td>1</td>\n",
       "      <td>0</td>\n",
       "      <td>0</td>\n",
       "      <td>0</td>\n",
       "      <td>0</td>\n",
       "      <td>0</td>\n",
       "      <td>0</td>\n",
       "      <td>0</td>\n",
       "      <td>0</td>\n",
       "      <td>0</td>\n",
       "      <td>0</td>\n",
       "      <td>0</td>\n",
       "      <td>1</td>\n",
       "      <td>0</td>\n",
       "      <td>0</td>\n",
       "      <td>1</td>\n",
       "      <td>0</td>\n",
       "    </tr>\n",
       "    <tr>\n",
       "      <th>15916</th>\n",
       "      <td>1</td>\n",
       "      <td>0</td>\n",
       "      <td>0</td>\n",
       "      <td>0</td>\n",
       "      <td>0</td>\n",
       "      <td>0</td>\n",
       "      <td>0</td>\n",
       "      <td>0</td>\n",
       "      <td>0</td>\n",
       "      <td>0</td>\n",
       "      <td>0</td>\n",
       "      <td>0</td>\n",
       "      <td>0</td>\n",
       "      <td>0</td>\n",
       "      <td>0</td>\n",
       "      <td>0</td>\n",
       "      <td>0</td>\n",
       "    </tr>\n",
       "    <tr>\n",
       "      <th>15917</th>\n",
       "      <td>1</td>\n",
       "      <td>0</td>\n",
       "      <td>0</td>\n",
       "      <td>0</td>\n",
       "      <td>0</td>\n",
       "      <td>0</td>\n",
       "      <td>0</td>\n",
       "      <td>0</td>\n",
       "      <td>0</td>\n",
       "      <td>0</td>\n",
       "      <td>0</td>\n",
       "      <td>0</td>\n",
       "      <td>1</td>\n",
       "      <td>0</td>\n",
       "      <td>0</td>\n",
       "      <td>0</td>\n",
       "      <td>0</td>\n",
       "    </tr>\n",
       "    <tr>\n",
       "      <th>15918</th>\n",
       "      <td>1</td>\n",
       "      <td>0</td>\n",
       "      <td>0</td>\n",
       "      <td>0</td>\n",
       "      <td>0</td>\n",
       "      <td>0</td>\n",
       "      <td>0</td>\n",
       "      <td>0</td>\n",
       "      <td>0</td>\n",
       "      <td>0</td>\n",
       "      <td>0</td>\n",
       "      <td>0</td>\n",
       "      <td>1</td>\n",
       "      <td>0</td>\n",
       "      <td>0</td>\n",
       "      <td>0</td>\n",
       "      <td>0</td>\n",
       "    </tr>\n",
       "  </tbody>\n",
       "</table>\n",
       "<p>15915 rows × 17 columns</p>\n",
       "</div>"
      ],
      "text/plain": [
       "       Alloy wheels  Cab or rented Car  Catalytic Converter  \\\n",
       "0                 1                  0                    1   \n",
       "1                 1                  0                    0   \n",
       "2                 1                  0                    0   \n",
       "3                 1                  0                    0   \n",
       "4                 1                  0                    0   \n",
       "...             ...                ...                  ...   \n",
       "15914             1                  0                    0   \n",
       "15915             1                  0                    0   \n",
       "15916             1                  0                    0   \n",
       "15917             1                  0                    0   \n",
       "15918             1                  0                    0   \n",
       "\n",
       "       Handicapped enabled  Right hand drive  Roof rack  Shift paddles  \\\n",
       "0                        0                 0          0              0   \n",
       "1                        0                 0          0              0   \n",
       "2                        0                 0          0              0   \n",
       "3                        0                 0          0              0   \n",
       "4                        0                 0          0              0   \n",
       "...                    ...               ...        ...            ...   \n",
       "15914                    0                 0          0              0   \n",
       "15915                    0                 0          0              0   \n",
       "15916                    0                 0          0              0   \n",
       "15917                    0                 0          0              0   \n",
       "15918                    0                 0          0              0   \n",
       "\n",
       "       Ski bag  Sliding door  Sport package  Sport seats  Sport suspension  \\\n",
       "0            0             0              0            0                 0   \n",
       "1            0             0              0            1                 1   \n",
       "2            0             0              0            0                 0   \n",
       "3            0             0              0            1                 0   \n",
       "4            0             0              1            0                 1   \n",
       "...        ...           ...            ...          ...               ...   \n",
       "15914        0             0              0            0                 0   \n",
       "15915        0             0              0            0                 0   \n",
       "15916        0             0              0            0                 0   \n",
       "15917        0             0              0            0                 0   \n",
       "15918        0             0              0            0                 0   \n",
       "\n",
       "       Touch screen  Trailer hitch  Tuned car  Voice Control  Winter tyres  \n",
       "0                 0              0          0              1             0  \n",
       "1                 0              0          0              1             0  \n",
       "2                 0              0          0              1             0  \n",
       "3                 0              0          0              1             0  \n",
       "4                 0              0          0              1             0  \n",
       "...             ...            ...        ...            ...           ...  \n",
       "15914             1              0          0              0             0  \n",
       "15915             1              0          0              1             0  \n",
       "15916             0              0          0              0             0  \n",
       "15917             1              0          0              0             0  \n",
       "15918             1              0          0              0             0  \n",
       "\n",
       "[15915 rows x 17 columns]"
      ]
     },
     "execution_count": 183,
     "metadata": {},
     "output_type": "execute_result"
    }
   ],
   "source": [
    "df.Extras.map(lambda x: \",\".join(x), na_action='ignore').str.get_dummies(\",\")"
   ]
  },
  {
   "cell_type": "code",
   "execution_count": 184,
   "id": "c8ec886a",
   "metadata": {
    "scrolled": true
   },
   "outputs": [
    {
     "data": {
      "text/plain": [
       "Index(['make_model', 'body_type', 'price', 'vat', 'km', 'registration',\n",
       "       'prev_owner', 'hp', 'Make', 'Model', 'Body Color', 'Upholstery', 'Body',\n",
       "       'Nr. of Doors', 'Nr. of Seats', 'Gearing Type', 'Displacement',\n",
       "       'Weight', 'Drive chain', 'Consumption', 'CO2 Emission',\n",
       "       'Emission Class', 'comfort', 'media', 'Extras', '\\nSafety & Security\\n',\n",
       "       'Emission Label', 'Gears', 'Country version', 'Vehicle condition',\n",
       "       'particul_filter', 'Fuel Type'],\n",
       "      dtype='object')"
      ]
     },
     "execution_count": 184,
     "metadata": {},
     "output_type": "execute_result"
    }
   ],
   "source": [
    "df.columns"
   ]
  },
  {
   "cell_type": "markdown",
   "id": "42670a6c",
   "metadata": {},
   "source": [
    "###   '\\nSafety & Security\\n'"
   ]
  },
  {
   "cell_type": "code",
   "execution_count": 185,
   "id": "30d50271",
   "metadata": {},
   "outputs": [],
   "source": [
    "df.rename(columns={'\\nSafety & Security\\n':'Safety & Security'},inplace=True)"
   ]
  },
  {
   "cell_type": "code",
   "execution_count": 186,
   "id": "af6bca8c",
   "metadata": {},
   "outputs": [
    {
     "data": {
      "text/plain": [
       "6990                                                  None\n",
       "15590    [ABS, Adaptive Cruise Control, Blind spot moni...\n",
       "7861     [ABS, Adaptive headlights, Central door lock, ...\n",
       "Name: Safety & Security, dtype: object"
      ]
     },
     "execution_count": 186,
     "metadata": {},
     "output_type": "execute_result"
    }
   ],
   "source": [
    "df['Safety & Security'].sample(3)"
   ]
  },
  {
   "cell_type": "code",
   "execution_count": 187,
   "id": "f6e4fb7a",
   "metadata": {},
   "outputs": [
    {
     "data": {
      "text/plain": [
       "982"
      ]
     },
     "execution_count": 187,
     "metadata": {},
     "output_type": "execute_result"
    }
   ],
   "source": [
    "df['Safety & Security'].isnull().sum()"
   ]
  },
  {
   "cell_type": "code",
   "execution_count": 188,
   "id": "f4dc76e7",
   "metadata": {
    "scrolled": false
   },
   "outputs": [
    {
     "data": {
      "text/html": [
       "<div>\n",
       "<style scoped>\n",
       "    .dataframe tbody tr th:only-of-type {\n",
       "        vertical-align: middle;\n",
       "    }\n",
       "\n",
       "    .dataframe tbody tr th {\n",
       "        vertical-align: top;\n",
       "    }\n",
       "\n",
       "    .dataframe thead th {\n",
       "        text-align: right;\n",
       "    }\n",
       "</style>\n",
       "<table border=\"1\" class=\"dataframe\">\n",
       "  <thead>\n",
       "    <tr style=\"text-align: right;\">\n",
       "      <th></th>\n",
       "      <th>make_model</th>\n",
       "      <th>body_type</th>\n",
       "      <th>price</th>\n",
       "      <th>vat</th>\n",
       "      <th>km</th>\n",
       "      <th>registration</th>\n",
       "      <th>prev_owner</th>\n",
       "      <th>hp</th>\n",
       "      <th>Make</th>\n",
       "      <th>Model</th>\n",
       "      <th>Body Color</th>\n",
       "      <th>Upholstery</th>\n",
       "      <th>Body</th>\n",
       "      <th>Nr. of Doors</th>\n",
       "      <th>Nr. of Seats</th>\n",
       "      <th>Gearing Type</th>\n",
       "      <th>Displacement</th>\n",
       "      <th>Weight</th>\n",
       "      <th>Drive chain</th>\n",
       "      <th>Consumption</th>\n",
       "      <th>CO2 Emission</th>\n",
       "      <th>Emission Class</th>\n",
       "      <th>comfort</th>\n",
       "      <th>media</th>\n",
       "      <th>Extras</th>\n",
       "      <th>Safety &amp; Security</th>\n",
       "      <th>Emission Label</th>\n",
       "      <th>Gears</th>\n",
       "      <th>Country version</th>\n",
       "      <th>Vehicle condition</th>\n",
       "      <th>particul_filter</th>\n",
       "      <th>Fuel Type</th>\n",
       "    </tr>\n",
       "  </thead>\n",
       "  <tbody>\n",
       "    <tr>\n",
       "      <th>30</th>\n",
       "      <td>Audi A1</td>\n",
       "      <td>Compact</td>\n",
       "      <td>11290</td>\n",
       "      <td>0</td>\n",
       "      <td>38400.0</td>\n",
       "      <td>2016-06-01</td>\n",
       "      <td>NaN</td>\n",
       "      <td>66.0</td>\n",
       "      <td>Audi</td>\n",
       "      <td>A1</td>\n",
       "      <td>Black</td>\n",
       "      <td>None</td>\n",
       "      <td>Compact</td>\n",
       "      <td>5.0</td>\n",
       "      <td>[\\n5\\n]</td>\n",
       "      <td>Manual</td>\n",
       "      <td>422.0</td>\n",
       "      <td>95</td>\n",
       "      <td>front</td>\n",
       "      <td>[[3 l/100 km (comb)], [3 l/100 km (city)], [3 ...</td>\n",
       "      <td>NaN</td>\n",
       "      <td>None</td>\n",
       "      <td>None</td>\n",
       "      <td>None</td>\n",
       "      <td>None</td>\n",
       "      <td>None</td>\n",
       "      <td>None</td>\n",
       "      <td>[\\n5\\n]</td>\n",
       "      <td>None</td>\n",
       "      <td>Used</td>\n",
       "      <td>False</td>\n",
       "      <td>Diesel</td>\n",
       "    </tr>\n",
       "  </tbody>\n",
       "</table>\n",
       "</div>"
      ],
      "text/plain": [
       "   make_model body_type  price  vat       km registration  prev_owner    hp  \\\n",
       "30    Audi A1   Compact  11290    0  38400.0   2016-06-01         NaN  66.0   \n",
       "\n",
       "    Make Model Body Color Upholstery     Body  Nr. of Doors Nr. of Seats  \\\n",
       "30  Audi    A1      Black       None  Compact           5.0      [\\n5\\n]   \n",
       "\n",
       "   Gearing Type  Displacement Weight Drive chain  \\\n",
       "30       Manual         422.0     95       front   \n",
       "\n",
       "                                          Consumption  CO2 Emission  \\\n",
       "30  [[3 l/100 km (comb)], [3 l/100 km (city)], [3 ...           NaN   \n",
       "\n",
       "   Emission Class comfort media Extras Safety & Security Emission Label  \\\n",
       "30           None    None  None   None              None           None   \n",
       "\n",
       "      Gears Country version Vehicle condition  particul_filter Fuel Type  \n",
       "30  [\\n5\\n]            None              Used            False    Diesel  "
      ]
     },
     "execution_count": 188,
     "metadata": {},
     "output_type": "execute_result"
    }
   ],
   "source": [
    "df[df['Safety & Security'].isnull()].iloc[[1]]"
   ]
  },
  {
   "cell_type": "code",
   "execution_count": 189,
   "id": "73a2daf3",
   "metadata": {},
   "outputs": [
    {
     "data": {
      "text/html": [
       "<div>\n",
       "<style scoped>\n",
       "    .dataframe tbody tr th:only-of-type {\n",
       "        vertical-align: middle;\n",
       "    }\n",
       "\n",
       "    .dataframe tbody tr th {\n",
       "        vertical-align: top;\n",
       "    }\n",
       "\n",
       "    .dataframe thead th {\n",
       "        text-align: right;\n",
       "    }\n",
       "</style>\n",
       "<table border=\"1\" class=\"dataframe\">\n",
       "  <thead>\n",
       "    <tr style=\"text-align: right;\">\n",
       "      <th></th>\n",
       "      <th>ABS</th>\n",
       "      <th>Adaptive Cruise Control</th>\n",
       "      <th>Adaptive headlights</th>\n",
       "      <th>Alarm system</th>\n",
       "      <th>Blind spot monitor</th>\n",
       "      <th>Central door lock</th>\n",
       "      <th>Central door lock with remote control</th>\n",
       "      <th>Daytime running lights</th>\n",
       "      <th>Driver drowsiness detection</th>\n",
       "      <th>Driver-side airbag</th>\n",
       "      <th>Electronic stability control</th>\n",
       "      <th>Emergency brake assistant</th>\n",
       "      <th>Emergency system</th>\n",
       "      <th>Fog lights</th>\n",
       "      <th>Head airbag</th>\n",
       "      <th>Immobilizer</th>\n",
       "      <th>Isofix</th>\n",
       "      <th>LED Daytime Running Lights</th>\n",
       "      <th>LED Headlights</th>\n",
       "      <th>Lane departure warning system</th>\n",
       "      <th>Night view assist</th>\n",
       "      <th>Passenger-side airbag</th>\n",
       "      <th>Power steering</th>\n",
       "      <th>Rear airbag</th>\n",
       "      <th>Side airbag</th>\n",
       "      <th>Tire pressure monitoring system</th>\n",
       "      <th>Traction control</th>\n",
       "      <th>Traffic sign recognition</th>\n",
       "      <th>Xenon headlights</th>\n",
       "    </tr>\n",
       "  </thead>\n",
       "  <tbody>\n",
       "    <tr>\n",
       "      <th>0</th>\n",
       "      <td>1</td>\n",
       "      <td>0</td>\n",
       "      <td>0</td>\n",
       "      <td>0</td>\n",
       "      <td>0</td>\n",
       "      <td>1</td>\n",
       "      <td>0</td>\n",
       "      <td>1</td>\n",
       "      <td>0</td>\n",
       "      <td>1</td>\n",
       "      <td>1</td>\n",
       "      <td>0</td>\n",
       "      <td>0</td>\n",
       "      <td>1</td>\n",
       "      <td>0</td>\n",
       "      <td>1</td>\n",
       "      <td>1</td>\n",
       "      <td>0</td>\n",
       "      <td>0</td>\n",
       "      <td>0</td>\n",
       "      <td>0</td>\n",
       "      <td>1</td>\n",
       "      <td>1</td>\n",
       "      <td>0</td>\n",
       "      <td>1</td>\n",
       "      <td>1</td>\n",
       "      <td>1</td>\n",
       "      <td>0</td>\n",
       "      <td>1</td>\n",
       "    </tr>\n",
       "    <tr>\n",
       "      <th>1</th>\n",
       "      <td>1</td>\n",
       "      <td>0</td>\n",
       "      <td>0</td>\n",
       "      <td>0</td>\n",
       "      <td>0</td>\n",
       "      <td>1</td>\n",
       "      <td>1</td>\n",
       "      <td>1</td>\n",
       "      <td>0</td>\n",
       "      <td>1</td>\n",
       "      <td>1</td>\n",
       "      <td>0</td>\n",
       "      <td>0</td>\n",
       "      <td>0</td>\n",
       "      <td>1</td>\n",
       "      <td>1</td>\n",
       "      <td>1</td>\n",
       "      <td>0</td>\n",
       "      <td>0</td>\n",
       "      <td>0</td>\n",
       "      <td>0</td>\n",
       "      <td>1</td>\n",
       "      <td>1</td>\n",
       "      <td>0</td>\n",
       "      <td>1</td>\n",
       "      <td>1</td>\n",
       "      <td>1</td>\n",
       "      <td>0</td>\n",
       "      <td>1</td>\n",
       "    </tr>\n",
       "    <tr>\n",
       "      <th>2</th>\n",
       "      <td>1</td>\n",
       "      <td>0</td>\n",
       "      <td>0</td>\n",
       "      <td>0</td>\n",
       "      <td>0</td>\n",
       "      <td>1</td>\n",
       "      <td>0</td>\n",
       "      <td>1</td>\n",
       "      <td>0</td>\n",
       "      <td>1</td>\n",
       "      <td>1</td>\n",
       "      <td>0</td>\n",
       "      <td>0</td>\n",
       "      <td>0</td>\n",
       "      <td>0</td>\n",
       "      <td>1</td>\n",
       "      <td>1</td>\n",
       "      <td>0</td>\n",
       "      <td>0</td>\n",
       "      <td>0</td>\n",
       "      <td>0</td>\n",
       "      <td>1</td>\n",
       "      <td>1</td>\n",
       "      <td>0</td>\n",
       "      <td>1</td>\n",
       "      <td>1</td>\n",
       "      <td>1</td>\n",
       "      <td>0</td>\n",
       "      <td>0</td>\n",
       "    </tr>\n",
       "    <tr>\n",
       "      <th>3</th>\n",
       "      <td>1</td>\n",
       "      <td>0</td>\n",
       "      <td>0</td>\n",
       "      <td>1</td>\n",
       "      <td>0</td>\n",
       "      <td>0</td>\n",
       "      <td>1</td>\n",
       "      <td>0</td>\n",
       "      <td>1</td>\n",
       "      <td>1</td>\n",
       "      <td>1</td>\n",
       "      <td>0</td>\n",
       "      <td>1</td>\n",
       "      <td>0</td>\n",
       "      <td>1</td>\n",
       "      <td>1</td>\n",
       "      <td>1</td>\n",
       "      <td>0</td>\n",
       "      <td>0</td>\n",
       "      <td>0</td>\n",
       "      <td>0</td>\n",
       "      <td>1</td>\n",
       "      <td>1</td>\n",
       "      <td>0</td>\n",
       "      <td>1</td>\n",
       "      <td>1</td>\n",
       "      <td>0</td>\n",
       "      <td>0</td>\n",
       "      <td>0</td>\n",
       "    </tr>\n",
       "    <tr>\n",
       "      <th>4</th>\n",
       "      <td>1</td>\n",
       "      <td>0</td>\n",
       "      <td>0</td>\n",
       "      <td>0</td>\n",
       "      <td>0</td>\n",
       "      <td>1</td>\n",
       "      <td>0</td>\n",
       "      <td>0</td>\n",
       "      <td>0</td>\n",
       "      <td>1</td>\n",
       "      <td>1</td>\n",
       "      <td>0</td>\n",
       "      <td>0</td>\n",
       "      <td>1</td>\n",
       "      <td>0</td>\n",
       "      <td>1</td>\n",
       "      <td>1</td>\n",
       "      <td>0</td>\n",
       "      <td>0</td>\n",
       "      <td>0</td>\n",
       "      <td>0</td>\n",
       "      <td>1</td>\n",
       "      <td>1</td>\n",
       "      <td>0</td>\n",
       "      <td>1</td>\n",
       "      <td>1</td>\n",
       "      <td>1</td>\n",
       "      <td>0</td>\n",
       "      <td>1</td>\n",
       "    </tr>\n",
       "    <tr>\n",
       "      <th>...</th>\n",
       "      <td>...</td>\n",
       "      <td>...</td>\n",
       "      <td>...</td>\n",
       "      <td>...</td>\n",
       "      <td>...</td>\n",
       "      <td>...</td>\n",
       "      <td>...</td>\n",
       "      <td>...</td>\n",
       "      <td>...</td>\n",
       "      <td>...</td>\n",
       "      <td>...</td>\n",
       "      <td>...</td>\n",
       "      <td>...</td>\n",
       "      <td>...</td>\n",
       "      <td>...</td>\n",
       "      <td>...</td>\n",
       "      <td>...</td>\n",
       "      <td>...</td>\n",
       "      <td>...</td>\n",
       "      <td>...</td>\n",
       "      <td>...</td>\n",
       "      <td>...</td>\n",
       "      <td>...</td>\n",
       "      <td>...</td>\n",
       "      <td>...</td>\n",
       "      <td>...</td>\n",
       "      <td>...</td>\n",
       "      <td>...</td>\n",
       "      <td>...</td>\n",
       "    </tr>\n",
       "    <tr>\n",
       "      <th>15914</th>\n",
       "      <td>1</td>\n",
       "      <td>0</td>\n",
       "      <td>0</td>\n",
       "      <td>0</td>\n",
       "      <td>0</td>\n",
       "      <td>1</td>\n",
       "      <td>1</td>\n",
       "      <td>0</td>\n",
       "      <td>0</td>\n",
       "      <td>1</td>\n",
       "      <td>1</td>\n",
       "      <td>1</td>\n",
       "      <td>0</td>\n",
       "      <td>0</td>\n",
       "      <td>1</td>\n",
       "      <td>1</td>\n",
       "      <td>1</td>\n",
       "      <td>1</td>\n",
       "      <td>1</td>\n",
       "      <td>1</td>\n",
       "      <td>0</td>\n",
       "      <td>1</td>\n",
       "      <td>1</td>\n",
       "      <td>1</td>\n",
       "      <td>1</td>\n",
       "      <td>1</td>\n",
       "      <td>1</td>\n",
       "      <td>1</td>\n",
       "      <td>0</td>\n",
       "    </tr>\n",
       "    <tr>\n",
       "      <th>15915</th>\n",
       "      <td>1</td>\n",
       "      <td>1</td>\n",
       "      <td>0</td>\n",
       "      <td>0</td>\n",
       "      <td>1</td>\n",
       "      <td>1</td>\n",
       "      <td>0</td>\n",
       "      <td>1</td>\n",
       "      <td>0</td>\n",
       "      <td>1</td>\n",
       "      <td>1</td>\n",
       "      <td>1</td>\n",
       "      <td>0</td>\n",
       "      <td>0</td>\n",
       "      <td>0</td>\n",
       "      <td>1</td>\n",
       "      <td>1</td>\n",
       "      <td>1</td>\n",
       "      <td>1</td>\n",
       "      <td>1</td>\n",
       "      <td>0</td>\n",
       "      <td>1</td>\n",
       "      <td>1</td>\n",
       "      <td>0</td>\n",
       "      <td>1</td>\n",
       "      <td>1</td>\n",
       "      <td>1</td>\n",
       "      <td>1</td>\n",
       "      <td>0</td>\n",
       "    </tr>\n",
       "    <tr>\n",
       "      <th>15916</th>\n",
       "      <td>1</td>\n",
       "      <td>1</td>\n",
       "      <td>0</td>\n",
       "      <td>0</td>\n",
       "      <td>1</td>\n",
       "      <td>1</td>\n",
       "      <td>0</td>\n",
       "      <td>1</td>\n",
       "      <td>0</td>\n",
       "      <td>1</td>\n",
       "      <td>1</td>\n",
       "      <td>1</td>\n",
       "      <td>0</td>\n",
       "      <td>0</td>\n",
       "      <td>0</td>\n",
       "      <td>1</td>\n",
       "      <td>1</td>\n",
       "      <td>1</td>\n",
       "      <td>1</td>\n",
       "      <td>1</td>\n",
       "      <td>0</td>\n",
       "      <td>1</td>\n",
       "      <td>1</td>\n",
       "      <td>0</td>\n",
       "      <td>1</td>\n",
       "      <td>0</td>\n",
       "      <td>1</td>\n",
       "      <td>1</td>\n",
       "      <td>0</td>\n",
       "    </tr>\n",
       "    <tr>\n",
       "      <th>15917</th>\n",
       "      <td>1</td>\n",
       "      <td>0</td>\n",
       "      <td>0</td>\n",
       "      <td>0</td>\n",
       "      <td>1</td>\n",
       "      <td>0</td>\n",
       "      <td>0</td>\n",
       "      <td>0</td>\n",
       "      <td>0</td>\n",
       "      <td>1</td>\n",
       "      <td>1</td>\n",
       "      <td>1</td>\n",
       "      <td>0</td>\n",
       "      <td>0</td>\n",
       "      <td>0</td>\n",
       "      <td>0</td>\n",
       "      <td>1</td>\n",
       "      <td>0</td>\n",
       "      <td>1</td>\n",
       "      <td>0</td>\n",
       "      <td>0</td>\n",
       "      <td>1</td>\n",
       "      <td>1</td>\n",
       "      <td>0</td>\n",
       "      <td>1</td>\n",
       "      <td>1</td>\n",
       "      <td>0</td>\n",
       "      <td>1</td>\n",
       "      <td>0</td>\n",
       "    </tr>\n",
       "    <tr>\n",
       "      <th>15918</th>\n",
       "      <td>1</td>\n",
       "      <td>0</td>\n",
       "      <td>0</td>\n",
       "      <td>0</td>\n",
       "      <td>1</td>\n",
       "      <td>0</td>\n",
       "      <td>0</td>\n",
       "      <td>1</td>\n",
       "      <td>0</td>\n",
       "      <td>1</td>\n",
       "      <td>1</td>\n",
       "      <td>1</td>\n",
       "      <td>0</td>\n",
       "      <td>0</td>\n",
       "      <td>0</td>\n",
       "      <td>1</td>\n",
       "      <td>1</td>\n",
       "      <td>1</td>\n",
       "      <td>0</td>\n",
       "      <td>0</td>\n",
       "      <td>0</td>\n",
       "      <td>1</td>\n",
       "      <td>1</td>\n",
       "      <td>0</td>\n",
       "      <td>1</td>\n",
       "      <td>1</td>\n",
       "      <td>0</td>\n",
       "      <td>1</td>\n",
       "      <td>0</td>\n",
       "    </tr>\n",
       "  </tbody>\n",
       "</table>\n",
       "<p>15915 rows × 29 columns</p>\n",
       "</div>"
      ],
      "text/plain": [
       "       ABS  Adaptive Cruise Control  Adaptive headlights  Alarm system  \\\n",
       "0        1                        0                    0             0   \n",
       "1        1                        0                    0             0   \n",
       "2        1                        0                    0             0   \n",
       "3        1                        0                    0             1   \n",
       "4        1                        0                    0             0   \n",
       "...    ...                      ...                  ...           ...   \n",
       "15914    1                        0                    0             0   \n",
       "15915    1                        1                    0             0   \n",
       "15916    1                        1                    0             0   \n",
       "15917    1                        0                    0             0   \n",
       "15918    1                        0                    0             0   \n",
       "\n",
       "       Blind spot monitor  Central door lock  \\\n",
       "0                       0                  1   \n",
       "1                       0                  1   \n",
       "2                       0                  1   \n",
       "3                       0                  0   \n",
       "4                       0                  1   \n",
       "...                   ...                ...   \n",
       "15914                   0                  1   \n",
       "15915                   1                  1   \n",
       "15916                   1                  1   \n",
       "15917                   1                  0   \n",
       "15918                   1                  0   \n",
       "\n",
       "       Central door lock with remote control  Daytime running lights  \\\n",
       "0                                          0                       1   \n",
       "1                                          1                       1   \n",
       "2                                          0                       1   \n",
       "3                                          1                       0   \n",
       "4                                          0                       0   \n",
       "...                                      ...                     ...   \n",
       "15914                                      1                       0   \n",
       "15915                                      0                       1   \n",
       "15916                                      0                       1   \n",
       "15917                                      0                       0   \n",
       "15918                                      0                       1   \n",
       "\n",
       "       Driver drowsiness detection  Driver-side airbag  \\\n",
       "0                                0                   1   \n",
       "1                                0                   1   \n",
       "2                                0                   1   \n",
       "3                                1                   1   \n",
       "4                                0                   1   \n",
       "...                            ...                 ...   \n",
       "15914                            0                   1   \n",
       "15915                            0                   1   \n",
       "15916                            0                   1   \n",
       "15917                            0                   1   \n",
       "15918                            0                   1   \n",
       "\n",
       "       Electronic stability control  Emergency brake assistant  \\\n",
       "0                                 1                          0   \n",
       "1                                 1                          0   \n",
       "2                                 1                          0   \n",
       "3                                 1                          0   \n",
       "4                                 1                          0   \n",
       "...                             ...                        ...   \n",
       "15914                             1                          1   \n",
       "15915                             1                          1   \n",
       "15916                             1                          1   \n",
       "15917                             1                          1   \n",
       "15918                             1                          1   \n",
       "\n",
       "       Emergency system  Fog lights  Head airbag  Immobilizer  Isofix  \\\n",
       "0                     0           1            0            1       1   \n",
       "1                     0           0            1            1       1   \n",
       "2                     0           0            0            1       1   \n",
       "3                     1           0            1            1       1   \n",
       "4                     0           1            0            1       1   \n",
       "...                 ...         ...          ...          ...     ...   \n",
       "15914                 0           0            1            1       1   \n",
       "15915                 0           0            0            1       1   \n",
       "15916                 0           0            0            1       1   \n",
       "15917                 0           0            0            0       1   \n",
       "15918                 0           0            0            1       1   \n",
       "\n",
       "       LED Daytime Running Lights  LED Headlights  \\\n",
       "0                               0               0   \n",
       "1                               0               0   \n",
       "2                               0               0   \n",
       "3                               0               0   \n",
       "4                               0               0   \n",
       "...                           ...             ...   \n",
       "15914                           1               1   \n",
       "15915                           1               1   \n",
       "15916                           1               1   \n",
       "15917                           0               1   \n",
       "15918                           1               0   \n",
       "\n",
       "       Lane departure warning system  Night view assist  \\\n",
       "0                                  0                  0   \n",
       "1                                  0                  0   \n",
       "2                                  0                  0   \n",
       "3                                  0                  0   \n",
       "4                                  0                  0   \n",
       "...                              ...                ...   \n",
       "15914                              1                  0   \n",
       "15915                              1                  0   \n",
       "15916                              1                  0   \n",
       "15917                              0                  0   \n",
       "15918                              0                  0   \n",
       "\n",
       "       Passenger-side airbag  Power steering  Rear airbag  Side airbag  \\\n",
       "0                          1               1            0            1   \n",
       "1                          1               1            0            1   \n",
       "2                          1               1            0            1   \n",
       "3                          1               1            0            1   \n",
       "4                          1               1            0            1   \n",
       "...                      ...             ...          ...          ...   \n",
       "15914                      1               1            1            1   \n",
       "15915                      1               1            0            1   \n",
       "15916                      1               1            0            1   \n",
       "15917                      1               1            0            1   \n",
       "15918                      1               1            0            1   \n",
       "\n",
       "       Tire pressure monitoring system  Traction control  \\\n",
       "0                                    1                 1   \n",
       "1                                    1                 1   \n",
       "2                                    1                 1   \n",
       "3                                    1                 0   \n",
       "4                                    1                 1   \n",
       "...                                ...               ...   \n",
       "15914                                1                 1   \n",
       "15915                                1                 1   \n",
       "15916                                0                 1   \n",
       "15917                                1                 0   \n",
       "15918                                1                 0   \n",
       "\n",
       "       Traffic sign recognition  Xenon headlights  \n",
       "0                             0                 1  \n",
       "1                             0                 1  \n",
       "2                             0                 0  \n",
       "3                             0                 0  \n",
       "4                             0                 1  \n",
       "...                         ...               ...  \n",
       "15914                         1                 0  \n",
       "15915                         1                 0  \n",
       "15916                         1                 0  \n",
       "15917                         1                 0  \n",
       "15918                         1                 0  \n",
       "\n",
       "[15915 rows x 29 columns]"
      ]
     },
     "execution_count": 189,
     "metadata": {},
     "output_type": "execute_result"
    }
   ],
   "source": [
    "df['Safety & Security'].map(lambda x: \",\".join(x), na_action='ignore').str.get_dummies(\",\")"
   ]
  },
  {
   "cell_type": "markdown",
   "id": "5452913c",
   "metadata": {},
   "source": [
    "#### 'Emission Label'"
   ]
  },
  {
   "cell_type": "code",
   "execution_count": 190,
   "id": "5f3b3add",
   "metadata": {
    "scrolled": true
   },
   "outputs": [
    {
     "data": {
      "text/plain": [
       "3412     None\n",
       "2075     None\n",
       "14862    None\n",
       "Name: Emission Label, dtype: object"
      ]
     },
     "execution_count": 190,
     "metadata": {},
     "output_type": "execute_result"
    }
   ],
   "source": [
    "df['Emission Label'].sample(3)"
   ]
  },
  {
   "cell_type": "code",
   "execution_count": 191,
   "id": "5e637218",
   "metadata": {},
   "outputs": [
    {
     "ename": "TypeError",
     "evalue": "unhashable type: 'list'",
     "output_type": "error",
     "traceback": [
      "\u001b[1;31m---------------------------------------------------------------------------\u001b[0m",
      "\u001b[1;31mTypeError\u001b[0m                                 Traceback (most recent call last)",
      "\u001b[1;32mpandas\\_libs\\hashtable_class_helper.pxi\u001b[0m in \u001b[0;36mpandas._libs.hashtable.PyObjectHashTable.map_locations\u001b[1;34m()\u001b[0m\n",
      "\u001b[1;31mTypeError\u001b[0m: unhashable type: 'list'"
     ]
    },
    {
     "name": "stderr",
     "output_type": "stream",
     "text": [
      "Exception ignored in: 'pandas._libs.index.IndexEngine._call_map_locations'\n",
      "Traceback (most recent call last):\n",
      "  File \"pandas\\_libs\\hashtable_class_helper.pxi\", line 5231, in pandas._libs.hashtable.PyObjectHashTable.map_locations\n",
      "TypeError: unhashable type: 'list'\n"
     ]
    },
    {
     "data": {
      "text/plain": [
       "NaN                     11930\n",
       "[\\n4 (Green)\\n]          3553\n",
       "[\\n1 (No sticker)\\n]      381\n",
       "[[], [], []]               40\n",
       "[\\n5 (Blue)\\n]              8\n",
       "[\\n3 (Yellow)\\n]            2\n",
       "[\\n2 (Red)\\n]               1\n",
       "Name: Emission Label, dtype: int64"
      ]
     },
     "execution_count": 191,
     "metadata": {},
     "output_type": "execute_result"
    }
   ],
   "source": [
    "df['Emission Label'].value_counts(dropna = False)"
   ]
  },
  {
   "cell_type": "code",
   "execution_count": 192,
   "id": "7b0eedf3",
   "metadata": {},
   "outputs": [
    {
     "data": {
      "text/plain": [
       "Euro 6          10137\n",
       "NaN              3627\n",
       "Euro 6d-TEMP     1844\n",
       "Euro 6c           127\n",
       "Euro 5             78\n",
       "Euro 6d            62\n",
       "Euro 4             40\n",
       "Name: Emission Class, dtype: int64"
      ]
     },
     "execution_count": 192,
     "metadata": {},
     "output_type": "execute_result"
    }
   ],
   "source": [
    "df['Emission Class'].value_counts(dropna = False)"
   ]
  },
  {
   "cell_type": "code",
   "execution_count": 193,
   "id": "5d2462c2",
   "metadata": {},
   "outputs": [],
   "source": [
    "# emisyon class ile emisyon label benzer işlevi yerine getiriyor. Ayrıca emisyon class daha dolu \n",
    "# bir sütun dolayısı ile emisyon label düşülebilir"
   ]
  },
  {
   "cell_type": "code",
   "execution_count": 194,
   "id": "56d8474e",
   "metadata": {},
   "outputs": [],
   "source": [
    "df.drop(columns= 'Emission Label', inplace=True)"
   ]
  },
  {
   "cell_type": "code",
   "execution_count": 195,
   "id": "5c0aca01",
   "metadata": {},
   "outputs": [
    {
     "data": {
      "text/plain": [
       "Index(['make_model', 'body_type', 'price', 'vat', 'km', 'registration',\n",
       "       'prev_owner', 'hp', 'Make', 'Model', 'Body Color', 'Upholstery', 'Body',\n",
       "       'Nr. of Doors', 'Nr. of Seats', 'Gearing Type', 'Displacement',\n",
       "       'Weight', 'Drive chain', 'Consumption', 'CO2 Emission',\n",
       "       'Emission Class', 'comfort', 'media', 'Extras', 'Safety & Security',\n",
       "       'Gears', 'Country version', 'Vehicle condition', 'particul_filter',\n",
       "       'Fuel Type'],\n",
       "      dtype='object')"
      ]
     },
     "execution_count": 195,
     "metadata": {},
     "output_type": "execute_result"
    }
   ],
   "source": [
    "df.columns"
   ]
  },
  {
   "cell_type": "markdown",
   "id": "8e056d18",
   "metadata": {},
   "source": [
    "### 'Gears' "
   ]
  },
  {
   "cell_type": "code",
   "execution_count": 196,
   "id": "4bbcc335",
   "metadata": {},
   "outputs": [
    {
     "data": {
      "text/plain": [
       "0           None\n",
       "1        [\\n7\\n]\n",
       "2           None\n",
       "3        [\\n6\\n]\n",
       "4           None\n",
       "          ...   \n",
       "15914    [\\n6\\n]\n",
       "15915    [\\n7\\n]\n",
       "15916    [\\n6\\n]\n",
       "15917    [\\n6\\n]\n",
       "15918       None\n",
       "Name: Gears, Length: 15915, dtype: object"
      ]
     },
     "execution_count": 196,
     "metadata": {},
     "output_type": "execute_result"
    }
   ],
   "source": [
    "df.Gears\n",
    "# araçların vites sayısını içeriyor"
   ]
  },
  {
   "cell_type": "code",
   "execution_count": 197,
   "id": "5943603b",
   "metadata": {},
   "outputs": [
    {
     "ename": "TypeError",
     "evalue": "unhashable type: 'list'",
     "output_type": "error",
     "traceback": [
      "\u001b[1;31m---------------------------------------------------------------------------\u001b[0m",
      "\u001b[1;31mTypeError\u001b[0m                                 Traceback (most recent call last)",
      "\u001b[1;32mpandas\\_libs\\hashtable_class_helper.pxi\u001b[0m in \u001b[0;36mpandas._libs.hashtable.PyObjectHashTable.map_locations\u001b[1;34m()\u001b[0m\n",
      "\u001b[1;31mTypeError\u001b[0m: unhashable type: 'list'"
     ]
    },
    {
     "name": "stderr",
     "output_type": "stream",
     "text": [
      "Exception ignored in: 'pandas._libs.index.IndexEngine._call_map_locations'\n",
      "Traceback (most recent call last):\n",
      "  File \"pandas\\_libs\\hashtable_class_helper.pxi\", line 5231, in pandas._libs.hashtable.PyObjectHashTable.map_locations\n",
      "TypeError: unhashable type: 'list'\n"
     ]
    },
    {
     "data": {
      "text/plain": [
       "[\\n6\\n]     5819\n",
       "NaN         4712\n",
       "[\\n5\\n]     3238\n",
       "[\\n7\\n]     1908\n",
       "[\\n8\\n]      224\n",
       "[\\n9\\n]        6\n",
       "[\\n1\\n]        2\n",
       "[\\n3\\n]        2\n",
       "[\\n4\\n]        2\n",
       "[\\n2\\n]        1\n",
       "[\\n50\\n]       1\n",
       "Name: Gears, dtype: int64"
      ]
     },
     "execution_count": 197,
     "metadata": {},
     "output_type": "execute_result"
    }
   ],
   "source": [
    "df.Gears.value_counts(dropna = False)"
   ]
  },
  {
   "cell_type": "code",
   "execution_count": 198,
   "id": "a8d673cd",
   "metadata": {},
   "outputs": [],
   "source": [
    "df.Gears = df.Gears.map(lambda x: x[0].strip(\"\\n\"),na_action='ignore')"
   ]
  },
  {
   "cell_type": "code",
   "execution_count": 199,
   "id": "feadcea7",
   "metadata": {},
   "outputs": [
    {
     "data": {
      "text/plain": [
       "6      5819\n",
       "NaN    4712\n",
       "5      3238\n",
       "7      1908\n",
       "8       224\n",
       "9         6\n",
       "1         2\n",
       "3         2\n",
       "4         2\n",
       "2         1\n",
       "50        1\n",
       "Name: Gears, dtype: int64"
      ]
     },
     "execution_count": 199,
     "metadata": {},
     "output_type": "execute_result"
    }
   ],
   "source": [
    "df.Gears.value_counts(dropna=False)"
   ]
  },
  {
   "cell_type": "code",
   "execution_count": 200,
   "id": "c6da7394",
   "metadata": {},
   "outputs": [
    {
     "data": {
      "text/plain": [
       "14495    50\n",
       "Name: Gears, dtype: object"
      ]
     },
     "execution_count": 200,
     "metadata": {},
     "output_type": "execute_result"
    }
   ],
   "source": [
    "df[df.Gears == '50'].Gears"
   ]
  },
  {
   "cell_type": "code",
   "execution_count": 201,
   "id": "eeaa274c",
   "metadata": {},
   "outputs": [
    {
     "data": {
      "text/html": [
       "<div>\n",
       "<style scoped>\n",
       "    .dataframe tbody tr th:only-of-type {\n",
       "        vertical-align: middle;\n",
       "    }\n",
       "\n",
       "    .dataframe tbody tr th {\n",
       "        vertical-align: top;\n",
       "    }\n",
       "\n",
       "    .dataframe thead th {\n",
       "        text-align: right;\n",
       "    }\n",
       "</style>\n",
       "<table border=\"1\" class=\"dataframe\">\n",
       "  <thead>\n",
       "    <tr style=\"text-align: right;\">\n",
       "      <th></th>\n",
       "      <th>make_model</th>\n",
       "      <th>body_type</th>\n",
       "      <th>price</th>\n",
       "      <th>vat</th>\n",
       "      <th>km</th>\n",
       "      <th>registration</th>\n",
       "      <th>prev_owner</th>\n",
       "      <th>hp</th>\n",
       "      <th>Make</th>\n",
       "      <th>Model</th>\n",
       "      <th>Body Color</th>\n",
       "      <th>Upholstery</th>\n",
       "      <th>Body</th>\n",
       "      <th>Nr. of Doors</th>\n",
       "      <th>Nr. of Seats</th>\n",
       "      <th>Gearing Type</th>\n",
       "      <th>Displacement</th>\n",
       "      <th>Weight</th>\n",
       "      <th>Drive chain</th>\n",
       "      <th>Consumption</th>\n",
       "      <th>CO2 Emission</th>\n",
       "      <th>Emission Class</th>\n",
       "      <th>comfort</th>\n",
       "      <th>media</th>\n",
       "      <th>Extras</th>\n",
       "      <th>Safety &amp; Security</th>\n",
       "      <th>Gears</th>\n",
       "      <th>Country version</th>\n",
       "      <th>Vehicle condition</th>\n",
       "      <th>particul_filter</th>\n",
       "      <th>Fuel Type</th>\n",
       "    </tr>\n",
       "  </thead>\n",
       "  <tbody>\n",
       "    <tr>\n",
       "      <th>14499</th>\n",
       "      <td>Renault Clio</td>\n",
       "      <td>Sedans</td>\n",
       "      <td>10798</td>\n",
       "      <td>1</td>\n",
       "      <td>5000.0</td>\n",
       "      <td>2018-11-01</td>\n",
       "      <td>1.0</td>\n",
       "      <td>56.0</td>\n",
       "      <td>Renault</td>\n",
       "      <td>Clio</td>\n",
       "      <td>White</td>\n",
       "      <td>Cloth</td>\n",
       "      <td>Sedans</td>\n",
       "      <td>5.0</td>\n",
       "      <td>[\\n5\\n]</td>\n",
       "      <td>Manual</td>\n",
       "      <td>898.0</td>\n",
       "      <td>65</td>\n",
       "      <td>None</td>\n",
       "      <td>[[5 l/100 km (comb)], [6.3 l/100 km (city)], [...</td>\n",
       "      <td>113.0</td>\n",
       "      <td>Euro 6</td>\n",
       "      <td>[Air conditioning, Cruise control, Electrical ...</td>\n",
       "      <td>[Bluetooth, Hands-free equipment, MP3, On-boar...</td>\n",
       "      <td>None</td>\n",
       "      <td>[ABS, Central door lock, Daytime running light...</td>\n",
       "      <td>5</td>\n",
       "      <td>[\\nGermany\\n]</td>\n",
       "      <td>Used</td>\n",
       "      <td>False</td>\n",
       "      <td>Super 95</td>\n",
       "    </tr>\n",
       "  </tbody>\n",
       "</table>\n",
       "</div>"
      ],
      "text/plain": [
       "         make_model body_type  price  vat      km registration  prev_owner  \\\n",
       "14499  Renault Clio    Sedans  10798    1  5000.0   2018-11-01         1.0   \n",
       "\n",
       "         hp     Make Model Body Color Upholstery    Body  Nr. of Doors  \\\n",
       "14499  56.0  Renault  Clio      White      Cloth  Sedans           5.0   \n",
       "\n",
       "      Nr. of Seats Gearing Type  Displacement Weight Drive chain  \\\n",
       "14499      [\\n5\\n]       Manual         898.0     65        None   \n",
       "\n",
       "                                             Consumption  CO2 Emission  \\\n",
       "14499  [[5 l/100 km (comb)], [6.3 l/100 km (city)], [...         113.0   \n",
       "\n",
       "      Emission Class                                            comfort  \\\n",
       "14499         Euro 6  [Air conditioning, Cruise control, Electrical ...   \n",
       "\n",
       "                                                   media Extras  \\\n",
       "14499  [Bluetooth, Hands-free equipment, MP3, On-boar...   None   \n",
       "\n",
       "                                       Safety & Security Gears  \\\n",
       "14499  [ABS, Central door lock, Daytime running light...     5   \n",
       "\n",
       "      Country version Vehicle condition  particul_filter Fuel Type  \n",
       "14499   [\\nGermany\\n]              Used            False  Super 95  "
      ]
     },
     "execution_count": 201,
     "metadata": {},
     "output_type": "execute_result"
    }
   ],
   "source": [
    "df.iloc[[14495]]"
   ]
  },
  {
   "cell_type": "code",
   "execution_count": 202,
   "id": "68682261",
   "metadata": {},
   "outputs": [],
   "source": [
    "df.Gears.iloc[14495] = '5'"
   ]
  },
  {
   "cell_type": "code",
   "execution_count": 203,
   "id": "9a45d1a1",
   "metadata": {},
   "outputs": [
    {
     "data": {
      "text/plain": [
       "6      5819\n",
       "NaN    4712\n",
       "5      3238\n",
       "7      1908\n",
       "8       224\n",
       "9         6\n",
       "1         2\n",
       "3         2\n",
       "4         2\n",
       "2         1\n",
       "50        1\n",
       "Name: Gears, dtype: int64"
      ]
     },
     "execution_count": 203,
     "metadata": {},
     "output_type": "execute_result"
    }
   ],
   "source": [
    "df.Gears.value_counts(dropna = False)"
   ]
  },
  {
   "cell_type": "code",
   "execution_count": 204,
   "id": "6f9471e0",
   "metadata": {},
   "outputs": [
    {
     "data": {
      "text/plain": [
       "4712"
      ]
     },
     "execution_count": 204,
     "metadata": {},
     "output_type": "execute_result"
    }
   ],
   "source": [
    "df.Gears.isnull().sum()"
   ]
  },
  {
   "cell_type": "markdown",
   "id": "1ce9d493",
   "metadata": {},
   "source": [
    "### 'Country version'"
   ]
  },
  {
   "cell_type": "code",
   "execution_count": 205,
   "id": "2c8215dd",
   "metadata": {},
   "outputs": [
    {
     "ename": "TypeError",
     "evalue": "unhashable type: 'list'",
     "output_type": "error",
     "traceback": [
      "\u001b[1;31m---------------------------------------------------------------------------\u001b[0m",
      "\u001b[1;31mTypeError\u001b[0m                                 Traceback (most recent call last)",
      "\u001b[1;32mpandas\\_libs\\hashtable_class_helper.pxi\u001b[0m in \u001b[0;36mpandas._libs.hashtable.PyObjectHashTable.map_locations\u001b[1;34m()\u001b[0m\n",
      "\u001b[1;31mTypeError\u001b[0m: unhashable type: 'list'"
     ]
    },
    {
     "name": "stderr",
     "output_type": "stream",
     "text": [
      "Exception ignored in: 'pandas._libs.index.IndexEngine._call_map_locations'\n",
      "Traceback (most recent call last):\n",
      "  File \"pandas\\_libs\\hashtable_class_helper.pxi\", line 5231, in pandas._libs.hashtable.PyObjectHashTable.map_locations\n",
      "TypeError: unhashable type: 'list'\n"
     ]
    },
    {
     "data": {
      "text/plain": [
       "NaN                     8331\n",
       "[\\nGermany\\n]           4502\n",
       "[\\nItaly\\n]             1038\n",
       "[\\nEuropean Union\\n]     507\n",
       "[\\nNetherlands\\n]        462\n",
       "[\\nSpain\\n]              325\n",
       "[\\nBelgium\\n]            314\n",
       "[\\nAustria\\n]            208\n",
       "[\\nCzech Republic\\n]      52\n",
       "[\\nPoland\\n]              49\n",
       "[\\nFrance\\n]              38\n",
       "[\\nDenmark\\n]             33\n",
       "[\\nHungary\\n]             28\n",
       "[\\nJapan\\n]                8\n",
       "[\\nSlovakia\\n]             4\n",
       "[\\nCroatia\\n]              4\n",
       "[\\nSweden\\n]               3\n",
       "[\\nRomania\\n]              2\n",
       "[\\nBulgaria\\n]             2\n",
       "[\\nLuxembourg\\n]           1\n",
       "[\\nSwitzerland\\n]          1\n",
       "[\\nSlovenia\\n]             1\n",
       "[\\nEgypt\\n]                1\n",
       "[\\nSerbia\\n]               1\n",
       "Name: Country version, dtype: int64"
      ]
     },
     "execution_count": 205,
     "metadata": {},
     "output_type": "execute_result"
    }
   ],
   "source": [
    "df['Country version'].value_counts(dropna = False)"
   ]
  },
  {
   "cell_type": "code",
   "execution_count": 206,
   "id": "340b720b",
   "metadata": {},
   "outputs": [],
   "source": [
    "df['Country version'] = df['Country version'].map(lambda x: x[0].strip('\\n'),na_action='ignore')"
   ]
  },
  {
   "cell_type": "code",
   "execution_count": 207,
   "id": "04e97c2c",
   "metadata": {},
   "outputs": [
    {
     "data": {
      "text/plain": [
       "0           None\n",
       "1           None\n",
       "2           None\n",
       "3           None\n",
       "4        Germany\n",
       "          ...   \n",
       "15914       None\n",
       "15915    Germany\n",
       "15916    Austria\n",
       "15917       None\n",
       "15918    Germany\n",
       "Name: Country version, Length: 15915, dtype: object"
      ]
     },
     "execution_count": 207,
     "metadata": {},
     "output_type": "execute_result"
    }
   ],
   "source": [
    "df['Country version']"
   ]
  },
  {
   "cell_type": "code",
   "execution_count": 208,
   "id": "d0ff5253",
   "metadata": {},
   "outputs": [
    {
     "data": {
      "text/html": [
       "<div>\n",
       "<style scoped>\n",
       "    .dataframe tbody tr th:only-of-type {\n",
       "        vertical-align: middle;\n",
       "    }\n",
       "\n",
       "    .dataframe tbody tr th {\n",
       "        vertical-align: top;\n",
       "    }\n",
       "\n",
       "    .dataframe thead th {\n",
       "        text-align: right;\n",
       "    }\n",
       "</style>\n",
       "<table border=\"1\" class=\"dataframe\">\n",
       "  <thead>\n",
       "    <tr style=\"text-align: right;\">\n",
       "      <th></th>\n",
       "      <th>make_model</th>\n",
       "      <th>body_type</th>\n",
       "      <th>price</th>\n",
       "      <th>vat</th>\n",
       "      <th>km</th>\n",
       "      <th>registration</th>\n",
       "      <th>prev_owner</th>\n",
       "      <th>hp</th>\n",
       "      <th>Make</th>\n",
       "      <th>Model</th>\n",
       "      <th>Body Color</th>\n",
       "      <th>Upholstery</th>\n",
       "      <th>Body</th>\n",
       "      <th>Nr. of Doors</th>\n",
       "      <th>Nr. of Seats</th>\n",
       "      <th>Gearing Type</th>\n",
       "      <th>Displacement</th>\n",
       "      <th>Weight</th>\n",
       "      <th>Drive chain</th>\n",
       "      <th>Consumption</th>\n",
       "      <th>CO2 Emission</th>\n",
       "      <th>Emission Class</th>\n",
       "      <th>comfort</th>\n",
       "      <th>media</th>\n",
       "      <th>Extras</th>\n",
       "      <th>Safety &amp; Security</th>\n",
       "      <th>Gears</th>\n",
       "      <th>Country version</th>\n",
       "      <th>Vehicle condition</th>\n",
       "      <th>particul_filter</th>\n",
       "      <th>Fuel Type</th>\n",
       "    </tr>\n",
       "  </thead>\n",
       "  <tbody>\n",
       "    <tr>\n",
       "      <th>14895</th>\n",
       "      <td>Renault Duster</td>\n",
       "      <td>Off-Road</td>\n",
       "      <td>16033</td>\n",
       "      <td>1</td>\n",
       "      <td>NaN</td>\n",
       "      <td>NaT</td>\n",
       "      <td>NaN</td>\n",
       "      <td>NaN</td>\n",
       "      <td>Renault</td>\n",
       "      <td>Duster</td>\n",
       "      <td>Black</td>\n",
       "      <td>Cloth</td>\n",
       "      <td>Off-Road</td>\n",
       "      <td>5.0</td>\n",
       "      <td>[\\n5\\n]</td>\n",
       "      <td>Automatic</td>\n",
       "      <td>998.0</td>\n",
       "      <td>None</td>\n",
       "      <td>None</td>\n",
       "      <td>[[10 l/100 km (comb)], [10 l/100 km (city)], [...</td>\n",
       "      <td>150.0</td>\n",
       "      <td>Euro 4</td>\n",
       "      <td>[Air conditioning, Automatic climate control]</td>\n",
       "      <td>[Bluetooth, CD player, Radio, USB]</td>\n",
       "      <td>None</td>\n",
       "      <td>[ABS, Driver-side airbag, Power steering]</td>\n",
       "      <td>None</td>\n",
       "      <td>Japan</td>\n",
       "      <td>New</td>\n",
       "      <td>False</td>\n",
       "      <td>Gasoline</td>\n",
       "    </tr>\n",
       "  </tbody>\n",
       "</table>\n",
       "</div>"
      ],
      "text/plain": [
       "           make_model body_type  price  vat  km registration  prev_owner  hp  \\\n",
       "14895  Renault Duster  Off-Road  16033    1 NaN          NaT         NaN NaN   \n",
       "\n",
       "          Make   Model Body Color Upholstery      Body  Nr. of Doors  \\\n",
       "14895  Renault  Duster      Black      Cloth  Off-Road           5.0   \n",
       "\n",
       "      Nr. of Seats Gearing Type  Displacement Weight Drive chain  \\\n",
       "14895      [\\n5\\n]    Automatic         998.0   None        None   \n",
       "\n",
       "                                             Consumption  CO2 Emission  \\\n",
       "14895  [[10 l/100 km (comb)], [10 l/100 km (city)], [...         150.0   \n",
       "\n",
       "      Emission Class                                        comfort  \\\n",
       "14895         Euro 4  [Air conditioning, Automatic climate control]   \n",
       "\n",
       "                                    media Extras  \\\n",
       "14895  [Bluetooth, CD player, Radio, USB]   None   \n",
       "\n",
       "                               Safety & Security Gears Country version  \\\n",
       "14895  [ABS, Driver-side airbag, Power steering]  None           Japan   \n",
       "\n",
       "      Vehicle condition  particul_filter Fuel Type  \n",
       "14895               New            False  Gasoline  "
      ]
     },
     "execution_count": 208,
     "metadata": {},
     "output_type": "execute_result"
    }
   ],
   "source": [
    "df[df['Country version'] == 'Japan'].iloc[[0]]"
   ]
  },
  {
   "cell_type": "code",
   "execution_count": 209,
   "id": "96ba009e",
   "metadata": {
    "scrolled": true
   },
   "outputs": [
    {
     "data": {
      "text/plain": [
       "NaN        25\n",
       "Japan       8\n",
       "Belgium     1\n",
       "Name: Country version, dtype: int64"
      ]
     },
     "execution_count": 209,
     "metadata": {},
     "output_type": "execute_result"
    }
   ],
   "source": [
    "df[df.make_model == 'Renault Duster']['Country version'].value_counts(dropna = False)"
   ]
  },
  {
   "cell_type": "code",
   "execution_count": 210,
   "id": "3749c07c",
   "metadata": {},
   "outputs": [
    {
     "data": {
      "text/plain": [
       "Opel       7339\n",
       "Audi       5712\n",
       "Renault    2864\n",
       "Name: Make, dtype: int64"
      ]
     },
     "execution_count": 210,
     "metadata": {},
     "output_type": "execute_result"
    }
   ],
   "source": [
    "df.Make.value_counts(dropna = False)"
   ]
  },
  {
   "cell_type": "code",
   "execution_count": 211,
   "id": "1cfbed76",
   "metadata": {
    "scrolled": true
   },
   "outputs": [
    {
     "data": {
      "text/plain": [
       "A3          3097\n",
       "A1          2614\n",
       "Insignia    2598\n",
       "Astra       2525\n",
       "Corsa       2216\n",
       "Clio        1839\n",
       "Espace       991\n",
       "Duster        34\n",
       "A2             1\n",
       "Name: Model, dtype: int64"
      ]
     },
     "execution_count": 211,
     "metadata": {},
     "output_type": "execute_result"
    }
   ],
   "source": [
    "df.Model.value_counts(dropna=False)"
   ]
  },
  {
   "cell_type": "code",
   "execution_count": 212,
   "id": "190b367c",
   "metadata": {},
   "outputs": [
    {
     "data": {
      "text/plain": [
       "Audi A3           3097\n",
       "Audi A1           2614\n",
       "Opel Insignia     2598\n",
       "Opel Astra        2525\n",
       "Opel Corsa        2216\n",
       "Renault Clio      1839\n",
       "Renault Espace     991\n",
       "Renault Duster      34\n",
       "Audi A2              1\n",
       "Name: make_model, dtype: int64"
      ]
     },
     "execution_count": 212,
     "metadata": {},
     "output_type": "execute_result"
    }
   ],
   "source": [
    "df.make_model.value_counts(dropna = False)"
   ]
  },
  {
   "cell_type": "code",
   "execution_count": 213,
   "id": "2c754834",
   "metadata": {},
   "outputs": [
    {
     "data": {
      "text/plain": [
       "Series([], Name: Country version, dtype: int64)"
      ]
     },
     "execution_count": 213,
     "metadata": {},
     "output_type": "execute_result"
    }
   ],
   "source": [
    "df[df.Make == 'Toyota']['Country version'].value_counts(dropna = False)"
   ]
  },
  {
   "cell_type": "code",
   "execution_count": 214,
   "id": "1e101dd5",
   "metadata": {},
   "outputs": [
    {
     "data": {
      "text/plain": [
       "Index(['make_model', 'body_type', 'price', 'vat', 'km', 'registration',\n",
       "       'prev_owner', 'hp', 'Make', 'Model', 'Body Color', 'Upholstery', 'Body',\n",
       "       'Nr. of Doors', 'Nr. of Seats', 'Gearing Type', 'Displacement',\n",
       "       'Weight', 'Drive chain', 'Consumption', 'CO2 Emission',\n",
       "       'Emission Class', 'comfort', 'media', 'Extras', 'Safety & Security',\n",
       "       'Gears', 'Country version', 'Vehicle condition', 'particul_filter',\n",
       "       'Fuel Type'],\n",
       "      dtype='object')"
      ]
     },
     "execution_count": 214,
     "metadata": {},
     "output_type": "execute_result"
    }
   ],
   "source": [
    "df.columns"
   ]
  }
 ],
 "metadata": {
  "kernelspec": {
   "display_name": "Python 3 (ipykernel)",
   "language": "python",
   "name": "python3"
  },
  "language_info": {
   "codemirror_mode": {
    "name": "ipython",
    "version": 3
   },
   "file_extension": ".py",
   "mimetype": "text/x-python",
   "name": "python",
   "nbconvert_exporter": "python",
   "pygments_lexer": "ipython3",
   "version": "3.8.11"
  }
 },
 "nbformat": 4,
 "nbformat_minor": 5
}
