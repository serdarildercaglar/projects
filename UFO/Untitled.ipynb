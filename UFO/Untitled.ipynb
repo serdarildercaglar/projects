{
 "cells": [
  {
   "cell_type": "code",
   "execution_count": 1,
   "metadata": {},
   "outputs": [],
   "source": [
    "import pandas as pd\n",
    "import numpy as np\n",
    "import matplotlib.pyplot as plt\n",
    "import seaborn as sns\n",
    "import warnings\n",
    "warnings.simplefilter(action='ignore', category=FutureWarning)\n",
    "#https://www.kaggle.com/nidakapmaz/unidentified-flying-object"
   ]
  },
  {
   "cell_type": "code",
   "execution_count": 144,
   "metadata": {
    "scrolled": true
   },
   "outputs": [],
   "source": [
    "df = pd.read_csv(\"scrubbed.csv\",low_memory=False,dtype='str')"
   ]
  },
  {
   "cell_type": "code",
   "execution_count": 145,
   "metadata": {
    "scrolled": true
   },
   "outputs": [
    {
     "data": {
      "text/html": [
       "<div>\n",
       "<style scoped>\n",
       "    .dataframe tbody tr th:only-of-type {\n",
       "        vertical-align: middle;\n",
       "    }\n",
       "\n",
       "    .dataframe tbody tr th {\n",
       "        vertical-align: top;\n",
       "    }\n",
       "\n",
       "    .dataframe thead th {\n",
       "        text-align: right;\n",
       "    }\n",
       "</style>\n",
       "<table border=\"1\" class=\"dataframe\">\n",
       "  <thead>\n",
       "    <tr style=\"text-align: right;\">\n",
       "      <th></th>\n",
       "      <th>datetime</th>\n",
       "      <th>city</th>\n",
       "      <th>state</th>\n",
       "      <th>country</th>\n",
       "      <th>shape</th>\n",
       "      <th>duration (seconds)</th>\n",
       "      <th>duration (hours/min)</th>\n",
       "      <th>comments</th>\n",
       "      <th>date posted</th>\n",
       "      <th>latitude</th>\n",
       "      <th>longitude</th>\n",
       "    </tr>\n",
       "  </thead>\n",
       "  <tbody>\n",
       "    <tr>\n",
       "      <th>0</th>\n",
       "      <td>10/10/1949 20:30</td>\n",
       "      <td>san marcos</td>\n",
       "      <td>tx</td>\n",
       "      <td>us</td>\n",
       "      <td>cylinder</td>\n",
       "      <td>2700</td>\n",
       "      <td>45 minutes</td>\n",
       "      <td>This event took place in early fall around 194...</td>\n",
       "      <td>4/27/2004</td>\n",
       "      <td>29.8830556</td>\n",
       "      <td>-97.9411111</td>\n",
       "    </tr>\n",
       "    <tr>\n",
       "      <th>1</th>\n",
       "      <td>10/10/1949 21:00</td>\n",
       "      <td>lackland afb</td>\n",
       "      <td>tx</td>\n",
       "      <td>NaN</td>\n",
       "      <td>light</td>\n",
       "      <td>7200</td>\n",
       "      <td>1-2 hrs</td>\n",
       "      <td>1949 Lackland AFB&amp;#44 TX.  Lights racing acros...</td>\n",
       "      <td>12/16/2005</td>\n",
       "      <td>29.38421</td>\n",
       "      <td>-98.581082</td>\n",
       "    </tr>\n",
       "  </tbody>\n",
       "</table>\n",
       "</div>"
      ],
      "text/plain": [
       "           datetime          city state country     shape duration (seconds)  \\\n",
       "0  10/10/1949 20:30    san marcos    tx      us  cylinder               2700   \n",
       "1  10/10/1949 21:00  lackland afb    tx     NaN     light               7200   \n",
       "\n",
       "  duration (hours/min)                                           comments  \\\n",
       "0           45 minutes  This event took place in early fall around 194...   \n",
       "1              1-2 hrs  1949 Lackland AFB&#44 TX.  Lights racing acros...   \n",
       "\n",
       "  date posted    latitude   longitude   \n",
       "0   4/27/2004  29.8830556  -97.9411111  \n",
       "1  12/16/2005    29.38421   -98.581082  "
      ]
     },
     "execution_count": 145,
     "metadata": {},
     "output_type": "execute_result"
    }
   ],
   "source": [
    "df.head(2)"
   ]
  },
  {
   "cell_type": "code",
   "execution_count": 4,
   "metadata": {},
   "outputs": [],
   "source": [
    "# comments column contains unmeaningfull words. \n",
    "# cleaning character caused unmeaningful words\n",
    "# Different encoding types were tried. Result negative\n"
   ]
  },
  {
   "cell_type": "code",
   "execution_count": 146,
   "metadata": {},
   "outputs": [],
   "source": [
    "df.comments = df.comments.str.replace(\"&#44\",\"\").str.replace(\"&amp\",\"\")"
   ]
  },
  {
   "cell_type": "code",
   "execution_count": 147,
   "metadata": {},
   "outputs": [
    {
     "data": {
      "text/plain": [
       "0        This event took place in early fall around 194...\n",
       "1        1949 Lackland AFB TX.  Lights racing across th...\n",
       "2          Green/Orange circular disc over Chester England\n",
       "3        My older brother and twin sister were leaving ...\n",
       "4        AS a Marine 1st Lt. flying an FJ4B fighter/att...\n",
       "                               ...                        \n",
       "80327    Round from the distance/slowly changing colors...\n",
       "80328    Boise ID spherical 20 min 10 red lights seen b...\n",
       "80329                                             Napa UFO\n",
       "80330    Saw a five gold lit cicular craft moving fastl...\n",
       "80331    2 witnesses 2  miles apart Red ; White Elongat...\n",
       "Name: comments, Length: 80332, dtype: object"
      ]
     },
     "execution_count": 147,
     "metadata": {},
     "output_type": "execute_result"
    }
   ],
   "source": [
    "df.comments"
   ]
  },
  {
   "cell_type": "code",
   "execution_count": 7,
   "metadata": {},
   "outputs": [
    {
     "data": {
      "text/plain": [
       "(80332, 11)"
      ]
     },
     "execution_count": 7,
     "metadata": {},
     "output_type": "execute_result"
    }
   ],
   "source": [
    "df.shape"
   ]
  },
  {
   "cell_type": "code",
   "execution_count": 8,
   "metadata": {},
   "outputs": [
    {
     "name": "stdout",
     "output_type": "stream",
     "text": [
      "<class 'pandas.core.frame.DataFrame'>\n",
      "RangeIndex: 80332 entries, 0 to 80331\n",
      "Data columns (total 11 columns):\n",
      " #   Column                Non-Null Count  Dtype  \n",
      "---  ------                --------------  -----  \n",
      " 0   datetime              80332 non-null  object \n",
      " 1   city                  80332 non-null  object \n",
      " 2   state                 74535 non-null  object \n",
      " 3   country               70662 non-null  object \n",
      " 4   shape                 78400 non-null  object \n",
      " 5   duration (seconds)    80332 non-null  object \n",
      " 6   duration (hours/min)  80332 non-null  object \n",
      " 7   comments              80317 non-null  object \n",
      " 8   date posted           80332 non-null  object \n",
      " 9   latitude              80332 non-null  object \n",
      " 10  longitude             80332 non-null  float64\n",
      "dtypes: float64(1), object(10)\n",
      "memory usage: 6.7+ MB\n"
     ]
    }
   ],
   "source": [
    "df.info()"
   ]
  },
  {
   "cell_type": "code",
   "execution_count": 9,
   "metadata": {},
   "outputs": [
    {
     "data": {
      "text/plain": [
       "datetime                   0\n",
       "city                       0\n",
       "state                   5797\n",
       "country                 9670\n",
       "shape                   1932\n",
       "duration (seconds)         0\n",
       "duration (hours/min)       0\n",
       "comments                  15\n",
       "date posted                0\n",
       "latitude                   0\n",
       "longitude                  0\n",
       "dtype: int64"
      ]
     },
     "execution_count": 9,
     "metadata": {},
     "output_type": "execute_result"
    }
   ],
   "source": [
    "df.isnull().sum()\n",
    "# number of Null "
   ]
  },
  {
   "cell_type": "code",
   "execution_count": 167,
   "metadata": {},
   "outputs": [],
   "source": [
    "def missing (df):\n",
    "    missing_number = df.isnull().sum().sort_values(ascending=False)\n",
    "    missing_percent = (df.isnull().sum()/df.isnull().count()).sort_values(ascending=False)*100\n",
    "    missing_percent = round(missing_percent,2)\n",
    "    missing_values = pd.concat([missing_number, missing_percent], axis=1, keys=['Missing_Number', 'Missing_Percent'])\n",
    "    return missing_values"
   ]
  },
  {
   "cell_type": "code",
   "execution_count": 165,
   "metadata": {},
   "outputs": [
    {
     "data": {
      "text/plain": [
       "country                 12.037544\n",
       "state                    7.216302\n",
       "shape                    2.405019\n",
       "comments                 0.018673\n",
       "longitude                0.000000\n",
       "latitude                 0.000000\n",
       "date posted              0.000000\n",
       "duration (hours/min)     0.000000\n",
       "duration (seconds)       0.000000\n",
       "city                     0.000000\n",
       "datetime                 0.000000\n",
       "dtype: float64"
      ]
     },
     "execution_count": 165,
     "metadata": {},
     "output_type": "execute_result"
    }
   ],
   "source": [
    "(df.isnull().sum()/df.isnull().count()).sort_values(ascending=False)*100"
   ]
  },
  {
   "cell_type": "code",
   "execution_count": 168,
   "metadata": {},
   "outputs": [
    {
     "data": {
      "text/html": [
       "<div>\n",
       "<style scoped>\n",
       "    .dataframe tbody tr th:only-of-type {\n",
       "        vertical-align: middle;\n",
       "    }\n",
       "\n",
       "    .dataframe tbody tr th {\n",
       "        vertical-align: top;\n",
       "    }\n",
       "\n",
       "    .dataframe thead th {\n",
       "        text-align: right;\n",
       "    }\n",
       "</style>\n",
       "<table border=\"1\" class=\"dataframe\">\n",
       "  <thead>\n",
       "    <tr style=\"text-align: right;\">\n",
       "      <th></th>\n",
       "      <th>Missing_Number</th>\n",
       "      <th>Missing_Percent</th>\n",
       "    </tr>\n",
       "  </thead>\n",
       "  <tbody>\n",
       "    <tr>\n",
       "      <th>country</th>\n",
       "      <td>9670</td>\n",
       "      <td>12.04</td>\n",
       "    </tr>\n",
       "    <tr>\n",
       "      <th>state</th>\n",
       "      <td>5797</td>\n",
       "      <td>7.22</td>\n",
       "    </tr>\n",
       "    <tr>\n",
       "      <th>shape</th>\n",
       "      <td>1932</td>\n",
       "      <td>2.41</td>\n",
       "    </tr>\n",
       "    <tr>\n",
       "      <th>comments</th>\n",
       "      <td>15</td>\n",
       "      <td>0.02</td>\n",
       "    </tr>\n",
       "    <tr>\n",
       "      <th>longitude</th>\n",
       "      <td>0</td>\n",
       "      <td>0.00</td>\n",
       "    </tr>\n",
       "    <tr>\n",
       "      <th>latitude</th>\n",
       "      <td>0</td>\n",
       "      <td>0.00</td>\n",
       "    </tr>\n",
       "    <tr>\n",
       "      <th>date posted</th>\n",
       "      <td>0</td>\n",
       "      <td>0.00</td>\n",
       "    </tr>\n",
       "    <tr>\n",
       "      <th>duration (hours/min)</th>\n",
       "      <td>0</td>\n",
       "      <td>0.00</td>\n",
       "    </tr>\n",
       "    <tr>\n",
       "      <th>duration (seconds)</th>\n",
       "      <td>0</td>\n",
       "      <td>0.00</td>\n",
       "    </tr>\n",
       "    <tr>\n",
       "      <th>city</th>\n",
       "      <td>0</td>\n",
       "      <td>0.00</td>\n",
       "    </tr>\n",
       "    <tr>\n",
       "      <th>datetime</th>\n",
       "      <td>0</td>\n",
       "      <td>0.00</td>\n",
       "    </tr>\n",
       "  </tbody>\n",
       "</table>\n",
       "</div>"
      ],
      "text/plain": [
       "                      Missing_Number  Missing_Percent\n",
       "country                         9670            12.04\n",
       "state                           5797             7.22\n",
       "shape                           1932             2.41\n",
       "comments                          15             0.02\n",
       "longitude                          0             0.00\n",
       "latitude                           0             0.00\n",
       "date posted                        0             0.00\n",
       "duration (hours/min)               0             0.00\n",
       "duration (seconds)                 0             0.00\n",
       "city                               0             0.00\n",
       "datetime                           0             0.00"
      ]
     },
     "execution_count": 168,
     "metadata": {},
     "output_type": "execute_result"
    }
   ],
   "source": [
    "missing(df)"
   ]
  },
  {
   "cell_type": "code",
   "execution_count": 169,
   "metadata": {},
   "outputs": [
    {
     "name": "stdout",
     "output_type": "stream",
     "text": [
      "(80331, 11)\n"
     ]
    }
   ],
   "source": [
    "df.drop_duplicates(inplace=True)\n",
    "print(df.shape)"
   ]
  },
  {
   "cell_type": "code",
   "execution_count": 176,
   "metadata": {},
   "outputs": [
    {
     "data": {
      "text/html": [
       "<div>\n",
       "<style scoped>\n",
       "    .dataframe tbody tr th:only-of-type {\n",
       "        vertical-align: middle;\n",
       "    }\n",
       "\n",
       "    .dataframe tbody tr th {\n",
       "        vertical-align: top;\n",
       "    }\n",
       "\n",
       "    .dataframe thead th {\n",
       "        text-align: right;\n",
       "    }\n",
       "</style>\n",
       "<table border=\"1\" class=\"dataframe\">\n",
       "  <thead>\n",
       "    <tr style=\"text-align: right;\">\n",
       "      <th></th>\n",
       "      <th>datetime</th>\n",
       "      <th>city</th>\n",
       "      <th>state</th>\n",
       "      <th>country</th>\n",
       "      <th>shape</th>\n",
       "      <th>duration (seconds)</th>\n",
       "      <th>duration (hours/min)</th>\n",
       "      <th>comments</th>\n",
       "      <th>date posted</th>\n",
       "      <th>latitude</th>\n",
       "      <th>longitude</th>\n",
       "    </tr>\n",
       "  </thead>\n",
       "  <tbody>\n",
       "    <tr>\n",
       "      <th>0</th>\n",
       "      <td>10/10/1949 20:30</td>\n",
       "      <td>san marcos</td>\n",
       "      <td>tx</td>\n",
       "      <td>us</td>\n",
       "      <td>cylinder</td>\n",
       "      <td>2700</td>\n",
       "      <td>45 minutes</td>\n",
       "      <td>This event took place in early fall around 194...</td>\n",
       "      <td>4/27/2004</td>\n",
       "      <td>29.8830556</td>\n",
       "      <td>-97.9411111</td>\n",
       "    </tr>\n",
       "    <tr>\n",
       "      <th>1</th>\n",
       "      <td>10/10/1949 21:00</td>\n",
       "      <td>lackland afb</td>\n",
       "      <td>tx</td>\n",
       "      <td>NaN</td>\n",
       "      <td>light</td>\n",
       "      <td>7200</td>\n",
       "      <td>1-2 hrs</td>\n",
       "      <td>1949 Lackland AFB TX.  Lights racing across th...</td>\n",
       "      <td>12/16/2005</td>\n",
       "      <td>29.38421</td>\n",
       "      <td>-98.581082</td>\n",
       "    </tr>\n",
       "    <tr>\n",
       "      <th>2</th>\n",
       "      <td>10/10/1955 17:00</td>\n",
       "      <td>chester (uk/england)</td>\n",
       "      <td>NaN</td>\n",
       "      <td>gb</td>\n",
       "      <td>circle</td>\n",
       "      <td>20</td>\n",
       "      <td>20 seconds</td>\n",
       "      <td>Green/Orange circular disc over Chester England</td>\n",
       "      <td>1/21/2008</td>\n",
       "      <td>53.2</td>\n",
       "      <td>-2.916667</td>\n",
       "    </tr>\n",
       "    <tr>\n",
       "      <th>3</th>\n",
       "      <td>10/10/1956 21:00</td>\n",
       "      <td>edna</td>\n",
       "      <td>tx</td>\n",
       "      <td>us</td>\n",
       "      <td>circle</td>\n",
       "      <td>20</td>\n",
       "      <td>1/2 hour</td>\n",
       "      <td>My older brother and twin sister were leaving ...</td>\n",
       "      <td>1/17/2004</td>\n",
       "      <td>28.9783333</td>\n",
       "      <td>-96.6458333</td>\n",
       "    </tr>\n",
       "    <tr>\n",
       "      <th>4</th>\n",
       "      <td>10/10/1960 20:00</td>\n",
       "      <td>kaneohe</td>\n",
       "      <td>hi</td>\n",
       "      <td>us</td>\n",
       "      <td>light</td>\n",
       "      <td>900</td>\n",
       "      <td>15 minutes</td>\n",
       "      <td>AS a Marine 1st Lt. flying an FJ4B fighter/att...</td>\n",
       "      <td>1/22/2004</td>\n",
       "      <td>21.4180556</td>\n",
       "      <td>-157.8036111</td>\n",
       "    </tr>\n",
       "    <tr>\n",
       "      <th>...</th>\n",
       "      <td>...</td>\n",
       "      <td>...</td>\n",
       "      <td>...</td>\n",
       "      <td>...</td>\n",
       "      <td>...</td>\n",
       "      <td>...</td>\n",
       "      <td>...</td>\n",
       "      <td>...</td>\n",
       "      <td>...</td>\n",
       "      <td>...</td>\n",
       "      <td>...</td>\n",
       "    </tr>\n",
       "    <tr>\n",
       "      <th>80327</th>\n",
       "      <td>9/9/2013 21:15</td>\n",
       "      <td>nashville</td>\n",
       "      <td>tn</td>\n",
       "      <td>us</td>\n",
       "      <td>light</td>\n",
       "      <td>600</td>\n",
       "      <td>10 minutes</td>\n",
       "      <td>Round from the distance/slowly changing colors...</td>\n",
       "      <td>9/30/2013</td>\n",
       "      <td>36.1658333</td>\n",
       "      <td>-86.7844444</td>\n",
       "    </tr>\n",
       "    <tr>\n",
       "      <th>80328</th>\n",
       "      <td>9/9/2013 22:00</td>\n",
       "      <td>boise</td>\n",
       "      <td>id</td>\n",
       "      <td>us</td>\n",
       "      <td>circle</td>\n",
       "      <td>1200</td>\n",
       "      <td>20 minutes</td>\n",
       "      <td>Boise ID spherical 20 min 10 red lights seen b...</td>\n",
       "      <td>9/30/2013</td>\n",
       "      <td>43.6136111</td>\n",
       "      <td>-116.2025000</td>\n",
       "    </tr>\n",
       "    <tr>\n",
       "      <th>80329</th>\n",
       "      <td>9/9/2013 22:00</td>\n",
       "      <td>napa</td>\n",
       "      <td>ca</td>\n",
       "      <td>us</td>\n",
       "      <td>other</td>\n",
       "      <td>1200</td>\n",
       "      <td>hour</td>\n",
       "      <td>Napa UFO</td>\n",
       "      <td>9/30/2013</td>\n",
       "      <td>38.2972222</td>\n",
       "      <td>-122.2844444</td>\n",
       "    </tr>\n",
       "    <tr>\n",
       "      <th>80330</th>\n",
       "      <td>9/9/2013 22:20</td>\n",
       "      <td>vienna</td>\n",
       "      <td>va</td>\n",
       "      <td>us</td>\n",
       "      <td>circle</td>\n",
       "      <td>5</td>\n",
       "      <td>5 seconds</td>\n",
       "      <td>Saw a five gold lit cicular craft moving fastl...</td>\n",
       "      <td>9/30/2013</td>\n",
       "      <td>38.9011111</td>\n",
       "      <td>-77.2655556</td>\n",
       "    </tr>\n",
       "    <tr>\n",
       "      <th>80331</th>\n",
       "      <td>9/9/2013 23:00</td>\n",
       "      <td>edmond</td>\n",
       "      <td>ok</td>\n",
       "      <td>us</td>\n",
       "      <td>cigar</td>\n",
       "      <td>1020</td>\n",
       "      <td>17 minutes</td>\n",
       "      <td>2 witnesses 2  miles apart Red ; White Elongat...</td>\n",
       "      <td>9/30/2013</td>\n",
       "      <td>35.6527778</td>\n",
       "      <td>-97.4777778</td>\n",
       "    </tr>\n",
       "  </tbody>\n",
       "</table>\n",
       "<p>80329 rows × 11 columns</p>\n",
       "</div>"
      ],
      "text/plain": [
       "               datetime                  city state country     shape  \\\n",
       "0      10/10/1949 20:30            san marcos    tx      us  cylinder   \n",
       "1      10/10/1949 21:00          lackland afb    tx     NaN     light   \n",
       "2      10/10/1955 17:00  chester (uk/england)   NaN      gb    circle   \n",
       "3      10/10/1956 21:00                  edna    tx      us    circle   \n",
       "4      10/10/1960 20:00               kaneohe    hi      us     light   \n",
       "...                 ...                   ...   ...     ...       ...   \n",
       "80327    9/9/2013 21:15             nashville    tn      us     light   \n",
       "80328    9/9/2013 22:00                 boise    id      us    circle   \n",
       "80329    9/9/2013 22:00                  napa    ca      us     other   \n",
       "80330    9/9/2013 22:20                vienna    va      us    circle   \n",
       "80331    9/9/2013 23:00                edmond    ok      us     cigar   \n",
       "\n",
       "      duration (seconds) duration (hours/min)  \\\n",
       "0                   2700           45 minutes   \n",
       "1                   7200              1-2 hrs   \n",
       "2                     20           20 seconds   \n",
       "3                     20             1/2 hour   \n",
       "4                    900           15 minutes   \n",
       "...                  ...                  ...   \n",
       "80327                600           10 minutes   \n",
       "80328               1200           20 minutes   \n",
       "80329               1200                 hour   \n",
       "80330                  5            5 seconds   \n",
       "80331               1020           17 minutes   \n",
       "\n",
       "                                                comments date posted  \\\n",
       "0      This event took place in early fall around 194...   4/27/2004   \n",
       "1      1949 Lackland AFB TX.  Lights racing across th...  12/16/2005   \n",
       "2        Green/Orange circular disc over Chester England   1/21/2008   \n",
       "3      My older brother and twin sister were leaving ...   1/17/2004   \n",
       "4      AS a Marine 1st Lt. flying an FJ4B fighter/att...   1/22/2004   \n",
       "...                                                  ...         ...   \n",
       "80327  Round from the distance/slowly changing colors...   9/30/2013   \n",
       "80328  Boise ID spherical 20 min 10 red lights seen b...   9/30/2013   \n",
       "80329                                           Napa UFO   9/30/2013   \n",
       "80330  Saw a five gold lit cicular craft moving fastl...   9/30/2013   \n",
       "80331  2 witnesses 2  miles apart Red ; White Elongat...   9/30/2013   \n",
       "\n",
       "         latitude    longitude   \n",
       "0      29.8830556   -97.9411111  \n",
       "1        29.38421    -98.581082  \n",
       "2            53.2     -2.916667  \n",
       "3      28.9783333   -96.6458333  \n",
       "4      21.4180556  -157.8036111  \n",
       "...           ...           ...  \n",
       "80327  36.1658333   -86.7844444  \n",
       "80328  43.6136111  -116.2025000  \n",
       "80329  38.2972222  -122.2844444  \n",
       "80330  38.9011111   -77.2655556  \n",
       "80331  35.6527778   -97.4777778  \n",
       "\n",
       "[80329 rows x 11 columns]"
      ]
     },
     "execution_count": 176,
     "metadata": {},
     "output_type": "execute_result"
    }
   ],
   "source": [
    "df.dropna(thresh=1)"
   ]
  },
  {
   "cell_type": "code",
   "execution_count": 34,
   "metadata": {},
   "outputs": [],
   "source": [
    "# let's checkthe data column by columns"
   ]
  },
  {
   "cell_type": "code",
   "execution_count": 177,
   "metadata": {},
   "outputs": [
    {
     "data": {
      "text/plain": [
       "(80329, 11)"
      ]
     },
     "execution_count": 177,
     "metadata": {},
     "output_type": "execute_result"
    }
   ],
   "source": [
    "df.shape"
   ]
  },
  {
   "cell_type": "code",
   "execution_count": 42,
   "metadata": {},
   "outputs": [
    {
     "data": {
      "text/plain": [
       "['datetime',\n",
       " 'city',\n",
       " 'state',\n",
       " 'country',\n",
       " 'shape',\n",
       " 'duration (seconds)',\n",
       " 'duration (hours/min)',\n",
       " 'comments',\n",
       " 'date posted',\n",
       " 'latitude',\n",
       " 'longitude ',\n",
       " 'date',\n",
       " 'time']"
      ]
     },
     "execution_count": 42,
     "metadata": {},
     "output_type": "execute_result"
    }
   ],
   "source": [
    "column_list = df.columns.to_list()\n",
    "column_list"
   ]
  },
  {
   "cell_type": "markdown",
   "metadata": {},
   "source": [
    "# datetime"
   ]
  },
  {
   "cell_type": "code",
   "execution_count": 44,
   "metadata": {},
   "outputs": [
    {
     "data": {
      "text/html": [
       "<div>\n",
       "<style scoped>\n",
       "    .dataframe tbody tr th:only-of-type {\n",
       "        vertical-align: middle;\n",
       "    }\n",
       "\n",
       "    .dataframe tbody tr th {\n",
       "        vertical-align: top;\n",
       "    }\n",
       "\n",
       "    .dataframe thead th {\n",
       "        text-align: right;\n",
       "    }\n",
       "</style>\n",
       "<table border=\"1\" class=\"dataframe\">\n",
       "  <thead>\n",
       "    <tr style=\"text-align: right;\">\n",
       "      <th></th>\n",
       "      <th>datetime</th>\n",
       "    </tr>\n",
       "  </thead>\n",
       "  <tbody>\n",
       "    <tr>\n",
       "      <th>0</th>\n",
       "      <td>1949-10-10 20:30:00</td>\n",
       "    </tr>\n",
       "    <tr>\n",
       "      <th>1</th>\n",
       "      <td>1949-10-10 21:00:00</td>\n",
       "    </tr>\n",
       "    <tr>\n",
       "      <th>2</th>\n",
       "      <td>1955-10-10 17:00:00</td>\n",
       "    </tr>\n",
       "    <tr>\n",
       "      <th>3</th>\n",
       "      <td>1956-10-10 21:00:00</td>\n",
       "    </tr>\n",
       "    <tr>\n",
       "      <th>4</th>\n",
       "      <td>1960-10-10 20:00:00</td>\n",
       "    </tr>\n",
       "    <tr>\n",
       "      <th>...</th>\n",
       "      <td>...</td>\n",
       "    </tr>\n",
       "    <tr>\n",
       "      <th>80327</th>\n",
       "      <td>2013-09-09 21:15:00</td>\n",
       "    </tr>\n",
       "    <tr>\n",
       "      <th>80328</th>\n",
       "      <td>2013-09-09 22:00:00</td>\n",
       "    </tr>\n",
       "    <tr>\n",
       "      <th>80329</th>\n",
       "      <td>2013-09-09 22:00:00</td>\n",
       "    </tr>\n",
       "    <tr>\n",
       "      <th>80330</th>\n",
       "      <td>2013-09-09 22:20:00</td>\n",
       "    </tr>\n",
       "    <tr>\n",
       "      <th>80331</th>\n",
       "      <td>2013-09-09 23:00:00</td>\n",
       "    </tr>\n",
       "  </tbody>\n",
       "</table>\n",
       "<p>80331 rows × 1 columns</p>\n",
       "</div>"
      ],
      "text/plain": [
       "                 datetime\n",
       "0     1949-10-10 20:30:00\n",
       "1     1949-10-10 21:00:00\n",
       "2     1955-10-10 17:00:00\n",
       "3     1956-10-10 21:00:00\n",
       "4     1960-10-10 20:00:00\n",
       "...                   ...\n",
       "80327 2013-09-09 21:15:00\n",
       "80328 2013-09-09 22:00:00\n",
       "80329 2013-09-09 22:00:00\n",
       "80330 2013-09-09 22:20:00\n",
       "80331 2013-09-09 23:00:00\n",
       "\n",
       "[80331 rows x 1 columns]"
      ]
     },
     "execution_count": 44,
     "metadata": {},
     "output_type": "execute_result"
    }
   ],
   "source": [
    "df[['datetime']]"
   ]
  },
  {
   "cell_type": "code",
   "execution_count": 12,
   "metadata": {},
   "outputs": [
    {
     "data": {
      "text/plain": [
       "39425    4/27/2013 21:58\n",
       "12179    11/2/2012 22:00\n",
       "44554    5/27/1997 00:35\n",
       "72250     8/7/2013 20:30\n",
       "17459    1/21/2006 17:45\n",
       "Name: datetime, dtype: object"
      ]
     },
     "execution_count": 12,
     "metadata": {},
     "output_type": "execute_result"
    }
   ],
   "source": [
    "df.datetime.sample(5)"
   ]
  },
  {
   "cell_type": "code",
   "execution_count": 13,
   "metadata": {},
   "outputs": [],
   "source": [
    "# df.datetime = pd.to_datetime(df.datetime)\n",
    "# the code written above give error because of time format.\n",
    "# time format can not be 24:00 so time need to be edited"
   ]
  },
  {
   "cell_type": "code",
   "execution_count": 14,
   "metadata": {},
   "outputs": [],
   "source": [
    "df.datetime = df.datetime.map(lambda x: \"00:00\" if \"24:00\" in x else x )\n",
    "# time format replaced from 24:00 to 00:00"
   ]
  },
  {
   "cell_type": "code",
   "execution_count": 15,
   "metadata": {},
   "outputs": [],
   "source": [
    "df.datetime = pd.to_datetime(df.datetime)"
   ]
  },
  {
   "cell_type": "code",
   "execution_count": 16,
   "metadata": {
    "scrolled": true
   },
   "outputs": [
    {
     "data": {
      "text/plain": [
       "dtype('<M8[ns]')"
      ]
     },
     "execution_count": 16,
     "metadata": {},
     "output_type": "execute_result"
    }
   ],
   "source": [
    "df.datetime.dtype"
   ]
  },
  {
   "cell_type": "code",
   "execution_count": 17,
   "metadata": {},
   "outputs": [],
   "source": [
    "# split date and time"
   ]
  },
  {
   "cell_type": "code",
   "execution_count": 18,
   "metadata": {},
   "outputs": [],
   "source": [
    "df[\"date\"] = df.datetime.dt.date"
   ]
  },
  {
   "cell_type": "code",
   "execution_count": 19,
   "metadata": {},
   "outputs": [],
   "source": [
    "df[\"time\"] = df.datetime.dt.time"
   ]
  },
  {
   "cell_type": "code",
   "execution_count": 20,
   "metadata": {},
   "outputs": [
    {
     "data": {
      "text/html": [
       "<div>\n",
       "<style scoped>\n",
       "    .dataframe tbody tr th:only-of-type {\n",
       "        vertical-align: middle;\n",
       "    }\n",
       "\n",
       "    .dataframe tbody tr th {\n",
       "        vertical-align: top;\n",
       "    }\n",
       "\n",
       "    .dataframe thead th {\n",
       "        text-align: right;\n",
       "    }\n",
       "</style>\n",
       "<table border=\"1\" class=\"dataframe\">\n",
       "  <thead>\n",
       "    <tr style=\"text-align: right;\">\n",
       "      <th></th>\n",
       "      <th>date</th>\n",
       "      <th>time</th>\n",
       "    </tr>\n",
       "  </thead>\n",
       "  <tbody>\n",
       "    <tr>\n",
       "      <th>0</th>\n",
       "      <td>1949-10-10</td>\n",
       "      <td>20:30:00</td>\n",
       "    </tr>\n",
       "    <tr>\n",
       "      <th>1</th>\n",
       "      <td>1949-10-10</td>\n",
       "      <td>21:00:00</td>\n",
       "    </tr>\n",
       "    <tr>\n",
       "      <th>2</th>\n",
       "      <td>1955-10-10</td>\n",
       "      <td>17:00:00</td>\n",
       "    </tr>\n",
       "    <tr>\n",
       "      <th>3</th>\n",
       "      <td>1956-10-10</td>\n",
       "      <td>21:00:00</td>\n",
       "    </tr>\n",
       "    <tr>\n",
       "      <th>4</th>\n",
       "      <td>1960-10-10</td>\n",
       "      <td>20:00:00</td>\n",
       "    </tr>\n",
       "    <tr>\n",
       "      <th>...</th>\n",
       "      <td>...</td>\n",
       "      <td>...</td>\n",
       "    </tr>\n",
       "    <tr>\n",
       "      <th>80327</th>\n",
       "      <td>2013-09-09</td>\n",
       "      <td>21:15:00</td>\n",
       "    </tr>\n",
       "    <tr>\n",
       "      <th>80328</th>\n",
       "      <td>2013-09-09</td>\n",
       "      <td>22:00:00</td>\n",
       "    </tr>\n",
       "    <tr>\n",
       "      <th>80329</th>\n",
       "      <td>2013-09-09</td>\n",
       "      <td>22:00:00</td>\n",
       "    </tr>\n",
       "    <tr>\n",
       "      <th>80330</th>\n",
       "      <td>2013-09-09</td>\n",
       "      <td>22:20:00</td>\n",
       "    </tr>\n",
       "    <tr>\n",
       "      <th>80331</th>\n",
       "      <td>2013-09-09</td>\n",
       "      <td>23:00:00</td>\n",
       "    </tr>\n",
       "  </tbody>\n",
       "</table>\n",
       "<p>80332 rows × 2 columns</p>\n",
       "</div>"
      ],
      "text/plain": [
       "             date      time\n",
       "0      1949-10-10  20:30:00\n",
       "1      1949-10-10  21:00:00\n",
       "2      1955-10-10  17:00:00\n",
       "3      1956-10-10  21:00:00\n",
       "4      1960-10-10  20:00:00\n",
       "...           ...       ...\n",
       "80327  2013-09-09  21:15:00\n",
       "80328  2013-09-09  22:00:00\n",
       "80329  2013-09-09  22:00:00\n",
       "80330  2013-09-09  22:20:00\n",
       "80331  2013-09-09  23:00:00\n",
       "\n",
       "[80332 rows x 2 columns]"
      ]
     },
     "execution_count": 20,
     "metadata": {},
     "output_type": "execute_result"
    }
   ],
   "source": [
    "df[[\"date\",\"time\"]]"
   ]
  },
  {
   "cell_type": "code",
   "execution_count": 22,
   "metadata": {},
   "outputs": [
    {
     "data": {
      "text/plain": [
       "2012    7308\n",
       "2013    6992\n",
       "2011    5077\n",
       "2008    4777\n",
       "2009    4508\n",
       "        ... \n",
       "1930       1\n",
       "1933       1\n",
       "1934       1\n",
       "1941       1\n",
       "1920       1\n",
       "Name: datetime, Length: 88, dtype: int64"
      ]
     },
     "execution_count": 22,
     "metadata": {},
     "output_type": "execute_result"
    }
   ],
   "source": [
    "df.datetime.dt.year.value_counts()\n",
    "# UFO sightings by year \n"
   ]
  },
  {
   "cell_type": "code",
   "execution_count": 49,
   "metadata": {
    "scrolled": true
   },
   "outputs": [
    {
     "data": {
      "image/png": "[encoded data removed]",
      "text/plain": [
       "<Figure size 864x432 with 1 Axes>"
      ]
     },
     "metadata": {
      "needs_background": "light"
     },
     "output_type": "display_data"
    }
   ],
   "source": [
    "plt.figure(figsize=(12,6))\n",
    "plt.title(\"UFO sightings by year \")\n",
    "plt.xlabel(\"Years\")\n",
    "plt.ylabel(\"number of sighting\")\n",
    "df.datetime.dt.year.value_counts().plot(kind = \"line\");\n",
    "\n",
    "\n"
   ]
  },
  {
   "cell_type": "code",
   "execution_count": 24,
   "metadata": {
    "scrolled": true
   },
   "outputs": [
    {
     "data": {
      "image/png": "[encoded data removed]",
      "text/plain": [
       "<Figure size 1080x576 with 1 Axes>"
      ]
     },
     "metadata": {
      "needs_background": "light"
     },
     "output_type": "display_data"
    }
   ],
   "source": [
    "\n",
    "years_data = df.datetime.dt.year.value_counts()\n",
    "years_index = years_data.index  \n",
    "years_values = years_data.values\n",
    "plt.figure(figsize=(15,8))\n",
    "plt.grid(color='r', linestyle='-', linewidth=2)\n",
    "plt.xticks(rotation = 60)\n",
    "plt.title('UFO Sightings since 1943', fontsize=18)\n",
    "plt.xlabel(\"Year\", fontsize=14)\n",
    "plt.ylabel(\"Number of reports\", fontsize=14)\n",
    "years_plot = sns.barplot(x=years_index[:80],y=years_values[:80], palette = \"Blues_d\")\n",
    "\n"
   ]
  },
  {
   "cell_type": "code",
   "execution_count": 25,
   "metadata": {},
   "outputs": [
    {
     "data": {
      "image/png": "[encoded data removed]",
      "text/plain": [
       "<Figure size 1080x576 with 1 Axes>"
      ]
     },
     "metadata": {
      "needs_background": "light"
     },
     "output_type": "display_data"
    }
   ],
   "source": [
    "\n",
    "\n",
    "plt.figure(figsize=(15,8))\n",
    "plt.title(\"Ufo Sighting by months of year\")\n",
    "ax = sns.countplot(df.datetime.dt.month)\n",
    "ax.set(xlabel='months', ylabel='number of sights')\n",
    "\n",
    "plt.annotate('numbers are cumulative and 1 = \"January\"', (0,0), (0, -20), xycoords='axes fraction', textcoords='offset points', va='top')\n",
    "\n",
    "for p in ax.patches:\n",
    "    ax.annotate( str(p.get_height()),  (p.get_x(), p.get_height()+20));"
   ]
  },
  {
   "cell_type": "code",
   "execution_count": 26,
   "metadata": {
    "scrolled": true
   },
   "outputs": [
    {
     "data": {
      "image/png": "[encoded data removed]",
      "text/plain": [
       "<Figure size 1080x576 with 1 Axes>"
      ]
     },
     "metadata": {
      "needs_background": "light"
     },
     "output_type": "display_data"
    }
   ],
   "source": [
    "plt.figure(figsize=(15,8))\n",
    "\n",
    "ax = sns.countplot(df.datetime.dt.day)\n",
    "plt.title(\"UFO Sighting by Day\")\n",
    "ax.set(xlabel = \"day of month\", ylabel = \"sighting number\")\n",
    "for p in ax.patches:\n",
    "    ax.annotate( str(p.get_height()),  (p.get_x(), p.get_height()+20));\n"
   ]
  },
  {
   "cell_type": "markdown",
   "metadata": {},
   "source": [
    "# country & city"
   ]
  },
  {
   "cell_type": "code",
   "execution_count": 54,
   "metadata": {},
   "outputs": [
    {
     "data": {
      "text/html": [
       "<div>\n",
       "<style scoped>\n",
       "    .dataframe tbody tr th:only-of-type {\n",
       "        vertical-align: middle;\n",
       "    }\n",
       "\n",
       "    .dataframe tbody tr th {\n",
       "        vertical-align: top;\n",
       "    }\n",
       "\n",
       "    .dataframe thead th {\n",
       "        text-align: right;\n",
       "    }\n",
       "</style>\n",
       "<table border=\"1\" class=\"dataframe\">\n",
       "  <thead>\n",
       "    <tr style=\"text-align: right;\">\n",
       "      <th></th>\n",
       "      <th>country</th>\n",
       "      <th>city</th>\n",
       "    </tr>\n",
       "  </thead>\n",
       "  <tbody>\n",
       "    <tr>\n",
       "      <th>0</th>\n",
       "      <td>us</td>\n",
       "      <td>san marcos</td>\n",
       "    </tr>\n",
       "    <tr>\n",
       "      <th>1</th>\n",
       "      <td>NaN</td>\n",
       "      <td>lackland afb</td>\n",
       "    </tr>\n",
       "    <tr>\n",
       "      <th>2</th>\n",
       "      <td>gb</td>\n",
       "      <td>chester (uk/england)</td>\n",
       "    </tr>\n",
       "    <tr>\n",
       "      <th>3</th>\n",
       "      <td>us</td>\n",
       "      <td>edna</td>\n",
       "    </tr>\n",
       "    <tr>\n",
       "      <th>4</th>\n",
       "      <td>us</td>\n",
       "      <td>kaneohe</td>\n",
       "    </tr>\n",
       "    <tr>\n",
       "      <th>...</th>\n",
       "      <td>...</td>\n",
       "      <td>...</td>\n",
       "    </tr>\n",
       "    <tr>\n",
       "      <th>80327</th>\n",
       "      <td>us</td>\n",
       "      <td>nashville</td>\n",
       "    </tr>\n",
       "    <tr>\n",
       "      <th>80328</th>\n",
       "      <td>us</td>\n",
       "      <td>boise</td>\n",
       "    </tr>\n",
       "    <tr>\n",
       "      <th>80329</th>\n",
       "      <td>us</td>\n",
       "      <td>napa</td>\n",
       "    </tr>\n",
       "    <tr>\n",
       "      <th>80330</th>\n",
       "      <td>us</td>\n",
       "      <td>vienna</td>\n",
       "    </tr>\n",
       "    <tr>\n",
       "      <th>80331</th>\n",
       "      <td>us</td>\n",
       "      <td>edmond</td>\n",
       "    </tr>\n",
       "  </tbody>\n",
       "</table>\n",
       "<p>80331 rows × 2 columns</p>\n",
       "</div>"
      ],
      "text/plain": [
       "      country                  city\n",
       "0          us            san marcos\n",
       "1         NaN          lackland afb\n",
       "2          gb  chester (uk/england)\n",
       "3          us                  edna\n",
       "4          us               kaneohe\n",
       "...       ...                   ...\n",
       "80327      us             nashville\n",
       "80328      us                 boise\n",
       "80329      us                  napa\n",
       "80330      us                vienna\n",
       "80331      us                edmond\n",
       "\n",
       "[80331 rows x 2 columns]"
      ]
     },
     "execution_count": 54,
     "metadata": {},
     "output_type": "execute_result"
    }
   ],
   "source": [
    "df[[\"country\",\"city\"]]"
   ]
  },
  {
   "cell_type": "code",
   "execution_count": 58,
   "metadata": {},
   "outputs": [
    {
     "name": "stdout",
     "output_type": "stream",
     "text": [
      "Country:  ['us' nan 'gb' 'ca' 'au' 'de']\n",
      "city:  ['san marcos' 'lackland afb' 'chester (uk/england)' ... 'calmar (canada)'\n",
      " 'aleksandrow (poland)' 'hamstead (hollyridge)']\n"
     ]
    }
   ],
   "source": [
    "print(\"Country: \",df.country.unique())\n",
    "print(\"city: \", df.city.unique())"
   ]
  },
  {
   "cell_type": "code",
   "execution_count": 59,
   "metadata": {},
   "outputs": [
    {
     "data": {
      "text/plain": [
       "us     65114\n",
       "NaN     9670\n",
       "ca      2999\n",
       "gb      1905\n",
       "au       538\n",
       "de       105\n",
       "Name: country, dtype: int64"
      ]
     },
     "execution_count": 59,
     "metadata": {},
     "output_type": "execute_result"
    }
   ],
   "source": [
    "df.country.value_counts(dropna=False)"
   ]
  },
  {
   "cell_type": "code",
   "execution_count": 104,
   "metadata": {},
   "outputs": [
    {
     "data": {
      "text/html": [
       "<div>\n",
       "<style scoped>\n",
       "    .dataframe tbody tr th:only-of-type {\n",
       "        vertical-align: middle;\n",
       "    }\n",
       "\n",
       "    .dataframe tbody tr th {\n",
       "        vertical-align: top;\n",
       "    }\n",
       "\n",
       "    .dataframe thead th {\n",
       "        text-align: right;\n",
       "    }\n",
       "</style>\n",
       "<table border=\"1\" class=\"dataframe\">\n",
       "  <thead>\n",
       "    <tr style=\"text-align: right;\">\n",
       "      <th></th>\n",
       "      <th>datetime</th>\n",
       "      <th>city</th>\n",
       "      <th>state</th>\n",
       "      <th>country</th>\n",
       "      <th>shape</th>\n",
       "      <th>duration (seconds)</th>\n",
       "      <th>duration (hours/min)</th>\n",
       "      <th>comments</th>\n",
       "      <th>date posted</th>\n",
       "      <th>latitude</th>\n",
       "      <th>longitude</th>\n",
       "    </tr>\n",
       "  </thead>\n",
       "  <tbody>\n",
       "    <tr>\n",
       "      <th>1</th>\n",
       "      <td>10/10/1949 21:00</td>\n",
       "      <td>lackland afb</td>\n",
       "      <td>tx</td>\n",
       "      <td>NaN</td>\n",
       "      <td>light</td>\n",
       "      <td>7200</td>\n",
       "      <td>1-2 hrs</td>\n",
       "      <td>1949 Lackland AFB&amp;#44 TX.  Lights racing acros...</td>\n",
       "      <td>12/16/2005</td>\n",
       "      <td>29.38421</td>\n",
       "      <td>-98.581082</td>\n",
       "    </tr>\n",
       "    <tr>\n",
       "      <th>18</th>\n",
       "      <td>10/10/1973 23:00</td>\n",
       "      <td>bermuda nas</td>\n",
       "      <td>NaN</td>\n",
       "      <td>NaN</td>\n",
       "      <td>light</td>\n",
       "      <td>20</td>\n",
       "      <td>20 sec.</td>\n",
       "      <td>saw fast moving blip on the radar scope thin w...</td>\n",
       "      <td>1/11/2002</td>\n",
       "      <td>32.364167</td>\n",
       "      <td>-64.678611</td>\n",
       "    </tr>\n",
       "    <tr>\n",
       "      <th>29</th>\n",
       "      <td>10/10/1979 22:00</td>\n",
       "      <td>saddle lake (canada)</td>\n",
       "      <td>ab</td>\n",
       "      <td>NaN</td>\n",
       "      <td>triangle</td>\n",
       "      <td>270</td>\n",
       "      <td>4.5 or more min.</td>\n",
       "      <td>Lights far above&amp;#44  that glance; then flee f...</td>\n",
       "      <td>1/19/2005</td>\n",
       "      <td>53.970571</td>\n",
       "      <td>-111.689885</td>\n",
       "    </tr>\n",
       "    <tr>\n",
       "      <th>35</th>\n",
       "      <td>10/10/1982 07:00</td>\n",
       "      <td>gisborne (new zealand)</td>\n",
       "      <td>NaN</td>\n",
       "      <td>NaN</td>\n",
       "      <td>disk</td>\n",
       "      <td>120</td>\n",
       "      <td>2min</td>\n",
       "      <td>gisborne nz 1982 wainui beach to sponge bay</td>\n",
       "      <td>1/11/2002</td>\n",
       "      <td>-38.662334</td>\n",
       "      <td>178.017649</td>\n",
       "    </tr>\n",
       "    <tr>\n",
       "      <th>40</th>\n",
       "      <td>10/10/1986 20:00</td>\n",
       "      <td>holmes/pawling</td>\n",
       "      <td>ny</td>\n",
       "      <td>NaN</td>\n",
       "      <td>chevron</td>\n",
       "      <td>180</td>\n",
       "      <td>3 minutes</td>\n",
       "      <td>Football Field Sized Chevron with bright white...</td>\n",
       "      <td>10/8/2007</td>\n",
       "      <td>41.523427</td>\n",
       "      <td>-73.646795</td>\n",
       "    </tr>\n",
       "  </tbody>\n",
       "</table>\n",
       "</div>"
      ],
      "text/plain": [
       "            datetime                    city state country     shape  \\\n",
       "1   10/10/1949 21:00            lackland afb    tx     NaN     light   \n",
       "18  10/10/1973 23:00             bermuda nas   NaN     NaN     light   \n",
       "29  10/10/1979 22:00    saddle lake (canada)    ab     NaN  triangle   \n",
       "35  10/10/1982 07:00  gisborne (new zealand)   NaN     NaN      disk   \n",
       "40  10/10/1986 20:00          holmes/pawling    ny     NaN   chevron   \n",
       "\n",
       "   duration (seconds) duration (hours/min)  \\\n",
       "1                7200              1-2 hrs   \n",
       "18                 20              20 sec.   \n",
       "29                270     4.5 or more min.   \n",
       "35                120                 2min   \n",
       "40                180            3 minutes   \n",
       "\n",
       "                                             comments date posted    latitude  \\\n",
       "1   1949 Lackland AFB&#44 TX.  Lights racing acros...  12/16/2005    29.38421   \n",
       "18  saw fast moving blip on the radar scope thin w...   1/11/2002   32.364167   \n",
       "29  Lights far above&#44  that glance; then flee f...   1/19/2005   53.970571   \n",
       "35        gisborne nz 1982 wainui beach to sponge bay   1/11/2002  -38.662334   \n",
       "40  Football Field Sized Chevron with bright white...   10/8/2007   41.523427   \n",
       "\n",
       "     longitude   \n",
       "1    -98.581082  \n",
       "18   -64.678611  \n",
       "29  -111.689885  \n",
       "35   178.017649  \n",
       "40   -73.646795  "
      ]
     },
     "execution_count": 104,
     "metadata": {},
     "output_type": "execute_result"
    }
   ],
   "source": [
    "# None values in country column\n",
    "df[df.country.isnull()].head()"
   ]
  },
  {
   "cell_type": "code",
   "execution_count": 110,
   "metadata": {},
   "outputs": [
    {
     "data": {
      "text/html": [
       "<div>\n",
       "<style scoped>\n",
       "    .dataframe tbody tr th:only-of-type {\n",
       "        vertical-align: middle;\n",
       "    }\n",
       "\n",
       "    .dataframe tbody tr th {\n",
       "        vertical-align: top;\n",
       "    }\n",
       "\n",
       "    .dataframe thead th {\n",
       "        text-align: right;\n",
       "    }\n",
       "</style>\n",
       "<table border=\"1\" class=\"dataframe\">\n",
       "  <thead>\n",
       "    <tr style=\"text-align: right;\">\n",
       "      <th></th>\n",
       "      <th>datetime</th>\n",
       "      <th>city</th>\n",
       "      <th>state</th>\n",
       "      <th>country</th>\n",
       "      <th>shape</th>\n",
       "      <th>duration (seconds)</th>\n",
       "      <th>duration (hours/min)</th>\n",
       "      <th>comments</th>\n",
       "      <th>date posted</th>\n",
       "      <th>latitude</th>\n",
       "      <th>longitude</th>\n",
       "    </tr>\n",
       "  </thead>\n",
       "  <tbody>\n",
       "  </tbody>\n",
       "</table>\n",
       "</div>"
      ],
      "text/plain": [
       "Empty DataFrame\n",
       "Columns: [datetime, city, state, country, shape, duration (seconds), duration (hours/min), comments, date posted, latitude, longitude ]\n",
       "Index: []"
      ]
     },
     "execution_count": 110,
     "metadata": {},
     "output_type": "execute_result"
    }
   ],
   "source": [
    "df[df.city.isnull()]"
   ]
  },
  {
   "cell_type": "code",
   "execution_count": 67,
   "metadata": {},
   "outputs": [
    {
     "data": {
      "text/plain": [
       "seattle               525\n",
       "phoenix               454\n",
       "portland              374\n",
       "las vegas             368\n",
       "los angeles           353\n",
       "                     ... \n",
       "mellieha                1\n",
       "shade gap               1\n",
       "bering sea              1\n",
       "klaksvik (finland)      1\n",
       "orangeville             1\n",
       "Name: city, Length: 19900, dtype: int64"
      ]
     },
     "execution_count": 67,
     "metadata": {},
     "output_type": "execute_result"
    }
   ],
   "source": [
    "df.city.value_counts(dropna=False)"
   ]
  },
  {
   "cell_type": "code",
   "execution_count": 65,
   "metadata": {},
   "outputs": [],
   "source": [
    "# Countries with the most UFO sightings \n"
   ]
  },
  {
   "cell_type": "code",
   "execution_count": 111,
   "metadata": {},
   "outputs": [
    {
     "data": {
      "image/png": "[encoded data removed]",
      "text/plain": [
       "<Figure size 864x360 with 1 Axes>"
      ]
     },
     "metadata": {
      "needs_background": "light"
     },
     "output_type": "display_data"
    }
   ],
   "source": [
    "plt.figure(figsize=(12,5))\n",
    "plt.title(\"Countries with the most UFO sightings\")\n",
    "ax = df.country.value_counts(dropna=False).plot(kind = \"bar\")\n",
    "for p in ax.patches:\n",
    "    ax.annotate( str(p.get_height()),  (p.get_x(), p.get_height()+20));"
   ]
  },
  {
   "cell_type": "code",
   "execution_count": 115,
   "metadata": {},
   "outputs": [
    {
     "data": {
      "text/plain": [
       "ca     9655\n",
       "NaN    5797\n",
       "wa     4268\n",
       "fl     4200\n",
       "tx     3677\n",
       "       ... \n",
       "nf       25\n",
       "nt       20\n",
       "pe       17\n",
       "yt       13\n",
       "yk        7\n",
       "Name: state, Length: 68, dtype: int64"
      ]
     },
     "execution_count": 115,
     "metadata": {},
     "output_type": "execute_result"
    }
   ],
   "source": [
    "df.state.value_counts(dropna = False)"
   ]
  },
  {
   "cell_type": "markdown",
   "metadata": {},
   "source": [
    "# Shape"
   ]
  },
  {
   "cell_type": "code",
   "execution_count": 121,
   "metadata": {},
   "outputs": [
    {
     "data": {
      "text/plain": [
       "light        16565\n",
       "triangle      7865\n",
       "circle        7608\n",
       "fireball      6208\n",
       "other         5649\n",
       "unknown       5584\n",
       "sphere        5387\n",
       "disk          5213\n",
       "oval          3733\n",
       "formation     2457\n",
       "cigar         2057\n",
       "changing      1962\n",
       "NaN           1932\n",
       "flash         1328\n",
       "rectangle     1297\n",
       "cylinder      1283\n",
       "diamond       1178\n",
       "chevron        952\n",
       "egg            759\n",
       "teardrop       750\n",
       "cone           316\n",
       "cross          233\n",
       "delta            7\n",
       "crescent         2\n",
       "round            2\n",
       "changed          1\n",
       "dome             1\n",
       "flare            1\n",
       "pyramid          1\n",
       "hexagon          1\n",
       "Name: shape, dtype: int64"
      ]
     },
     "execution_count": 121,
     "metadata": {},
     "output_type": "execute_result"
    }
   ],
   "source": [
    "df['shape'].value_counts(dropna=False)"
   ]
  },
  {
   "cell_type": "code",
   "execution_count": 126,
   "metadata": {},
   "outputs": [
    {
     "data": {
      "text/plain": [
       "1932"
      ]
     },
     "execution_count": 126,
     "metadata": {},
     "output_type": "execute_result"
    }
   ],
   "source": [
    "df[\"shape\"].isnull().sum()"
   ]
  },
  {
   "cell_type": "code",
   "execution_count": 140,
   "metadata": {},
   "outputs": [
    {
     "data": {
      "text/html": [
       "<div>\n",
       "<style scoped>\n",
       "    .dataframe tbody tr th:only-of-type {\n",
       "        vertical-align: middle;\n",
       "    }\n",
       "\n",
       "    .dataframe tbody tr th {\n",
       "        vertical-align: top;\n",
       "    }\n",
       "\n",
       "    .dataframe thead th {\n",
       "        text-align: right;\n",
       "    }\n",
       "</style>\n",
       "<table border=\"1\" class=\"dataframe\">\n",
       "  <thead>\n",
       "    <tr style=\"text-align: right;\">\n",
       "      <th></th>\n",
       "      <th>datetime</th>\n",
       "      <th>city</th>\n",
       "      <th>state</th>\n",
       "      <th>country</th>\n",
       "      <th>shape</th>\n",
       "      <th>duration (seconds)</th>\n",
       "      <th>duration (hours/min)</th>\n",
       "      <th>comments</th>\n",
       "      <th>date posted</th>\n",
       "      <th>latitude</th>\n",
       "      <th>longitude</th>\n",
       "    </tr>\n",
       "  </thead>\n",
       "  <tbody>\n",
       "    <tr>\n",
       "      <th>75147</th>\n",
       "      <td>9/16/2007 03:00</td>\n",
       "      <td>san diego</td>\n",
       "      <td>ca</td>\n",
       "      <td>us</td>\n",
       "      <td>NaN</td>\n",
       "      <td>300</td>\n",
       "      <td>5 minutes</td>\n",
       "      <td>Unexplained beings hiking in the middle of the...</td>\n",
       "      <td>10/8/2007</td>\n",
       "      <td>32.7152778</td>\n",
       "      <td>-117.1563889</td>\n",
       "    </tr>\n",
       "    <tr>\n",
       "      <th>13931</th>\n",
       "      <td>11/3/1995 23:00</td>\n",
       "      <td>colton</td>\n",
       "      <td>ca</td>\n",
       "      <td>us</td>\n",
       "      <td>NaN</td>\n",
       "      <td>600</td>\n",
       "      <td>10 min.</td>\n",
       "      <td>Woman observes peculiar &amp;quot;red star&amp;quot; i...</td>\n",
       "      <td>11/2/1999</td>\n",
       "      <td>34.0738889</td>\n",
       "      <td>-117.3127778</td>\n",
       "    </tr>\n",
       "    <tr>\n",
       "      <th>42026</th>\n",
       "      <td>5/13/2000 23:00</td>\n",
       "      <td>auburn</td>\n",
       "      <td>wa</td>\n",
       "      <td>us</td>\n",
       "      <td>NaN</td>\n",
       "      <td>300</td>\n",
       "      <td>5 min.</td>\n",
       "      <td>First I saw a bright white light in the sky&amp;#4...</td>\n",
       "      <td>7/23/2000</td>\n",
       "      <td>47.3075000</td>\n",
       "      <td>-122.2272222</td>\n",
       "    </tr>\n",
       "    <tr>\n",
       "      <th>41829</th>\n",
       "      <td>5/12/1994 11:00</td>\n",
       "      <td>mitchell</td>\n",
       "      <td>or</td>\n",
       "      <td>us</td>\n",
       "      <td>NaN</td>\n",
       "      <td>2</td>\n",
       "      <td>2 sec.</td>\n",
       "      <td>Two men observed a blue/white object streak do...</td>\n",
       "      <td>11/2/1999</td>\n",
       "      <td>44.5666667</td>\n",
       "      <td>-120.1522222</td>\n",
       "    </tr>\n",
       "    <tr>\n",
       "      <th>2499</th>\n",
       "      <td>10/17/1995 21:38</td>\n",
       "      <td>crescent city</td>\n",
       "      <td>ca</td>\n",
       "      <td>us</td>\n",
       "      <td>NaN</td>\n",
       "      <td>300</td>\n",
       "      <td>5 min.</td>\n",
       "      <td>Man witnesses strange white&amp;#44 oval-shaped li...</td>\n",
       "      <td>11/2/1999</td>\n",
       "      <td>41.7561111</td>\n",
       "      <td>-124.2005556</td>\n",
       "    </tr>\n",
       "  </tbody>\n",
       "</table>\n",
       "</div>"
      ],
      "text/plain": [
       "               datetime           city state country shape duration (seconds)  \\\n",
       "75147   9/16/2007 03:00      san diego    ca      us   NaN                300   \n",
       "13931   11/3/1995 23:00         colton    ca      us   NaN                600   \n",
       "42026   5/13/2000 23:00         auburn    wa      us   NaN                300   \n",
       "41829   5/12/1994 11:00       mitchell    or      us   NaN                  2   \n",
       "2499   10/17/1995 21:38  crescent city    ca      us   NaN                300   \n",
       "\n",
       "      duration (hours/min)                                           comments  \\\n",
       "75147            5 minutes  Unexplained beings hiking in the middle of the...   \n",
       "13931              10 min.  Woman observes peculiar &quot;red star&quot; i...   \n",
       "42026               5 min.  First I saw a bright white light in the sky&#4...   \n",
       "41829               2 sec.  Two men observed a blue/white object streak do...   \n",
       "2499                5 min.  Man witnesses strange white&#44 oval-shaped li...   \n",
       "\n",
       "      date posted    latitude    longitude   \n",
       "75147   10/8/2007  32.7152778  -117.1563889  \n",
       "13931   11/2/1999  34.0738889  -117.3127778  \n",
       "42026   7/23/2000  47.3075000  -122.2272222  \n",
       "41829   11/2/1999  44.5666667  -120.1522222  \n",
       "2499    11/2/1999  41.7561111  -124.2005556  "
      ]
     },
     "execution_count": 140,
     "metadata": {},
     "output_type": "execute_result"
    }
   ],
   "source": [
    "df[df['shape'].isnull()].sample(5)"
   ]
  },
  {
   "cell_type": "code",
   "execution_count": 141,
   "metadata": {},
   "outputs": [],
   "source": [
    "df.fillna(\"unknown\",inplace=True)"
   ]
  },
  {
   "cell_type": "code",
   "execution_count": 143,
   "metadata": {},
   "outputs": [
    {
     "data": {
      "text/plain": [
       "array(['cylinder', 'light', 'circle', 'sphere', 'disk', 'fireball',\n",
       "       'unknown', 'oval', 'other', 'cigar', 'rectangle', 'chevron',\n",
       "       'triangle', 'formation', 'delta', 'changing', 'egg', 'diamond',\n",
       "       'flash', 'teardrop', 'cone', 'cross', 'pyramid', 'round',\n",
       "       'crescent', 'flare', 'hexagon', 'dome', 'changed'], dtype=object)"
      ]
     },
     "execution_count": 143,
     "metadata": {},
     "output_type": "execute_result"
    }
   ],
   "source": [
    "df['shape'].unique()"
   ]
  },
  {
   "cell_type": "code",
   "execution_count": null,
   "metadata": {},
   "outputs": [],
   "source": [
    "# Sightinh UFO by shape"
   ]
  }
 ],
 "metadata": {
  "kernelspec": {
   "display_name": "Python 3",
   "language": "python",
   "name": "python3"
  },
  "language_info": {
   "codemirror_mode": {
    "name": "ipython",
    "version": 3
   },
   "file_extension": ".py",
   "mimetype": "text/x-python",
   "name": "python",
   "nbconvert_exporter": "python",
   "pygments_lexer": "ipython3",
   "version": "3.8.5"
  }
 },
 "nbformat": 4,
 "nbformat_minor": 5
}
