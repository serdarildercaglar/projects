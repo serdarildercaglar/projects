{
 "cells": [
  {
   "cell_type": "code",
   "execution_count": 1,
   "id": "b4c5e13e",
   "metadata": {},
   "outputs": [],
   "source": [
    "import pandas as pd\n",
    "import numpy as np\n",
    "import matplotlib.pyplot as plt\n",
    "import seaborn as sns\n",
    "import missingno as msno\n",
    "import warnings\n",
    "warnings.simplefilter(action='ignore', category=FutureWarning)\n",
    "#https://www.kaggle.com/nidakapmaz/unidentified-flying-object"
   ]
  },
  {
   "cell_type": "code",
   "execution_count": 2,
   "id": "166485ac",
   "metadata": {
    "scrolled": true
   },
   "outputs": [],
   "source": [
    "df = pd.read_csv(\"scrubbed.csv\",low_memory=False)"
   ]
  },
  {
   "cell_type": "code",
   "execution_count": 3,
   "id": "653b12c8",
   "metadata": {
    "scrolled": true
   },
   "outputs": [
    {
     "data": {
      "text/html": [
       "<div>\n",
       "<style scoped>\n",
       "    .dataframe tbody tr th:only-of-type {\n",
       "        vertical-align: middle;\n",
       "    }\n",
       "\n",
       "    .dataframe tbody tr th {\n",
       "        vertical-align: top;\n",
       "    }\n",
       "\n",
       "    .dataframe thead th {\n",
       "        text-align: right;\n",
       "    }\n",
       "</style>\n",
       "<table border=\"1\" class=\"dataframe\">\n",
       "  <thead>\n",
       "    <tr style=\"text-align: right;\">\n",
       "      <th></th>\n",
       "      <th>datetime</th>\n",
       "      <th>city</th>\n",
       "      <th>state</th>\n",
       "      <th>country</th>\n",
       "      <th>shape</th>\n",
       "      <th>duration (seconds)</th>\n",
       "      <th>duration (hours/min)</th>\n",
       "      <th>comments</th>\n",
       "      <th>date posted</th>\n",
       "      <th>latitude</th>\n",
       "      <th>longitude</th>\n",
       "    </tr>\n",
       "  </thead>\n",
       "  <tbody>\n",
       "    <tr>\n",
       "      <th>0</th>\n",
       "      <td>10/10/1949 20:30</td>\n",
       "      <td>san marcos</td>\n",
       "      <td>tx</td>\n",
       "      <td>us</td>\n",
       "      <td>cylinder</td>\n",
       "      <td>2700</td>\n",
       "      <td>45 minutes</td>\n",
       "      <td>This event took place in early fall around 194...</td>\n",
       "      <td>4/27/2004</td>\n",
       "      <td>29.8830556</td>\n",
       "      <td>-97.941111</td>\n",
       "    </tr>\n",
       "    <tr>\n",
       "      <th>1</th>\n",
       "      <td>10/10/1949 21:00</td>\n",
       "      <td>lackland afb</td>\n",
       "      <td>tx</td>\n",
       "      <td>NaN</td>\n",
       "      <td>light</td>\n",
       "      <td>7200</td>\n",
       "      <td>1-2 hrs</td>\n",
       "      <td>1949 Lackland AFB&amp;#44 TX.  Lights racing acros...</td>\n",
       "      <td>12/16/2005</td>\n",
       "      <td>29.38421</td>\n",
       "      <td>-98.581082</td>\n",
       "    </tr>\n",
       "  </tbody>\n",
       "</table>\n",
       "</div>"
      ],
      "text/plain": [
       "           datetime          city state country     shape duration (seconds)  \\\n",
       "0  10/10/1949 20:30    san marcos    tx      us  cylinder               2700   \n",
       "1  10/10/1949 21:00  lackland afb    tx     NaN     light               7200   \n",
       "\n",
       "  duration (hours/min)                                           comments  \\\n",
       "0           45 minutes  This event took place in early fall around 194...   \n",
       "1              1-2 hrs  1949 Lackland AFB&#44 TX.  Lights racing acros...   \n",
       "\n",
       "  date posted    latitude  longitude   \n",
       "0   4/27/2004  29.8830556  -97.941111  \n",
       "1  12/16/2005    29.38421  -98.581082  "
      ]
     },
     "execution_count": 3,
     "metadata": {},
     "output_type": "execute_result"
    }
   ],
   "source": [
    "df.head(2)"
   ]
  },
  {
   "cell_type": "code",
   "execution_count": 4,
   "id": "214d2449",
   "metadata": {},
   "outputs": [],
   "source": [
    "# comments column contains unmeaningfull words. \n",
    "# cleaning character caused unmeaningful words\n",
    "# Different encoding types were tried. Result negative\n"
   ]
  },
  {
   "cell_type": "code",
   "execution_count": 5,
   "id": "3d31e52d",
   "metadata": {},
   "outputs": [],
   "source": [
    "df.comments = df.comments.str.replace(\"&#44\",\"\").str.replace(\"&amp\",\"\")"
   ]
  },
  {
   "cell_type": "code",
   "execution_count": 6,
   "id": "a06e9806",
   "metadata": {},
   "outputs": [
    {
     "data": {
      "text/plain": [
       "0        This event took place in early fall around 194...\n",
       "1        1949 Lackland AFB TX.  Lights racing across th...\n",
       "2          Green/Orange circular disc over Chester England\n",
       "3        My older brother and twin sister were leaving ...\n",
       "4        AS a Marine 1st Lt. flying an FJ4B fighter/att...\n",
       "                               ...                        \n",
       "80327    Round from the distance/slowly changing colors...\n",
       "80328    Boise ID spherical 20 min 10 red lights seen b...\n",
       "80329                                             Napa UFO\n",
       "80330    Saw a five gold lit cicular craft moving fastl...\n",
       "80331    2 witnesses 2  miles apart Red ; White Elongat...\n",
       "Name: comments, Length: 80332, dtype: object"
      ]
     },
     "execution_count": 6,
     "metadata": {},
     "output_type": "execute_result"
    }
   ],
   "source": [
    "df.comments"
   ]
  },
  {
   "cell_type": "code",
   "execution_count": 7,
   "id": "d22b5d9b",
   "metadata": {},
   "outputs": [
    {
     "data": {
      "text/plain": [
       "(80332, 11)"
      ]
     },
     "execution_count": 7,
     "metadata": {},
     "output_type": "execute_result"
    }
   ],
   "source": [
    "df.shape"
   ]
  },
  {
   "cell_type": "code",
   "execution_count": 8,
   "id": "3299007a",
   "metadata": {},
   "outputs": [
    {
     "name": "stdout",
     "output_type": "stream",
     "text": [
      "<class 'pandas.core.frame.DataFrame'>\n",
      "RangeIndex: 80332 entries, 0 to 80331\n",
      "Data columns (total 11 columns):\n",
      " #   Column                Non-Null Count  Dtype  \n",
      "---  ------                --------------  -----  \n",
      " 0   datetime              80332 non-null  object \n",
      " 1   city                  80332 non-null  object \n",
      " 2   state                 74535 non-null  object \n",
      " 3   country               70662 non-null  object \n",
      " 4   shape                 78400 non-null  object \n",
      " 5   duration (seconds)    80332 non-null  object \n",
      " 6   duration (hours/min)  80332 non-null  object \n",
      " 7   comments              80317 non-null  object \n",
      " 8   date posted           80332 non-null  object \n",
      " 9   latitude              80332 non-null  object \n",
      " 10  longitude             80332 non-null  float64\n",
      "dtypes: float64(1), object(10)\n",
      "memory usage: 6.7+ MB\n"
     ]
    }
   ],
   "source": [
    "df.info()"
   ]
  },
  {
   "cell_type": "code",
   "execution_count": 9,
   "id": "fd64a6b9",
   "metadata": {},
   "outputs": [
    {
     "data": {
      "text/plain": [
       "datetime                   0\n",
       "city                       0\n",
       "state                   5797\n",
       "country                 9670\n",
       "shape                   1932\n",
       "duration (seconds)         0\n",
       "duration (hours/min)       0\n",
       "comments                  15\n",
       "date posted                0\n",
       "latitude                   0\n",
       "longitude                  0\n",
       "dtype: int64"
      ]
     },
     "execution_count": 9,
     "metadata": {},
     "output_type": "execute_result"
    }
   ],
   "source": [
    "df.isnull().sum()\n",
    "# number of Null "
   ]
  },
  {
   "cell_type": "code",
   "execution_count": 10,
   "id": "38e5526c",
   "metadata": {},
   "outputs": [],
   "source": [
    "def missing (df):\n",
    "    missing_number = df.isnull().sum().sort_values(ascending=False)\n",
    "    missing_percent = (df.isnull().sum()/df.isnull().count()).sort_values(ascending=False)*100\n",
    "    missing_percent = round(missing_percent,2)\n",
    "    missing_values = pd.concat([missing_number, missing_percent], axis=1, keys=['Missing_Number', 'Missing_Percent'])\n",
    "    return missing_values"
   ]
  },
  {
   "cell_type": "code",
   "execution_count": 11,
   "id": "80fc5292",
   "metadata": {},
   "outputs": [
    {
     "data": {
      "text/plain": [
       "country                 12.037544\n",
       "state                    7.216302\n",
       "shape                    2.405019\n",
       "comments                 0.018673\n",
       "datetime                 0.000000\n",
       "city                     0.000000\n",
       "duration (seconds)       0.000000\n",
       "duration (hours/min)     0.000000\n",
       "date posted              0.000000\n",
       "latitude                 0.000000\n",
       "longitude                0.000000\n",
       "dtype: float64"
      ]
     },
     "execution_count": 11,
     "metadata": {},
     "output_type": "execute_result"
    }
   ],
   "source": [
    "(df.isnull().sum()/df.isnull().count()).sort_values(ascending=False)*100"
   ]
  },
  {
   "cell_type": "code",
   "execution_count": 12,
   "id": "c57b97eb",
   "metadata": {
    "scrolled": true
   },
   "outputs": [
    {
     "data": {
      "text/html": [
       "<div>\n",
       "<style scoped>\n",
       "    .dataframe tbody tr th:only-of-type {\n",
       "        vertical-align: middle;\n",
       "    }\n",
       "\n",
       "    .dataframe tbody tr th {\n",
       "        vertical-align: top;\n",
       "    }\n",
       "\n",
       "    .dataframe thead th {\n",
       "        text-align: right;\n",
       "    }\n",
       "</style>\n",
       "<table border=\"1\" class=\"dataframe\">\n",
       "  <thead>\n",
       "    <tr style=\"text-align: right;\">\n",
       "      <th></th>\n",
       "      <th>Missing_Number</th>\n",
       "      <th>Missing_Percent</th>\n",
       "    </tr>\n",
       "  </thead>\n",
       "  <tbody>\n",
       "    <tr>\n",
       "      <th>country</th>\n",
       "      <td>9670</td>\n",
       "      <td>12.04</td>\n",
       "    </tr>\n",
       "    <tr>\n",
       "      <th>state</th>\n",
       "      <td>5797</td>\n",
       "      <td>7.22</td>\n",
       "    </tr>\n",
       "    <tr>\n",
       "      <th>shape</th>\n",
       "      <td>1932</td>\n",
       "      <td>2.41</td>\n",
       "    </tr>\n",
       "    <tr>\n",
       "      <th>comments</th>\n",
       "      <td>15</td>\n",
       "      <td>0.02</td>\n",
       "    </tr>\n",
       "    <tr>\n",
       "      <th>datetime</th>\n",
       "      <td>0</td>\n",
       "      <td>0.00</td>\n",
       "    </tr>\n",
       "    <tr>\n",
       "      <th>city</th>\n",
       "      <td>0</td>\n",
       "      <td>0.00</td>\n",
       "    </tr>\n",
       "    <tr>\n",
       "      <th>duration (seconds)</th>\n",
       "      <td>0</td>\n",
       "      <td>0.00</td>\n",
       "    </tr>\n",
       "    <tr>\n",
       "      <th>duration (hours/min)</th>\n",
       "      <td>0</td>\n",
       "      <td>0.00</td>\n",
       "    </tr>\n",
       "    <tr>\n",
       "      <th>date posted</th>\n",
       "      <td>0</td>\n",
       "      <td>0.00</td>\n",
       "    </tr>\n",
       "    <tr>\n",
       "      <th>latitude</th>\n",
       "      <td>0</td>\n",
       "      <td>0.00</td>\n",
       "    </tr>\n",
       "    <tr>\n",
       "      <th>longitude</th>\n",
       "      <td>0</td>\n",
       "      <td>0.00</td>\n",
       "    </tr>\n",
       "  </tbody>\n",
       "</table>\n",
       "</div>"
      ],
      "text/plain": [
       "                      Missing_Number  Missing_Percent\n",
       "country                         9670            12.04\n",
       "state                           5797             7.22\n",
       "shape                           1932             2.41\n",
       "comments                          15             0.02\n",
       "datetime                           0             0.00\n",
       "city                               0             0.00\n",
       "duration (seconds)                 0             0.00\n",
       "duration (hours/min)               0             0.00\n",
       "date posted                        0             0.00\n",
       "latitude                           0             0.00\n",
       "longitude                          0             0.00"
      ]
     },
     "execution_count": 12,
     "metadata": {},
     "output_type": "execute_result"
    }
   ],
   "source": [
    "missing(df)"
   ]
  },
  {
   "cell_type": "code",
   "execution_count": 13,
   "id": "a569b6f9",
   "metadata": {},
   "outputs": [
    {
     "data": {
      "image/png": "[encoded data removed]",
      "text/plain": [
       "<Figure size 1800x720 with 3 Axes>"
      ]
     },
     "metadata": {
      "needs_background": "light"
     },
     "output_type": "display_data"
    }
   ],
   "source": [
    "msno.bar(df);"
   ]
  },
  {
   "cell_type": "code",
   "execution_count": 14,
   "id": "f978eb9d",
   "metadata": {},
   "outputs": [
    {
     "data": {
      "image/png": "[encoded data removed]",
      "text/plain": [
       "<Figure size 1800x720 with 2 Axes>"
      ]
     },
     "metadata": {
      "needs_background": "light"
     },
     "output_type": "display_data"
    }
   ],
   "source": [
    "msno.matrix(df);"
   ]
  },
  {
   "cell_type": "code",
   "execution_count": 15,
   "id": "2e2be88c",
   "metadata": {},
   "outputs": [
    {
     "data": {
      "image/png": "[encoded data removed]",
      "text/plain": [
       "<Figure size 1440x864 with 2 Axes>"
      ]
     },
     "metadata": {
      "needs_background": "light"
     },
     "output_type": "display_data"
    }
   ],
   "source": [
    "msno.heatmap(df);"
   ]
  },
  {
   "cell_type": "code",
   "execution_count": 16,
   "id": "3f0524ae",
   "metadata": {},
   "outputs": [
    {
     "data": {
      "image/png": "[encoded data removed]",
      "text/plain": [
       "<Figure size 1800x720 with 1 Axes>"
      ]
     },
     "metadata": {
      "needs_background": "light"
     },
     "output_type": "display_data"
    }
   ],
   "source": [
    "msno.dendrogram(df);"
   ]
  },
  {
   "cell_type": "code",
   "execution_count": 17,
   "id": "bee99d91",
   "metadata": {},
   "outputs": [
    {
     "name": "stdout",
     "output_type": "stream",
     "text": [
      "(80331, 11)\n"
     ]
    }
   ],
   "source": [
    "df.drop_duplicates(inplace=True)\n",
    "print(df.shape)"
   ]
  },
  {
   "cell_type": "code",
   "execution_count": 18,
   "id": "5d5ebe61",
   "metadata": {},
   "outputs": [],
   "source": [
    "# let's checkthe data column by columns"
   ]
  },
  {
   "cell_type": "code",
   "execution_count": 19,
   "id": "26f7796d",
   "metadata": {},
   "outputs": [
    {
     "data": {
      "text/plain": [
       "(80331, 11)"
      ]
     },
     "execution_count": 19,
     "metadata": {},
     "output_type": "execute_result"
    }
   ],
   "source": [
    "df.shape"
   ]
  },
  {
   "cell_type": "code",
   "execution_count": 20,
   "id": "29c15e6b",
   "metadata": {},
   "outputs": [
    {
     "data": {
      "text/plain": [
       "['datetime',\n",
       " 'city',\n",
       " 'state',\n",
       " 'country',\n",
       " 'shape',\n",
       " 'duration (seconds)',\n",
       " 'duration (hours/min)',\n",
       " 'comments',\n",
       " 'date posted',\n",
       " 'latitude',\n",
       " 'longitude ']"
      ]
     },
     "execution_count": 20,
     "metadata": {},
     "output_type": "execute_result"
    }
   ],
   "source": [
    "column_list = df.columns.to_list()\n",
    "column_list"
   ]
  },
  {
   "cell_type": "markdown",
   "id": "b6f6eede",
   "metadata": {},
   "source": [
    "# datetime"
   ]
  },
  {
   "cell_type": "code",
   "execution_count": 21,
   "id": "e6ad6dc8",
   "metadata": {},
   "outputs": [
    {
     "data": {
      "text/html": [
       "<div>\n",
       "<style scoped>\n",
       "    .dataframe tbody tr th:only-of-type {\n",
       "        vertical-align: middle;\n",
       "    }\n",
       "\n",
       "    .dataframe tbody tr th {\n",
       "        vertical-align: top;\n",
       "    }\n",
       "\n",
       "    .dataframe thead th {\n",
       "        text-align: right;\n",
       "    }\n",
       "</style>\n",
       "<table border=\"1\" class=\"dataframe\">\n",
       "  <thead>\n",
       "    <tr style=\"text-align: right;\">\n",
       "      <th></th>\n",
       "      <th>datetime</th>\n",
       "    </tr>\n",
       "  </thead>\n",
       "  <tbody>\n",
       "    <tr>\n",
       "      <th>0</th>\n",
       "      <td>10/10/1949 20:30</td>\n",
       "    </tr>\n",
       "    <tr>\n",
       "      <th>1</th>\n",
       "      <td>10/10/1949 21:00</td>\n",
       "    </tr>\n",
       "    <tr>\n",
       "      <th>2</th>\n",
       "      <td>10/10/1955 17:00</td>\n",
       "    </tr>\n",
       "    <tr>\n",
       "      <th>3</th>\n",
       "      <td>10/10/1956 21:00</td>\n",
       "    </tr>\n",
       "    <tr>\n",
       "      <th>4</th>\n",
       "      <td>10/10/1960 20:00</td>\n",
       "    </tr>\n",
       "    <tr>\n",
       "      <th>...</th>\n",
       "      <td>...</td>\n",
       "    </tr>\n",
       "    <tr>\n",
       "      <th>80327</th>\n",
       "      <td>9/9/2013 21:15</td>\n",
       "    </tr>\n",
       "    <tr>\n",
       "      <th>80328</th>\n",
       "      <td>9/9/2013 22:00</td>\n",
       "    </tr>\n",
       "    <tr>\n",
       "      <th>80329</th>\n",
       "      <td>9/9/2013 22:00</td>\n",
       "    </tr>\n",
       "    <tr>\n",
       "      <th>80330</th>\n",
       "      <td>9/9/2013 22:20</td>\n",
       "    </tr>\n",
       "    <tr>\n",
       "      <th>80331</th>\n",
       "      <td>9/9/2013 23:00</td>\n",
       "    </tr>\n",
       "  </tbody>\n",
       "</table>\n",
       "<p>80331 rows × 1 columns</p>\n",
       "</div>"
      ],
      "text/plain": [
       "               datetime\n",
       "0      10/10/1949 20:30\n",
       "1      10/10/1949 21:00\n",
       "2      10/10/1955 17:00\n",
       "3      10/10/1956 21:00\n",
       "4      10/10/1960 20:00\n",
       "...                 ...\n",
       "80327    9/9/2013 21:15\n",
       "80328    9/9/2013 22:00\n",
       "80329    9/9/2013 22:00\n",
       "80330    9/9/2013 22:20\n",
       "80331    9/9/2013 23:00\n",
       "\n",
       "[80331 rows x 1 columns]"
      ]
     },
     "execution_count": 21,
     "metadata": {},
     "output_type": "execute_result"
    }
   ],
   "source": [
    "df[['datetime']]"
   ]
  },
  {
   "cell_type": "code",
   "execution_count": 22,
   "id": "79986333",
   "metadata": {},
   "outputs": [
    {
     "data": {
      "text/plain": [
       "14995     11/5/2009 05:00\n",
       "7150      10/8/2011 21:10\n",
       "17778    12/12/2011 01:00\n",
       "76931     9/22/2005 21:00\n",
       "4920     10/27/2009 22:45\n",
       "Name: datetime, dtype: object"
      ]
     },
     "execution_count": 22,
     "metadata": {},
     "output_type": "execute_result"
    }
   ],
   "source": [
    "df.datetime.sample(5)"
   ]
  },
  {
   "cell_type": "code",
   "execution_count": 23,
   "id": "a52555a2",
   "metadata": {},
   "outputs": [],
   "source": [
    "# df.datetime = pd.to_datetime(df.datetime)\n",
    "# the code written above give error because of time format.\n",
    "# time format can not be 24:00 so time need to be edited"
   ]
  },
  {
   "cell_type": "code",
   "execution_count": 24,
   "id": "b8849b66",
   "metadata": {},
   "outputs": [],
   "source": [
    "df.datetime = df.datetime.map(lambda x: \"00:00\" if \"24:00\" in x else x )\n",
    "# time format replaced from 24:00 to 00:00"
   ]
  },
  {
   "cell_type": "code",
   "execution_count": 25,
   "id": "5d841e3e",
   "metadata": {},
   "outputs": [],
   "source": [
    "df.datetime = pd.to_datetime(df.datetime)"
   ]
  },
  {
   "cell_type": "code",
   "execution_count": 26,
   "id": "4ff9c5d4",
   "metadata": {
    "scrolled": true
   },
   "outputs": [
    {
     "data": {
      "text/plain": [
       "dtype('<M8[ns]')"
      ]
     },
     "execution_count": 26,
     "metadata": {},
     "output_type": "execute_result"
    }
   ],
   "source": [
    "df.datetime.dtype"
   ]
  },
  {
   "cell_type": "code",
   "execution_count": 27,
   "id": "e06597a3",
   "metadata": {},
   "outputs": [],
   "source": [
    "# split date and time"
   ]
  },
  {
   "cell_type": "code",
   "execution_count": 28,
   "id": "0f3092ef",
   "metadata": {},
   "outputs": [
    {
     "data": {
      "text/plain": [
       "2012    7308\n",
       "2013    6991\n",
       "2011    5077\n",
       "2008    4777\n",
       "2009    4508\n",
       "        ... \n",
       "1920       1\n",
       "1906       1\n",
       "1933       1\n",
       "1925       1\n",
       "1934       1\n",
       "Name: datetime, Length: 88, dtype: int64"
      ]
     },
     "execution_count": 28,
     "metadata": {},
     "output_type": "execute_result"
    }
   ],
   "source": [
    "df.datetime.dt.year.value_counts()\n",
    "# UFO sightings by year \n"
   ]
  },
  {
   "cell_type": "code",
   "execution_count": 29,
   "id": "e53ff5a8",
   "metadata": {
    "scrolled": true
   },
   "outputs": [
    {
     "data": {
      "image/png": "[encoded data removed]",
      "text/plain": [
       "<Figure size 864x432 with 1 Axes>"
      ]
     },
     "metadata": {
      "needs_background": "light"
     },
     "output_type": "display_data"
    }
   ],
   "source": [
    "plt.figure(figsize=(12,6))\n",
    "plt.title(\"UFO sightings by year \")\n",
    "plt.xlabel(\"Years\")\n",
    "plt.ylabel(\"number of sighting\")\n",
    "df.datetime.dt.year.value_counts().plot(kind = \"line\");\n",
    "\n",
    "\n"
   ]
  },
  {
   "cell_type": "code",
   "execution_count": 30,
   "id": "5ac1cd70",
   "metadata": {
    "scrolled": true
   },
   "outputs": [
    {
     "data": {
      "image/png": "[encoded data removed]",
      "text/plain": [
       "<Figure size 1080x576 with 1 Axes>"
      ]
     },
     "metadata": {
      "needs_background": "light"
     },
     "output_type": "display_data"
    }
   ],
   "source": [
    "\n",
    "years_data = df.datetime.dt.year.value_counts()\n",
    "years_index = years_data.index  \n",
    "years_values = years_data.values\n",
    "plt.figure(figsize=(15,8))\n",
    "plt.grid(color='r', linestyle='-', linewidth=2)\n",
    "plt.xticks(rotation = 60)\n",
    "plt.title('UFO Sightings since 1943', fontsize=18)\n",
    "plt.xlabel(\"Year\", fontsize=14)\n",
    "plt.ylabel(\"Number of reports\", fontsize=14)\n",
    "years_plot = sns.barplot(x=years_index[:80],y=years_values[:80], palette = \"Blues_d\")\n",
    "\n"
   ]
  },
  {
   "cell_type": "code",
   "execution_count": 31,
   "id": "ff86e1e7",
   "metadata": {},
   "outputs": [
    {
     "data": {
      "image/png": "[encoded data removed]",
      "text/plain": [
       "<Figure size 1080x576 with 1 Axes>"
      ]
     },
     "metadata": {
      "needs_background": "light"
     },
     "output_type": "display_data"
    }
   ],
   "source": [
    "plt.figure(figsize=(15,8))\n",
    "plt.title(\"Ufo Sighting by months of year\")\n",
    "ax = sns.countplot(df.datetime.dt.month)\n",
    "ax.set(xlabel='months', ylabel='number of sights')\n",
    "\n",
    "plt.annotate('numbers are cumulative and 1 = \"January\"', (0,0), (0, -20), xycoords='axes fraction', textcoords='offset points', va='top')\n",
    "\n",
    "for p in ax.patches:\n",
    "    ax.annotate( str(p.get_height()),  (p.get_x(), p.get_height()+20));"
   ]
  },
  {
   "cell_type": "code",
   "execution_count": 32,
   "id": "b19b8680",
   "metadata": {
    "scrolled": true
   },
   "outputs": [
    {
     "data": {
      "image/png": "[encoded data removed]",
      "text/plain": [
       "<Figure size 1080x576 with 1 Axes>"
      ]
     },
     "metadata": {
      "needs_background": "light"
     },
     "output_type": "display_data"
    }
   ],
   "source": [
    "plt.figure(figsize=(15,8))\n",
    "\n",
    "ax = sns.countplot(df.datetime.dt.day)\n",
    "plt.title(\"UFO Sighting by Day\")\n",
    "ax.set(xlabel = \"day of month\", ylabel = \"sighting number\")\n",
    "for p in ax.patches:\n",
    "    ax.annotate( str(p.get_height()),  (p.get_x(), p.get_height()+20));\n"
   ]
  },
  {
   "cell_type": "markdown",
   "id": "581a9d55",
   "metadata": {},
   "source": [
    "# country & city"
   ]
  },
  {
   "cell_type": "code",
   "execution_count": 33,
   "id": "1cc2ac47",
   "metadata": {},
   "outputs": [
    {
     "data": {
      "text/html": [
       "<div>\n",
       "<style scoped>\n",
       "    .dataframe tbody tr th:only-of-type {\n",
       "        vertical-align: middle;\n",
       "    }\n",
       "\n",
       "    .dataframe tbody tr th {\n",
       "        vertical-align: top;\n",
       "    }\n",
       "\n",
       "    .dataframe thead th {\n",
       "        text-align: right;\n",
       "    }\n",
       "</style>\n",
       "<table border=\"1\" class=\"dataframe\">\n",
       "  <thead>\n",
       "    <tr style=\"text-align: right;\">\n",
       "      <th></th>\n",
       "      <th>country</th>\n",
       "      <th>city</th>\n",
       "    </tr>\n",
       "  </thead>\n",
       "  <tbody>\n",
       "    <tr>\n",
       "      <th>0</th>\n",
       "      <td>us</td>\n",
       "      <td>san marcos</td>\n",
       "    </tr>\n",
       "    <tr>\n",
       "      <th>1</th>\n",
       "      <td>NaN</td>\n",
       "      <td>lackland afb</td>\n",
       "    </tr>\n",
       "    <tr>\n",
       "      <th>2</th>\n",
       "      <td>gb</td>\n",
       "      <td>chester (uk/england)</td>\n",
       "    </tr>\n",
       "    <tr>\n",
       "      <th>3</th>\n",
       "      <td>us</td>\n",
       "      <td>edna</td>\n",
       "    </tr>\n",
       "    <tr>\n",
       "      <th>4</th>\n",
       "      <td>us</td>\n",
       "      <td>kaneohe</td>\n",
       "    </tr>\n",
       "    <tr>\n",
       "      <th>...</th>\n",
       "      <td>...</td>\n",
       "      <td>...</td>\n",
       "    </tr>\n",
       "    <tr>\n",
       "      <th>80327</th>\n",
       "      <td>us</td>\n",
       "      <td>nashville</td>\n",
       "    </tr>\n",
       "    <tr>\n",
       "      <th>80328</th>\n",
       "      <td>us</td>\n",
       "      <td>boise</td>\n",
       "    </tr>\n",
       "    <tr>\n",
       "      <th>80329</th>\n",
       "      <td>us</td>\n",
       "      <td>napa</td>\n",
       "    </tr>\n",
       "    <tr>\n",
       "      <th>80330</th>\n",
       "      <td>us</td>\n",
       "      <td>vienna</td>\n",
       "    </tr>\n",
       "    <tr>\n",
       "      <th>80331</th>\n",
       "      <td>us</td>\n",
       "      <td>edmond</td>\n",
       "    </tr>\n",
       "  </tbody>\n",
       "</table>\n",
       "<p>80331 rows × 2 columns</p>\n",
       "</div>"
      ],
      "text/plain": [
       "      country                  city\n",
       "0          us            san marcos\n",
       "1         NaN          lackland afb\n",
       "2          gb  chester (uk/england)\n",
       "3          us                  edna\n",
       "4          us               kaneohe\n",
       "...       ...                   ...\n",
       "80327      us             nashville\n",
       "80328      us                 boise\n",
       "80329      us                  napa\n",
       "80330      us                vienna\n",
       "80331      us                edmond\n",
       "\n",
       "[80331 rows x 2 columns]"
      ]
     },
     "execution_count": 33,
     "metadata": {},
     "output_type": "execute_result"
    }
   ],
   "source": [
    "df[[\"country\",\"city\"]]"
   ]
  },
  {
   "cell_type": "code",
   "execution_count": 34,
   "id": "716af255",
   "metadata": {},
   "outputs": [
    {
     "name": "stdout",
     "output_type": "stream",
     "text": [
      "Country:  ['us' nan 'gb' 'ca' 'au' 'de']\n",
      "city:  ['san marcos' 'lackland afb' 'chester (uk/england)' ... 'calmar (canada)'\n",
      " 'aleksandrow (poland)' 'hamstead (hollyridge)']\n"
     ]
    }
   ],
   "source": [
    "print(\"Country: \",df.country.unique())\n",
    "print(\"city: \", df.city.unique())"
   ]
  },
  {
   "cell_type": "code",
   "execution_count": 35,
   "id": "cfda71f4",
   "metadata": {},
   "outputs": [
    {
     "data": {
      "text/plain": [
       "us     65114\n",
       "NaN     9670\n",
       "ca      2999\n",
       "gb      1905\n",
       "au       538\n",
       "de       105\n",
       "Name: country, dtype: int64"
      ]
     },
     "execution_count": 35,
     "metadata": {},
     "output_type": "execute_result"
    }
   ],
   "source": [
    "df.country.value_counts(dropna=False)"
   ]
  },
  {
   "cell_type": "code",
   "execution_count": 36,
   "id": "9606dd06",
   "metadata": {},
   "outputs": [
    {
     "data": {
      "text/html": [
       "<div>\n",
       "<style scoped>\n",
       "    .dataframe tbody tr th:only-of-type {\n",
       "        vertical-align: middle;\n",
       "    }\n",
       "\n",
       "    .dataframe tbody tr th {\n",
       "        vertical-align: top;\n",
       "    }\n",
       "\n",
       "    .dataframe thead th {\n",
       "        text-align: right;\n",
       "    }\n",
       "</style>\n",
       "<table border=\"1\" class=\"dataframe\">\n",
       "  <thead>\n",
       "    <tr style=\"text-align: right;\">\n",
       "      <th></th>\n",
       "      <th>datetime</th>\n",
       "      <th>city</th>\n",
       "      <th>state</th>\n",
       "      <th>country</th>\n",
       "      <th>shape</th>\n",
       "      <th>duration (seconds)</th>\n",
       "      <th>duration (hours/min)</th>\n",
       "      <th>comments</th>\n",
       "      <th>date posted</th>\n",
       "      <th>latitude</th>\n",
       "      <th>longitude</th>\n",
       "    </tr>\n",
       "  </thead>\n",
       "  <tbody>\n",
       "    <tr>\n",
       "      <th>1</th>\n",
       "      <td>1949-10-10 21:00:00</td>\n",
       "      <td>lackland afb</td>\n",
       "      <td>tx</td>\n",
       "      <td>NaN</td>\n",
       "      <td>light</td>\n",
       "      <td>7200</td>\n",
       "      <td>1-2 hrs</td>\n",
       "      <td>1949 Lackland AFB TX.  Lights racing across th...</td>\n",
       "      <td>12/16/2005</td>\n",
       "      <td>29.38421</td>\n",
       "      <td>-98.581082</td>\n",
       "    </tr>\n",
       "    <tr>\n",
       "      <th>18</th>\n",
       "      <td>1973-10-10 23:00:00</td>\n",
       "      <td>bermuda nas</td>\n",
       "      <td>NaN</td>\n",
       "      <td>NaN</td>\n",
       "      <td>light</td>\n",
       "      <td>20</td>\n",
       "      <td>20 sec.</td>\n",
       "      <td>saw fast moving blip on the radar scope thin w...</td>\n",
       "      <td>1/11/2002</td>\n",
       "      <td>32.364167</td>\n",
       "      <td>-64.678611</td>\n",
       "    </tr>\n",
       "    <tr>\n",
       "      <th>29</th>\n",
       "      <td>1979-10-10 22:00:00</td>\n",
       "      <td>saddle lake (canada)</td>\n",
       "      <td>ab</td>\n",
       "      <td>NaN</td>\n",
       "      <td>triangle</td>\n",
       "      <td>270</td>\n",
       "      <td>4.5 or more min.</td>\n",
       "      <td>Lights far above  that glance; then flee from ...</td>\n",
       "      <td>1/19/2005</td>\n",
       "      <td>53.970571</td>\n",
       "      <td>-111.689885</td>\n",
       "    </tr>\n",
       "    <tr>\n",
       "      <th>35</th>\n",
       "      <td>1982-10-10 07:00:00</td>\n",
       "      <td>gisborne (new zealand)</td>\n",
       "      <td>NaN</td>\n",
       "      <td>NaN</td>\n",
       "      <td>disk</td>\n",
       "      <td>120</td>\n",
       "      <td>2min</td>\n",
       "      <td>gisborne nz 1982 wainui beach to sponge bay</td>\n",
       "      <td>1/11/2002</td>\n",
       "      <td>-38.662334</td>\n",
       "      <td>178.017649</td>\n",
       "    </tr>\n",
       "    <tr>\n",
       "      <th>40</th>\n",
       "      <td>1986-10-10 20:00:00</td>\n",
       "      <td>holmes/pawling</td>\n",
       "      <td>ny</td>\n",
       "      <td>NaN</td>\n",
       "      <td>chevron</td>\n",
       "      <td>180</td>\n",
       "      <td>3 minutes</td>\n",
       "      <td>Football Field Sized Chevron with bright white...</td>\n",
       "      <td>10/8/2007</td>\n",
       "      <td>41.523427</td>\n",
       "      <td>-73.646795</td>\n",
       "    </tr>\n",
       "  </tbody>\n",
       "</table>\n",
       "</div>"
      ],
      "text/plain": [
       "              datetime                    city state country     shape  \\\n",
       "1  1949-10-10 21:00:00            lackland afb    tx     NaN     light   \n",
       "18 1973-10-10 23:00:00             bermuda nas   NaN     NaN     light   \n",
       "29 1979-10-10 22:00:00    saddle lake (canada)    ab     NaN  triangle   \n",
       "35 1982-10-10 07:00:00  gisborne (new zealand)   NaN     NaN      disk   \n",
       "40 1986-10-10 20:00:00          holmes/pawling    ny     NaN   chevron   \n",
       "\n",
       "   duration (seconds) duration (hours/min)  \\\n",
       "1                7200              1-2 hrs   \n",
       "18                 20              20 sec.   \n",
       "29                270     4.5 or more min.   \n",
       "35                120                 2min   \n",
       "40                180            3 minutes   \n",
       "\n",
       "                                             comments date posted    latitude  \\\n",
       "1   1949 Lackland AFB TX.  Lights racing across th...  12/16/2005    29.38421   \n",
       "18  saw fast moving blip on the radar scope thin w...   1/11/2002   32.364167   \n",
       "29  Lights far above  that glance; then flee from ...   1/19/2005   53.970571   \n",
       "35        gisborne nz 1982 wainui beach to sponge bay   1/11/2002  -38.662334   \n",
       "40  Football Field Sized Chevron with bright white...   10/8/2007   41.523427   \n",
       "\n",
       "    longitude   \n",
       "1   -98.581082  \n",
       "18  -64.678611  \n",
       "29 -111.689885  \n",
       "35  178.017649  \n",
       "40  -73.646795  "
      ]
     },
     "execution_count": 36,
     "metadata": {},
     "output_type": "execute_result"
    }
   ],
   "source": [
    "# None values in country column\n",
    "df[df.country.isnull()].head()"
   ]
  },
  {
   "cell_type": "code",
   "execution_count": 37,
   "id": "e45600ae",
   "metadata": {},
   "outputs": [
    {
     "data": {
      "text/html": [
       "<div>\n",
       "<style scoped>\n",
       "    .dataframe tbody tr th:only-of-type {\n",
       "        vertical-align: middle;\n",
       "    }\n",
       "\n",
       "    .dataframe tbody tr th {\n",
       "        vertical-align: top;\n",
       "    }\n",
       "\n",
       "    .dataframe thead th {\n",
       "        text-align: right;\n",
       "    }\n",
       "</style>\n",
       "<table border=\"1\" class=\"dataframe\">\n",
       "  <thead>\n",
       "    <tr style=\"text-align: right;\">\n",
       "      <th></th>\n",
       "      <th>datetime</th>\n",
       "      <th>city</th>\n",
       "      <th>state</th>\n",
       "      <th>country</th>\n",
       "      <th>shape</th>\n",
       "      <th>duration (seconds)</th>\n",
       "      <th>duration (hours/min)</th>\n",
       "      <th>comments</th>\n",
       "      <th>date posted</th>\n",
       "      <th>latitude</th>\n",
       "      <th>longitude</th>\n",
       "    </tr>\n",
       "  </thead>\n",
       "  <tbody>\n",
       "  </tbody>\n",
       "</table>\n",
       "</div>"
      ],
      "text/plain": [
       "Empty DataFrame\n",
       "Columns: [datetime, city, state, country, shape, duration (seconds), duration (hours/min), comments, date posted, latitude, longitude ]\n",
       "Index: []"
      ]
     },
     "execution_count": 37,
     "metadata": {},
     "output_type": "execute_result"
    }
   ],
   "source": [
    "df[df.city.isnull()]"
   ]
  },
  {
   "cell_type": "code",
   "execution_count": 38,
   "id": "bc5b5906",
   "metadata": {},
   "outputs": [
    {
     "data": {
      "text/plain": [
       "seattle                                  525\n",
       "phoenix                                  454\n",
       "portland                                 374\n",
       "las vegas                                368\n",
       "los angeles                              353\n",
       "                                        ... \n",
       "walsenburg                                 1\n",
       "playa del cura (grand canaria island)      1\n",
       "livermore/pleasonton (area)                1\n",
       "hamburg (germany)                          1\n",
       "hamstead (hollyridge)                      1\n",
       "Name: city, Length: 19900, dtype: int64"
      ]
     },
     "execution_count": 38,
     "metadata": {},
     "output_type": "execute_result"
    }
   ],
   "source": [
    "df.city.value_counts(dropna=False)"
   ]
  },
  {
   "cell_type": "code",
   "execution_count": 39,
   "id": "ebd5b0ce",
   "metadata": {},
   "outputs": [],
   "source": [
    "# Countries with the most UFO sightings \n"
   ]
  },
  {
   "cell_type": "code",
   "execution_count": 40,
   "id": "53479296",
   "metadata": {},
   "outputs": [
    {
     "data": {
      "image/png": "[encoded data removed]",
      "text/plain": [
       "<Figure size 864x360 with 1 Axes>"
      ]
     },
     "metadata": {
      "needs_background": "light"
     },
     "output_type": "display_data"
    }
   ],
   "source": [
    "plt.figure(figsize=(12,5))\n",
    "plt.title(\"Countries with the most UFO sightings\")\n",
    "ax = df.country.value_counts(dropna=False).plot(kind = \"bar\")\n",
    "for p in ax.patches:\n",
    "    ax.annotate( str(p.get_height()),  (p.get_x(), p.get_height()+20));"
   ]
  },
  {
   "cell_type": "code",
   "execution_count": 41,
   "id": "54641768",
   "metadata": {},
   "outputs": [
    {
     "data": {
      "text/plain": [
       "ca     9655\n",
       "NaN    5797\n",
       "wa     4268\n",
       "fl     4200\n",
       "tx     3677\n",
       "       ... \n",
       "nf       25\n",
       "nt       20\n",
       "pe       17\n",
       "yt       13\n",
       "yk        7\n",
       "Name: state, Length: 68, dtype: int64"
      ]
     },
     "execution_count": 41,
     "metadata": {},
     "output_type": "execute_result"
    }
   ],
   "source": [
    "df.state.value_counts(dropna = False)"
   ]
  },
  {
   "cell_type": "markdown",
   "id": "ecb05f1d",
   "metadata": {},
   "source": [
    "# Shape"
   ]
  },
  {
   "cell_type": "code",
   "execution_count": 42,
   "id": "7f3d1aac",
   "metadata": {},
   "outputs": [
    {
     "data": {
      "text/plain": [
       "light        16565\n",
       "triangle      7865\n",
       "circle        7608\n",
       "fireball      6208\n",
       "other         5649\n",
       "unknown       5584\n",
       "sphere        5386\n",
       "disk          5213\n",
       "oval          3733\n",
       "formation     2457\n",
       "cigar         2057\n",
       "changing      1962\n",
       "NaN           1932\n",
       "flash         1328\n",
       "rectangle     1297\n",
       "cylinder      1283\n",
       "diamond       1178\n",
       "chevron        952\n",
       "egg            759\n",
       "teardrop       750\n",
       "cone           316\n",
       "cross          233\n",
       "delta            7\n",
       "round            2\n",
       "crescent         2\n",
       "pyramid          1\n",
       "flare            1\n",
       "hexagon          1\n",
       "dome             1\n",
       "changed          1\n",
       "Name: shape, dtype: int64"
      ]
     },
     "execution_count": 42,
     "metadata": {},
     "output_type": "execute_result"
    }
   ],
   "source": [
    "df['shape'].value_counts(dropna=False)"
   ]
  },
  {
   "cell_type": "code",
   "execution_count": 43,
   "id": "688f610a",
   "metadata": {},
   "outputs": [
    {
     "data": {
      "text/plain": [
       "1932"
      ]
     },
     "execution_count": 43,
     "metadata": {},
     "output_type": "execute_result"
    }
   ],
   "source": [
    "df[\"shape\"].isnull().sum()"
   ]
  },
  {
   "cell_type": "code",
   "execution_count": 44,
   "id": "6759526d",
   "metadata": {},
   "outputs": [
    {
     "data": {
      "text/html": [
       "<div>\n",
       "<style scoped>\n",
       "    .dataframe tbody tr th:only-of-type {\n",
       "        vertical-align: middle;\n",
       "    }\n",
       "\n",
       "    .dataframe tbody tr th {\n",
       "        vertical-align: top;\n",
       "    }\n",
       "\n",
       "    .dataframe thead th {\n",
       "        text-align: right;\n",
       "    }\n",
       "</style>\n",
       "<table border=\"1\" class=\"dataframe\">\n",
       "  <thead>\n",
       "    <tr style=\"text-align: right;\">\n",
       "      <th></th>\n",
       "      <th>datetime</th>\n",
       "      <th>city</th>\n",
       "      <th>state</th>\n",
       "      <th>country</th>\n",
       "      <th>shape</th>\n",
       "      <th>duration (seconds)</th>\n",
       "      <th>duration (hours/min)</th>\n",
       "      <th>comments</th>\n",
       "      <th>date posted</th>\n",
       "      <th>latitude</th>\n",
       "      <th>longitude</th>\n",
       "    </tr>\n",
       "  </thead>\n",
       "  <tbody>\n",
       "    <tr>\n",
       "      <th>54875</th>\n",
       "      <td>2013-07-10 06:00:00</td>\n",
       "      <td>miami</td>\n",
       "      <td>fl</td>\n",
       "      <td>us</td>\n",
       "      <td>NaN</td>\n",
       "      <td>5</td>\n",
       "      <td>5 seconds</td>\n",
       "      <td>To whom it may Concern  I work in Miami Florid...</td>\n",
       "      <td>7/22/2013</td>\n",
       "      <td>25.7738889</td>\n",
       "      <td>-80.193889</td>\n",
       "    </tr>\n",
       "    <tr>\n",
       "      <th>60752</th>\n",
       "      <td>1995-07-30 22:45:00</td>\n",
       "      <td>san fernando</td>\n",
       "      <td>ca</td>\n",
       "      <td>us</td>\n",
       "      <td>NaN</td>\n",
       "      <td>1800</td>\n",
       "      <td>30 min.</td>\n",
       "      <td>Second call from two men witnessing multiple c...</td>\n",
       "      <td>11/2/1999</td>\n",
       "      <td>34.2819444</td>\n",
       "      <td>-118.438056</td>\n",
       "    </tr>\n",
       "    <tr>\n",
       "      <th>34340</th>\n",
       "      <td>2004-03-31 23:00:00</td>\n",
       "      <td>inkerman/tracadie (canada)</td>\n",
       "      <td>nb</td>\n",
       "      <td>NaN</td>\n",
       "      <td>NaN</td>\n",
       "      <td>1800</td>\n",
       "      <td>30 minutes</td>\n",
       "      <td>Flying UFO with tree different lights colors (...</td>\n",
       "      <td>4/9/2004</td>\n",
       "      <td>47.571042</td>\n",
       "      <td>-64.915619</td>\n",
       "    </tr>\n",
       "    <tr>\n",
       "      <th>55358</th>\n",
       "      <td>1996-07-01 12:00:00</td>\n",
       "      <td>yakima</td>\n",
       "      <td>wa</td>\n",
       "      <td>us</td>\n",
       "      <td>NaN</td>\n",
       "      <td>1200</td>\n",
       "      <td>20 min</td>\n",
       "      <td>Man and childern view silver/blue reflective o...</td>\n",
       "      <td>11/2/1999</td>\n",
       "      <td>46.6022222</td>\n",
       "      <td>-120.504722</td>\n",
       "    </tr>\n",
       "    <tr>\n",
       "      <th>63583</th>\n",
       "      <td>2010-07-07 15:00:00</td>\n",
       "      <td>sonora</td>\n",
       "      <td>tx</td>\n",
       "      <td>us</td>\n",
       "      <td>NaN</td>\n",
       "      <td>3600</td>\n",
       "      <td>1 hour</td>\n",
       "      <td>Vivid lights in daytime sky</td>\n",
       "      <td>8/30/2010</td>\n",
       "      <td>30.5666667</td>\n",
       "      <td>-100.643056</td>\n",
       "    </tr>\n",
       "  </tbody>\n",
       "</table>\n",
       "</div>"
      ],
      "text/plain": [
       "                 datetime                        city state country shape  \\\n",
       "54875 2013-07-10 06:00:00                       miami    fl      us   NaN   \n",
       "60752 1995-07-30 22:45:00                san fernando    ca      us   NaN   \n",
       "34340 2004-03-31 23:00:00  inkerman/tracadie (canada)    nb     NaN   NaN   \n",
       "55358 1996-07-01 12:00:00                      yakima    wa      us   NaN   \n",
       "63583 2010-07-07 15:00:00                      sonora    tx      us   NaN   \n",
       "\n",
       "      duration (seconds) duration (hours/min)  \\\n",
       "54875                  5            5 seconds   \n",
       "60752               1800              30 min.   \n",
       "34340               1800           30 minutes   \n",
       "55358               1200               20 min   \n",
       "63583               3600               1 hour   \n",
       "\n",
       "                                                comments date posted  \\\n",
       "54875  To whom it may Concern  I work in Miami Florid...   7/22/2013   \n",
       "60752  Second call from two men witnessing multiple c...   11/2/1999   \n",
       "34340  Flying UFO with tree different lights colors (...    4/9/2004   \n",
       "55358  Man and childern view silver/blue reflective o...   11/2/1999   \n",
       "63583                        Vivid lights in daytime sky   8/30/2010   \n",
       "\n",
       "         latitude  longitude   \n",
       "54875  25.7738889  -80.193889  \n",
       "60752  34.2819444 -118.438056  \n",
       "34340   47.571042  -64.915619  \n",
       "55358  46.6022222 -120.504722  \n",
       "63583  30.5666667 -100.643056  "
      ]
     },
     "execution_count": 44,
     "metadata": {},
     "output_type": "execute_result"
    }
   ],
   "source": [
    "df[df['shape'].isnull()].sample(5)"
   ]
  },
  {
   "cell_type": "code",
   "execution_count": 45,
   "id": "83daa0ec",
   "metadata": {},
   "outputs": [
    {
     "data": {
      "text/plain": [
       "array(['cylinder', 'light', 'circle', 'sphere', 'disk', 'fireball',\n",
       "       'unknown', 'oval', 'other', 'cigar', 'rectangle', 'chevron',\n",
       "       'triangle', 'formation', nan, 'delta', 'changing', 'egg',\n",
       "       'diamond', 'flash', 'teardrop', 'cone', 'cross', 'pyramid',\n",
       "       'round', 'crescent', 'flare', 'hexagon', 'dome', 'changed'],\n",
       "      dtype=object)"
      ]
     },
     "execution_count": 45,
     "metadata": {},
     "output_type": "execute_result"
    }
   ],
   "source": [
    "df['shape'].unique()"
   ]
  },
  {
   "cell_type": "code",
   "execution_count": 46,
   "id": "a3f0b7a9",
   "metadata": {},
   "outputs": [],
   "source": [
    "# Sighting UFO by shape"
   ]
  },
  {
   "cell_type": "code",
   "execution_count": 47,
   "id": "476f1097",
   "metadata": {},
   "outputs": [
    {
     "data": {
      "text/plain": [
       "light        16565\n",
       "triangle      7865\n",
       "circle        7608\n",
       "fireball      6208\n",
       "other         5649\n",
       "unknown       5584\n",
       "sphere        5386\n",
       "disk          5213\n",
       "oval          3733\n",
       "formation     2457\n",
       "cigar         2057\n",
       "changing      1962\n",
       "NaN           1932\n",
       "flash         1328\n",
       "rectangle     1297\n",
       "cylinder      1283\n",
       "diamond       1178\n",
       "chevron        952\n",
       "egg            759\n",
       "teardrop       750\n",
       "cone           316\n",
       "cross          233\n",
       "delta            7\n",
       "round            2\n",
       "crescent         2\n",
       "pyramid          1\n",
       "flare            1\n",
       "hexagon          1\n",
       "dome             1\n",
       "changed          1\n",
       "Name: shape, dtype: int64"
      ]
     },
     "execution_count": 47,
     "metadata": {},
     "output_type": "execute_result"
    }
   ],
   "source": [
    "df['shape'].value_counts(dropna = False)"
   ]
  },
  {
   "cell_type": "code",
   "execution_count": 48,
   "id": "e8176f2e",
   "metadata": {
    "scrolled": true
   },
   "outputs": [
    {
     "data": {
      "image/png": "[encoded data removed]",
      "text/plain": [
       "<Figure size 1080x360 with 1 Axes>"
      ]
     },
     "metadata": {
      "needs_background": "light"
     },
     "output_type": "display_data"
    }
   ],
   "source": [
    "plt.figure(figsize=(15,5))\n",
    "plt.xlabel('shape UFO Sighting')\n",
    "plt.ylabel('number of shapes')\n",
    "ax = df['shape'].value_counts(dropna = False).plot(kind = 'bar')\n",
    "for p in ax.patches:\n",
    "    ax.annotate( str(p.get_height()),  (p.get_x(), p.get_height()+20));\n"
   ]
  },
  {
   "cell_type": "code",
   "execution_count": 49,
   "id": "ea174976",
   "metadata": {},
   "outputs": [
    {
     "data": {
      "text/plain": [
       "['datetime',\n",
       " 'city',\n",
       " 'state',\n",
       " 'country',\n",
       " 'shape',\n",
       " 'duration (seconds)',\n",
       " 'duration (hours/min)',\n",
       " 'comments',\n",
       " 'date posted',\n",
       " 'latitude',\n",
       " 'longitude ']"
      ]
     },
     "execution_count": 49,
     "metadata": {},
     "output_type": "execute_result"
    }
   ],
   "source": [
    "column_list"
   ]
  },
  {
   "cell_type": "markdown",
   "id": "b205e161",
   "metadata": {},
   "source": [
    "# 'duration (seconds)'"
   ]
  },
  {
   "cell_type": "code",
   "execution_count": 50,
   "id": "cca16e13",
   "metadata": {},
   "outputs": [],
   "source": [
    "df.rename(columns={'duration (seconds)': 'duration_seconds'},inplace=True)"
   ]
  },
  {
   "cell_type": "code",
   "execution_count": 51,
   "id": "ded40d0c",
   "metadata": {},
   "outputs": [
    {
     "data": {
      "text/plain": [
       "0        2700\n",
       "1        7200\n",
       "2          20\n",
       "3          20\n",
       "4         900\n",
       "         ... \n",
       "80327     600\n",
       "80328    1200\n",
       "80329    1200\n",
       "80330       5\n",
       "80331    1020\n",
       "Name: duration_seconds, Length: 80331, dtype: object"
      ]
     },
     "execution_count": 51,
     "metadata": {},
     "output_type": "execute_result"
    }
   ],
   "source": [
    "df.duration_seconds"
   ]
  },
  {
   "cell_type": "code",
   "execution_count": 52,
   "id": "028e774b",
   "metadata": {},
   "outputs": [
    {
     "data": {
      "text/plain": [
       "['datetime',\n",
       " 'city',\n",
       " 'state',\n",
       " 'country',\n",
       " 'shape',\n",
       " 'duration (seconds)',\n",
       " 'duration (hours/min)',\n",
       " 'comments',\n",
       " 'date posted',\n",
       " 'latitude',\n",
       " 'longitude ']"
      ]
     },
     "execution_count": 52,
     "metadata": {},
     "output_type": "execute_result"
    }
   ],
   "source": [
    "column_list"
   ]
  },
  {
   "cell_type": "markdown",
   "id": "51ac502d",
   "metadata": {},
   "source": [
    "# 'duration (hours/min)'"
   ]
  },
  {
   "cell_type": "code",
   "execution_count": 53,
   "id": "b81fb186",
   "metadata": {},
   "outputs": [],
   "source": [
    "df.rename(columns={'duration (hours/min)':'duration_hours'},inplace=True)"
   ]
  },
  {
   "cell_type": "code",
   "execution_count": 54,
   "id": "ed36baca",
   "metadata": {},
   "outputs": [
    {
     "data": {
      "text/html": [
       "<div>\n",
       "<style scoped>\n",
       "    .dataframe tbody tr th:only-of-type {\n",
       "        vertical-align: middle;\n",
       "    }\n",
       "\n",
       "    .dataframe tbody tr th {\n",
       "        vertical-align: top;\n",
       "    }\n",
       "\n",
       "    .dataframe thead th {\n",
       "        text-align: right;\n",
       "    }\n",
       "</style>\n",
       "<table border=\"1\" class=\"dataframe\">\n",
       "  <thead>\n",
       "    <tr style=\"text-align: right;\">\n",
       "      <th></th>\n",
       "      <th>duration_seconds</th>\n",
       "      <th>duration_hours</th>\n",
       "    </tr>\n",
       "  </thead>\n",
       "  <tbody>\n",
       "    <tr>\n",
       "      <th>0</th>\n",
       "      <td>2700</td>\n",
       "      <td>45 minutes</td>\n",
       "    </tr>\n",
       "    <tr>\n",
       "      <th>1</th>\n",
       "      <td>7200</td>\n",
       "      <td>1-2 hrs</td>\n",
       "    </tr>\n",
       "    <tr>\n",
       "      <th>2</th>\n",
       "      <td>20</td>\n",
       "      <td>20 seconds</td>\n",
       "    </tr>\n",
       "    <tr>\n",
       "      <th>3</th>\n",
       "      <td>20</td>\n",
       "      <td>1/2 hour</td>\n",
       "    </tr>\n",
       "    <tr>\n",
       "      <th>4</th>\n",
       "      <td>900</td>\n",
       "      <td>15 minutes</td>\n",
       "    </tr>\n",
       "    <tr>\n",
       "      <th>...</th>\n",
       "      <td>...</td>\n",
       "      <td>...</td>\n",
       "    </tr>\n",
       "    <tr>\n",
       "      <th>80327</th>\n",
       "      <td>600</td>\n",
       "      <td>10 minutes</td>\n",
       "    </tr>\n",
       "    <tr>\n",
       "      <th>80328</th>\n",
       "      <td>1200</td>\n",
       "      <td>20 minutes</td>\n",
       "    </tr>\n",
       "    <tr>\n",
       "      <th>80329</th>\n",
       "      <td>1200</td>\n",
       "      <td>hour</td>\n",
       "    </tr>\n",
       "    <tr>\n",
       "      <th>80330</th>\n",
       "      <td>5</td>\n",
       "      <td>5 seconds</td>\n",
       "    </tr>\n",
       "    <tr>\n",
       "      <th>80331</th>\n",
       "      <td>1020</td>\n",
       "      <td>17 minutes</td>\n",
       "    </tr>\n",
       "  </tbody>\n",
       "</table>\n",
       "<p>80331 rows × 2 columns</p>\n",
       "</div>"
      ],
      "text/plain": [
       "      duration_seconds duration_hours\n",
       "0                 2700     45 minutes\n",
       "1                 7200        1-2 hrs\n",
       "2                   20     20 seconds\n",
       "3                   20       1/2 hour\n",
       "4                  900     15 minutes\n",
       "...                ...            ...\n",
       "80327              600     10 minutes\n",
       "80328             1200     20 minutes\n",
       "80329             1200           hour\n",
       "80330                5      5 seconds\n",
       "80331             1020     17 minutes\n",
       "\n",
       "[80331 rows x 2 columns]"
      ]
     },
     "execution_count": 54,
     "metadata": {},
     "output_type": "execute_result"
    }
   ],
   "source": [
    "df[['duration_seconds','duration_hours']]"
   ]
  },
  {
   "cell_type": "code",
   "execution_count": 55,
   "id": "d68cd0c7",
   "metadata": {},
   "outputs": [
    {
     "data": {
      "text/plain": [
       "0"
      ]
     },
     "execution_count": 55,
     "metadata": {},
     "output_type": "execute_result"
    }
   ],
   "source": [
    "df.duration_hours.isnull().sum()"
   ]
  },
  {
   "cell_type": "code",
   "execution_count": 56,
   "id": "80ecc45c",
   "metadata": {},
   "outputs": [
    {
     "data": {
      "text/plain": [
       "0"
      ]
     },
     "execution_count": 56,
     "metadata": {},
     "output_type": "execute_result"
    }
   ],
   "source": [
    "df.duration_seconds.isnull().sum()"
   ]
  },
  {
   "cell_type": "code",
   "execution_count": 57,
   "id": "04cc3b2d",
   "metadata": {},
   "outputs": [
    {
     "data": {
      "text/html": [
       "<div>\n",
       "<style scoped>\n",
       "    .dataframe tbody tr th:only-of-type {\n",
       "        vertical-align: middle;\n",
       "    }\n",
       "\n",
       "    .dataframe tbody tr th {\n",
       "        vertical-align: top;\n",
       "    }\n",
       "\n",
       "    .dataframe thead th {\n",
       "        text-align: right;\n",
       "    }\n",
       "</style>\n",
       "<table border=\"1\" class=\"dataframe\">\n",
       "  <thead>\n",
       "    <tr style=\"text-align: right;\">\n",
       "      <th></th>\n",
       "      <th>duration_hours</th>\n",
       "      <th>duration_seconds</th>\n",
       "    </tr>\n",
       "  </thead>\n",
       "  <tbody>\n",
       "    <tr>\n",
       "      <th>34271</th>\n",
       "      <td>15 minutes</td>\n",
       "      <td>900</td>\n",
       "    </tr>\n",
       "    <tr>\n",
       "      <th>43177</th>\n",
       "      <td>30 minutes</td>\n",
       "      <td>1800</td>\n",
       "    </tr>\n",
       "    <tr>\n",
       "      <th>41204</th>\n",
       "      <td>&lt; 1 minute</td>\n",
       "      <td>60</td>\n",
       "    </tr>\n",
       "    <tr>\n",
       "      <th>2503</th>\n",
       "      <td>2 minutes</td>\n",
       "      <td>120</td>\n",
       "    </tr>\n",
       "    <tr>\n",
       "      <th>62121</th>\n",
       "      <td>15 min</td>\n",
       "      <td>900</td>\n",
       "    </tr>\n",
       "  </tbody>\n",
       "</table>\n",
       "</div>"
      ],
      "text/plain": [
       "      duration_hours duration_seconds\n",
       "34271     15 minutes              900\n",
       "43177     30 minutes             1800\n",
       "41204     < 1 minute               60\n",
       "2503       2 minutes              120\n",
       "62121         15 min              900"
      ]
     },
     "execution_count": 57,
     "metadata": {},
     "output_type": "execute_result"
    }
   ],
   "source": [
    "df[[\"duration_hours\",\"duration_seconds\"]].sample(5)"
   ]
  },
  {
   "cell_type": "code",
   "execution_count": 58,
   "id": "75ab77f4",
   "metadata": {},
   "outputs": [],
   "source": [
    "# duration_hours and duration_seconds get familiar values.\n",
    "# Duration_seconds's values more effective to use for analysing\n",
    "# so duration_hours column can drop"
   ]
  },
  {
   "cell_type": "code",
   "execution_count": 59,
   "id": "d84c024a",
   "metadata": {},
   "outputs": [],
   "source": [
    "df.drop(columns='duration_hours', axis=1,inplace=True)"
   ]
  },
  {
   "cell_type": "code",
   "execution_count": 60,
   "id": "be629271",
   "metadata": {},
   "outputs": [
    {
     "data": {
      "text/plain": [
       "Index(['datetime', 'city', 'state', 'country', 'shape', 'duration_seconds',\n",
       "       'comments', 'date posted', 'latitude', 'longitude '],\n",
       "      dtype='object')"
      ]
     },
     "execution_count": 60,
     "metadata": {},
     "output_type": "execute_result"
    }
   ],
   "source": [
    "df.columns"
   ]
  },
  {
   "cell_type": "code",
   "execution_count": 61,
   "id": "45f80c69",
   "metadata": {},
   "outputs": [
    {
     "data": {
      "text/plain": [
       "dtype('O')"
      ]
     },
     "execution_count": 61,
     "metadata": {},
     "output_type": "execute_result"
    }
   ],
   "source": [
    "df.duration_seconds.dtype"
   ]
  },
  {
   "cell_type": "code",
   "execution_count": 62,
   "id": "440abbc4",
   "metadata": {},
   "outputs": [],
   "source": [
    "# df.duration_seconds.astype('float')"
   ]
  },
  {
   "cell_type": "code",
   "execution_count": 63,
   "id": "9b2808b6",
   "metadata": {},
   "outputs": [
    {
     "data": {
      "text/plain": [
       "0        2700\n",
       "1        7200\n",
       "2          20\n",
       "3          20\n",
       "4         900\n",
       "         ... \n",
       "80327     600\n",
       "80328    1200\n",
       "80329    1200\n",
       "80330       5\n",
       "80331    1020\n",
       "Name: duration_seconds, Length: 80331, dtype: object"
      ]
     },
     "execution_count": 63,
     "metadata": {},
     "output_type": "execute_result"
    }
   ],
   "source": [
    "df.duration_seconds"
   ]
  },
  {
   "cell_type": "code",
   "execution_count": 64,
   "id": "15a208c6",
   "metadata": {},
   "outputs": [
    {
     "data": {
      "text/plain": [
       "300       8635\n",
       "120       7110\n",
       "600       6312\n",
       "60        5866\n",
       "180       5065\n",
       "          ... \n",
       "634          1\n",
       "299          1\n",
       "300.13       1\n",
       "108000       1\n",
       "181          1\n",
       "Name: duration_seconds, Length: 537, dtype: int64"
      ]
     },
     "execution_count": 64,
     "metadata": {},
     "output_type": "execute_result"
    }
   ],
   "source": [
    "df.duration_seconds.value_counts()"
   ]
  },
  {
   "cell_type": "code",
   "execution_count": 65,
   "id": "b8679c12",
   "metadata": {
    "scrolled": false
   },
   "outputs": [
    {
     "data": {
      "text/html": [
       "<div>\n",
       "<style scoped>\n",
       "    .dataframe tbody tr th:only-of-type {\n",
       "        vertical-align: middle;\n",
       "    }\n",
       "\n",
       "    .dataframe tbody tr th {\n",
       "        vertical-align: top;\n",
       "    }\n",
       "\n",
       "    .dataframe thead th {\n",
       "        text-align: right;\n",
       "    }\n",
       "</style>\n",
       "<table border=\"1\" class=\"dataframe\">\n",
       "  <thead>\n",
       "    <tr style=\"text-align: right;\">\n",
       "      <th></th>\n",
       "      <th>datetime</th>\n",
       "      <th>city</th>\n",
       "      <th>state</th>\n",
       "      <th>country</th>\n",
       "      <th>shape</th>\n",
       "      <th>duration_seconds</th>\n",
       "      <th>comments</th>\n",
       "      <th>date posted</th>\n",
       "      <th>latitude</th>\n",
       "      <th>longitude</th>\n",
       "    </tr>\n",
       "  </thead>\n",
       "  <tbody>\n",
       "    <tr>\n",
       "      <th>4081</th>\n",
       "      <td>2008-10-23 04:45:00</td>\n",
       "      <td>remote</td>\n",
       "      <td>wy</td>\n",
       "      <td>NaN</td>\n",
       "      <td>flash</td>\n",
       "      <td>0.001</td>\n",
       "      <td>brilliant strobe light at 4am moving lights lo...</td>\n",
       "      <td>1/10/2009</td>\n",
       "      <td>-46.163992</td>\n",
       "      <td>169.875050</td>\n",
       "    </tr>\n",
       "    <tr>\n",
       "      <th>70587</th>\n",
       "      <td>2002-08-30 13:45:00</td>\n",
       "      <td>kerry (republic of ireland)</td>\n",
       "      <td>NaN</td>\n",
       "      <td>NaN</td>\n",
       "      <td>sphere</td>\n",
       "      <td>0.01</td>\n",
       "      <td>The object  seemed to move at lightining speed</td>\n",
       "      <td>9/13/2002</td>\n",
       "      <td>52.154461</td>\n",
       "      <td>-9.566863</td>\n",
       "    </tr>\n",
       "    <tr>\n",
       "      <th>42378</th>\n",
       "      <td>1987-05-15 23:00:00</td>\n",
       "      <td>island lake</td>\n",
       "      <td>il</td>\n",
       "      <td>us</td>\n",
       "      <td>light</td>\n",
       "      <td>0.01</td>\n",
       "      <td>4 red laser like lines</td>\n",
       "      <td>1/12/2012</td>\n",
       "      <td>42.2761111</td>\n",
       "      <td>-88.191944</td>\n",
       "    </tr>\n",
       "    <tr>\n",
       "      <th>70393</th>\n",
       "      <td>2002-08-29 23:45:00</td>\n",
       "      <td>toledo</td>\n",
       "      <td>or</td>\n",
       "      <td>us</td>\n",
       "      <td>triangle</td>\n",
       "      <td>0.01</td>\n",
       "      <td>The object I saw was  very clear and moved at ...</td>\n",
       "      <td>9/6/2002</td>\n",
       "      <td>44.6216667</td>\n",
       "      <td>-123.937222</td>\n",
       "    </tr>\n",
       "    <tr>\n",
       "      <th>23754</th>\n",
       "      <td>1999-12-09 18:15:00</td>\n",
       "      <td>lyle</td>\n",
       "      <td>wa</td>\n",
       "      <td>us</td>\n",
       "      <td>fireball</td>\n",
       "      <td>0.01</td>\n",
       "      <td>Incredible...full moon sized bright orange fir...</td>\n",
       "      <td>12/16/1999</td>\n",
       "      <td>45.6961111</td>\n",
       "      <td>-121.285000</td>\n",
       "    </tr>\n",
       "    <tr>\n",
       "      <th>...</th>\n",
       "      <td>...</td>\n",
       "      <td>...</td>\n",
       "      <td>...</td>\n",
       "      <td>...</td>\n",
       "      <td>...</td>\n",
       "      <td>...</td>\n",
       "      <td>...</td>\n",
       "      <td>...</td>\n",
       "      <td>...</td>\n",
       "      <td>...</td>\n",
       "    </tr>\n",
       "    <tr>\n",
       "      <th>53302</th>\n",
       "      <td>2000-06-03 22:00:00</td>\n",
       "      <td>manzanita</td>\n",
       "      <td>or</td>\n",
       "      <td>us</td>\n",
       "      <td>light</td>\n",
       "      <td>9900</td>\n",
       "      <td>There were orange colored lights coming from t...</td>\n",
       "      <td>6/21/2000</td>\n",
       "      <td>45.7186111</td>\n",
       "      <td>-123.933889</td>\n",
       "    </tr>\n",
       "    <tr>\n",
       "      <th>9430</th>\n",
       "      <td>2000-11-15 20:00:00</td>\n",
       "      <td>kokomo (west of)</td>\n",
       "      <td>in</td>\n",
       "      <td>us</td>\n",
       "      <td>flash</td>\n",
       "      <td>9900</td>\n",
       "      <td>glittering white lights accompany bright orang...</td>\n",
       "      <td>9/6/2002</td>\n",
       "      <td>40.4863889</td>\n",
       "      <td>-86.133611</td>\n",
       "    </tr>\n",
       "    <tr>\n",
       "      <th>21529</th>\n",
       "      <td>2006-12-31 23:15:00</td>\n",
       "      <td>marikina (philippines)</td>\n",
       "      <td>NaN</td>\n",
       "      <td>NaN</td>\n",
       "      <td>circle</td>\n",
       "      <td>9900</td>\n",
       "      <td>Sighting over Quezon City Philippines during m...</td>\n",
       "      <td>2/1/2007</td>\n",
       "      <td>14.65073</td>\n",
       "      <td>121.102855</td>\n",
       "    </tr>\n",
       "    <tr>\n",
       "      <th>32032</th>\n",
       "      <td>2004-03-17 16:30:00</td>\n",
       "      <td>milton</td>\n",
       "      <td>de</td>\n",
       "      <td>us</td>\n",
       "      <td>other</td>\n",
       "      <td>994</td>\n",
       "      <td>Boat/schooner shaped Hull curved rotating colo...</td>\n",
       "      <td>4/27/2004</td>\n",
       "      <td>38.7775000</td>\n",
       "      <td>-75.310278</td>\n",
       "    </tr>\n",
       "    <tr>\n",
       "      <th>29726</th>\n",
       "      <td>2001-02-07 18:35:00</td>\n",
       "      <td>wheaton/kensington</td>\n",
       "      <td>md</td>\n",
       "      <td>NaN</td>\n",
       "      <td>changing</td>\n",
       "      <td>995</td>\n",
       "      <td>SHAPE CHANGING OBJECT IN WASHINGTON DC AREA</td>\n",
       "      <td>2/18/2001</td>\n",
       "      <td>39.039831</td>\n",
       "      <td>-77.055256</td>\n",
       "    </tr>\n",
       "  </tbody>\n",
       "</table>\n",
       "<p>80331 rows × 10 columns</p>\n",
       "</div>"
      ],
      "text/plain": [
       "                 datetime                         city state country  \\\n",
       "4081  2008-10-23 04:45:00                       remote    wy     NaN   \n",
       "70587 2002-08-30 13:45:00  kerry (republic of ireland)   NaN     NaN   \n",
       "42378 1987-05-15 23:00:00                  island lake    il      us   \n",
       "70393 2002-08-29 23:45:00                       toledo    or      us   \n",
       "23754 1999-12-09 18:15:00                         lyle    wa      us   \n",
       "...                   ...                          ...   ...     ...   \n",
       "53302 2000-06-03 22:00:00                    manzanita    or      us   \n",
       "9430  2000-11-15 20:00:00             kokomo (west of)    in      us   \n",
       "21529 2006-12-31 23:15:00       marikina (philippines)   NaN     NaN   \n",
       "32032 2004-03-17 16:30:00                       milton    de      us   \n",
       "29726 2001-02-07 18:35:00           wheaton/kensington    md     NaN   \n",
       "\n",
       "          shape duration_seconds  \\\n",
       "4081      flash            0.001   \n",
       "70587    sphere             0.01   \n",
       "42378     light             0.01   \n",
       "70393  triangle             0.01   \n",
       "23754  fireball             0.01   \n",
       "...         ...              ...   \n",
       "53302     light             9900   \n",
       "9430      flash             9900   \n",
       "21529    circle             9900   \n",
       "32032     other              994   \n",
       "29726  changing              995   \n",
       "\n",
       "                                                comments date posted  \\\n",
       "4081   brilliant strobe light at 4am moving lights lo...   1/10/2009   \n",
       "70587     The object  seemed to move at lightining speed   9/13/2002   \n",
       "42378                             4 red laser like lines   1/12/2012   \n",
       "70393  The object I saw was  very clear and moved at ...    9/6/2002   \n",
       "23754  Incredible...full moon sized bright orange fir...  12/16/1999   \n",
       "...                                                  ...         ...   \n",
       "53302  There were orange colored lights coming from t...   6/21/2000   \n",
       "9430   glittering white lights accompany bright orang...    9/6/2002   \n",
       "21529  Sighting over Quezon City Philippines during m...    2/1/2007   \n",
       "32032  Boat/schooner shaped Hull curved rotating colo...   4/27/2004   \n",
       "29726        SHAPE CHANGING OBJECT IN WASHINGTON DC AREA   2/18/2001   \n",
       "\n",
       "         latitude  longitude   \n",
       "4081   -46.163992  169.875050  \n",
       "70587   52.154461   -9.566863  \n",
       "42378  42.2761111  -88.191944  \n",
       "70393  44.6216667 -123.937222  \n",
       "23754  45.6961111 -121.285000  \n",
       "...           ...         ...  \n",
       "53302  45.7186111 -123.933889  \n",
       "9430   40.4863889  -86.133611  \n",
       "21529    14.65073  121.102855  \n",
       "32032  38.7775000  -75.310278  \n",
       "29726   39.039831  -77.055256  \n",
       "\n",
       "[80331 rows x 10 columns]"
      ]
     },
     "execution_count": 65,
     "metadata": {},
     "output_type": "execute_result"
    }
   ],
   "source": [
    "df.sort_values(by = 'duration_seconds',ascending=True)"
   ]
  },
  {
   "cell_type": "code",
   "execution_count": 82,
   "id": "54015ae3",
   "metadata": {
    "scrolled": true
   },
   "outputs": [
    {
     "data": {
      "text/plain": [
       "0        2700.0\n",
       "1        7200.0\n",
       "2          20.0\n",
       "3          20.0\n",
       "4         900.0\n",
       "          ...  \n",
       "80327     600.0\n",
       "80328    1200.0\n",
       "80329    1200.0\n",
       "80330       5.0\n",
       "80331    1020.0\n",
       "Name: duration_seconds, Length: 80331, dtype: float64"
      ]
     },
     "execution_count": 82,
     "metadata": {},
     "output_type": "execute_result"
    }
   ],
   "source": [
    "# df.duration_seconds.astype('float')"
   ]
  },
  {
   "cell_type": "code",
   "execution_count": 67,
   "id": "06791457",
   "metadata": {},
   "outputs": [
    {
     "data": {
      "text/plain": [
       "27822    2`\n",
       "Name: duration_seconds, dtype: object"
      ]
     },
     "execution_count": 67,
     "metadata": {},
     "output_type": "execute_result"
    }
   ],
   "source": [
    "df[df.duration_seconds == '2`'].duration_seconds "
   ]
  },
  {
   "cell_type": "code",
   "execution_count": 68,
   "id": "e4acd9bf",
   "metadata": {
    "scrolled": true
   },
   "outputs": [
    {
     "data": {
      "text/html": [
       "<div>\n",
       "<style scoped>\n",
       "    .dataframe tbody tr th:only-of-type {\n",
       "        vertical-align: middle;\n",
       "    }\n",
       "\n",
       "    .dataframe tbody tr th {\n",
       "        vertical-align: top;\n",
       "    }\n",
       "\n",
       "    .dataframe thead th {\n",
       "        text-align: right;\n",
       "    }\n",
       "</style>\n",
       "<table border=\"1\" class=\"dataframe\">\n",
       "  <thead>\n",
       "    <tr style=\"text-align: right;\">\n",
       "      <th></th>\n",
       "      <th>datetime</th>\n",
       "      <th>city</th>\n",
       "      <th>state</th>\n",
       "      <th>country</th>\n",
       "      <th>shape</th>\n",
       "      <th>duration_seconds</th>\n",
       "      <th>comments</th>\n",
       "      <th>date posted</th>\n",
       "      <th>latitude</th>\n",
       "      <th>longitude</th>\n",
       "    </tr>\n",
       "  </thead>\n",
       "  <tbody>\n",
       "    <tr>\n",
       "      <th>27822</th>\n",
       "      <td>2000-02-02 19:33:00</td>\n",
       "      <td>bouse</td>\n",
       "      <td>az</td>\n",
       "      <td>us</td>\n",
       "      <td>NaN</td>\n",
       "      <td>2`</td>\n",
       "      <td>Driving through Plomosa Pass towards Bouse Loo...</td>\n",
       "      <td>2/16/2000</td>\n",
       "      <td>33.9325000</td>\n",
       "      <td>-114.005</td>\n",
       "    </tr>\n",
       "  </tbody>\n",
       "</table>\n",
       "</div>"
      ],
      "text/plain": [
       "                 datetime   city state country shape duration_seconds  \\\n",
       "27822 2000-02-02 19:33:00  bouse    az      us   NaN               2`   \n",
       "\n",
       "                                                comments date posted  \\\n",
       "27822  Driving through Plomosa Pass towards Bouse Loo...   2/16/2000   \n",
       "\n",
       "         latitude  longitude   \n",
       "27822  33.9325000    -114.005  "
      ]
     },
     "execution_count": 68,
     "metadata": {},
     "output_type": "execute_result"
    }
   ],
   "source": [
    "df[df.duration_seconds == '2`']"
   ]
  },
  {
   "cell_type": "code",
   "execution_count": 69,
   "id": "069a20ad",
   "metadata": {},
   "outputs": [],
   "source": [
    "df.loc[27822,'duration_seconds'] = 2"
   ]
  },
  {
   "cell_type": "code",
   "execution_count": 70,
   "id": "b9f19b88",
   "metadata": {},
   "outputs": [
    {
     "data": {
      "text/plain": [
       "2"
      ]
     },
     "execution_count": 70,
     "metadata": {},
     "output_type": "execute_result"
    }
   ],
   "source": [
    "df.loc[27822,'duration_seconds']"
   ]
  },
  {
   "cell_type": "code",
   "execution_count": 71,
   "id": "96b7dbac",
   "metadata": {},
   "outputs": [],
   "source": [
    " # df.duration_seconds.astype(float)"
   ]
  },
  {
   "cell_type": "code",
   "execution_count": 72,
   "id": "2dd32a39",
   "metadata": {},
   "outputs": [],
   "source": [
    "df.duration_seconds = df.duration_seconds.str.strip('`')"
   ]
  },
  {
   "cell_type": "code",
   "execution_count": 73,
   "id": "5ff60c6d",
   "metadata": {},
   "outputs": [],
   "source": [
    "df.duration_seconds = df.duration_seconds.astype(float)"
   ]
  },
  {
   "cell_type": "code",
   "execution_count": 74,
   "id": "7b526a40",
   "metadata": {},
   "outputs": [
    {
     "data": {
      "text/plain": [
       "559      97836000.0\n",
       "53384    82800000.0\n",
       "74660    66276000.0\n",
       "38261    52623200.0\n",
       "64390    52623200.0\n",
       "69215    52623200.0\n",
       "52709    25248000.0\n",
       "6991     10526400.0\n",
       "30596    10526400.0\n",
       "71172    10526400.0\n",
       "10853     9468000.0\n",
       "54009     9468000.0\n",
       "31486     7894800.0\n",
       "693       6312000.0\n",
       "21527     6312000.0\n",
       "21583     6312000.0\n",
       "29747     6312000.0\n",
       "30590     6312000.0\n",
       "49422     6312000.0\n",
       "53006     6312000.0\n",
       "Name: duration_seconds, dtype: float64"
      ]
     },
     "execution_count": 74,
     "metadata": {},
     "output_type": "execute_result"
    }
   ],
   "source": [
    "df.duration_seconds.nlargest(20)"
   ]
  },
  {
   "cell_type": "code",
   "execution_count": 75,
   "id": "1c110472",
   "metadata": {},
   "outputs": [
    {
     "data": {
      "text/plain": [
       "[559,\n",
       " 53384,\n",
       " 74660,\n",
       " 38261,\n",
       " 64390,\n",
       " 69215,\n",
       " 52709,\n",
       " 6991,\n",
       " 30596,\n",
       " 71172,\n",
       " 10853,\n",
       " 54009,\n",
       " 31486,\n",
       " 693,\n",
       " 21527,\n",
       " 21583,\n",
       " 29747,\n",
       " 30590,\n",
       " 49422,\n",
       " 53006]"
      ]
     },
     "execution_count": 75,
     "metadata": {},
     "output_type": "execute_result"
    }
   ],
   "source": [
    "liste = df.duration_seconds.nlargest(20).index.to_list()\n",
    "liste"
   ]
  },
  {
   "cell_type": "code",
   "execution_count": 84,
   "id": "a6eaeb19",
   "metadata": {},
   "outputs": [
    {
     "data": {
      "text/html": [
       "<div>\n",
       "<style scoped>\n",
       "    .dataframe tbody tr th:only-of-type {\n",
       "        vertical-align: middle;\n",
       "    }\n",
       "\n",
       "    .dataframe tbody tr th {\n",
       "        vertical-align: top;\n",
       "    }\n",
       "\n",
       "    .dataframe thead th {\n",
       "        text-align: right;\n",
       "    }\n",
       "</style>\n",
       "<table border=\"1\" class=\"dataframe\">\n",
       "  <thead>\n",
       "    <tr style=\"text-align: right;\">\n",
       "      <th></th>\n",
       "      <th>datetime</th>\n",
       "      <th>city</th>\n",
       "      <th>state</th>\n",
       "      <th>country</th>\n",
       "      <th>shape</th>\n",
       "      <th>duration_seconds</th>\n",
       "      <th>comments</th>\n",
       "      <th>date posted</th>\n",
       "      <th>latitude</th>\n",
       "      <th>longitude</th>\n",
       "    </tr>\n",
       "  </thead>\n",
       "  <tbody>\n",
       "    <tr>\n",
       "      <th>559</th>\n",
       "      <td>1983-10-01 17:00:00</td>\n",
       "      <td>birmingham (uk/england)</td>\n",
       "      <td>NaN</td>\n",
       "      <td>gb</td>\n",
       "      <td>sphere</td>\n",
       "      <td>97836000.0</td>\n",
       "      <td>Firstly I was stunned and stared at the object...</td>\n",
       "      <td>4/12/2013</td>\n",
       "      <td>52.466667</td>\n",
       "      <td>-1.916667</td>\n",
       "    </tr>\n",
       "    <tr>\n",
       "      <th>53384</th>\n",
       "      <td>2010-06-03 23:30:00</td>\n",
       "      <td>ottawa (canada)</td>\n",
       "      <td>on</td>\n",
       "      <td>ca</td>\n",
       "      <td>other</td>\n",
       "      <td>82800000.0</td>\n",
       "      <td>((HOAX??))  I was out in a field near mil base...</td>\n",
       "      <td>7/6/2010</td>\n",
       "      <td>45.416667</td>\n",
       "      <td>-75.700000</td>\n",
       "    </tr>\n",
       "    <tr>\n",
       "      <th>74660</th>\n",
       "      <td>1991-09-15 18:00:00</td>\n",
       "      <td>greenbrier</td>\n",
       "      <td>ar</td>\n",
       "      <td>us</td>\n",
       "      <td>light</td>\n",
       "      <td>66276000.0</td>\n",
       "      <td>Orange or amber balls or orbs of light multipl...</td>\n",
       "      <td>3/31/2008</td>\n",
       "      <td>35.2338889</td>\n",
       "      <td>-92.387500</td>\n",
       "    </tr>\n",
       "    <tr>\n",
       "      <th>38261</th>\n",
       "      <td>2021-09-14 00:00:00</td>\n",
       "      <td>dont know</td>\n",
       "      <td>NaN</td>\n",
       "      <td>NaN</td>\n",
       "      <td>NaN</td>\n",
       "      <td>52623200.0</td>\n",
       "      <td>Hi  I&amp;#8217;m writing to you because I wanted ...</td>\n",
       "      <td>7/25/2004</td>\n",
       "      <td>41.730561</td>\n",
       "      <td>-78.682099</td>\n",
       "    </tr>\n",
       "    <tr>\n",
       "      <th>64390</th>\n",
       "      <td>2012-08-10 21:00:00</td>\n",
       "      <td>finley</td>\n",
       "      <td>wa</td>\n",
       "      <td>us</td>\n",
       "      <td>light</td>\n",
       "      <td>52623200.0</td>\n",
       "      <td>There have been several flying objects in a pe...</td>\n",
       "      <td>8/19/2012</td>\n",
       "      <td>46.1541667</td>\n",
       "      <td>-119.032778</td>\n",
       "    </tr>\n",
       "    <tr>\n",
       "      <th>69215</th>\n",
       "      <td>2002-08-24 01:00:00</td>\n",
       "      <td>englewood</td>\n",
       "      <td>fl</td>\n",
       "      <td>us</td>\n",
       "      <td>light</td>\n",
       "      <td>52623200.0</td>\n",
       "      <td>bright stars moving erratically over the Gulf ...</td>\n",
       "      <td>8/28/2002</td>\n",
       "      <td>26.9616667</td>\n",
       "      <td>-82.352778</td>\n",
       "    </tr>\n",
       "    <tr>\n",
       "      <th>52709</th>\n",
       "      <td>1969-06-30 22:45:00</td>\n",
       "      <td>somerset (uk/england)</td>\n",
       "      <td>NaN</td>\n",
       "      <td>gb</td>\n",
       "      <td>cone</td>\n",
       "      <td>25248000.0</td>\n",
       "      <td>First time it was a bright light and missing t...</td>\n",
       "      <td>8/5/2009</td>\n",
       "      <td>51.083333</td>\n",
       "      <td>-3.000000</td>\n",
       "    </tr>\n",
       "    <tr>\n",
       "      <th>6991</th>\n",
       "      <td>2013-10-07 20:00:00</td>\n",
       "      <td>oklahoma</td>\n",
       "      <td>ok</td>\n",
       "      <td>NaN</td>\n",
       "      <td>circle</td>\n",
       "      <td>10526400.0</td>\n",
       "      <td>Bright flying orb.</td>\n",
       "      <td>10/14/2013</td>\n",
       "      <td>35.46756</td>\n",
       "      <td>-97.516428</td>\n",
       "    </tr>\n",
       "    <tr>\n",
       "      <th>30596</th>\n",
       "      <td>1994-03-01 01:00:00</td>\n",
       "      <td>menifee</td>\n",
       "      <td>ca</td>\n",
       "      <td>us</td>\n",
       "      <td>NaN</td>\n",
       "      <td>10526400.0</td>\n",
       "      <td>Sun City / Menifee UFO sightings in 1994</td>\n",
       "      <td>2/22/2005</td>\n",
       "      <td>33.7283333</td>\n",
       "      <td>-117.145556</td>\n",
       "    </tr>\n",
       "    <tr>\n",
       "      <th>71172</th>\n",
       "      <td>2008-08-03 21:00:00</td>\n",
       "      <td>virginia beach</td>\n",
       "      <td>va</td>\n",
       "      <td>us</td>\n",
       "      <td>fireball</td>\n",
       "      <td>10526400.0</td>\n",
       "      <td>this object was very high up and emmited no so...</td>\n",
       "      <td>8/12/2008</td>\n",
       "      <td>36.8527778</td>\n",
       "      <td>-75.978333</td>\n",
       "    </tr>\n",
       "    <tr>\n",
       "      <th>10853</th>\n",
       "      <td>1977-01-01 02:30:00</td>\n",
       "      <td>new canaan</td>\n",
       "      <td>ct</td>\n",
       "      <td>us</td>\n",
       "      <td>NaN</td>\n",
       "      <td>9468000.0</td>\n",
       "      <td>possible abductions when I was a kid living in...</td>\n",
       "      <td>11/19/1998</td>\n",
       "      <td>41.1466667</td>\n",
       "      <td>-73.495278</td>\n",
       "    </tr>\n",
       "    <tr>\n",
       "      <th>54009</th>\n",
       "      <td>2013-06-06 00:00:00</td>\n",
       "      <td>mostar (bosnia/herzogovina)</td>\n",
       "      <td>NaN</td>\n",
       "      <td>NaN</td>\n",
       "      <td>sphere</td>\n",
       "      <td>9468000.0</td>\n",
       "      <td>Sky Watching of Another Kind</td>\n",
       "      <td>7/3/2013</td>\n",
       "      <td>43.342273</td>\n",
       "      <td>17.812754</td>\n",
       "    </tr>\n",
       "    <tr>\n",
       "      <th>31486</th>\n",
       "      <td>1984-03-15 20:00:00</td>\n",
       "      <td>griffin</td>\n",
       "      <td>ga</td>\n",
       "      <td>us</td>\n",
       "      <td>circle</td>\n",
       "      <td>7894800.0</td>\n",
       "      <td>7 large yellow lights with red center  estimat...</td>\n",
       "      <td>5/15/2006</td>\n",
       "      <td>33.2466667</td>\n",
       "      <td>-84.264167</td>\n",
       "    </tr>\n",
       "    <tr>\n",
       "      <th>693</th>\n",
       "      <td>2021-09-14 00:00:00</td>\n",
       "      <td>chulucanas-piura la vieja (peru)</td>\n",
       "      <td>NaN</td>\n",
       "      <td>NaN</td>\n",
       "      <td>other</td>\n",
       "      <td>6312000.0</td>\n",
       "      <td>go to:  http://www.24horas.com.pe/data/videos/...</td>\n",
       "      <td>3/4/2003</td>\n",
       "      <td>-5.129547</td>\n",
       "      <td>-80.120569</td>\n",
       "    </tr>\n",
       "    <tr>\n",
       "      <th>21527</th>\n",
       "      <td>2006-12-31 23:00:00</td>\n",
       "      <td>imperial desert</td>\n",
       "      <td>ca</td>\n",
       "      <td>NaN</td>\n",
       "      <td>oval</td>\n",
       "      <td>6312000.0</td>\n",
       "      <td>The Object was more round than Oval. It was be...</td>\n",
       "      <td>2/1/2007</td>\n",
       "      <td>32.841179</td>\n",
       "      <td>-115.590169</td>\n",
       "    </tr>\n",
       "    <tr>\n",
       "      <th>21583</th>\n",
       "      <td>2009-12-31 23:30:00</td>\n",
       "      <td>livingston</td>\n",
       "      <td>la</td>\n",
       "      <td>us</td>\n",
       "      <td>NaN</td>\n",
       "      <td>6312000.0</td>\n",
       "      <td>The 12 UFO we seen brite yellow like a street ...</td>\n",
       "      <td>2/14/2010</td>\n",
       "      <td>30.5019444</td>\n",
       "      <td>-90.747778</td>\n",
       "    </tr>\n",
       "    <tr>\n",
       "      <th>29747</th>\n",
       "      <td>2004-02-07 12:00:00</td>\n",
       "      <td>tehran (iran)</td>\n",
       "      <td>NaN</td>\n",
       "      <td>NaN</td>\n",
       "      <td>light</td>\n",
       "      <td>6312000.0</td>\n",
       "      <td>dear sirs: a few nights ago I was sitting outs...</td>\n",
       "      <td>6/18/2004</td>\n",
       "      <td>35.696111</td>\n",
       "      <td>51.423056</td>\n",
       "    </tr>\n",
       "    <tr>\n",
       "      <th>30590</th>\n",
       "      <td>1993-03-01 05:30:00</td>\n",
       "      <td>ganado</td>\n",
       "      <td>az</td>\n",
       "      <td>us</td>\n",
       "      <td>other</td>\n",
       "      <td>6312000.0</td>\n",
       "      <td>For many years since 1978 to 2004 there have b...</td>\n",
       "      <td>8/7/2007</td>\n",
       "      <td>35.7113889</td>\n",
       "      <td>-109.541389</td>\n",
       "    </tr>\n",
       "    <tr>\n",
       "      <th>49422</th>\n",
       "      <td>2012-06-15 21:00:00</td>\n",
       "      <td>huntington</td>\n",
       "      <td>ny</td>\n",
       "      <td>us</td>\n",
       "      <td>light</td>\n",
       "      <td>6312000.0</td>\n",
       "      <td>Strange lights in the sky that move and follow...</td>\n",
       "      <td>10/14/2013</td>\n",
       "      <td>40.8680556</td>\n",
       "      <td>-73.426111</td>\n",
       "    </tr>\n",
       "    <tr>\n",
       "      <th>53006</th>\n",
       "      <td>2002-06-30 22:00:00</td>\n",
       "      <td>honolulu</td>\n",
       "      <td>hi</td>\n",
       "      <td>us</td>\n",
       "      <td>circle</td>\n",
       "      <td>6312000.0</td>\n",
       "      <td>Green glowing UFOs and some that look like sta...</td>\n",
       "      <td>2/1/2007</td>\n",
       "      <td>21.3069444</td>\n",
       "      <td>-157.858333</td>\n",
       "    </tr>\n",
       "  </tbody>\n",
       "</table>\n",
       "</div>"
      ],
      "text/plain": [
       "                 datetime                              city state country  \\\n",
       "559   1983-10-01 17:00:00           birmingham (uk/england)   NaN      gb   \n",
       "53384 2010-06-03 23:30:00                   ottawa (canada)    on      ca   \n",
       "74660 1991-09-15 18:00:00                        greenbrier    ar      us   \n",
       "38261 2021-09-14 00:00:00                         dont know   NaN     NaN   \n",
       "64390 2012-08-10 21:00:00                            finley    wa      us   \n",
       "69215 2002-08-24 01:00:00                         englewood    fl      us   \n",
       "52709 1969-06-30 22:45:00             somerset (uk/england)   NaN      gb   \n",
       "6991  2013-10-07 20:00:00                          oklahoma    ok     NaN   \n",
       "30596 1994-03-01 01:00:00                           menifee    ca      us   \n",
       "71172 2008-08-03 21:00:00                    virginia beach    va      us   \n",
       "10853 1977-01-01 02:30:00                        new canaan    ct      us   \n",
       "54009 2013-06-06 00:00:00       mostar (bosnia/herzogovina)   NaN     NaN   \n",
       "31486 1984-03-15 20:00:00                           griffin    ga      us   \n",
       "693   2021-09-14 00:00:00  chulucanas-piura la vieja (peru)   NaN     NaN   \n",
       "21527 2006-12-31 23:00:00                   imperial desert    ca     NaN   \n",
       "21583 2009-12-31 23:30:00                        livingston    la      us   \n",
       "29747 2004-02-07 12:00:00                     tehran (iran)   NaN     NaN   \n",
       "30590 1993-03-01 05:30:00                            ganado    az      us   \n",
       "49422 2012-06-15 21:00:00                        huntington    ny      us   \n",
       "53006 2002-06-30 22:00:00                          honolulu    hi      us   \n",
       "\n",
       "          shape  duration_seconds  \\\n",
       "559      sphere        97836000.0   \n",
       "53384     other        82800000.0   \n",
       "74660     light        66276000.0   \n",
       "38261       NaN        52623200.0   \n",
       "64390     light        52623200.0   \n",
       "69215     light        52623200.0   \n",
       "52709      cone        25248000.0   \n",
       "6991     circle        10526400.0   \n",
       "30596       NaN        10526400.0   \n",
       "71172  fireball        10526400.0   \n",
       "10853       NaN         9468000.0   \n",
       "54009    sphere         9468000.0   \n",
       "31486    circle         7894800.0   \n",
       "693       other         6312000.0   \n",
       "21527      oval         6312000.0   \n",
       "21583       NaN         6312000.0   \n",
       "29747     light         6312000.0   \n",
       "30590     other         6312000.0   \n",
       "49422     light         6312000.0   \n",
       "53006    circle         6312000.0   \n",
       "\n",
       "                                                comments date posted  \\\n",
       "559    Firstly I was stunned and stared at the object...   4/12/2013   \n",
       "53384  ((HOAX??))  I was out in a field near mil base...    7/6/2010   \n",
       "74660  Orange or amber balls or orbs of light multipl...   3/31/2008   \n",
       "38261  Hi  I&#8217;m writing to you because I wanted ...   7/25/2004   \n",
       "64390  There have been several flying objects in a pe...   8/19/2012   \n",
       "69215  bright stars moving erratically over the Gulf ...   8/28/2002   \n",
       "52709  First time it was a bright light and missing t...    8/5/2009   \n",
       "6991                                  Bright flying orb.  10/14/2013   \n",
       "30596           Sun City / Menifee UFO sightings in 1994   2/22/2005   \n",
       "71172  this object was very high up and emmited no so...   8/12/2008   \n",
       "10853  possible abductions when I was a kid living in...  11/19/1998   \n",
       "54009                       Sky Watching of Another Kind    7/3/2013   \n",
       "31486  7 large yellow lights with red center  estimat...   5/15/2006   \n",
       "693    go to:  http://www.24horas.com.pe/data/videos/...    3/4/2003   \n",
       "21527  The Object was more round than Oval. It was be...    2/1/2007   \n",
       "21583  The 12 UFO we seen brite yellow like a street ...   2/14/2010   \n",
       "29747  dear sirs: a few nights ago I was sitting outs...   6/18/2004   \n",
       "30590  For many years since 1978 to 2004 there have b...    8/7/2007   \n",
       "49422  Strange lights in the sky that move and follow...  10/14/2013   \n",
       "53006  Green glowing UFOs and some that look like sta...    2/1/2007   \n",
       "\n",
       "         latitude  longitude   \n",
       "559     52.466667   -1.916667  \n",
       "53384   45.416667  -75.700000  \n",
       "74660  35.2338889  -92.387500  \n",
       "38261   41.730561  -78.682099  \n",
       "64390  46.1541667 -119.032778  \n",
       "69215  26.9616667  -82.352778  \n",
       "52709   51.083333   -3.000000  \n",
       "6991     35.46756  -97.516428  \n",
       "30596  33.7283333 -117.145556  \n",
       "71172  36.8527778  -75.978333  \n",
       "10853  41.1466667  -73.495278  \n",
       "54009   43.342273   17.812754  \n",
       "31486  33.2466667  -84.264167  \n",
       "693     -5.129547  -80.120569  \n",
       "21527   32.841179 -115.590169  \n",
       "21583  30.5019444  -90.747778  \n",
       "29747   35.696111   51.423056  \n",
       "30590  35.7113889 -109.541389  \n",
       "49422  40.8680556  -73.426111  \n",
       "53006  21.3069444 -157.858333  "
      ]
     },
     "execution_count": 84,
     "metadata": {},
     "output_type": "execute_result"
    }
   ],
   "source": [
    "df.loc[liste]"
   ]
  },
  {
   "cell_type": "code",
   "execution_count": 90,
   "id": "00eaa130",
   "metadata": {
    "scrolled": false
   },
   "outputs": [
    {
     "data": {
      "text/plain": [
       "'Hi  I&#8217;m writing to you because I wanted to talk to someone professional about my experiences. Never have I heard anyone talk about wha'"
      ]
     },
     "execution_count": 90,
     "metadata": {},
     "output_type": "execute_result"
    }
   ],
   "source": [
    "df.comments[38261]"
   ]
  },
  {
   "cell_type": "code",
   "execution_count": 92,
   "id": "bb2df846",
   "metadata": {},
   "outputs": [],
   "source": [
    "df.drop(index=38261,axis=0,inplace=True)"
   ]
  }
 ],
 "metadata": {
  "kernelspec": {
   "display_name": "Python 3 (ipykernel)",
   "language": "python",
   "name": "python3"
  },
  "language_info": {
   "codemirror_mode": {
    "name": "ipython",
    "version": 3
   },
   "file_extension": ".py",
   "mimetype": "text/x-python",
   "name": "python",
   "nbconvert_exporter": "python",
   "pygments_lexer": "ipython3",
   "version": "3.8.11"
  }
 },
 "nbformat": 4,
 "nbformat_minor": 5
}
