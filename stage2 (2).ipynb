{
 "cells": [
  {
   "cell_type": "code",
   "execution_count": 1,
   "id": "48d19c24",
   "metadata": {},
   "outputs": [],
   "source": [
    "import pandas as pd\n",
    "import numpy as np\n",
    "import re\n",
    "import warnings\n",
    "from sklearn.impute import SimpleImputer\n",
    "import matplotlib.pyplot as plt\n",
    "import seaborn as sns\n",
    "\n",
    "warnings.filterwarnings(\"ignore\")\n",
    "pd.set_option(\"display.max_columns\", None)"
   ]
  },
  {
   "cell_type": "code",
   "execution_count": 2,
   "id": "0f4de30b",
   "metadata": {},
   "outputs": [],
   "source": [
    "df = pd.read_json(\"stage1.json\")"
   ]
  },
  {
   "cell_type": "code",
   "execution_count": 3,
   "id": "19b8646a",
   "metadata": {},
   "outputs": [
    {
     "data": {
      "text/plain": [
       "Index(['make_model', 'body_type', 'price', 'vat', 'km', 'registration',\n",
       "       'prev_owner', 'hp', 'Type', 'Next Inspection', 'Inspection new',\n",
       "       'Warranty', 'Make', 'Model', 'First Registration', 'Body Color',\n",
       "       'Upholstery', 'Body', 'Nr. of Doors', 'Nr. of Seats', 'Gearing Type',\n",
       "       'Displacement', 'Weight', 'Drive chain', 'Consumption', 'CO2 Emission',\n",
       "       'Emission Class', '\\nComfort & Convenience\\n',\n",
       "       '\\nEntertainment & Media\\n', '\\nExtras\\n', '\\nSafety & Security\\n',\n",
       "       'Emission Label', 'Gears', 'Country version'],\n",
       "      dtype='object')"
      ]
     },
     "execution_count": 3,
     "metadata": {},
     "output_type": "execute_result"
    }
   ],
   "source": [
    "df.columns"
   ]
  },
  {
   "cell_type": "code",
   "execution_count": 4,
   "id": "2cf3d23d",
   "metadata": {},
   "outputs": [
    {
     "data": {
      "text/html": [
       "<div>\n",
       "<style scoped>\n",
       "    .dataframe tbody tr th:only-of-type {\n",
       "        vertical-align: middle;\n",
       "    }\n",
       "\n",
       "    .dataframe tbody tr th {\n",
       "        vertical-align: top;\n",
       "    }\n",
       "\n",
       "    .dataframe thead th {\n",
       "        text-align: right;\n",
       "    }\n",
       "</style>\n",
       "<table border=\"1\" class=\"dataframe\">\n",
       "  <thead>\n",
       "    <tr style=\"text-align: right;\">\n",
       "      <th></th>\n",
       "      <th>make_model</th>\n",
       "      <th>body_type</th>\n",
       "      <th>price</th>\n",
       "      <th>vat</th>\n",
       "      <th>km</th>\n",
       "      <th>registration</th>\n",
       "      <th>prev_owner</th>\n",
       "      <th>hp</th>\n",
       "      <th>Type</th>\n",
       "      <th>Next Inspection</th>\n",
       "      <th>Inspection new</th>\n",
       "      <th>Warranty</th>\n",
       "      <th>Make</th>\n",
       "      <th>Model</th>\n",
       "      <th>First Registration</th>\n",
       "      <th>Body Color</th>\n",
       "      <th>Upholstery</th>\n",
       "      <th>Body</th>\n",
       "      <th>Nr. of Doors</th>\n",
       "      <th>Nr. of Seats</th>\n",
       "      <th>Gearing Type</th>\n",
       "      <th>Displacement</th>\n",
       "      <th>Weight</th>\n",
       "      <th>Drive chain</th>\n",
       "      <th>Consumption</th>\n",
       "      <th>CO2 Emission</th>\n",
       "      <th>Emission Class</th>\n",
       "      <th>\\nComfort &amp; Convenience\\n</th>\n",
       "      <th>\\nEntertainment &amp; Media\\n</th>\n",
       "      <th>\\nExtras\\n</th>\n",
       "      <th>\\nSafety &amp; Security\\n</th>\n",
       "      <th>Emission Label</th>\n",
       "      <th>Gears</th>\n",
       "      <th>Country version</th>\n",
       "    </tr>\n",
       "  </thead>\n",
       "  <tbody>\n",
       "    <tr>\n",
       "      <th>0</th>\n",
       "      <td>Audi A1</td>\n",
       "      <td>Sedans</td>\n",
       "      <td>15770</td>\n",
       "      <td>VAT deductible</td>\n",
       "      <td>56,013 km</td>\n",
       "      <td>01/2016</td>\n",
       "      <td>2 previous owners</td>\n",
       "      <td>66 kW</td>\n",
       "      <td>[, Used, , Diesel (Particulate Filter)]</td>\n",
       "      <td>[\\n06/2021\\n, \\n99 g CO2/km (comb)\\n]</td>\n",
       "      <td>[\\nYes\\n, \\nEuro 6\\n]</td>\n",
       "      <td></td>\n",
       "      <td>\\nAudi\\n</td>\n",
       "      <td>[\\n, A1, \\n]</td>\n",
       "      <td>[\\n, 2016, \\n]</td>\n",
       "      <td>[\\n, Black, \\n]</td>\n",
       "      <td>[\\nCloth, Black\\n]</td>\n",
       "      <td>[\\n, Sedans, \\n]</td>\n",
       "      <td>[\\n5\\n]</td>\n",
       "      <td>[\\n5\\n]</td>\n",
       "      <td>[\\n, Automatic, \\n]</td>\n",
       "      <td>[\\n1,422 cc\\n]</td>\n",
       "      <td>[\\n1,220 kg\\n]</td>\n",
       "      <td>[\\nfront\\n]</td>\n",
       "      <td>[[3.8 l/100 km (comb)], [4.3 l/100 km (city)],...</td>\n",
       "      <td>[\\n99 g CO2/km (comb)\\n]</td>\n",
       "      <td>[\\nEuro 6\\n]</td>\n",
       "      <td>[Air conditioning, Armrest, Automatic climate ...</td>\n",
       "      <td>[Bluetooth, Hands-free equipment, On-board com...</td>\n",
       "      <td>[Alloy wheels, Catalytic Converter, Voice Cont...</td>\n",
       "      <td>[ABS, Central door lock, Daytime running light...</td>\n",
       "      <td>None</td>\n",
       "      <td>None</td>\n",
       "      <td>None</td>\n",
       "    </tr>\n",
       "    <tr>\n",
       "      <th>1</th>\n",
       "      <td>Audi A1</td>\n",
       "      <td>Sedans</td>\n",
       "      <td>14500</td>\n",
       "      <td>Price negotiable</td>\n",
       "      <td>80,000 km</td>\n",
       "      <td>03/2017</td>\n",
       "      <td>None</td>\n",
       "      <td>141 kW</td>\n",
       "      <td>[, Used, , Gasoline]</td>\n",
       "      <td>None</td>\n",
       "      <td>None</td>\n",
       "      <td>None</td>\n",
       "      <td>\\nAudi\\n</td>\n",
       "      <td>[\\n, A1, \\n]</td>\n",
       "      <td>[\\n, 2017, \\n]</td>\n",
       "      <td>[\\n, Red, \\n]</td>\n",
       "      <td>[\\nCloth, Grey\\n]</td>\n",
       "      <td>[\\n, Sedans, \\n]</td>\n",
       "      <td>[\\n3\\n]</td>\n",
       "      <td>[\\n4\\n]</td>\n",
       "      <td>[\\n, Automatic, \\n]</td>\n",
       "      <td>[\\n1,798 cc\\n]</td>\n",
       "      <td>[\\n1,255 kg\\n]</td>\n",
       "      <td>[\\nfront\\n]</td>\n",
       "      <td>[[5.6 l/100 km (comb)], [7.1 l/100 km (city)],...</td>\n",
       "      <td>[\\n129 g CO2/km (comb)\\n]</td>\n",
       "      <td>[\\nEuro 6\\n]</td>\n",
       "      <td>[Air conditioning, Automatic climate control, ...</td>\n",
       "      <td>[Bluetooth, Hands-free equipment, On-board com...</td>\n",
       "      <td>[Alloy wheels, Sport seats, Sport suspension, ...</td>\n",
       "      <td>[ABS, Central door lock, Central door lock wit...</td>\n",
       "      <td>[\\n4 (Green)\\n]</td>\n",
       "      <td>[\\n7\\n]</td>\n",
       "      <td>None</td>\n",
       "    </tr>\n",
       "    <tr>\n",
       "      <th>2</th>\n",
       "      <td>Audi A1</td>\n",
       "      <td>Sedans</td>\n",
       "      <td>14640</td>\n",
       "      <td>VAT deductible</td>\n",
       "      <td>83,450 km</td>\n",
       "      <td>02/2016</td>\n",
       "      <td>1 previous owner</td>\n",
       "      <td>85 kW</td>\n",
       "      <td>[, Used, , Diesel (Particulate Filter)]</td>\n",
       "      <td>None</td>\n",
       "      <td>None</td>\n",
       "      <td></td>\n",
       "      <td>\\nAudi\\n</td>\n",
       "      <td>[\\n, A1, \\n]</td>\n",
       "      <td>[\\n, 2016, \\n]</td>\n",
       "      <td>[\\n, Black, \\n]</td>\n",
       "      <td>[\\nCloth, Black\\n]</td>\n",
       "      <td>[\\n, Sedans, \\n]</td>\n",
       "      <td>[\\n4\\n]</td>\n",
       "      <td>[\\n4\\n]</td>\n",
       "      <td>[\\n, Automatic, \\n]</td>\n",
       "      <td>[\\n1,598 cc\\n]</td>\n",
       "      <td>None</td>\n",
       "      <td>[\\nfront\\n]</td>\n",
       "      <td>[[3.8 l/100 km (comb)], [4.4 l/100 km (city)],...</td>\n",
       "      <td>[\\n99 g CO2/km (comb)\\n]</td>\n",
       "      <td>[\\nEuro 6\\n]</td>\n",
       "      <td>[Air conditioning, Cruise control, Electrical ...</td>\n",
       "      <td>[MP3, On-board computer]</td>\n",
       "      <td>[Alloy wheels, Voice Control]</td>\n",
       "      <td>[ABS, Central door lock, Daytime running light...</td>\n",
       "      <td>[\\n4 (Green)\\n]</td>\n",
       "      <td>None</td>\n",
       "      <td>None</td>\n",
       "    </tr>\n",
       "    <tr>\n",
       "      <th>3</th>\n",
       "      <td>Audi A1</td>\n",
       "      <td>Sedans</td>\n",
       "      <td>14500</td>\n",
       "      <td>None</td>\n",
       "      <td>73,000 km</td>\n",
       "      <td>08/2016</td>\n",
       "      <td>1 previous owner</td>\n",
       "      <td>66 kW</td>\n",
       "      <td>[, Used, , Diesel (Particulate Filter)]</td>\n",
       "      <td>None</td>\n",
       "      <td>None</td>\n",
       "      <td>None</td>\n",
       "      <td>\\nAudi\\n</td>\n",
       "      <td>[\\n, A1, \\n]</td>\n",
       "      <td>[\\n, 2016, \\n]</td>\n",
       "      <td>[\\n, Brown, \\n]</td>\n",
       "      <td>None</td>\n",
       "      <td>[\\n, Sedans, \\n]</td>\n",
       "      <td>[\\n3\\n]</td>\n",
       "      <td>[\\n4\\n]</td>\n",
       "      <td>[\\n, Automatic, \\n]</td>\n",
       "      <td>[\\n1,422 cc\\n]</td>\n",
       "      <td>[\\n1,195 kg\\n]</td>\n",
       "      <td>None</td>\n",
       "      <td>[[3.8 l/100 km (comb)], [4.3 l/100 km (city)],...</td>\n",
       "      <td>[\\n99 g CO2/km (comb)\\n]</td>\n",
       "      <td>[\\nEuro 6\\n]</td>\n",
       "      <td>[Air suspension, Armrest, Auxiliary heating, E...</td>\n",
       "      <td>[Bluetooth, CD player, Hands-free equipment, M...</td>\n",
       "      <td>[Alloy wheels, Sport seats, Voice Control]</td>\n",
       "      <td>[ABS, Alarm system, Central door lock with rem...</td>\n",
       "      <td>None</td>\n",
       "      <td>[\\n6\\n]</td>\n",
       "      <td>None</td>\n",
       "    </tr>\n",
       "    <tr>\n",
       "      <th>4</th>\n",
       "      <td>Audi A1</td>\n",
       "      <td>Sedans</td>\n",
       "      <td>16790</td>\n",
       "      <td>None</td>\n",
       "      <td>16,200 km</td>\n",
       "      <td>05/2016</td>\n",
       "      <td>1 previous owner</td>\n",
       "      <td>66 kW</td>\n",
       "      <td>[, Used, , Diesel (Particulate Filter)]</td>\n",
       "      <td>None</td>\n",
       "      <td>[\\nYes\\n, \\n109 g CO2/km (comb)\\n]</td>\n",
       "      <td></td>\n",
       "      <td>\\nAudi\\n</td>\n",
       "      <td>[\\n, A1, \\n]</td>\n",
       "      <td>[\\n, 2016, \\n]</td>\n",
       "      <td>[\\n, Black, \\n]</td>\n",
       "      <td>[\\nCloth, Black\\n]</td>\n",
       "      <td>[\\n, Sedans, \\n]</td>\n",
       "      <td>[\\n5\\n]</td>\n",
       "      <td>[\\n5\\n]</td>\n",
       "      <td>[\\n, Automatic, \\n]</td>\n",
       "      <td>[\\n1,422 cc\\n]</td>\n",
       "      <td>None</td>\n",
       "      <td>[\\nfront\\n]</td>\n",
       "      <td>[[4.1 l/100 km (comb)], [4.6 l/100 km (city)],...</td>\n",
       "      <td>[\\n109 g CO2/km (comb)\\n]</td>\n",
       "      <td>[\\nEuro 6\\n]</td>\n",
       "      <td>[Air conditioning, Armrest, Automatic climate ...</td>\n",
       "      <td>[Bluetooth, CD player, Hands-free equipment, M...</td>\n",
       "      <td>[Alloy wheels, Sport package, Sport suspension...</td>\n",
       "      <td>[ABS, Central door lock, Driver-side airbag, E...</td>\n",
       "      <td>None</td>\n",
       "      <td>None</td>\n",
       "      <td>[\\nGermany\\n]</td>\n",
       "    </tr>\n",
       "  </tbody>\n",
       "</table>\n",
       "</div>"
      ],
      "text/plain": [
       "  make_model body_type  price               vat         km registration  \\\n",
       "0    Audi A1    Sedans  15770    VAT deductible  56,013 km      01/2016   \n",
       "1    Audi A1    Sedans  14500  Price negotiable  80,000 km      03/2017   \n",
       "2    Audi A1    Sedans  14640    VAT deductible  83,450 km      02/2016   \n",
       "3    Audi A1    Sedans  14500              None  73,000 km      08/2016   \n",
       "4    Audi A1    Sedans  16790              None  16,200 km      05/2016   \n",
       "\n",
       "          prev_owner      hp                                     Type  \\\n",
       "0  2 previous owners   66 kW  [, Used, , Diesel (Particulate Filter)]   \n",
       "1               None  141 kW                     [, Used, , Gasoline]   \n",
       "2   1 previous owner   85 kW  [, Used, , Diesel (Particulate Filter)]   \n",
       "3   1 previous owner   66 kW  [, Used, , Diesel (Particulate Filter)]   \n",
       "4   1 previous owner   66 kW  [, Used, , Diesel (Particulate Filter)]   \n",
       "\n",
       "                         Next Inspection                      Inspection new  \\\n",
       "0  [\\n06/2021\\n, \\n99 g CO2/km (comb)\\n]               [\\nYes\\n, \\nEuro 6\\n]   \n",
       "1                                   None                                None   \n",
       "2                                   None                                None   \n",
       "3                                   None                                None   \n",
       "4                                   None  [\\nYes\\n, \\n109 g CO2/km (comb)\\n]   \n",
       "\n",
       "  Warranty      Make         Model First Registration       Body Color  \\\n",
       "0           \\nAudi\\n  [\\n, A1, \\n]     [\\n, 2016, \\n]  [\\n, Black, \\n]   \n",
       "1     None  \\nAudi\\n  [\\n, A1, \\n]     [\\n, 2017, \\n]    [\\n, Red, \\n]   \n",
       "2           \\nAudi\\n  [\\n, A1, \\n]     [\\n, 2016, \\n]  [\\n, Black, \\n]   \n",
       "3     None  \\nAudi\\n  [\\n, A1, \\n]     [\\n, 2016, \\n]  [\\n, Brown, \\n]   \n",
       "4           \\nAudi\\n  [\\n, A1, \\n]     [\\n, 2016, \\n]  [\\n, Black, \\n]   \n",
       "\n",
       "           Upholstery              Body Nr. of Doors Nr. of Seats  \\\n",
       "0  [\\nCloth, Black\\n]  [\\n, Sedans, \\n]      [\\n5\\n]      [\\n5\\n]   \n",
       "1   [\\nCloth, Grey\\n]  [\\n, Sedans, \\n]      [\\n3\\n]      [\\n4\\n]   \n",
       "2  [\\nCloth, Black\\n]  [\\n, Sedans, \\n]      [\\n4\\n]      [\\n4\\n]   \n",
       "3                None  [\\n, Sedans, \\n]      [\\n3\\n]      [\\n4\\n]   \n",
       "4  [\\nCloth, Black\\n]  [\\n, Sedans, \\n]      [\\n5\\n]      [\\n5\\n]   \n",
       "\n",
       "          Gearing Type    Displacement          Weight  Drive chain  \\\n",
       "0  [\\n, Automatic, \\n]  [\\n1,422 cc\\n]  [\\n1,220 kg\\n]  [\\nfront\\n]   \n",
       "1  [\\n, Automatic, \\n]  [\\n1,798 cc\\n]  [\\n1,255 kg\\n]  [\\nfront\\n]   \n",
       "2  [\\n, Automatic, \\n]  [\\n1,598 cc\\n]            None  [\\nfront\\n]   \n",
       "3  [\\n, Automatic, \\n]  [\\n1,422 cc\\n]  [\\n1,195 kg\\n]         None   \n",
       "4  [\\n, Automatic, \\n]  [\\n1,422 cc\\n]            None  [\\nfront\\n]   \n",
       "\n",
       "                                         Consumption  \\\n",
       "0  [[3.8 l/100 km (comb)], [4.3 l/100 km (city)],...   \n",
       "1  [[5.6 l/100 km (comb)], [7.1 l/100 km (city)],...   \n",
       "2  [[3.8 l/100 km (comb)], [4.4 l/100 km (city)],...   \n",
       "3  [[3.8 l/100 km (comb)], [4.3 l/100 km (city)],...   \n",
       "4  [[4.1 l/100 km (comb)], [4.6 l/100 km (city)],...   \n",
       "\n",
       "                CO2 Emission Emission Class  \\\n",
       "0   [\\n99 g CO2/km (comb)\\n]   [\\nEuro 6\\n]   \n",
       "1  [\\n129 g CO2/km (comb)\\n]   [\\nEuro 6\\n]   \n",
       "2   [\\n99 g CO2/km (comb)\\n]   [\\nEuro 6\\n]   \n",
       "3   [\\n99 g CO2/km (comb)\\n]   [\\nEuro 6\\n]   \n",
       "4  [\\n109 g CO2/km (comb)\\n]   [\\nEuro 6\\n]   \n",
       "\n",
       "                           \\nComfort & Convenience\\n  \\\n",
       "0  [Air conditioning, Armrest, Automatic climate ...   \n",
       "1  [Air conditioning, Automatic climate control, ...   \n",
       "2  [Air conditioning, Cruise control, Electrical ...   \n",
       "3  [Air suspension, Armrest, Auxiliary heating, E...   \n",
       "4  [Air conditioning, Armrest, Automatic climate ...   \n",
       "\n",
       "                           \\nEntertainment & Media\\n  \\\n",
       "0  [Bluetooth, Hands-free equipment, On-board com...   \n",
       "1  [Bluetooth, Hands-free equipment, On-board com...   \n",
       "2                           [MP3, On-board computer]   \n",
       "3  [Bluetooth, CD player, Hands-free equipment, M...   \n",
       "4  [Bluetooth, CD player, Hands-free equipment, M...   \n",
       "\n",
       "                                          \\nExtras\\n  \\\n",
       "0  [Alloy wheels, Catalytic Converter, Voice Cont...   \n",
       "1  [Alloy wheels, Sport seats, Sport suspension, ...   \n",
       "2                      [Alloy wheels, Voice Control]   \n",
       "3         [Alloy wheels, Sport seats, Voice Control]   \n",
       "4  [Alloy wheels, Sport package, Sport suspension...   \n",
       "\n",
       "                               \\nSafety & Security\\n   Emission Label  \\\n",
       "0  [ABS, Central door lock, Daytime running light...             None   \n",
       "1  [ABS, Central door lock, Central door lock wit...  [\\n4 (Green)\\n]   \n",
       "2  [ABS, Central door lock, Daytime running light...  [\\n4 (Green)\\n]   \n",
       "3  [ABS, Alarm system, Central door lock with rem...             None   \n",
       "4  [ABS, Central door lock, Driver-side airbag, E...             None   \n",
       "\n",
       "     Gears Country version  \n",
       "0     None            None  \n",
       "1  [\\n7\\n]            None  \n",
       "2     None            None  \n",
       "3  [\\n6\\n]            None  \n",
       "4     None   [\\nGermany\\n]  "
      ]
     },
     "execution_count": 4,
     "metadata": {},
     "output_type": "execute_result"
    }
   ],
   "source": [
    "df.head()"
   ]
  },
  {
   "cell_type": "markdown",
   "id": "841ed96f",
   "metadata": {},
   "source": [
    "### Öncelikle Dublicate satırları düşüyoruz. "
   ]
  },
  {
   "cell_type": "code",
   "execution_count": 5,
   "id": "8716fd5a",
   "metadata": {},
   "outputs": [
    {
     "data": {
      "text/plain": [
       "(15919, 34)"
      ]
     },
     "execution_count": 5,
     "metadata": {},
     "output_type": "execute_result"
    }
   ],
   "source": [
    "df.shape"
   ]
  },
  {
   "cell_type": "code",
   "execution_count": 6,
   "id": "07fd2f19",
   "metadata": {},
   "outputs": [
    {
     "data": {
      "text/plain": [
       "(15919, 34)"
      ]
     },
     "execution_count": 6,
     "metadata": {},
     "output_type": "execute_result"
    }
   ],
   "source": [
    "df.shape"
   ]
  },
  {
   "cell_type": "markdown",
   "id": "3e7278e0",
   "metadata": {},
   "source": [
    "### make_model \n",
    "**Bu sütunda yer alan veriler üzerinde herhangi bir cleaning işlemi yapmaya gerek yok.**"
   ]
  },
  {
   "cell_type": "code",
   "execution_count": 7,
   "id": "c6be5392",
   "metadata": {},
   "outputs": [
    {
     "data": {
      "text/plain": [
       "3627           Audi A3\n",
       "6528        Opel Astra\n",
       "3948           Audi A3\n",
       "11360    Opel Insignia\n",
       "3807           Audi A3\n",
       "Name: make_model, dtype: object"
      ]
     },
     "execution_count": 7,
     "metadata": {},
     "output_type": "execute_result"
    }
   ],
   "source": [
    "df.make_model.sample(5)\n",
    "    "
   ]
  },
  {
   "cell_type": "code",
   "execution_count": 8,
   "id": "96632a21",
   "metadata": {},
   "outputs": [
    {
     "data": {
      "text/plain": [
       "0"
      ]
     },
     "execution_count": 8,
     "metadata": {},
     "output_type": "execute_result"
    }
   ],
   "source": [
    "df.make_model.isnull().sum()"
   ]
  },
  {
   "cell_type": "markdown",
   "id": "963ead45",
   "metadata": {},
   "source": [
    "### body_type\n",
    "**bu sütun üzerinde data cleaning işlemi yapmaya gerek yok."
   ]
  },
  {
   "cell_type": "code",
   "execution_count": 9,
   "id": "b99b3b7c",
   "metadata": {},
   "outputs": [
    {
     "data": {
      "text/plain": [
       "60"
      ]
     },
     "execution_count": 9,
     "metadata": {},
     "output_type": "execute_result"
    }
   ],
   "source": [
    "df.body_type.isnull().sum()"
   ]
  },
  {
   "cell_type": "code",
   "execution_count": 10,
   "id": "4bab587a",
   "metadata": {},
   "outputs": [
    {
     "data": {
      "text/plain": [
       "Sedans           7903\n",
       "Station wagon    3553\n",
       "Compact          3153\n",
       "Van               783\n",
       "Other             290\n",
       "Transporter        88\n",
       "Off-Road           56\n",
       "Coupe              25\n",
       "Convertible         8\n",
       "Name: body_type, dtype: int64"
      ]
     },
     "execution_count": 10,
     "metadata": {},
     "output_type": "execute_result"
    }
   ],
   "source": [
    "df.body_type.value_counts()\n"
   ]
  },
  {
   "cell_type": "code",
   "execution_count": 11,
   "id": "71d6e608",
   "metadata": {},
   "outputs": [
    {
     "data": {
      "text/plain": [
       "Index(['make_model', 'body_type', 'price', 'vat', 'km', 'registration',\n",
       "       'prev_owner', 'hp', 'Type', 'Next Inspection', 'Inspection new',\n",
       "       'Warranty', 'Make', 'Model', 'First Registration', 'Body Color',\n",
       "       'Upholstery', 'Body', 'Nr. of Doors', 'Nr. of Seats', 'Gearing Type',\n",
       "       'Displacement', 'Weight', 'Drive chain', 'Consumption', 'CO2 Emission',\n",
       "       'Emission Class', '\\nComfort & Convenience\\n',\n",
       "       '\\nEntertainment & Media\\n', '\\nExtras\\n', '\\nSafety & Security\\n',\n",
       "       'Emission Label', 'Gears', 'Country version'],\n",
       "      dtype='object')"
      ]
     },
     "execution_count": 11,
     "metadata": {},
     "output_type": "execute_result"
    }
   ],
   "source": [
    "df.columns"
   ]
  },
  {
   "cell_type": "markdown",
   "id": "48ce6611",
   "metadata": {},
   "source": [
    "### price"
   ]
  },
  {
   "cell_type": "markdown",
   "id": "cc3bcd90",
   "metadata": {},
   "source": [
    "**Bu sütunda integer değerler var ve veri tipi de integer. Null değerler yok fakat outlier değerler var.**"
   ]
  },
  {
   "cell_type": "code",
   "execution_count": 12,
   "id": "c7ee1969",
   "metadata": {},
   "outputs": [
    {
     "data": {
      "text/plain": [
       "dtype('int64')"
      ]
     },
     "execution_count": 12,
     "metadata": {},
     "output_type": "execute_result"
    }
   ],
   "source": [
    "df.price.dtype"
   ]
  },
  {
   "cell_type": "code",
   "execution_count": 13,
   "id": "655e05d5",
   "metadata": {},
   "outputs": [
    {
     "data": {
      "text/plain": [
       "0"
      ]
     },
     "execution_count": 13,
     "metadata": {},
     "output_type": "execute_result"
    }
   ],
   "source": [
    "df.price.isnull().sum()"
   ]
  },
  {
   "cell_type": "code",
   "execution_count": 14,
   "id": "a746cbb7",
   "metadata": {},
   "outputs": [],
   "source": [
    "min_price,max_price = min(df.price), max(df.price)"
   ]
  },
  {
   "cell_type": "code",
   "execution_count": 15,
   "id": "efbc08ba",
   "metadata": {},
   "outputs": [
    {
     "data": {
      "text/plain": [
       "[13, 74600]"
      ]
     },
     "execution_count": 15,
     "metadata": {},
     "output_type": "execute_result"
    }
   ],
   "source": [
    "[min_price,max_price]"
   ]
  },
  {
   "cell_type": "markdown",
   "id": "0b9b8225",
   "metadata": {},
   "source": [
    "**Outlier değerler var bunlar ile daha sonra ilgileneceğiz. Outlier değerleri tespit edip bunlar ile ilgili \n",
    "karar vereceğiz.**"
   ]
  },
  {
   "cell_type": "markdown",
   "id": "51fb04d5",
   "metadata": {},
   "source": [
    "### vat \n",
    "**bu sütunda yer alan değerler için web sitesini incelediğimiz zaman 2 farklı seçenek vardı.\n",
    "bunlardan null olanları false diğerlerini True yaptık.** "
   ]
  },
  {
   "cell_type": "code",
   "execution_count": 16,
   "id": "295d7948",
   "metadata": {},
   "outputs": [
    {
     "data": {
      "text/plain": [
       "13746                None\n",
       "5861     Price negotiable\n",
       "7408       VAT deductible\n",
       "14115                None\n",
       "14637      VAT deductible\n",
       "Name: vat, dtype: object"
      ]
     },
     "execution_count": 16,
     "metadata": {},
     "output_type": "execute_result"
    }
   ],
   "source": [
    "df.vat.sample(5)"
   ]
  },
  {
   "cell_type": "code",
   "execution_count": 17,
   "id": "0093da9b",
   "metadata": {},
   "outputs": [
    {
     "data": {
      "text/plain": [
       "array(['VAT deductible', 'Price negotiable', None], dtype=object)"
      ]
     },
     "execution_count": 17,
     "metadata": {},
     "output_type": "execute_result"
    }
   ],
   "source": [
    "df.vat.unique()"
   ]
  },
  {
   "cell_type": "code",
   "execution_count": 18,
   "id": "e33a87f6",
   "metadata": {},
   "outputs": [
    {
     "data": {
      "text/plain": [
       "VAT deductible      10980\n",
       "Price negotiable      426\n",
       "Name: vat, dtype: int64"
      ]
     },
     "execution_count": 18,
     "metadata": {},
     "output_type": "execute_result"
    }
   ],
   "source": [
    "df.vat.value_counts()"
   ]
  },
  {
   "cell_type": "code",
   "execution_count": 19,
   "id": "2ab512e9",
   "metadata": {},
   "outputs": [
    {
     "data": {
      "text/plain": [
       "4513"
      ]
     },
     "execution_count": 19,
     "metadata": {},
     "output_type": "execute_result"
    }
   ],
   "source": [
    "df.vat.isnull().sum()"
   ]
  },
  {
   "cell_type": "code",
   "execution_count": 20,
   "id": "16076299",
   "metadata": {},
   "outputs": [
    {
     "data": {
      "text/plain": [
       "NoneType"
      ]
     },
     "execution_count": 20,
     "metadata": {},
     "output_type": "execute_result"
    }
   ],
   "source": [
    "type(df.vat[4])"
   ]
  },
  {
   "cell_type": "code",
   "execution_count": 21,
   "id": "a30d6334",
   "metadata": {},
   "outputs": [],
   "source": [
    "df.vat = df.vat.map(lambda x: False if x == None else True)"
   ]
  },
  {
   "cell_type": "code",
   "execution_count": 22,
   "id": "a8837376",
   "metadata": {},
   "outputs": [
    {
     "data": {
      "text/plain": [
       "True     11406\n",
       "False     4513\n",
       "Name: vat, dtype: int64"
      ]
     },
     "execution_count": 22,
     "metadata": {},
     "output_type": "execute_result"
    }
   ],
   "source": [
    "df.vat.value_counts()"
   ]
  },
  {
   "cell_type": "code",
   "execution_count": 23,
   "id": "d15c0939",
   "metadata": {},
   "outputs": [
    {
     "data": {
      "text/plain": [
       "False"
      ]
     },
     "execution_count": 23,
     "metadata": {},
     "output_type": "execute_result"
    }
   ],
   "source": [
    "np.nan == np.nan  # np.nan özel bir değer. kendisine bile eşit değil."
   ]
  },
  {
   "cell_type": "code",
   "execution_count": 24,
   "id": "e1107af1",
   "metadata": {},
   "outputs": [
    {
     "data": {
      "text/plain": [
       "float"
      ]
     },
     "execution_count": 24,
     "metadata": {},
     "output_type": "execute_result"
    }
   ],
   "source": [
    "type(np.nan)  # değer tipi olarak float döndürür."
   ]
  },
  {
   "cell_type": "markdown",
   "id": "262e5f17",
   "metadata": {},
   "source": [
    "### km \n",
    "**sütunu string veri tipinde. Bu sütunu temizleyip integer veri tipine çevirmeliyiz.** "
   ]
  },
  {
   "cell_type": "code",
   "execution_count": 25,
   "id": "88a12978",
   "metadata": {},
   "outputs": [
    {
     "data": {
      "text/plain": [
       "0        56,013 km\n",
       "1        80,000 km\n",
       "2        83,450 km\n",
       "3        73,000 km\n",
       "4        16,200 km\n",
       "           ...    \n",
       "15914         - km\n",
       "15915     9,900 km\n",
       "15916        15 km\n",
       "15917        10 km\n",
       "15918         - km\n",
       "Name: km, Length: 15919, dtype: object"
      ]
     },
     "execution_count": 25,
     "metadata": {},
     "output_type": "execute_result"
    }
   ],
   "source": [
    "df.km"
   ]
  },
  {
   "cell_type": "code",
   "execution_count": 26,
   "id": "3ae7fa18",
   "metadata": {},
   "outputs": [],
   "source": [
    "df.km = df.km.str.replace(',','').str.strip(' km').replace('-', np.nan).astype(float)\n"
   ]
  },
  {
   "cell_type": "markdown",
   "id": "c29ec436",
   "metadata": {},
   "source": [
    "**km sütunu içinde yer alan non-integer ifadeler temizlendi. Yerlerine nan değerler atandı. Nan değerlerin yerine**\n",
    "**diğer sütunlar incelendikten sonra ortalama bir km değeri atamayı planlıyoruz. Şimdilik işlem yapılmadı.**"
   ]
  },
  {
   "cell_type": "code",
   "execution_count": 27,
   "id": "e23c332c",
   "metadata": {},
   "outputs": [
    {
     "data": {
      "text/plain": [
       "1024"
      ]
     },
     "execution_count": 27,
     "metadata": {},
     "output_type": "execute_result"
    }
   ],
   "source": [
    "df.km.isnull().sum()"
   ]
  },
  {
   "cell_type": "code",
   "execution_count": 28,
   "id": "e4ab06ff",
   "metadata": {},
   "outputs": [
    {
     "ename": "TypeError",
     "evalue": "unhashable type: 'list'",
     "output_type": "error",
     "traceback": [
      "\u001b[1;31m---------------------------------------------------------------------------\u001b[0m",
      "\u001b[1;31mTypeError\u001b[0m                                 Traceback (most recent call last)",
      "\u001b[1;32mpandas\\_libs\\hashtable_class_helper.pxi\u001b[0m in \u001b[0;36mpandas._libs.hashtable.PyObjectHashTable.map_locations\u001b[1;34m()\u001b[0m\n",
      "\u001b[1;31mTypeError\u001b[0m: unhashable type: 'list'"
     ]
    },
    {
     "name": "stderr",
     "output_type": "stream",
     "text": [
      "Exception ignored in: 'pandas._libs.index.IndexEngine._call_map_locations'\n",
      "Traceback (most recent call last):\n",
      "  File \"pandas\\_libs\\hashtable_class_helper.pxi\", line 5231, in pandas._libs.hashtable.PyObjectHashTable.map_locations\n",
      "TypeError: unhashable type: 'list'\n"
     ]
    },
    {
     "data": {
      "text/plain": [
       "[\\n, 2019, \\n]    147\n",
       "[\\n, 2018, \\n]     38\n",
       "[\\n, 2017, \\n]      1\n",
       "Name: First Registration, dtype: int64"
      ]
     },
     "execution_count": 28,
     "metadata": {},
     "output_type": "execute_result"
    }
   ],
   "source": [
    "df[df.km.isnull()]['First Registration'].value_counts()"
   ]
  },
  {
   "cell_type": "markdown",
   "id": "d57b721c",
   "metadata": {},
   "source": [
    "### registration Sütunu"
   ]
  },
  {
   "cell_type": "markdown",
   "id": "dfe22223",
   "metadata": {},
   "source": [
    "**Veri tipini datetime tipine çevirmeliyiz. Çünkü tarih verisi içeriyor.** "
   ]
  },
  {
   "cell_type": "code",
   "execution_count": 29,
   "id": "1337eb7a",
   "metadata": {},
   "outputs": [
    {
     "data": {
      "text/plain": [
       "0    01/2016\n",
       "1    03/2017\n",
       "2    02/2016\n",
       "3    08/2016\n",
       "4    05/2016\n",
       "Name: registration, dtype: object"
      ]
     },
     "execution_count": 29,
     "metadata": {},
     "output_type": "execute_result"
    }
   ],
   "source": [
    "df.registration.head()"
   ]
  },
  {
   "cell_type": "code",
   "execution_count": 30,
   "id": "7d0ff405",
   "metadata": {},
   "outputs": [
    {
     "data": {
      "text/plain": [
       "0"
      ]
     },
     "execution_count": 30,
     "metadata": {},
     "output_type": "execute_result"
    }
   ],
   "source": [
    "df.registration.isnull().sum()"
   ]
  },
  {
   "cell_type": "code",
   "execution_count": 31,
   "id": "57578f88",
   "metadata": {},
   "outputs": [],
   "source": [
    "df.registration = df.registration.replace('-/-', np.nan)\n"
   ]
  },
  {
   "cell_type": "code",
   "execution_count": 32,
   "id": "1d5f1ccb",
   "metadata": {},
   "outputs": [],
   "source": [
    "df.registration = pd.to_datetime(df.registration)\n"
   ]
  },
  {
   "cell_type": "code",
   "execution_count": 33,
   "id": "84b0c7a1",
   "metadata": {},
   "outputs": [
    {
     "data": {
      "text/plain": [
       "1597"
      ]
     },
     "execution_count": 33,
     "metadata": {},
     "output_type": "execute_result"
    }
   ],
   "source": [
    "df[\"First Registration\"].isnull().sum()"
   ]
  },
  {
   "cell_type": "code",
   "execution_count": 34,
   "id": "20992c27",
   "metadata": {},
   "outputs": [
    {
     "data": {
      "text/plain": [
       "1597"
      ]
     },
     "execution_count": 34,
     "metadata": {},
     "output_type": "execute_result"
    }
   ],
   "source": [
    "df.registration.isnull().sum()"
   ]
  },
  {
   "cell_type": "code",
   "execution_count": 35,
   "id": "cdceb8b4",
   "metadata": {},
   "outputs": [
    {
     "data": {
      "text/html": [
       "<div>\n",
       "<style scoped>\n",
       "    .dataframe tbody tr th:only-of-type {\n",
       "        vertical-align: middle;\n",
       "    }\n",
       "\n",
       "    .dataframe tbody tr th {\n",
       "        vertical-align: top;\n",
       "    }\n",
       "\n",
       "    .dataframe thead th {\n",
       "        text-align: right;\n",
       "    }\n",
       "</style>\n",
       "<table border=\"1\" class=\"dataframe\">\n",
       "  <thead>\n",
       "    <tr style=\"text-align: right;\">\n",
       "      <th></th>\n",
       "      <th>First Registration</th>\n",
       "      <th>registration</th>\n",
       "    </tr>\n",
       "  </thead>\n",
       "  <tbody>\n",
       "    <tr>\n",
       "      <th>13980</th>\n",
       "      <td>[\\n, 2018, \\n]</td>\n",
       "      <td>2018-04-01</td>\n",
       "    </tr>\n",
       "    <tr>\n",
       "      <th>3761</th>\n",
       "      <td>[\\n, 2018, \\n]</td>\n",
       "      <td>2018-05-01</td>\n",
       "    </tr>\n",
       "    <tr>\n",
       "      <th>7832</th>\n",
       "      <td>None</td>\n",
       "      <td>NaT</td>\n",
       "    </tr>\n",
       "    <tr>\n",
       "      <th>948</th>\n",
       "      <td>[\\n, 2018, \\n]</td>\n",
       "      <td>2018-07-01</td>\n",
       "    </tr>\n",
       "    <tr>\n",
       "      <th>3526</th>\n",
       "      <td>[\\n, 2016, \\n]</td>\n",
       "      <td>2016-01-01</td>\n",
       "    </tr>\n",
       "  </tbody>\n",
       "</table>\n",
       "</div>"
      ],
      "text/plain": [
       "      First Registration registration\n",
       "13980     [\\n, 2018, \\n]   2018-04-01\n",
       "3761      [\\n, 2018, \\n]   2018-05-01\n",
       "7832                None          NaT\n",
       "948       [\\n, 2018, \\n]   2018-07-01\n",
       "3526      [\\n, 2016, \\n]   2016-01-01"
      ]
     },
     "execution_count": 35,
     "metadata": {},
     "output_type": "execute_result"
    }
   ],
   "source": [
    "df[['First Registration','registration']].sample(5)\n",
    "# first registration sütunun  ile registration sütunu benzer değerleri içerdiği için\n",
    "# first registration sütunu drop edilebilir"
   ]
  },
  {
   "cell_type": "code",
   "execution_count": 36,
   "id": "dfbeaf77",
   "metadata": {},
   "outputs": [],
   "source": [
    "df.drop('First Registration',axis=1,inplace=True)"
   ]
  },
  {
   "cell_type": "markdown",
   "id": "dd8111e0",
   "metadata": {},
   "source": [
    "###  registration sütununda yer alan nan değerler için daha sonra tekrar bakılacak."
   ]
  },
  {
   "cell_type": "code",
   "execution_count": null,
   "id": "95dea223",
   "metadata": {},
   "outputs": [],
   "source": []
  },
  {
   "cell_type": "markdown",
   "id": "3ced4f4d",
   "metadata": {},
   "source": [
    "### 'prev_owner' sütunu\n",
    "**arabanın kaçıncı el olduğu bilgisi yer alıyor. Bu sütunun daha anlamlı hale gelmesi için integer'a çevirilebilir.**"
   ]
  },
  {
   "cell_type": "code",
   "execution_count": 37,
   "id": "86020bd4",
   "metadata": {},
   "outputs": [
    {
     "data": {
      "text/plain": [
       "0    2 previous owners\n",
       "1                 None\n",
       "2     1 previous owner\n",
       "3     1 previous owner\n",
       "4     1 previous owner\n",
       "Name: prev_owner, dtype: object"
      ]
     },
     "execution_count": 37,
     "metadata": {},
     "output_type": "execute_result"
    }
   ],
   "source": [
    "df.prev_owner.head()"
   ]
  },
  {
   "cell_type": "code",
   "execution_count": 38,
   "id": "291235fc",
   "metadata": {},
   "outputs": [
    {
     "data": {
      "text/plain": [
       "array(['2 previous owners', None, '1 previous owner', '3 previous owners',\n",
       "       '4 previous owners'], dtype=object)"
      ]
     },
     "execution_count": 38,
     "metadata": {},
     "output_type": "execute_result"
    }
   ],
   "source": [
    "df.prev_owner.unique()"
   ]
  },
  {
   "cell_type": "code",
   "execution_count": 39,
   "id": "95a7eebd",
   "metadata": {},
   "outputs": [
    {
     "data": {
      "text/plain": [
       "6828"
      ]
     },
     "execution_count": 39,
     "metadata": {},
     "output_type": "execute_result"
    }
   ],
   "source": [
    "df.prev_owner.isnull().sum()"
   ]
  },
  {
   "cell_type": "code",
   "execution_count": 40,
   "id": "4ddc86c0",
   "metadata": {},
   "outputs": [],
   "source": [
    "df.prev_owner = df.prev_owner.str.strip('previous owners').astype(float)\n"
   ]
  },
  {
   "cell_type": "code",
   "execution_count": 41,
   "id": "d0025cfe",
   "metadata": {},
   "outputs": [],
   "source": [
    "# df.prev_owner.map(lambda x: x.split()[0],na_action='ignore').astype(float)"
   ]
  },
  {
   "cell_type": "markdown",
   "id": "da7b899e",
   "metadata": {},
   "source": [
    "### hp sütunu\n",
    "** bu sütunu integer ya da float a çevirebiliriz.** "
   ]
  },
  {
   "cell_type": "code",
   "execution_count": 42,
   "id": "e87a2c57",
   "metadata": {
    "scrolled": true
   },
   "outputs": [
    {
     "data": {
      "text/plain": [
       "85 kW     2542\n",
       "66 kW     2122\n",
       "81 kW     1402\n",
       "100 kW    1308\n",
       "110 kW    1112\n",
       "          ... \n",
       "84 kW        1\n",
       "195 kW       1\n",
       "44 kW        1\n",
       "239 kW       1\n",
       "9 kW         1\n",
       "Name: hp, Length: 81, dtype: int64"
      ]
     },
     "execution_count": 42,
     "metadata": {},
     "output_type": "execute_result"
    }
   ],
   "source": [
    "df.hp.value_counts()"
   ]
  },
  {
   "cell_type": "code",
   "execution_count": 43,
   "id": "e103acd6",
   "metadata": {},
   "outputs": [
    {
     "data": {
      "text/plain": [
       "0         66 kW\n",
       "1        141 kW\n",
       "2         85 kW\n",
       "3         66 kW\n",
       "4         66 kW\n",
       "          ...  \n",
       "15914    147 kW\n",
       "15915    165 kW\n",
       "15916    146 kW\n",
       "15917    147 kW\n",
       "15918    165 kW\n",
       "Name: hp, Length: 15919, dtype: object"
      ]
     },
     "execution_count": 43,
     "metadata": {},
     "output_type": "execute_result"
    }
   ],
   "source": [
    "df.hp"
   ]
  },
  {
   "cell_type": "code",
   "execution_count": 44,
   "id": "a11434b7",
   "metadata": {},
   "outputs": [],
   "source": [
    "df.hp = df.hp.str.strip(\" kW\").replace(\"-\",np.nan).astype(float)"
   ]
  },
  {
   "cell_type": "code",
   "execution_count": 45,
   "id": "363ead09",
   "metadata": {},
   "outputs": [
    {
     "data": {
      "text/plain": [
       "88"
      ]
     },
     "execution_count": 45,
     "metadata": {},
     "output_type": "execute_result"
    }
   ],
   "source": [
    "df.hp.isnull().sum()"
   ]
  },
  {
   "cell_type": "markdown",
   "id": "575cab5a",
   "metadata": {},
   "source": [
    "### Type sütunu"
   ]
  },
  {
   "cell_type": "code",
   "execution_count": 46,
   "id": "2cb465ef",
   "metadata": {},
   "outputs": [
    {
     "data": {
      "text/plain": [
       "0                  [, Used, , Diesel (Particulate Filter)]\n",
       "1                                     [, Used, , Gasoline]\n",
       "2                  [, Used, , Diesel (Particulate Filter)]\n",
       "3                  [, Used, , Diesel (Particulate Filter)]\n",
       "4                  [, Used, , Diesel (Particulate Filter)]\n",
       "                               ...                        \n",
       "15914               [, New, , Diesel (Particulate Filter)]\n",
       "15915    [, Used, , Super 95 / Super Plus 98 (Particula...\n",
       "15916                         [, Pre-registered, , Diesel]\n",
       "15917                         [, Pre-registered, , Diesel]\n",
       "15918                        [, Demonstration, , Super 95]\n",
       "Name: Type, Length: 15919, dtype: object"
      ]
     },
     "execution_count": 46,
     "metadata": {},
     "output_type": "execute_result"
    }
   ],
   "source": [
    "df.Type"
   ]
  },
  {
   "cell_type": "code",
   "execution_count": 47,
   "id": "68d70f3e",
   "metadata": {},
   "outputs": [
    {
     "data": {
      "text/plain": [
       "8045                New\n",
       "10967              Used\n",
       "4912               Used\n",
       "3764               Used\n",
       "9214     Employee's car\n",
       "Name: Type, dtype: object"
      ]
     },
     "execution_count": 47,
     "metadata": {},
     "output_type": "execute_result"
    }
   ],
   "source": [
    "df.Type.map(lambda x: x[1],na_action='ignore').sample(5)\n",
    "# siteyi incelediğimiz bu bilgilerin \"Vehicle condition\" olarak karşımıza çıktığını görmekteyiz. Serda\n",
    "# bu nedenle Vehicle condition sütunu oluşturup type sütununu parçalıyoruz."
   ]
  },
  {
   "cell_type": "code",
   "execution_count": 48,
   "id": "79df78b7",
   "metadata": {},
   "outputs": [],
   "source": [
    "df[\"Vehicle condition\"] = df.Type.map(lambda x: x[1],na_action='ignore')\n"
   ]
  },
  {
   "cell_type": "code",
   "execution_count": 49,
   "id": "8c334d1b",
   "metadata": {},
   "outputs": [
    {
     "data": {
      "text/plain": [
       "0    Used\n",
       "1    Used\n",
       "2    Used\n",
       "3    Used\n",
       "4    Used\n",
       "Name: Vehicle condition, dtype: object"
      ]
     },
     "execution_count": 49,
     "metadata": {},
     "output_type": "execute_result"
    }
   ],
   "source": [
    "df[\"Vehicle condition\"].head()"
   ]
  },
  {
   "cell_type": "code",
   "execution_count": 50,
   "id": "bcc1d423",
   "metadata": {},
   "outputs": [
    {
     "data": {
      "text/plain": [
       "4819"
      ]
     },
     "execution_count": 50,
     "metadata": {},
     "output_type": "execute_result"
    }
   ],
   "source": [
    "df.Type.map(lambda x: x[3],na_action='ignore').str.contains(\"Particulate Filter\").sum()\n",
    "# particulate filter içeren satır sayısı"
   ]
  },
  {
   "cell_type": "code",
   "execution_count": 51,
   "id": "d02849ff",
   "metadata": {
    "scrolled": false
   },
   "outputs": [],
   "source": [
    "df[\"particul_filter\"] = df.Type.map(lambda x: x[3], na_action='ignore').str.extract(\"\\(([^)]+)\").fillna(False)\n",
    "# particule filter için regex denemesi () parantez içinde yer yazan 'particulate filter' string ifadeyi almak için\n",
    "# içinde particulate filter yazmayan nan değerlere False atadık"
   ]
  },
  {
   "cell_type": "code",
   "execution_count": 52,
   "id": "65739457",
   "metadata": {},
   "outputs": [],
   "source": [
    "df.particul_filter = df.particul_filter.map(lambda x: True if x else False)\n",
    "# içinde particulate filter yazanları True yazmayanlar ise zaten false"
   ]
  },
  {
   "cell_type": "code",
   "execution_count": 53,
   "id": "2744c760",
   "metadata": {},
   "outputs": [
    {
     "data": {
      "text/plain": [
       "0         True\n",
       "1        False\n",
       "2         True\n",
       "3         True\n",
       "4         True\n",
       "         ...  \n",
       "15914     True\n",
       "15915     True\n",
       "15916    False\n",
       "15917    False\n",
       "15918    False\n",
       "Name: particul_filter, Length: 15919, dtype: bool"
      ]
     },
     "execution_count": 53,
     "metadata": {},
     "output_type": "execute_result"
    }
   ],
   "source": [
    "df.particul_filter"
   ]
  },
  {
   "cell_type": "code",
   "execution_count": 54,
   "id": "b70f75f8",
   "metadata": {},
   "outputs": [],
   "source": [
    "df[\"Fuel Type\"] = df.Type.map(lambda x: x[3],na_action='ignore').str.extract(\"([^(]+)\")\n",
    "# ( karakterinden önceki her şeyi al \n",
    "# bu sayede araçların yakıt tiplerini çekmiş olacağız."
   ]
  },
  {
   "cell_type": "code",
   "execution_count": 55,
   "id": "3ebdf966",
   "metadata": {},
   "outputs": [
    {
     "data": {
      "text/plain": [
       "0                          Diesel \n",
       "1                         Gasoline\n",
       "2                          Diesel \n",
       "3                          Diesel \n",
       "4                          Diesel \n",
       "                   ...            \n",
       "15914                      Diesel \n",
       "15915    Super 95 / Super Plus 98 \n",
       "15916                       Diesel\n",
       "15917                       Diesel\n",
       "15918                     Super 95\n",
       "Name: Fuel Type, Length: 15919, dtype: object"
      ]
     },
     "execution_count": 55,
     "metadata": {},
     "output_type": "execute_result"
    }
   ],
   "source": [
    "df[\"Fuel Type\"]"
   ]
  },
  {
   "cell_type": "code",
   "execution_count": 56,
   "id": "6ced48e7",
   "metadata": {},
   "outputs": [
    {
     "data": {
      "text/plain": [
       "0                  [, Used, , Diesel (Particulate Filter)]\n",
       "1                                     [, Used, , Gasoline]\n",
       "2                  [, Used, , Diesel (Particulate Filter)]\n",
       "3                  [, Used, , Diesel (Particulate Filter)]\n",
       "4                  [, Used, , Diesel (Particulate Filter)]\n",
       "                               ...                        \n",
       "15914               [, New, , Diesel (Particulate Filter)]\n",
       "15915    [, Used, , Super 95 / Super Plus 98 (Particula...\n",
       "15916                         [, Pre-registered, , Diesel]\n",
       "15917                         [, Pre-registered, , Diesel]\n",
       "15918                        [, Demonstration, , Super 95]\n",
       "Name: Type, Length: 15919, dtype: object"
      ]
     },
     "execution_count": 56,
     "metadata": {},
     "output_type": "execute_result"
    }
   ],
   "source": [
    "df.Type"
   ]
  },
  {
   "cell_type": "code",
   "execution_count": 57,
   "id": "f2cd6491",
   "metadata": {},
   "outputs": [],
   "source": [
    "# Type sütunundan Vehicle condition,  Fuel Type ve particul_filter olmak üzere yeni kolanlar oluşturduk\n",
    "# Type sütunu artık düşebiliriz\n",
    "df.drop('Type',axis=1, inplace=True)"
   ]
  },
  {
   "cell_type": "code",
   "execution_count": 58,
   "id": "0f3778c0",
   "metadata": {},
   "outputs": [
    {
     "data": {
      "text/plain": [
       "Index(['make_model', 'body_type', 'price', 'vat', 'km', 'registration',\n",
       "       'prev_owner', 'hp', 'Next Inspection', 'Inspection new', 'Warranty',\n",
       "       'Make', 'Model', 'Body Color', 'Upholstery', 'Body', 'Nr. of Doors',\n",
       "       'Nr. of Seats', 'Gearing Type', 'Displacement', 'Weight', 'Drive chain',\n",
       "       'Consumption', 'CO2 Emission', 'Emission Class',\n",
       "       '\\nComfort & Convenience\\n', '\\nEntertainment & Media\\n', '\\nExtras\\n',\n",
       "       '\\nSafety & Security\\n', 'Emission Label', 'Gears', 'Country version',\n",
       "       'Vehicle condition', 'particul_filter', 'Fuel Type'],\n",
       "      dtype='object')"
      ]
     },
     "execution_count": 58,
     "metadata": {},
     "output_type": "execute_result"
    }
   ],
   "source": [
    "df.columns"
   ]
  },
  {
   "cell_type": "markdown",
   "id": "f46958bd",
   "metadata": {},
   "source": [
    "### 'Next Inspection' sütunu"
   ]
  },
  {
   "cell_type": "code",
   "execution_count": 59,
   "id": "ad6dcbaa",
   "metadata": {},
   "outputs": [
    {
     "data": {
      "text/plain": [
       "Index(['make_model', 'body_type', 'price', 'vat', 'km', 'registration',\n",
       "       'prev_owner', 'hp', 'Next Inspection', 'Inspection new', 'Warranty',\n",
       "       'Make', 'Model', 'Body Color', 'Upholstery', 'Body', 'Nr. of Doors',\n",
       "       'Nr. of Seats', 'Gearing Type', 'Displacement', 'Weight', 'Drive chain',\n",
       "       'Consumption', 'CO2 Emission', 'Emission Class',\n",
       "       '\\nComfort & Convenience\\n', '\\nEntertainment & Media\\n', '\\nExtras\\n',\n",
       "       '\\nSafety & Security\\n', 'Emission Label', 'Gears', 'Country version',\n",
       "       'Vehicle condition', 'particul_filter', 'Fuel Type'],\n",
       "      dtype='object')"
      ]
     },
     "execution_count": 59,
     "metadata": {},
     "output_type": "execute_result"
    }
   ],
   "source": [
    "df.columns"
   ]
  },
  {
   "cell_type": "code",
   "execution_count": 60,
   "id": "af55af4e",
   "metadata": {},
   "outputs": [
    {
     "data": {
      "text/plain": [
       "12384"
      ]
     },
     "execution_count": 60,
     "metadata": {},
     "output_type": "execute_result"
    }
   ],
   "source": [
    "df['Next Inspection'].isnull().sum()"
   ]
  },
  {
   "cell_type": "code",
   "execution_count": 61,
   "id": "0a271348",
   "metadata": {},
   "outputs": [],
   "source": [
    "# null sayısına bakılırsa bu sütunu düşebiliriz.\n"
   ]
  },
  {
   "cell_type": "code",
   "execution_count": 62,
   "id": "7698e54f",
   "metadata": {},
   "outputs": [],
   "source": [
    "df.drop('Next Inspection',axis=1, inplace=True)"
   ]
  },
  {
   "cell_type": "markdown",
   "id": "fa8a21c8",
   "metadata": {},
   "source": [
    "### 'Inspection new' Sütunu"
   ]
  },
  {
   "cell_type": "code",
   "execution_count": 63,
   "id": "9864041b",
   "metadata": {},
   "outputs": [
    {
     "data": {
      "text/plain": [
       "11987"
      ]
     },
     "execution_count": 63,
     "metadata": {},
     "output_type": "execute_result"
    }
   ],
   "source": [
    "df['Inspection new'].isnull().sum()"
   ]
  },
  {
   "cell_type": "code",
   "execution_count": 64,
   "id": "55d72824",
   "metadata": {},
   "outputs": [],
   "source": [
    "# null sayısına bakılırsa bu sütunu da düşebiliriz.\n",
    "df.drop('Inspection new',axis=1,inplace = True)"
   ]
  },
  {
   "cell_type": "markdown",
   "id": "2b41b2b4",
   "metadata": {},
   "source": [
    "### 'Warranty' sütunu"
   ]
  },
  {
   "cell_type": "code",
   "execution_count": 65,
   "id": "f079dfb6",
   "metadata": {},
   "outputs": [
    {
     "data": {
      "text/plain": [
       "5420"
      ]
     },
     "execution_count": 65,
     "metadata": {},
     "output_type": "execute_result"
    }
   ],
   "source": [
    "df.Warranty.isnull().sum()"
   ]
  },
  {
   "cell_type": "code",
   "execution_count": 66,
   "id": "df994651",
   "metadata": {},
   "outputs": [
    {
     "data": {
      "text/plain": [
       "7703"
      ]
     },
     "execution_count": 66,
     "metadata": {},
     "output_type": "execute_result"
    }
   ],
   "source": [
    "sum(df.Warranty == \"\")"
   ]
  },
  {
   "cell_type": "code",
   "execution_count": 67,
   "id": "81b1801c",
   "metadata": {},
   "outputs": [
    {
     "data": {
      "text/plain": [
       "(7703, 33)"
      ]
     },
     "execution_count": 67,
     "metadata": {},
     "output_type": "execute_result"
    }
   ],
   "source": [
    "df[df.Warranty == \"\"].shape"
   ]
  },
  {
   "cell_type": "code",
   "execution_count": 68,
   "id": "be94cb4e",
   "metadata": {},
   "outputs": [],
   "source": [
    "# null ve \"\" ifadeleri 13000 den fazla. Bu sütunun neredeyse tamamı da null. Düşülebilir. \n",
    "df.drop('Warranty',axis=1,inplace=True)"
   ]
  },
  {
   "cell_type": "code",
   "execution_count": 69,
   "id": "05e837e8",
   "metadata": {},
   "outputs": [
    {
     "data": {
      "text/plain": [
       "Index(['make_model', 'body_type', 'price', 'vat', 'km', 'registration',\n",
       "       'prev_owner', 'hp', 'Make', 'Model', 'Body Color', 'Upholstery', 'Body',\n",
       "       'Nr. of Doors', 'Nr. of Seats', 'Gearing Type', 'Displacement',\n",
       "       'Weight', 'Drive chain', 'Consumption', 'CO2 Emission',\n",
       "       'Emission Class', '\\nComfort & Convenience\\n',\n",
       "       '\\nEntertainment & Media\\n', '\\nExtras\\n', '\\nSafety & Security\\n',\n",
       "       'Emission Label', 'Gears', 'Country version', 'Vehicle condition',\n",
       "       'particul_filter', 'Fuel Type'],\n",
       "      dtype='object')"
      ]
     },
     "execution_count": 69,
     "metadata": {},
     "output_type": "execute_result"
    }
   ],
   "source": [
    "df.columns"
   ]
  },
  {
   "cell_type": "markdown",
   "id": "e4098b12",
   "metadata": {},
   "source": [
    "### Make ve Model Sütunları"
   ]
  },
  {
   "cell_type": "code",
   "execution_count": 70,
   "id": "c130eda2",
   "metadata": {},
   "outputs": [],
   "source": [
    "df.Make = df.Make.str.strip(\"\\n\")"
   ]
  },
  {
   "cell_type": "code",
   "execution_count": 71,
   "id": "43474c39",
   "metadata": {},
   "outputs": [
    {
     "data": {
      "text/plain": [
       "0           Audi\n",
       "1           Audi\n",
       "2           Audi\n",
       "3           Audi\n",
       "4           Audi\n",
       "          ...   \n",
       "15914    Renault\n",
       "15915    Renault\n",
       "15916    Renault\n",
       "15917    Renault\n",
       "15918    Renault\n",
       "Name: Make, Length: 15919, dtype: object"
      ]
     },
     "execution_count": 71,
     "metadata": {},
     "output_type": "execute_result"
    }
   ],
   "source": [
    "df.Make"
   ]
  },
  {
   "cell_type": "code",
   "execution_count": 72,
   "id": "9b6fb085",
   "metadata": {},
   "outputs": [],
   "source": [
    "df.Model = df.Model.map(lambda x: x[1],na_action='ignore')"
   ]
  },
  {
   "cell_type": "markdown",
   "id": "b5c21ddd",
   "metadata": {},
   "source": [
    "### 'Body Color' Sütunu"
   ]
  },
  {
   "cell_type": "code",
   "execution_count": 73,
   "id": "2182b44c",
   "metadata": {},
   "outputs": [],
   "source": [
    "df['Body Color'] = df['Body Color'].map(lambda x: x[1],na_action='ignore')"
   ]
  },
  {
   "cell_type": "code",
   "execution_count": 74,
   "id": "613f216e",
   "metadata": {},
   "outputs": [
    {
     "data": {
      "text/plain": [
       "0        Black\n",
       "1          Red\n",
       "2        Black\n",
       "3        Brown\n",
       "4        Black\n",
       "         ...  \n",
       "15914     Grey\n",
       "15915     Grey\n",
       "15916    White\n",
       "15917     Grey\n",
       "15918     Grey\n",
       "Name: Body Color, Length: 15919, dtype: object"
      ]
     },
     "execution_count": 74,
     "metadata": {},
     "output_type": "execute_result"
    }
   ],
   "source": [
    "df['Body Color']"
   ]
  },
  {
   "cell_type": "code",
   "execution_count": 75,
   "id": "dfaced51",
   "metadata": {},
   "outputs": [
    {
     "ename": "TypeError",
     "evalue": "unhashable type: 'list'",
     "output_type": "error",
     "traceback": [
      "\u001b[1;31m---------------------------------------------------------------------------\u001b[0m",
      "\u001b[1;31mTypeError\u001b[0m                                 Traceback (most recent call last)",
      "\u001b[1;32mpandas\\_libs\\hashtable_class_helper.pxi\u001b[0m in \u001b[0;36mpandas._libs.hashtable.PyObjectHashTable.map_locations\u001b[1;34m()\u001b[0m\n",
      "\u001b[1;31mTypeError\u001b[0m: unhashable type: 'list'"
     ]
    },
    {
     "name": "stderr",
     "output_type": "stream",
     "text": [
      "Exception ignored in: 'pandas._libs.index.IndexEngine._call_map_locations'\n",
      "Traceback (most recent call last):\n",
      "  File \"pandas\\_libs\\hashtable_class_helper.pxi\", line 5231, in pandas._libs.hashtable.PyObjectHashTable.map_locations\n",
      "TypeError: unhashable type: 'list'\n"
     ]
    },
    {
     "data": {
      "text/plain": [
       "[\\nCloth, Black\\n]           5821\n",
       "[\\nPart leather, Black\\n]    1121\n",
       "[\\nCloth\\n]                  1005\n",
       "[\\nCloth, Grey\\n]             891\n",
       "[\\nCloth, Other\\n]            639\n",
       "[\\nFull leather, Black\\n]     575\n",
       "[\\nBlack\\n]                   491\n",
       "[\\nGrey\\n]                    273\n",
       "[\\nOther, Other\\n]            182\n",
       "[\\nPart leather\\n]            140\n",
       "[\\nFull leather\\n]            139\n",
       "[\\nPart leather, Grey\\n]      116\n",
       "[\\nFull leather, Brown\\n]     116\n",
       "[\\nOther, Black\\n]            110\n",
       "[\\nFull leather, Other\\n]      72\n",
       "[\\nFull leather, Grey\\n]       67\n",
       "[\\nPart leather, Other\\n]      65\n",
       "[\\nOther\\n]                    56\n",
       "[\\nPart leather, Brown\\n]      50\n",
       "[\\nalcantara, Black\\n]         47\n",
       "[\\nFull leather, Beige\\n]      36\n",
       "[\\nVelour, Black\\n]            36\n",
       "[\\nCloth, Brown\\n]             28\n",
       "[\\nVelour\\n]                   16\n",
       "[\\nOther, Grey\\n]              15\n",
       "[\\nCloth, Beige\\n]             13\n",
       "[\\nBrown\\n]                    12\n",
       "[\\nCloth, Blue\\n]              12\n",
       "[\\nCloth, White\\n]              8\n",
       "[\\nVelour, Grey\\n]              8\n",
       "[\\nalcantara, Grey\\n]           6\n",
       "[\\nCloth, Red\\n]                5\n",
       "[\\nOther, Yellow\\n]             4\n",
       "[\\nBeige\\n]                     3\n",
       "[\\nPart leather, Red\\n]         3\n",
       "[\\nalcantara\\n]                 2\n",
       "[\\nPart leather, White\\n]       2\n",
       "[\\nBlue\\n]                      2\n",
       "[\\nWhite\\n]                     2\n",
       "[\\nPart leather, Beige\\n]       2\n",
       "[\\nalcantara, Other\\n]          2\n",
       "[\\nFull leather, Blue\\n]        2\n",
       "[\\nOther, Brown\\n]              1\n",
       "[\\nCloth, Orange\\n]             1\n",
       "[\\nFull leather, Red\\n]         1\n",
       "[\\nFull leather, White\\n]       1\n",
       "Name: Upholstery, dtype: int64"
      ]
     },
     "execution_count": 75,
     "metadata": {},
     "output_type": "execute_result"
    }
   ],
   "source": [
    "df.Upholstery.map(lambda x: x).value_counts()\n",
    "# bu sütunu incelediğimiz zaman arabaların koltuklarının deri mi kumaşmı olduğu bilgis ön plana çıkıyor. Ben fiyata etki edecek \n",
    "#olan kumaş mı deri mi kısmını alıp gerisini atacağım. "
   ]
  },
  {
   "cell_type": "code",
   "execution_count": 76,
   "id": "607cea57",
   "metadata": {},
   "outputs": [
    {
     "data": {
      "text/plain": [
       "3720"
      ]
     },
     "execution_count": 76,
     "metadata": {},
     "output_type": "execute_result"
    }
   ],
   "source": [
    "df.Upholstery.isnull().sum()"
   ]
  },
  {
   "cell_type": "code",
   "execution_count": 77,
   "id": "20dd71a1",
   "metadata": {},
   "outputs": [],
   "source": [
    "df.Upholstery = df.Upholstery.map(lambda x: x[0].strip(\"\\n\").split(\",\")[0],na_action='ignore')"
   ]
  },
  {
   "cell_type": "code",
   "execution_count": 78,
   "id": "afddebbb",
   "metadata": {},
   "outputs": [
    {
     "data": {
      "text/plain": [
       "3720"
      ]
     },
     "execution_count": 78,
     "metadata": {},
     "output_type": "execute_result"
    }
   ],
   "source": [
    "df.Upholstery.isnull().sum()"
   ]
  },
  {
   "cell_type": "code",
   "execution_count": 79,
   "id": "21c452fe",
   "metadata": {
    "scrolled": true
   },
   "outputs": [
    {
     "data": {
      "text/plain": [
       "array(['Cloth', None, 'Part leather', 'Full leather', 'Black', 'Other',\n",
       "       'alcantara', 'Velour', 'Grey', 'Blue', 'White', 'Beige', 'Brown'],\n",
       "      dtype=object)"
      ]
     },
     "execution_count": 79,
     "metadata": {},
     "output_type": "execute_result"
    }
   ],
   "source": [
    "df.Upholstery.unique()"
   ]
  },
  {
   "cell_type": "code",
   "execution_count": 80,
   "id": "2ea38254",
   "metadata": {},
   "outputs": [
    {
     "data": {
      "text/plain": [
       "0               Cloth\n",
       "1               Cloth\n",
       "2               Cloth\n",
       "3                None\n",
       "4               Cloth\n",
       "             ...     \n",
       "15914            None\n",
       "15915           Cloth\n",
       "15916    Full leather\n",
       "15917    Part leather\n",
       "15918    Full leather\n",
       "Name: Upholstery, Length: 15919, dtype: object"
      ]
     },
     "execution_count": 80,
     "metadata": {},
     "output_type": "execute_result"
    }
   ],
   "source": [
    "df.Upholstery"
   ]
  },
  {
   "cell_type": "code",
   "execution_count": 81,
   "id": "b26d4306",
   "metadata": {},
   "outputs": [],
   "source": [
    "color = ['Grey','Blue','White','Beige', 'Brown','Black','Other']"
   ]
  },
  {
   "cell_type": "code",
   "execution_count": 82,
   "id": "88087139",
   "metadata": {},
   "outputs": [],
   "source": [
    "df.Upholstery = df.Upholstery.map(lambda x: None if x in color else x)"
   ]
  },
  {
   "cell_type": "code",
   "execution_count": 83,
   "id": "f860c533",
   "metadata": {},
   "outputs": [
    {
     "data": {
      "text/plain": [
       "0               Cloth\n",
       "1               Cloth\n",
       "2               Cloth\n",
       "3                None\n",
       "4               Cloth\n",
       "             ...     \n",
       "15914            None\n",
       "15915           Cloth\n",
       "15916    Full leather\n",
       "15917    Part leather\n",
       "15918    Full leather\n",
       "Name: Upholstery, Length: 15919, dtype: object"
      ]
     },
     "execution_count": 83,
     "metadata": {},
     "output_type": "execute_result"
    }
   ],
   "source": [
    "df.Upholstery"
   ]
  },
  {
   "cell_type": "code",
   "execution_count": 84,
   "id": "dc3d9e8d",
   "metadata": {},
   "outputs": [
    {
     "data": {
      "text/plain": [
       "4871"
      ]
     },
     "execution_count": 84,
     "metadata": {},
     "output_type": "execute_result"
    }
   ],
   "source": [
    "df.Upholstery.isnull().sum()"
   ]
  },
  {
   "cell_type": "markdown",
   "id": "4a78ab81",
   "metadata": {},
   "source": [
    "### Body Sütunu"
   ]
  },
  {
   "cell_type": "code",
   "execution_count": 85,
   "id": "9a71b0f0",
   "metadata": {},
   "outputs": [],
   "source": [
    "df.Body = df.Body.map(lambda x: x[1],na_action='ignore')"
   ]
  },
  {
   "cell_type": "markdown",
   "id": "d14b57a1",
   "metadata": {},
   "source": [
    "### 'Nr. of Doors' sütunu"
   ]
  },
  {
   "cell_type": "code",
   "execution_count": 86,
   "id": "dcd2c6e4",
   "metadata": {},
   "outputs": [],
   "source": [
    "df['Nr. of Doors'] = df['Nr. of Doors'].map(lambda x: x[0].strip(\"\\n\"),na_action='ignore')"
   ]
  },
  {
   "cell_type": "code",
   "execution_count": 87,
   "id": "85e5f9cc",
   "metadata": {},
   "outputs": [
    {
     "data": {
      "text/plain": [
       "5    11575\n",
       "4     3079\n",
       "3      832\n",
       "2      219\n",
       "1        1\n",
       "7        1\n",
       "Name: Nr. of Doors, dtype: int64"
      ]
     },
     "execution_count": 87,
     "metadata": {},
     "output_type": "execute_result"
    }
   ],
   "source": [
    "df['Nr. of Doors'].value_counts()"
   ]
  },
  {
   "cell_type": "code",
   "execution_count": 88,
   "id": "25a4f533",
   "metadata": {},
   "outputs": [
    {
     "data": {
      "text/plain": [
       "212"
      ]
     },
     "execution_count": 88,
     "metadata": {},
     "output_type": "execute_result"
    }
   ],
   "source": [
    "df['Nr. of Doors'].isnull().sum()"
   ]
  },
  {
   "cell_type": "code",
   "execution_count": 89,
   "id": "6c836320",
   "metadata": {},
   "outputs": [],
   "source": [
    "df['Nr. of Doors'] = df['Nr. of Doors'].astype(float)"
   ]
  },
  {
   "cell_type": "code",
   "execution_count": 90,
   "id": "4669a9f0",
   "metadata": {},
   "outputs": [
    {
     "data": {
      "text/plain": [
       "dtype('float64')"
      ]
     },
     "execution_count": 90,
     "metadata": {},
     "output_type": "execute_result"
    }
   ],
   "source": [
    "df['Nr. of Doors'].dtype"
   ]
  },
  {
   "cell_type": "markdown",
   "id": "7582df1a",
   "metadata": {},
   "source": [
    "### 'Gearing Type'"
   ]
  },
  {
   "cell_type": "code",
   "execution_count": 91,
   "id": "ddb668c5",
   "metadata": {
    "scrolled": true
   },
   "outputs": [
    {
     "data": {
      "text/plain": [
       "array(['Automatic', 'Manual', 'Semi-automatic'], dtype=object)"
      ]
     },
     "execution_count": 91,
     "metadata": {},
     "output_type": "execute_result"
    }
   ],
   "source": [
    "df['Gearing Type'].map(lambda x: x[1],na_action='ignore').unique()"
   ]
  },
  {
   "cell_type": "code",
   "execution_count": 92,
   "id": "2c2dd904",
   "metadata": {},
   "outputs": [],
   "source": [
    "df['Gearing Type'] = df['Gearing Type'].map(lambda x: x[1],na_action='ignore')"
   ]
  },
  {
   "cell_type": "code",
   "execution_count": 93,
   "id": "5b70a48f",
   "metadata": {},
   "outputs": [
    {
     "data": {
      "text/plain": [
       "0"
      ]
     },
     "execution_count": 93,
     "metadata": {},
     "output_type": "execute_result"
    }
   ],
   "source": [
    "df['Gearing Type'].isnull().sum()"
   ]
  },
  {
   "cell_type": "code",
   "execution_count": 94,
   "id": "8e448481",
   "metadata": {},
   "outputs": [
    {
     "data": {
      "text/plain": [
       "Index(['make_model', 'body_type', 'price', 'vat', 'km', 'registration',\n",
       "       'prev_owner', 'hp', 'Make', 'Model', 'Body Color', 'Upholstery', 'Body',\n",
       "       'Nr. of Doors', 'Nr. of Seats', 'Gearing Type', 'Displacement',\n",
       "       'Weight', 'Drive chain', 'Consumption', 'CO2 Emission',\n",
       "       'Emission Class', '\\nComfort & Convenience\\n',\n",
       "       '\\nEntertainment & Media\\n', '\\nExtras\\n', '\\nSafety & Security\\n',\n",
       "       'Emission Label', 'Gears', 'Country version', 'Vehicle condition',\n",
       "       'particul_filter', 'Fuel Type'],\n",
       "      dtype='object')"
      ]
     },
     "execution_count": 94,
     "metadata": {},
     "output_type": "execute_result"
    }
   ],
   "source": [
    "df.columns"
   ]
  },
  {
   "cell_type": "markdown",
   "id": "daa0ab63",
   "metadata": {},
   "source": [
    "### 'Displacement' Sütunu"
   ]
  },
  {
   "cell_type": "code",
   "execution_count": 95,
   "id": "b101118d",
   "metadata": {},
   "outputs": [
    {
     "data": {
      "text/plain": [
       "0        [\\n1,422 cc\\n]\n",
       "1        [\\n1,798 cc\\n]\n",
       "2        [\\n1,598 cc\\n]\n",
       "3        [\\n1,422 cc\\n]\n",
       "4        [\\n1,422 cc\\n]\n",
       "              ...      \n",
       "15914    [\\n1,997 cc\\n]\n",
       "15915    [\\n1,798 cc\\n]\n",
       "15916    [\\n1,997 cc\\n]\n",
       "15917    [\\n1,997 cc\\n]\n",
       "15918    [\\n1,798 cc\\n]\n",
       "Name: Displacement, Length: 15919, dtype: object"
      ]
     },
     "execution_count": 95,
     "metadata": {},
     "output_type": "execute_result"
    }
   ],
   "source": [
    "df['Displacement']"
   ]
  },
  {
   "cell_type": "code",
   "execution_count": 96,
   "id": "d1831d26",
   "metadata": {},
   "outputs": [],
   "source": [
    "df['Displacement'] = df['Displacement'].map(lambda x: x[0].strip(\",\\n1\").strip(\" cc\"),na_action='ignore')"
   ]
  },
  {
   "cell_type": "code",
   "execution_count": 97,
   "id": "c909a413",
   "metadata": {},
   "outputs": [
    {
     "data": {
      "text/plain": [
       "36"
      ]
     },
     "execution_count": 97,
     "metadata": {},
     "output_type": "execute_result"
    }
   ],
   "source": [
    "sum(df['Displacement'] == '')\n",
    "# 36 tane '' değeri var."
   ]
  },
  {
   "cell_type": "code",
   "execution_count": 98,
   "id": "5bcaa615",
   "metadata": {},
   "outputs": [],
   "source": [
    "df['Displacement'] = df['Displacement'].map(lambda x: x if x.isnumeric() else np.nan,na_action='ignore')"
   ]
  },
  {
   "cell_type": "code",
   "execution_count": 99,
   "id": "7258cc65",
   "metadata": {},
   "outputs": [
    {
     "data": {
      "text/plain": [
       "0"
      ]
     },
     "execution_count": 99,
     "metadata": {},
     "output_type": "execute_result"
    }
   ],
   "source": [
    "sum(df['Displacement'] == '')\n",
    "# kodumu çalışmış"
   ]
  },
  {
   "cell_type": "code",
   "execution_count": 100,
   "id": "3c339459",
   "metadata": {},
   "outputs": [],
   "source": [
    "df['Displacement'] = df['Displacement'].astype(float)"
   ]
  },
  {
   "cell_type": "code",
   "execution_count": 101,
   "id": "bfd3fcf7",
   "metadata": {},
   "outputs": [
    {
     "data": {
      "text/plain": [
       "601"
      ]
     },
     "execution_count": 101,
     "metadata": {},
     "output_type": "execute_result"
    }
   ],
   "source": [
    "df['Displacement'].isnull().sum()"
   ]
  },
  {
   "cell_type": "code",
   "execution_count": 102,
   "id": "747be38f",
   "metadata": {},
   "outputs": [
    {
     "data": {
      "text/plain": [
       "41"
      ]
     },
     "execution_count": 102,
     "metadata": {},
     "output_type": "execute_result"
    }
   ],
   "source": [
    "sum(df.Displacement== 0.)"
   ]
  },
  {
   "cell_type": "code",
   "execution_count": 103,
   "id": "a0fe1053",
   "metadata": {},
   "outputs": [],
   "source": [
    "df.Displacement = df.Displacement.map(lambda x: np.nan if x == 0. else x)"
   ]
  },
  {
   "cell_type": "code",
   "execution_count": 104,
   "id": "5351e1e4",
   "metadata": {},
   "outputs": [
    {
     "data": {
      "text/plain": [
       "0"
      ]
     },
     "execution_count": 104,
     "metadata": {},
     "output_type": "execute_result"
    }
   ],
   "source": [
    "sum(df.Displacement== 0.)"
   ]
  },
  {
   "cell_type": "code",
   "execution_count": 105,
   "id": "be23b54a",
   "metadata": {},
   "outputs": [
    {
     "data": {
      "text/plain": [
       "642"
      ]
     },
     "execution_count": 105,
     "metadata": {},
     "output_type": "execute_result"
    }
   ],
   "source": [
    "df['Displacement'].isnull().sum()"
   ]
  },
  {
   "cell_type": "markdown",
   "id": "2712a50c",
   "metadata": {},
   "source": [
    "### Weight Sütunu"
   ]
  },
  {
   "cell_type": "code",
   "execution_count": 106,
   "id": "303f87b0",
   "metadata": {},
   "outputs": [
    {
     "data": {
      "text/plain": [
       "['\\n1,220 kg\\n']"
      ]
     },
     "execution_count": 106,
     "metadata": {},
     "output_type": "execute_result"
    }
   ],
   "source": [
    "df.Weight[0]\n",
    "# tek bir satır ile veri tipimizi tanımış olduk.\n",
    "# weight sütununda birim yazmasına gerek yok. Bu sütunu da float yapabiliriz\n"
   ]
  },
  {
   "cell_type": "code",
   "execution_count": 107,
   "id": "b5c3653d",
   "metadata": {},
   "outputs": [],
   "source": [
    "df.Weight = df.Weight.map(lambda x: x[0].strip('\\n1,').strip(\" kg\"),na_action='ignore')"
   ]
  },
  {
   "cell_type": "code",
   "execution_count": 108,
   "id": "61950c2c",
   "metadata": {},
   "outputs": [
    {
     "data": {
      "text/plain": [
       "6974"
      ]
     },
     "execution_count": 108,
     "metadata": {},
     "output_type": "execute_result"
    }
   ],
   "source": [
    "df.Weight.isnull().sum()"
   ]
  },
  {
   "cell_type": "markdown",
   "id": "280717cf",
   "metadata": {},
   "source": [
    "### 'Drive chain' Sütunu\n"
   ]
  },
  {
   "cell_type": "code",
   "execution_count": 109,
   "id": "0bcaf43f",
   "metadata": {
    "scrolled": true
   },
   "outputs": [
    {
     "data": {
      "text/plain": [
       "0        [\\nfront\\n]\n",
       "1        [\\nfront\\n]\n",
       "2        [\\nfront\\n]\n",
       "3               None\n",
       "4        [\\nfront\\n]\n",
       "            ...     \n",
       "15914    [\\nfront\\n]\n",
       "15915    [\\nfront\\n]\n",
       "15916    [\\nfront\\n]\n",
       "15917    [\\nfront\\n]\n",
       "15918      [\\n4WD\\n]\n",
       "Name: Drive chain, Length: 15919, dtype: object"
      ]
     },
     "execution_count": 109,
     "metadata": {},
     "output_type": "execute_result"
    }
   ],
   "source": [
    "df['Drive chain']"
   ]
  },
  {
   "cell_type": "code",
   "execution_count": 110,
   "id": "92e67fca",
   "metadata": {},
   "outputs": [],
   "source": [
    "df['Drive chain'] = df['Drive chain'].map(lambda x: x[0].strip('\\n'),na_action='ignore')"
   ]
  },
  {
   "cell_type": "code",
   "execution_count": 111,
   "id": "6f6f8bf0",
   "metadata": {},
   "outputs": [
    {
     "data": {
      "text/plain": [
       "array(['front', None, '4WD', 'rear'], dtype=object)"
      ]
     },
     "execution_count": 111,
     "metadata": {},
     "output_type": "execute_result"
    }
   ],
   "source": [
    "df['Drive chain'].unique()"
   ]
  },
  {
   "cell_type": "code",
   "execution_count": 112,
   "id": "19a39d5c",
   "metadata": {},
   "outputs": [
    {
     "data": {
      "text/plain": [
       "6858"
      ]
     },
     "execution_count": 112,
     "metadata": {},
     "output_type": "execute_result"
    }
   ],
   "source": [
    "df['Drive chain'].isnull().sum()"
   ]
  },
  {
   "cell_type": "markdown",
   "id": "bba646e6",
   "metadata": {},
   "source": [
    "### Consumption "
   ]
  },
  {
   "cell_type": "markdown",
   "id": "47cbcbfd",
   "metadata": {},
   "source": [
    "* bu sütunda 3 farklı veri bulunmakta fakat bazı sütunlarda 3 ten daha az veya \n",
    "* daha fazla verilerde bulunmakta. Bu nedenle sütunda gerekli temizlikleri yaptıktan sonra ortalama alacağız. "
   ]
  },
  {
   "cell_type": "code",
   "execution_count": 113,
   "id": "38887fdc",
   "metadata": {},
   "outputs": [
    {
     "ename": "TypeError",
     "evalue": "unhashable type: 'list'",
     "output_type": "error",
     "traceback": [
      "\u001b[1;31m---------------------------------------------------------------------------\u001b[0m",
      "\u001b[1;31mTypeError\u001b[0m                                 Traceback (most recent call last)",
      "\u001b[1;32mpandas\\_libs\\hashtable_class_helper.pxi\u001b[0m in \u001b[0;36mpandas._libs.hashtable.PyObjectHashTable.map_locations\u001b[1;34m()\u001b[0m\n",
      "\u001b[1;31mTypeError\u001b[0m: unhashable type: 'list'"
     ]
    },
    {
     "name": "stderr",
     "output_type": "stream",
     "text": [
      "Exception ignored in: 'pandas._libs.index.IndexEngine._call_map_locations'\n",
      "Traceback (most recent call last):\n",
      "  File \"pandas\\_libs\\hashtable_class_helper.pxi\", line 5231, in pandas._libs.hashtable.PyObjectHashTable.map_locations\n",
      "TypeError: unhashable type: 'list'\n"
     ]
    },
    {
     "data": {
      "text/plain": [
       "[[3.9 l/100 km (comb)], [4.1 l/100 km (city)], [3.7 l/100 km (country)]]              304\n",
       "[[4.2 l/100 km (comb)], [5 l/100 km (city)], [3.7 l/100 km (country)]]                276\n",
       "[[5.4 l/100 km (comb)], [6.8 l/100 km (city)], [4.5 l/100 km (country)]]              257\n",
       "[[3.8 l/100 km (comb)], [4.3 l/100 km (city)], [3.5 l/100 km (country)]]              253\n",
       "[[4.7 l/100 km (comb)], [5.1 l/100 km (city)], [4.4 l/100 km (country)]]              244\n",
       "                                                                                     ... \n",
       "[[4.2 l/100 km (comb)], [5.3 l/100 km (city)], [3.6 l/100 km (country)]]                1\n",
       "[\\n, 5.1 l/100 km (comb), \\n, 6.4 l/100 km (city), \\n, 4.3 l/100 km (country), \\n]      1\n",
       "[[4.6 l/100 km (comb)], [5.4 l/100 km (city)], [6.7 l/100 km (country)]]                1\n",
       "[\\n, 6.3 l/100 km (comb), \\n, \\n, \\n]                                                   1\n",
       "[\\n, 7.4 l/100 km (comb), \\n, 9.6 l/100 km (city), \\n, 6 l/100 km (country), \\n]        1\n",
       "Name: Consumption, Length: 881, dtype: int64"
      ]
     },
     "execution_count": 113,
     "metadata": {},
     "output_type": "execute_result"
    }
   ],
   "source": [
    "df.Consumption.value_counts()"
   ]
  },
  {
   "cell_type": "code",
   "execution_count": 114,
   "id": "318330f8",
   "metadata": {
    "scrolled": true
   },
   "outputs": [
    {
     "data": {
      "text/plain": [
       "[['3.8 l/100 km (comb)'], ['4.3 l/100 km (city)'], ['3.5 l/100 km (country)']]"
      ]
     },
     "execution_count": 114,
     "metadata": {},
     "output_type": "execute_result"
    }
   ],
   "source": [
    "df.Consumption[0]"
   ]
  },
  {
   "cell_type": "code",
   "execution_count": 115,
   "id": "d1bcf78f",
   "metadata": {
    "scrolled": false
   },
   "outputs": [
    {
     "data": {
      "text/plain": [
       "8387     [[4.8 l/100 km (comb)], [5.9 l/100 km (city)],...\n",
       "8096     [[5.5 l/100 km (comb)], [7.2 l/100 km (city)],...\n",
       "12900    [[4.6 l/100 km (comb)], [5.4 l/100 km (city)],...\n",
       "8783                                                  None\n",
       "13955    [[5 l/100 km (comb)], [6.3 l/100 km (city)], [...\n",
       "7553     [[5.1 l/100 km (comb)], [6.3 l/100 km (city)],...\n",
       "3952     [[4 l/100 km (comb)], [4.2 l/100 km (city)], [...\n",
       "13549                                                 None\n",
       "14739    [[5 l/100 km (comb)], [6.4 l/100 km (city)], [...\n",
       "14669    [[5 l/100 km (comb)], [6.3 l/100 km (city)], [...\n",
       "Name: Consumption, dtype: object"
      ]
     },
     "execution_count": 115,
     "metadata": {},
     "output_type": "execute_result"
    }
   ],
   "source": [
    "df.Consumption.sample(10)"
   ]
  },
  {
   "cell_type": "code",
   "execution_count": null,
   "id": "1b8f59ad",
   "metadata": {},
   "outputs": [],
   "source": []
  },
  {
   "cell_type": "code",
   "execution_count": 116,
   "id": "05fdb70e",
   "metadata": {},
   "outputs": [
    {
     "data": {
      "text/plain": [
       "['\\n',\n",
       " '5 l/100 km (comb)',\n",
       " '\\n',\n",
       " '5.9 l/100 km (city)',\n",
       " '\\n',\n",
       " '4.5 l/100 km (country)',\n",
       " '\\n']"
      ]
     },
     "execution_count": 116,
     "metadata": {},
     "output_type": "execute_result"
    }
   ],
   "source": [
    "df.Consumption[8013]\n",
    "# bu index de 7 eleman var. \n",
    "# boş elemanların hepsi de \\n\n"
   ]
  },
  {
   "cell_type": "code",
   "execution_count": 117,
   "id": "2493ade8",
   "metadata": {
    "scrolled": true
   },
   "outputs": [
    {
     "data": {
      "text/plain": [
       "[['4 l/100 km (comb)'], ['4.6 l/100 km (city)'], ['3.6 l/100 km (country)']]"
      ]
     },
     "execution_count": 117,
     "metadata": {},
     "output_type": "execute_result"
    }
   ],
   "source": [
    "df.Consumption[10]"
   ]
  },
  {
   "cell_type": "code",
   "execution_count": 118,
   "id": "42ea44a5",
   "metadata": {},
   "outputs": [
    {
     "data": {
      "text/plain": [
       "Index(['make_model', 'body_type', 'price', 'vat', 'km', 'registration',\n",
       "       'prev_owner', 'hp', 'Make', 'Model', 'Body Color', 'Upholstery', 'Body',\n",
       "       'Nr. of Doors', 'Nr. of Seats', 'Gearing Type', 'Displacement',\n",
       "       'Weight', 'Drive chain', 'Consumption', 'CO2 Emission',\n",
       "       'Emission Class', '\\nComfort & Convenience\\n',\n",
       "       '\\nEntertainment & Media\\n', '\\nExtras\\n', '\\nSafety & Security\\n',\n",
       "       'Emission Label', 'Gears', 'Country version', 'Vehicle condition',\n",
       "       'particul_filter', 'Fuel Type'],\n",
       "      dtype='object')"
      ]
     },
     "execution_count": 118,
     "metadata": {},
     "output_type": "execute_result"
    }
   ],
   "source": [
    "df.columns"
   ]
  },
  {
   "cell_type": "markdown",
   "id": "cbcb60d9",
   "metadata": {},
   "source": [
    "### CO2 Emission sütunu"
   ]
  },
  {
   "cell_type": "code",
   "execution_count": 119,
   "id": "6707517b",
   "metadata": {},
   "outputs": [
    {
     "data": {
      "text/plain": [
       "['\\n99 g CO2/km (comb)\\n']"
      ]
     },
     "execution_count": 119,
     "metadata": {},
     "output_type": "execute_result"
    }
   ],
   "source": [
    "df['CO2 Emission'][0]"
   ]
  },
  {
   "cell_type": "code",
   "execution_count": 120,
   "id": "db8bf1e6",
   "metadata": {},
   "outputs": [
    {
     "ename": "TypeError",
     "evalue": "unhashable type: 'list'",
     "output_type": "error",
     "traceback": [
      "\u001b[1;31m---------------------------------------------------------------------------\u001b[0m",
      "\u001b[1;31mTypeError\u001b[0m                                 Traceback (most recent call last)",
      "\u001b[1;32mpandas\\_libs\\hashtable_class_helper.pxi\u001b[0m in \u001b[0;36mpandas._libs.hashtable.PyObjectHashTable.map_locations\u001b[1;34m()\u001b[0m\n",
      "\u001b[1;31mTypeError\u001b[0m: unhashable type: 'list'"
     ]
    },
    {
     "name": "stderr",
     "output_type": "stream",
     "text": [
      "Exception ignored in: 'pandas._libs.index.IndexEngine._call_map_locations'\n",
      "Traceback (most recent call last):\n",
      "  File \"pandas\\_libs\\hashtable_class_helper.pxi\", line 5231, in pandas._libs.hashtable.PyObjectHashTable.map_locations\n",
      "TypeError: unhashable type: 'list'\n"
     ]
    },
    {
     "data": {
      "text/plain": [
       "[\\n188 g CO2/km (comb)\\n]      7\n",
       "[\\n126 g CO2/km (comb)\\n]    282\n",
       "[\\n114 g CO2/km (comb)\\n]    382\n",
       "[\\n147 g CO2/km (comb)\\n]    109\n",
       "[\\n98 g CO2/km (comb)\\n]     151\n",
       "[\\n89 g CO2/km (comb)\\n]      19\n",
       "[\\n128 g CO2/km (comb)\\n]    329\n",
       "[\\n130 g CO2/km (comb)\\n]    180\n",
       "[\\n159 g CO2/km (comb)\\n]      7\n",
       "[\\n174 g CO2/km (comb)\\n]      6\n",
       "Name: CO2 Emission, dtype: int64"
      ]
     },
     "execution_count": 120,
     "metadata": {},
     "output_type": "execute_result"
    }
   ],
   "source": [
    "df['CO2 Emission'].value_counts().sample(10)"
   ]
  },
  {
   "cell_type": "code",
   "execution_count": 121,
   "id": "bee23fcc",
   "metadata": {},
   "outputs": [],
   "source": [
    "# tüm satırlar tek elemanlı listeden oluşuyor. 1 den fazla elemanı olan \n",
    "# tüm satırlar [[], [], []]  şeklinde bunları none yapacağız."
   ]
  },
  {
   "cell_type": "code",
   "execution_count": 122,
   "id": "c6056df6",
   "metadata": {},
   "outputs": [],
   "source": [
    "df['CO2 Emission'] = df['CO2 Emission'].map(lambda x: None if len(x) > 3 else x,na_action='ignore') "
   ]
  },
  {
   "cell_type": "code",
   "execution_count": 123,
   "id": "fd71fd3e",
   "metadata": {},
   "outputs": [
    {
     "data": {
      "text/plain": [
       "0         99 g CO2/km (comb)\n",
       "1        129 g CO2/km (comb)\n",
       "2         99 g CO2/km (comb)\n",
       "3         99 g CO2/km (comb)\n",
       "4        109 g CO2/km (comb)\n",
       "                ...         \n",
       "15914    139 g CO2/km (comb)\n",
       "15915    168 g CO2/km (comb)\n",
       "15916    139 g CO2/km (comb)\n",
       "15917    139 g CO2/km (comb)\n",
       "15918    153 g CO2/km (comb)\n",
       "Name: CO2 Emission, Length: 15919, dtype: object"
      ]
     },
     "execution_count": 123,
     "metadata": {},
     "output_type": "execute_result"
    }
   ],
   "source": [
    "df['CO2 Emission'] = df['CO2 Emission'].map(lambda x: x[0],na_action='ignore').str.strip(\"\\n\")\n",
    "df['CO2 Emission']"
   ]
  },
  {
   "cell_type": "code",
   "execution_count": 124,
   "id": "136364c1",
   "metadata": {},
   "outputs": [],
   "source": [
    "# df['CO2 Emission'].str.strip(\" g CO2/km (comb)\").astype(float)"
   ]
  },
  {
   "cell_type": "code",
   "execution_count": 125,
   "id": "e274991b",
   "metadata": {},
   "outputs": [],
   "source": [
    "df['CO2 Emission'] = df['CO2 Emission'].str.replace(\",\",\".\")"
   ]
  },
  {
   "cell_type": "code",
   "execution_count": 126,
   "id": "c9ce0aa2",
   "metadata": {},
   "outputs": [],
   "source": [
    "df['CO2 Emission'] = df['CO2 Emission'].str.strip(\" g CO2/km (comb)\").astype(float)"
   ]
  },
  {
   "cell_type": "code",
   "execution_count": 127,
   "id": "f2844f55",
   "metadata": {},
   "outputs": [
    {
     "data": {
      "text/plain": [
       "2436"
      ]
     },
     "execution_count": 127,
     "metadata": {},
     "output_type": "execute_result"
    }
   ],
   "source": [
    "df['CO2 Emission'].isnull().sum()"
   ]
  },
  {
   "cell_type": "code",
   "execution_count": 128,
   "id": "c1beea33",
   "metadata": {},
   "outputs": [
    {
     "data": {
      "text/plain": [
       "0         99.0\n",
       "1        129.0\n",
       "2         99.0\n",
       "3         99.0\n",
       "4        109.0\n",
       "         ...  \n",
       "15914    139.0\n",
       "15915    168.0\n",
       "15916    139.0\n",
       "15917    139.0\n",
       "15918    153.0\n",
       "Name: CO2 Emission, Length: 15919, dtype: float64"
      ]
     },
     "execution_count": 128,
     "metadata": {},
     "output_type": "execute_result"
    }
   ],
   "source": [
    "df['CO2 Emission']"
   ]
  },
  {
   "cell_type": "code",
   "execution_count": 129,
   "id": "2a60b400",
   "metadata": {},
   "outputs": [
    {
     "data": {
      "text/plain": [
       "2436"
      ]
     },
     "execution_count": 129,
     "metadata": {},
     "output_type": "execute_result"
    }
   ],
   "source": [
    "df['CO2 Emission'].isnull().sum()"
   ]
  },
  {
   "cell_type": "code",
   "execution_count": 130,
   "id": "94e8823d",
   "metadata": {
    "scrolled": true
   },
   "outputs": [
    {
     "data": {
      "text/plain": [
       "Index(['make_model', 'body_type', 'price', 'vat', 'km', 'registration',\n",
       "       'prev_owner', 'hp', 'Make', 'Model', 'Body Color', 'Upholstery', 'Body',\n",
       "       'Nr. of Doors', 'Nr. of Seats', 'Gearing Type', 'Displacement',\n",
       "       'Weight', 'Drive chain', 'Consumption', 'CO2 Emission',\n",
       "       'Emission Class', '\\nComfort & Convenience\\n',\n",
       "       '\\nEntertainment & Media\\n', '\\nExtras\\n', '\\nSafety & Security\\n',\n",
       "       'Emission Label', 'Gears', 'Country version', 'Vehicle condition',\n",
       "       'particul_filter', 'Fuel Type'],\n",
       "      dtype='object')"
      ]
     },
     "execution_count": 130,
     "metadata": {},
     "output_type": "execute_result"
    }
   ],
   "source": [
    "df.columns"
   ]
  },
  {
   "cell_type": "markdown",
   "id": "4eb96794",
   "metadata": {},
   "source": [
    "### 'Emission Class' Sütunu"
   ]
  },
  {
   "cell_type": "code",
   "execution_count": 131,
   "id": "67e1df7b",
   "metadata": {},
   "outputs": [
    {
     "ename": "TypeError",
     "evalue": "unhashable type: 'list'",
     "output_type": "error",
     "traceback": [
      "\u001b[1;31m---------------------------------------------------------------------------\u001b[0m",
      "\u001b[1;31mTypeError\u001b[0m                                 Traceback (most recent call last)",
      "\u001b[1;32mpandas\\_libs\\hashtable_class_helper.pxi\u001b[0m in \u001b[0;36mpandas._libs.hashtable.PyObjectHashTable.map_locations\u001b[1;34m()\u001b[0m\n",
      "\u001b[1;31mTypeError\u001b[0m: unhashable type: 'list'"
     ]
    },
    {
     "name": "stderr",
     "output_type": "stream",
     "text": [
      "Exception ignored in: 'pandas._libs.index.IndexEngine._call_map_locations'\n",
      "Traceback (most recent call last):\n",
      "  File \"pandas\\_libs\\hashtable_class_helper.pxi\", line 5231, in pandas._libs.hashtable.PyObjectHashTable.map_locations\n",
      "TypeError: unhashable type: 'list'\n"
     ]
    },
    {
     "data": {
      "text/plain": [
       "[\\nEuro 6\\n]          10139\n",
       "NaN                    3021\n",
       "[\\nEuro 6d-TEMP\\n]     1845\n",
       "[[], [], []]            607\n",
       "[\\nEuro 6c\\n]           127\n",
       "[\\nEuro 5\\n]             78\n",
       "[\\nEuro 6d\\n]            62\n",
       "[\\nEuro 4\\n]             40\n",
       "Name: Emission Class, dtype: int64"
      ]
     },
     "execution_count": 131,
     "metadata": {},
     "output_type": "execute_result"
    }
   ],
   "source": [
    "df['Emission Class'].value_counts(dropna = False)"
   ]
  },
  {
   "cell_type": "code",
   "execution_count": 132,
   "id": "3aab270c",
   "metadata": {},
   "outputs": [
    {
     "data": {
      "text/plain": [
       "['\\nEuro 6\\n']"
      ]
     },
     "execution_count": 132,
     "metadata": {},
     "output_type": "execute_result"
    }
   ],
   "source": [
    "df['Emission Class'][0]\n",
    "# tek parça string eleman"
   ]
  },
  {
   "cell_type": "code",
   "execution_count": 133,
   "id": "d8fa7fbd",
   "metadata": {},
   "outputs": [],
   "source": [
    "df['Emission Class'] = df['Emission Class'].map(lambda x: np.nan if len(x)>3 else x,na_action='ignore')"
   ]
  },
  {
   "cell_type": "code",
   "execution_count": 134,
   "id": "4e41a889",
   "metadata": {},
   "outputs": [
    {
     "data": {
      "text/plain": [
       "0              [\\nEuro 6\\n]\n",
       "1              [\\nEuro 6\\n]\n",
       "2              [\\nEuro 6\\n]\n",
       "3              [\\nEuro 6\\n]\n",
       "4              [\\nEuro 6\\n]\n",
       "                ...        \n",
       "15914                  None\n",
       "15915                  None\n",
       "15916    [\\nEuro 6d-TEMP\\n]\n",
       "15917          [\\nEuro 6\\n]\n",
       "15918          [\\nEuro 6\\n]\n",
       "Name: Emission Class, Length: 15919, dtype: object"
      ]
     },
     "execution_count": 134,
     "metadata": {},
     "output_type": "execute_result"
    }
   ],
   "source": [
    "df['Emission Class']"
   ]
  },
  {
   "cell_type": "code",
   "execution_count": 135,
   "id": "eaad62bc",
   "metadata": {},
   "outputs": [],
   "source": [
    "df['Emission Class'] = df['Emission Class'].map(lambda x: x[0],na_action='ignore').str.strip(\"\\n\")"
   ]
  },
  {
   "cell_type": "code",
   "execution_count": 136,
   "id": "68ed555d",
   "metadata": {},
   "outputs": [
    {
     "data": {
      "text/plain": [
       "array(['Euro 6', None, 'Euro 5', 'Euro 6d-TEMP', nan, 'Euro 6c', 'Euro 4',\n",
       "       'Euro 6d'], dtype=object)"
      ]
     },
     "execution_count": 136,
     "metadata": {},
     "output_type": "execute_result"
    }
   ],
   "source": [
    "df['Emission Class'].unique()"
   ]
  },
  {
   "cell_type": "code",
   "execution_count": 137,
   "id": "8f97c1a7",
   "metadata": {},
   "outputs": [
    {
     "data": {
      "text/plain": [
       "950              None\n",
       "14112          Euro 6\n",
       "11800             NaN\n",
       "1181           Euro 6\n",
       "1528           Euro 6\n",
       "14118          Euro 6\n",
       "6864           Euro 6\n",
       "11768            None\n",
       "10789          Euro 6\n",
       "12666    Euro 6d-TEMP\n",
       "Name: Emission Class, dtype: object"
      ]
     },
     "execution_count": 137,
     "metadata": {},
     "output_type": "execute_result"
    }
   ],
   "source": [
    "df['Emission Class'].sample(10)"
   ]
  },
  {
   "cell_type": "code",
   "execution_count": 138,
   "id": "7760ccc1",
   "metadata": {},
   "outputs": [
    {
     "data": {
      "text/plain": [
       "array(['Euro 6', 'Euro 5', 'Euro 6d-TEMP', 'Euro 6c', 'Euro 4', 'Euro 6d'],\n",
       "      dtype=object)"
      ]
     },
     "execution_count": 138,
     "metadata": {},
     "output_type": "execute_result"
    }
   ],
   "source": [
    "df['Emission Class'].dropna().unique()"
   ]
  },
  {
   "cell_type": "markdown",
   "id": "d8b88ac2",
   "metadata": {},
   "source": [
    "### ['\\nComfort & Convenience\\n'] Sütunu"
   ]
  },
  {
   "cell_type": "code",
   "execution_count": 139,
   "id": "a0b4df77",
   "metadata": {},
   "outputs": [],
   "source": [
    "df.rename(columns={'\\nComfort & Convenience\\n':'comfort'},inplace=True)"
   ]
  },
  {
   "cell_type": "code",
   "execution_count": 140,
   "id": "7e64a5c7",
   "metadata": {},
   "outputs": [
    {
     "data": {
      "text/plain": [
       "0        [Air conditioning, Armrest, Automatic climate ...\n",
       "1        [Air conditioning, Automatic climate control, ...\n",
       "2        [Air conditioning, Cruise control, Electrical ...\n",
       "3        [Air suspension, Armrest, Auxiliary heating, E...\n",
       "4        [Air conditioning, Armrest, Automatic climate ...\n",
       "                               ...                        \n",
       "15914    [Air conditioning, Automatic climate control, ...\n",
       "15915    [Air conditioning, Automatic climate control, ...\n",
       "15916    [Air conditioning, Armrest, Automatic climate ...\n",
       "15917    [Air conditioning, Automatic climate control, ...\n",
       "15918    [Air conditioning, Automatic climate control, ...\n",
       "Name: comfort, Length: 15919, dtype: object"
      ]
     },
     "execution_count": 140,
     "metadata": {},
     "output_type": "execute_result"
    }
   ],
   "source": [
    "df.comfort"
   ]
  },
  {
   "cell_type": "code",
   "execution_count": 141,
   "id": "614cc20f",
   "metadata": {},
   "outputs": [],
   "source": [
    "comfort_unique = []\n",
    "for i in df.comfort.dropna():\n",
    "        for j in i:\n",
    "            if j not in comfort_unique:\n",
    "                comfort_unique.append(j)\n",
    "            \n",
    "    \n",
    "        \n",
    "        "
   ]
  },
  {
   "cell_type": "code",
   "execution_count": 142,
   "id": "75e7dbb1",
   "metadata": {},
   "outputs": [
    {
     "data": {
      "text/plain": [
       "['Air conditioning',\n",
       " 'Armrest',\n",
       " 'Automatic climate control',\n",
       " 'Cruise control',\n",
       " 'Electrical side mirrors',\n",
       " 'Hill Holder',\n",
       " 'Leather steering wheel',\n",
       " 'Light sensor',\n",
       " 'Multi-function steering wheel',\n",
       " 'Navigation system',\n",
       " 'Park Distance Control',\n",
       " 'Parking assist system sensors rear',\n",
       " 'Power windows',\n",
       " 'Rain sensor',\n",
       " 'Seat heating',\n",
       " 'Start-stop system',\n",
       " 'Lumbar support',\n",
       " 'Tinted windows',\n",
       " 'Parking assist system sensors front',\n",
       " 'Air suspension',\n",
       " 'Auxiliary heating',\n",
       " 'Heads-up display',\n",
       " 'Split rear seats',\n",
       " 'Keyless central door lock',\n",
       " 'Electrically heated windshield',\n",
       " 'Seat ventilation',\n",
       " 'Wind deflector',\n",
       " 'Leather seats',\n",
       " 'Sunroof',\n",
       " 'Panorama roof',\n",
       " 'Parking assist system camera',\n",
       " 'Electrically adjustable seats',\n",
       " 'Parking assist system self-steering',\n",
       " 'Windshield',\n",
       " 'Electric tailgate',\n",
       " 'Heated steering wheel',\n",
       " 'Massage seats',\n",
       " 'Electric Starter']"
      ]
     },
     "execution_count": 142,
     "metadata": {},
     "output_type": "execute_result"
    }
   ],
   "source": [
    "comfort_unique\n",
    "# unique özelliklerin hepsini bir listede topladık. "
   ]
  },
  {
   "cell_type": "code",
   "execution_count": 143,
   "id": "226b6862",
   "metadata": {
    "scrolled": true
   },
   "outputs": [],
   "source": [
    "# daha sonra bu sütunda yer alan uniq değerlerin hepsinden  sütunlar\n",
    "# oluşturup her bir sütunda yer alan anahtar kelime için true false atayacağız. "
   ]
  },
  {
   "cell_type": "code",
   "execution_count": 144,
   "id": "03eea99b",
   "metadata": {},
   "outputs": [
    {
     "data": {
      "text/plain": [
       "['Air conditioning',\n",
       " 'Armrest',\n",
       " 'Automatic climate control',\n",
       " 'Cruise control',\n",
       " 'Electrical side mirrors',\n",
       " 'Hill Holder',\n",
       " 'Leather steering wheel',\n",
       " 'Light sensor',\n",
       " 'Multi-function steering wheel',\n",
       " 'Navigation system',\n",
       " 'Park Distance Control',\n",
       " 'Parking assist system sensors rear',\n",
       " 'Power windows',\n",
       " 'Rain sensor',\n",
       " 'Seat heating',\n",
       " 'Start-stop system']"
      ]
     },
     "execution_count": 144,
     "metadata": {},
     "output_type": "execute_result"
    }
   ],
   "source": [
    "df.comfort.map(lambda x: x)[0]"
   ]
  },
  {
   "cell_type": "code",
   "execution_count": 145,
   "id": "8d9a1f89",
   "metadata": {},
   "outputs": [],
   "source": [
    "liste = ['Air conditioning',\n",
    " 'Armrest',\n",
    " 'Automatic climate control',\n",
    " 'Cruise control',\n",
    " 'Electrical side mirrors',\n",
    " 'Hill Holder',\n",
    " 'Leather steering wheel',\n",
    " 'Light sensor',\n",
    " 'Multi-function steering wheel',\n",
    " 'Navigation system',\n",
    " 'Park Distance Control',\n",
    " 'Parking assist system sensors rear',\n",
    " 'Power windows',\n",
    " 'Rain sensor',\n",
    " 'Seat heating',\n",
    " 'Start-stop system']"
   ]
  },
  {
   "cell_type": "code",
   "execution_count": 146,
   "id": "7d379eea",
   "metadata": {},
   "outputs": [],
   "source": [
    "string = \",\".join(liste)"
   ]
  },
  {
   "cell_type": "code",
   "execution_count": 147,
   "id": "1560f876",
   "metadata": {},
   "outputs": [
    {
     "data": {
      "text/plain": [
       "'Air conditioning,Armrest,Automatic climate control,Cruise control,Electrical side mirrors,Hill Holder,Leather steering wheel,Light sensor,Multi-function steering wheel,Navigation system,Park Distance Control,Parking assist system sensors rear,Power windows,Rain sensor,Seat heating,Start-stop system'"
      ]
     },
     "execution_count": 147,
     "metadata": {},
     "output_type": "execute_result"
    }
   ],
   "source": [
    "string"
   ]
  },
  {
   "cell_type": "code",
   "execution_count": 148,
   "id": "0d9a97a2",
   "metadata": {},
   "outputs": [],
   "source": [
    "# df[\"col_name\"] = [item[0] if type(item) == list else item for item in df[\"col_name\"]]\n",
    "# df[\"col_name\"] = df[\"col_name\"].apply(lambda item: item[0] if type(item) == list else item)\n",
    "# stewe hocanın çözümü"
   ]
  },
  {
   "cell_type": "code",
   "execution_count": 149,
   "id": "afb872aa",
   "metadata": {},
   "outputs": [
    {
     "data": {
      "text/plain": [
       "0        Air conditioning,Armrest,Automatic climate con...\n",
       "1        Air conditioning,Automatic climate control,Hil...\n",
       "2        Air conditioning,Cruise control,Electrical sid...\n",
       "3        Air suspension,Armrest,Auxiliary heating,Elect...\n",
       "4        Air conditioning,Armrest,Automatic climate con...\n",
       "                               ...                        \n",
       "15914    Air conditioning,Automatic climate control,Cru...\n",
       "15915    Air conditioning,Automatic climate control,Cru...\n",
       "15916    Air conditioning,Armrest,Automatic climate con...\n",
       "15917    Air conditioning,Automatic climate control,Cru...\n",
       "15918    Air conditioning,Automatic climate control,Cru...\n",
       "Name: comfort, Length: 15919, dtype: object"
      ]
     },
     "execution_count": 149,
     "metadata": {},
     "output_type": "execute_result"
    }
   ],
   "source": [
    "df.comfort.map(lambda x: \",\".join(x),na_action='ignore')"
   ]
  },
  {
   "cell_type": "code",
   "execution_count": 150,
   "id": "427a84ea",
   "metadata": {},
   "outputs": [
    {
     "data": {
      "text/html": [
       "<div>\n",
       "<style scoped>\n",
       "    .dataframe tbody tr th:only-of-type {\n",
       "        vertical-align: middle;\n",
       "    }\n",
       "\n",
       "    .dataframe tbody tr th {\n",
       "        vertical-align: top;\n",
       "    }\n",
       "\n",
       "    .dataframe thead th {\n",
       "        text-align: right;\n",
       "    }\n",
       "</style>\n",
       "<table border=\"1\" class=\"dataframe\">\n",
       "  <thead>\n",
       "    <tr style=\"text-align: right;\">\n",
       "      <th></th>\n",
       "      <th>Air conditioning</th>\n",
       "      <th>Air suspension</th>\n",
       "      <th>Armrest</th>\n",
       "      <th>Automatic climate control</th>\n",
       "      <th>Auxiliary heating</th>\n",
       "      <th>Cruise control</th>\n",
       "      <th>Electric Starter</th>\n",
       "      <th>Electric tailgate</th>\n",
       "      <th>Electrical side mirrors</th>\n",
       "      <th>Electrically adjustable seats</th>\n",
       "      <th>Electrically heated windshield</th>\n",
       "      <th>Heads-up display</th>\n",
       "      <th>Heated steering wheel</th>\n",
       "      <th>Hill Holder</th>\n",
       "      <th>Keyless central door lock</th>\n",
       "      <th>Leather seats</th>\n",
       "      <th>Leather steering wheel</th>\n",
       "      <th>Light sensor</th>\n",
       "      <th>Lumbar support</th>\n",
       "      <th>Massage seats</th>\n",
       "      <th>Multi-function steering wheel</th>\n",
       "      <th>Navigation system</th>\n",
       "      <th>Panorama roof</th>\n",
       "      <th>Park Distance Control</th>\n",
       "      <th>Parking assist system camera</th>\n",
       "      <th>Parking assist system self-steering</th>\n",
       "      <th>Parking assist system sensors front</th>\n",
       "      <th>Parking assist system sensors rear</th>\n",
       "      <th>Power windows</th>\n",
       "      <th>Rain sensor</th>\n",
       "      <th>Seat heating</th>\n",
       "      <th>Seat ventilation</th>\n",
       "      <th>Split rear seats</th>\n",
       "      <th>Start-stop system</th>\n",
       "      <th>Sunroof</th>\n",
       "      <th>Tinted windows</th>\n",
       "      <th>Wind deflector</th>\n",
       "      <th>Windshield</th>\n",
       "    </tr>\n",
       "  </thead>\n",
       "  <tbody>\n",
       "    <tr>\n",
       "      <th>0</th>\n",
       "      <td>1</td>\n",
       "      <td>0</td>\n",
       "      <td>1</td>\n",
       "      <td>1</td>\n",
       "      <td>0</td>\n",
       "      <td>1</td>\n",
       "      <td>0</td>\n",
       "      <td>0</td>\n",
       "      <td>1</td>\n",
       "      <td>0</td>\n",
       "      <td>0</td>\n",
       "      <td>0</td>\n",
       "      <td>0</td>\n",
       "      <td>1</td>\n",
       "      <td>0</td>\n",
       "      <td>0</td>\n",
       "      <td>1</td>\n",
       "      <td>1</td>\n",
       "      <td>0</td>\n",
       "      <td>0</td>\n",
       "      <td>1</td>\n",
       "      <td>1</td>\n",
       "      <td>0</td>\n",
       "      <td>1</td>\n",
       "      <td>0</td>\n",
       "      <td>0</td>\n",
       "      <td>0</td>\n",
       "      <td>1</td>\n",
       "      <td>1</td>\n",
       "      <td>1</td>\n",
       "      <td>1</td>\n",
       "      <td>0</td>\n",
       "      <td>0</td>\n",
       "      <td>1</td>\n",
       "      <td>0</td>\n",
       "      <td>0</td>\n",
       "      <td>0</td>\n",
       "      <td>0</td>\n",
       "    </tr>\n",
       "    <tr>\n",
       "      <th>1</th>\n",
       "      <td>1</td>\n",
       "      <td>0</td>\n",
       "      <td>0</td>\n",
       "      <td>1</td>\n",
       "      <td>0</td>\n",
       "      <td>0</td>\n",
       "      <td>0</td>\n",
       "      <td>0</td>\n",
       "      <td>0</td>\n",
       "      <td>0</td>\n",
       "      <td>0</td>\n",
       "      <td>0</td>\n",
       "      <td>0</td>\n",
       "      <td>1</td>\n",
       "      <td>0</td>\n",
       "      <td>0</td>\n",
       "      <td>1</td>\n",
       "      <td>0</td>\n",
       "      <td>1</td>\n",
       "      <td>0</td>\n",
       "      <td>0</td>\n",
       "      <td>0</td>\n",
       "      <td>0</td>\n",
       "      <td>0</td>\n",
       "      <td>0</td>\n",
       "      <td>0</td>\n",
       "      <td>0</td>\n",
       "      <td>1</td>\n",
       "      <td>1</td>\n",
       "      <td>0</td>\n",
       "      <td>0</td>\n",
       "      <td>0</td>\n",
       "      <td>0</td>\n",
       "      <td>1</td>\n",
       "      <td>0</td>\n",
       "      <td>1</td>\n",
       "      <td>0</td>\n",
       "      <td>0</td>\n",
       "    </tr>\n",
       "    <tr>\n",
       "      <th>2</th>\n",
       "      <td>1</td>\n",
       "      <td>0</td>\n",
       "      <td>0</td>\n",
       "      <td>0</td>\n",
       "      <td>0</td>\n",
       "      <td>1</td>\n",
       "      <td>0</td>\n",
       "      <td>0</td>\n",
       "      <td>1</td>\n",
       "      <td>0</td>\n",
       "      <td>0</td>\n",
       "      <td>0</td>\n",
       "      <td>0</td>\n",
       "      <td>1</td>\n",
       "      <td>0</td>\n",
       "      <td>0</td>\n",
       "      <td>1</td>\n",
       "      <td>0</td>\n",
       "      <td>0</td>\n",
       "      <td>0</td>\n",
       "      <td>1</td>\n",
       "      <td>1</td>\n",
       "      <td>0</td>\n",
       "      <td>1</td>\n",
       "      <td>0</td>\n",
       "      <td>0</td>\n",
       "      <td>1</td>\n",
       "      <td>1</td>\n",
       "      <td>1</td>\n",
       "      <td>0</td>\n",
       "      <td>1</td>\n",
       "      <td>0</td>\n",
       "      <td>0</td>\n",
       "      <td>1</td>\n",
       "      <td>0</td>\n",
       "      <td>0</td>\n",
       "      <td>0</td>\n",
       "      <td>0</td>\n",
       "    </tr>\n",
       "    <tr>\n",
       "      <th>3</th>\n",
       "      <td>0</td>\n",
       "      <td>1</td>\n",
       "      <td>1</td>\n",
       "      <td>0</td>\n",
       "      <td>1</td>\n",
       "      <td>0</td>\n",
       "      <td>0</td>\n",
       "      <td>0</td>\n",
       "      <td>1</td>\n",
       "      <td>0</td>\n",
       "      <td>0</td>\n",
       "      <td>1</td>\n",
       "      <td>0</td>\n",
       "      <td>1</td>\n",
       "      <td>0</td>\n",
       "      <td>0</td>\n",
       "      <td>1</td>\n",
       "      <td>1</td>\n",
       "      <td>1</td>\n",
       "      <td>0</td>\n",
       "      <td>1</td>\n",
       "      <td>1</td>\n",
       "      <td>0</td>\n",
       "      <td>0</td>\n",
       "      <td>0</td>\n",
       "      <td>0</td>\n",
       "      <td>0</td>\n",
       "      <td>0</td>\n",
       "      <td>1</td>\n",
       "      <td>1</td>\n",
       "      <td>1</td>\n",
       "      <td>0</td>\n",
       "      <td>1</td>\n",
       "      <td>1</td>\n",
       "      <td>0</td>\n",
       "      <td>0</td>\n",
       "      <td>0</td>\n",
       "      <td>0</td>\n",
       "    </tr>\n",
       "    <tr>\n",
       "      <th>4</th>\n",
       "      <td>1</td>\n",
       "      <td>0</td>\n",
       "      <td>1</td>\n",
       "      <td>1</td>\n",
       "      <td>0</td>\n",
       "      <td>0</td>\n",
       "      <td>0</td>\n",
       "      <td>0</td>\n",
       "      <td>1</td>\n",
       "      <td>0</td>\n",
       "      <td>0</td>\n",
       "      <td>0</td>\n",
       "      <td>0</td>\n",
       "      <td>1</td>\n",
       "      <td>0</td>\n",
       "      <td>0</td>\n",
       "      <td>1</td>\n",
       "      <td>1</td>\n",
       "      <td>0</td>\n",
       "      <td>0</td>\n",
       "      <td>1</td>\n",
       "      <td>0</td>\n",
       "      <td>0</td>\n",
       "      <td>1</td>\n",
       "      <td>0</td>\n",
       "      <td>0</td>\n",
       "      <td>0</td>\n",
       "      <td>1</td>\n",
       "      <td>1</td>\n",
       "      <td>1</td>\n",
       "      <td>0</td>\n",
       "      <td>0</td>\n",
       "      <td>0</td>\n",
       "      <td>1</td>\n",
       "      <td>0</td>\n",
       "      <td>0</td>\n",
       "      <td>0</td>\n",
       "      <td>0</td>\n",
       "    </tr>\n",
       "    <tr>\n",
       "      <th>...</th>\n",
       "      <td>...</td>\n",
       "      <td>...</td>\n",
       "      <td>...</td>\n",
       "      <td>...</td>\n",
       "      <td>...</td>\n",
       "      <td>...</td>\n",
       "      <td>...</td>\n",
       "      <td>...</td>\n",
       "      <td>...</td>\n",
       "      <td>...</td>\n",
       "      <td>...</td>\n",
       "      <td>...</td>\n",
       "      <td>...</td>\n",
       "      <td>...</td>\n",
       "      <td>...</td>\n",
       "      <td>...</td>\n",
       "      <td>...</td>\n",
       "      <td>...</td>\n",
       "      <td>...</td>\n",
       "      <td>...</td>\n",
       "      <td>...</td>\n",
       "      <td>...</td>\n",
       "      <td>...</td>\n",
       "      <td>...</td>\n",
       "      <td>...</td>\n",
       "      <td>...</td>\n",
       "      <td>...</td>\n",
       "      <td>...</td>\n",
       "      <td>...</td>\n",
       "      <td>...</td>\n",
       "      <td>...</td>\n",
       "      <td>...</td>\n",
       "      <td>...</td>\n",
       "      <td>...</td>\n",
       "      <td>...</td>\n",
       "      <td>...</td>\n",
       "      <td>...</td>\n",
       "      <td>...</td>\n",
       "    </tr>\n",
       "    <tr>\n",
       "      <th>15914</th>\n",
       "      <td>1</td>\n",
       "      <td>0</td>\n",
       "      <td>0</td>\n",
       "      <td>1</td>\n",
       "      <td>0</td>\n",
       "      <td>1</td>\n",
       "      <td>0</td>\n",
       "      <td>0</td>\n",
       "      <td>1</td>\n",
       "      <td>1</td>\n",
       "      <td>0</td>\n",
       "      <td>0</td>\n",
       "      <td>0</td>\n",
       "      <td>1</td>\n",
       "      <td>1</td>\n",
       "      <td>0</td>\n",
       "      <td>1</td>\n",
       "      <td>1</td>\n",
       "      <td>0</td>\n",
       "      <td>1</td>\n",
       "      <td>1</td>\n",
       "      <td>1</td>\n",
       "      <td>0</td>\n",
       "      <td>1</td>\n",
       "      <td>0</td>\n",
       "      <td>0</td>\n",
       "      <td>1</td>\n",
       "      <td>1</td>\n",
       "      <td>1</td>\n",
       "      <td>1</td>\n",
       "      <td>0</td>\n",
       "      <td>0</td>\n",
       "      <td>1</td>\n",
       "      <td>1</td>\n",
       "      <td>0</td>\n",
       "      <td>1</td>\n",
       "      <td>0</td>\n",
       "      <td>0</td>\n",
       "    </tr>\n",
       "    <tr>\n",
       "      <th>15915</th>\n",
       "      <td>1</td>\n",
       "      <td>0</td>\n",
       "      <td>0</td>\n",
       "      <td>1</td>\n",
       "      <td>0</td>\n",
       "      <td>1</td>\n",
       "      <td>0</td>\n",
       "      <td>1</td>\n",
       "      <td>1</td>\n",
       "      <td>0</td>\n",
       "      <td>1</td>\n",
       "      <td>1</td>\n",
       "      <td>1</td>\n",
       "      <td>1</td>\n",
       "      <td>1</td>\n",
       "      <td>0</td>\n",
       "      <td>1</td>\n",
       "      <td>1</td>\n",
       "      <td>1</td>\n",
       "      <td>0</td>\n",
       "      <td>0</td>\n",
       "      <td>1</td>\n",
       "      <td>0</td>\n",
       "      <td>1</td>\n",
       "      <td>1</td>\n",
       "      <td>1</td>\n",
       "      <td>1</td>\n",
       "      <td>1</td>\n",
       "      <td>1</td>\n",
       "      <td>1</td>\n",
       "      <td>1</td>\n",
       "      <td>0</td>\n",
       "      <td>0</td>\n",
       "      <td>0</td>\n",
       "      <td>1</td>\n",
       "      <td>0</td>\n",
       "      <td>0</td>\n",
       "      <td>0</td>\n",
       "    </tr>\n",
       "    <tr>\n",
       "      <th>15916</th>\n",
       "      <td>1</td>\n",
       "      <td>0</td>\n",
       "      <td>1</td>\n",
       "      <td>1</td>\n",
       "      <td>0</td>\n",
       "      <td>1</td>\n",
       "      <td>0</td>\n",
       "      <td>1</td>\n",
       "      <td>1</td>\n",
       "      <td>0</td>\n",
       "      <td>1</td>\n",
       "      <td>1</td>\n",
       "      <td>1</td>\n",
       "      <td>0</td>\n",
       "      <td>0</td>\n",
       "      <td>0</td>\n",
       "      <td>1</td>\n",
       "      <td>1</td>\n",
       "      <td>0</td>\n",
       "      <td>1</td>\n",
       "      <td>1</td>\n",
       "      <td>1</td>\n",
       "      <td>1</td>\n",
       "      <td>1</td>\n",
       "      <td>1</td>\n",
       "      <td>0</td>\n",
       "      <td>1</td>\n",
       "      <td>1</td>\n",
       "      <td>1</td>\n",
       "      <td>1</td>\n",
       "      <td>1</td>\n",
       "      <td>1</td>\n",
       "      <td>0</td>\n",
       "      <td>0</td>\n",
       "      <td>1</td>\n",
       "      <td>0</td>\n",
       "      <td>0</td>\n",
       "      <td>0</td>\n",
       "    </tr>\n",
       "    <tr>\n",
       "      <th>15917</th>\n",
       "      <td>1</td>\n",
       "      <td>0</td>\n",
       "      <td>0</td>\n",
       "      <td>1</td>\n",
       "      <td>0</td>\n",
       "      <td>1</td>\n",
       "      <td>0</td>\n",
       "      <td>0</td>\n",
       "      <td>1</td>\n",
       "      <td>1</td>\n",
       "      <td>0</td>\n",
       "      <td>0</td>\n",
       "      <td>0</td>\n",
       "      <td>0</td>\n",
       "      <td>0</td>\n",
       "      <td>0</td>\n",
       "      <td>1</td>\n",
       "      <td>1</td>\n",
       "      <td>0</td>\n",
       "      <td>0</td>\n",
       "      <td>0</td>\n",
       "      <td>0</td>\n",
       "      <td>0</td>\n",
       "      <td>1</td>\n",
       "      <td>0</td>\n",
       "      <td>0</td>\n",
       "      <td>0</td>\n",
       "      <td>0</td>\n",
       "      <td>1</td>\n",
       "      <td>0</td>\n",
       "      <td>0</td>\n",
       "      <td>0</td>\n",
       "      <td>0</td>\n",
       "      <td>1</td>\n",
       "      <td>0</td>\n",
       "      <td>0</td>\n",
       "      <td>0</td>\n",
       "      <td>0</td>\n",
       "    </tr>\n",
       "    <tr>\n",
       "      <th>15918</th>\n",
       "      <td>1</td>\n",
       "      <td>0</td>\n",
       "      <td>0</td>\n",
       "      <td>1</td>\n",
       "      <td>0</td>\n",
       "      <td>1</td>\n",
       "      <td>0</td>\n",
       "      <td>1</td>\n",
       "      <td>1</td>\n",
       "      <td>1</td>\n",
       "      <td>0</td>\n",
       "      <td>0</td>\n",
       "      <td>0</td>\n",
       "      <td>1</td>\n",
       "      <td>0</td>\n",
       "      <td>0</td>\n",
       "      <td>1</td>\n",
       "      <td>0</td>\n",
       "      <td>0</td>\n",
       "      <td>0</td>\n",
       "      <td>0</td>\n",
       "      <td>1</td>\n",
       "      <td>0</td>\n",
       "      <td>0</td>\n",
       "      <td>0</td>\n",
       "      <td>0</td>\n",
       "      <td>0</td>\n",
       "      <td>0</td>\n",
       "      <td>1</td>\n",
       "      <td>0</td>\n",
       "      <td>1</td>\n",
       "      <td>0</td>\n",
       "      <td>0</td>\n",
       "      <td>0</td>\n",
       "      <td>0</td>\n",
       "      <td>0</td>\n",
       "      <td>0</td>\n",
       "      <td>0</td>\n",
       "    </tr>\n",
       "  </tbody>\n",
       "</table>\n",
       "<p>15919 rows × 38 columns</p>\n",
       "</div>"
      ],
      "text/plain": [
       "       Air conditioning  Air suspension  Armrest  Automatic climate control  \\\n",
       "0                     1               0        1                          1   \n",
       "1                     1               0        0                          1   \n",
       "2                     1               0        0                          0   \n",
       "3                     0               1        1                          0   \n",
       "4                     1               0        1                          1   \n",
       "...                 ...             ...      ...                        ...   \n",
       "15914                 1               0        0                          1   \n",
       "15915                 1               0        0                          1   \n",
       "15916                 1               0        1                          1   \n",
       "15917                 1               0        0                          1   \n",
       "15918                 1               0        0                          1   \n",
       "\n",
       "       Auxiliary heating  Cruise control  Electric Starter  Electric tailgate  \\\n",
       "0                      0               1                 0                  0   \n",
       "1                      0               0                 0                  0   \n",
       "2                      0               1                 0                  0   \n",
       "3                      1               0                 0                  0   \n",
       "4                      0               0                 0                  0   \n",
       "...                  ...             ...               ...                ...   \n",
       "15914                  0               1                 0                  0   \n",
       "15915                  0               1                 0                  1   \n",
       "15916                  0               1                 0                  1   \n",
       "15917                  0               1                 0                  0   \n",
       "15918                  0               1                 0                  1   \n",
       "\n",
       "       Electrical side mirrors  Electrically adjustable seats  \\\n",
       "0                            1                              0   \n",
       "1                            0                              0   \n",
       "2                            1                              0   \n",
       "3                            1                              0   \n",
       "4                            1                              0   \n",
       "...                        ...                            ...   \n",
       "15914                        1                              1   \n",
       "15915                        1                              0   \n",
       "15916                        1                              0   \n",
       "15917                        1                              1   \n",
       "15918                        1                              1   \n",
       "\n",
       "       Electrically heated windshield  Heads-up display  \\\n",
       "0                                   0                 0   \n",
       "1                                   0                 0   \n",
       "2                                   0                 0   \n",
       "3                                   0                 1   \n",
       "4                                   0                 0   \n",
       "...                               ...               ...   \n",
       "15914                               0                 0   \n",
       "15915                               1                 1   \n",
       "15916                               1                 1   \n",
       "15917                               0                 0   \n",
       "15918                               0                 0   \n",
       "\n",
       "       Heated steering wheel  Hill Holder  Keyless central door lock  \\\n",
       "0                          0            1                          0   \n",
       "1                          0            1                          0   \n",
       "2                          0            1                          0   \n",
       "3                          0            1                          0   \n",
       "4                          0            1                          0   \n",
       "...                      ...          ...                        ...   \n",
       "15914                      0            1                          1   \n",
       "15915                      1            1                          1   \n",
       "15916                      1            0                          0   \n",
       "15917                      0            0                          0   \n",
       "15918                      0            1                          0   \n",
       "\n",
       "       Leather seats  Leather steering wheel  Light sensor  Lumbar support  \\\n",
       "0                  0                       1             1               0   \n",
       "1                  0                       1             0               1   \n",
       "2                  0                       1             0               0   \n",
       "3                  0                       1             1               1   \n",
       "4                  0                       1             1               0   \n",
       "...              ...                     ...           ...             ...   \n",
       "15914              0                       1             1               0   \n",
       "15915              0                       1             1               1   \n",
       "15916              0                       1             1               0   \n",
       "15917              0                       1             1               0   \n",
       "15918              0                       1             0               0   \n",
       "\n",
       "       Massage seats  Multi-function steering wheel  Navigation system  \\\n",
       "0                  0                              1                  1   \n",
       "1                  0                              0                  0   \n",
       "2                  0                              1                  1   \n",
       "3                  0                              1                  1   \n",
       "4                  0                              1                  0   \n",
       "...              ...                            ...                ...   \n",
       "15914              1                              1                  1   \n",
       "15915              0                              0                  1   \n",
       "15916              1                              1                  1   \n",
       "15917              0                              0                  0   \n",
       "15918              0                              0                  1   \n",
       "\n",
       "       Panorama roof  Park Distance Control  Parking assist system camera  \\\n",
       "0                  0                      1                             0   \n",
       "1                  0                      0                             0   \n",
       "2                  0                      1                             0   \n",
       "3                  0                      0                             0   \n",
       "4                  0                      1                             0   \n",
       "...              ...                    ...                           ...   \n",
       "15914              0                      1                             0   \n",
       "15915              0                      1                             1   \n",
       "15916              1                      1                             1   \n",
       "15917              0                      1                             0   \n",
       "15918              0                      0                             0   \n",
       "\n",
       "       Parking assist system self-steering  \\\n",
       "0                                        0   \n",
       "1                                        0   \n",
       "2                                        0   \n",
       "3                                        0   \n",
       "4                                        0   \n",
       "...                                    ...   \n",
       "15914                                    0   \n",
       "15915                                    1   \n",
       "15916                                    0   \n",
       "15917                                    0   \n",
       "15918                                    0   \n",
       "\n",
       "       Parking assist system sensors front  \\\n",
       "0                                        0   \n",
       "1                                        0   \n",
       "2                                        1   \n",
       "3                                        0   \n",
       "4                                        0   \n",
       "...                                    ...   \n",
       "15914                                    1   \n",
       "15915                                    1   \n",
       "15916                                    1   \n",
       "15917                                    0   \n",
       "15918                                    0   \n",
       "\n",
       "       Parking assist system sensors rear  Power windows  Rain sensor  \\\n",
       "0                                       1              1            1   \n",
       "1                                       1              1            0   \n",
       "2                                       1              1            0   \n",
       "3                                       0              1            1   \n",
       "4                                       1              1            1   \n",
       "...                                   ...            ...          ...   \n",
       "15914                                   1              1            1   \n",
       "15915                                   1              1            1   \n",
       "15916                                   1              1            1   \n",
       "15917                                   0              1            0   \n",
       "15918                                   0              1            0   \n",
       "\n",
       "       Seat heating  Seat ventilation  Split rear seats  Start-stop system  \\\n",
       "0                 1                 0                 0                  1   \n",
       "1                 0                 0                 0                  1   \n",
       "2                 1                 0                 0                  1   \n",
       "3                 1                 0                 1                  1   \n",
       "4                 0                 0                 0                  1   \n",
       "...             ...               ...               ...                ...   \n",
       "15914             0                 0                 1                  1   \n",
       "15915             1                 0                 0                  0   \n",
       "15916             1                 1                 0                  0   \n",
       "15917             0                 0                 0                  1   \n",
       "15918             1                 0                 0                  0   \n",
       "\n",
       "       Sunroof  Tinted windows  Wind deflector  Windshield  \n",
       "0            0               0               0           0  \n",
       "1            0               1               0           0  \n",
       "2            0               0               0           0  \n",
       "3            0               0               0           0  \n",
       "4            0               0               0           0  \n",
       "...        ...             ...             ...         ...  \n",
       "15914        0               1               0           0  \n",
       "15915        1               0               0           0  \n",
       "15916        1               0               0           0  \n",
       "15917        0               0               0           0  \n",
       "15918        0               0               0           0  \n",
       "\n",
       "[15919 rows x 38 columns]"
      ]
     },
     "execution_count": 150,
     "metadata": {},
     "output_type": "execute_result"
    }
   ],
   "source": [
    "df.comfort.map(lambda x: \",\".join(x),na_action='ignore').str.get_dummies(\",\")"
   ]
  },
  {
   "cell_type": "code",
   "execution_count": 151,
   "id": "1f4fb843",
   "metadata": {},
   "outputs": [
    {
     "data": {
      "text/html": [
       "<div>\n",
       "<style scoped>\n",
       "    .dataframe tbody tr th:only-of-type {\n",
       "        vertical-align: middle;\n",
       "    }\n",
       "\n",
       "    .dataframe tbody tr th {\n",
       "        vertical-align: top;\n",
       "    }\n",
       "\n",
       "    .dataframe thead th {\n",
       "        text-align: right;\n",
       "    }\n",
       "</style>\n",
       "<table border=\"1\" class=\"dataframe\">\n",
       "  <thead>\n",
       "    <tr style=\"text-align: right;\">\n",
       "      <th></th>\n",
       "      <th>'Air suspension'</th>\n",
       "      <th>'Armrest'</th>\n",
       "      <th>'Armrest']</th>\n",
       "      <th>'Automatic climate control'</th>\n",
       "      <th>'Automatic climate control']</th>\n",
       "      <th>'Auxiliary heating'</th>\n",
       "      <th>'Cruise control'</th>\n",
       "      <th>'Cruise control']</th>\n",
       "      <th>'Electric Starter'</th>\n",
       "      <th>'Electric tailgate'</th>\n",
       "      <th>'Electrical side mirrors'</th>\n",
       "      <th>'Electrical side mirrors']</th>\n",
       "      <th>'Electrically adjustable seats'</th>\n",
       "      <th>'Electrically heated windshield'</th>\n",
       "      <th>'Heads-up display'</th>\n",
       "      <th>'Heated steering wheel'</th>\n",
       "      <th>'Hill Holder'</th>\n",
       "      <th>'Hill Holder']</th>\n",
       "      <th>'Keyless central door lock'</th>\n",
       "      <th>'Keyless central door lock']</th>\n",
       "      <th>'Leather seats'</th>\n",
       "      <th>'Leather steering wheel'</th>\n",
       "      <th>'Leather steering wheel']</th>\n",
       "      <th>'Light sensor'</th>\n",
       "      <th>'Lumbar support'</th>\n",
       "      <th>'Lumbar support']</th>\n",
       "      <th>'Massage seats'</th>\n",
       "      <th>'Multi-function steering wheel'</th>\n",
       "      <th>'Multi-function steering wheel']</th>\n",
       "      <th>'Navigation system'</th>\n",
       "      <th>'Navigation system']</th>\n",
       "      <th>'Panorama roof'</th>\n",
       "      <th>'Panorama roof']</th>\n",
       "      <th>'Park Distance Control'</th>\n",
       "      <th>'Park Distance Control']</th>\n",
       "      <th>'Parking assist system camera'</th>\n",
       "      <th>'Parking assist system camera']</th>\n",
       "      <th>'Parking assist system self-steering'</th>\n",
       "      <th>'Parking assist system self-steering']</th>\n",
       "      <th>'Parking assist system sensors front'</th>\n",
       "      <th>'Parking assist system sensors front']</th>\n",
       "      <th>'Parking assist system sensors rear'</th>\n",
       "      <th>'Parking assist system sensors rear']</th>\n",
       "      <th>'Power windows'</th>\n",
       "      <th>'Power windows']</th>\n",
       "      <th>'Rain sensor'</th>\n",
       "      <th>'Rain sensor']</th>\n",
       "      <th>'Seat heating'</th>\n",
       "      <th>'Seat heating']</th>\n",
       "      <th>'Seat ventilation'</th>\n",
       "      <th>'Seat ventilation']</th>\n",
       "      <th>'Split rear seats'</th>\n",
       "      <th>'Split rear seats']</th>\n",
       "      <th>'Start-stop system'</th>\n",
       "      <th>'Start-stop system']</th>\n",
       "      <th>'Sunroof'</th>\n",
       "      <th>'Sunroof']</th>\n",
       "      <th>'Tinted windows'</th>\n",
       "      <th>'Tinted windows']</th>\n",
       "      <th>'Wind deflector']</th>\n",
       "      <th>'Windshield']</th>\n",
       "      <th>['Air conditioning'</th>\n",
       "      <th>['Air conditioning']</th>\n",
       "      <th>['Air suspension'</th>\n",
       "      <th>['Air suspension']</th>\n",
       "      <th>['Armrest'</th>\n",
       "      <th>['Auxiliary heating'</th>\n",
       "      <th>['Cruise control'</th>\n",
       "      <th>['Cruise control']</th>\n",
       "      <th>['Electrical side mirrors'</th>\n",
       "      <th>['Electrically adjustable seats'</th>\n",
       "      <th>['Electrically heated windshield'</th>\n",
       "      <th>['Heads-up display']</th>\n",
       "      <th>['Heated steering wheel'</th>\n",
       "      <th>['Hill Holder'</th>\n",
       "      <th>['Hill Holder']</th>\n",
       "      <th>['Leather steering wheel'</th>\n",
       "      <th>['Light sensor'</th>\n",
       "      <th>['Multi-function steering wheel'</th>\n",
       "      <th>['Multi-function steering wheel']</th>\n",
       "      <th>['Navigation system'</th>\n",
       "      <th>['Navigation system']</th>\n",
       "      <th>['Panorama roof']</th>\n",
       "      <th>['Park Distance Control'</th>\n",
       "      <th>['Park Distance Control']</th>\n",
       "      <th>['Power windows'</th>\n",
       "      <th>['Power windows']</th>\n",
       "      <th>['Rain sensor']</th>\n",
       "      <th>['Sunroof']</th>\n",
       "    </tr>\n",
       "  </thead>\n",
       "  <tbody>\n",
       "    <tr>\n",
       "      <th>0</th>\n",
       "      <td>0</td>\n",
       "      <td>1</td>\n",
       "      <td>0</td>\n",
       "      <td>1</td>\n",
       "      <td>0</td>\n",
       "      <td>0</td>\n",
       "      <td>1</td>\n",
       "      <td>0</td>\n",
       "      <td>0</td>\n",
       "      <td>0</td>\n",
       "      <td>1</td>\n",
       "      <td>0</td>\n",
       "      <td>0</td>\n",
       "      <td>0</td>\n",
       "      <td>0</td>\n",
       "      <td>0</td>\n",
       "      <td>1</td>\n",
       "      <td>0</td>\n",
       "      <td>0</td>\n",
       "      <td>0</td>\n",
       "      <td>0</td>\n",
       "      <td>1</td>\n",
       "      <td>0</td>\n",
       "      <td>1</td>\n",
       "      <td>0</td>\n",
       "      <td>0</td>\n",
       "      <td>0</td>\n",
       "      <td>1</td>\n",
       "      <td>0</td>\n",
       "      <td>1</td>\n",
       "      <td>0</td>\n",
       "      <td>0</td>\n",
       "      <td>0</td>\n",
       "      <td>1</td>\n",
       "      <td>0</td>\n",
       "      <td>0</td>\n",
       "      <td>0</td>\n",
       "      <td>0</td>\n",
       "      <td>0</td>\n",
       "      <td>0</td>\n",
       "      <td>0</td>\n",
       "      <td>1</td>\n",
       "      <td>0</td>\n",
       "      <td>1</td>\n",
       "      <td>0</td>\n",
       "      <td>1</td>\n",
       "      <td>0</td>\n",
       "      <td>1</td>\n",
       "      <td>0</td>\n",
       "      <td>0</td>\n",
       "      <td>0</td>\n",
       "      <td>0</td>\n",
       "      <td>0</td>\n",
       "      <td>0</td>\n",
       "      <td>1</td>\n",
       "      <td>0</td>\n",
       "      <td>0</td>\n",
       "      <td>0</td>\n",
       "      <td>0</td>\n",
       "      <td>0</td>\n",
       "      <td>0</td>\n",
       "      <td>1</td>\n",
       "      <td>0</td>\n",
       "      <td>0</td>\n",
       "      <td>0</td>\n",
       "      <td>0</td>\n",
       "      <td>0</td>\n",
       "      <td>0</td>\n",
       "      <td>0</td>\n",
       "      <td>0</td>\n",
       "      <td>0</td>\n",
       "      <td>0</td>\n",
       "      <td>0</td>\n",
       "      <td>0</td>\n",
       "      <td>0</td>\n",
       "      <td>0</td>\n",
       "      <td>0</td>\n",
       "      <td>0</td>\n",
       "      <td>0</td>\n",
       "      <td>0</td>\n",
       "      <td>0</td>\n",
       "      <td>0</td>\n",
       "      <td>0</td>\n",
       "      <td>0</td>\n",
       "      <td>0</td>\n",
       "      <td>0</td>\n",
       "      <td>0</td>\n",
       "      <td>0</td>\n",
       "      <td>0</td>\n",
       "    </tr>\n",
       "    <tr>\n",
       "      <th>1</th>\n",
       "      <td>0</td>\n",
       "      <td>0</td>\n",
       "      <td>0</td>\n",
       "      <td>1</td>\n",
       "      <td>0</td>\n",
       "      <td>0</td>\n",
       "      <td>0</td>\n",
       "      <td>0</td>\n",
       "      <td>0</td>\n",
       "      <td>0</td>\n",
       "      <td>0</td>\n",
       "      <td>0</td>\n",
       "      <td>0</td>\n",
       "      <td>0</td>\n",
       "      <td>0</td>\n",
       "      <td>0</td>\n",
       "      <td>1</td>\n",
       "      <td>0</td>\n",
       "      <td>0</td>\n",
       "      <td>0</td>\n",
       "      <td>0</td>\n",
       "      <td>1</td>\n",
       "      <td>0</td>\n",
       "      <td>0</td>\n",
       "      <td>1</td>\n",
       "      <td>0</td>\n",
       "      <td>0</td>\n",
       "      <td>0</td>\n",
       "      <td>0</td>\n",
       "      <td>0</td>\n",
       "      <td>0</td>\n",
       "      <td>0</td>\n",
       "      <td>0</td>\n",
       "      <td>0</td>\n",
       "      <td>0</td>\n",
       "      <td>0</td>\n",
       "      <td>0</td>\n",
       "      <td>0</td>\n",
       "      <td>0</td>\n",
       "      <td>0</td>\n",
       "      <td>0</td>\n",
       "      <td>1</td>\n",
       "      <td>0</td>\n",
       "      <td>1</td>\n",
       "      <td>0</td>\n",
       "      <td>0</td>\n",
       "      <td>0</td>\n",
       "      <td>0</td>\n",
       "      <td>0</td>\n",
       "      <td>0</td>\n",
       "      <td>0</td>\n",
       "      <td>0</td>\n",
       "      <td>0</td>\n",
       "      <td>1</td>\n",
       "      <td>0</td>\n",
       "      <td>0</td>\n",
       "      <td>0</td>\n",
       "      <td>0</td>\n",
       "      <td>1</td>\n",
       "      <td>0</td>\n",
       "      <td>0</td>\n",
       "      <td>1</td>\n",
       "      <td>0</td>\n",
       "      <td>0</td>\n",
       "      <td>0</td>\n",
       "      <td>0</td>\n",
       "      <td>0</td>\n",
       "      <td>0</td>\n",
       "      <td>0</td>\n",
       "      <td>0</td>\n",
       "      <td>0</td>\n",
       "      <td>0</td>\n",
       "      <td>0</td>\n",
       "      <td>0</td>\n",
       "      <td>0</td>\n",
       "      <td>0</td>\n",
       "      <td>0</td>\n",
       "      <td>0</td>\n",
       "      <td>0</td>\n",
       "      <td>0</td>\n",
       "      <td>0</td>\n",
       "      <td>0</td>\n",
       "      <td>0</td>\n",
       "      <td>0</td>\n",
       "      <td>0</td>\n",
       "      <td>0</td>\n",
       "      <td>0</td>\n",
       "      <td>0</td>\n",
       "      <td>0</td>\n",
       "    </tr>\n",
       "    <tr>\n",
       "      <th>2</th>\n",
       "      <td>0</td>\n",
       "      <td>0</td>\n",
       "      <td>0</td>\n",
       "      <td>0</td>\n",
       "      <td>0</td>\n",
       "      <td>0</td>\n",
       "      <td>1</td>\n",
       "      <td>0</td>\n",
       "      <td>0</td>\n",
       "      <td>0</td>\n",
       "      <td>1</td>\n",
       "      <td>0</td>\n",
       "      <td>0</td>\n",
       "      <td>0</td>\n",
       "      <td>0</td>\n",
       "      <td>0</td>\n",
       "      <td>1</td>\n",
       "      <td>0</td>\n",
       "      <td>0</td>\n",
       "      <td>0</td>\n",
       "      <td>0</td>\n",
       "      <td>1</td>\n",
       "      <td>0</td>\n",
       "      <td>0</td>\n",
       "      <td>0</td>\n",
       "      <td>0</td>\n",
       "      <td>0</td>\n",
       "      <td>1</td>\n",
       "      <td>0</td>\n",
       "      <td>1</td>\n",
       "      <td>0</td>\n",
       "      <td>0</td>\n",
       "      <td>0</td>\n",
       "      <td>1</td>\n",
       "      <td>0</td>\n",
       "      <td>0</td>\n",
       "      <td>0</td>\n",
       "      <td>0</td>\n",
       "      <td>0</td>\n",
       "      <td>1</td>\n",
       "      <td>0</td>\n",
       "      <td>1</td>\n",
       "      <td>0</td>\n",
       "      <td>1</td>\n",
       "      <td>0</td>\n",
       "      <td>0</td>\n",
       "      <td>0</td>\n",
       "      <td>1</td>\n",
       "      <td>0</td>\n",
       "      <td>0</td>\n",
       "      <td>0</td>\n",
       "      <td>0</td>\n",
       "      <td>0</td>\n",
       "      <td>0</td>\n",
       "      <td>1</td>\n",
       "      <td>0</td>\n",
       "      <td>0</td>\n",
       "      <td>0</td>\n",
       "      <td>0</td>\n",
       "      <td>0</td>\n",
       "      <td>0</td>\n",
       "      <td>1</td>\n",
       "      <td>0</td>\n",
       "      <td>0</td>\n",
       "      <td>0</td>\n",
       "      <td>0</td>\n",
       "      <td>0</td>\n",
       "      <td>0</td>\n",
       "      <td>0</td>\n",
       "      <td>0</td>\n",
       "      <td>0</td>\n",
       "      <td>0</td>\n",
       "      <td>0</td>\n",
       "      <td>0</td>\n",
       "      <td>0</td>\n",
       "      <td>0</td>\n",
       "      <td>0</td>\n",
       "      <td>0</td>\n",
       "      <td>0</td>\n",
       "      <td>0</td>\n",
       "      <td>0</td>\n",
       "      <td>0</td>\n",
       "      <td>0</td>\n",
       "      <td>0</td>\n",
       "      <td>0</td>\n",
       "      <td>0</td>\n",
       "      <td>0</td>\n",
       "      <td>0</td>\n",
       "      <td>0</td>\n",
       "    </tr>\n",
       "    <tr>\n",
       "      <th>3</th>\n",
       "      <td>0</td>\n",
       "      <td>1</td>\n",
       "      <td>0</td>\n",
       "      <td>0</td>\n",
       "      <td>0</td>\n",
       "      <td>1</td>\n",
       "      <td>0</td>\n",
       "      <td>0</td>\n",
       "      <td>0</td>\n",
       "      <td>0</td>\n",
       "      <td>1</td>\n",
       "      <td>0</td>\n",
       "      <td>0</td>\n",
       "      <td>0</td>\n",
       "      <td>1</td>\n",
       "      <td>0</td>\n",
       "      <td>1</td>\n",
       "      <td>0</td>\n",
       "      <td>0</td>\n",
       "      <td>0</td>\n",
       "      <td>0</td>\n",
       "      <td>1</td>\n",
       "      <td>0</td>\n",
       "      <td>1</td>\n",
       "      <td>1</td>\n",
       "      <td>0</td>\n",
       "      <td>0</td>\n",
       "      <td>1</td>\n",
       "      <td>0</td>\n",
       "      <td>1</td>\n",
       "      <td>0</td>\n",
       "      <td>0</td>\n",
       "      <td>0</td>\n",
       "      <td>0</td>\n",
       "      <td>0</td>\n",
       "      <td>0</td>\n",
       "      <td>0</td>\n",
       "      <td>0</td>\n",
       "      <td>0</td>\n",
       "      <td>0</td>\n",
       "      <td>0</td>\n",
       "      <td>0</td>\n",
       "      <td>0</td>\n",
       "      <td>1</td>\n",
       "      <td>0</td>\n",
       "      <td>1</td>\n",
       "      <td>0</td>\n",
       "      <td>1</td>\n",
       "      <td>0</td>\n",
       "      <td>0</td>\n",
       "      <td>0</td>\n",
       "      <td>1</td>\n",
       "      <td>0</td>\n",
       "      <td>0</td>\n",
       "      <td>1</td>\n",
       "      <td>0</td>\n",
       "      <td>0</td>\n",
       "      <td>0</td>\n",
       "      <td>0</td>\n",
       "      <td>0</td>\n",
       "      <td>0</td>\n",
       "      <td>0</td>\n",
       "      <td>0</td>\n",
       "      <td>1</td>\n",
       "      <td>0</td>\n",
       "      <td>0</td>\n",
       "      <td>0</td>\n",
       "      <td>0</td>\n",
       "      <td>0</td>\n",
       "      <td>0</td>\n",
       "      <td>0</td>\n",
       "      <td>0</td>\n",
       "      <td>0</td>\n",
       "      <td>0</td>\n",
       "      <td>0</td>\n",
       "      <td>0</td>\n",
       "      <td>0</td>\n",
       "      <td>0</td>\n",
       "      <td>0</td>\n",
       "      <td>0</td>\n",
       "      <td>0</td>\n",
       "      <td>0</td>\n",
       "      <td>0</td>\n",
       "      <td>0</td>\n",
       "      <td>0</td>\n",
       "      <td>0</td>\n",
       "      <td>0</td>\n",
       "      <td>0</td>\n",
       "      <td>0</td>\n",
       "    </tr>\n",
       "    <tr>\n",
       "      <th>4</th>\n",
       "      <td>0</td>\n",
       "      <td>1</td>\n",
       "      <td>0</td>\n",
       "      <td>1</td>\n",
       "      <td>0</td>\n",
       "      <td>0</td>\n",
       "      <td>0</td>\n",
       "      <td>0</td>\n",
       "      <td>0</td>\n",
       "      <td>0</td>\n",
       "      <td>1</td>\n",
       "      <td>0</td>\n",
       "      <td>0</td>\n",
       "      <td>0</td>\n",
       "      <td>0</td>\n",
       "      <td>0</td>\n",
       "      <td>1</td>\n",
       "      <td>0</td>\n",
       "      <td>0</td>\n",
       "      <td>0</td>\n",
       "      <td>0</td>\n",
       "      <td>1</td>\n",
       "      <td>0</td>\n",
       "      <td>1</td>\n",
       "      <td>0</td>\n",
       "      <td>0</td>\n",
       "      <td>0</td>\n",
       "      <td>1</td>\n",
       "      <td>0</td>\n",
       "      <td>0</td>\n",
       "      <td>0</td>\n",
       "      <td>0</td>\n",
       "      <td>0</td>\n",
       "      <td>1</td>\n",
       "      <td>0</td>\n",
       "      <td>0</td>\n",
       "      <td>0</td>\n",
       "      <td>0</td>\n",
       "      <td>0</td>\n",
       "      <td>0</td>\n",
       "      <td>0</td>\n",
       "      <td>1</td>\n",
       "      <td>0</td>\n",
       "      <td>1</td>\n",
       "      <td>0</td>\n",
       "      <td>1</td>\n",
       "      <td>0</td>\n",
       "      <td>0</td>\n",
       "      <td>0</td>\n",
       "      <td>0</td>\n",
       "      <td>0</td>\n",
       "      <td>0</td>\n",
       "      <td>0</td>\n",
       "      <td>0</td>\n",
       "      <td>1</td>\n",
       "      <td>0</td>\n",
       "      <td>0</td>\n",
       "      <td>0</td>\n",
       "      <td>0</td>\n",
       "      <td>0</td>\n",
       "      <td>0</td>\n",
       "      <td>1</td>\n",
       "      <td>0</td>\n",
       "      <td>0</td>\n",
       "      <td>0</td>\n",
       "      <td>0</td>\n",
       "      <td>0</td>\n",
       "      <td>0</td>\n",
       "      <td>0</td>\n",
       "      <td>0</td>\n",
       "      <td>0</td>\n",
       "      <td>0</td>\n",
       "      <td>0</td>\n",
       "      <td>0</td>\n",
       "      <td>0</td>\n",
       "      <td>0</td>\n",
       "      <td>0</td>\n",
       "      <td>0</td>\n",
       "      <td>0</td>\n",
       "      <td>0</td>\n",
       "      <td>0</td>\n",
       "      <td>0</td>\n",
       "      <td>0</td>\n",
       "      <td>0</td>\n",
       "      <td>0</td>\n",
       "      <td>0</td>\n",
       "      <td>0</td>\n",
       "      <td>0</td>\n",
       "      <td>0</td>\n",
       "    </tr>\n",
       "    <tr>\n",
       "      <th>...</th>\n",
       "      <td>...</td>\n",
       "      <td>...</td>\n",
       "      <td>...</td>\n",
       "      <td>...</td>\n",
       "      <td>...</td>\n",
       "      <td>...</td>\n",
       "      <td>...</td>\n",
       "      <td>...</td>\n",
       "      <td>...</td>\n",
       "      <td>...</td>\n",
       "      <td>...</td>\n",
       "      <td>...</td>\n",
       "      <td>...</td>\n",
       "      <td>...</td>\n",
       "      <td>...</td>\n",
       "      <td>...</td>\n",
       "      <td>...</td>\n",
       "      <td>...</td>\n",
       "      <td>...</td>\n",
       "      <td>...</td>\n",
       "      <td>...</td>\n",
       "      <td>...</td>\n",
       "      <td>...</td>\n",
       "      <td>...</td>\n",
       "      <td>...</td>\n",
       "      <td>...</td>\n",
       "      <td>...</td>\n",
       "      <td>...</td>\n",
       "      <td>...</td>\n",
       "      <td>...</td>\n",
       "      <td>...</td>\n",
       "      <td>...</td>\n",
       "      <td>...</td>\n",
       "      <td>...</td>\n",
       "      <td>...</td>\n",
       "      <td>...</td>\n",
       "      <td>...</td>\n",
       "      <td>...</td>\n",
       "      <td>...</td>\n",
       "      <td>...</td>\n",
       "      <td>...</td>\n",
       "      <td>...</td>\n",
       "      <td>...</td>\n",
       "      <td>...</td>\n",
       "      <td>...</td>\n",
       "      <td>...</td>\n",
       "      <td>...</td>\n",
       "      <td>...</td>\n",
       "      <td>...</td>\n",
       "      <td>...</td>\n",
       "      <td>...</td>\n",
       "      <td>...</td>\n",
       "      <td>...</td>\n",
       "      <td>...</td>\n",
       "      <td>...</td>\n",
       "      <td>...</td>\n",
       "      <td>...</td>\n",
       "      <td>...</td>\n",
       "      <td>...</td>\n",
       "      <td>...</td>\n",
       "      <td>...</td>\n",
       "      <td>...</td>\n",
       "      <td>...</td>\n",
       "      <td>...</td>\n",
       "      <td>...</td>\n",
       "      <td>...</td>\n",
       "      <td>...</td>\n",
       "      <td>...</td>\n",
       "      <td>...</td>\n",
       "      <td>...</td>\n",
       "      <td>...</td>\n",
       "      <td>...</td>\n",
       "      <td>...</td>\n",
       "      <td>...</td>\n",
       "      <td>...</td>\n",
       "      <td>...</td>\n",
       "      <td>...</td>\n",
       "      <td>...</td>\n",
       "      <td>...</td>\n",
       "      <td>...</td>\n",
       "      <td>...</td>\n",
       "      <td>...</td>\n",
       "      <td>...</td>\n",
       "      <td>...</td>\n",
       "      <td>...</td>\n",
       "      <td>...</td>\n",
       "      <td>...</td>\n",
       "      <td>...</td>\n",
       "      <td>...</td>\n",
       "    </tr>\n",
       "    <tr>\n",
       "      <th>15914</th>\n",
       "      <td>0</td>\n",
       "      <td>0</td>\n",
       "      <td>0</td>\n",
       "      <td>1</td>\n",
       "      <td>0</td>\n",
       "      <td>0</td>\n",
       "      <td>1</td>\n",
       "      <td>0</td>\n",
       "      <td>0</td>\n",
       "      <td>0</td>\n",
       "      <td>1</td>\n",
       "      <td>0</td>\n",
       "      <td>1</td>\n",
       "      <td>0</td>\n",
       "      <td>0</td>\n",
       "      <td>0</td>\n",
       "      <td>1</td>\n",
       "      <td>0</td>\n",
       "      <td>1</td>\n",
       "      <td>0</td>\n",
       "      <td>0</td>\n",
       "      <td>1</td>\n",
       "      <td>0</td>\n",
       "      <td>1</td>\n",
       "      <td>0</td>\n",
       "      <td>0</td>\n",
       "      <td>1</td>\n",
       "      <td>1</td>\n",
       "      <td>0</td>\n",
       "      <td>1</td>\n",
       "      <td>0</td>\n",
       "      <td>0</td>\n",
       "      <td>0</td>\n",
       "      <td>1</td>\n",
       "      <td>0</td>\n",
       "      <td>0</td>\n",
       "      <td>0</td>\n",
       "      <td>0</td>\n",
       "      <td>0</td>\n",
       "      <td>1</td>\n",
       "      <td>0</td>\n",
       "      <td>1</td>\n",
       "      <td>0</td>\n",
       "      <td>1</td>\n",
       "      <td>0</td>\n",
       "      <td>1</td>\n",
       "      <td>0</td>\n",
       "      <td>0</td>\n",
       "      <td>0</td>\n",
       "      <td>0</td>\n",
       "      <td>0</td>\n",
       "      <td>1</td>\n",
       "      <td>0</td>\n",
       "      <td>1</td>\n",
       "      <td>0</td>\n",
       "      <td>0</td>\n",
       "      <td>0</td>\n",
       "      <td>0</td>\n",
       "      <td>1</td>\n",
       "      <td>0</td>\n",
       "      <td>0</td>\n",
       "      <td>1</td>\n",
       "      <td>0</td>\n",
       "      <td>0</td>\n",
       "      <td>0</td>\n",
       "      <td>0</td>\n",
       "      <td>0</td>\n",
       "      <td>0</td>\n",
       "      <td>0</td>\n",
       "      <td>0</td>\n",
       "      <td>0</td>\n",
       "      <td>0</td>\n",
       "      <td>0</td>\n",
       "      <td>0</td>\n",
       "      <td>0</td>\n",
       "      <td>0</td>\n",
       "      <td>0</td>\n",
       "      <td>0</td>\n",
       "      <td>0</td>\n",
       "      <td>0</td>\n",
       "      <td>0</td>\n",
       "      <td>0</td>\n",
       "      <td>0</td>\n",
       "      <td>0</td>\n",
       "      <td>0</td>\n",
       "      <td>0</td>\n",
       "      <td>0</td>\n",
       "      <td>0</td>\n",
       "      <td>0</td>\n",
       "    </tr>\n",
       "    <tr>\n",
       "      <th>15915</th>\n",
       "      <td>0</td>\n",
       "      <td>0</td>\n",
       "      <td>0</td>\n",
       "      <td>1</td>\n",
       "      <td>0</td>\n",
       "      <td>0</td>\n",
       "      <td>1</td>\n",
       "      <td>0</td>\n",
       "      <td>0</td>\n",
       "      <td>1</td>\n",
       "      <td>1</td>\n",
       "      <td>0</td>\n",
       "      <td>0</td>\n",
       "      <td>1</td>\n",
       "      <td>1</td>\n",
       "      <td>1</td>\n",
       "      <td>1</td>\n",
       "      <td>0</td>\n",
       "      <td>1</td>\n",
       "      <td>0</td>\n",
       "      <td>0</td>\n",
       "      <td>1</td>\n",
       "      <td>0</td>\n",
       "      <td>1</td>\n",
       "      <td>1</td>\n",
       "      <td>0</td>\n",
       "      <td>0</td>\n",
       "      <td>0</td>\n",
       "      <td>0</td>\n",
       "      <td>1</td>\n",
       "      <td>0</td>\n",
       "      <td>0</td>\n",
       "      <td>0</td>\n",
       "      <td>1</td>\n",
       "      <td>0</td>\n",
       "      <td>1</td>\n",
       "      <td>0</td>\n",
       "      <td>1</td>\n",
       "      <td>0</td>\n",
       "      <td>1</td>\n",
       "      <td>0</td>\n",
       "      <td>1</td>\n",
       "      <td>0</td>\n",
       "      <td>1</td>\n",
       "      <td>0</td>\n",
       "      <td>1</td>\n",
       "      <td>0</td>\n",
       "      <td>1</td>\n",
       "      <td>0</td>\n",
       "      <td>0</td>\n",
       "      <td>0</td>\n",
       "      <td>0</td>\n",
       "      <td>0</td>\n",
       "      <td>0</td>\n",
       "      <td>0</td>\n",
       "      <td>0</td>\n",
       "      <td>1</td>\n",
       "      <td>0</td>\n",
       "      <td>0</td>\n",
       "      <td>0</td>\n",
       "      <td>0</td>\n",
       "      <td>1</td>\n",
       "      <td>0</td>\n",
       "      <td>0</td>\n",
       "      <td>0</td>\n",
       "      <td>0</td>\n",
       "      <td>0</td>\n",
       "      <td>0</td>\n",
       "      <td>0</td>\n",
       "      <td>0</td>\n",
       "      <td>0</td>\n",
       "      <td>0</td>\n",
       "      <td>0</td>\n",
       "      <td>0</td>\n",
       "      <td>0</td>\n",
       "      <td>0</td>\n",
       "      <td>0</td>\n",
       "      <td>0</td>\n",
       "      <td>0</td>\n",
       "      <td>0</td>\n",
       "      <td>0</td>\n",
       "      <td>0</td>\n",
       "      <td>0</td>\n",
       "      <td>0</td>\n",
       "      <td>0</td>\n",
       "      <td>0</td>\n",
       "      <td>0</td>\n",
       "      <td>0</td>\n",
       "      <td>0</td>\n",
       "    </tr>\n",
       "    <tr>\n",
       "      <th>15916</th>\n",
       "      <td>0</td>\n",
       "      <td>1</td>\n",
       "      <td>0</td>\n",
       "      <td>1</td>\n",
       "      <td>0</td>\n",
       "      <td>0</td>\n",
       "      <td>1</td>\n",
       "      <td>0</td>\n",
       "      <td>0</td>\n",
       "      <td>1</td>\n",
       "      <td>1</td>\n",
       "      <td>0</td>\n",
       "      <td>0</td>\n",
       "      <td>1</td>\n",
       "      <td>1</td>\n",
       "      <td>1</td>\n",
       "      <td>0</td>\n",
       "      <td>0</td>\n",
       "      <td>0</td>\n",
       "      <td>0</td>\n",
       "      <td>0</td>\n",
       "      <td>1</td>\n",
       "      <td>0</td>\n",
       "      <td>1</td>\n",
       "      <td>0</td>\n",
       "      <td>0</td>\n",
       "      <td>1</td>\n",
       "      <td>1</td>\n",
       "      <td>0</td>\n",
       "      <td>1</td>\n",
       "      <td>0</td>\n",
       "      <td>1</td>\n",
       "      <td>0</td>\n",
       "      <td>1</td>\n",
       "      <td>0</td>\n",
       "      <td>1</td>\n",
       "      <td>0</td>\n",
       "      <td>0</td>\n",
       "      <td>0</td>\n",
       "      <td>1</td>\n",
       "      <td>0</td>\n",
       "      <td>1</td>\n",
       "      <td>0</td>\n",
       "      <td>1</td>\n",
       "      <td>0</td>\n",
       "      <td>1</td>\n",
       "      <td>0</td>\n",
       "      <td>1</td>\n",
       "      <td>0</td>\n",
       "      <td>1</td>\n",
       "      <td>0</td>\n",
       "      <td>0</td>\n",
       "      <td>0</td>\n",
       "      <td>0</td>\n",
       "      <td>0</td>\n",
       "      <td>0</td>\n",
       "      <td>1</td>\n",
       "      <td>0</td>\n",
       "      <td>0</td>\n",
       "      <td>0</td>\n",
       "      <td>0</td>\n",
       "      <td>1</td>\n",
       "      <td>0</td>\n",
       "      <td>0</td>\n",
       "      <td>0</td>\n",
       "      <td>0</td>\n",
       "      <td>0</td>\n",
       "      <td>0</td>\n",
       "      <td>0</td>\n",
       "      <td>0</td>\n",
       "      <td>0</td>\n",
       "      <td>0</td>\n",
       "      <td>0</td>\n",
       "      <td>0</td>\n",
       "      <td>0</td>\n",
       "      <td>0</td>\n",
       "      <td>0</td>\n",
       "      <td>0</td>\n",
       "      <td>0</td>\n",
       "      <td>0</td>\n",
       "      <td>0</td>\n",
       "      <td>0</td>\n",
       "      <td>0</td>\n",
       "      <td>0</td>\n",
       "      <td>0</td>\n",
       "      <td>0</td>\n",
       "      <td>0</td>\n",
       "      <td>0</td>\n",
       "      <td>0</td>\n",
       "    </tr>\n",
       "    <tr>\n",
       "      <th>15917</th>\n",
       "      <td>0</td>\n",
       "      <td>0</td>\n",
       "      <td>0</td>\n",
       "      <td>1</td>\n",
       "      <td>0</td>\n",
       "      <td>0</td>\n",
       "      <td>1</td>\n",
       "      <td>0</td>\n",
       "      <td>0</td>\n",
       "      <td>0</td>\n",
       "      <td>1</td>\n",
       "      <td>0</td>\n",
       "      <td>1</td>\n",
       "      <td>0</td>\n",
       "      <td>0</td>\n",
       "      <td>0</td>\n",
       "      <td>0</td>\n",
       "      <td>0</td>\n",
       "      <td>0</td>\n",
       "      <td>0</td>\n",
       "      <td>0</td>\n",
       "      <td>1</td>\n",
       "      <td>0</td>\n",
       "      <td>1</td>\n",
       "      <td>0</td>\n",
       "      <td>0</td>\n",
       "      <td>0</td>\n",
       "      <td>0</td>\n",
       "      <td>0</td>\n",
       "      <td>0</td>\n",
       "      <td>0</td>\n",
       "      <td>0</td>\n",
       "      <td>0</td>\n",
       "      <td>1</td>\n",
       "      <td>0</td>\n",
       "      <td>0</td>\n",
       "      <td>0</td>\n",
       "      <td>0</td>\n",
       "      <td>0</td>\n",
       "      <td>0</td>\n",
       "      <td>0</td>\n",
       "      <td>0</td>\n",
       "      <td>0</td>\n",
       "      <td>1</td>\n",
       "      <td>0</td>\n",
       "      <td>0</td>\n",
       "      <td>0</td>\n",
       "      <td>0</td>\n",
       "      <td>0</td>\n",
       "      <td>0</td>\n",
       "      <td>0</td>\n",
       "      <td>0</td>\n",
       "      <td>0</td>\n",
       "      <td>0</td>\n",
       "      <td>1</td>\n",
       "      <td>0</td>\n",
       "      <td>0</td>\n",
       "      <td>0</td>\n",
       "      <td>0</td>\n",
       "      <td>0</td>\n",
       "      <td>0</td>\n",
       "      <td>1</td>\n",
       "      <td>0</td>\n",
       "      <td>0</td>\n",
       "      <td>0</td>\n",
       "      <td>0</td>\n",
       "      <td>0</td>\n",
       "      <td>0</td>\n",
       "      <td>0</td>\n",
       "      <td>0</td>\n",
       "      <td>0</td>\n",
       "      <td>0</td>\n",
       "      <td>0</td>\n",
       "      <td>0</td>\n",
       "      <td>0</td>\n",
       "      <td>0</td>\n",
       "      <td>0</td>\n",
       "      <td>0</td>\n",
       "      <td>0</td>\n",
       "      <td>0</td>\n",
       "      <td>0</td>\n",
       "      <td>0</td>\n",
       "      <td>0</td>\n",
       "      <td>0</td>\n",
       "      <td>0</td>\n",
       "      <td>0</td>\n",
       "      <td>0</td>\n",
       "      <td>0</td>\n",
       "      <td>0</td>\n",
       "    </tr>\n",
       "    <tr>\n",
       "      <th>15918</th>\n",
       "      <td>0</td>\n",
       "      <td>0</td>\n",
       "      <td>0</td>\n",
       "      <td>1</td>\n",
       "      <td>0</td>\n",
       "      <td>0</td>\n",
       "      <td>1</td>\n",
       "      <td>0</td>\n",
       "      <td>0</td>\n",
       "      <td>1</td>\n",
       "      <td>1</td>\n",
       "      <td>0</td>\n",
       "      <td>1</td>\n",
       "      <td>0</td>\n",
       "      <td>0</td>\n",
       "      <td>0</td>\n",
       "      <td>1</td>\n",
       "      <td>0</td>\n",
       "      <td>0</td>\n",
       "      <td>0</td>\n",
       "      <td>0</td>\n",
       "      <td>1</td>\n",
       "      <td>0</td>\n",
       "      <td>0</td>\n",
       "      <td>0</td>\n",
       "      <td>0</td>\n",
       "      <td>0</td>\n",
       "      <td>0</td>\n",
       "      <td>0</td>\n",
       "      <td>1</td>\n",
       "      <td>0</td>\n",
       "      <td>0</td>\n",
       "      <td>0</td>\n",
       "      <td>0</td>\n",
       "      <td>0</td>\n",
       "      <td>0</td>\n",
       "      <td>0</td>\n",
       "      <td>0</td>\n",
       "      <td>0</td>\n",
       "      <td>0</td>\n",
       "      <td>0</td>\n",
       "      <td>0</td>\n",
       "      <td>0</td>\n",
       "      <td>1</td>\n",
       "      <td>0</td>\n",
       "      <td>0</td>\n",
       "      <td>0</td>\n",
       "      <td>0</td>\n",
       "      <td>1</td>\n",
       "      <td>0</td>\n",
       "      <td>0</td>\n",
       "      <td>0</td>\n",
       "      <td>0</td>\n",
       "      <td>0</td>\n",
       "      <td>0</td>\n",
       "      <td>0</td>\n",
       "      <td>0</td>\n",
       "      <td>0</td>\n",
       "      <td>0</td>\n",
       "      <td>0</td>\n",
       "      <td>0</td>\n",
       "      <td>1</td>\n",
       "      <td>0</td>\n",
       "      <td>0</td>\n",
       "      <td>0</td>\n",
       "      <td>0</td>\n",
       "      <td>0</td>\n",
       "      <td>0</td>\n",
       "      <td>0</td>\n",
       "      <td>0</td>\n",
       "      <td>0</td>\n",
       "      <td>0</td>\n",
       "      <td>0</td>\n",
       "      <td>0</td>\n",
       "      <td>0</td>\n",
       "      <td>0</td>\n",
       "      <td>0</td>\n",
       "      <td>0</td>\n",
       "      <td>0</td>\n",
       "      <td>0</td>\n",
       "      <td>0</td>\n",
       "      <td>0</td>\n",
       "      <td>0</td>\n",
       "      <td>0</td>\n",
       "      <td>0</td>\n",
       "      <td>0</td>\n",
       "      <td>0</td>\n",
       "      <td>0</td>\n",
       "      <td>0</td>\n",
       "    </tr>\n",
       "  </tbody>\n",
       "</table>\n",
       "<p>15919 rows × 89 columns</p>\n",
       "</div>"
      ],
      "text/plain": [
       "        'Air suspension'   'Armrest'   'Armrest']  \\\n",
       "0                      0           1            0   \n",
       "1                      0           0            0   \n",
       "2                      0           0            0   \n",
       "3                      0           1            0   \n",
       "4                      0           1            0   \n",
       "...                  ...         ...          ...   \n",
       "15914                  0           0            0   \n",
       "15915                  0           0            0   \n",
       "15916                  0           1            0   \n",
       "15917                  0           0            0   \n",
       "15918                  0           0            0   \n",
       "\n",
       "        'Automatic climate control'   'Automatic climate control']  \\\n",
       "0                                 1                              0   \n",
       "1                                 1                              0   \n",
       "2                                 0                              0   \n",
       "3                                 0                              0   \n",
       "4                                 1                              0   \n",
       "...                             ...                            ...   \n",
       "15914                             1                              0   \n",
       "15915                             1                              0   \n",
       "15916                             1                              0   \n",
       "15917                             1                              0   \n",
       "15918                             1                              0   \n",
       "\n",
       "        'Auxiliary heating'   'Cruise control'   'Cruise control']  \\\n",
       "0                         0                  1                   0   \n",
       "1                         0                  0                   0   \n",
       "2                         0                  1                   0   \n",
       "3                         1                  0                   0   \n",
       "4                         0                  0                   0   \n",
       "...                     ...                ...                 ...   \n",
       "15914                     0                  1                   0   \n",
       "15915                     0                  1                   0   \n",
       "15916                     0                  1                   0   \n",
       "15917                     0                  1                   0   \n",
       "15918                     0                  1                   0   \n",
       "\n",
       "        'Electric Starter'   'Electric tailgate'   'Electrical side mirrors'  \\\n",
       "0                        0                     0                           1   \n",
       "1                        0                     0                           0   \n",
       "2                        0                     0                           1   \n",
       "3                        0                     0                           1   \n",
       "4                        0                     0                           1   \n",
       "...                    ...                   ...                         ...   \n",
       "15914                    0                     0                           1   \n",
       "15915                    0                     1                           1   \n",
       "15916                    0                     1                           1   \n",
       "15917                    0                     0                           1   \n",
       "15918                    0                     1                           1   \n",
       "\n",
       "        'Electrical side mirrors']   'Electrically adjustable seats'  \\\n",
       "0                                0                                 0   \n",
       "1                                0                                 0   \n",
       "2                                0                                 0   \n",
       "3                                0                                 0   \n",
       "4                                0                                 0   \n",
       "...                            ...                               ...   \n",
       "15914                            0                                 1   \n",
       "15915                            0                                 0   \n",
       "15916                            0                                 0   \n",
       "15917                            0                                 1   \n",
       "15918                            0                                 1   \n",
       "\n",
       "        'Electrically heated windshield'   'Heads-up display'  \\\n",
       "0                                      0                    0   \n",
       "1                                      0                    0   \n",
       "2                                      0                    0   \n",
       "3                                      0                    1   \n",
       "4                                      0                    0   \n",
       "...                                  ...                  ...   \n",
       "15914                                  0                    0   \n",
       "15915                                  1                    1   \n",
       "15916                                  1                    1   \n",
       "15917                                  0                    0   \n",
       "15918                                  0                    0   \n",
       "\n",
       "        'Heated steering wheel'   'Hill Holder'   'Hill Holder']  \\\n",
       "0                             0               1                0   \n",
       "1                             0               1                0   \n",
       "2                             0               1                0   \n",
       "3                             0               1                0   \n",
       "4                             0               1                0   \n",
       "...                         ...             ...              ...   \n",
       "15914                         0               1                0   \n",
       "15915                         1               1                0   \n",
       "15916                         1               0                0   \n",
       "15917                         0               0                0   \n",
       "15918                         0               1                0   \n",
       "\n",
       "        'Keyless central door lock'   'Keyless central door lock']  \\\n",
       "0                                 0                              0   \n",
       "1                                 0                              0   \n",
       "2                                 0                              0   \n",
       "3                                 0                              0   \n",
       "4                                 0                              0   \n",
       "...                             ...                            ...   \n",
       "15914                             1                              0   \n",
       "15915                             1                              0   \n",
       "15916                             0                              0   \n",
       "15917                             0                              0   \n",
       "15918                             0                              0   \n",
       "\n",
       "        'Leather seats'   'Leather steering wheel'  \\\n",
       "0                     0                          1   \n",
       "1                     0                          1   \n",
       "2                     0                          1   \n",
       "3                     0                          1   \n",
       "4                     0                          1   \n",
       "...                 ...                        ...   \n",
       "15914                 0                          1   \n",
       "15915                 0                          1   \n",
       "15916                 0                          1   \n",
       "15917                 0                          1   \n",
       "15918                 0                          1   \n",
       "\n",
       "        'Leather steering wheel']   'Light sensor'   'Lumbar support'  \\\n",
       "0                               0                1                  0   \n",
       "1                               0                0                  1   \n",
       "2                               0                0                  0   \n",
       "3                               0                1                  1   \n",
       "4                               0                1                  0   \n",
       "...                           ...              ...                ...   \n",
       "15914                           0                1                  0   \n",
       "15915                           0                1                  1   \n",
       "15916                           0                1                  0   \n",
       "15917                           0                1                  0   \n",
       "15918                           0                0                  0   \n",
       "\n",
       "        'Lumbar support']   'Massage seats'   'Multi-function steering wheel'  \\\n",
       "0                       0                 0                                 1   \n",
       "1                       0                 0                                 0   \n",
       "2                       0                 0                                 1   \n",
       "3                       0                 0                                 1   \n",
       "4                       0                 0                                 1   \n",
       "...                   ...               ...                               ...   \n",
       "15914                   0                 1                                 1   \n",
       "15915                   0                 0                                 0   \n",
       "15916                   0                 1                                 1   \n",
       "15917                   0                 0                                 0   \n",
       "15918                   0                 0                                 0   \n",
       "\n",
       "        'Multi-function steering wheel']   'Navigation system'  \\\n",
       "0                                      0                     1   \n",
       "1                                      0                     0   \n",
       "2                                      0                     1   \n",
       "3                                      0                     1   \n",
       "4                                      0                     0   \n",
       "...                                  ...                   ...   \n",
       "15914                                  0                     1   \n",
       "15915                                  0                     1   \n",
       "15916                                  0                     1   \n",
       "15917                                  0                     0   \n",
       "15918                                  0                     1   \n",
       "\n",
       "        'Navigation system']   'Panorama roof'   'Panorama roof']  \\\n",
       "0                          0                 0                  0   \n",
       "1                          0                 0                  0   \n",
       "2                          0                 0                  0   \n",
       "3                          0                 0                  0   \n",
       "4                          0                 0                  0   \n",
       "...                      ...               ...                ...   \n",
       "15914                      0                 0                  0   \n",
       "15915                      0                 0                  0   \n",
       "15916                      0                 1                  0   \n",
       "15917                      0                 0                  0   \n",
       "15918                      0                 0                  0   \n",
       "\n",
       "        'Park Distance Control'   'Park Distance Control']  \\\n",
       "0                             1                          0   \n",
       "1                             0                          0   \n",
       "2                             1                          0   \n",
       "3                             0                          0   \n",
       "4                             1                          0   \n",
       "...                         ...                        ...   \n",
       "15914                         1                          0   \n",
       "15915                         1                          0   \n",
       "15916                         1                          0   \n",
       "15917                         1                          0   \n",
       "15918                         0                          0   \n",
       "\n",
       "        'Parking assist system camera'   'Parking assist system camera']  \\\n",
       "0                                    0                                 0   \n",
       "1                                    0                                 0   \n",
       "2                                    0                                 0   \n",
       "3                                    0                                 0   \n",
       "4                                    0                                 0   \n",
       "...                                ...                               ...   \n",
       "15914                                0                                 0   \n",
       "15915                                1                                 0   \n",
       "15916                                1                                 0   \n",
       "15917                                0                                 0   \n",
       "15918                                0                                 0   \n",
       "\n",
       "        'Parking assist system self-steering'  \\\n",
       "0                                           0   \n",
       "1                                           0   \n",
       "2                                           0   \n",
       "3                                           0   \n",
       "4                                           0   \n",
       "...                                       ...   \n",
       "15914                                       0   \n",
       "15915                                       1   \n",
       "15916                                       0   \n",
       "15917                                       0   \n",
       "15918                                       0   \n",
       "\n",
       "        'Parking assist system self-steering']  \\\n",
       "0                                            0   \n",
       "1                                            0   \n",
       "2                                            0   \n",
       "3                                            0   \n",
       "4                                            0   \n",
       "...                                        ...   \n",
       "15914                                        0   \n",
       "15915                                        0   \n",
       "15916                                        0   \n",
       "15917                                        0   \n",
       "15918                                        0   \n",
       "\n",
       "        'Parking assist system sensors front'  \\\n",
       "0                                           0   \n",
       "1                                           0   \n",
       "2                                           1   \n",
       "3                                           0   \n",
       "4                                           0   \n",
       "...                                       ...   \n",
       "15914                                       1   \n",
       "15915                                       1   \n",
       "15916                                       1   \n",
       "15917                                       0   \n",
       "15918                                       0   \n",
       "\n",
       "        'Parking assist system sensors front']  \\\n",
       "0                                            0   \n",
       "1                                            0   \n",
       "2                                            0   \n",
       "3                                            0   \n",
       "4                                            0   \n",
       "...                                        ...   \n",
       "15914                                        0   \n",
       "15915                                        0   \n",
       "15916                                        0   \n",
       "15917                                        0   \n",
       "15918                                        0   \n",
       "\n",
       "        'Parking assist system sensors rear'  \\\n",
       "0                                          1   \n",
       "1                                          1   \n",
       "2                                          1   \n",
       "3                                          0   \n",
       "4                                          1   \n",
       "...                                      ...   \n",
       "15914                                      1   \n",
       "15915                                      1   \n",
       "15916                                      1   \n",
       "15917                                      0   \n",
       "15918                                      0   \n",
       "\n",
       "        'Parking assist system sensors rear']   'Power windows'  \\\n",
       "0                                           0                 1   \n",
       "1                                           0                 1   \n",
       "2                                           0                 1   \n",
       "3                                           0                 1   \n",
       "4                                           0                 1   \n",
       "...                                       ...               ...   \n",
       "15914                                       0                 1   \n",
       "15915                                       0                 1   \n",
       "15916                                       0                 1   \n",
       "15917                                       0                 1   \n",
       "15918                                       0                 1   \n",
       "\n",
       "        'Power windows']   'Rain sensor'   'Rain sensor']   'Seat heating'  \\\n",
       "0                      0               1                0                1   \n",
       "1                      0               0                0                0   \n",
       "2                      0               0                0                1   \n",
       "3                      0               1                0                1   \n",
       "4                      0               1                0                0   \n",
       "...                  ...             ...              ...              ...   \n",
       "15914                  0               1                0                0   \n",
       "15915                  0               1                0                1   \n",
       "15916                  0               1                0                1   \n",
       "15917                  0               0                0                0   \n",
       "15918                  0               0                0                0   \n",
       "\n",
       "        'Seat heating']   'Seat ventilation'   'Seat ventilation']  \\\n",
       "0                     0                    0                     0   \n",
       "1                     0                    0                     0   \n",
       "2                     0                    0                     0   \n",
       "3                     0                    0                     0   \n",
       "4                     0                    0                     0   \n",
       "...                 ...                  ...                   ...   \n",
       "15914                 0                    0                     0   \n",
       "15915                 0                    0                     0   \n",
       "15916                 0                    1                     0   \n",
       "15917                 0                    0                     0   \n",
       "15918                 1                    0                     0   \n",
       "\n",
       "        'Split rear seats'   'Split rear seats']   'Start-stop system'  \\\n",
       "0                        0                     0                     0   \n",
       "1                        0                     0                     1   \n",
       "2                        0                     0                     0   \n",
       "3                        1                     0                     0   \n",
       "4                        0                     0                     0   \n",
       "...                    ...                   ...                   ...   \n",
       "15914                    1                     0                     1   \n",
       "15915                    0                     0                     0   \n",
       "15916                    0                     0                     0   \n",
       "15917                    0                     0                     0   \n",
       "15918                    0                     0                     0   \n",
       "\n",
       "        'Start-stop system']   'Sunroof'   'Sunroof']   'Tinted windows'  \\\n",
       "0                          1           0            0                  0   \n",
       "1                          0           0            0                  0   \n",
       "2                          1           0            0                  0   \n",
       "3                          1           0            0                  0   \n",
       "4                          1           0            0                  0   \n",
       "...                      ...         ...          ...                ...   \n",
       "15914                      0           0            0                  0   \n",
       "15915                      0           0            1                  0   \n",
       "15916                      0           0            1                  0   \n",
       "15917                      1           0            0                  0   \n",
       "15918                      0           0            0                  0   \n",
       "\n",
       "        'Tinted windows']   'Wind deflector']   'Windshield']  \\\n",
       "0                       0                   0               0   \n",
       "1                       1                   0               0   \n",
       "2                       0                   0               0   \n",
       "3                       0                   0               0   \n",
       "4                       0                   0               0   \n",
       "...                   ...                 ...             ...   \n",
       "15914                   1                   0               0   \n",
       "15915                   0                   0               0   \n",
       "15916                   0                   0               0   \n",
       "15917                   0                   0               0   \n",
       "15918                   0                   0               0   \n",
       "\n",
       "       ['Air conditioning'  ['Air conditioning']  ['Air suspension'  \\\n",
       "0                        1                     0                  0   \n",
       "1                        1                     0                  0   \n",
       "2                        1                     0                  0   \n",
       "3                        0                     0                  1   \n",
       "4                        1                     0                  0   \n",
       "...                    ...                   ...                ...   \n",
       "15914                    1                     0                  0   \n",
       "15915                    1                     0                  0   \n",
       "15916                    1                     0                  0   \n",
       "15917                    1                     0                  0   \n",
       "15918                    1                     0                  0   \n",
       "\n",
       "       ['Air suspension']  ['Armrest'  ['Auxiliary heating'  \\\n",
       "0                       0           0                     0   \n",
       "1                       0           0                     0   \n",
       "2                       0           0                     0   \n",
       "3                       0           0                     0   \n",
       "4                       0           0                     0   \n",
       "...                   ...         ...                   ...   \n",
       "15914                   0           0                     0   \n",
       "15915                   0           0                     0   \n",
       "15916                   0           0                     0   \n",
       "15917                   0           0                     0   \n",
       "15918                   0           0                     0   \n",
       "\n",
       "       ['Cruise control'  ['Cruise control']  ['Electrical side mirrors'  \\\n",
       "0                      0                   0                           0   \n",
       "1                      0                   0                           0   \n",
       "2                      0                   0                           0   \n",
       "3                      0                   0                           0   \n",
       "4                      0                   0                           0   \n",
       "...                  ...                 ...                         ...   \n",
       "15914                  0                   0                           0   \n",
       "15915                  0                   0                           0   \n",
       "15916                  0                   0                           0   \n",
       "15917                  0                   0                           0   \n",
       "15918                  0                   0                           0   \n",
       "\n",
       "       ['Electrically adjustable seats'  ['Electrically heated windshield'  \\\n",
       "0                                     0                                  0   \n",
       "1                                     0                                  0   \n",
       "2                                     0                                  0   \n",
       "3                                     0                                  0   \n",
       "4                                     0                                  0   \n",
       "...                                 ...                                ...   \n",
       "15914                                 0                                  0   \n",
       "15915                                 0                                  0   \n",
       "15916                                 0                                  0   \n",
       "15917                                 0                                  0   \n",
       "15918                                 0                                  0   \n",
       "\n",
       "       ['Heads-up display']  ['Heated steering wheel'  ['Hill Holder'  \\\n",
       "0                         0                         0               0   \n",
       "1                         0                         0               0   \n",
       "2                         0                         0               0   \n",
       "3                         0                         0               0   \n",
       "4                         0                         0               0   \n",
       "...                     ...                       ...             ...   \n",
       "15914                     0                         0               0   \n",
       "15915                     0                         0               0   \n",
       "15916                     0                         0               0   \n",
       "15917                     0                         0               0   \n",
       "15918                     0                         0               0   \n",
       "\n",
       "       ['Hill Holder']  ['Leather steering wheel'  ['Light sensor'  \\\n",
       "0                    0                          0                0   \n",
       "1                    0                          0                0   \n",
       "2                    0                          0                0   \n",
       "3                    0                          0                0   \n",
       "4                    0                          0                0   \n",
       "...                ...                        ...              ...   \n",
       "15914                0                          0                0   \n",
       "15915                0                          0                0   \n",
       "15916                0                          0                0   \n",
       "15917                0                          0                0   \n",
       "15918                0                          0                0   \n",
       "\n",
       "       ['Multi-function steering wheel'  ['Multi-function steering wheel']  \\\n",
       "0                                     0                                  0   \n",
       "1                                     0                                  0   \n",
       "2                                     0                                  0   \n",
       "3                                     0                                  0   \n",
       "4                                     0                                  0   \n",
       "...                                 ...                                ...   \n",
       "15914                                 0                                  0   \n",
       "15915                                 0                                  0   \n",
       "15916                                 0                                  0   \n",
       "15917                                 0                                  0   \n",
       "15918                                 0                                  0   \n",
       "\n",
       "       ['Navigation system'  ['Navigation system']  ['Panorama roof']  \\\n",
       "0                         0                      0                  0   \n",
       "1                         0                      0                  0   \n",
       "2                         0                      0                  0   \n",
       "3                         0                      0                  0   \n",
       "4                         0                      0                  0   \n",
       "...                     ...                    ...                ...   \n",
       "15914                     0                      0                  0   \n",
       "15915                     0                      0                  0   \n",
       "15916                     0                      0                  0   \n",
       "15917                     0                      0                  0   \n",
       "15918                     0                      0                  0   \n",
       "\n",
       "       ['Park Distance Control'  ['Park Distance Control']  ['Power windows'  \\\n",
       "0                             0                          0                 0   \n",
       "1                             0                          0                 0   \n",
       "2                             0                          0                 0   \n",
       "3                             0                          0                 0   \n",
       "4                             0                          0                 0   \n",
       "...                         ...                        ...               ...   \n",
       "15914                         0                          0                 0   \n",
       "15915                         0                          0                 0   \n",
       "15916                         0                          0                 0   \n",
       "15917                         0                          0                 0   \n",
       "15918                         0                          0                 0   \n",
       "\n",
       "       ['Power windows']  ['Rain sensor']  ['Sunroof']  \n",
       "0                      0                0            0  \n",
       "1                      0                0            0  \n",
       "2                      0                0            0  \n",
       "3                      0                0            0  \n",
       "4                      0                0            0  \n",
       "...                  ...              ...          ...  \n",
       "15914                  0                0            0  \n",
       "15915                  0                0            0  \n",
       "15916                  0                0            0  \n",
       "15917                  0                0            0  \n",
       "15918                  0                0            0  \n",
       "\n",
       "[15919 rows x 89 columns]"
      ]
     },
     "execution_count": 151,
     "metadata": {},
     "output_type": "execute_result"
    }
   ],
   "source": [
    "df.comfort.str.get_dummies(\",\")\n",
    "# string hale getirmezsek gereksiz sütunlar oluşuyor"
   ]
  },
  {
   "cell_type": "markdown",
   "id": "79b47253",
   "metadata": {},
   "source": [
    "### '\\nEntertainment & Media\\n' Sütunu"
   ]
  },
  {
   "cell_type": "code",
   "execution_count": 152,
   "id": "0196fcb1",
   "metadata": {},
   "outputs": [],
   "source": [
    "df.rename(columns={'\\nEntertainment & Media\\n':'media'},inplace=True)"
   ]
  },
  {
   "cell_type": "code",
   "execution_count": 153,
   "id": "cc676461",
   "metadata": {},
   "outputs": [
    {
     "data": {
      "text/plain": [
       "14176           [Bluetooth, On-board computer, Radio, USB]\n",
       "3502      [Bluetooth, CD player, On-board computer, Radio]\n",
       "14400                                  [Sound system, USB]\n",
       "2510     [Bluetooth, Hands-free equipment, MP3, On-boar...\n",
       "6542     [Bluetooth, Hands-free equipment, MP3, On-boar...\n",
       "Name: media, dtype: object"
      ]
     },
     "execution_count": 153,
     "metadata": {},
     "output_type": "execute_result"
    }
   ],
   "source": [
    "df.media.sample(5)"
   ]
  },
  {
   "cell_type": "code",
   "execution_count": 154,
   "id": "169e5b02",
   "metadata": {},
   "outputs": [],
   "source": [
    "media_unique = {j for i in df.media.dropna() for j in i}\n",
    "# set comprehension ile unique değerlerini bulduk. "
   ]
  },
  {
   "cell_type": "code",
   "execution_count": 155,
   "id": "f050fba3",
   "metadata": {},
   "outputs": [
    {
     "data": {
      "text/plain": [
       "10"
      ]
     },
     "execution_count": 155,
     "metadata": {},
     "output_type": "execute_result"
    }
   ],
   "source": [
    "len(media_unique)"
   ]
  },
  {
   "cell_type": "code",
   "execution_count": 156,
   "id": "52ba629f",
   "metadata": {},
   "outputs": [],
   "source": [
    "# comfort sütunu için yapmayı planladığımız işlemlerin aynısını bu sütunlar içinde yapabiliriz"
   ]
  },
  {
   "cell_type": "code",
   "execution_count": 157,
   "id": "1c84801f",
   "metadata": {},
   "outputs": [
    {
     "data": {
      "text/html": [
       "<div>\n",
       "<style scoped>\n",
       "    .dataframe tbody tr th:only-of-type {\n",
       "        vertical-align: middle;\n",
       "    }\n",
       "\n",
       "    .dataframe tbody tr th {\n",
       "        vertical-align: top;\n",
       "    }\n",
       "\n",
       "    .dataframe thead th {\n",
       "        text-align: right;\n",
       "    }\n",
       "</style>\n",
       "<table border=\"1\" class=\"dataframe\">\n",
       "  <thead>\n",
       "    <tr style=\"text-align: right;\">\n",
       "      <th></th>\n",
       "      <th>'CD player'</th>\n",
       "      <th>'CD player']</th>\n",
       "      <th>'Digital radio'</th>\n",
       "      <th>'Digital radio']</th>\n",
       "      <th>'Hands-free equipment'</th>\n",
       "      <th>'Hands-free equipment']</th>\n",
       "      <th>'MP3'</th>\n",
       "      <th>'MP3']</th>\n",
       "      <th>'On-board computer'</th>\n",
       "      <th>'On-board computer']</th>\n",
       "      <th>'Radio'</th>\n",
       "      <th>'Radio']</th>\n",
       "      <th>'Sound system'</th>\n",
       "      <th>'Sound system']</th>\n",
       "      <th>'Television'</th>\n",
       "      <th>'Television']</th>\n",
       "      <th>'USB']</th>\n",
       "      <th>['Bluetooth'</th>\n",
       "      <th>['Bluetooth']</th>\n",
       "      <th>['CD player'</th>\n",
       "      <th>['CD player']</th>\n",
       "      <th>['Digital radio'</th>\n",
       "      <th>['Digital radio']</th>\n",
       "      <th>['Hands-free equipment'</th>\n",
       "      <th>['Hands-free equipment']</th>\n",
       "      <th>['MP3'</th>\n",
       "      <th>['MP3']</th>\n",
       "      <th>['On-board computer'</th>\n",
       "      <th>['On-board computer']</th>\n",
       "      <th>['Radio'</th>\n",
       "      <th>['Radio']</th>\n",
       "      <th>['Sound system'</th>\n",
       "      <th>['Sound system']</th>\n",
       "      <th>['USB']</th>\n",
       "    </tr>\n",
       "  </thead>\n",
       "  <tbody>\n",
       "    <tr>\n",
       "      <th>0</th>\n",
       "      <td>0</td>\n",
       "      <td>0</td>\n",
       "      <td>0</td>\n",
       "      <td>0</td>\n",
       "      <td>1</td>\n",
       "      <td>0</td>\n",
       "      <td>0</td>\n",
       "      <td>0</td>\n",
       "      <td>1</td>\n",
       "      <td>0</td>\n",
       "      <td>0</td>\n",
       "      <td>1</td>\n",
       "      <td>0</td>\n",
       "      <td>0</td>\n",
       "      <td>0</td>\n",
       "      <td>0</td>\n",
       "      <td>0</td>\n",
       "      <td>1</td>\n",
       "      <td>0</td>\n",
       "      <td>0</td>\n",
       "      <td>0</td>\n",
       "      <td>0</td>\n",
       "      <td>0</td>\n",
       "      <td>0</td>\n",
       "      <td>0</td>\n",
       "      <td>0</td>\n",
       "      <td>0</td>\n",
       "      <td>0</td>\n",
       "      <td>0</td>\n",
       "      <td>0</td>\n",
       "      <td>0</td>\n",
       "      <td>0</td>\n",
       "      <td>0</td>\n",
       "      <td>0</td>\n",
       "    </tr>\n",
       "    <tr>\n",
       "      <th>1</th>\n",
       "      <td>0</td>\n",
       "      <td>0</td>\n",
       "      <td>0</td>\n",
       "      <td>0</td>\n",
       "      <td>1</td>\n",
       "      <td>0</td>\n",
       "      <td>0</td>\n",
       "      <td>0</td>\n",
       "      <td>1</td>\n",
       "      <td>0</td>\n",
       "      <td>1</td>\n",
       "      <td>0</td>\n",
       "      <td>0</td>\n",
       "      <td>1</td>\n",
       "      <td>0</td>\n",
       "      <td>0</td>\n",
       "      <td>0</td>\n",
       "      <td>1</td>\n",
       "      <td>0</td>\n",
       "      <td>0</td>\n",
       "      <td>0</td>\n",
       "      <td>0</td>\n",
       "      <td>0</td>\n",
       "      <td>0</td>\n",
       "      <td>0</td>\n",
       "      <td>0</td>\n",
       "      <td>0</td>\n",
       "      <td>0</td>\n",
       "      <td>0</td>\n",
       "      <td>0</td>\n",
       "      <td>0</td>\n",
       "      <td>0</td>\n",
       "      <td>0</td>\n",
       "      <td>0</td>\n",
       "    </tr>\n",
       "    <tr>\n",
       "      <th>2</th>\n",
       "      <td>0</td>\n",
       "      <td>0</td>\n",
       "      <td>0</td>\n",
       "      <td>0</td>\n",
       "      <td>0</td>\n",
       "      <td>0</td>\n",
       "      <td>0</td>\n",
       "      <td>0</td>\n",
       "      <td>0</td>\n",
       "      <td>1</td>\n",
       "      <td>0</td>\n",
       "      <td>0</td>\n",
       "      <td>0</td>\n",
       "      <td>0</td>\n",
       "      <td>0</td>\n",
       "      <td>0</td>\n",
       "      <td>0</td>\n",
       "      <td>0</td>\n",
       "      <td>0</td>\n",
       "      <td>0</td>\n",
       "      <td>0</td>\n",
       "      <td>0</td>\n",
       "      <td>0</td>\n",
       "      <td>0</td>\n",
       "      <td>0</td>\n",
       "      <td>1</td>\n",
       "      <td>0</td>\n",
       "      <td>0</td>\n",
       "      <td>0</td>\n",
       "      <td>0</td>\n",
       "      <td>0</td>\n",
       "      <td>0</td>\n",
       "      <td>0</td>\n",
       "      <td>0</td>\n",
       "    </tr>\n",
       "    <tr>\n",
       "      <th>3</th>\n",
       "      <td>1</td>\n",
       "      <td>0</td>\n",
       "      <td>0</td>\n",
       "      <td>0</td>\n",
       "      <td>1</td>\n",
       "      <td>0</td>\n",
       "      <td>1</td>\n",
       "      <td>0</td>\n",
       "      <td>1</td>\n",
       "      <td>0</td>\n",
       "      <td>1</td>\n",
       "      <td>0</td>\n",
       "      <td>1</td>\n",
       "      <td>0</td>\n",
       "      <td>0</td>\n",
       "      <td>0</td>\n",
       "      <td>1</td>\n",
       "      <td>1</td>\n",
       "      <td>0</td>\n",
       "      <td>0</td>\n",
       "      <td>0</td>\n",
       "      <td>0</td>\n",
       "      <td>0</td>\n",
       "      <td>0</td>\n",
       "      <td>0</td>\n",
       "      <td>0</td>\n",
       "      <td>0</td>\n",
       "      <td>0</td>\n",
       "      <td>0</td>\n",
       "      <td>0</td>\n",
       "      <td>0</td>\n",
       "      <td>0</td>\n",
       "      <td>0</td>\n",
       "      <td>0</td>\n",
       "    </tr>\n",
       "    <tr>\n",
       "      <th>4</th>\n",
       "      <td>1</td>\n",
       "      <td>0</td>\n",
       "      <td>0</td>\n",
       "      <td>0</td>\n",
       "      <td>1</td>\n",
       "      <td>0</td>\n",
       "      <td>1</td>\n",
       "      <td>0</td>\n",
       "      <td>1</td>\n",
       "      <td>0</td>\n",
       "      <td>1</td>\n",
       "      <td>0</td>\n",
       "      <td>0</td>\n",
       "      <td>0</td>\n",
       "      <td>0</td>\n",
       "      <td>0</td>\n",
       "      <td>1</td>\n",
       "      <td>1</td>\n",
       "      <td>0</td>\n",
       "      <td>0</td>\n",
       "      <td>0</td>\n",
       "      <td>0</td>\n",
       "      <td>0</td>\n",
       "      <td>0</td>\n",
       "      <td>0</td>\n",
       "      <td>0</td>\n",
       "      <td>0</td>\n",
       "      <td>0</td>\n",
       "      <td>0</td>\n",
       "      <td>0</td>\n",
       "      <td>0</td>\n",
       "      <td>0</td>\n",
       "      <td>0</td>\n",
       "      <td>0</td>\n",
       "    </tr>\n",
       "    <tr>\n",
       "      <th>...</th>\n",
       "      <td>...</td>\n",
       "      <td>...</td>\n",
       "      <td>...</td>\n",
       "      <td>...</td>\n",
       "      <td>...</td>\n",
       "      <td>...</td>\n",
       "      <td>...</td>\n",
       "      <td>...</td>\n",
       "      <td>...</td>\n",
       "      <td>...</td>\n",
       "      <td>...</td>\n",
       "      <td>...</td>\n",
       "      <td>...</td>\n",
       "      <td>...</td>\n",
       "      <td>...</td>\n",
       "      <td>...</td>\n",
       "      <td>...</td>\n",
       "      <td>...</td>\n",
       "      <td>...</td>\n",
       "      <td>...</td>\n",
       "      <td>...</td>\n",
       "      <td>...</td>\n",
       "      <td>...</td>\n",
       "      <td>...</td>\n",
       "      <td>...</td>\n",
       "      <td>...</td>\n",
       "      <td>...</td>\n",
       "      <td>...</td>\n",
       "      <td>...</td>\n",
       "      <td>...</td>\n",
       "      <td>...</td>\n",
       "      <td>...</td>\n",
       "      <td>...</td>\n",
       "      <td>...</td>\n",
       "    </tr>\n",
       "    <tr>\n",
       "      <th>15914</th>\n",
       "      <td>0</td>\n",
       "      <td>0</td>\n",
       "      <td>1</td>\n",
       "      <td>0</td>\n",
       "      <td>1</td>\n",
       "      <td>0</td>\n",
       "      <td>0</td>\n",
       "      <td>0</td>\n",
       "      <td>1</td>\n",
       "      <td>0</td>\n",
       "      <td>1</td>\n",
       "      <td>0</td>\n",
       "      <td>0</td>\n",
       "      <td>0</td>\n",
       "      <td>0</td>\n",
       "      <td>0</td>\n",
       "      <td>1</td>\n",
       "      <td>1</td>\n",
       "      <td>0</td>\n",
       "      <td>0</td>\n",
       "      <td>0</td>\n",
       "      <td>0</td>\n",
       "      <td>0</td>\n",
       "      <td>0</td>\n",
       "      <td>0</td>\n",
       "      <td>0</td>\n",
       "      <td>0</td>\n",
       "      <td>0</td>\n",
       "      <td>0</td>\n",
       "      <td>0</td>\n",
       "      <td>0</td>\n",
       "      <td>0</td>\n",
       "      <td>0</td>\n",
       "      <td>0</td>\n",
       "    </tr>\n",
       "    <tr>\n",
       "      <th>15915</th>\n",
       "      <td>0</td>\n",
       "      <td>0</td>\n",
       "      <td>1</td>\n",
       "      <td>0</td>\n",
       "      <td>1</td>\n",
       "      <td>0</td>\n",
       "      <td>0</td>\n",
       "      <td>0</td>\n",
       "      <td>0</td>\n",
       "      <td>0</td>\n",
       "      <td>1</td>\n",
       "      <td>0</td>\n",
       "      <td>0</td>\n",
       "      <td>0</td>\n",
       "      <td>0</td>\n",
       "      <td>0</td>\n",
       "      <td>1</td>\n",
       "      <td>1</td>\n",
       "      <td>0</td>\n",
       "      <td>0</td>\n",
       "      <td>0</td>\n",
       "      <td>0</td>\n",
       "      <td>0</td>\n",
       "      <td>0</td>\n",
       "      <td>0</td>\n",
       "      <td>0</td>\n",
       "      <td>0</td>\n",
       "      <td>0</td>\n",
       "      <td>0</td>\n",
       "      <td>0</td>\n",
       "      <td>0</td>\n",
       "      <td>0</td>\n",
       "      <td>0</td>\n",
       "      <td>0</td>\n",
       "    </tr>\n",
       "    <tr>\n",
       "      <th>15916</th>\n",
       "      <td>0</td>\n",
       "      <td>0</td>\n",
       "      <td>0</td>\n",
       "      <td>0</td>\n",
       "      <td>1</td>\n",
       "      <td>0</td>\n",
       "      <td>0</td>\n",
       "      <td>0</td>\n",
       "      <td>1</td>\n",
       "      <td>0</td>\n",
       "      <td>0</td>\n",
       "      <td>1</td>\n",
       "      <td>0</td>\n",
       "      <td>0</td>\n",
       "      <td>0</td>\n",
       "      <td>0</td>\n",
       "      <td>0</td>\n",
       "      <td>1</td>\n",
       "      <td>0</td>\n",
       "      <td>0</td>\n",
       "      <td>0</td>\n",
       "      <td>0</td>\n",
       "      <td>0</td>\n",
       "      <td>0</td>\n",
       "      <td>0</td>\n",
       "      <td>0</td>\n",
       "      <td>0</td>\n",
       "      <td>0</td>\n",
       "      <td>0</td>\n",
       "      <td>0</td>\n",
       "      <td>0</td>\n",
       "      <td>0</td>\n",
       "      <td>0</td>\n",
       "      <td>0</td>\n",
       "    </tr>\n",
       "    <tr>\n",
       "      <th>15917</th>\n",
       "      <td>0</td>\n",
       "      <td>0</td>\n",
       "      <td>1</td>\n",
       "      <td>0</td>\n",
       "      <td>0</td>\n",
       "      <td>0</td>\n",
       "      <td>0</td>\n",
       "      <td>0</td>\n",
       "      <td>0</td>\n",
       "      <td>0</td>\n",
       "      <td>1</td>\n",
       "      <td>0</td>\n",
       "      <td>0</td>\n",
       "      <td>0</td>\n",
       "      <td>0</td>\n",
       "      <td>0</td>\n",
       "      <td>1</td>\n",
       "      <td>1</td>\n",
       "      <td>0</td>\n",
       "      <td>0</td>\n",
       "      <td>0</td>\n",
       "      <td>0</td>\n",
       "      <td>0</td>\n",
       "      <td>0</td>\n",
       "      <td>0</td>\n",
       "      <td>0</td>\n",
       "      <td>0</td>\n",
       "      <td>0</td>\n",
       "      <td>0</td>\n",
       "      <td>0</td>\n",
       "      <td>0</td>\n",
       "      <td>0</td>\n",
       "      <td>0</td>\n",
       "      <td>0</td>\n",
       "    </tr>\n",
       "    <tr>\n",
       "      <th>15918</th>\n",
       "      <td>0</td>\n",
       "      <td>0</td>\n",
       "      <td>0</td>\n",
       "      <td>0</td>\n",
       "      <td>0</td>\n",
       "      <td>0</td>\n",
       "      <td>0</td>\n",
       "      <td>0</td>\n",
       "      <td>0</td>\n",
       "      <td>0</td>\n",
       "      <td>0</td>\n",
       "      <td>0</td>\n",
       "      <td>0</td>\n",
       "      <td>0</td>\n",
       "      <td>0</td>\n",
       "      <td>0</td>\n",
       "      <td>0</td>\n",
       "      <td>0</td>\n",
       "      <td>0</td>\n",
       "      <td>0</td>\n",
       "      <td>0</td>\n",
       "      <td>0</td>\n",
       "      <td>0</td>\n",
       "      <td>0</td>\n",
       "      <td>0</td>\n",
       "      <td>0</td>\n",
       "      <td>0</td>\n",
       "      <td>0</td>\n",
       "      <td>0</td>\n",
       "      <td>0</td>\n",
       "      <td>0</td>\n",
       "      <td>0</td>\n",
       "      <td>0</td>\n",
       "      <td>1</td>\n",
       "    </tr>\n",
       "  </tbody>\n",
       "</table>\n",
       "<p>15919 rows × 34 columns</p>\n",
       "</div>"
      ],
      "text/plain": [
       "        'CD player'   'CD player']   'Digital radio'   'Digital radio']  \\\n",
       "0                 0              0                 0                  0   \n",
       "1                 0              0                 0                  0   \n",
       "2                 0              0                 0                  0   \n",
       "3                 1              0                 0                  0   \n",
       "4                 1              0                 0                  0   \n",
       "...             ...            ...               ...                ...   \n",
       "15914             0              0                 1                  0   \n",
       "15915             0              0                 1                  0   \n",
       "15916             0              0                 0                  0   \n",
       "15917             0              0                 1                  0   \n",
       "15918             0              0                 0                  0   \n",
       "\n",
       "        'Hands-free equipment'   'Hands-free equipment']   'MP3'   'MP3']  \\\n",
       "0                            1                         0       0        0   \n",
       "1                            1                         0       0        0   \n",
       "2                            0                         0       0        0   \n",
       "3                            1                         0       1        0   \n",
       "4                            1                         0       1        0   \n",
       "...                        ...                       ...     ...      ...   \n",
       "15914                        1                         0       0        0   \n",
       "15915                        1                         0       0        0   \n",
       "15916                        1                         0       0        0   \n",
       "15917                        0                         0       0        0   \n",
       "15918                        0                         0       0        0   \n",
       "\n",
       "        'On-board computer'   'On-board computer']   'Radio'   'Radio']  \\\n",
       "0                         1                      0         0          1   \n",
       "1                         1                      0         1          0   \n",
       "2                         0                      1         0          0   \n",
       "3                         1                      0         1          0   \n",
       "4                         1                      0         1          0   \n",
       "...                     ...                    ...       ...        ...   \n",
       "15914                     1                      0         1          0   \n",
       "15915                     0                      0         1          0   \n",
       "15916                     1                      0         0          1   \n",
       "15917                     0                      0         1          0   \n",
       "15918                     0                      0         0          0   \n",
       "\n",
       "        'Sound system'   'Sound system']   'Television'   'Television']  \\\n",
       "0                    0                 0              0               0   \n",
       "1                    0                 1              0               0   \n",
       "2                    0                 0              0               0   \n",
       "3                    1                 0              0               0   \n",
       "4                    0                 0              0               0   \n",
       "...                ...               ...            ...             ...   \n",
       "15914                0                 0              0               0   \n",
       "15915                0                 0              0               0   \n",
       "15916                0                 0              0               0   \n",
       "15917                0                 0              0               0   \n",
       "15918                0                 0              0               0   \n",
       "\n",
       "        'USB']  ['Bluetooth'  ['Bluetooth']  ['CD player'  ['CD player']  \\\n",
       "0            0             1              0             0              0   \n",
       "1            0             1              0             0              0   \n",
       "2            0             0              0             0              0   \n",
       "3            1             1              0             0              0   \n",
       "4            1             1              0             0              0   \n",
       "...        ...           ...            ...           ...            ...   \n",
       "15914        1             1              0             0              0   \n",
       "15915        1             1              0             0              0   \n",
       "15916        0             1              0             0              0   \n",
       "15917        1             1              0             0              0   \n",
       "15918        0             0              0             0              0   \n",
       "\n",
       "       ['Digital radio'  ['Digital radio']  ['Hands-free equipment'  \\\n",
       "0                     0                  0                        0   \n",
       "1                     0                  0                        0   \n",
       "2                     0                  0                        0   \n",
       "3                     0                  0                        0   \n",
       "4                     0                  0                        0   \n",
       "...                 ...                ...                      ...   \n",
       "15914                 0                  0                        0   \n",
       "15915                 0                  0                        0   \n",
       "15916                 0                  0                        0   \n",
       "15917                 0                  0                        0   \n",
       "15918                 0                  0                        0   \n",
       "\n",
       "       ['Hands-free equipment']  ['MP3'  ['MP3']  ['On-board computer'  \\\n",
       "0                             0       0        0                     0   \n",
       "1                             0       0        0                     0   \n",
       "2                             0       1        0                     0   \n",
       "3                             0       0        0                     0   \n",
       "4                             0       0        0                     0   \n",
       "...                         ...     ...      ...                   ...   \n",
       "15914                         0       0        0                     0   \n",
       "15915                         0       0        0                     0   \n",
       "15916                         0       0        0                     0   \n",
       "15917                         0       0        0                     0   \n",
       "15918                         0       0        0                     0   \n",
       "\n",
       "       ['On-board computer']  ['Radio'  ['Radio']  ['Sound system'  \\\n",
       "0                          0         0          0                0   \n",
       "1                          0         0          0                0   \n",
       "2                          0         0          0                0   \n",
       "3                          0         0          0                0   \n",
       "4                          0         0          0                0   \n",
       "...                      ...       ...        ...              ...   \n",
       "15914                      0         0          0                0   \n",
       "15915                      0         0          0                0   \n",
       "15916                      0         0          0                0   \n",
       "15917                      0         0          0                0   \n",
       "15918                      0         0          0                0   \n",
       "\n",
       "       ['Sound system']  ['USB']  \n",
       "0                     0        0  \n",
       "1                     0        0  \n",
       "2                     0        0  \n",
       "3                     0        0  \n",
       "4                     0        0  \n",
       "...                 ...      ...  \n",
       "15914                 0        0  \n",
       "15915                 0        0  \n",
       "15916                 0        0  \n",
       "15917                 0        0  \n",
       "15918                 0        1  \n",
       "\n",
       "[15919 rows x 34 columns]"
      ]
     },
     "execution_count": 157,
     "metadata": {},
     "output_type": "execute_result"
    }
   ],
   "source": [
    "df.media.str.get_dummies(\",\")"
   ]
  },
  {
   "cell_type": "code",
   "execution_count": 158,
   "id": "5752eaa2",
   "metadata": {},
   "outputs": [
    {
     "data": {
      "text/html": [
       "<div>\n",
       "<style scoped>\n",
       "    .dataframe tbody tr th:only-of-type {\n",
       "        vertical-align: middle;\n",
       "    }\n",
       "\n",
       "    .dataframe tbody tr th {\n",
       "        vertical-align: top;\n",
       "    }\n",
       "\n",
       "    .dataframe thead th {\n",
       "        text-align: right;\n",
       "    }\n",
       "</style>\n",
       "<table border=\"1\" class=\"dataframe\">\n",
       "  <thead>\n",
       "    <tr style=\"text-align: right;\">\n",
       "      <th></th>\n",
       "      <th>Bluetooth</th>\n",
       "      <th>CD player</th>\n",
       "      <th>Digital radio</th>\n",
       "      <th>Hands-free equipment</th>\n",
       "      <th>MP3</th>\n",
       "      <th>On-board computer</th>\n",
       "      <th>Radio</th>\n",
       "      <th>Sound system</th>\n",
       "      <th>Television</th>\n",
       "      <th>USB</th>\n",
       "    </tr>\n",
       "  </thead>\n",
       "  <tbody>\n",
       "    <tr>\n",
       "      <th>0</th>\n",
       "      <td>1</td>\n",
       "      <td>0</td>\n",
       "      <td>0</td>\n",
       "      <td>1</td>\n",
       "      <td>0</td>\n",
       "      <td>1</td>\n",
       "      <td>1</td>\n",
       "      <td>0</td>\n",
       "      <td>0</td>\n",
       "      <td>0</td>\n",
       "    </tr>\n",
       "    <tr>\n",
       "      <th>1</th>\n",
       "      <td>1</td>\n",
       "      <td>0</td>\n",
       "      <td>0</td>\n",
       "      <td>1</td>\n",
       "      <td>0</td>\n",
       "      <td>1</td>\n",
       "      <td>1</td>\n",
       "      <td>1</td>\n",
       "      <td>0</td>\n",
       "      <td>0</td>\n",
       "    </tr>\n",
       "    <tr>\n",
       "      <th>2</th>\n",
       "      <td>0</td>\n",
       "      <td>0</td>\n",
       "      <td>0</td>\n",
       "      <td>0</td>\n",
       "      <td>1</td>\n",
       "      <td>1</td>\n",
       "      <td>0</td>\n",
       "      <td>0</td>\n",
       "      <td>0</td>\n",
       "      <td>0</td>\n",
       "    </tr>\n",
       "    <tr>\n",
       "      <th>3</th>\n",
       "      <td>1</td>\n",
       "      <td>1</td>\n",
       "      <td>0</td>\n",
       "      <td>1</td>\n",
       "      <td>1</td>\n",
       "      <td>1</td>\n",
       "      <td>1</td>\n",
       "      <td>1</td>\n",
       "      <td>0</td>\n",
       "      <td>1</td>\n",
       "    </tr>\n",
       "    <tr>\n",
       "      <th>4</th>\n",
       "      <td>1</td>\n",
       "      <td>1</td>\n",
       "      <td>0</td>\n",
       "      <td>1</td>\n",
       "      <td>1</td>\n",
       "      <td>1</td>\n",
       "      <td>1</td>\n",
       "      <td>0</td>\n",
       "      <td>0</td>\n",
       "      <td>1</td>\n",
       "    </tr>\n",
       "    <tr>\n",
       "      <th>...</th>\n",
       "      <td>...</td>\n",
       "      <td>...</td>\n",
       "      <td>...</td>\n",
       "      <td>...</td>\n",
       "      <td>...</td>\n",
       "      <td>...</td>\n",
       "      <td>...</td>\n",
       "      <td>...</td>\n",
       "      <td>...</td>\n",
       "      <td>...</td>\n",
       "    </tr>\n",
       "    <tr>\n",
       "      <th>15914</th>\n",
       "      <td>1</td>\n",
       "      <td>0</td>\n",
       "      <td>1</td>\n",
       "      <td>1</td>\n",
       "      <td>0</td>\n",
       "      <td>1</td>\n",
       "      <td>1</td>\n",
       "      <td>0</td>\n",
       "      <td>0</td>\n",
       "      <td>1</td>\n",
       "    </tr>\n",
       "    <tr>\n",
       "      <th>15915</th>\n",
       "      <td>1</td>\n",
       "      <td>0</td>\n",
       "      <td>1</td>\n",
       "      <td>1</td>\n",
       "      <td>0</td>\n",
       "      <td>0</td>\n",
       "      <td>1</td>\n",
       "      <td>0</td>\n",
       "      <td>0</td>\n",
       "      <td>1</td>\n",
       "    </tr>\n",
       "    <tr>\n",
       "      <th>15916</th>\n",
       "      <td>1</td>\n",
       "      <td>0</td>\n",
       "      <td>0</td>\n",
       "      <td>1</td>\n",
       "      <td>0</td>\n",
       "      <td>1</td>\n",
       "      <td>1</td>\n",
       "      <td>0</td>\n",
       "      <td>0</td>\n",
       "      <td>0</td>\n",
       "    </tr>\n",
       "    <tr>\n",
       "      <th>15917</th>\n",
       "      <td>1</td>\n",
       "      <td>0</td>\n",
       "      <td>1</td>\n",
       "      <td>0</td>\n",
       "      <td>0</td>\n",
       "      <td>0</td>\n",
       "      <td>1</td>\n",
       "      <td>0</td>\n",
       "      <td>0</td>\n",
       "      <td>1</td>\n",
       "    </tr>\n",
       "    <tr>\n",
       "      <th>15918</th>\n",
       "      <td>0</td>\n",
       "      <td>0</td>\n",
       "      <td>0</td>\n",
       "      <td>0</td>\n",
       "      <td>0</td>\n",
       "      <td>0</td>\n",
       "      <td>0</td>\n",
       "      <td>0</td>\n",
       "      <td>0</td>\n",
       "      <td>1</td>\n",
       "    </tr>\n",
       "  </tbody>\n",
       "</table>\n",
       "<p>15919 rows × 10 columns</p>\n",
       "</div>"
      ],
      "text/plain": [
       "       Bluetooth  CD player  Digital radio  Hands-free equipment  MP3  \\\n",
       "0              1          0              0                     1    0   \n",
       "1              1          0              0                     1    0   \n",
       "2              0          0              0                     0    1   \n",
       "3              1          1              0                     1    1   \n",
       "4              1          1              0                     1    1   \n",
       "...          ...        ...            ...                   ...  ...   \n",
       "15914          1          0              1                     1    0   \n",
       "15915          1          0              1                     1    0   \n",
       "15916          1          0              0                     1    0   \n",
       "15917          1          0              1                     0    0   \n",
       "15918          0          0              0                     0    0   \n",
       "\n",
       "       On-board computer  Radio  Sound system  Television  USB  \n",
       "0                      1      1             0           0    0  \n",
       "1                      1      1             1           0    0  \n",
       "2                      1      0             0           0    0  \n",
       "3                      1      1             1           0    1  \n",
       "4                      1      1             0           0    1  \n",
       "...                  ...    ...           ...         ...  ...  \n",
       "15914                  1      1             0           0    1  \n",
       "15915                  0      1             0           0    1  \n",
       "15916                  1      1             0           0    0  \n",
       "15917                  0      1             0           0    1  \n",
       "15918                  0      0             0           0    1  \n",
       "\n",
       "[15919 rows x 10 columns]"
      ]
     },
     "execution_count": 158,
     "metadata": {},
     "output_type": "execute_result"
    }
   ],
   "source": [
    "df.media.map(lambda x: \",\".join(x), na_action='ignore').str.get_dummies(\",\")"
   ]
  },
  {
   "cell_type": "code",
   "execution_count": 159,
   "id": "ab7f2c9d",
   "metadata": {},
   "outputs": [
    {
     "data": {
      "text/plain": [
       "Index(['make_model', 'body_type', 'price', 'vat', 'km', 'registration',\n",
       "       'prev_owner', 'hp', 'Make', 'Model', 'Body Color', 'Upholstery', 'Body',\n",
       "       'Nr. of Doors', 'Nr. of Seats', 'Gearing Type', 'Displacement',\n",
       "       'Weight', 'Drive chain', 'Consumption', 'CO2 Emission',\n",
       "       'Emission Class', 'comfort', 'media', '\\nExtras\\n',\n",
       "       '\\nSafety & Security\\n', 'Emission Label', 'Gears', 'Country version',\n",
       "       'Vehicle condition', 'particul_filter', 'Fuel Type'],\n",
       "      dtype='object')"
      ]
     },
     "execution_count": 159,
     "metadata": {},
     "output_type": "execute_result"
    }
   ],
   "source": [
    "df.columns"
   ]
  },
  {
   "cell_type": "markdown",
   "id": "c668c02b",
   "metadata": {},
   "source": [
    "### '\\nExtras\\n' sütunu "
   ]
  },
  {
   "cell_type": "code",
   "execution_count": 160,
   "id": "26543ebb",
   "metadata": {},
   "outputs": [],
   "source": [
    "df.rename(columns= {'\\nExtras\\n':\"Extras\"},inplace=True)"
   ]
  },
  {
   "cell_type": "code",
   "execution_count": 161,
   "id": "b4ebeadd",
   "metadata": {},
   "outputs": [
    {
     "data": {
      "text/plain": [
       "0        [Alloy wheels, Catalytic Converter, Voice Cont...\n",
       "1        [Alloy wheels, Sport seats, Sport suspension, ...\n",
       "2                            [Alloy wheels, Voice Control]\n",
       "3               [Alloy wheels, Sport seats, Voice Control]\n",
       "4        [Alloy wheels, Sport package, Sport suspension...\n",
       "                               ...                        \n",
       "15914                         [Alloy wheels, Touch screen]\n",
       "15915          [Alloy wheels, Touch screen, Voice Control]\n",
       "15916                                       [Alloy wheels]\n",
       "15917                         [Alloy wheels, Touch screen]\n",
       "15918                         [Alloy wheels, Touch screen]\n",
       "Name: Extras, Length: 15919, dtype: object"
      ]
     },
     "execution_count": 161,
     "metadata": {},
     "output_type": "execute_result"
    }
   ],
   "source": [
    "df.Extras"
   ]
  },
  {
   "cell_type": "code",
   "execution_count": 162,
   "id": "a310f783",
   "metadata": {},
   "outputs": [
    {
     "data": {
      "text/plain": [
       "67                                  [Alloy wheels]\n",
       "8535                                [Alloy wheels]\n",
       "7506                                          None\n",
       "463                                 [Alloy wheels]\n",
       "4574    [Alloy wheels, Sport seats, Trailer hitch]\n",
       "Name: Extras, dtype: object"
      ]
     },
     "execution_count": 162,
     "metadata": {},
     "output_type": "execute_result"
    }
   ],
   "source": [
    "df.Extras.sample(5)"
   ]
  },
  {
   "cell_type": "code",
   "execution_count": 163,
   "id": "0c65b670",
   "metadata": {},
   "outputs": [],
   "source": [
    "extras_unique = {j for i in df.Extras.dropna() for j in i}"
   ]
  },
  {
   "cell_type": "code",
   "execution_count": 164,
   "id": "58d3b3dc",
   "metadata": {},
   "outputs": [
    {
     "data": {
      "text/plain": [
       "17"
      ]
     },
     "execution_count": 164,
     "metadata": {},
     "output_type": "execute_result"
    }
   ],
   "source": [
    "len(extras_unique)"
   ]
  },
  {
   "cell_type": "code",
   "execution_count": 165,
   "id": "36402567",
   "metadata": {
    "scrolled": true
   },
   "outputs": [
    {
     "data": {
      "text/plain": [
       "['Alloy wheels', 'Catalytic Converter', 'Voice Control']"
      ]
     },
     "execution_count": 165,
     "metadata": {},
     "output_type": "execute_result"
    }
   ],
   "source": [
    "df.Extras[0]"
   ]
  },
  {
   "cell_type": "code",
   "execution_count": 166,
   "id": "5d50b541",
   "metadata": {},
   "outputs": [
    {
     "data": {
      "text/html": [
       "<div>\n",
       "<style scoped>\n",
       "    .dataframe tbody tr th:only-of-type {\n",
       "        vertical-align: middle;\n",
       "    }\n",
       "\n",
       "    .dataframe tbody tr th {\n",
       "        vertical-align: top;\n",
       "    }\n",
       "\n",
       "    .dataframe thead th {\n",
       "        text-align: right;\n",
       "    }\n",
       "</style>\n",
       "<table border=\"1\" class=\"dataframe\">\n",
       "  <thead>\n",
       "    <tr style=\"text-align: right;\">\n",
       "      <th></th>\n",
       "      <th>Alloy wheels</th>\n",
       "      <th>Cab or rented Car</th>\n",
       "      <th>Catalytic Converter</th>\n",
       "      <th>Handicapped enabled</th>\n",
       "      <th>Right hand drive</th>\n",
       "      <th>Roof rack</th>\n",
       "      <th>Shift paddles</th>\n",
       "      <th>Ski bag</th>\n",
       "      <th>Sliding door</th>\n",
       "      <th>Sport package</th>\n",
       "      <th>Sport seats</th>\n",
       "      <th>Sport suspension</th>\n",
       "      <th>Touch screen</th>\n",
       "      <th>Trailer hitch</th>\n",
       "      <th>Tuned car</th>\n",
       "      <th>Voice Control</th>\n",
       "      <th>Winter tyres</th>\n",
       "    </tr>\n",
       "  </thead>\n",
       "  <tbody>\n",
       "    <tr>\n",
       "      <th>0</th>\n",
       "      <td>1</td>\n",
       "      <td>0</td>\n",
       "      <td>1</td>\n",
       "      <td>0</td>\n",
       "      <td>0</td>\n",
       "      <td>0</td>\n",
       "      <td>0</td>\n",
       "      <td>0</td>\n",
       "      <td>0</td>\n",
       "      <td>0</td>\n",
       "      <td>0</td>\n",
       "      <td>0</td>\n",
       "      <td>0</td>\n",
       "      <td>0</td>\n",
       "      <td>0</td>\n",
       "      <td>1</td>\n",
       "      <td>0</td>\n",
       "    </tr>\n",
       "    <tr>\n",
       "      <th>1</th>\n",
       "      <td>1</td>\n",
       "      <td>0</td>\n",
       "      <td>0</td>\n",
       "      <td>0</td>\n",
       "      <td>0</td>\n",
       "      <td>0</td>\n",
       "      <td>0</td>\n",
       "      <td>0</td>\n",
       "      <td>0</td>\n",
       "      <td>0</td>\n",
       "      <td>1</td>\n",
       "      <td>1</td>\n",
       "      <td>0</td>\n",
       "      <td>0</td>\n",
       "      <td>0</td>\n",
       "      <td>1</td>\n",
       "      <td>0</td>\n",
       "    </tr>\n",
       "    <tr>\n",
       "      <th>2</th>\n",
       "      <td>1</td>\n",
       "      <td>0</td>\n",
       "      <td>0</td>\n",
       "      <td>0</td>\n",
       "      <td>0</td>\n",
       "      <td>0</td>\n",
       "      <td>0</td>\n",
       "      <td>0</td>\n",
       "      <td>0</td>\n",
       "      <td>0</td>\n",
       "      <td>0</td>\n",
       "      <td>0</td>\n",
       "      <td>0</td>\n",
       "      <td>0</td>\n",
       "      <td>0</td>\n",
       "      <td>1</td>\n",
       "      <td>0</td>\n",
       "    </tr>\n",
       "    <tr>\n",
       "      <th>3</th>\n",
       "      <td>1</td>\n",
       "      <td>0</td>\n",
       "      <td>0</td>\n",
       "      <td>0</td>\n",
       "      <td>0</td>\n",
       "      <td>0</td>\n",
       "      <td>0</td>\n",
       "      <td>0</td>\n",
       "      <td>0</td>\n",
       "      <td>0</td>\n",
       "      <td>1</td>\n",
       "      <td>0</td>\n",
       "      <td>0</td>\n",
       "      <td>0</td>\n",
       "      <td>0</td>\n",
       "      <td>1</td>\n",
       "      <td>0</td>\n",
       "    </tr>\n",
       "    <tr>\n",
       "      <th>4</th>\n",
       "      <td>1</td>\n",
       "      <td>0</td>\n",
       "      <td>0</td>\n",
       "      <td>0</td>\n",
       "      <td>0</td>\n",
       "      <td>0</td>\n",
       "      <td>0</td>\n",
       "      <td>0</td>\n",
       "      <td>0</td>\n",
       "      <td>1</td>\n",
       "      <td>0</td>\n",
       "      <td>1</td>\n",
       "      <td>0</td>\n",
       "      <td>0</td>\n",
       "      <td>0</td>\n",
       "      <td>1</td>\n",
       "      <td>0</td>\n",
       "    </tr>\n",
       "    <tr>\n",
       "      <th>...</th>\n",
       "      <td>...</td>\n",
       "      <td>...</td>\n",
       "      <td>...</td>\n",
       "      <td>...</td>\n",
       "      <td>...</td>\n",
       "      <td>...</td>\n",
       "      <td>...</td>\n",
       "      <td>...</td>\n",
       "      <td>...</td>\n",
       "      <td>...</td>\n",
       "      <td>...</td>\n",
       "      <td>...</td>\n",
       "      <td>...</td>\n",
       "      <td>...</td>\n",
       "      <td>...</td>\n",
       "      <td>...</td>\n",
       "      <td>...</td>\n",
       "    </tr>\n",
       "    <tr>\n",
       "      <th>15914</th>\n",
       "      <td>1</td>\n",
       "      <td>0</td>\n",
       "      <td>0</td>\n",
       "      <td>0</td>\n",
       "      <td>0</td>\n",
       "      <td>0</td>\n",
       "      <td>0</td>\n",
       "      <td>0</td>\n",
       "      <td>0</td>\n",
       "      <td>0</td>\n",
       "      <td>0</td>\n",
       "      <td>0</td>\n",
       "      <td>1</td>\n",
       "      <td>0</td>\n",
       "      <td>0</td>\n",
       "      <td>0</td>\n",
       "      <td>0</td>\n",
       "    </tr>\n",
       "    <tr>\n",
       "      <th>15915</th>\n",
       "      <td>1</td>\n",
       "      <td>0</td>\n",
       "      <td>0</td>\n",
       "      <td>0</td>\n",
       "      <td>0</td>\n",
       "      <td>0</td>\n",
       "      <td>0</td>\n",
       "      <td>0</td>\n",
       "      <td>0</td>\n",
       "      <td>0</td>\n",
       "      <td>0</td>\n",
       "      <td>0</td>\n",
       "      <td>1</td>\n",
       "      <td>0</td>\n",
       "      <td>0</td>\n",
       "      <td>1</td>\n",
       "      <td>0</td>\n",
       "    </tr>\n",
       "    <tr>\n",
       "      <th>15916</th>\n",
       "      <td>1</td>\n",
       "      <td>0</td>\n",
       "      <td>0</td>\n",
       "      <td>0</td>\n",
       "      <td>0</td>\n",
       "      <td>0</td>\n",
       "      <td>0</td>\n",
       "      <td>0</td>\n",
       "      <td>0</td>\n",
       "      <td>0</td>\n",
       "      <td>0</td>\n",
       "      <td>0</td>\n",
       "      <td>0</td>\n",
       "      <td>0</td>\n",
       "      <td>0</td>\n",
       "      <td>0</td>\n",
       "      <td>0</td>\n",
       "    </tr>\n",
       "    <tr>\n",
       "      <th>15917</th>\n",
       "      <td>1</td>\n",
       "      <td>0</td>\n",
       "      <td>0</td>\n",
       "      <td>0</td>\n",
       "      <td>0</td>\n",
       "      <td>0</td>\n",
       "      <td>0</td>\n",
       "      <td>0</td>\n",
       "      <td>0</td>\n",
       "      <td>0</td>\n",
       "      <td>0</td>\n",
       "      <td>0</td>\n",
       "      <td>1</td>\n",
       "      <td>0</td>\n",
       "      <td>0</td>\n",
       "      <td>0</td>\n",
       "      <td>0</td>\n",
       "    </tr>\n",
       "    <tr>\n",
       "      <th>15918</th>\n",
       "      <td>1</td>\n",
       "      <td>0</td>\n",
       "      <td>0</td>\n",
       "      <td>0</td>\n",
       "      <td>0</td>\n",
       "      <td>0</td>\n",
       "      <td>0</td>\n",
       "      <td>0</td>\n",
       "      <td>0</td>\n",
       "      <td>0</td>\n",
       "      <td>0</td>\n",
       "      <td>0</td>\n",
       "      <td>1</td>\n",
       "      <td>0</td>\n",
       "      <td>0</td>\n",
       "      <td>0</td>\n",
       "      <td>0</td>\n",
       "    </tr>\n",
       "  </tbody>\n",
       "</table>\n",
       "<p>15919 rows × 17 columns</p>\n",
       "</div>"
      ],
      "text/plain": [
       "       Alloy wheels  Cab or rented Car  Catalytic Converter  \\\n",
       "0                 1                  0                    1   \n",
       "1                 1                  0                    0   \n",
       "2                 1                  0                    0   \n",
       "3                 1                  0                    0   \n",
       "4                 1                  0                    0   \n",
       "...             ...                ...                  ...   \n",
       "15914             1                  0                    0   \n",
       "15915             1                  0                    0   \n",
       "15916             1                  0                    0   \n",
       "15917             1                  0                    0   \n",
       "15918             1                  0                    0   \n",
       "\n",
       "       Handicapped enabled  Right hand drive  Roof rack  Shift paddles  \\\n",
       "0                        0                 0          0              0   \n",
       "1                        0                 0          0              0   \n",
       "2                        0                 0          0              0   \n",
       "3                        0                 0          0              0   \n",
       "4                        0                 0          0              0   \n",
       "...                    ...               ...        ...            ...   \n",
       "15914                    0                 0          0              0   \n",
       "15915                    0                 0          0              0   \n",
       "15916                    0                 0          0              0   \n",
       "15917                    0                 0          0              0   \n",
       "15918                    0                 0          0              0   \n",
       "\n",
       "       Ski bag  Sliding door  Sport package  Sport seats  Sport suspension  \\\n",
       "0            0             0              0            0                 0   \n",
       "1            0             0              0            1                 1   \n",
       "2            0             0              0            0                 0   \n",
       "3            0             0              0            1                 0   \n",
       "4            0             0              1            0                 1   \n",
       "...        ...           ...            ...          ...               ...   \n",
       "15914        0             0              0            0                 0   \n",
       "15915        0             0              0            0                 0   \n",
       "15916        0             0              0            0                 0   \n",
       "15917        0             0              0            0                 0   \n",
       "15918        0             0              0            0                 0   \n",
       "\n",
       "       Touch screen  Trailer hitch  Tuned car  Voice Control  Winter tyres  \n",
       "0                 0              0          0              1             0  \n",
       "1                 0              0          0              1             0  \n",
       "2                 0              0          0              1             0  \n",
       "3                 0              0          0              1             0  \n",
       "4                 0              0          0              1             0  \n",
       "...             ...            ...        ...            ...           ...  \n",
       "15914             1              0          0              0             0  \n",
       "15915             1              0          0              1             0  \n",
       "15916             0              0          0              0             0  \n",
       "15917             1              0          0              0             0  \n",
       "15918             1              0          0              0             0  \n",
       "\n",
       "[15919 rows x 17 columns]"
      ]
     },
     "execution_count": 166,
     "metadata": {},
     "output_type": "execute_result"
    }
   ],
   "source": [
    "df.Extras.map(lambda x: \",\".join(x), na_action='ignore').str.get_dummies(\",\")"
   ]
  },
  {
   "cell_type": "code",
   "execution_count": 167,
   "id": "3921f329",
   "metadata": {
    "scrolled": true
   },
   "outputs": [
    {
     "data": {
      "text/plain": [
       "Index(['make_model', 'body_type', 'price', 'vat', 'km', 'registration',\n",
       "       'prev_owner', 'hp', 'Make', 'Model', 'Body Color', 'Upholstery', 'Body',\n",
       "       'Nr. of Doors', 'Nr. of Seats', 'Gearing Type', 'Displacement',\n",
       "       'Weight', 'Drive chain', 'Consumption', 'CO2 Emission',\n",
       "       'Emission Class', 'comfort', 'media', 'Extras', '\\nSafety & Security\\n',\n",
       "       'Emission Label', 'Gears', 'Country version', 'Vehicle condition',\n",
       "       'particul_filter', 'Fuel Type'],\n",
       "      dtype='object')"
      ]
     },
     "execution_count": 167,
     "metadata": {},
     "output_type": "execute_result"
    }
   ],
   "source": [
    "df.columns"
   ]
  },
  {
   "cell_type": "markdown",
   "id": "d9528116",
   "metadata": {},
   "source": [
    "###   '\\nSafety & Security\\n'"
   ]
  },
  {
   "cell_type": "code",
   "execution_count": 168,
   "id": "9a8bfeab",
   "metadata": {},
   "outputs": [],
   "source": [
    "df.rename(columns={'\\nSafety & Security\\n':'Safety & Security'},inplace=True)"
   ]
  },
  {
   "cell_type": "code",
   "execution_count": 169,
   "id": "8b8f6916",
   "metadata": {},
   "outputs": [
    {
     "data": {
      "text/plain": [
       "6805     [ABS, Central door lock, Daytime running light...\n",
       "4011     [ABS, Central door lock, Daytime running light...\n",
       "11137    [ABS, Central door lock, Daytime running light...\n",
       "Name: Safety & Security, dtype: object"
      ]
     },
     "execution_count": 169,
     "metadata": {},
     "output_type": "execute_result"
    }
   ],
   "source": [
    "df['Safety & Security'].sample(3)"
   ]
  },
  {
   "cell_type": "code",
   "execution_count": 170,
   "id": "7708175f",
   "metadata": {},
   "outputs": [
    {
     "data": {
      "text/plain": [
       "982"
      ]
     },
     "execution_count": 170,
     "metadata": {},
     "output_type": "execute_result"
    }
   ],
   "source": [
    "df['Safety & Security'].isnull().sum()"
   ]
  },
  {
   "cell_type": "code",
   "execution_count": 171,
   "id": "fbdafca2",
   "metadata": {
    "scrolled": false
   },
   "outputs": [
    {
     "data": {
      "text/html": [
       "<div>\n",
       "<style scoped>\n",
       "    .dataframe tbody tr th:only-of-type {\n",
       "        vertical-align: middle;\n",
       "    }\n",
       "\n",
       "    .dataframe tbody tr th {\n",
       "        vertical-align: top;\n",
       "    }\n",
       "\n",
       "    .dataframe thead th {\n",
       "        text-align: right;\n",
       "    }\n",
       "</style>\n",
       "<table border=\"1\" class=\"dataframe\">\n",
       "  <thead>\n",
       "    <tr style=\"text-align: right;\">\n",
       "      <th></th>\n",
       "      <th>make_model</th>\n",
       "      <th>body_type</th>\n",
       "      <th>price</th>\n",
       "      <th>vat</th>\n",
       "      <th>km</th>\n",
       "      <th>registration</th>\n",
       "      <th>prev_owner</th>\n",
       "      <th>hp</th>\n",
       "      <th>Make</th>\n",
       "      <th>Model</th>\n",
       "      <th>Body Color</th>\n",
       "      <th>Upholstery</th>\n",
       "      <th>Body</th>\n",
       "      <th>Nr. of Doors</th>\n",
       "      <th>Nr. of Seats</th>\n",
       "      <th>Gearing Type</th>\n",
       "      <th>Displacement</th>\n",
       "      <th>Weight</th>\n",
       "      <th>Drive chain</th>\n",
       "      <th>Consumption</th>\n",
       "      <th>CO2 Emission</th>\n",
       "      <th>Emission Class</th>\n",
       "      <th>comfort</th>\n",
       "      <th>media</th>\n",
       "      <th>Extras</th>\n",
       "      <th>Safety &amp; Security</th>\n",
       "      <th>Emission Label</th>\n",
       "      <th>Gears</th>\n",
       "      <th>Country version</th>\n",
       "      <th>Vehicle condition</th>\n",
       "      <th>particul_filter</th>\n",
       "      <th>Fuel Type</th>\n",
       "    </tr>\n",
       "  </thead>\n",
       "  <tbody>\n",
       "    <tr>\n",
       "      <th>30</th>\n",
       "      <td>Audi A1</td>\n",
       "      <td>Compact</td>\n",
       "      <td>11290</td>\n",
       "      <td>False</td>\n",
       "      <td>38400.0</td>\n",
       "      <td>2016-06-01</td>\n",
       "      <td>NaN</td>\n",
       "      <td>66.0</td>\n",
       "      <td>Audi</td>\n",
       "      <td>A1</td>\n",
       "      <td>Black</td>\n",
       "      <td>None</td>\n",
       "      <td>Compact</td>\n",
       "      <td>5.0</td>\n",
       "      <td>[\\n5\\n]</td>\n",
       "      <td>Manual</td>\n",
       "      <td>422.0</td>\n",
       "      <td>95</td>\n",
       "      <td>front</td>\n",
       "      <td>[[3 l/100 km (comb)], [3 l/100 km (city)], [3 ...</td>\n",
       "      <td>NaN</td>\n",
       "      <td>None</td>\n",
       "      <td>None</td>\n",
       "      <td>None</td>\n",
       "      <td>None</td>\n",
       "      <td>None</td>\n",
       "      <td>None</td>\n",
       "      <td>[\\n5\\n]</td>\n",
       "      <td>None</td>\n",
       "      <td>Used</td>\n",
       "      <td>False</td>\n",
       "      <td>Diesel</td>\n",
       "    </tr>\n",
       "  </tbody>\n",
       "</table>\n",
       "</div>"
      ],
      "text/plain": [
       "   make_model body_type  price    vat       km registration  prev_owner    hp  \\\n",
       "30    Audi A1   Compact  11290  False  38400.0   2016-06-01         NaN  66.0   \n",
       "\n",
       "    Make Model Body Color Upholstery     Body  Nr. of Doors Nr. of Seats  \\\n",
       "30  Audi    A1      Black       None  Compact           5.0      [\\n5\\n]   \n",
       "\n",
       "   Gearing Type  Displacement Weight Drive chain  \\\n",
       "30       Manual         422.0     95       front   \n",
       "\n",
       "                                          Consumption  CO2 Emission  \\\n",
       "30  [[3 l/100 km (comb)], [3 l/100 km (city)], [3 ...           NaN   \n",
       "\n",
       "   Emission Class comfort media Extras Safety & Security Emission Label  \\\n",
       "30           None    None  None   None              None           None   \n",
       "\n",
       "      Gears Country version Vehicle condition  particul_filter Fuel Type  \n",
       "30  [\\n5\\n]            None              Used            False    Diesel  "
      ]
     },
     "execution_count": 171,
     "metadata": {},
     "output_type": "execute_result"
    }
   ],
   "source": [
    "df[df['Safety & Security'].isnull()].iloc[[1]]"
   ]
  },
  {
   "cell_type": "code",
   "execution_count": 172,
   "id": "baa9eaf1",
   "metadata": {},
   "outputs": [
    {
     "data": {
      "text/html": [
       "<div>\n",
       "<style scoped>\n",
       "    .dataframe tbody tr th:only-of-type {\n",
       "        vertical-align: middle;\n",
       "    }\n",
       "\n",
       "    .dataframe tbody tr th {\n",
       "        vertical-align: top;\n",
       "    }\n",
       "\n",
       "    .dataframe thead th {\n",
       "        text-align: right;\n",
       "    }\n",
       "</style>\n",
       "<table border=\"1\" class=\"dataframe\">\n",
       "  <thead>\n",
       "    <tr style=\"text-align: right;\">\n",
       "      <th></th>\n",
       "      <th>ABS</th>\n",
       "      <th>Adaptive Cruise Control</th>\n",
       "      <th>Adaptive headlights</th>\n",
       "      <th>Alarm system</th>\n",
       "      <th>Blind spot monitor</th>\n",
       "      <th>Central door lock</th>\n",
       "      <th>Central door lock with remote control</th>\n",
       "      <th>Daytime running lights</th>\n",
       "      <th>Driver drowsiness detection</th>\n",
       "      <th>Driver-side airbag</th>\n",
       "      <th>Electronic stability control</th>\n",
       "      <th>Emergency brake assistant</th>\n",
       "      <th>Emergency system</th>\n",
       "      <th>Fog lights</th>\n",
       "      <th>Head airbag</th>\n",
       "      <th>Immobilizer</th>\n",
       "      <th>Isofix</th>\n",
       "      <th>LED Daytime Running Lights</th>\n",
       "      <th>LED Headlights</th>\n",
       "      <th>Lane departure warning system</th>\n",
       "      <th>Night view assist</th>\n",
       "      <th>Passenger-side airbag</th>\n",
       "      <th>Power steering</th>\n",
       "      <th>Rear airbag</th>\n",
       "      <th>Side airbag</th>\n",
       "      <th>Tire pressure monitoring system</th>\n",
       "      <th>Traction control</th>\n",
       "      <th>Traffic sign recognition</th>\n",
       "      <th>Xenon headlights</th>\n",
       "    </tr>\n",
       "  </thead>\n",
       "  <tbody>\n",
       "    <tr>\n",
       "      <th>0</th>\n",
       "      <td>1</td>\n",
       "      <td>0</td>\n",
       "      <td>0</td>\n",
       "      <td>0</td>\n",
       "      <td>0</td>\n",
       "      <td>1</td>\n",
       "      <td>0</td>\n",
       "      <td>1</td>\n",
       "      <td>0</td>\n",
       "      <td>1</td>\n",
       "      <td>1</td>\n",
       "      <td>0</td>\n",
       "      <td>0</td>\n",
       "      <td>1</td>\n",
       "      <td>0</td>\n",
       "      <td>1</td>\n",
       "      <td>1</td>\n",
       "      <td>0</td>\n",
       "      <td>0</td>\n",
       "      <td>0</td>\n",
       "      <td>0</td>\n",
       "      <td>1</td>\n",
       "      <td>1</td>\n",
       "      <td>0</td>\n",
       "      <td>1</td>\n",
       "      <td>1</td>\n",
       "      <td>1</td>\n",
       "      <td>0</td>\n",
       "      <td>1</td>\n",
       "    </tr>\n",
       "    <tr>\n",
       "      <th>1</th>\n",
       "      <td>1</td>\n",
       "      <td>0</td>\n",
       "      <td>0</td>\n",
       "      <td>0</td>\n",
       "      <td>0</td>\n",
       "      <td>1</td>\n",
       "      <td>1</td>\n",
       "      <td>1</td>\n",
       "      <td>0</td>\n",
       "      <td>1</td>\n",
       "      <td>1</td>\n",
       "      <td>0</td>\n",
       "      <td>0</td>\n",
       "      <td>0</td>\n",
       "      <td>1</td>\n",
       "      <td>1</td>\n",
       "      <td>1</td>\n",
       "      <td>0</td>\n",
       "      <td>0</td>\n",
       "      <td>0</td>\n",
       "      <td>0</td>\n",
       "      <td>1</td>\n",
       "      <td>1</td>\n",
       "      <td>0</td>\n",
       "      <td>1</td>\n",
       "      <td>1</td>\n",
       "      <td>1</td>\n",
       "      <td>0</td>\n",
       "      <td>1</td>\n",
       "    </tr>\n",
       "    <tr>\n",
       "      <th>2</th>\n",
       "      <td>1</td>\n",
       "      <td>0</td>\n",
       "      <td>0</td>\n",
       "      <td>0</td>\n",
       "      <td>0</td>\n",
       "      <td>1</td>\n",
       "      <td>0</td>\n",
       "      <td>1</td>\n",
       "      <td>0</td>\n",
       "      <td>1</td>\n",
       "      <td>1</td>\n",
       "      <td>0</td>\n",
       "      <td>0</td>\n",
       "      <td>0</td>\n",
       "      <td>0</td>\n",
       "      <td>1</td>\n",
       "      <td>1</td>\n",
       "      <td>0</td>\n",
       "      <td>0</td>\n",
       "      <td>0</td>\n",
       "      <td>0</td>\n",
       "      <td>1</td>\n",
       "      <td>1</td>\n",
       "      <td>0</td>\n",
       "      <td>1</td>\n",
       "      <td>1</td>\n",
       "      <td>1</td>\n",
       "      <td>0</td>\n",
       "      <td>0</td>\n",
       "    </tr>\n",
       "    <tr>\n",
       "      <th>3</th>\n",
       "      <td>1</td>\n",
       "      <td>0</td>\n",
       "      <td>0</td>\n",
       "      <td>1</td>\n",
       "      <td>0</td>\n",
       "      <td>0</td>\n",
       "      <td>1</td>\n",
       "      <td>0</td>\n",
       "      <td>1</td>\n",
       "      <td>1</td>\n",
       "      <td>1</td>\n",
       "      <td>0</td>\n",
       "      <td>1</td>\n",
       "      <td>0</td>\n",
       "      <td>1</td>\n",
       "      <td>1</td>\n",
       "      <td>1</td>\n",
       "      <td>0</td>\n",
       "      <td>0</td>\n",
       "      <td>0</td>\n",
       "      <td>0</td>\n",
       "      <td>1</td>\n",
       "      <td>1</td>\n",
       "      <td>0</td>\n",
       "      <td>1</td>\n",
       "      <td>1</td>\n",
       "      <td>0</td>\n",
       "      <td>0</td>\n",
       "      <td>0</td>\n",
       "    </tr>\n",
       "    <tr>\n",
       "      <th>4</th>\n",
       "      <td>1</td>\n",
       "      <td>0</td>\n",
       "      <td>0</td>\n",
       "      <td>0</td>\n",
       "      <td>0</td>\n",
       "      <td>1</td>\n",
       "      <td>0</td>\n",
       "      <td>0</td>\n",
       "      <td>0</td>\n",
       "      <td>1</td>\n",
       "      <td>1</td>\n",
       "      <td>0</td>\n",
       "      <td>0</td>\n",
       "      <td>1</td>\n",
       "      <td>0</td>\n",
       "      <td>1</td>\n",
       "      <td>1</td>\n",
       "      <td>0</td>\n",
       "      <td>0</td>\n",
       "      <td>0</td>\n",
       "      <td>0</td>\n",
       "      <td>1</td>\n",
       "      <td>1</td>\n",
       "      <td>0</td>\n",
       "      <td>1</td>\n",
       "      <td>1</td>\n",
       "      <td>1</td>\n",
       "      <td>0</td>\n",
       "      <td>1</td>\n",
       "    </tr>\n",
       "    <tr>\n",
       "      <th>...</th>\n",
       "      <td>...</td>\n",
       "      <td>...</td>\n",
       "      <td>...</td>\n",
       "      <td>...</td>\n",
       "      <td>...</td>\n",
       "      <td>...</td>\n",
       "      <td>...</td>\n",
       "      <td>...</td>\n",
       "      <td>...</td>\n",
       "      <td>...</td>\n",
       "      <td>...</td>\n",
       "      <td>...</td>\n",
       "      <td>...</td>\n",
       "      <td>...</td>\n",
       "      <td>...</td>\n",
       "      <td>...</td>\n",
       "      <td>...</td>\n",
       "      <td>...</td>\n",
       "      <td>...</td>\n",
       "      <td>...</td>\n",
       "      <td>...</td>\n",
       "      <td>...</td>\n",
       "      <td>...</td>\n",
       "      <td>...</td>\n",
       "      <td>...</td>\n",
       "      <td>...</td>\n",
       "      <td>...</td>\n",
       "      <td>...</td>\n",
       "      <td>...</td>\n",
       "    </tr>\n",
       "    <tr>\n",
       "      <th>15914</th>\n",
       "      <td>1</td>\n",
       "      <td>0</td>\n",
       "      <td>0</td>\n",
       "      <td>0</td>\n",
       "      <td>0</td>\n",
       "      <td>1</td>\n",
       "      <td>1</td>\n",
       "      <td>0</td>\n",
       "      <td>0</td>\n",
       "      <td>1</td>\n",
       "      <td>1</td>\n",
       "      <td>1</td>\n",
       "      <td>0</td>\n",
       "      <td>0</td>\n",
       "      <td>1</td>\n",
       "      <td>1</td>\n",
       "      <td>1</td>\n",
       "      <td>1</td>\n",
       "      <td>1</td>\n",
       "      <td>1</td>\n",
       "      <td>0</td>\n",
       "      <td>1</td>\n",
       "      <td>1</td>\n",
       "      <td>1</td>\n",
       "      <td>1</td>\n",
       "      <td>1</td>\n",
       "      <td>1</td>\n",
       "      <td>1</td>\n",
       "      <td>0</td>\n",
       "    </tr>\n",
       "    <tr>\n",
       "      <th>15915</th>\n",
       "      <td>1</td>\n",
       "      <td>1</td>\n",
       "      <td>0</td>\n",
       "      <td>0</td>\n",
       "      <td>1</td>\n",
       "      <td>1</td>\n",
       "      <td>0</td>\n",
       "      <td>1</td>\n",
       "      <td>0</td>\n",
       "      <td>1</td>\n",
       "      <td>1</td>\n",
       "      <td>1</td>\n",
       "      <td>0</td>\n",
       "      <td>0</td>\n",
       "      <td>0</td>\n",
       "      <td>1</td>\n",
       "      <td>1</td>\n",
       "      <td>1</td>\n",
       "      <td>1</td>\n",
       "      <td>1</td>\n",
       "      <td>0</td>\n",
       "      <td>1</td>\n",
       "      <td>1</td>\n",
       "      <td>0</td>\n",
       "      <td>1</td>\n",
       "      <td>1</td>\n",
       "      <td>1</td>\n",
       "      <td>1</td>\n",
       "      <td>0</td>\n",
       "    </tr>\n",
       "    <tr>\n",
       "      <th>15916</th>\n",
       "      <td>1</td>\n",
       "      <td>1</td>\n",
       "      <td>0</td>\n",
       "      <td>0</td>\n",
       "      <td>1</td>\n",
       "      <td>1</td>\n",
       "      <td>0</td>\n",
       "      <td>1</td>\n",
       "      <td>0</td>\n",
       "      <td>1</td>\n",
       "      <td>1</td>\n",
       "      <td>1</td>\n",
       "      <td>0</td>\n",
       "      <td>0</td>\n",
       "      <td>0</td>\n",
       "      <td>1</td>\n",
       "      <td>1</td>\n",
       "      <td>1</td>\n",
       "      <td>1</td>\n",
       "      <td>1</td>\n",
       "      <td>0</td>\n",
       "      <td>1</td>\n",
       "      <td>1</td>\n",
       "      <td>0</td>\n",
       "      <td>1</td>\n",
       "      <td>0</td>\n",
       "      <td>1</td>\n",
       "      <td>1</td>\n",
       "      <td>0</td>\n",
       "    </tr>\n",
       "    <tr>\n",
       "      <th>15917</th>\n",
       "      <td>1</td>\n",
       "      <td>0</td>\n",
       "      <td>0</td>\n",
       "      <td>0</td>\n",
       "      <td>1</td>\n",
       "      <td>0</td>\n",
       "      <td>0</td>\n",
       "      <td>0</td>\n",
       "      <td>0</td>\n",
       "      <td>1</td>\n",
       "      <td>1</td>\n",
       "      <td>1</td>\n",
       "      <td>0</td>\n",
       "      <td>0</td>\n",
       "      <td>0</td>\n",
       "      <td>0</td>\n",
       "      <td>1</td>\n",
       "      <td>0</td>\n",
       "      <td>1</td>\n",
       "      <td>0</td>\n",
       "      <td>0</td>\n",
       "      <td>1</td>\n",
       "      <td>1</td>\n",
       "      <td>0</td>\n",
       "      <td>1</td>\n",
       "      <td>1</td>\n",
       "      <td>0</td>\n",
       "      <td>1</td>\n",
       "      <td>0</td>\n",
       "    </tr>\n",
       "    <tr>\n",
       "      <th>15918</th>\n",
       "      <td>1</td>\n",
       "      <td>0</td>\n",
       "      <td>0</td>\n",
       "      <td>0</td>\n",
       "      <td>1</td>\n",
       "      <td>0</td>\n",
       "      <td>0</td>\n",
       "      <td>1</td>\n",
       "      <td>0</td>\n",
       "      <td>1</td>\n",
       "      <td>1</td>\n",
       "      <td>1</td>\n",
       "      <td>0</td>\n",
       "      <td>0</td>\n",
       "      <td>0</td>\n",
       "      <td>1</td>\n",
       "      <td>1</td>\n",
       "      <td>1</td>\n",
       "      <td>0</td>\n",
       "      <td>0</td>\n",
       "      <td>0</td>\n",
       "      <td>1</td>\n",
       "      <td>1</td>\n",
       "      <td>0</td>\n",
       "      <td>1</td>\n",
       "      <td>1</td>\n",
       "      <td>0</td>\n",
       "      <td>1</td>\n",
       "      <td>0</td>\n",
       "    </tr>\n",
       "  </tbody>\n",
       "</table>\n",
       "<p>15919 rows × 29 columns</p>\n",
       "</div>"
      ],
      "text/plain": [
       "       ABS  Adaptive Cruise Control  Adaptive headlights  Alarm system  \\\n",
       "0        1                        0                    0             0   \n",
       "1        1                        0                    0             0   \n",
       "2        1                        0                    0             0   \n",
       "3        1                        0                    0             1   \n",
       "4        1                        0                    0             0   \n",
       "...    ...                      ...                  ...           ...   \n",
       "15914    1                        0                    0             0   \n",
       "15915    1                        1                    0             0   \n",
       "15916    1                        1                    0             0   \n",
       "15917    1                        0                    0             0   \n",
       "15918    1                        0                    0             0   \n",
       "\n",
       "       Blind spot monitor  Central door lock  \\\n",
       "0                       0                  1   \n",
       "1                       0                  1   \n",
       "2                       0                  1   \n",
       "3                       0                  0   \n",
       "4                       0                  1   \n",
       "...                   ...                ...   \n",
       "15914                   0                  1   \n",
       "15915                   1                  1   \n",
       "15916                   1                  1   \n",
       "15917                   1                  0   \n",
       "15918                   1                  0   \n",
       "\n",
       "       Central door lock with remote control  Daytime running lights  \\\n",
       "0                                          0                       1   \n",
       "1                                          1                       1   \n",
       "2                                          0                       1   \n",
       "3                                          1                       0   \n",
       "4                                          0                       0   \n",
       "...                                      ...                     ...   \n",
       "15914                                      1                       0   \n",
       "15915                                      0                       1   \n",
       "15916                                      0                       1   \n",
       "15917                                      0                       0   \n",
       "15918                                      0                       1   \n",
       "\n",
       "       Driver drowsiness detection  Driver-side airbag  \\\n",
       "0                                0                   1   \n",
       "1                                0                   1   \n",
       "2                                0                   1   \n",
       "3                                1                   1   \n",
       "4                                0                   1   \n",
       "...                            ...                 ...   \n",
       "15914                            0                   1   \n",
       "15915                            0                   1   \n",
       "15916                            0                   1   \n",
       "15917                            0                   1   \n",
       "15918                            0                   1   \n",
       "\n",
       "       Electronic stability control  Emergency brake assistant  \\\n",
       "0                                 1                          0   \n",
       "1                                 1                          0   \n",
       "2                                 1                          0   \n",
       "3                                 1                          0   \n",
       "4                                 1                          0   \n",
       "...                             ...                        ...   \n",
       "15914                             1                          1   \n",
       "15915                             1                          1   \n",
       "15916                             1                          1   \n",
       "15917                             1                          1   \n",
       "15918                             1                          1   \n",
       "\n",
       "       Emergency system  Fog lights  Head airbag  Immobilizer  Isofix  \\\n",
       "0                     0           1            0            1       1   \n",
       "1                     0           0            1            1       1   \n",
       "2                     0           0            0            1       1   \n",
       "3                     1           0            1            1       1   \n",
       "4                     0           1            0            1       1   \n",
       "...                 ...         ...          ...          ...     ...   \n",
       "15914                 0           0            1            1       1   \n",
       "15915                 0           0            0            1       1   \n",
       "15916                 0           0            0            1       1   \n",
       "15917                 0           0            0            0       1   \n",
       "15918                 0           0            0            1       1   \n",
       "\n",
       "       LED Daytime Running Lights  LED Headlights  \\\n",
       "0                               0               0   \n",
       "1                               0               0   \n",
       "2                               0               0   \n",
       "3                               0               0   \n",
       "4                               0               0   \n",
       "...                           ...             ...   \n",
       "15914                           1               1   \n",
       "15915                           1               1   \n",
       "15916                           1               1   \n",
       "15917                           0               1   \n",
       "15918                           1               0   \n",
       "\n",
       "       Lane departure warning system  Night view assist  \\\n",
       "0                                  0                  0   \n",
       "1                                  0                  0   \n",
       "2                                  0                  0   \n",
       "3                                  0                  0   \n",
       "4                                  0                  0   \n",
       "...                              ...                ...   \n",
       "15914                              1                  0   \n",
       "15915                              1                  0   \n",
       "15916                              1                  0   \n",
       "15917                              0                  0   \n",
       "15918                              0                  0   \n",
       "\n",
       "       Passenger-side airbag  Power steering  Rear airbag  Side airbag  \\\n",
       "0                          1               1            0            1   \n",
       "1                          1               1            0            1   \n",
       "2                          1               1            0            1   \n",
       "3                          1               1            0            1   \n",
       "4                          1               1            0            1   \n",
       "...                      ...             ...          ...          ...   \n",
       "15914                      1               1            1            1   \n",
       "15915                      1               1            0            1   \n",
       "15916                      1               1            0            1   \n",
       "15917                      1               1            0            1   \n",
       "15918                      1               1            0            1   \n",
       "\n",
       "       Tire pressure monitoring system  Traction control  \\\n",
       "0                                    1                 1   \n",
       "1                                    1                 1   \n",
       "2                                    1                 1   \n",
       "3                                    1                 0   \n",
       "4                                    1                 1   \n",
       "...                                ...               ...   \n",
       "15914                                1                 1   \n",
       "15915                                1                 1   \n",
       "15916                                0                 1   \n",
       "15917                                1                 0   \n",
       "15918                                1                 0   \n",
       "\n",
       "       Traffic sign recognition  Xenon headlights  \n",
       "0                             0                 1  \n",
       "1                             0                 1  \n",
       "2                             0                 0  \n",
       "3                             0                 0  \n",
       "4                             0                 1  \n",
       "...                         ...               ...  \n",
       "15914                         1                 0  \n",
       "15915                         1                 0  \n",
       "15916                         1                 0  \n",
       "15917                         1                 0  \n",
       "15918                         1                 0  \n",
       "\n",
       "[15919 rows x 29 columns]"
      ]
     },
     "execution_count": 172,
     "metadata": {},
     "output_type": "execute_result"
    }
   ],
   "source": [
    "df['Safety & Security'].map(lambda x: \",\".join(x), na_action='ignore').str.get_dummies(\",\")"
   ]
  },
  {
   "cell_type": "markdown",
   "id": "a4a91582",
   "metadata": {},
   "source": [
    "#### 'Emission Label'"
   ]
  },
  {
   "cell_type": "code",
   "execution_count": 173,
   "id": "f7dd6e0f",
   "metadata": {
    "scrolled": true
   },
   "outputs": [
    {
     "data": {
      "text/plain": [
       "13343    [\\n4 (Green)\\n]\n",
       "9693     [\\n4 (Green)\\n]\n",
       "13621               None\n",
       "Name: Emission Label, dtype: object"
      ]
     },
     "execution_count": 173,
     "metadata": {},
     "output_type": "execute_result"
    }
   ],
   "source": [
    "df['Emission Label'].sample(3)"
   ]
  },
  {
   "cell_type": "code",
   "execution_count": 174,
   "id": "485e8a24",
   "metadata": {},
   "outputs": [
    {
     "ename": "TypeError",
     "evalue": "unhashable type: 'list'",
     "output_type": "error",
     "traceback": [
      "\u001b[1;31m---------------------------------------------------------------------------\u001b[0m",
      "\u001b[1;31mTypeError\u001b[0m                                 Traceback (most recent call last)",
      "\u001b[1;32mpandas\\_libs\\hashtable_class_helper.pxi\u001b[0m in \u001b[0;36mpandas._libs.hashtable.PyObjectHashTable.map_locations\u001b[1;34m()\u001b[0m\n",
      "\u001b[1;31mTypeError\u001b[0m: unhashable type: 'list'"
     ]
    },
    {
     "name": "stderr",
     "output_type": "stream",
     "text": [
      "Exception ignored in: 'pandas._libs.index.IndexEngine._call_map_locations'\n",
      "Traceback (most recent call last):\n",
      "  File \"pandas\\_libs\\hashtable_class_helper.pxi\", line 5231, in pandas._libs.hashtable.PyObjectHashTable.map_locations\n",
      "TypeError: unhashable type: 'list'\n"
     ]
    },
    {
     "data": {
      "text/plain": [
       "NaN                     11934\n",
       "[\\n4 (Green)\\n]          3553\n",
       "[\\n1 (No sticker)\\n]      381\n",
       "[[], [], []]               40\n",
       "[\\n5 (Blue)\\n]              8\n",
       "[\\n3 (Yellow)\\n]            2\n",
       "[\\n2 (Red)\\n]               1\n",
       "Name: Emission Label, dtype: int64"
      ]
     },
     "execution_count": 174,
     "metadata": {},
     "output_type": "execute_result"
    }
   ],
   "source": [
    "df['Emission Label'].value_counts(dropna = False)"
   ]
  },
  {
   "cell_type": "code",
   "execution_count": 175,
   "id": "1303ebfa",
   "metadata": {},
   "outputs": [
    {
     "data": {
      "text/plain": [
       "Euro 6          10139\n",
       "NaN              3628\n",
       "Euro 6d-TEMP     1845\n",
       "Euro 6c           127\n",
       "Euro 5             78\n",
       "Euro 6d            62\n",
       "Euro 4             40\n",
       "Name: Emission Class, dtype: int64"
      ]
     },
     "execution_count": 175,
     "metadata": {},
     "output_type": "execute_result"
    }
   ],
   "source": [
    "df['Emission Class'].value_counts(dropna = False)"
   ]
  },
  {
   "cell_type": "code",
   "execution_count": 176,
   "id": "6ee1cdfe",
   "metadata": {},
   "outputs": [],
   "source": [
    "# emisyon class ile emisyon label benzer işlevi yerine getiriyor. Ayrıca emisyon class daha dolu \n",
    "# bir sütun dolayısı ile emisyon label düşülebilir"
   ]
  },
  {
   "cell_type": "code",
   "execution_count": 177,
   "id": "dc6407e1",
   "metadata": {},
   "outputs": [],
   "source": [
    "df.drop(columns= 'Emission Label', inplace=True)"
   ]
  },
  {
   "cell_type": "code",
   "execution_count": 178,
   "id": "5d53384d",
   "metadata": {},
   "outputs": [
    {
     "data": {
      "text/plain": [
       "Index(['make_model', 'body_type', 'price', 'vat', 'km', 'registration',\n",
       "       'prev_owner', 'hp', 'Make', 'Model', 'Body Color', 'Upholstery', 'Body',\n",
       "       'Nr. of Doors', 'Nr. of Seats', 'Gearing Type', 'Displacement',\n",
       "       'Weight', 'Drive chain', 'Consumption', 'CO2 Emission',\n",
       "       'Emission Class', 'comfort', 'media', 'Extras', 'Safety & Security',\n",
       "       'Gears', 'Country version', 'Vehicle condition', 'particul_filter',\n",
       "       'Fuel Type'],\n",
       "      dtype='object')"
      ]
     },
     "execution_count": 178,
     "metadata": {},
     "output_type": "execute_result"
    }
   ],
   "source": [
    "df.columns"
   ]
  },
  {
   "cell_type": "markdown",
   "id": "30f1a8fa",
   "metadata": {},
   "source": [
    "### 'Gears' "
   ]
  },
  {
   "cell_type": "code",
   "execution_count": 179,
   "id": "8c2c411a",
   "metadata": {},
   "outputs": [
    {
     "data": {
      "text/plain": [
       "0           None\n",
       "1        [\\n7\\n]\n",
       "2           None\n",
       "3        [\\n6\\n]\n",
       "4           None\n",
       "          ...   \n",
       "15914    [\\n6\\n]\n",
       "15915    [\\n7\\n]\n",
       "15916    [\\n6\\n]\n",
       "15917    [\\n6\\n]\n",
       "15918       None\n",
       "Name: Gears, Length: 15919, dtype: object"
      ]
     },
     "execution_count": 179,
     "metadata": {},
     "output_type": "execute_result"
    }
   ],
   "source": [
    "df.Gears\n",
    "# araçların vites sayısını içeriyor"
   ]
  },
  {
   "cell_type": "code",
   "execution_count": 180,
   "id": "dd339359",
   "metadata": {},
   "outputs": [
    {
     "ename": "TypeError",
     "evalue": "unhashable type: 'list'",
     "output_type": "error",
     "traceback": [
      "\u001b[1;31m---------------------------------------------------------------------------\u001b[0m",
      "\u001b[1;31mTypeError\u001b[0m                                 Traceback (most recent call last)",
      "\u001b[1;32mpandas\\_libs\\hashtable_class_helper.pxi\u001b[0m in \u001b[0;36mpandas._libs.hashtable.PyObjectHashTable.map_locations\u001b[1;34m()\u001b[0m\n",
      "\u001b[1;31mTypeError\u001b[0m: unhashable type: 'list'"
     ]
    },
    {
     "name": "stderr",
     "output_type": "stream",
     "text": [
      "Exception ignored in: 'pandas._libs.index.IndexEngine._call_map_locations'\n",
      "Traceback (most recent call last):\n",
      "  File \"pandas\\_libs\\hashtable_class_helper.pxi\", line 5231, in pandas._libs.hashtable.PyObjectHashTable.map_locations\n",
      "TypeError: unhashable type: 'list'\n"
     ]
    },
    {
     "data": {
      "text/plain": [
       "[\\n6\\n]     5822\n",
       "NaN         4712\n",
       "[\\n5\\n]     3239\n",
       "[\\n7\\n]     1908\n",
       "[\\n8\\n]      224\n",
       "[\\n9\\n]        6\n",
       "[\\n1\\n]        2\n",
       "[\\n3\\n]        2\n",
       "[\\n4\\n]        2\n",
       "[\\n2\\n]        1\n",
       "[\\n50\\n]       1\n",
       "Name: Gears, dtype: int64"
      ]
     },
     "execution_count": 180,
     "metadata": {},
     "output_type": "execute_result"
    }
   ],
   "source": [
    "df.Gears.value_counts(dropna = False)"
   ]
  },
  {
   "cell_type": "code",
   "execution_count": 181,
   "id": "a556ee3a",
   "metadata": {},
   "outputs": [],
   "source": [
    "df.Gears = df.Gears.map(lambda x: x[0].strip(\"\\n\"),na_action='ignore')"
   ]
  },
  {
   "cell_type": "code",
   "execution_count": 182,
   "id": "bda92a08",
   "metadata": {},
   "outputs": [
    {
     "data": {
      "text/plain": [
       "6      5822\n",
       "NaN    4712\n",
       "5      3239\n",
       "7      1908\n",
       "8       224\n",
       "9         6\n",
       "1         2\n",
       "3         2\n",
       "4         2\n",
       "2         1\n",
       "50        1\n",
       "Name: Gears, dtype: int64"
      ]
     },
     "execution_count": 182,
     "metadata": {},
     "output_type": "execute_result"
    }
   ],
   "source": [
    "df.Gears.value_counts(dropna=False)"
   ]
  },
  {
   "cell_type": "code",
   "execution_count": 183,
   "id": "95519674",
   "metadata": {},
   "outputs": [
    {
     "data": {
      "text/plain": [
       "14495    50\n",
       "Name: Gears, dtype: object"
      ]
     },
     "execution_count": 183,
     "metadata": {},
     "output_type": "execute_result"
    }
   ],
   "source": [
    "df[df.Gears == '50'].Gears"
   ]
  },
  {
   "cell_type": "code",
   "execution_count": 184,
   "id": "e9aa521b",
   "metadata": {},
   "outputs": [],
   "source": [
    "df.Gears.iloc[14495] = '5'"
   ]
  },
  {
   "cell_type": "code",
   "execution_count": 185,
   "id": "c5dd5549",
   "metadata": {},
   "outputs": [
    {
     "data": {
      "text/plain": [
       "6      5822\n",
       "NaN    4712\n",
       "5      3240\n",
       "7      1908\n",
       "8       224\n",
       "9         6\n",
       "1         2\n",
       "3         2\n",
       "4         2\n",
       "2         1\n",
       "Name: Gears, dtype: int64"
      ]
     },
     "execution_count": 185,
     "metadata": {},
     "output_type": "execute_result"
    }
   ],
   "source": [
    "df.Gears.value_counts(dropna = False)"
   ]
  },
  {
   "cell_type": "code",
   "execution_count": 186,
   "id": "200eb9f1",
   "metadata": {},
   "outputs": [
    {
     "data": {
      "text/plain": [
       "4712"
      ]
     },
     "execution_count": 186,
     "metadata": {},
     "output_type": "execute_result"
    }
   ],
   "source": [
    "df.Gears.isnull().sum()"
   ]
  },
  {
   "cell_type": "markdown",
   "id": "ba6d075d",
   "metadata": {},
   "source": [
    "### 'Country version'"
   ]
  },
  {
   "cell_type": "code",
   "execution_count": 187,
   "id": "3db5a697",
   "metadata": {},
   "outputs": [
    {
     "ename": "TypeError",
     "evalue": "unhashable type: 'list'",
     "output_type": "error",
     "traceback": [
      "\u001b[1;31m---------------------------------------------------------------------------\u001b[0m",
      "\u001b[1;31mTypeError\u001b[0m                                 Traceback (most recent call last)",
      "\u001b[1;32mpandas\\_libs\\hashtable_class_helper.pxi\u001b[0m in \u001b[0;36mpandas._libs.hashtable.PyObjectHashTable.map_locations\u001b[1;34m()\u001b[0m\n",
      "\u001b[1;31mTypeError\u001b[0m: unhashable type: 'list'"
     ]
    },
    {
     "name": "stderr",
     "output_type": "stream",
     "text": [
      "Exception ignored in: 'pandas._libs.index.IndexEngine._call_map_locations'\n",
      "Traceback (most recent call last):\n",
      "  File \"pandas\\_libs\\hashtable_class_helper.pxi\", line 5231, in pandas._libs.hashtable.PyObjectHashTable.map_locations\n",
      "TypeError: unhashable type: 'list'\n"
     ]
    },
    {
     "data": {
      "text/plain": [
       "NaN                     8333\n",
       "[\\nGermany\\n]           4502\n",
       "[\\nItaly\\n]             1038\n",
       "[\\nEuropean Union\\n]     507\n",
       "[\\nNetherlands\\n]        464\n",
       "[\\nSpain\\n]              325\n",
       "[\\nBelgium\\n]            314\n",
       "[\\nAustria\\n]            208\n",
       "[\\nCzech Republic\\n]      52\n",
       "[\\nPoland\\n]              49\n",
       "[\\nFrance\\n]              38\n",
       "[\\nDenmark\\n]             33\n",
       "[\\nHungary\\n]             28\n",
       "[\\nJapan\\n]                8\n",
       "[\\nSlovakia\\n]             4\n",
       "[\\nCroatia\\n]              4\n",
       "[\\nSweden\\n]               3\n",
       "[\\nRomania\\n]              2\n",
       "[\\nBulgaria\\n]             2\n",
       "[\\nLuxembourg\\n]           1\n",
       "[\\nSwitzerland\\n]          1\n",
       "[\\nSlovenia\\n]             1\n",
       "[\\nEgypt\\n]                1\n",
       "[\\nSerbia\\n]               1\n",
       "Name: Country version, dtype: int64"
      ]
     },
     "execution_count": 187,
     "metadata": {},
     "output_type": "execute_result"
    }
   ],
   "source": [
    "df['Country version'].value_counts(dropna = False)"
   ]
  },
  {
   "cell_type": "code",
   "execution_count": 188,
   "id": "f5bd6314",
   "metadata": {},
   "outputs": [
    {
     "data": {
      "text/plain": [
       "0           None\n",
       "1           None\n",
       "2           None\n",
       "3           None\n",
       "4        Germany\n",
       "          ...   \n",
       "15914       None\n",
       "15915    Germany\n",
       "15916    Austria\n",
       "15917       None\n",
       "15918    Germany\n",
       "Name: Country version, Length: 15919, dtype: object"
      ]
     },
     "execution_count": 188,
     "metadata": {},
     "output_type": "execute_result"
    }
   ],
   "source": [
    "df['Country version'].map(lambda x: x[0].strip('\\n'),na_action='ignore')"
   ]
  },
  {
   "cell_type": "code",
   "execution_count": 189,
   "id": "9d6a9adf",
   "metadata": {},
   "outputs": [
    {
     "data": {
      "text/plain": [
       "Series([], Name: body_type, dtype: int64)"
      ]
     },
     "execution_count": 189,
     "metadata": {},
     "output_type": "execute_result"
    }
   ],
   "source": [
    "df[df.make_model=='Audio A3'].body_type.value_counts(dropna=False)"
   ]
  },
  {
   "cell_type": "code",
   "execution_count": 190,
   "id": "94ec389e",
   "metadata": {},
   "outputs": [
    {
     "data": {
      "text/html": [
       "<div>\n",
       "<style scoped>\n",
       "    .dataframe tbody tr th:only-of-type {\n",
       "        vertical-align: middle;\n",
       "    }\n",
       "\n",
       "    .dataframe tbody tr th {\n",
       "        vertical-align: top;\n",
       "    }\n",
       "\n",
       "    .dataframe thead th {\n",
       "        text-align: right;\n",
       "    }\n",
       "</style>\n",
       "<table border=\"1\" class=\"dataframe\">\n",
       "  <thead>\n",
       "    <tr style=\"text-align: right;\">\n",
       "      <th></th>\n",
       "      <th>body_type</th>\n",
       "      <th>make_model</th>\n",
       "    </tr>\n",
       "  </thead>\n",
       "  <tbody>\n",
       "    <tr>\n",
       "      <th>3175</th>\n",
       "      <td>None</td>\n",
       "      <td>Audi A3</td>\n",
       "    </tr>\n",
       "    <tr>\n",
       "      <th>3255</th>\n",
       "      <td>None</td>\n",
       "      <td>Audi A3</td>\n",
       "    </tr>\n",
       "    <tr>\n",
       "      <th>3975</th>\n",
       "      <td>None</td>\n",
       "      <td>Audi A3</td>\n",
       "    </tr>\n",
       "    <tr>\n",
       "      <th>3997</th>\n",
       "      <td>None</td>\n",
       "      <td>Audi A3</td>\n",
       "    </tr>\n",
       "    <tr>\n",
       "      <th>4206</th>\n",
       "      <td>None</td>\n",
       "      <td>Audi A3</td>\n",
       "    </tr>\n",
       "    <tr>\n",
       "      <th>4297</th>\n",
       "      <td>None</td>\n",
       "      <td>Audi A3</td>\n",
       "    </tr>\n",
       "    <tr>\n",
       "      <th>4298</th>\n",
       "      <td>None</td>\n",
       "      <td>Audi A3</td>\n",
       "    </tr>\n",
       "  </tbody>\n",
       "</table>\n",
       "</div>"
      ],
      "text/plain": [
       "     body_type make_model\n",
       "3175      None    Audi A3\n",
       "3255      None    Audi A3\n",
       "3975      None    Audi A3\n",
       "3997      None    Audi A3\n",
       "4206      None    Audi A3\n",
       "4297      None    Audi A3\n",
       "4298      None    Audi A3"
      ]
     },
     "execution_count": 190,
     "metadata": {},
     "output_type": "execute_result"
    }
   ],
   "source": [
    "df[(df.body_type.isnull())&(df.make_model == 'Audi A3')][['body_type','make_model']]"
   ]
  },
  {
   "cell_type": "code",
   "execution_count": 191,
   "id": "862754b1",
   "metadata": {},
   "outputs": [],
   "source": [
    "imputer=SimpleImputer(missing_values=np.nan,strategy=\"most_frequent\")"
   ]
  },
  {
   "cell_type": "code",
   "execution_count": 192,
   "id": "99208984",
   "metadata": {},
   "outputs": [
    {
     "data": {
      "text/plain": [
       "array([['Sedans'],\n",
       "       ['Sedans'],\n",
       "       ['Sedans'],\n",
       "       ...,\n",
       "       ['Van'],\n",
       "       ['Van'],\n",
       "       ['Van']], dtype=object)"
      ]
     },
     "execution_count": 192,
     "metadata": {},
     "output_type": "execute_result"
    }
   ],
   "source": [
    "df.body_type.values.reshape(-1,1)"
   ]
  },
  {
   "cell_type": "code",
   "execution_count": 193,
   "id": "5385c5e2",
   "metadata": {},
   "outputs": [
    {
     "data": {
      "text/plain": [
       "array([['Sedans'],\n",
       "       ['Sedans'],\n",
       "       ['Sedans'],\n",
       "       ...,\n",
       "       ['Van'],\n",
       "       ['Van'],\n",
       "       ['Van']], dtype=object)"
      ]
     },
     "execution_count": 193,
     "metadata": {},
     "output_type": "execute_result"
    }
   ],
   "source": [
    "df[['body_type']].values\n"
   ]
  },
  {
   "cell_type": "code",
   "execution_count": 194,
   "id": "993c11d1",
   "metadata": {},
   "outputs": [
    {
     "data": {
      "text/plain": [
       "Sedans           7963\n",
       "Station wagon    3553\n",
       "Compact          3153\n",
       "Van               783\n",
       "Other             290\n",
       "Transporter        88\n",
       "Off-Road           56\n",
       "Coupe              25\n",
       "Convertible         8\n",
       "Name: body_type, dtype: int64"
      ]
     },
     "execution_count": 194,
     "metadata": {},
     "output_type": "execute_result"
    }
   ],
   "source": [
    "imputer = SimpleImputer(missing_values=None, strategy='most_frequent')\n",
    "\n",
    "df.body_type = imputer.fit_transform(df['body_type'].values.reshape(-1,1))[:,0]\n",
    "\n",
    "df.body_type.value_counts(dropna=False)\n"
   ]
  },
  {
   "cell_type": "code",
   "execution_count": 195,
   "id": "175e9451",
   "metadata": {},
   "outputs": [
    {
     "data": {
      "text/plain": [
       "Sedans           8253\n",
       "Station wagon    3553\n",
       "Compact          3153\n",
       "Van               783\n",
       "Transporter        88\n",
       "Off-Road           56\n",
       "Coupe              25\n",
       "Convertible         8\n",
       "Name: body_type, dtype: int64"
      ]
     },
     "execution_count": 195,
     "metadata": {},
     "output_type": "execute_result"
    }
   ],
   "source": [
    "imputer = SimpleImputer(missing_values=\"Other\", strategy='most_frequent')\n",
    "\n",
    "df.body_type = imputer.fit_transform(df[['body_type']].values)[:,0]\n",
    "\n",
    "df.body_type.value_counts(dropna=False)\n",
    "\n",
    "# emir hocam: df[['body_type']].values  çift boyut yaptık tek i."
   ]
  },
  {
   "cell_type": "code",
   "execution_count": 196,
   "id": "97b52666",
   "metadata": {},
   "outputs": [
    {
     "data": {
      "image/png": "[encoded data removed]",
      "text/plain": [
       "<Figure size 864x576 with 1 Axes>"
      ]
     },
     "metadata": {
      "needs_background": "light"
     },
     "output_type": "display_data"
    }
   ],
   "source": [
    "plt.figure(figsize = (12,8))\n",
    "sns.boxplot(data=df,y=np.log(df.price),x=\"make_model\",whis=2.3)\n",
    "plt.xticks(rotation=45)\n",
    "plt.show()"
   ]
  },
  {
   "cell_type": "code",
   "execution_count": 197,
   "id": "be9091fb",
   "metadata": {},
   "outputs": [
    {
     "data": {
      "text/plain": [
       "39875      1\n",
       "20825      1\n",
       "26795      1\n",
       "27116      1\n",
       "27225      1\n",
       "        ... \n",
       "17990    102\n",
       "15900    106\n",
       "10990    139\n",
       "15990    151\n",
       "14990    154\n",
       "Name: price, Length: 2956, dtype: int64"
      ]
     },
     "execution_count": 197,
     "metadata": {},
     "output_type": "execute_result"
    }
   ],
   "source": [
    "df.price.value_counts(ascending=True)"
   ]
  },
  {
   "cell_type": "code",
   "execution_count": 198,
   "id": "4f612ed6",
   "metadata": {},
   "outputs": [
    {
     "data": {
      "text/plain": [
       "[8594, 8828, 6066, 8829, 8827]"
      ]
     },
     "execution_count": 198,
     "metadata": {},
     "output_type": "execute_result"
    }
   ],
   "source": [
    "outlier_price=list(df.price.sort_values().head().index)\n",
    "outlier_price"
   ]
  },
  {
   "cell_type": "code",
   "execution_count": 199,
   "id": "7916d959",
   "metadata": {},
   "outputs": [],
   "source": [
    "df.drop(index=outlier_price,axis=0,inplace=True)"
   ]
  },
  {
   "cell_type": "code",
   "execution_count": 200,
   "id": "a5c84980",
   "metadata": {},
   "outputs": [
    {
     "data": {
      "text/plain": [
       "8825     4990\n",
       "8826     5250\n",
       "8824     5300\n",
       "13770    5445\n",
       "Name: price, dtype: int64"
      ]
     },
     "execution_count": 200,
     "metadata": {},
     "output_type": "execute_result"
    }
   ],
   "source": [
    "df.price.nsmallest(4)"
   ]
  },
  {
   "cell_type": "code",
   "execution_count": 201,
   "id": "f5eacae9",
   "metadata": {},
   "outputs": [
    {
     "data": {
      "text/plain": [
       "3648     74600\n",
       "15826    68320\n",
       "3649     67600\n",
       "3587     64900\n",
       "15828    64332\n",
       "Name: price, dtype: int64"
      ]
     },
     "execution_count": 201,
     "metadata": {},
     "output_type": "execute_result"
    }
   ],
   "source": [
    "df.price.nlargest()"
   ]
  },
  {
   "cell_type": "code",
   "execution_count": 202,
   "id": "7b174d4e",
   "metadata": {},
   "outputs": [
    {
     "data": {
      "image/png": "[encoded data removed]",
      "text/plain": [
       "<Figure size 864x576 with 1 Axes>"
      ]
     },
     "metadata": {
      "needs_background": "light"
     },
     "output_type": "display_data"
    }
   ],
   "source": [
    "plt.figure(figsize = (12,8))\n",
    "sns.boxplot(data=df,y=np.log(df.price),x=\"make_model\",whis=2.3)\n",
    "plt.xticks(rotation=45)\n",
    "plt.show()"
   ]
  },
  {
   "cell_type": "code",
   "execution_count": 203,
   "id": "570b8fae",
   "metadata": {},
   "outputs": [
    {
     "data": {
      "text/plain": [
       "1024"
      ]
     },
     "execution_count": 203,
     "metadata": {},
     "output_type": "execute_result"
    }
   ],
   "source": [
    "df.km.isnull().sum()"
   ]
  },
  {
   "cell_type": "code",
   "execution_count": 204,
   "id": "e6d2e4a3",
   "metadata": {},
   "outputs": [
    {
     "data": {
      "text/plain": [
       "NaT           838\n",
       "2019-02-01     32\n",
       "2019-06-01     26\n",
       "2019-04-01     25\n",
       "2019-03-01     23\n",
       "2019-05-01     22\n",
       "2019-01-01     17\n",
       "2018-06-01      6\n",
       "2018-12-01      6\n",
       "2018-08-01      6\n",
       "2018-07-01      5\n",
       "2018-02-01      4\n",
       "2018-05-01      3\n",
       "2019-07-01      2\n",
       "2018-04-01      2\n",
       "2018-10-01      2\n",
       "2018-09-01      1\n",
       "2017-12-01      1\n",
       "2018-01-01      1\n",
       "2018-11-01      1\n",
       "2018-03-01      1\n",
       "Name: registration, dtype: int64"
      ]
     },
     "execution_count": 204,
     "metadata": {},
     "output_type": "execute_result"
    }
   ],
   "source": [
    "df[df.km.isnull()].registration.value_counts(dropna=False)\n"
   ]
  },
  {
   "cell_type": "code",
   "execution_count": 205,
   "id": "7e61cb37",
   "metadata": {},
   "outputs": [
    {
     "data": {
      "text/plain": [
       "dtype('<M8[ns]')"
      ]
     },
     "execution_count": 205,
     "metadata": {},
     "output_type": "execute_result"
    }
   ],
   "source": [
    "df.registration.dtype"
   ]
  },
  {
   "cell_type": "code",
   "execution_count": 206,
   "id": "dcc3a39f",
   "metadata": {},
   "outputs": [
    {
     "data": {
      "text/plain": [
       "Index(['make_model', 'body_type', 'price', 'vat', 'km', 'registration',\n",
       "       'prev_owner', 'hp', 'Make', 'Model', 'Body Color', 'Upholstery', 'Body',\n",
       "       'Nr. of Doors', 'Nr. of Seats', 'Gearing Type', 'Displacement',\n",
       "       'Weight', 'Drive chain', 'Consumption', 'CO2 Emission',\n",
       "       'Emission Class', 'comfort', 'media', 'Extras', 'Safety & Security',\n",
       "       'Gears', 'Country version', 'Vehicle condition', 'particul_filter',\n",
       "       'Fuel Type'],\n",
       "      dtype='object')"
      ]
     },
     "execution_count": 206,
     "metadata": {},
     "output_type": "execute_result"
    }
   ],
   "source": [
    "df.columns"
   ]
  },
  {
   "cell_type": "code",
   "execution_count": 207,
   "id": "5534a76d",
   "metadata": {},
   "outputs": [
    {
     "data": {
      "text/plain": [
       "registration  Vehicle condition\n",
       "NaT           New                  834\n",
       "2019-02-01    Pre-registered        27\n",
       "2019-04-01    Pre-registered        15\n",
       "2019-03-01    Pre-registered        15\n",
       "2019-01-01    Pre-registered        13\n",
       "2019-05-01    Pre-registered        13\n",
       "2019-06-01    New                   12\n",
       "2019-03-01    Demonstration          8\n",
       "2019-06-01    Demonstration          8\n",
       "2019-05-01    Demonstration          8\n",
       "2018-06-01    Pre-registered         6\n",
       "2019-06-01    Pre-registered         6\n",
       "2019-04-01    Demonstration          6\n",
       "2018-12-01    Pre-registered         6\n",
       "2018-07-01    Used                   4\n",
       "2018-08-01    Pre-registered         4\n",
       "2019-02-01    Employee's car         2\n",
       "2018-08-01    Used                   2\n",
       "2019-02-01    Used                   2\n",
       "2018-04-01    Pre-registered         2\n",
       "2019-01-01    Demonstration          2\n",
       "2019-04-01    Employee's car         2\n",
       "2018-02-01    Used                   2\n",
       "              Pre-registered         2\n",
       "2017-12-01    Used                   1\n",
       "2019-05-01    Employee's car         1\n",
       "2019-07-01    Pre-registered         1\n",
       "              Used                   1\n",
       "NaT           Employee's car         1\n",
       "              Pre-registered         1\n",
       "              Used                   1\n",
       "2019-04-01    Used                   1\n",
       "2019-02-01    Demonstration          1\n",
       "2019-04-01    New                    1\n",
       "2018-01-01    Pre-registered         1\n",
       "2019-01-01    New                    1\n",
       "              Employee's car         1\n",
       "2018-11-01    Pre-registered         1\n",
       "2018-10-01    Pre-registered         1\n",
       "              New                    1\n",
       "2018-09-01    Pre-registered         1\n",
       "2018-07-01    Pre-registered         1\n",
       "2018-05-01    Used                   1\n",
       "              Pre-registered         1\n",
       "              Employee's car         1\n",
       "2018-03-01    Pre-registered         1\n",
       "NaT           NaN                    1\n",
       "dtype: int64"
      ]
     },
     "execution_count": 207,
     "metadata": {},
     "output_type": "execute_result"
    }
   ],
   "source": [
    "df[df.km.isnull()][['registration','Vehicle condition']].value_counts(dropna = False)"
   ]
  },
  {
   "cell_type": "code",
   "execution_count": 208,
   "id": "3675f95e",
   "metadata": {},
   "outputs": [
    {
     "data": {
      "text/plain": [
       "10.0       1044\n",
       "NaN        1024\n",
       "1.0         367\n",
       "5.0         170\n",
       "50.0        148\n",
       "           ... \n",
       "43197.0       1\n",
       "10027.0       1\n",
       "35882.0       1\n",
       "57840.0       1\n",
       "57.0          1\n",
       "Name: km, Length: 6688, dtype: int64"
      ]
     },
     "execution_count": 208,
     "metadata": {},
     "output_type": "execute_result"
    }
   ],
   "source": [
    "df.km.value_counts(dropna=False)"
   ]
  },
  {
   "cell_type": "code",
   "execution_count": 209,
   "id": "a91bd22d",
   "metadata": {},
   "outputs": [],
   "source": [
    "# df.km = df.km.fillna(0)"
   ]
  },
  {
   "cell_type": "code",
   "execution_count": 223,
   "id": "b00bfded",
   "metadata": {
    "scrolled": true
   },
   "outputs": [
    {
     "ename": "SyntaxError",
     "evalue": "invalid syntax (Temp/ipykernel_1980/3197456111.py, line 1)",
     "output_type": "error",
     "traceback": [
      "\u001b[1;36m  File \u001b[1;32m\"C:\\Users\\JOSEPH~1\\AppData\\Local\\Temp/ipykernel_1980/3197456111.py\"\u001b[1;36m, line \u001b[1;32m1\u001b[0m\n\u001b[1;33m    df[(df.km.isnull()) & (df.registration.isnull())].km.map(lambda x:  0 if x is None else pass)\u001b[0m\n\u001b[1;37m                                                                                            ^\u001b[0m\n\u001b[1;31mSyntaxError\u001b[0m\u001b[1;31m:\u001b[0m invalid syntax\n"
     ]
    }
   ],
   "source": [
    "df[(df.km.isnull()) & (df.registration.isnull())].km.map(lambda x:  0 if x is None else )\n"
   ]
  },
  {
   "cell_type": "code",
   "execution_count": 211,
   "id": "eb8e0c20",
   "metadata": {},
   "outputs": [
    {
     "data": {
      "text/html": [
       "<div>\n",
       "<style scoped>\n",
       "    .dataframe tbody tr th:only-of-type {\n",
       "        vertical-align: middle;\n",
       "    }\n",
       "\n",
       "    .dataframe tbody tr th {\n",
       "        vertical-align: top;\n",
       "    }\n",
       "\n",
       "    .dataframe thead th {\n",
       "        text-align: right;\n",
       "    }\n",
       "</style>\n",
       "<table border=\"1\" class=\"dataframe\">\n",
       "  <thead>\n",
       "    <tr style=\"text-align: right;\">\n",
       "      <th></th>\n",
       "      <th>Missing_Number</th>\n",
       "      <th>Missing_Percent</th>\n",
       "    </tr>\n",
       "  </thead>\n",
       "  <tbody>\n",
       "    <tr>\n",
       "      <th>Country version</th>\n",
       "      <td>8330</td>\n",
       "      <td>0.523438</td>\n",
       "    </tr>\n",
       "    <tr>\n",
       "      <th>Weight</th>\n",
       "      <td>6974</td>\n",
       "      <td>0.438230</td>\n",
       "    </tr>\n",
       "    <tr>\n",
       "      <th>Drive chain</th>\n",
       "      <td>6853</td>\n",
       "      <td>0.430627</td>\n",
       "    </tr>\n",
       "    <tr>\n",
       "      <th>prev_owner</th>\n",
       "      <td>6823</td>\n",
       "      <td>0.428742</td>\n",
       "    </tr>\n",
       "    <tr>\n",
       "      <th>Upholstery</th>\n",
       "      <td>4868</td>\n",
       "      <td>0.305894</td>\n",
       "    </tr>\n",
       "    <tr>\n",
       "      <th>Gears</th>\n",
       "      <td>4712</td>\n",
       "      <td>0.296091</td>\n",
       "    </tr>\n",
       "    <tr>\n",
       "      <th>Emission Class</th>\n",
       "      <td>3627</td>\n",
       "      <td>0.227913</td>\n",
       "    </tr>\n",
       "    <tr>\n",
       "      <th>Extras</th>\n",
       "      <td>2962</td>\n",
       "      <td>0.186125</td>\n",
       "    </tr>\n",
       "    <tr>\n",
       "      <th>CO2 Emission</th>\n",
       "      <td>2435</td>\n",
       "      <td>0.153010</td>\n",
       "    </tr>\n",
       "    <tr>\n",
       "      <th>Consumption</th>\n",
       "      <td>1905</td>\n",
       "      <td>0.119706</td>\n",
       "    </tr>\n",
       "    <tr>\n",
       "      <th>registration</th>\n",
       "      <td>1597</td>\n",
       "      <td>0.100352</td>\n",
       "    </tr>\n",
       "    <tr>\n",
       "      <th>media</th>\n",
       "      <td>1374</td>\n",
       "      <td>0.086339</td>\n",
       "    </tr>\n",
       "    <tr>\n",
       "      <th>km</th>\n",
       "      <td>1024</td>\n",
       "      <td>0.064346</td>\n",
       "    </tr>\n",
       "    <tr>\n",
       "      <th>Safety &amp; Security</th>\n",
       "      <td>982</td>\n",
       "      <td>0.061707</td>\n",
       "    </tr>\n",
       "    <tr>\n",
       "      <th>Nr. of Seats</th>\n",
       "      <td>977</td>\n",
       "      <td>0.061392</td>\n",
       "    </tr>\n",
       "    <tr>\n",
       "      <th>comfort</th>\n",
       "      <td>920</td>\n",
       "      <td>0.057811</td>\n",
       "    </tr>\n",
       "    <tr>\n",
       "      <th>Displacement</th>\n",
       "      <td>642</td>\n",
       "      <td>0.040342</td>\n",
       "    </tr>\n",
       "    <tr>\n",
       "      <th>Body Color</th>\n",
       "      <td>597</td>\n",
       "      <td>0.037514</td>\n",
       "    </tr>\n",
       "    <tr>\n",
       "      <th>Nr. of Doors</th>\n",
       "      <td>212</td>\n",
       "      <td>0.013322</td>\n",
       "    </tr>\n",
       "    <tr>\n",
       "      <th>hp</th>\n",
       "      <td>88</td>\n",
       "      <td>0.005530</td>\n",
       "    </tr>\n",
       "    <tr>\n",
       "      <th>Body</th>\n",
       "      <td>60</td>\n",
       "      <td>0.003770</td>\n",
       "    </tr>\n",
       "    <tr>\n",
       "      <th>Vehicle condition</th>\n",
       "      <td>2</td>\n",
       "      <td>0.000126</td>\n",
       "    </tr>\n",
       "    <tr>\n",
       "      <th>Fuel Type</th>\n",
       "      <td>2</td>\n",
       "      <td>0.000126</td>\n",
       "    </tr>\n",
       "    <tr>\n",
       "      <th>particul_filter</th>\n",
       "      <td>0</td>\n",
       "      <td>0.000000</td>\n",
       "    </tr>\n",
       "    <tr>\n",
       "      <th>make_model</th>\n",
       "      <td>0</td>\n",
       "      <td>0.000000</td>\n",
       "    </tr>\n",
       "    <tr>\n",
       "      <th>body_type</th>\n",
       "      <td>0</td>\n",
       "      <td>0.000000</td>\n",
       "    </tr>\n",
       "    <tr>\n",
       "      <th>Model</th>\n",
       "      <td>0</td>\n",
       "      <td>0.000000</td>\n",
       "    </tr>\n",
       "    <tr>\n",
       "      <th>Make</th>\n",
       "      <td>0</td>\n",
       "      <td>0.000000</td>\n",
       "    </tr>\n",
       "    <tr>\n",
       "      <th>vat</th>\n",
       "      <td>0</td>\n",
       "      <td>0.000000</td>\n",
       "    </tr>\n",
       "    <tr>\n",
       "      <th>price</th>\n",
       "      <td>0</td>\n",
       "      <td>0.000000</td>\n",
       "    </tr>\n",
       "    <tr>\n",
       "      <th>Gearing Type</th>\n",
       "      <td>0</td>\n",
       "      <td>0.000000</td>\n",
       "    </tr>\n",
       "  </tbody>\n",
       "</table>\n",
       "</div>"
      ],
      "text/plain": [
       "                   Missing_Number  Missing_Percent\n",
       "Country version              8330         0.523438\n",
       "Weight                       6974         0.438230\n",
       "Drive chain                  6853         0.430627\n",
       "prev_owner                   6823         0.428742\n",
       "Upholstery                   4868         0.305894\n",
       "Gears                        4712         0.296091\n",
       "Emission Class               3627         0.227913\n",
       "Extras                       2962         0.186125\n",
       "CO2 Emission                 2435         0.153010\n",
       "Consumption                  1905         0.119706\n",
       "registration                 1597         0.100352\n",
       "media                        1374         0.086339\n",
       "km                           1024         0.064346\n",
       "Safety & Security             982         0.061707\n",
       "Nr. of Seats                  977         0.061392\n",
       "comfort                       920         0.057811\n",
       "Displacement                  642         0.040342\n",
       "Body Color                    597         0.037514\n",
       "Nr. of Doors                  212         0.013322\n",
       "hp                             88         0.005530\n",
       "Body                           60         0.003770\n",
       "Vehicle condition               2         0.000126\n",
       "Fuel Type                       2         0.000126\n",
       "particul_filter                 0         0.000000\n",
       "make_model                      0         0.000000\n",
       "body_type                       0         0.000000\n",
       "Model                           0         0.000000\n",
       "Make                            0         0.000000\n",
       "vat                             0         0.000000\n",
       "price                           0         0.000000\n",
       "Gearing Type                    0         0.000000"
      ]
     },
     "execution_count": 211,
     "metadata": {},
     "output_type": "execute_result"
    }
   ],
   "source": [
    "def missing (df):\n",
    "    missing_number = df.isnull().sum().sort_values(ascending=False)\n",
    "    missing_percent = (df.isnull().sum()/df.isnull().count()).sort_values(ascending=False)\n",
    "    missing_values = pd.concat([missing_number, missing_percent], axis=1, keys=['Missing_Number', 'Missing_Percent'])\n",
    "    return missing_values\n",
    "\n",
    "missing(df)\n"
   ]
  },
  {
   "cell_type": "code",
   "execution_count": 212,
   "id": "60463e04",
   "metadata": {},
   "outputs": [
    {
     "data": {
      "text/plain": [
       "Index(['make_model', 'body_type', 'price', 'vat', 'km', 'registration',\n",
       "       'prev_owner', 'hp', 'Make', 'Model', 'Body Color', 'Upholstery', 'Body',\n",
       "       'Nr. of Doors', 'Nr. of Seats', 'Gearing Type', 'Displacement',\n",
       "       'Weight', 'Drive chain', 'Consumption', 'CO2 Emission',\n",
       "       'Emission Class', 'comfort', 'media', 'Extras', 'Safety & Security',\n",
       "       'Gears', 'Country version', 'Vehicle condition', 'particul_filter',\n",
       "       'Fuel Type'],\n",
       "      dtype='object')"
      ]
     },
     "execution_count": 212,
     "metadata": {},
     "output_type": "execute_result"
    }
   ],
   "source": [
    "df.columns"
   ]
  },
  {
   "cell_type": "code",
   "execution_count": 213,
   "id": "705d5c5b",
   "metadata": {},
   "outputs": [],
   "source": [
    "df.drop(columns='Country version',inplace = True)"
   ]
  },
  {
   "cell_type": "code",
   "execution_count": 214,
   "id": "2d9879a5",
   "metadata": {},
   "outputs": [
    {
     "data": {
      "text/plain": [
       "1024"
      ]
     },
     "execution_count": 214,
     "metadata": {},
     "output_type": "execute_result"
    }
   ],
   "source": [
    "df.km.isnull().sum()"
   ]
  },
  {
   "cell_type": "code",
   "execution_count": 215,
   "id": "b2cba1e5",
   "metadata": {},
   "outputs": [
    {
     "data": {
      "text/plain": [
       "6974"
      ]
     },
     "execution_count": 215,
     "metadata": {},
     "output_type": "execute_result"
    }
   ],
   "source": [
    "df.Weight.isnull().sum()"
   ]
  },
  {
   "cell_type": "code",
   "execution_count": 216,
   "id": "35679db4",
   "metadata": {},
   "outputs": [],
   "source": [
    "df.drop(columns=\"Weight\",inplace=True)"
   ]
  },
  {
   "cell_type": "code",
   "execution_count": 217,
   "id": "a4b1ccb9",
   "metadata": {},
   "outputs": [],
   "source": [
    "gear_list = df[df['Drive chain'].isnull()]['make_model'].value_counts()"
   ]
  },
  {
   "cell_type": "code",
   "execution_count": 218,
   "id": "4660c68e",
   "metadata": {
    "scrolled": true
   },
   "outputs": [
    {
     "data": {
      "text/plain": [
       "Index(['Opel Astra', 'Opel Insignia', 'Audi A3', 'Opel Corsa', 'Renault Clio',\n",
       "       'Audi A1', 'Renault Espace', 'Renault Duster'],\n",
       "      dtype='object')"
      ]
     },
     "execution_count": 218,
     "metadata": {},
     "output_type": "execute_result"
    }
   ],
   "source": [
    "gear_list.index"
   ]
  },
  {
   "cell_type": "code",
   "execution_count": 219,
   "id": "c5ca2e7c",
   "metadata": {},
   "outputs": [
    {
     "data": {
      "text/plain": [
       "743     NaN\n",
       "869     NaN\n",
       "946     NaN\n",
       "977     NaN\n",
       "980     NaN\n",
       "         ..\n",
       "15888   NaN\n",
       "15890   NaN\n",
       "15902   NaN\n",
       "15912   NaN\n",
       "15914   NaN\n",
       "Name: km, Length: 838, dtype: float64"
      ]
     },
     "execution_count": 219,
     "metadata": {},
     "output_type": "execute_result"
    }
   ],
   "source": [
    "df[(df.km.isnull()) & (df.registration.isnull())].km.map(lambda x: 0 if x is None else x)\n"
   ]
  },
  {
   "cell_type": "code",
   "execution_count": null,
   "id": "e69580e2",
   "metadata": {},
   "outputs": [],
   "source": []
  }
 ],
 "metadata": {
  "kernelspec": {
   "display_name": "Python 3 (ipykernel)",
   "language": "python",
   "name": "python3"
  },
  "language_info": {
   "codemirror_mode": {
    "name": "ipython",
    "version": 3
   },
   "file_extension": ".py",
   "mimetype": "text/x-python",
   "name": "python",
   "nbconvert_exporter": "python",
   "pygments_lexer": "ipython3",
   "version": "3.8.11"
  }
 },
 "nbformat": 4,
 "nbformat_minor": 5
}
