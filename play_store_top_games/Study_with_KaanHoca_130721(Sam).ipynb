{
 "cells": [
  {
   "cell_type": "code",
   "execution_count": 58,
   "id": "ea1b11cd",
   "metadata": {},
   "outputs": [],
   "source": [
    "import numpy as np\n",
    "import pandas as pd\n",
    "import seaborn as sns\n",
    "import matplotlib.pyplot as plt\n",
    "from pandas.plotting import register_matplotlib_converters\n",
    "from pylab import rcParams\n",
    "sns.set_style(\"darkgrid\")\n",
    "\n",
    "import warnings\n",
    "warnings.filterwarnings(\"ignore\")"
   ]
  },
  {
   "cell_type": "code",
   "execution_count": 59,
   "id": "6c29626e",
   "metadata": {},
   "outputs": [],
   "source": [
    "import plotly \n",
    "import plotly.express as px\n",
    "import plotly.graph_objs as go\n",
    "import plotly.offline as py\n",
    "from plotly.offline import iplot\n",
    "from plotly.subplots import make_subplots\n",
    "import plotly.figure_factory as ff"
   ]
  },
  {
   "cell_type": "code",
   "execution_count": 60,
   "id": "1c41ab57",
   "metadata": {},
   "outputs": [],
   "source": [
    "df = pd.read_csv(\"android-games.csv\")"
   ]
  },
  {
   "cell_type": "code",
   "execution_count": 61,
   "id": "400f676e",
   "metadata": {},
   "outputs": [
    {
     "data": {
      "text/html": [
       "<div>\n",
       "<style scoped>\n",
       "    .dataframe tbody tr th:only-of-type {\n",
       "        vertical-align: middle;\n",
       "    }\n",
       "\n",
       "    .dataframe tbody tr th {\n",
       "        vertical-align: top;\n",
       "    }\n",
       "\n",
       "    .dataframe thead th {\n",
       "        text-align: right;\n",
       "    }\n",
       "</style>\n",
       "<table border=\"1\" class=\"dataframe\">\n",
       "  <thead>\n",
       "    <tr style=\"text-align: right;\">\n",
       "      <th></th>\n",
       "      <th>rank</th>\n",
       "      <th>title</th>\n",
       "      <th>total ratings</th>\n",
       "      <th>installs</th>\n",
       "      <th>average rating</th>\n",
       "      <th>growth (30 days)</th>\n",
       "      <th>growth (60 days)</th>\n",
       "      <th>price</th>\n",
       "      <th>category</th>\n",
       "      <th>5 star ratings</th>\n",
       "      <th>4 star ratings</th>\n",
       "      <th>3 star ratings</th>\n",
       "      <th>2 star ratings</th>\n",
       "      <th>1 star ratings</th>\n",
       "      <th>paid</th>\n",
       "    </tr>\n",
       "  </thead>\n",
       "  <tbody>\n",
       "    <tr>\n",
       "      <th>0</th>\n",
       "      <td>1</td>\n",
       "      <td>Garena Free Fire- World Series</td>\n",
       "      <td>86273129</td>\n",
       "      <td>500.0 M</td>\n",
       "      <td>4</td>\n",
       "      <td>2.1</td>\n",
       "      <td>6.9</td>\n",
       "      <td>0.0</td>\n",
       "      <td>GAME ACTION</td>\n",
       "      <td>63546766</td>\n",
       "      <td>4949507</td>\n",
       "      <td>3158756</td>\n",
       "      <td>2122183</td>\n",
       "      <td>12495915</td>\n",
       "      <td>False</td>\n",
       "    </tr>\n",
       "    <tr>\n",
       "      <th>1</th>\n",
       "      <td>2</td>\n",
       "      <td>PUBG MOBILE - Traverse</td>\n",
       "      <td>37276732</td>\n",
       "      <td>500.0 M</td>\n",
       "      <td>4</td>\n",
       "      <td>1.8</td>\n",
       "      <td>3.6</td>\n",
       "      <td>0.0</td>\n",
       "      <td>GAME ACTION</td>\n",
       "      <td>28339753</td>\n",
       "      <td>2164478</td>\n",
       "      <td>1253185</td>\n",
       "      <td>809821</td>\n",
       "      <td>4709492</td>\n",
       "      <td>False</td>\n",
       "    </tr>\n",
       "    <tr>\n",
       "      <th>2</th>\n",
       "      <td>3</td>\n",
       "      <td>Mobile Legends: Bang Bang</td>\n",
       "      <td>26663595</td>\n",
       "      <td>100.0 M</td>\n",
       "      <td>4</td>\n",
       "      <td>1.5</td>\n",
       "      <td>3.2</td>\n",
       "      <td>0.0</td>\n",
       "      <td>GAME ACTION</td>\n",
       "      <td>18777988</td>\n",
       "      <td>1812094</td>\n",
       "      <td>1050600</td>\n",
       "      <td>713912</td>\n",
       "      <td>4308998</td>\n",
       "      <td>False</td>\n",
       "    </tr>\n",
       "    <tr>\n",
       "      <th>3</th>\n",
       "      <td>4</td>\n",
       "      <td>Brawl Stars</td>\n",
       "      <td>17971552</td>\n",
       "      <td>100.0 M</td>\n",
       "      <td>4</td>\n",
       "      <td>1.4</td>\n",
       "      <td>4.4</td>\n",
       "      <td>0.0</td>\n",
       "      <td>GAME ACTION</td>\n",
       "      <td>13018610</td>\n",
       "      <td>1552950</td>\n",
       "      <td>774012</td>\n",
       "      <td>406184</td>\n",
       "      <td>2219794</td>\n",
       "      <td>False</td>\n",
       "    </tr>\n",
       "    <tr>\n",
       "      <th>4</th>\n",
       "      <td>5</td>\n",
       "      <td>Sniper 3D: Fun Free Online FPS Shooting Game</td>\n",
       "      <td>14464235</td>\n",
       "      <td>500.0 M</td>\n",
       "      <td>4</td>\n",
       "      <td>0.8</td>\n",
       "      <td>1.5</td>\n",
       "      <td>0.0</td>\n",
       "      <td>GAME ACTION</td>\n",
       "      <td>9827328</td>\n",
       "      <td>2124154</td>\n",
       "      <td>1047741</td>\n",
       "      <td>380670</td>\n",
       "      <td>1084340</td>\n",
       "      <td>False</td>\n",
       "    </tr>\n",
       "  </tbody>\n",
       "</table>\n",
       "</div>"
      ],
      "text/plain": [
       "   rank                                         title  total ratings installs  \\\n",
       "0     1                Garena Free Fire- World Series       86273129  500.0 M   \n",
       "1     2                        PUBG MOBILE - Traverse       37276732  500.0 M   \n",
       "2     3                     Mobile Legends: Bang Bang       26663595  100.0 M   \n",
       "3     4                                   Brawl Stars       17971552  100.0 M   \n",
       "4     5  Sniper 3D: Fun Free Online FPS Shooting Game       14464235  500.0 M   \n",
       "\n",
       "   average rating  growth (30 days)  growth (60 days)  price     category  \\\n",
       "0               4               2.1               6.9    0.0  GAME ACTION   \n",
       "1               4               1.8               3.6    0.0  GAME ACTION   \n",
       "2               4               1.5               3.2    0.0  GAME ACTION   \n",
       "3               4               1.4               4.4    0.0  GAME ACTION   \n",
       "4               4               0.8               1.5    0.0  GAME ACTION   \n",
       "\n",
       "   5 star ratings  4 star ratings  3 star ratings  2 star ratings  \\\n",
       "0        63546766         4949507         3158756         2122183   \n",
       "1        28339753         2164478         1253185          809821   \n",
       "2        18777988         1812094         1050600          713912   \n",
       "3        13018610         1552950          774012          406184   \n",
       "4         9827328         2124154         1047741          380670   \n",
       "\n",
       "   1 star ratings   paid  \n",
       "0        12495915  False  \n",
       "1         4709492  False  \n",
       "2         4308998  False  \n",
       "3         2219794  False  \n",
       "4         1084340  False  "
      ]
     },
     "execution_count": 61,
     "metadata": {},
     "output_type": "execute_result"
    }
   ],
   "source": [
    "df.head()"
   ]
  },
  {
   "cell_type": "code",
   "execution_count": 62,
   "id": "0bf05b5e",
   "metadata": {},
   "outputs": [
    {
     "data": {
      "text/plain": [
       "(1730, 15)"
      ]
     },
     "execution_count": 62,
     "metadata": {},
     "output_type": "execute_result"
    }
   ],
   "source": [
    "df.shape"
   ]
  },
  {
   "cell_type": "code",
   "execution_count": 63,
   "id": "e51e3041",
   "metadata": {},
   "outputs": [
    {
     "data": {
      "text/plain": [
       "rank                0\n",
       "title               0\n",
       "total ratings       0\n",
       "installs            0\n",
       "average rating      0\n",
       "growth (30 days)    0\n",
       "growth (60 days)    0\n",
       "price               0\n",
       "category            0\n",
       "5 star ratings      0\n",
       "4 star ratings      0\n",
       "3 star ratings      0\n",
       "2 star ratings      0\n",
       "1 star ratings      0\n",
       "paid                0\n",
       "dtype: int64"
      ]
     },
     "execution_count": 63,
     "metadata": {},
     "output_type": "execute_result"
    }
   ],
   "source": [
    "df.isnull().sum()"
   ]
  },
  {
   "cell_type": "code",
   "execution_count": 64,
   "id": "2bb3a31e",
   "metadata": {},
   "outputs": [
    {
     "name": "stdout",
     "output_type": "stream",
     "text": [
      "<class 'pandas.core.frame.DataFrame'>\n",
      "RangeIndex: 1730 entries, 0 to 1729\n",
      "Data columns (total 15 columns):\n",
      " #   Column            Non-Null Count  Dtype  \n",
      "---  ------            --------------  -----  \n",
      " 0   rank              1730 non-null   int64  \n",
      " 1   title             1730 non-null   object \n",
      " 2   total ratings     1730 non-null   int64  \n",
      " 3   installs          1730 non-null   object \n",
      " 4   average rating    1730 non-null   int64  \n",
      " 5   growth (30 days)  1730 non-null   float64\n",
      " 6   growth (60 days)  1730 non-null   float64\n",
      " 7   price             1730 non-null   float64\n",
      " 8   category          1730 non-null   object \n",
      " 9   5 star ratings    1730 non-null   int64  \n",
      " 10  4 star ratings    1730 non-null   int64  \n",
      " 11  3 star ratings    1730 non-null   int64  \n",
      " 12  2 star ratings    1730 non-null   int64  \n",
      " 13  1 star ratings    1730 non-null   int64  \n",
      " 14  paid              1730 non-null   bool   \n",
      "dtypes: bool(1), float64(3), int64(8), object(3)\n",
      "memory usage: 191.0+ KB\n"
     ]
    }
   ],
   "source": [
    "df.info()"
   ]
  },
  {
   "cell_type": "code",
   "execution_count": 65,
   "id": "20ffedb0",
   "metadata": {},
   "outputs": [
    {
     "data": {
      "text/html": [
       "<div>\n",
       "<style scoped>\n",
       "    .dataframe tbody tr th:only-of-type {\n",
       "        vertical-align: middle;\n",
       "    }\n",
       "\n",
       "    .dataframe tbody tr th {\n",
       "        vertical-align: top;\n",
       "    }\n",
       "\n",
       "    .dataframe thead th {\n",
       "        text-align: right;\n",
       "    }\n",
       "</style>\n",
       "<table border=\"1\" class=\"dataframe\">\n",
       "  <thead>\n",
       "    <tr style=\"text-align: right;\">\n",
       "      <th></th>\n",
       "      <th>rank</th>\n",
       "      <th>total ratings</th>\n",
       "      <th>average rating</th>\n",
       "      <th>growth (30 days)</th>\n",
       "      <th>growth (60 days)</th>\n",
       "      <th>price</th>\n",
       "      <th>5 star ratings</th>\n",
       "      <th>4 star ratings</th>\n",
       "      <th>3 star ratings</th>\n",
       "      <th>2 star ratings</th>\n",
       "      <th>1 star ratings</th>\n",
       "    </tr>\n",
       "  </thead>\n",
       "  <tbody>\n",
       "    <tr>\n",
       "      <th>count</th>\n",
       "      <td>1730.000000</td>\n",
       "      <td>1.730000e+03</td>\n",
       "      <td>1730.000000</td>\n",
       "      <td>1730.000000</td>\n",
       "      <td>1730.000000</td>\n",
       "      <td>1730.000000</td>\n",
       "      <td>1.730000e+03</td>\n",
       "      <td>1.730000e+03</td>\n",
       "      <td>1.730000e+03</td>\n",
       "      <td>1.730000e+03</td>\n",
       "      <td>1.730000e+03</td>\n",
       "    </tr>\n",
       "    <tr>\n",
       "      <th>mean</th>\n",
       "      <td>50.386705</td>\n",
       "      <td>1.064332e+06</td>\n",
       "      <td>3.908092</td>\n",
       "      <td>321.735896</td>\n",
       "      <td>122.554971</td>\n",
       "      <td>0.010942</td>\n",
       "      <td>7.622315e+05</td>\n",
       "      <td>1.164366e+05</td>\n",
       "      <td>5.706307e+04</td>\n",
       "      <td>2.710336e+04</td>\n",
       "      <td>1.014950e+05</td>\n",
       "    </tr>\n",
       "    <tr>\n",
       "      <th>std</th>\n",
       "      <td>28.936742</td>\n",
       "      <td>3.429250e+06</td>\n",
       "      <td>0.290973</td>\n",
       "      <td>6018.914507</td>\n",
       "      <td>2253.891703</td>\n",
       "      <td>0.214987</td>\n",
       "      <td>2.538658e+06</td>\n",
       "      <td>3.021631e+05</td>\n",
       "      <td>1.495314e+05</td>\n",
       "      <td>8.154542e+04</td>\n",
       "      <td>4.083745e+05</td>\n",
       "    </tr>\n",
       "    <tr>\n",
       "      <th>min</th>\n",
       "      <td>1.000000</td>\n",
       "      <td>3.299300e+04</td>\n",
       "      <td>2.000000</td>\n",
       "      <td>0.000000</td>\n",
       "      <td>0.000000</td>\n",
       "      <td>0.000000</td>\n",
       "      <td>1.397500e+04</td>\n",
       "      <td>2.451000e+03</td>\n",
       "      <td>7.180000e+02</td>\n",
       "      <td>2.660000e+02</td>\n",
       "      <td>5.450000e+02</td>\n",
       "    </tr>\n",
       "    <tr>\n",
       "      <th>25%</th>\n",
       "      <td>25.000000</td>\n",
       "      <td>1.759992e+05</td>\n",
       "      <td>4.000000</td>\n",
       "      <td>0.100000</td>\n",
       "      <td>0.200000</td>\n",
       "      <td>0.000000</td>\n",
       "      <td>1.277300e+05</td>\n",
       "      <td>2.064300e+04</td>\n",
       "      <td>9.652500e+03</td>\n",
       "      <td>4.262250e+03</td>\n",
       "      <td>1.281200e+04</td>\n",
       "    </tr>\n",
       "    <tr>\n",
       "      <th>50%</th>\n",
       "      <td>50.000000</td>\n",
       "      <td>4.286065e+05</td>\n",
       "      <td>4.000000</td>\n",
       "      <td>0.500000</td>\n",
       "      <td>1.000000</td>\n",
       "      <td>0.000000</td>\n",
       "      <td>2.964340e+05</td>\n",
       "      <td>5.098050e+04</td>\n",
       "      <td>2.507800e+04</td>\n",
       "      <td>1.067550e+04</td>\n",
       "      <td>3.368600e+04</td>\n",
       "    </tr>\n",
       "    <tr>\n",
       "      <th>75%</th>\n",
       "      <td>75.000000</td>\n",
       "      <td>8.837970e+05</td>\n",
       "      <td>4.000000</td>\n",
       "      <td>1.700000</td>\n",
       "      <td>3.300000</td>\n",
       "      <td>0.000000</td>\n",
       "      <td>6.198358e+05</td>\n",
       "      <td>1.018140e+05</td>\n",
       "      <td>5.229500e+04</td>\n",
       "      <td>2.322875e+04</td>\n",
       "      <td>8.015725e+04</td>\n",
       "    </tr>\n",
       "    <tr>\n",
       "      <th>max</th>\n",
       "      <td>100.000000</td>\n",
       "      <td>8.627313e+07</td>\n",
       "      <td>4.000000</td>\n",
       "      <td>227105.700000</td>\n",
       "      <td>69441.400000</td>\n",
       "      <td>7.490000</td>\n",
       "      <td>6.354677e+07</td>\n",
       "      <td>5.404966e+06</td>\n",
       "      <td>3.158756e+06</td>\n",
       "      <td>2.122183e+06</td>\n",
       "      <td>1.249592e+07</td>\n",
       "    </tr>\n",
       "  </tbody>\n",
       "</table>\n",
       "</div>"
      ],
      "text/plain": [
       "              rank  total ratings  average rating  growth (30 days)  \\\n",
       "count  1730.000000   1.730000e+03     1730.000000       1730.000000   \n",
       "mean     50.386705   1.064332e+06        3.908092        321.735896   \n",
       "std      28.936742   3.429250e+06        0.290973       6018.914507   \n",
       "min       1.000000   3.299300e+04        2.000000          0.000000   \n",
       "25%      25.000000   1.759992e+05        4.000000          0.100000   \n",
       "50%      50.000000   4.286065e+05        4.000000          0.500000   \n",
       "75%      75.000000   8.837970e+05        4.000000          1.700000   \n",
       "max     100.000000   8.627313e+07        4.000000     227105.700000   \n",
       "\n",
       "       growth (60 days)        price  5 star ratings  4 star ratings  \\\n",
       "count       1730.000000  1730.000000    1.730000e+03    1.730000e+03   \n",
       "mean         122.554971     0.010942    7.622315e+05    1.164366e+05   \n",
       "std         2253.891703     0.214987    2.538658e+06    3.021631e+05   \n",
       "min            0.000000     0.000000    1.397500e+04    2.451000e+03   \n",
       "25%            0.200000     0.000000    1.277300e+05    2.064300e+04   \n",
       "50%            1.000000     0.000000    2.964340e+05    5.098050e+04   \n",
       "75%            3.300000     0.000000    6.198358e+05    1.018140e+05   \n",
       "max        69441.400000     7.490000    6.354677e+07    5.404966e+06   \n",
       "\n",
       "       3 star ratings  2 star ratings  1 star ratings  \n",
       "count    1.730000e+03    1.730000e+03    1.730000e+03  \n",
       "mean     5.706307e+04    2.710336e+04    1.014950e+05  \n",
       "std      1.495314e+05    8.154542e+04    4.083745e+05  \n",
       "min      7.180000e+02    2.660000e+02    5.450000e+02  \n",
       "25%      9.652500e+03    4.262250e+03    1.281200e+04  \n",
       "50%      2.507800e+04    1.067550e+04    3.368600e+04  \n",
       "75%      5.229500e+04    2.322875e+04    8.015725e+04  \n",
       "max      3.158756e+06    2.122183e+06    1.249592e+07  "
      ]
     },
     "execution_count": 65,
     "metadata": {},
     "output_type": "execute_result"
    }
   ],
   "source": [
    "df.describe()"
   ]
  },
  {
   "cell_type": "code",
   "execution_count": 66,
   "id": "220707d3",
   "metadata": {},
   "outputs": [],
   "source": [
    "df_1 = df.copy()"
   ]
  },
  {
   "cell_type": "code",
   "execution_count": 67,
   "id": "6c7295fc",
   "metadata": {},
   "outputs": [
    {
     "data": {
      "text/html": [
       "<div>\n",
       "<style scoped>\n",
       "    .dataframe tbody tr th:only-of-type {\n",
       "        vertical-align: middle;\n",
       "    }\n",
       "\n",
       "    .dataframe tbody tr th {\n",
       "        vertical-align: top;\n",
       "    }\n",
       "\n",
       "    .dataframe thead th {\n",
       "        text-align: right;\n",
       "    }\n",
       "</style>\n",
       "<table border=\"1\" class=\"dataframe\">\n",
       "  <thead>\n",
       "    <tr style=\"text-align: right;\">\n",
       "      <th></th>\n",
       "      <th>rank</th>\n",
       "      <th>title</th>\n",
       "      <th>total ratings</th>\n",
       "      <th>installs</th>\n",
       "      <th>average rating</th>\n",
       "      <th>growth (30 days)</th>\n",
       "      <th>growth (60 days)</th>\n",
       "      <th>price</th>\n",
       "      <th>category</th>\n",
       "      <th>5 star ratings</th>\n",
       "      <th>4 star ratings</th>\n",
       "      <th>3 star ratings</th>\n",
       "      <th>2 star ratings</th>\n",
       "      <th>1 star ratings</th>\n",
       "      <th>paid</th>\n",
       "    </tr>\n",
       "  </thead>\n",
       "  <tbody>\n",
       "    <tr>\n",
       "      <th>0</th>\n",
       "      <td>1</td>\n",
       "      <td>Garena Free Fire- World Series</td>\n",
       "      <td>86273129</td>\n",
       "      <td>500.0 M</td>\n",
       "      <td>4</td>\n",
       "      <td>2.1</td>\n",
       "      <td>6.9</td>\n",
       "      <td>0.0</td>\n",
       "      <td>GAME ACTION</td>\n",
       "      <td>63546766</td>\n",
       "      <td>4949507</td>\n",
       "      <td>3158756</td>\n",
       "      <td>2122183</td>\n",
       "      <td>12495915</td>\n",
       "      <td>False</td>\n",
       "    </tr>\n",
       "    <tr>\n",
       "      <th>1</th>\n",
       "      <td>2</td>\n",
       "      <td>PUBG MOBILE - Traverse</td>\n",
       "      <td>37276732</td>\n",
       "      <td>500.0 M</td>\n",
       "      <td>4</td>\n",
       "      <td>1.8</td>\n",
       "      <td>3.6</td>\n",
       "      <td>0.0</td>\n",
       "      <td>GAME ACTION</td>\n",
       "      <td>28339753</td>\n",
       "      <td>2164478</td>\n",
       "      <td>1253185</td>\n",
       "      <td>809821</td>\n",
       "      <td>4709492</td>\n",
       "      <td>False</td>\n",
       "    </tr>\n",
       "    <tr>\n",
       "      <th>2</th>\n",
       "      <td>3</td>\n",
       "      <td>Mobile Legends: Bang Bang</td>\n",
       "      <td>26663595</td>\n",
       "      <td>100.0 M</td>\n",
       "      <td>4</td>\n",
       "      <td>1.5</td>\n",
       "      <td>3.2</td>\n",
       "      <td>0.0</td>\n",
       "      <td>GAME ACTION</td>\n",
       "      <td>18777988</td>\n",
       "      <td>1812094</td>\n",
       "      <td>1050600</td>\n",
       "      <td>713912</td>\n",
       "      <td>4308998</td>\n",
       "      <td>False</td>\n",
       "    </tr>\n",
       "    <tr>\n",
       "      <th>3</th>\n",
       "      <td>4</td>\n",
       "      <td>Brawl Stars</td>\n",
       "      <td>17971552</td>\n",
       "      <td>100.0 M</td>\n",
       "      <td>4</td>\n",
       "      <td>1.4</td>\n",
       "      <td>4.4</td>\n",
       "      <td>0.0</td>\n",
       "      <td>GAME ACTION</td>\n",
       "      <td>13018610</td>\n",
       "      <td>1552950</td>\n",
       "      <td>774012</td>\n",
       "      <td>406184</td>\n",
       "      <td>2219794</td>\n",
       "      <td>False</td>\n",
       "    </tr>\n",
       "    <tr>\n",
       "      <th>4</th>\n",
       "      <td>5</td>\n",
       "      <td>Sniper 3D: Fun Free Online FPS Shooting Game</td>\n",
       "      <td>14464235</td>\n",
       "      <td>500.0 M</td>\n",
       "      <td>4</td>\n",
       "      <td>0.8</td>\n",
       "      <td>1.5</td>\n",
       "      <td>0.0</td>\n",
       "      <td>GAME ACTION</td>\n",
       "      <td>9827328</td>\n",
       "      <td>2124154</td>\n",
       "      <td>1047741</td>\n",
       "      <td>380670</td>\n",
       "      <td>1084340</td>\n",
       "      <td>False</td>\n",
       "    </tr>\n",
       "  </tbody>\n",
       "</table>\n",
       "</div>"
      ],
      "text/plain": [
       "   rank                                         title  total ratings installs  \\\n",
       "0     1                Garena Free Fire- World Series       86273129  500.0 M   \n",
       "1     2                        PUBG MOBILE - Traverse       37276732  500.0 M   \n",
       "2     3                     Mobile Legends: Bang Bang       26663595  100.0 M   \n",
       "3     4                                   Brawl Stars       17971552  100.0 M   \n",
       "4     5  Sniper 3D: Fun Free Online FPS Shooting Game       14464235  500.0 M   \n",
       "\n",
       "   average rating  growth (30 days)  growth (60 days)  price     category  \\\n",
       "0               4               2.1               6.9    0.0  GAME ACTION   \n",
       "1               4               1.8               3.6    0.0  GAME ACTION   \n",
       "2               4               1.5               3.2    0.0  GAME ACTION   \n",
       "3               4               1.4               4.4    0.0  GAME ACTION   \n",
       "4               4               0.8               1.5    0.0  GAME ACTION   \n",
       "\n",
       "   5 star ratings  4 star ratings  3 star ratings  2 star ratings  \\\n",
       "0        63546766         4949507         3158756         2122183   \n",
       "1        28339753         2164478         1253185          809821   \n",
       "2        18777988         1812094         1050600          713912   \n",
       "3        13018610         1552950          774012          406184   \n",
       "4         9827328         2124154         1047741          380670   \n",
       "\n",
       "   1 star ratings   paid  \n",
       "0        12495915  False  \n",
       "1         4709492  False  \n",
       "2         4308998  False  \n",
       "3         2219794  False  \n",
       "4         1084340  False  "
      ]
     },
     "execution_count": 67,
     "metadata": {},
     "output_type": "execute_result"
    }
   ],
   "source": [
    "df_1.head()"
   ]
  },
  {
   "cell_type": "code",
   "execution_count": 68,
   "id": "2f18b415",
   "metadata": {},
   "outputs": [
    {
     "data": {
      "text/plain": [
       "10.0 M      805\n",
       "50.0 M      252\n",
       "5.0 M       245\n",
       "100.0 M     204\n",
       "1.0 M       192\n",
       "500.0 k      15\n",
       "500.0 M      12\n",
       "100.0 k       3\n",
       "1000.0 M      2\n",
       "Name: installs, dtype: int64"
      ]
     },
     "execution_count": 68,
     "metadata": {},
     "output_type": "execute_result"
    }
   ],
   "source": [
    "df_1.installs.value_counts()"
   ]
  },
  {
   "cell_type": "code",
   "execution_count": 56,
   "id": "c28d99b7",
   "metadata": {},
   "outputs": [],
   "source": [
    "def in_thousand (inst) :\n",
    "    if inst == \"500.0 k\" :\n",
    "        return \"0.5 M\"\n",
    "    elif inst == \"100.0 k\" :\n",
    "        return \"0.1 M\"\n",
    "    else :\n",
    "        return inst"
   ]
  },
  {
   "cell_type": "code",
   "execution_count": 70,
   "id": "834fa1a4",
   "metadata": {},
   "outputs": [],
   "source": [
    "df_1['installs']= df_1['installs'].apply(in_thousand)"
   ]
  },
  {
   "cell_type": "code",
   "execution_count": 71,
   "id": "7b0885a9",
   "metadata": {},
   "outputs": [],
   "source": [
    "df_1['installs']= df_1['installs'].str.replace( 'M', '').str.strip().astype('float')"
   ]
  },
  {
   "cell_type": "code",
   "execution_count": 72,
   "id": "0265c1ae",
   "metadata": {},
   "outputs": [],
   "source": [
    "df_1= df_1.rename(columns={'installs': 'installs_in_million'})"
   ]
  },
  {
   "cell_type": "code",
   "execution_count": 73,
   "id": "67dfdec1",
   "metadata": {},
   "outputs": [
    {
     "data": {
      "text/plain": [
       "10.0      805\n",
       "50.0      252\n",
       "5.0       245\n",
       "100.0     204\n",
       "1.0       192\n",
       "0.5        15\n",
       "500.0      12\n",
       "0.1         3\n",
       "1000.0      2\n",
       "Name: installs_in_million, dtype: int64"
      ]
     },
     "execution_count": 73,
     "metadata": {},
     "output_type": "execute_result"
    }
   ],
   "source": [
    "df_1['installs_in_million'].value_counts()"
   ]
  },
  {
   "cell_type": "code",
   "execution_count": 74,
   "id": "beb94b49",
   "metadata": {},
   "outputs": [
    {
     "data": {
      "text/plain": [
       "0.00    1723\n",
       "1.99       3\n",
       "1.49       1\n",
       "0.99       1\n",
       "2.99       1\n",
       "7.49       1\n",
       "Name: price, dtype: int64"
      ]
     },
     "execution_count": 74,
     "metadata": {},
     "output_type": "execute_result"
    }
   ],
   "source": [
    "df_1[\"price\"].value_counts()"
   ]
  },
  {
   "cell_type": "code",
   "execution_count": 75,
   "id": "e3f85d68",
   "metadata": {},
   "outputs": [
    {
     "data": {
      "text/plain": [
       "False    1723\n",
       "True        7\n",
       "Name: paid, dtype: int64"
      ]
     },
     "execution_count": 75,
     "metadata": {},
     "output_type": "execute_result"
    }
   ],
   "source": [
    "df_1[\"paid\"].value_counts()"
   ]
  },
  {
   "cell_type": "code",
   "execution_count": 76,
   "id": "e4127d00",
   "metadata": {},
   "outputs": [],
   "source": [
    "df_1.drop(\"price\", axis=1, inplace=True)"
   ]
  },
  {
   "cell_type": "code",
   "execution_count": 77,
   "id": "d89abfdd",
   "metadata": {},
   "outputs": [
    {
     "name": "stdout",
     "output_type": "stream",
     "text": [
      "<class 'pandas.core.frame.DataFrame'>\n",
      "RangeIndex: 1730 entries, 0 to 1729\n",
      "Data columns (total 14 columns):\n",
      " #   Column               Non-Null Count  Dtype  \n",
      "---  ------               --------------  -----  \n",
      " 0   rank                 1730 non-null   int64  \n",
      " 1   title                1730 non-null   object \n",
      " 2   total ratings        1730 non-null   int64  \n",
      " 3   installs_in_million  1730 non-null   float64\n",
      " 4   average rating       1730 non-null   int64  \n",
      " 5   growth (30 days)     1730 non-null   float64\n",
      " 6   growth (60 days)     1730 non-null   float64\n",
      " 7   category             1730 non-null   object \n",
      " 8   5 star ratings       1730 non-null   int64  \n",
      " 9   4 star ratings       1730 non-null   int64  \n",
      " 10  3 star ratings       1730 non-null   int64  \n",
      " 11  2 star ratings       1730 non-null   int64  \n",
      " 12  1 star ratings       1730 non-null   int64  \n",
      " 13  paid                 1730 non-null   bool   \n",
      "dtypes: bool(1), float64(3), int64(8), object(2)\n",
      "memory usage: 177.5+ KB\n"
     ]
    }
   ],
   "source": [
    "df_1.info()"
   ]
  },
  {
   "cell_type": "code",
   "execution_count": 78,
   "id": "1f707c7d",
   "metadata": {},
   "outputs": [
    {
     "data": {
      "text/html": [
       "<div>\n",
       "<style scoped>\n",
       "    .dataframe tbody tr th:only-of-type {\n",
       "        vertical-align: middle;\n",
       "    }\n",
       "\n",
       "    .dataframe tbody tr th {\n",
       "        vertical-align: top;\n",
       "    }\n",
       "\n",
       "    .dataframe thead th {\n",
       "        text-align: right;\n",
       "    }\n",
       "</style>\n",
       "<table border=\"1\" class=\"dataframe\">\n",
       "  <thead>\n",
       "    <tr style=\"text-align: right;\">\n",
       "      <th></th>\n",
       "      <th>rank</th>\n",
       "      <th>title</th>\n",
       "      <th>total ratings</th>\n",
       "      <th>installs_in_million</th>\n",
       "      <th>average rating</th>\n",
       "      <th>growth (30 days)</th>\n",
       "      <th>growth (60 days)</th>\n",
       "      <th>category</th>\n",
       "      <th>5 star ratings</th>\n",
       "      <th>4 star ratings</th>\n",
       "      <th>3 star ratings</th>\n",
       "      <th>2 star ratings</th>\n",
       "      <th>1 star ratings</th>\n",
       "      <th>paid</th>\n",
       "    </tr>\n",
       "  </thead>\n",
       "  <tbody>\n",
       "    <tr>\n",
       "      <th>0</th>\n",
       "      <td>1</td>\n",
       "      <td>Garena Free Fire- World Series</td>\n",
       "      <td>86273129</td>\n",
       "      <td>500.0</td>\n",
       "      <td>4</td>\n",
       "      <td>2.1</td>\n",
       "      <td>6.9</td>\n",
       "      <td>GAME ACTION</td>\n",
       "      <td>63546766</td>\n",
       "      <td>4949507</td>\n",
       "      <td>3158756</td>\n",
       "      <td>2122183</td>\n",
       "      <td>12495915</td>\n",
       "      <td>False</td>\n",
       "    </tr>\n",
       "  </tbody>\n",
       "</table>\n",
       "</div>"
      ],
      "text/plain": [
       "   rank                           title  total ratings  installs_in_million  \\\n",
       "0     1  Garena Free Fire- World Series       86273129                500.0   \n",
       "\n",
       "   average rating  growth (30 days)  growth (60 days)     category  \\\n",
       "0               4               2.1               6.9  GAME ACTION   \n",
       "\n",
       "   5 star ratings  4 star ratings  3 star ratings  2 star ratings  \\\n",
       "0        63546766         4949507         3158756         2122183   \n",
       "\n",
       "   1 star ratings   paid  \n",
       "0        12495915  False  "
      ]
     },
     "execution_count": 78,
     "metadata": {},
     "output_type": "execute_result"
    }
   ],
   "source": [
    "df_1.head(1)"
   ]
  },
  {
   "cell_type": "markdown",
   "id": "2a7c5204",
   "metadata": {},
   "source": [
    "# Analysis"
   ]
  },
  {
   "cell_type": "code",
   "execution_count": 79,
   "id": "813baeab",
   "metadata": {},
   "outputs": [
    {
     "data": {
      "text/plain": [
       "GAME CARD            126\n",
       "GAME WORD            104\n",
       "GAME CASUAL          100\n",
       "GAME EDUCATIONAL     100\n",
       "GAME TRIVIA          100\n",
       "GAME SIMULATION      100\n",
       "GAME ADVENTURE       100\n",
       "GAME RACING          100\n",
       "GAME ACTION          100\n",
       "GAME STRATEGY        100\n",
       "GAME CASINO          100\n",
       "GAME ROLE PLAYING    100\n",
       "GAME SPORTS          100\n",
       "GAME BOARD           100\n",
       "GAME PUZZLE          100\n",
       "GAME ARCADE          100\n",
       "GAME MUSIC           100\n",
       "Name: category, dtype: int64"
      ]
     },
     "execution_count": 79,
     "metadata": {},
     "output_type": "execute_result"
    }
   ],
   "source": [
    "df_1[\"category\"].value_counts()"
   ]
  },
  {
   "cell_type": "code",
   "execution_count": 80,
   "id": "8fe72421",
   "metadata": {},
   "outputs": [
    {
     "data": {
      "image/png": "[encoded data removed]",
      "text/plain": [
       "<Figure size 1080x360 with 1 Axes>"
      ]
     },
     "metadata": {},
     "output_type": "display_data"
    }
   ],
   "source": [
    "plt.figure(figsize=(15,5))\n",
    "sns.countplot(x = \"category\", data = df_1)\n",
    "plt.xticks(rotation = 90);"
   ]
  },
  {
   "cell_type": "code",
   "execution_count": null,
   "id": "d4e6d9cf",
   "metadata": {},
   "outputs": [],
   "source": [
    "# evren hoca nın kodu"
   ]
  },
  {
   "cell_type": "code",
   "execution_count": null,
   "id": "2ae58a51",
   "metadata": {},
   "outputs": [],
   "source": [
    "plt.figure(figsize=(15,5))\n",
    "sns.barplot(x = \"category\", data = df_1)\n",
    "plt.xticks(rotation = 90);"
   ]
  },
  {
   "cell_type": "code",
   "execution_count": null,
   "id": "01ecf621",
   "metadata": {},
   "outputs": [],
   "source": [
    "# kaan hoca nın kodu"
   ]
  },
  {
   "cell_type": "markdown",
   "id": "12c1023a",
   "metadata": {},
   "source": [
    "fig = px.histogram(df, x=\"category\", title='Game Categories')\n",
    "fig.update_layout(xaxis={'categoryorder':'total descending'})\n",
    "fig.show()"
   ]
  },
  {
   "cell_type": "code",
   "execution_count": 81,
   "id": "092a5687",
   "metadata": {},
   "outputs": [
    {
     "data": {
      "application/vnd.plotly.v1+json": {
       "config": {
        "plotlyServerURL": "https://plot.ly"
       },
       "data": [
        {
         "alignmentgroup": "True",
         "bingroup": "x",
         "hovertemplate": "category=%{x}<br>count=%{y}<extra></extra>",
         "legendgroup": "",
         "marker": {
          "color": "#636efa",
          "pattern": {
           "shape": ""
          }
         },
         "name": "",
         "offsetgroup": "",
         "orientation": "v",
         "showlegend": false,
         "type": "histogram",
         "x": [
          "GAME ACTION",
          "GAME ACTION",
          "GAME ACTION",
          "GAME ACTION",
          "GAME ACTION",
          "GAME ACTION",
          "GAME ACTION",
          "GAME ACTION",
          "GAME ACTION",
          "GAME ACTION",
          "GAME ACTION",
          "GAME ACTION",
          "GAME ACTION",
          "GAME ACTION",
          "GAME ACTION",
          "GAME ACTION",
          "GAME ACTION",
          "GAME ACTION",
          "GAME ACTION",
          "GAME ACTION",
          "GAME ACTION",
          "GAME ACTION",
          "GAME ACTION",
          "GAME ACTION",
          "GAME ACTION",
          "GAME ACTION",
          "GAME ACTION",
          "GAME ACTION",
          "GAME ACTION",
          "GAME ACTION",
          "GAME ACTION",
          "GAME ACTION",
          "GAME ACTION",
          "GAME ACTION",
          "GAME ACTION",
          "GAME ACTION",
          "GAME ACTION",
          "GAME ACTION",
          "GAME ACTION",
          "GAME ACTION",
          "GAME ACTION",
          "GAME ACTION",
          "GAME ACTION",
          "GAME ACTION",
          "GAME ACTION",
          "GAME ACTION",
          "GAME ACTION",
          "GAME ACTION",
          "GAME ACTION",
          "GAME ACTION",
          "GAME ACTION",
          "GAME ACTION",
          "GAME ACTION",
          "GAME ACTION",
          "GAME ACTION",
          "GAME ACTION",
          "GAME ACTION",
          "GAME ACTION",
          "GAME ACTION",
          "GAME ACTION",
          "GAME ACTION",
          "GAME ACTION",
          "GAME ACTION",
          "GAME ACTION",
          "GAME ACTION",
          "GAME ACTION",
          "GAME ACTION",
          "GAME ACTION",
          "GAME ACTION",
          "GAME ACTION",
          "GAME ACTION",
          "GAME ACTION",
          "GAME ACTION",
          "GAME ACTION",
          "GAME ACTION",
          "GAME ACTION",
          "GAME ACTION",
          "GAME ACTION",
          "GAME ACTION",
          "GAME ACTION",
          "GAME ACTION",
          "GAME ACTION",
          "GAME ACTION",
          "GAME ACTION",
          "GAME ACTION",
          "GAME ACTION",
          "GAME ACTION",
          "GAME ACTION",
          "GAME ACTION",
          "GAME ACTION",
          "GAME ACTION",
          "GAME ACTION",
          "GAME ACTION",
          "GAME ACTION",
          "GAME ACTION",
          "GAME ACTION",
          "GAME ACTION",
          "GAME ACTION",
          "GAME ACTION",
          "GAME ACTION",
          "GAME ADVENTURE",
          "GAME ADVENTURE",
          "GAME ADVENTURE",
          "GAME ADVENTURE",
          "GAME ADVENTURE",
          "GAME ADVENTURE",
          "GAME ADVENTURE",
          "GAME ADVENTURE",
          "GAME ADVENTURE",
          "GAME ADVENTURE",
          "GAME ADVENTURE",
          "GAME ADVENTURE",
          "GAME ADVENTURE",
          "GAME ADVENTURE",
          "GAME ADVENTURE",
          "GAME ADVENTURE",
          "GAME ADVENTURE",
          "GAME ADVENTURE",
          "GAME ADVENTURE",
          "GAME ADVENTURE",
          "GAME ADVENTURE",
          "GAME ADVENTURE",
          "GAME ADVENTURE",
          "GAME ADVENTURE",
          "GAME ADVENTURE",
          "GAME ADVENTURE",
          "GAME ADVENTURE",
          "GAME ADVENTURE",
          "GAME ADVENTURE",
          "GAME ADVENTURE",
          "GAME ADVENTURE",
          "GAME ADVENTURE",
          "GAME ADVENTURE",
          "GAME ADVENTURE",
          "GAME ADVENTURE",
          "GAME ADVENTURE",
          "GAME ADVENTURE",
          "GAME ADVENTURE",
          "GAME ADVENTURE",
          "GAME ADVENTURE",
          "GAME ADVENTURE",
          "GAME ADVENTURE",
          "GAME ADVENTURE",
          "GAME ADVENTURE",
          "GAME ADVENTURE",
          "GAME ADVENTURE",
          "GAME ADVENTURE",
          "GAME ADVENTURE",
          "GAME ADVENTURE",
          "GAME ADVENTURE",
          "GAME ADVENTURE",
          "GAME ADVENTURE",
          "GAME ADVENTURE",
          "GAME ADVENTURE",
          "GAME ADVENTURE",
          "GAME ADVENTURE",
          "GAME ADVENTURE",
          "GAME ADVENTURE",
          "GAME ADVENTURE",
          "GAME ADVENTURE",
          "GAME ADVENTURE",
          "GAME ADVENTURE",
          "GAME ADVENTURE",
          "GAME ADVENTURE",
          "GAME ADVENTURE",
          "GAME ADVENTURE",
          "GAME ADVENTURE",
          "GAME ADVENTURE",
          "GAME ADVENTURE",
          "GAME ADVENTURE",
          "GAME ADVENTURE",
          "GAME ADVENTURE",
          "GAME ADVENTURE",
          "GAME ADVENTURE",
          "GAME ADVENTURE",
          "GAME ADVENTURE",
          "GAME ADVENTURE",
          "GAME ADVENTURE",
          "GAME ADVENTURE",
          "GAME ADVENTURE",
          "GAME ADVENTURE",
          "GAME ADVENTURE",
          "GAME ADVENTURE",
          "GAME ADVENTURE",
          "GAME ADVENTURE",
          "GAME ADVENTURE",
          "GAME ADVENTURE",
          "GAME ADVENTURE",
          "GAME ADVENTURE",
          "GAME ADVENTURE",
          "GAME ADVENTURE",
          "GAME ADVENTURE",
          "GAME ADVENTURE",
          "GAME ADVENTURE",
          "GAME ADVENTURE",
          "GAME ADVENTURE",
          "GAME ADVENTURE",
          "GAME ADVENTURE",
          "GAME ADVENTURE",
          "GAME ADVENTURE",
          "GAME ARCADE",
          "GAME ARCADE",
          "GAME ARCADE",
          "GAME ARCADE",
          "GAME ARCADE",
          "GAME ARCADE",
          "GAME ARCADE",
          "GAME ARCADE",
          "GAME ARCADE",
          "GAME ARCADE",
          "GAME ARCADE",
          "GAME ARCADE",
          "GAME ARCADE",
          "GAME ARCADE",
          "GAME ARCADE",
          "GAME ARCADE",
          "GAME ARCADE",
          "GAME ARCADE",
          "GAME ARCADE",
          "GAME ARCADE",
          "GAME ARCADE",
          "GAME ARCADE",
          "GAME ARCADE",
          "GAME ARCADE",
          "GAME ARCADE",
          "GAME ARCADE",
          "GAME ARCADE",
          "GAME ARCADE",
          "GAME ARCADE",
          "GAME ARCADE",
          "GAME ARCADE",
          "GAME ARCADE",
          "GAME ARCADE",
          "GAME ARCADE",
          "GAME ARCADE",
          "GAME ARCADE",
          "GAME ARCADE",
          "GAME ARCADE",
          "GAME ARCADE",
          "GAME ARCADE",
          "GAME ARCADE",
          "GAME ARCADE",
          "GAME ARCADE",
          "GAME ARCADE",
          "GAME ARCADE",
          "GAME ARCADE",
          "GAME ARCADE",
          "GAME ARCADE",
          "GAME ARCADE",
          "GAME ARCADE",
          "GAME ARCADE",
          "GAME ARCADE",
          "GAME ARCADE",
          "GAME ARCADE",
          "GAME ARCADE",
          "GAME ARCADE",
          "GAME ARCADE",
          "GAME ARCADE",
          "GAME ARCADE",
          "GAME ARCADE",
          "GAME ARCADE",
          "GAME ARCADE",
          "GAME ARCADE",
          "GAME ARCADE",
          "GAME ARCADE",
          "GAME ARCADE",
          "GAME ARCADE",
          "GAME ARCADE",
          "GAME ARCADE",
          "GAME ARCADE",
          "GAME ARCADE",
          "GAME ARCADE",
          "GAME ARCADE",
          "GAME ARCADE",
          "GAME ARCADE",
          "GAME ARCADE",
          "GAME ARCADE",
          "GAME ARCADE",
          "GAME ARCADE",
          "GAME ARCADE",
          "GAME ARCADE",
          "GAME ARCADE",
          "GAME ARCADE",
          "GAME ARCADE",
          "GAME ARCADE",
          "GAME ARCADE",
          "GAME ARCADE",
          "GAME ARCADE",
          "GAME ARCADE",
          "GAME ARCADE",
          "GAME ARCADE",
          "GAME ARCADE",
          "GAME ARCADE",
          "GAME ARCADE",
          "GAME ARCADE",
          "GAME ARCADE",
          "GAME ARCADE",
          "GAME ARCADE",
          "GAME ARCADE",
          "GAME ARCADE",
          "GAME BOARD",
          "GAME BOARD",
          "GAME BOARD",
          "GAME BOARD",
          "GAME BOARD",
          "GAME BOARD",
          "GAME BOARD",
          "GAME BOARD",
          "GAME BOARD",
          "GAME BOARD",
          "GAME BOARD",
          "GAME BOARD",
          "GAME BOARD",
          "GAME BOARD",
          "GAME BOARD",
          "GAME BOARD",
          "GAME BOARD",
          "GAME BOARD",
          "GAME BOARD",
          "GAME BOARD",
          "GAME BOARD",
          "GAME BOARD",
          "GAME BOARD",
          "GAME BOARD",
          "GAME BOARD",
          "GAME BOARD",
          "GAME BOARD",
          "GAME BOARD",
          "GAME BOARD",
          "GAME BOARD",
          "GAME BOARD",
          "GAME BOARD",
          "GAME BOARD",
          "GAME BOARD",
          "GAME BOARD",
          "GAME BOARD",
          "GAME BOARD",
          "GAME BOARD",
          "GAME BOARD",
          "GAME BOARD",
          "GAME BOARD",
          "GAME BOARD",
          "GAME BOARD",
          "GAME BOARD",
          "GAME BOARD",
          "GAME BOARD",
          "GAME BOARD",
          "GAME BOARD",
          "GAME BOARD",
          "GAME BOARD",
          "GAME BOARD",
          "GAME BOARD",
          "GAME BOARD",
          "GAME BOARD",
          "GAME BOARD",
          "GAME BOARD",
          "GAME BOARD",
          "GAME BOARD",
          "GAME BOARD",
          "GAME BOARD",
          "GAME BOARD",
          "GAME BOARD",
          "GAME BOARD",
          "GAME BOARD",
          "GAME BOARD",
          "GAME BOARD",
          "GAME BOARD",
          "GAME BOARD",
          "GAME BOARD",
          "GAME BOARD",
          "GAME BOARD",
          "GAME BOARD",
          "GAME BOARD",
          "GAME BOARD",
          "GAME BOARD",
          "GAME BOARD",
          "GAME BOARD",
          "GAME BOARD",
          "GAME BOARD",
          "GAME BOARD",
          "GAME BOARD",
          "GAME BOARD",
          "GAME BOARD",
          "GAME BOARD",
          "GAME BOARD",
          "GAME BOARD",
          "GAME BOARD",
          "GAME BOARD",
          "GAME BOARD",
          "GAME BOARD",
          "GAME BOARD",
          "GAME BOARD",
          "GAME BOARD",
          "GAME BOARD",
          "GAME BOARD",
          "GAME BOARD",
          "GAME BOARD",
          "GAME BOARD",
          "GAME BOARD",
          "GAME BOARD",
          "GAME CARD",
          "GAME CARD",
          "GAME CARD",
          "GAME CARD",
          "GAME CARD",
          "GAME CARD",
          "GAME CARD",
          "GAME CARD",
          "GAME CARD",
          "GAME CARD",
          "GAME CARD",
          "GAME CARD",
          "GAME CARD",
          "GAME CARD",
          "GAME CARD",
          "GAME CARD",
          "GAME CARD",
          "GAME CARD",
          "GAME CARD",
          "GAME CARD",
          "GAME CARD",
          "GAME CARD",
          "GAME CARD",
          "GAME CARD",
          "GAME CARD",
          "GAME CARD",
          "GAME CARD",
          "GAME CARD",
          "GAME CARD",
          "GAME CARD",
          "GAME CARD",
          "GAME CARD",
          "GAME CARD",
          "GAME CARD",
          "GAME CARD",
          "GAME CARD",
          "GAME CARD",
          "GAME CARD",
          "GAME CARD",
          "GAME CARD",
          "GAME CARD",
          "GAME CARD",
          "GAME CARD",
          "GAME CARD",
          "GAME CARD",
          "GAME CARD",
          "GAME CARD",
          "GAME CARD",
          "GAME CARD",
          "GAME CARD",
          "GAME CARD",
          "GAME CARD",
          "GAME CARD",
          "GAME CARD",
          "GAME CARD",
          "GAME CARD",
          "GAME CARD",
          "GAME CARD",
          "GAME CARD",
          "GAME CARD",
          "GAME CARD",
          "GAME CARD",
          "GAME CARD",
          "GAME CARD",
          "GAME CARD",
          "GAME CARD",
          "GAME CARD",
          "GAME CARD",
          "GAME CARD",
          "GAME CARD",
          "GAME CARD",
          "GAME CARD",
          "GAME CARD",
          "GAME CARD",
          "GAME CARD",
          "GAME CARD",
          "GAME CARD",
          "GAME CARD",
          "GAME CARD",
          "GAME CARD",
          "GAME CARD",
          "GAME CARD",
          "GAME CARD",
          "GAME CARD",
          "GAME CARD",
          "GAME CARD",
          "GAME CARD",
          "GAME CARD",
          "GAME CARD",
          "GAME CARD",
          "GAME CARD",
          "GAME CARD",
          "GAME CARD",
          "GAME CARD",
          "GAME CARD",
          "GAME CARD",
          "GAME CARD",
          "GAME CARD",
          "GAME CARD",
          "GAME CARD",
          "GAME CARD",
          "GAME CARD",
          "GAME CARD",
          "GAME CARD",
          "GAME CARD",
          "GAME CARD",
          "GAME CARD",
          "GAME CARD",
          "GAME CARD",
          "GAME CARD",
          "GAME CARD",
          "GAME CARD",
          "GAME CARD",
          "GAME CARD",
          "GAME CARD",
          "GAME CARD",
          "GAME CARD",
          "GAME CARD",
          "GAME CARD",
          "GAME CARD",
          "GAME CARD",
          "GAME CARD",
          "GAME CARD",
          "GAME CARD",
          "GAME CARD",
          "GAME CARD",
          "GAME CASINO",
          "GAME CASINO",
          "GAME CASINO",
          "GAME CASINO",
          "GAME CASINO",
          "GAME CASINO",
          "GAME CASINO",
          "GAME CASINO",
          "GAME CASINO",
          "GAME CASINO",
          "GAME CASINO",
          "GAME CASINO",
          "GAME CASINO",
          "GAME CASINO",
          "GAME CASINO",
          "GAME CASINO",
          "GAME CASINO",
          "GAME CASINO",
          "GAME CASINO",
          "GAME CASINO",
          "GAME CASINO",
          "GAME CASINO",
          "GAME CASINO",
          "GAME CASINO",
          "GAME CASINO",
          "GAME CASINO",
          "GAME CASINO",
          "GAME CASINO",
          "GAME CASINO",
          "GAME CASINO",
          "GAME CASINO",
          "GAME CASINO",
          "GAME CASINO",
          "GAME CASINO",
          "GAME CASINO",
          "GAME CASINO",
          "GAME CASINO",
          "GAME CASINO",
          "GAME CASINO",
          "GAME CASINO",
          "GAME CASINO",
          "GAME CASINO",
          "GAME CASINO",
          "GAME CASINO",
          "GAME CASINO",
          "GAME CASINO",
          "GAME CASINO",
          "GAME CASINO",
          "GAME CASINO",
          "GAME CASINO",
          "GAME CASINO",
          "GAME CASINO",
          "GAME CASINO",
          "GAME CASINO",
          "GAME CASINO",
          "GAME CASINO",
          "GAME CASINO",
          "GAME CASINO",
          "GAME CASINO",
          "GAME CASINO",
          "GAME CASINO",
          "GAME CASINO",
          "GAME CASINO",
          "GAME CASINO",
          "GAME CASINO",
          "GAME CASINO",
          "GAME CASINO",
          "GAME CASINO",
          "GAME CASINO",
          "GAME CASINO",
          "GAME CASINO",
          "GAME CASINO",
          "GAME CASINO",
          "GAME CASINO",
          "GAME CASINO",
          "GAME CASINO",
          "GAME CASINO",
          "GAME CASINO",
          "GAME CASINO",
          "GAME CASINO",
          "GAME CASINO",
          "GAME CASINO",
          "GAME CASINO",
          "GAME CASINO",
          "GAME CASINO",
          "GAME CASINO",
          "GAME CASINO",
          "GAME CASINO",
          "GAME CASINO",
          "GAME CASINO",
          "GAME CASINO",
          "GAME CASINO",
          "GAME CASINO",
          "GAME CASINO",
          "GAME CASINO",
          "GAME CASINO",
          "GAME CASINO",
          "GAME CASINO",
          "GAME CASINO",
          "GAME CASINO",
          "GAME CASUAL",
          "GAME CASUAL",
          "GAME CASUAL",
          "GAME CASUAL",
          "GAME CASUAL",
          "GAME CASUAL",
          "GAME CASUAL",
          "GAME CASUAL",
          "GAME CASUAL",
          "GAME CASUAL",
          "GAME CASUAL",
          "GAME CASUAL",
          "GAME CASUAL",
          "GAME CASUAL",
          "GAME CASUAL",
          "GAME CASUAL",
          "GAME CASUAL",
          "GAME CASUAL",
          "GAME CASUAL",
          "GAME CASUAL",
          "GAME CASUAL",
          "GAME CASUAL",
          "GAME CASUAL",
          "GAME CASUAL",
          "GAME CASUAL",
          "GAME CASUAL",
          "GAME CASUAL",
          "GAME CASUAL",
          "GAME CASUAL",
          "GAME CASUAL",
          "GAME CASUAL",
          "GAME CASUAL",
          "GAME CASUAL",
          "GAME CASUAL",
          "GAME CASUAL",
          "GAME CASUAL",
          "GAME CASUAL",
          "GAME CASUAL",
          "GAME CASUAL",
          "GAME CASUAL",
          "GAME CASUAL",
          "GAME CASUAL",
          "GAME CASUAL",
          "GAME CASUAL",
          "GAME CASUAL",
          "GAME CASUAL",
          "GAME CASUAL",
          "GAME CASUAL",
          "GAME CASUAL",
          "GAME CASUAL",
          "GAME CASUAL",
          "GAME CASUAL",
          "GAME CASUAL",
          "GAME CASUAL",
          "GAME CASUAL",
          "GAME CASUAL",
          "GAME CASUAL",
          "GAME CASUAL",
          "GAME CASUAL",
          "GAME CASUAL",
          "GAME CASUAL",
          "GAME CASUAL",
          "GAME CASUAL",
          "GAME CASUAL",
          "GAME CASUAL",
          "GAME CASUAL",
          "GAME CASUAL",
          "GAME CASUAL",
          "GAME CASUAL",
          "GAME CASUAL",
          "GAME CASUAL",
          "GAME CASUAL",
          "GAME CASUAL",
          "GAME CASUAL",
          "GAME CASUAL",
          "GAME CASUAL",
          "GAME CASUAL",
          "GAME CASUAL",
          "GAME CASUAL",
          "GAME CASUAL",
          "GAME CASUAL",
          "GAME CASUAL",
          "GAME CASUAL",
          "GAME CASUAL",
          "GAME CASUAL",
          "GAME CASUAL",
          "GAME CASUAL",
          "GAME CASUAL",
          "GAME CASUAL",
          "GAME CASUAL",
          "GAME CASUAL",
          "GAME CASUAL",
          "GAME CASUAL",
          "GAME CASUAL",
          "GAME CASUAL",
          "GAME CASUAL",
          "GAME CASUAL",
          "GAME CASUAL",
          "GAME CASUAL",
          "GAME CASUAL",
          "GAME EDUCATIONAL",
          "GAME EDUCATIONAL",
          "GAME EDUCATIONAL",
          "GAME EDUCATIONAL",
          "GAME EDUCATIONAL",
          "GAME EDUCATIONAL",
          "GAME EDUCATIONAL",
          "GAME EDUCATIONAL",
          "GAME EDUCATIONAL",
          "GAME EDUCATIONAL",
          "GAME EDUCATIONAL",
          "GAME EDUCATIONAL",
          "GAME EDUCATIONAL",
          "GAME EDUCATIONAL",
          "GAME EDUCATIONAL",
          "GAME EDUCATIONAL",
          "GAME EDUCATIONAL",
          "GAME EDUCATIONAL",
          "GAME EDUCATIONAL",
          "GAME EDUCATIONAL",
          "GAME EDUCATIONAL",
          "GAME EDUCATIONAL",
          "GAME EDUCATIONAL",
          "GAME EDUCATIONAL",
          "GAME EDUCATIONAL",
          "GAME EDUCATIONAL",
          "GAME EDUCATIONAL",
          "GAME EDUCATIONAL",
          "GAME EDUCATIONAL",
          "GAME EDUCATIONAL",
          "GAME EDUCATIONAL",
          "GAME EDUCATIONAL",
          "GAME EDUCATIONAL",
          "GAME EDUCATIONAL",
          "GAME EDUCATIONAL",
          "GAME EDUCATIONAL",
          "GAME EDUCATIONAL",
          "GAME EDUCATIONAL",
          "GAME EDUCATIONAL",
          "GAME EDUCATIONAL",
          "GAME EDUCATIONAL",
          "GAME EDUCATIONAL",
          "GAME EDUCATIONAL",
          "GAME EDUCATIONAL",
          "GAME EDUCATIONAL",
          "GAME EDUCATIONAL",
          "GAME EDUCATIONAL",
          "GAME EDUCATIONAL",
          "GAME EDUCATIONAL",
          "GAME EDUCATIONAL",
          "GAME EDUCATIONAL",
          "GAME EDUCATIONAL",
          "GAME EDUCATIONAL",
          "GAME EDUCATIONAL",
          "GAME EDUCATIONAL",
          "GAME EDUCATIONAL",
          "GAME EDUCATIONAL",
          "GAME EDUCATIONAL",
          "GAME EDUCATIONAL",
          "GAME EDUCATIONAL",
          "GAME EDUCATIONAL",
          "GAME EDUCATIONAL",
          "GAME EDUCATIONAL",
          "GAME EDUCATIONAL",
          "GAME EDUCATIONAL",
          "GAME EDUCATIONAL",
          "GAME EDUCATIONAL",
          "GAME EDUCATIONAL",
          "GAME EDUCATIONAL",
          "GAME EDUCATIONAL",
          "GAME EDUCATIONAL",
          "GAME EDUCATIONAL",
          "GAME EDUCATIONAL",
          "GAME EDUCATIONAL",
          "GAME EDUCATIONAL",
          "GAME EDUCATIONAL",
          "GAME EDUCATIONAL",
          "GAME EDUCATIONAL",
          "GAME EDUCATIONAL",
          "GAME EDUCATIONAL",
          "GAME EDUCATIONAL",
          "GAME EDUCATIONAL",
          "GAME EDUCATIONAL",
          "GAME EDUCATIONAL",
          "GAME EDUCATIONAL",
          "GAME EDUCATIONAL",
          "GAME EDUCATIONAL",
          "GAME EDUCATIONAL",
          "GAME EDUCATIONAL",
          "GAME EDUCATIONAL",
          "GAME EDUCATIONAL",
          "GAME EDUCATIONAL",
          "GAME EDUCATIONAL",
          "GAME EDUCATIONAL",
          "GAME EDUCATIONAL",
          "GAME EDUCATIONAL",
          "GAME EDUCATIONAL",
          "GAME EDUCATIONAL",
          "GAME EDUCATIONAL",
          "GAME EDUCATIONAL",
          "GAME MUSIC",
          "GAME MUSIC",
          "GAME MUSIC",
          "GAME MUSIC",
          "GAME MUSIC",
          "GAME MUSIC",
          "GAME MUSIC",
          "GAME MUSIC",
          "GAME MUSIC",
          "GAME MUSIC",
          "GAME MUSIC",
          "GAME MUSIC",
          "GAME MUSIC",
          "GAME MUSIC",
          "GAME MUSIC",
          "GAME MUSIC",
          "GAME MUSIC",
          "GAME MUSIC",
          "GAME MUSIC",
          "GAME MUSIC",
          "GAME MUSIC",
          "GAME MUSIC",
          "GAME MUSIC",
          "GAME MUSIC",
          "GAME MUSIC",
          "GAME MUSIC",
          "GAME MUSIC",
          "GAME MUSIC",
          "GAME MUSIC",
          "GAME MUSIC",
          "GAME MUSIC",
          "GAME MUSIC",
          "GAME MUSIC",
          "GAME MUSIC",
          "GAME MUSIC",
          "GAME MUSIC",
          "GAME MUSIC",
          "GAME MUSIC",
          "GAME MUSIC",
          "GAME MUSIC",
          "GAME MUSIC",
          "GAME MUSIC",
          "GAME MUSIC",
          "GAME MUSIC",
          "GAME MUSIC",
          "GAME MUSIC",
          "GAME MUSIC",
          "GAME MUSIC",
          "GAME MUSIC",
          "GAME MUSIC",
          "GAME MUSIC",
          "GAME MUSIC",
          "GAME MUSIC",
          "GAME MUSIC",
          "GAME MUSIC",
          "GAME MUSIC",
          "GAME MUSIC",
          "GAME MUSIC",
          "GAME MUSIC",
          "GAME MUSIC",
          "GAME MUSIC",
          "GAME MUSIC",
          "GAME MUSIC",
          "GAME MUSIC",
          "GAME MUSIC",
          "GAME MUSIC",
          "GAME MUSIC",
          "GAME MUSIC",
          "GAME MUSIC",
          "GAME MUSIC",
          "GAME MUSIC",
          "GAME MUSIC",
          "GAME MUSIC",
          "GAME MUSIC",
          "GAME MUSIC",
          "GAME MUSIC",
          "GAME MUSIC",
          "GAME MUSIC",
          "GAME MUSIC",
          "GAME MUSIC",
          "GAME MUSIC",
          "GAME MUSIC",
          "GAME MUSIC",
          "GAME MUSIC",
          "GAME MUSIC",
          "GAME MUSIC",
          "GAME MUSIC",
          "GAME MUSIC",
          "GAME MUSIC",
          "GAME MUSIC",
          "GAME MUSIC",
          "GAME MUSIC",
          "GAME MUSIC",
          "GAME MUSIC",
          "GAME MUSIC",
          "GAME MUSIC",
          "GAME MUSIC",
          "GAME MUSIC",
          "GAME MUSIC",
          "GAME MUSIC",
          "GAME PUZZLE",
          "GAME PUZZLE",
          "GAME PUZZLE",
          "GAME PUZZLE",
          "GAME PUZZLE",
          "GAME PUZZLE",
          "GAME PUZZLE",
          "GAME PUZZLE",
          "GAME PUZZLE",
          "GAME PUZZLE",
          "GAME PUZZLE",
          "GAME PUZZLE",
          "GAME PUZZLE",
          "GAME PUZZLE",
          "GAME PUZZLE",
          "GAME PUZZLE",
          "GAME PUZZLE",
          "GAME PUZZLE",
          "GAME PUZZLE",
          "GAME PUZZLE",
          "GAME PUZZLE",
          "GAME PUZZLE",
          "GAME PUZZLE",
          "GAME PUZZLE",
          "GAME PUZZLE",
          "GAME PUZZLE",
          "GAME PUZZLE",
          "GAME PUZZLE",
          "GAME PUZZLE",
          "GAME PUZZLE",
          "GAME PUZZLE",
          "GAME PUZZLE",
          "GAME PUZZLE",
          "GAME PUZZLE",
          "GAME PUZZLE",
          "GAME PUZZLE",
          "GAME PUZZLE",
          "GAME PUZZLE",
          "GAME PUZZLE",
          "GAME PUZZLE",
          "GAME PUZZLE",
          "GAME PUZZLE",
          "GAME PUZZLE",
          "GAME PUZZLE",
          "GAME PUZZLE",
          "GAME PUZZLE",
          "GAME PUZZLE",
          "GAME PUZZLE",
          "GAME PUZZLE",
          "GAME PUZZLE",
          "GAME PUZZLE",
          "GAME PUZZLE",
          "GAME PUZZLE",
          "GAME PUZZLE",
          "GAME PUZZLE",
          "GAME PUZZLE",
          "GAME PUZZLE",
          "GAME PUZZLE",
          "GAME PUZZLE",
          "GAME PUZZLE",
          "GAME PUZZLE",
          "GAME PUZZLE",
          "GAME PUZZLE",
          "GAME PUZZLE",
          "GAME PUZZLE",
          "GAME PUZZLE",
          "GAME PUZZLE",
          "GAME PUZZLE",
          "GAME PUZZLE",
          "GAME PUZZLE",
          "GAME PUZZLE",
          "GAME PUZZLE",
          "GAME PUZZLE",
          "GAME PUZZLE",
          "GAME PUZZLE",
          "GAME PUZZLE",
          "GAME PUZZLE",
          "GAME PUZZLE",
          "GAME PUZZLE",
          "GAME PUZZLE",
          "GAME PUZZLE",
          "GAME PUZZLE",
          "GAME PUZZLE",
          "GAME PUZZLE",
          "GAME PUZZLE",
          "GAME PUZZLE",
          "GAME PUZZLE",
          "GAME PUZZLE",
          "GAME PUZZLE",
          "GAME PUZZLE",
          "GAME PUZZLE",
          "GAME PUZZLE",
          "GAME PUZZLE",
          "GAME PUZZLE",
          "GAME PUZZLE",
          "GAME PUZZLE",
          "GAME PUZZLE",
          "GAME PUZZLE",
          "GAME PUZZLE",
          "GAME PUZZLE",
          "GAME RACING",
          "GAME RACING",
          "GAME RACING",
          "GAME RACING",
          "GAME RACING",
          "GAME RACING",
          "GAME RACING",
          "GAME RACING",
          "GAME RACING",
          "GAME RACING",
          "GAME RACING",
          "GAME RACING",
          "GAME RACING",
          "GAME RACING",
          "GAME RACING",
          "GAME RACING",
          "GAME RACING",
          "GAME RACING",
          "GAME RACING",
          "GAME RACING",
          "GAME RACING",
          "GAME RACING",
          "GAME RACING",
          "GAME RACING",
          "GAME RACING",
          "GAME RACING",
          "GAME RACING",
          "GAME RACING",
          "GAME RACING",
          "GAME RACING",
          "GAME RACING",
          "GAME RACING",
          "GAME RACING",
          "GAME RACING",
          "GAME RACING",
          "GAME RACING",
          "GAME RACING",
          "GAME RACING",
          "GAME RACING",
          "GAME RACING",
          "GAME RACING",
          "GAME RACING",
          "GAME RACING",
          "GAME RACING",
          "GAME RACING",
          "GAME RACING",
          "GAME RACING",
          "GAME RACING",
          "GAME RACING",
          "GAME RACING",
          "GAME RACING",
          "GAME RACING",
          "GAME RACING",
          "GAME RACING",
          "GAME RACING",
          "GAME RACING",
          "GAME RACING",
          "GAME RACING",
          "GAME RACING",
          "GAME RACING",
          "GAME RACING",
          "GAME RACING",
          "GAME RACING",
          "GAME RACING",
          "GAME RACING",
          "GAME RACING",
          "GAME RACING",
          "GAME RACING",
          "GAME RACING",
          "GAME RACING",
          "GAME RACING",
          "GAME RACING",
          "GAME RACING",
          "GAME RACING",
          "GAME RACING",
          "GAME RACING",
          "GAME RACING",
          "GAME RACING",
          "GAME RACING",
          "GAME RACING",
          "GAME RACING",
          "GAME RACING",
          "GAME RACING",
          "GAME RACING",
          "GAME RACING",
          "GAME RACING",
          "GAME RACING",
          "GAME RACING",
          "GAME RACING",
          "GAME RACING",
          "GAME RACING",
          "GAME RACING",
          "GAME RACING",
          "GAME RACING",
          "GAME RACING",
          "GAME RACING",
          "GAME RACING",
          "GAME RACING",
          "GAME RACING",
          "GAME RACING",
          "GAME ROLE PLAYING",
          "GAME ROLE PLAYING",
          "GAME ROLE PLAYING",
          "GAME ROLE PLAYING",
          "GAME ROLE PLAYING",
          "GAME ROLE PLAYING",
          "GAME ROLE PLAYING",
          "GAME ROLE PLAYING",
          "GAME ROLE PLAYING",
          "GAME ROLE PLAYING",
          "GAME ROLE PLAYING",
          "GAME ROLE PLAYING",
          "GAME ROLE PLAYING",
          "GAME ROLE PLAYING",
          "GAME ROLE PLAYING",
          "GAME ROLE PLAYING",
          "GAME ROLE PLAYING",
          "GAME ROLE PLAYING",
          "GAME ROLE PLAYING",
          "GAME ROLE PLAYING",
          "GAME ROLE PLAYING",
          "GAME ROLE PLAYING",
          "GAME ROLE PLAYING",
          "GAME ROLE PLAYING",
          "GAME ROLE PLAYING",
          "GAME ROLE PLAYING",
          "GAME ROLE PLAYING",
          "GAME ROLE PLAYING",
          "GAME ROLE PLAYING",
          "GAME ROLE PLAYING",
          "GAME ROLE PLAYING",
          "GAME ROLE PLAYING",
          "GAME ROLE PLAYING",
          "GAME ROLE PLAYING",
          "GAME ROLE PLAYING",
          "GAME ROLE PLAYING",
          "GAME ROLE PLAYING",
          "GAME ROLE PLAYING",
          "GAME ROLE PLAYING",
          "GAME ROLE PLAYING",
          "GAME ROLE PLAYING",
          "GAME ROLE PLAYING",
          "GAME ROLE PLAYING",
          "GAME ROLE PLAYING",
          "GAME ROLE PLAYING",
          "GAME ROLE PLAYING",
          "GAME ROLE PLAYING",
          "GAME ROLE PLAYING",
          "GAME ROLE PLAYING",
          "GAME ROLE PLAYING",
          "GAME ROLE PLAYING",
          "GAME ROLE PLAYING",
          "GAME ROLE PLAYING",
          "GAME ROLE PLAYING",
          "GAME ROLE PLAYING",
          "GAME ROLE PLAYING",
          "GAME ROLE PLAYING",
          "GAME ROLE PLAYING",
          "GAME ROLE PLAYING",
          "GAME ROLE PLAYING",
          "GAME ROLE PLAYING",
          "GAME ROLE PLAYING",
          "GAME ROLE PLAYING",
          "GAME ROLE PLAYING",
          "GAME ROLE PLAYING",
          "GAME ROLE PLAYING",
          "GAME ROLE PLAYING",
          "GAME ROLE PLAYING",
          "GAME ROLE PLAYING",
          "GAME ROLE PLAYING",
          "GAME ROLE PLAYING",
          "GAME ROLE PLAYING",
          "GAME ROLE PLAYING",
          "GAME ROLE PLAYING",
          "GAME ROLE PLAYING",
          "GAME ROLE PLAYING",
          "GAME ROLE PLAYING",
          "GAME ROLE PLAYING",
          "GAME ROLE PLAYING",
          "GAME ROLE PLAYING",
          "GAME ROLE PLAYING",
          "GAME ROLE PLAYING",
          "GAME ROLE PLAYING",
          "GAME ROLE PLAYING",
          "GAME ROLE PLAYING",
          "GAME ROLE PLAYING",
          "GAME ROLE PLAYING",
          "GAME ROLE PLAYING",
          "GAME ROLE PLAYING",
          "GAME ROLE PLAYING",
          "GAME ROLE PLAYING",
          "GAME ROLE PLAYING",
          "GAME ROLE PLAYING",
          "GAME ROLE PLAYING",
          "GAME ROLE PLAYING",
          "GAME ROLE PLAYING",
          "GAME ROLE PLAYING",
          "GAME ROLE PLAYING",
          "GAME ROLE PLAYING",
          "GAME ROLE PLAYING",
          "GAME SIMULATION",
          "GAME SIMULATION",
          "GAME SIMULATION",
          "GAME SIMULATION",
          "GAME SIMULATION",
          "GAME SIMULATION",
          "GAME SIMULATION",
          "GAME SIMULATION",
          "GAME SIMULATION",
          "GAME SIMULATION",
          "GAME SIMULATION",
          "GAME SIMULATION",
          "GAME SIMULATION",
          "GAME SIMULATION",
          "GAME SIMULATION",
          "GAME SIMULATION",
          "GAME SIMULATION",
          "GAME SIMULATION",
          "GAME SIMULATION",
          "GAME SIMULATION",
          "GAME SIMULATION",
          "GAME SIMULATION",
          "GAME SIMULATION",
          "GAME SIMULATION",
          "GAME SIMULATION",
          "GAME SIMULATION",
          "GAME SIMULATION",
          "GAME SIMULATION",
          "GAME SIMULATION",
          "GAME SIMULATION",
          "GAME SIMULATION",
          "GAME SIMULATION",
          "GAME SIMULATION",
          "GAME SIMULATION",
          "GAME SIMULATION",
          "GAME SIMULATION",
          "GAME SIMULATION",
          "GAME SIMULATION",
          "GAME SIMULATION",
          "GAME SIMULATION",
          "GAME SIMULATION",
          "GAME SIMULATION",
          "GAME SIMULATION",
          "GAME SIMULATION",
          "GAME SIMULATION",
          "GAME SIMULATION",
          "GAME SIMULATION",
          "GAME SIMULATION",
          "GAME SIMULATION",
          "GAME SIMULATION",
          "GAME SIMULATION",
          "GAME SIMULATION",
          "GAME SIMULATION",
          "GAME SIMULATION",
          "GAME SIMULATION",
          "GAME SIMULATION",
          "GAME SIMULATION",
          "GAME SIMULATION",
          "GAME SIMULATION",
          "GAME SIMULATION",
          "GAME SIMULATION",
          "GAME SIMULATION",
          "GAME SIMULATION",
          "GAME SIMULATION",
          "GAME SIMULATION",
          "GAME SIMULATION",
          "GAME SIMULATION",
          "GAME SIMULATION",
          "GAME SIMULATION",
          "GAME SIMULATION",
          "GAME SIMULATION",
          "GAME SIMULATION",
          "GAME SIMULATION",
          "GAME SIMULATION",
          "GAME SIMULATION",
          "GAME SIMULATION",
          "GAME SIMULATION",
          "GAME SIMULATION",
          "GAME SIMULATION",
          "GAME SIMULATION",
          "GAME SIMULATION",
          "GAME SIMULATION",
          "GAME SIMULATION",
          "GAME SIMULATION",
          "GAME SIMULATION",
          "GAME SIMULATION",
          "GAME SIMULATION",
          "GAME SIMULATION",
          "GAME SIMULATION",
          "GAME SIMULATION",
          "GAME SIMULATION",
          "GAME SIMULATION",
          "GAME SIMULATION",
          "GAME SIMULATION",
          "GAME SIMULATION",
          "GAME SIMULATION",
          "GAME SIMULATION",
          "GAME SIMULATION",
          "GAME SIMULATION",
          "GAME SIMULATION",
          "GAME SPORTS",
          "GAME SPORTS",
          "GAME SPORTS",
          "GAME SPORTS",
          "GAME SPORTS",
          "GAME SPORTS",
          "GAME SPORTS",
          "GAME SPORTS",
          "GAME SPORTS",
          "GAME SPORTS",
          "GAME SPORTS",
          "GAME SPORTS",
          "GAME SPORTS",
          "GAME SPORTS",
          "GAME SPORTS",
          "GAME SPORTS",
          "GAME SPORTS",
          "GAME SPORTS",
          "GAME SPORTS",
          "GAME SPORTS",
          "GAME SPORTS",
          "GAME SPORTS",
          "GAME SPORTS",
          "GAME SPORTS",
          "GAME SPORTS",
          "GAME SPORTS",
          "GAME SPORTS",
          "GAME SPORTS",
          "GAME SPORTS",
          "GAME SPORTS",
          "GAME SPORTS",
          "GAME SPORTS",
          "GAME SPORTS",
          "GAME SPORTS",
          "GAME SPORTS",
          "GAME SPORTS",
          "GAME SPORTS",
          "GAME SPORTS",
          "GAME SPORTS",
          "GAME SPORTS",
          "GAME SPORTS",
          "GAME SPORTS",
          "GAME SPORTS",
          "GAME SPORTS",
          "GAME SPORTS",
          "GAME SPORTS",
          "GAME SPORTS",
          "GAME SPORTS",
          "GAME SPORTS",
          "GAME SPORTS",
          "GAME SPORTS",
          "GAME SPORTS",
          "GAME SPORTS",
          "GAME SPORTS",
          "GAME SPORTS",
          "GAME SPORTS",
          "GAME SPORTS",
          "GAME SPORTS",
          "GAME SPORTS",
          "GAME SPORTS",
          "GAME SPORTS",
          "GAME SPORTS",
          "GAME SPORTS",
          "GAME SPORTS",
          "GAME SPORTS",
          "GAME SPORTS",
          "GAME SPORTS",
          "GAME SPORTS",
          "GAME SPORTS",
          "GAME SPORTS",
          "GAME SPORTS",
          "GAME SPORTS",
          "GAME SPORTS",
          "GAME SPORTS",
          "GAME SPORTS",
          "GAME SPORTS",
          "GAME SPORTS",
          "GAME SPORTS",
          "GAME SPORTS",
          "GAME SPORTS",
          "GAME SPORTS",
          "GAME SPORTS",
          "GAME SPORTS",
          "GAME SPORTS",
          "GAME SPORTS",
          "GAME SPORTS",
          "GAME SPORTS",
          "GAME SPORTS",
          "GAME SPORTS",
          "GAME SPORTS",
          "GAME SPORTS",
          "GAME SPORTS",
          "GAME SPORTS",
          "GAME SPORTS",
          "GAME SPORTS",
          "GAME SPORTS",
          "GAME SPORTS",
          "GAME SPORTS",
          "GAME SPORTS",
          "GAME SPORTS",
          "GAME STRATEGY",
          "GAME STRATEGY",
          "GAME STRATEGY",
          "GAME STRATEGY",
          "GAME STRATEGY",
          "GAME STRATEGY",
          "GAME STRATEGY",
          "GAME STRATEGY",
          "GAME STRATEGY",
          "GAME STRATEGY",
          "GAME STRATEGY",
          "GAME STRATEGY",
          "GAME STRATEGY",
          "GAME STRATEGY",
          "GAME STRATEGY",
          "GAME STRATEGY",
          "GAME STRATEGY",
          "GAME STRATEGY",
          "GAME STRATEGY",
          "GAME STRATEGY",
          "GAME STRATEGY",
          "GAME STRATEGY",
          "GAME STRATEGY",
          "GAME STRATEGY",
          "GAME STRATEGY",
          "GAME STRATEGY",
          "GAME STRATEGY",
          "GAME STRATEGY",
          "GAME STRATEGY",
          "GAME STRATEGY",
          "GAME STRATEGY",
          "GAME STRATEGY",
          "GAME STRATEGY",
          "GAME STRATEGY",
          "GAME STRATEGY",
          "GAME STRATEGY",
          "GAME STRATEGY",
          "GAME STRATEGY",
          "GAME STRATEGY",
          "GAME STRATEGY",
          "GAME STRATEGY",
          "GAME STRATEGY",
          "GAME STRATEGY",
          "GAME STRATEGY",
          "GAME STRATEGY",
          "GAME STRATEGY",
          "GAME STRATEGY",
          "GAME STRATEGY",
          "GAME STRATEGY",
          "GAME STRATEGY",
          "GAME STRATEGY",
          "GAME STRATEGY",
          "GAME STRATEGY",
          "GAME STRATEGY",
          "GAME STRATEGY",
          "GAME STRATEGY",
          "GAME STRATEGY",
          "GAME STRATEGY",
          "GAME STRATEGY",
          "GAME STRATEGY",
          "GAME STRATEGY",
          "GAME STRATEGY",
          "GAME STRATEGY",
          "GAME STRATEGY",
          "GAME STRATEGY",
          "GAME STRATEGY",
          "GAME STRATEGY",
          "GAME STRATEGY",
          "GAME STRATEGY",
          "GAME STRATEGY",
          "GAME STRATEGY",
          "GAME STRATEGY",
          "GAME STRATEGY",
          "GAME STRATEGY",
          "GAME STRATEGY",
          "GAME STRATEGY",
          "GAME STRATEGY",
          "GAME STRATEGY",
          "GAME STRATEGY",
          "GAME STRATEGY",
          "GAME STRATEGY",
          "GAME STRATEGY",
          "GAME STRATEGY",
          "GAME STRATEGY",
          "GAME STRATEGY",
          "GAME STRATEGY",
          "GAME STRATEGY",
          "GAME STRATEGY",
          "GAME STRATEGY",
          "GAME STRATEGY",
          "GAME STRATEGY",
          "GAME STRATEGY",
          "GAME STRATEGY",
          "GAME STRATEGY",
          "GAME STRATEGY",
          "GAME STRATEGY",
          "GAME STRATEGY",
          "GAME STRATEGY",
          "GAME STRATEGY",
          "GAME STRATEGY",
          "GAME TRIVIA",
          "GAME TRIVIA",
          "GAME TRIVIA",
          "GAME TRIVIA",
          "GAME TRIVIA",
          "GAME TRIVIA",
          "GAME TRIVIA",
          "GAME TRIVIA",
          "GAME TRIVIA",
          "GAME TRIVIA",
          "GAME TRIVIA",
          "GAME TRIVIA",
          "GAME TRIVIA",
          "GAME TRIVIA",
          "GAME TRIVIA",
          "GAME TRIVIA",
          "GAME TRIVIA",
          "GAME TRIVIA",
          "GAME TRIVIA",
          "GAME TRIVIA",
          "GAME TRIVIA",
          "GAME TRIVIA",
          "GAME TRIVIA",
          "GAME TRIVIA",
          "GAME TRIVIA",
          "GAME TRIVIA",
          "GAME TRIVIA",
          "GAME TRIVIA",
          "GAME TRIVIA",
          "GAME TRIVIA",
          "GAME TRIVIA",
          "GAME TRIVIA",
          "GAME TRIVIA",
          "GAME TRIVIA",
          "GAME TRIVIA",
          "GAME TRIVIA",
          "GAME TRIVIA",
          "GAME TRIVIA",
          "GAME TRIVIA",
          "GAME TRIVIA",
          "GAME TRIVIA",
          "GAME TRIVIA",
          "GAME TRIVIA",
          "GAME TRIVIA",
          "GAME TRIVIA",
          "GAME TRIVIA",
          "GAME TRIVIA",
          "GAME TRIVIA",
          "GAME TRIVIA",
          "GAME TRIVIA",
          "GAME TRIVIA",
          "GAME TRIVIA",
          "GAME TRIVIA",
          "GAME TRIVIA",
          "GAME TRIVIA",
          "GAME TRIVIA",
          "GAME TRIVIA",
          "GAME TRIVIA",
          "GAME TRIVIA",
          "GAME TRIVIA",
          "GAME TRIVIA",
          "GAME TRIVIA",
          "GAME TRIVIA",
          "GAME TRIVIA",
          "GAME TRIVIA",
          "GAME TRIVIA",
          "GAME TRIVIA",
          "GAME TRIVIA",
          "GAME TRIVIA",
          "GAME TRIVIA",
          "GAME TRIVIA",
          "GAME TRIVIA",
          "GAME TRIVIA",
          "GAME TRIVIA",
          "GAME TRIVIA",
          "GAME TRIVIA",
          "GAME TRIVIA",
          "GAME TRIVIA",
          "GAME TRIVIA",
          "GAME TRIVIA",
          "GAME TRIVIA",
          "GAME TRIVIA",
          "GAME TRIVIA",
          "GAME TRIVIA",
          "GAME TRIVIA",
          "GAME TRIVIA",
          "GAME TRIVIA",
          "GAME TRIVIA",
          "GAME TRIVIA",
          "GAME TRIVIA",
          "GAME TRIVIA",
          "GAME TRIVIA",
          "GAME TRIVIA",
          "GAME TRIVIA",
          "GAME TRIVIA",
          "GAME TRIVIA",
          "GAME TRIVIA",
          "GAME TRIVIA",
          "GAME TRIVIA",
          "GAME TRIVIA",
          "GAME WORD",
          "GAME WORD",
          "GAME WORD",
          "GAME WORD",
          "GAME WORD",
          "GAME WORD",
          "GAME WORD",
          "GAME WORD",
          "GAME WORD",
          "GAME WORD",
          "GAME WORD",
          "GAME WORD",
          "GAME WORD",
          "GAME WORD",
          "GAME WORD",
          "GAME WORD",
          "GAME WORD",
          "GAME WORD",
          "GAME WORD",
          "GAME WORD",
          "GAME WORD",
          "GAME WORD",
          "GAME WORD",
          "GAME WORD",
          "GAME WORD",
          "GAME WORD",
          "GAME WORD",
          "GAME WORD",
          "GAME WORD",
          "GAME WORD",
          "GAME WORD",
          "GAME WORD",
          "GAME WORD",
          "GAME WORD",
          "GAME WORD",
          "GAME WORD",
          "GAME WORD",
          "GAME WORD",
          "GAME WORD",
          "GAME WORD",
          "GAME WORD",
          "GAME WORD",
          "GAME WORD",
          "GAME WORD",
          "GAME WORD",
          "GAME WORD",
          "GAME WORD",
          "GAME WORD",
          "GAME WORD",
          "GAME WORD",
          "GAME WORD",
          "GAME WORD",
          "GAME WORD",
          "GAME WORD",
          "GAME WORD",
          "GAME WORD",
          "GAME WORD",
          "GAME WORD",
          "GAME WORD",
          "GAME WORD",
          "GAME WORD",
          "GAME WORD",
          "GAME WORD",
          "GAME WORD",
          "GAME WORD",
          "GAME WORD",
          "GAME WORD",
          "GAME WORD",
          "GAME WORD",
          "GAME WORD",
          "GAME WORD",
          "GAME WORD",
          "GAME WORD",
          "GAME WORD",
          "GAME WORD",
          "GAME WORD",
          "GAME WORD",
          "GAME WORD",
          "GAME WORD",
          "GAME WORD",
          "GAME WORD",
          "GAME WORD",
          "GAME WORD",
          "GAME WORD",
          "GAME WORD",
          "GAME WORD",
          "GAME WORD",
          "GAME WORD",
          "GAME WORD",
          "GAME WORD",
          "GAME WORD",
          "GAME WORD",
          "GAME WORD",
          "GAME WORD",
          "GAME WORD",
          "GAME WORD",
          "GAME WORD",
          "GAME WORD",
          "GAME WORD",
          "GAME WORD",
          "GAME WORD",
          "GAME WORD",
          "GAME WORD",
          "GAME WORD"
         ],
         "xaxis": "x",
         "yaxis": "y"
        }
       ],
       "layout": {
        "barmode": "relative",
        "legend": {
         "tracegroupgap": 0
        },
        "template": {
         "data": {
          "bar": [
           {
            "error_x": {
             "color": "#2a3f5f"
            },
            "error_y": {
             "color": "#2a3f5f"
            },
            "marker": {
             "line": {
              "color": "#E5ECF6",
              "width": 0.5
             },
             "pattern": {
              "fillmode": "overlay",
              "size": 10,
              "solidity": 0.2
             }
            },
            "type": "bar"
           }
          ],
          "barpolar": [
           {
            "marker": {
             "line": {
              "color": "#E5ECF6",
              "width": 0.5
             },
             "pattern": {
              "fillmode": "overlay",
              "size": 10,
              "solidity": 0.2
             }
            },
            "type": "barpolar"
           }
          ],
          "carpet": [
           {
            "aaxis": {
             "endlinecolor": "#2a3f5f",
             "gridcolor": "white",
             "linecolor": "white",
             "minorgridcolor": "white",
             "startlinecolor": "#2a3f5f"
            },
            "baxis": {
             "endlinecolor": "#2a3f5f",
             "gridcolor": "white",
             "linecolor": "white",
             "minorgridcolor": "white",
             "startlinecolor": "#2a3f5f"
            },
            "type": "carpet"
           }
          ],
          "choropleth": [
           {
            "colorbar": {
             "outlinewidth": 0,
             "ticks": ""
            },
            "type": "choropleth"
           }
          ],
          "contour": [
           {
            "colorbar": {
             "outlinewidth": 0,
             "ticks": ""
            },
            "colorscale": [
             [
              0,
              "#0d0887"
             ],
             [
              0.1111111111111111,
              "#46039f"
             ],
             [
              0.2222222222222222,
              "#7201a8"
             ],
             [
              0.3333333333333333,
              "#9c179e"
             ],
             [
              0.4444444444444444,
              "#bd3786"
             ],
             [
              0.5555555555555556,
              "#d8576b"
             ],
             [
              0.6666666666666666,
              "#ed7953"
             ],
             [
              0.7777777777777778,
              "#fb9f3a"
             ],
             [
              0.8888888888888888,
              "#fdca26"
             ],
             [
              1,
              "#f0f921"
             ]
            ],
            "type": "contour"
           }
          ],
          "contourcarpet": [
           {
            "colorbar": {
             "outlinewidth": 0,
             "ticks": ""
            },
            "type": "contourcarpet"
           }
          ],
          "heatmap": [
           {
            "colorbar": {
             "outlinewidth": 0,
             "ticks": ""
            },
            "colorscale": [
             [
              0,
              "#0d0887"
             ],
             [
              0.1111111111111111,
              "#46039f"
             ],
             [
              0.2222222222222222,
              "#7201a8"
             ],
             [
              0.3333333333333333,
              "#9c179e"
             ],
             [
              0.4444444444444444,
              "#bd3786"
             ],
             [
              0.5555555555555556,
              "#d8576b"
             ],
             [
              0.6666666666666666,
              "#ed7953"
             ],
             [
              0.7777777777777778,
              "#fb9f3a"
             ],
             [
              0.8888888888888888,
              "#fdca26"
             ],
             [
              1,
              "#f0f921"
             ]
            ],
            "type": "heatmap"
           }
          ],
          "heatmapgl": [
           {
            "colorbar": {
             "outlinewidth": 0,
             "ticks": ""
            },
            "colorscale": [
             [
              0,
              "#0d0887"
             ],
             [
              0.1111111111111111,
              "#46039f"
             ],
             [
              0.2222222222222222,
              "#7201a8"
             ],
             [
              0.3333333333333333,
              "#9c179e"
             ],
             [
              0.4444444444444444,
              "#bd3786"
             ],
             [
              0.5555555555555556,
              "#d8576b"
             ],
             [
              0.6666666666666666,
              "#ed7953"
             ],
             [
              0.7777777777777778,
              "#fb9f3a"
             ],
             [
              0.8888888888888888,
              "#fdca26"
             ],
             [
              1,
              "#f0f921"
             ]
            ],
            "type": "heatmapgl"
           }
          ],
          "histogram": [
           {
            "marker": {
             "pattern": {
              "fillmode": "overlay",
              "size": 10,
              "solidity": 0.2
             }
            },
            "type": "histogram"
           }
          ],
          "histogram2d": [
           {
            "colorbar": {
             "outlinewidth": 0,
             "ticks": ""
            },
            "colorscale": [
             [
              0,
              "#0d0887"
             ],
             [
              0.1111111111111111,
              "#46039f"
             ],
             [
              0.2222222222222222,
              "#7201a8"
             ],
             [
              0.3333333333333333,
              "#9c179e"
             ],
             [
              0.4444444444444444,
              "#bd3786"
             ],
             [
              0.5555555555555556,
              "#d8576b"
             ],
             [
              0.6666666666666666,
              "#ed7953"
             ],
             [
              0.7777777777777778,
              "#fb9f3a"
             ],
             [
              0.8888888888888888,
              "#fdca26"
             ],
             [
              1,
              "#f0f921"
             ]
            ],
            "type": "histogram2d"
           }
          ],
          "histogram2dcontour": [
           {
            "colorbar": {
             "outlinewidth": 0,
             "ticks": ""
            },
            "colorscale": [
             [
              0,
              "#0d0887"
             ],
             [
              0.1111111111111111,
              "#46039f"
             ],
             [
              0.2222222222222222,
              "#7201a8"
             ],
             [
              0.3333333333333333,
              "#9c179e"
             ],
             [
              0.4444444444444444,
              "#bd3786"
             ],
             [
              0.5555555555555556,
              "#d8576b"
             ],
             [
              0.6666666666666666,
              "#ed7953"
             ],
             [
              0.7777777777777778,
              "#fb9f3a"
             ],
             [
              0.8888888888888888,
              "#fdca26"
             ],
             [
              1,
              "#f0f921"
             ]
            ],
            "type": "histogram2dcontour"
           }
          ],
          "mesh3d": [
           {
            "colorbar": {
             "outlinewidth": 0,
             "ticks": ""
            },
            "type": "mesh3d"
           }
          ],
          "parcoords": [
           {
            "line": {
             "colorbar": {
              "outlinewidth": 0,
              "ticks": ""
             }
            },
            "type": "parcoords"
           }
          ],
          "pie": [
           {
            "automargin": true,
            "type": "pie"
           }
          ],
          "scatter": [
           {
            "marker": {
             "colorbar": {
              "outlinewidth": 0,
              "ticks": ""
             }
            },
            "type": "scatter"
           }
          ],
          "scatter3d": [
           {
            "line": {
             "colorbar": {
              "outlinewidth": 0,
              "ticks": ""
             }
            },
            "marker": {
             "colorbar": {
              "outlinewidth": 0,
              "ticks": ""
             }
            },
            "type": "scatter3d"
           }
          ],
          "scattercarpet": [
           {
            "marker": {
             "colorbar": {
              "outlinewidth": 0,
              "ticks": ""
             }
            },
            "type": "scattercarpet"
           }
          ],
          "scattergeo": [
           {
            "marker": {
             "colorbar": {
              "outlinewidth": 0,
              "ticks": ""
             }
            },
            "type": "scattergeo"
           }
          ],
          "scattergl": [
           {
            "marker": {
             "colorbar": {
              "outlinewidth": 0,
              "ticks": ""
             }
            },
            "type": "scattergl"
           }
          ],
          "scattermapbox": [
           {
            "marker": {
             "colorbar": {
              "outlinewidth": 0,
              "ticks": ""
             }
            },
            "type": "scattermapbox"
           }
          ],
          "scatterpolar": [
           {
            "marker": {
             "colorbar": {
              "outlinewidth": 0,
              "ticks": ""
             }
            },
            "type": "scatterpolar"
           }
          ],
          "scatterpolargl": [
           {
            "marker": {
             "colorbar": {
              "outlinewidth": 0,
              "ticks": ""
             }
            },
            "type": "scatterpolargl"
           }
          ],
          "scatterternary": [
           {
            "marker": {
             "colorbar": {
              "outlinewidth": 0,
              "ticks": ""
             }
            },
            "type": "scatterternary"
           }
          ],
          "surface": [
           {
            "colorbar": {
             "outlinewidth": 0,
             "ticks": ""
            },
            "colorscale": [
             [
              0,
              "#0d0887"
             ],
             [
              0.1111111111111111,
              "#46039f"
             ],
             [
              0.2222222222222222,
              "#7201a8"
             ],
             [
              0.3333333333333333,
              "#9c179e"
             ],
             [
              0.4444444444444444,
              "#bd3786"
             ],
             [
              0.5555555555555556,
              "#d8576b"
             ],
             [
              0.6666666666666666,
              "#ed7953"
             ],
             [
              0.7777777777777778,
              "#fb9f3a"
             ],
             [
              0.8888888888888888,
              "#fdca26"
             ],
             [
              1,
              "#f0f921"
             ]
            ],
            "type": "surface"
           }
          ],
          "table": [
           {
            "cells": {
             "fill": {
              "color": "#EBF0F8"
             },
             "line": {
              "color": "white"
             }
            },
            "header": {
             "fill": {
              "color": "#C8D4E3"
             },
             "line": {
              "color": "white"
             }
            },
            "type": "table"
           }
          ]
         },
         "layout": {
          "annotationdefaults": {
           "arrowcolor": "#2a3f5f",
           "arrowhead": 0,
           "arrowwidth": 1
          },
          "autotypenumbers": "strict",
          "coloraxis": {
           "colorbar": {
            "outlinewidth": 0,
            "ticks": ""
           }
          },
          "colorscale": {
           "diverging": [
            [
             0,
             "#8e0152"
            ],
            [
             0.1,
             "#c51b7d"
            ],
            [
             0.2,
             "#de77ae"
            ],
            [
             0.3,
             "#f1b6da"
            ],
            [
             0.4,
             "#fde0ef"
            ],
            [
             0.5,
             "#f7f7f7"
            ],
            [
             0.6,
             "#e6f5d0"
            ],
            [
             0.7,
             "#b8e186"
            ],
            [
             0.8,
             "#7fbc41"
            ],
            [
             0.9,
             "#4d9221"
            ],
            [
             1,
             "#276419"
            ]
           ],
           "sequential": [
            [
             0,
             "#0d0887"
            ],
            [
             0.1111111111111111,
             "#46039f"
            ],
            [
             0.2222222222222222,
             "#7201a8"
            ],
            [
             0.3333333333333333,
             "#9c179e"
            ],
            [
             0.4444444444444444,
             "#bd3786"
            ],
            [
             0.5555555555555556,
             "#d8576b"
            ],
            [
             0.6666666666666666,
             "#ed7953"
            ],
            [
             0.7777777777777778,
             "#fb9f3a"
            ],
            [
             0.8888888888888888,
             "#fdca26"
            ],
            [
             1,
             "#f0f921"
            ]
           ],
           "sequentialminus": [
            [
             0,
             "#0d0887"
            ],
            [
             0.1111111111111111,
             "#46039f"
            ],
            [
             0.2222222222222222,
             "#7201a8"
            ],
            [
             0.3333333333333333,
             "#9c179e"
            ],
            [
             0.4444444444444444,
             "#bd3786"
            ],
            [
             0.5555555555555556,
             "#d8576b"
            ],
            [
             0.6666666666666666,
             "#ed7953"
            ],
            [
             0.7777777777777778,
             "#fb9f3a"
            ],
            [
             0.8888888888888888,
             "#fdca26"
            ],
            [
             1,
             "#f0f921"
            ]
           ]
          },
          "colorway": [
           "#636efa",
           "#EF553B",
           "#00cc96",
           "#ab63fa",
           "#FFA15A",
           "#19d3f3",
           "#FF6692",
           "#B6E880",
           "#FF97FF",
           "#FECB52"
          ],
          "font": {
           "color": "#2a3f5f"
          },
          "geo": {
           "bgcolor": "white",
           "lakecolor": "white",
           "landcolor": "#E5ECF6",
           "showlakes": true,
           "showland": true,
           "subunitcolor": "white"
          },
          "hoverlabel": {
           "align": "left"
          },
          "hovermode": "closest",
          "mapbox": {
           "style": "light"
          },
          "paper_bgcolor": "white",
          "plot_bgcolor": "#E5ECF6",
          "polar": {
           "angularaxis": {
            "gridcolor": "white",
            "linecolor": "white",
            "ticks": ""
           },
           "bgcolor": "#E5ECF6",
           "radialaxis": {
            "gridcolor": "white",
            "linecolor": "white",
            "ticks": ""
           }
          },
          "scene": {
           "xaxis": {
            "backgroundcolor": "#E5ECF6",
            "gridcolor": "white",
            "gridwidth": 2,
            "linecolor": "white",
            "showbackground": true,
            "ticks": "",
            "zerolinecolor": "white"
           },
           "yaxis": {
            "backgroundcolor": "#E5ECF6",
            "gridcolor": "white",
            "gridwidth": 2,
            "linecolor": "white",
            "showbackground": true,
            "ticks": "",
            "zerolinecolor": "white"
           },
           "zaxis": {
            "backgroundcolor": "#E5ECF6",
            "gridcolor": "white",
            "gridwidth": 2,
            "linecolor": "white",
            "showbackground": true,
            "ticks": "",
            "zerolinecolor": "white"
           }
          },
          "shapedefaults": {
           "line": {
            "color": "#2a3f5f"
           }
          },
          "ternary": {
           "aaxis": {
            "gridcolor": "white",
            "linecolor": "white",
            "ticks": ""
           },
           "baxis": {
            "gridcolor": "white",
            "linecolor": "white",
            "ticks": ""
           },
           "bgcolor": "#E5ECF6",
           "caxis": {
            "gridcolor": "white",
            "linecolor": "white",
            "ticks": ""
           }
          },
          "title": {
           "x": 0.05
          },
          "xaxis": {
           "automargin": true,
           "gridcolor": "white",
           "linecolor": "white",
           "ticks": "",
           "title": {
            "standoff": 15
           },
           "zerolinecolor": "white",
           "zerolinewidth": 2
          },
          "yaxis": {
           "automargin": true,
           "gridcolor": "white",
           "linecolor": "white",
           "ticks": "",
           "title": {
            "standoff": 15
           },
           "zerolinecolor": "white",
           "zerolinewidth": 2
          }
         }
        },
        "title": {
         "text": "Game Categories"
        },
        "xaxis": {
         "anchor": "y",
         "categoryorder": "total descending",
         "domain": [
          0,
          1
         ],
         "title": {
          "text": "category"
         }
        },
        "yaxis": {
         "anchor": "x",
         "domain": [
          0,
          1
         ],
         "title": {
          "text": "count"
         }
        }
       }
      },
      "text/html": [
       "<div>                            <div id=\"28bd3671-00f6-42c2-83b3-d0cc4e4f0ca4\" class=\"plotly-graph-div\" style=\"height:525px; width:100%;\"></div>            <script type=\"text/javascript\">                require([\"plotly\"], function(Plotly) {                    window.PLOTLYENV=window.PLOTLYENV || {};                                    if (document.getElementById(\"28bd3671-00f6-42c2-83b3-d0cc4e4f0ca4\")) {                    Plotly.newPlot(                        \"28bd3671-00f6-42c2-83b3-d0cc4e4f0ca4\",                        [{\"alignmentgroup\":\"True\",\"bingroup\":\"x\",\"hovertemplate\":\"category=%{x}<br>count=%{y}<extra></extra>\",\"legendgroup\":\"\",\"marker\":{\"color\":\"#636efa\",\"pattern\":{\"shape\":\"\"}},\"name\":\"\",\"offsetgroup\":\"\",\"orientation\":\"v\",\"showlegend\":false,\"type\":\"histogram\",\"x\":[\"GAME ACTION\",\"GAME ACTION\",\"GAME ACTION\",\"GAME ACTION\",\"GAME ACTION\",\"GAME ACTION\",\"GAME ACTION\",\"GAME ACTION\",\"GAME ACTION\",\"GAME ACTION\",\"GAME ACTION\",\"GAME ACTION\",\"GAME ACTION\",\"GAME ACTION\",\"GAME ACTION\",\"GAME ACTION\",\"GAME ACTION\",\"GAME ACTION\",\"GAME ACTION\",\"GAME ACTION\",\"GAME ACTION\",\"GAME ACTION\",\"GAME ACTION\",\"GAME ACTION\",\"GAME ACTION\",\"GAME ACTION\",\"GAME ACTION\",\"GAME ACTION\",\"GAME ACTION\",\"GAME ACTION\",\"GAME ACTION\",\"GAME ACTION\",\"GAME ACTION\",\"GAME ACTION\",\"GAME ACTION\",\"GAME ACTION\",\"GAME ACTION\",\"GAME ACTION\",\"GAME ACTION\",\"GAME ACTION\",\"GAME ACTION\",\"GAME ACTION\",\"GAME ACTION\",\"GAME ACTION\",\"GAME ACTION\",\"GAME ACTION\",\"GAME ACTION\",\"GAME ACTION\",\"GAME ACTION\",\"GAME ACTION\",\"GAME ACTION\",\"GAME ACTION\",\"GAME ACTION\",\"GAME ACTION\",\"GAME ACTION\",\"GAME ACTION\",\"GAME ACTION\",\"GAME ACTION\",\"GAME ACTION\",\"GAME ACTION\",\"GAME ACTION\",\"GAME ACTION\",\"GAME ACTION\",\"GAME ACTION\",\"GAME ACTION\",\"GAME ACTION\",\"GAME ACTION\",\"GAME ACTION\",\"GAME ACTION\",\"GAME ACTION\",\"GAME ACTION\",\"GAME ACTION\",\"GAME ACTION\",\"GAME ACTION\",\"GAME ACTION\",\"GAME ACTION\",\"GAME ACTION\",\"GAME ACTION\",\"GAME ACTION\",\"GAME ACTION\",\"GAME ACTION\",\"GAME ACTION\",\"GAME ACTION\",\"GAME ACTION\",\"GAME ACTION\",\"GAME ACTION\",\"GAME ACTION\",\"GAME ACTION\",\"GAME ACTION\",\"GAME ACTION\",\"GAME ACTION\",\"GAME ACTION\",\"GAME ACTION\",\"GAME ACTION\",\"GAME ACTION\",\"GAME ACTION\",\"GAME ACTION\",\"GAME ACTION\",\"GAME ACTION\",\"GAME ACTION\",\"GAME ADVENTURE\",\"GAME ADVENTURE\",\"GAME ADVENTURE\",\"GAME ADVENTURE\",\"GAME ADVENTURE\",\"GAME ADVENTURE\",\"GAME ADVENTURE\",\"GAME ADVENTURE\",\"GAME ADVENTURE\",\"GAME ADVENTURE\",\"GAME ADVENTURE\",\"GAME ADVENTURE\",\"GAME ADVENTURE\",\"GAME ADVENTURE\",\"GAME ADVENTURE\",\"GAME ADVENTURE\",\"GAME ADVENTURE\",\"GAME ADVENTURE\",\"GAME ADVENTURE\",\"GAME ADVENTURE\",\"GAME ADVENTURE\",\"GAME ADVENTURE\",\"GAME ADVENTURE\",\"GAME ADVENTURE\",\"GAME ADVENTURE\",\"GAME ADVENTURE\",\"GAME ADVENTURE\",\"GAME ADVENTURE\",\"GAME ADVENTURE\",\"GAME ADVENTURE\",\"GAME ADVENTURE\",\"GAME ADVENTURE\",\"GAME ADVENTURE\",\"GAME ADVENTURE\",\"GAME ADVENTURE\",\"GAME ADVENTURE\",\"GAME ADVENTURE\",\"GAME ADVENTURE\",\"GAME ADVENTURE\",\"GAME ADVENTURE\",\"GAME ADVENTURE\",\"GAME ADVENTURE\",\"GAME ADVENTURE\",\"GAME ADVENTURE\",\"GAME ADVENTURE\",\"GAME ADVENTURE\",\"GAME ADVENTURE\",\"GAME ADVENTURE\",\"GAME ADVENTURE\",\"GAME ADVENTURE\",\"GAME ADVENTURE\",\"GAME ADVENTURE\",\"GAME ADVENTURE\",\"GAME ADVENTURE\",\"GAME ADVENTURE\",\"GAME ADVENTURE\",\"GAME ADVENTURE\",\"GAME ADVENTURE\",\"GAME ADVENTURE\",\"GAME ADVENTURE\",\"GAME ADVENTURE\",\"GAME ADVENTURE\",\"GAME ADVENTURE\",\"GAME ADVENTURE\",\"GAME ADVENTURE\",\"GAME ADVENTURE\",\"GAME ADVENTURE\",\"GAME ADVENTURE\",\"GAME ADVENTURE\",\"GAME ADVENTURE\",\"GAME ADVENTURE\",\"GAME ADVENTURE\",\"GAME ADVENTURE\",\"GAME ADVENTURE\",\"GAME ADVENTURE\",\"GAME ADVENTURE\",\"GAME ADVENTURE\",\"GAME ADVENTURE\",\"GAME ADVENTURE\",\"GAME ADVENTURE\",\"GAME ADVENTURE\",\"GAME ADVENTURE\",\"GAME ADVENTURE\",\"GAME ADVENTURE\",\"GAME ADVENTURE\",\"GAME ADVENTURE\",\"GAME ADVENTURE\",\"GAME ADVENTURE\",\"GAME ADVENTURE\",\"GAME ADVENTURE\",\"GAME ADVENTURE\",\"GAME ADVENTURE\",\"GAME ADVENTURE\",\"GAME ADVENTURE\",\"GAME ADVENTURE\",\"GAME ADVENTURE\",\"GAME ADVENTURE\",\"GAME ADVENTURE\",\"GAME ADVENTURE\",\"GAME ADVENTURE\",\"GAME ARCADE\",\"GAME ARCADE\",\"GAME ARCADE\",\"GAME ARCADE\",\"GAME ARCADE\",\"GAME ARCADE\",\"GAME ARCADE\",\"GAME ARCADE\",\"GAME ARCADE\",\"GAME ARCADE\",\"GAME ARCADE\",\"GAME ARCADE\",\"GAME ARCADE\",\"GAME ARCADE\",\"GAME ARCADE\",\"GAME ARCADE\",\"GAME ARCADE\",\"GAME ARCADE\",\"GAME ARCADE\",\"GAME ARCADE\",\"GAME ARCADE\",\"GAME ARCADE\",\"GAME ARCADE\",\"GAME ARCADE\",\"GAME ARCADE\",\"GAME ARCADE\",\"GAME ARCADE\",\"GAME ARCADE\",\"GAME ARCADE\",\"GAME ARCADE\",\"GAME ARCADE\",\"GAME ARCADE\",\"GAME ARCADE\",\"GAME ARCADE\",\"GAME ARCADE\",\"GAME ARCADE\",\"GAME ARCADE\",\"GAME ARCADE\",\"GAME ARCADE\",\"GAME ARCADE\",\"GAME ARCADE\",\"GAME ARCADE\",\"GAME ARCADE\",\"GAME ARCADE\",\"GAME ARCADE\",\"GAME ARCADE\",\"GAME ARCADE\",\"GAME ARCADE\",\"GAME ARCADE\",\"GAME ARCADE\",\"GAME ARCADE\",\"GAME ARCADE\",\"GAME ARCADE\",\"GAME ARCADE\",\"GAME ARCADE\",\"GAME ARCADE\",\"GAME ARCADE\",\"GAME ARCADE\",\"GAME ARCADE\",\"GAME ARCADE\",\"GAME ARCADE\",\"GAME ARCADE\",\"GAME ARCADE\",\"GAME ARCADE\",\"GAME ARCADE\",\"GAME ARCADE\",\"GAME ARCADE\",\"GAME ARCADE\",\"GAME ARCADE\",\"GAME ARCADE\",\"GAME ARCADE\",\"GAME ARCADE\",\"GAME ARCADE\",\"GAME ARCADE\",\"GAME ARCADE\",\"GAME ARCADE\",\"GAME ARCADE\",\"GAME ARCADE\",\"GAME ARCADE\",\"GAME ARCADE\",\"GAME ARCADE\",\"GAME ARCADE\",\"GAME ARCADE\",\"GAME ARCADE\",\"GAME ARCADE\",\"GAME ARCADE\",\"GAME ARCADE\",\"GAME ARCADE\",\"GAME ARCADE\",\"GAME ARCADE\",\"GAME ARCADE\",\"GAME ARCADE\",\"GAME ARCADE\",\"GAME ARCADE\",\"GAME ARCADE\",\"GAME ARCADE\",\"GAME ARCADE\",\"GAME ARCADE\",\"GAME ARCADE\",\"GAME ARCADE\",\"GAME BOARD\",\"GAME BOARD\",\"GAME BOARD\",\"GAME BOARD\",\"GAME BOARD\",\"GAME BOARD\",\"GAME BOARD\",\"GAME BOARD\",\"GAME BOARD\",\"GAME BOARD\",\"GAME BOARD\",\"GAME BOARD\",\"GAME BOARD\",\"GAME BOARD\",\"GAME BOARD\",\"GAME BOARD\",\"GAME BOARD\",\"GAME BOARD\",\"GAME BOARD\",\"GAME BOARD\",\"GAME BOARD\",\"GAME BOARD\",\"GAME BOARD\",\"GAME BOARD\",\"GAME BOARD\",\"GAME BOARD\",\"GAME BOARD\",\"GAME BOARD\",\"GAME BOARD\",\"GAME BOARD\",\"GAME BOARD\",\"GAME BOARD\",\"GAME BOARD\",\"GAME BOARD\",\"GAME BOARD\",\"GAME BOARD\",\"GAME BOARD\",\"GAME BOARD\",\"GAME BOARD\",\"GAME BOARD\",\"GAME BOARD\",\"GAME BOARD\",\"GAME BOARD\",\"GAME BOARD\",\"GAME BOARD\",\"GAME BOARD\",\"GAME BOARD\",\"GAME BOARD\",\"GAME BOARD\",\"GAME BOARD\",\"GAME BOARD\",\"GAME BOARD\",\"GAME BOARD\",\"GAME BOARD\",\"GAME BOARD\",\"GAME BOARD\",\"GAME BOARD\",\"GAME BOARD\",\"GAME BOARD\",\"GAME BOARD\",\"GAME BOARD\",\"GAME BOARD\",\"GAME BOARD\",\"GAME BOARD\",\"GAME BOARD\",\"GAME BOARD\",\"GAME BOARD\",\"GAME BOARD\",\"GAME BOARD\",\"GAME BOARD\",\"GAME BOARD\",\"GAME BOARD\",\"GAME BOARD\",\"GAME BOARD\",\"GAME BOARD\",\"GAME BOARD\",\"GAME BOARD\",\"GAME BOARD\",\"GAME BOARD\",\"GAME BOARD\",\"GAME BOARD\",\"GAME BOARD\",\"GAME BOARD\",\"GAME BOARD\",\"GAME BOARD\",\"GAME BOARD\",\"GAME BOARD\",\"GAME BOARD\",\"GAME BOARD\",\"GAME BOARD\",\"GAME BOARD\",\"GAME BOARD\",\"GAME BOARD\",\"GAME BOARD\",\"GAME BOARD\",\"GAME BOARD\",\"GAME BOARD\",\"GAME BOARD\",\"GAME BOARD\",\"GAME BOARD\",\"GAME CARD\",\"GAME CARD\",\"GAME CARD\",\"GAME CARD\",\"GAME CARD\",\"GAME CARD\",\"GAME CARD\",\"GAME CARD\",\"GAME CARD\",\"GAME CARD\",\"GAME CARD\",\"GAME CARD\",\"GAME CARD\",\"GAME CARD\",\"GAME CARD\",\"GAME CARD\",\"GAME CARD\",\"GAME CARD\",\"GAME CARD\",\"GAME CARD\",\"GAME CARD\",\"GAME CARD\",\"GAME CARD\",\"GAME CARD\",\"GAME CARD\",\"GAME CARD\",\"GAME CARD\",\"GAME CARD\",\"GAME CARD\",\"GAME CARD\",\"GAME CARD\",\"GAME CARD\",\"GAME CARD\",\"GAME CARD\",\"GAME CARD\",\"GAME CARD\",\"GAME CARD\",\"GAME CARD\",\"GAME CARD\",\"GAME CARD\",\"GAME CARD\",\"GAME CARD\",\"GAME CARD\",\"GAME CARD\",\"GAME CARD\",\"GAME CARD\",\"GAME CARD\",\"GAME CARD\",\"GAME CARD\",\"GAME CARD\",\"GAME CARD\",\"GAME CARD\",\"GAME CARD\",\"GAME CARD\",\"GAME CARD\",\"GAME CARD\",\"GAME CARD\",\"GAME CARD\",\"GAME CARD\",\"GAME CARD\",\"GAME CARD\",\"GAME CARD\",\"GAME CARD\",\"GAME CARD\",\"GAME CARD\",\"GAME CARD\",\"GAME CARD\",\"GAME CARD\",\"GAME CARD\",\"GAME CARD\",\"GAME CARD\",\"GAME CARD\",\"GAME CARD\",\"GAME CARD\",\"GAME CARD\",\"GAME CARD\",\"GAME CARD\",\"GAME CARD\",\"GAME CARD\",\"GAME CARD\",\"GAME CARD\",\"GAME CARD\",\"GAME CARD\",\"GAME CARD\",\"GAME CARD\",\"GAME CARD\",\"GAME CARD\",\"GAME CARD\",\"GAME CARD\",\"GAME CARD\",\"GAME CARD\",\"GAME CARD\",\"GAME CARD\",\"GAME CARD\",\"GAME CARD\",\"GAME CARD\",\"GAME CARD\",\"GAME CARD\",\"GAME CARD\",\"GAME CARD\",\"GAME CARD\",\"GAME CARD\",\"GAME CARD\",\"GAME CARD\",\"GAME CARD\",\"GAME CARD\",\"GAME CARD\",\"GAME CARD\",\"GAME CARD\",\"GAME CARD\",\"GAME CARD\",\"GAME CARD\",\"GAME CARD\",\"GAME CARD\",\"GAME CARD\",\"GAME CARD\",\"GAME CARD\",\"GAME CARD\",\"GAME CARD\",\"GAME CARD\",\"GAME CARD\",\"GAME CARD\",\"GAME CARD\",\"GAME CARD\",\"GAME CARD\",\"GAME CARD\",\"GAME CASINO\",\"GAME CASINO\",\"GAME CASINO\",\"GAME CASINO\",\"GAME CASINO\",\"GAME CASINO\",\"GAME CASINO\",\"GAME CASINO\",\"GAME CASINO\",\"GAME CASINO\",\"GAME CASINO\",\"GAME CASINO\",\"GAME CASINO\",\"GAME CASINO\",\"GAME CASINO\",\"GAME CASINO\",\"GAME CASINO\",\"GAME CASINO\",\"GAME CASINO\",\"GAME CASINO\",\"GAME CASINO\",\"GAME CASINO\",\"GAME CASINO\",\"GAME CASINO\",\"GAME CASINO\",\"GAME CASINO\",\"GAME CASINO\",\"GAME CASINO\",\"GAME CASINO\",\"GAME CASINO\",\"GAME CASINO\",\"GAME CASINO\",\"GAME CASINO\",\"GAME CASINO\",\"GAME CASINO\",\"GAME CASINO\",\"GAME CASINO\",\"GAME CASINO\",\"GAME CASINO\",\"GAME CASINO\",\"GAME CASINO\",\"GAME CASINO\",\"GAME CASINO\",\"GAME CASINO\",\"GAME CASINO\",\"GAME CASINO\",\"GAME CASINO\",\"GAME CASINO\",\"GAME CASINO\",\"GAME CASINO\",\"GAME CASINO\",\"GAME CASINO\",\"GAME CASINO\",\"GAME CASINO\",\"GAME CASINO\",\"GAME CASINO\",\"GAME CASINO\",\"GAME CASINO\",\"GAME CASINO\",\"GAME CASINO\",\"GAME CASINO\",\"GAME CASINO\",\"GAME CASINO\",\"GAME CASINO\",\"GAME CASINO\",\"GAME CASINO\",\"GAME CASINO\",\"GAME CASINO\",\"GAME CASINO\",\"GAME CASINO\",\"GAME CASINO\",\"GAME CASINO\",\"GAME CASINO\",\"GAME CASINO\",\"GAME CASINO\",\"GAME CASINO\",\"GAME CASINO\",\"GAME CASINO\",\"GAME CASINO\",\"GAME CASINO\",\"GAME CASINO\",\"GAME CASINO\",\"GAME CASINO\",\"GAME CASINO\",\"GAME CASINO\",\"GAME CASINO\",\"GAME CASINO\",\"GAME CASINO\",\"GAME CASINO\",\"GAME CASINO\",\"GAME CASINO\",\"GAME CASINO\",\"GAME CASINO\",\"GAME CASINO\",\"GAME CASINO\",\"GAME CASINO\",\"GAME CASINO\",\"GAME CASINO\",\"GAME CASINO\",\"GAME CASINO\",\"GAME CASUAL\",\"GAME CASUAL\",\"GAME CASUAL\",\"GAME CASUAL\",\"GAME CASUAL\",\"GAME CASUAL\",\"GAME CASUAL\",\"GAME CASUAL\",\"GAME CASUAL\",\"GAME CASUAL\",\"GAME CASUAL\",\"GAME CASUAL\",\"GAME CASUAL\",\"GAME CASUAL\",\"GAME CASUAL\",\"GAME CASUAL\",\"GAME CASUAL\",\"GAME CASUAL\",\"GAME CASUAL\",\"GAME CASUAL\",\"GAME CASUAL\",\"GAME CASUAL\",\"GAME CASUAL\",\"GAME CASUAL\",\"GAME CASUAL\",\"GAME CASUAL\",\"GAME CASUAL\",\"GAME CASUAL\",\"GAME CASUAL\",\"GAME CASUAL\",\"GAME CASUAL\",\"GAME CASUAL\",\"GAME CASUAL\",\"GAME CASUAL\",\"GAME CASUAL\",\"GAME CASUAL\",\"GAME CASUAL\",\"GAME CASUAL\",\"GAME CASUAL\",\"GAME CASUAL\",\"GAME CASUAL\",\"GAME CASUAL\",\"GAME CASUAL\",\"GAME CASUAL\",\"GAME CASUAL\",\"GAME CASUAL\",\"GAME CASUAL\",\"GAME CASUAL\",\"GAME CASUAL\",\"GAME CASUAL\",\"GAME CASUAL\",\"GAME CASUAL\",\"GAME CASUAL\",\"GAME CASUAL\",\"GAME CASUAL\",\"GAME CASUAL\",\"GAME CASUAL\",\"GAME CASUAL\",\"GAME CASUAL\",\"GAME CASUAL\",\"GAME CASUAL\",\"GAME CASUAL\",\"GAME CASUAL\",\"GAME CASUAL\",\"GAME CASUAL\",\"GAME CASUAL\",\"GAME CASUAL\",\"GAME CASUAL\",\"GAME CASUAL\",\"GAME CASUAL\",\"GAME CASUAL\",\"GAME CASUAL\",\"GAME CASUAL\",\"GAME CASUAL\",\"GAME CASUAL\",\"GAME CASUAL\",\"GAME CASUAL\",\"GAME CASUAL\",\"GAME CASUAL\",\"GAME CASUAL\",\"GAME CASUAL\",\"GAME CASUAL\",\"GAME CASUAL\",\"GAME CASUAL\",\"GAME CASUAL\",\"GAME CASUAL\",\"GAME CASUAL\",\"GAME CASUAL\",\"GAME CASUAL\",\"GAME CASUAL\",\"GAME CASUAL\",\"GAME CASUAL\",\"GAME CASUAL\",\"GAME CASUAL\",\"GAME CASUAL\",\"GAME CASUAL\",\"GAME CASUAL\",\"GAME CASUAL\",\"GAME CASUAL\",\"GAME CASUAL\",\"GAME EDUCATIONAL\",\"GAME EDUCATIONAL\",\"GAME EDUCATIONAL\",\"GAME EDUCATIONAL\",\"GAME EDUCATIONAL\",\"GAME EDUCATIONAL\",\"GAME EDUCATIONAL\",\"GAME EDUCATIONAL\",\"GAME EDUCATIONAL\",\"GAME EDUCATIONAL\",\"GAME EDUCATIONAL\",\"GAME EDUCATIONAL\",\"GAME EDUCATIONAL\",\"GAME EDUCATIONAL\",\"GAME EDUCATIONAL\",\"GAME EDUCATIONAL\",\"GAME EDUCATIONAL\",\"GAME EDUCATIONAL\",\"GAME EDUCATIONAL\",\"GAME EDUCATIONAL\",\"GAME EDUCATIONAL\",\"GAME EDUCATIONAL\",\"GAME EDUCATIONAL\",\"GAME EDUCATIONAL\",\"GAME EDUCATIONAL\",\"GAME EDUCATIONAL\",\"GAME EDUCATIONAL\",\"GAME EDUCATIONAL\",\"GAME EDUCATIONAL\",\"GAME EDUCATIONAL\",\"GAME EDUCATIONAL\",\"GAME EDUCATIONAL\",\"GAME EDUCATIONAL\",\"GAME EDUCATIONAL\",\"GAME EDUCATIONAL\",\"GAME EDUCATIONAL\",\"GAME EDUCATIONAL\",\"GAME EDUCATIONAL\",\"GAME EDUCATIONAL\",\"GAME EDUCATIONAL\",\"GAME EDUCATIONAL\",\"GAME EDUCATIONAL\",\"GAME EDUCATIONAL\",\"GAME EDUCATIONAL\",\"GAME EDUCATIONAL\",\"GAME EDUCATIONAL\",\"GAME EDUCATIONAL\",\"GAME EDUCATIONAL\",\"GAME EDUCATIONAL\",\"GAME EDUCATIONAL\",\"GAME EDUCATIONAL\",\"GAME EDUCATIONAL\",\"GAME EDUCATIONAL\",\"GAME EDUCATIONAL\",\"GAME EDUCATIONAL\",\"GAME EDUCATIONAL\",\"GAME EDUCATIONAL\",\"GAME EDUCATIONAL\",\"GAME EDUCATIONAL\",\"GAME EDUCATIONAL\",\"GAME EDUCATIONAL\",\"GAME EDUCATIONAL\",\"GAME EDUCATIONAL\",\"GAME EDUCATIONAL\",\"GAME EDUCATIONAL\",\"GAME EDUCATIONAL\",\"GAME EDUCATIONAL\",\"GAME EDUCATIONAL\",\"GAME EDUCATIONAL\",\"GAME EDUCATIONAL\",\"GAME EDUCATIONAL\",\"GAME EDUCATIONAL\",\"GAME EDUCATIONAL\",\"GAME EDUCATIONAL\",\"GAME EDUCATIONAL\",\"GAME EDUCATIONAL\",\"GAME EDUCATIONAL\",\"GAME EDUCATIONAL\",\"GAME EDUCATIONAL\",\"GAME EDUCATIONAL\",\"GAME EDUCATIONAL\",\"GAME EDUCATIONAL\",\"GAME EDUCATIONAL\",\"GAME EDUCATIONAL\",\"GAME EDUCATIONAL\",\"GAME EDUCATIONAL\",\"GAME EDUCATIONAL\",\"GAME EDUCATIONAL\",\"GAME EDUCATIONAL\",\"GAME EDUCATIONAL\",\"GAME EDUCATIONAL\",\"GAME EDUCATIONAL\",\"GAME EDUCATIONAL\",\"GAME EDUCATIONAL\",\"GAME EDUCATIONAL\",\"GAME EDUCATIONAL\",\"GAME EDUCATIONAL\",\"GAME EDUCATIONAL\",\"GAME EDUCATIONAL\",\"GAME EDUCATIONAL\",\"GAME MUSIC\",\"GAME MUSIC\",\"GAME MUSIC\",\"GAME MUSIC\",\"GAME MUSIC\",\"GAME MUSIC\",\"GAME MUSIC\",\"GAME MUSIC\",\"GAME MUSIC\",\"GAME MUSIC\",\"GAME MUSIC\",\"GAME MUSIC\",\"GAME MUSIC\",\"GAME MUSIC\",\"GAME MUSIC\",\"GAME MUSIC\",\"GAME MUSIC\",\"GAME MUSIC\",\"GAME MUSIC\",\"GAME MUSIC\",\"GAME MUSIC\",\"GAME MUSIC\",\"GAME MUSIC\",\"GAME MUSIC\",\"GAME MUSIC\",\"GAME MUSIC\",\"GAME MUSIC\",\"GAME MUSIC\",\"GAME MUSIC\",\"GAME MUSIC\",\"GAME MUSIC\",\"GAME MUSIC\",\"GAME MUSIC\",\"GAME MUSIC\",\"GAME MUSIC\",\"GAME MUSIC\",\"GAME MUSIC\",\"GAME MUSIC\",\"GAME MUSIC\",\"GAME MUSIC\",\"GAME MUSIC\",\"GAME MUSIC\",\"GAME MUSIC\",\"GAME MUSIC\",\"GAME MUSIC\",\"GAME MUSIC\",\"GAME MUSIC\",\"GAME MUSIC\",\"GAME MUSIC\",\"GAME MUSIC\",\"GAME MUSIC\",\"GAME MUSIC\",\"GAME MUSIC\",\"GAME MUSIC\",\"GAME MUSIC\",\"GAME MUSIC\",\"GAME MUSIC\",\"GAME MUSIC\",\"GAME MUSIC\",\"GAME MUSIC\",\"GAME MUSIC\",\"GAME MUSIC\",\"GAME MUSIC\",\"GAME MUSIC\",\"GAME MUSIC\",\"GAME MUSIC\",\"GAME MUSIC\",\"GAME MUSIC\",\"GAME MUSIC\",\"GAME MUSIC\",\"GAME MUSIC\",\"GAME MUSIC\",\"GAME MUSIC\",\"GAME MUSIC\",\"GAME MUSIC\",\"GAME MUSIC\",\"GAME MUSIC\",\"GAME MUSIC\",\"GAME MUSIC\",\"GAME MUSIC\",\"GAME MUSIC\",\"GAME MUSIC\",\"GAME MUSIC\",\"GAME MUSIC\",\"GAME MUSIC\",\"GAME MUSIC\",\"GAME MUSIC\",\"GAME MUSIC\",\"GAME MUSIC\",\"GAME MUSIC\",\"GAME MUSIC\",\"GAME MUSIC\",\"GAME MUSIC\",\"GAME MUSIC\",\"GAME MUSIC\",\"GAME MUSIC\",\"GAME MUSIC\",\"GAME MUSIC\",\"GAME MUSIC\",\"GAME MUSIC\",\"GAME PUZZLE\",\"GAME PUZZLE\",\"GAME PUZZLE\",\"GAME PUZZLE\",\"GAME PUZZLE\",\"GAME PUZZLE\",\"GAME PUZZLE\",\"GAME PUZZLE\",\"GAME PUZZLE\",\"GAME PUZZLE\",\"GAME PUZZLE\",\"GAME PUZZLE\",\"GAME PUZZLE\",\"GAME PUZZLE\",\"GAME PUZZLE\",\"GAME PUZZLE\",\"GAME PUZZLE\",\"GAME PUZZLE\",\"GAME PUZZLE\",\"GAME PUZZLE\",\"GAME PUZZLE\",\"GAME PUZZLE\",\"GAME PUZZLE\",\"GAME PUZZLE\",\"GAME PUZZLE\",\"GAME PUZZLE\",\"GAME PUZZLE\",\"GAME PUZZLE\",\"GAME PUZZLE\",\"GAME PUZZLE\",\"GAME PUZZLE\",\"GAME PUZZLE\",\"GAME PUZZLE\",\"GAME PUZZLE\",\"GAME PUZZLE\",\"GAME PUZZLE\",\"GAME PUZZLE\",\"GAME PUZZLE\",\"GAME PUZZLE\",\"GAME PUZZLE\",\"GAME PUZZLE\",\"GAME PUZZLE\",\"GAME PUZZLE\",\"GAME PUZZLE\",\"GAME PUZZLE\",\"GAME PUZZLE\",\"GAME PUZZLE\",\"GAME PUZZLE\",\"GAME PUZZLE\",\"GAME PUZZLE\",\"GAME PUZZLE\",\"GAME PUZZLE\",\"GAME PUZZLE\",\"GAME PUZZLE\",\"GAME PUZZLE\",\"GAME PUZZLE\",\"GAME PUZZLE\",\"GAME PUZZLE\",\"GAME PUZZLE\",\"GAME PUZZLE\",\"GAME PUZZLE\",\"GAME PUZZLE\",\"GAME PUZZLE\",\"GAME PUZZLE\",\"GAME PUZZLE\",\"GAME PUZZLE\",\"GAME PUZZLE\",\"GAME PUZZLE\",\"GAME PUZZLE\",\"GAME PUZZLE\",\"GAME PUZZLE\",\"GAME PUZZLE\",\"GAME PUZZLE\",\"GAME PUZZLE\",\"GAME PUZZLE\",\"GAME PUZZLE\",\"GAME PUZZLE\",\"GAME PUZZLE\",\"GAME PUZZLE\",\"GAME PUZZLE\",\"GAME PUZZLE\",\"GAME PUZZLE\",\"GAME PUZZLE\",\"GAME PUZZLE\",\"GAME PUZZLE\",\"GAME PUZZLE\",\"GAME PUZZLE\",\"GAME PUZZLE\",\"GAME PUZZLE\",\"GAME PUZZLE\",\"GAME PUZZLE\",\"GAME PUZZLE\",\"GAME PUZZLE\",\"GAME PUZZLE\",\"GAME PUZZLE\",\"GAME PUZZLE\",\"GAME PUZZLE\",\"GAME PUZZLE\",\"GAME PUZZLE\",\"GAME PUZZLE\",\"GAME RACING\",\"GAME RACING\",\"GAME RACING\",\"GAME RACING\",\"GAME RACING\",\"GAME RACING\",\"GAME RACING\",\"GAME RACING\",\"GAME RACING\",\"GAME RACING\",\"GAME RACING\",\"GAME RACING\",\"GAME RACING\",\"GAME RACING\",\"GAME RACING\",\"GAME RACING\",\"GAME RACING\",\"GAME RACING\",\"GAME RACING\",\"GAME RACING\",\"GAME RACING\",\"GAME RACING\",\"GAME RACING\",\"GAME RACING\",\"GAME RACING\",\"GAME RACING\",\"GAME RACING\",\"GAME RACING\",\"GAME RACING\",\"GAME RACING\",\"GAME RACING\",\"GAME RACING\",\"GAME RACING\",\"GAME RACING\",\"GAME RACING\",\"GAME RACING\",\"GAME RACING\",\"GAME RACING\",\"GAME RACING\",\"GAME RACING\",\"GAME RACING\",\"GAME RACING\",\"GAME RACING\",\"GAME RACING\",\"GAME RACING\",\"GAME RACING\",\"GAME RACING\",\"GAME RACING\",\"GAME RACING\",\"GAME RACING\",\"GAME RACING\",\"GAME RACING\",\"GAME RACING\",\"GAME RACING\",\"GAME RACING\",\"GAME RACING\",\"GAME RACING\",\"GAME RACING\",\"GAME RACING\",\"GAME RACING\",\"GAME RACING\",\"GAME RACING\",\"GAME RACING\",\"GAME RACING\",\"GAME RACING\",\"GAME RACING\",\"GAME RACING\",\"GAME RACING\",\"GAME RACING\",\"GAME RACING\",\"GAME RACING\",\"GAME RACING\",\"GAME RACING\",\"GAME RACING\",\"GAME RACING\",\"GAME RACING\",\"GAME RACING\",\"GAME RACING\",\"GAME RACING\",\"GAME RACING\",\"GAME RACING\",\"GAME RACING\",\"GAME RACING\",\"GAME RACING\",\"GAME RACING\",\"GAME RACING\",\"GAME RACING\",\"GAME RACING\",\"GAME RACING\",\"GAME RACING\",\"GAME RACING\",\"GAME RACING\",\"GAME RACING\",\"GAME RACING\",\"GAME RACING\",\"GAME RACING\",\"GAME RACING\",\"GAME RACING\",\"GAME RACING\",\"GAME RACING\",\"GAME ROLE PLAYING\",\"GAME ROLE PLAYING\",\"GAME ROLE PLAYING\",\"GAME ROLE PLAYING\",\"GAME ROLE PLAYING\",\"GAME ROLE PLAYING\",\"GAME ROLE PLAYING\",\"GAME ROLE PLAYING\",\"GAME ROLE PLAYING\",\"GAME ROLE PLAYING\",\"GAME ROLE PLAYING\",\"GAME ROLE PLAYING\",\"GAME ROLE PLAYING\",\"GAME ROLE PLAYING\",\"GAME ROLE PLAYING\",\"GAME ROLE PLAYING\",\"GAME ROLE PLAYING\",\"GAME ROLE PLAYING\",\"GAME ROLE PLAYING\",\"GAME ROLE PLAYING\",\"GAME ROLE PLAYING\",\"GAME ROLE PLAYING\",\"GAME ROLE PLAYING\",\"GAME ROLE PLAYING\",\"GAME ROLE PLAYING\",\"GAME ROLE PLAYING\",\"GAME ROLE PLAYING\",\"GAME ROLE PLAYING\",\"GAME ROLE PLAYING\",\"GAME ROLE PLAYING\",\"GAME ROLE PLAYING\",\"GAME ROLE PLAYING\",\"GAME ROLE PLAYING\",\"GAME ROLE PLAYING\",\"GAME ROLE PLAYING\",\"GAME ROLE PLAYING\",\"GAME ROLE PLAYING\",\"GAME ROLE PLAYING\",\"GAME ROLE PLAYING\",\"GAME ROLE PLAYING\",\"GAME ROLE PLAYING\",\"GAME ROLE PLAYING\",\"GAME ROLE PLAYING\",\"GAME ROLE PLAYING\",\"GAME ROLE PLAYING\",\"GAME ROLE PLAYING\",\"GAME ROLE PLAYING\",\"GAME ROLE PLAYING\",\"GAME ROLE PLAYING\",\"GAME ROLE PLAYING\",\"GAME ROLE PLAYING\",\"GAME ROLE PLAYING\",\"GAME ROLE PLAYING\",\"GAME ROLE PLAYING\",\"GAME ROLE PLAYING\",\"GAME ROLE PLAYING\",\"GAME ROLE PLAYING\",\"GAME ROLE PLAYING\",\"GAME ROLE PLAYING\",\"GAME ROLE PLAYING\",\"GAME ROLE PLAYING\",\"GAME ROLE PLAYING\",\"GAME ROLE PLAYING\",\"GAME ROLE PLAYING\",\"GAME ROLE PLAYING\",\"GAME ROLE PLAYING\",\"GAME ROLE PLAYING\",\"GAME ROLE PLAYING\",\"GAME ROLE PLAYING\",\"GAME ROLE PLAYING\",\"GAME ROLE PLAYING\",\"GAME ROLE PLAYING\",\"GAME ROLE PLAYING\",\"GAME ROLE PLAYING\",\"GAME ROLE PLAYING\",\"GAME ROLE PLAYING\",\"GAME ROLE PLAYING\",\"GAME ROLE PLAYING\",\"GAME ROLE PLAYING\",\"GAME ROLE PLAYING\",\"GAME ROLE PLAYING\",\"GAME ROLE PLAYING\",\"GAME ROLE PLAYING\",\"GAME ROLE PLAYING\",\"GAME ROLE PLAYING\",\"GAME ROLE PLAYING\",\"GAME ROLE PLAYING\",\"GAME ROLE PLAYING\",\"GAME ROLE PLAYING\",\"GAME ROLE PLAYING\",\"GAME ROLE PLAYING\",\"GAME ROLE PLAYING\",\"GAME ROLE PLAYING\",\"GAME ROLE PLAYING\",\"GAME ROLE PLAYING\",\"GAME ROLE PLAYING\",\"GAME ROLE PLAYING\",\"GAME ROLE PLAYING\",\"GAME ROLE PLAYING\",\"GAME ROLE PLAYING\",\"GAME SIMULATION\",\"GAME SIMULATION\",\"GAME SIMULATION\",\"GAME SIMULATION\",\"GAME SIMULATION\",\"GAME SIMULATION\",\"GAME SIMULATION\",\"GAME SIMULATION\",\"GAME SIMULATION\",\"GAME SIMULATION\",\"GAME SIMULATION\",\"GAME SIMULATION\",\"GAME SIMULATION\",\"GAME SIMULATION\",\"GAME SIMULATION\",\"GAME SIMULATION\",\"GAME SIMULATION\",\"GAME SIMULATION\",\"GAME SIMULATION\",\"GAME SIMULATION\",\"GAME SIMULATION\",\"GAME SIMULATION\",\"GAME SIMULATION\",\"GAME SIMULATION\",\"GAME SIMULATION\",\"GAME SIMULATION\",\"GAME SIMULATION\",\"GAME SIMULATION\",\"GAME SIMULATION\",\"GAME SIMULATION\",\"GAME SIMULATION\",\"GAME SIMULATION\",\"GAME SIMULATION\",\"GAME SIMULATION\",\"GAME SIMULATION\",\"GAME SIMULATION\",\"GAME SIMULATION\",\"GAME SIMULATION\",\"GAME SIMULATION\",\"GAME SIMULATION\",\"GAME SIMULATION\",\"GAME SIMULATION\",\"GAME SIMULATION\",\"GAME SIMULATION\",\"GAME SIMULATION\",\"GAME SIMULATION\",\"GAME SIMULATION\",\"GAME SIMULATION\",\"GAME SIMULATION\",\"GAME SIMULATION\",\"GAME SIMULATION\",\"GAME SIMULATION\",\"GAME SIMULATION\",\"GAME SIMULATION\",\"GAME SIMULATION\",\"GAME SIMULATION\",\"GAME SIMULATION\",\"GAME SIMULATION\",\"GAME SIMULATION\",\"GAME SIMULATION\",\"GAME SIMULATION\",\"GAME SIMULATION\",\"GAME SIMULATION\",\"GAME SIMULATION\",\"GAME SIMULATION\",\"GAME SIMULATION\",\"GAME SIMULATION\",\"GAME SIMULATION\",\"GAME SIMULATION\",\"GAME SIMULATION\",\"GAME SIMULATION\",\"GAME SIMULATION\",\"GAME SIMULATION\",\"GAME SIMULATION\",\"GAME SIMULATION\",\"GAME SIMULATION\",\"GAME SIMULATION\",\"GAME SIMULATION\",\"GAME SIMULATION\",\"GAME SIMULATION\",\"GAME SIMULATION\",\"GAME SIMULATION\",\"GAME SIMULATION\",\"GAME SIMULATION\",\"GAME SIMULATION\",\"GAME SIMULATION\",\"GAME SIMULATION\",\"GAME SIMULATION\",\"GAME SIMULATION\",\"GAME SIMULATION\",\"GAME SIMULATION\",\"GAME SIMULATION\",\"GAME SIMULATION\",\"GAME SIMULATION\",\"GAME SIMULATION\",\"GAME SIMULATION\",\"GAME SIMULATION\",\"GAME SIMULATION\",\"GAME SIMULATION\",\"GAME SIMULATION\",\"GAME SPORTS\",\"GAME SPORTS\",\"GAME SPORTS\",\"GAME SPORTS\",\"GAME SPORTS\",\"GAME SPORTS\",\"GAME SPORTS\",\"GAME SPORTS\",\"GAME SPORTS\",\"GAME SPORTS\",\"GAME SPORTS\",\"GAME SPORTS\",\"GAME SPORTS\",\"GAME SPORTS\",\"GAME SPORTS\",\"GAME SPORTS\",\"GAME SPORTS\",\"GAME SPORTS\",\"GAME SPORTS\",\"GAME SPORTS\",\"GAME SPORTS\",\"GAME SPORTS\",\"GAME SPORTS\",\"GAME SPORTS\",\"GAME SPORTS\",\"GAME SPORTS\",\"GAME SPORTS\",\"GAME SPORTS\",\"GAME SPORTS\",\"GAME SPORTS\",\"GAME SPORTS\",\"GAME SPORTS\",\"GAME SPORTS\",\"GAME SPORTS\",\"GAME SPORTS\",\"GAME SPORTS\",\"GAME SPORTS\",\"GAME SPORTS\",\"GAME SPORTS\",\"GAME SPORTS\",\"GAME SPORTS\",\"GAME SPORTS\",\"GAME SPORTS\",\"GAME SPORTS\",\"GAME SPORTS\",\"GAME SPORTS\",\"GAME SPORTS\",\"GAME SPORTS\",\"GAME SPORTS\",\"GAME SPORTS\",\"GAME SPORTS\",\"GAME SPORTS\",\"GAME SPORTS\",\"GAME SPORTS\",\"GAME SPORTS\",\"GAME SPORTS\",\"GAME SPORTS\",\"GAME SPORTS\",\"GAME SPORTS\",\"GAME SPORTS\",\"GAME SPORTS\",\"GAME SPORTS\",\"GAME SPORTS\",\"GAME SPORTS\",\"GAME SPORTS\",\"GAME SPORTS\",\"GAME SPORTS\",\"GAME SPORTS\",\"GAME SPORTS\",\"GAME SPORTS\",\"GAME SPORTS\",\"GAME SPORTS\",\"GAME SPORTS\",\"GAME SPORTS\",\"GAME SPORTS\",\"GAME SPORTS\",\"GAME SPORTS\",\"GAME SPORTS\",\"GAME SPORTS\",\"GAME SPORTS\",\"GAME SPORTS\",\"GAME SPORTS\",\"GAME SPORTS\",\"GAME SPORTS\",\"GAME SPORTS\",\"GAME SPORTS\",\"GAME SPORTS\",\"GAME SPORTS\",\"GAME SPORTS\",\"GAME SPORTS\",\"GAME SPORTS\",\"GAME SPORTS\",\"GAME SPORTS\",\"GAME SPORTS\",\"GAME SPORTS\",\"GAME SPORTS\",\"GAME SPORTS\",\"GAME SPORTS\",\"GAME SPORTS\",\"GAME SPORTS\",\"GAME STRATEGY\",\"GAME STRATEGY\",\"GAME STRATEGY\",\"GAME STRATEGY\",\"GAME STRATEGY\",\"GAME STRATEGY\",\"GAME STRATEGY\",\"GAME STRATEGY\",\"GAME STRATEGY\",\"GAME STRATEGY\",\"GAME STRATEGY\",\"GAME STRATEGY\",\"GAME STRATEGY\",\"GAME STRATEGY\",\"GAME STRATEGY\",\"GAME STRATEGY\",\"GAME STRATEGY\",\"GAME STRATEGY\",\"GAME STRATEGY\",\"GAME STRATEGY\",\"GAME STRATEGY\",\"GAME STRATEGY\",\"GAME STRATEGY\",\"GAME STRATEGY\",\"GAME STRATEGY\",\"GAME STRATEGY\",\"GAME STRATEGY\",\"GAME STRATEGY\",\"GAME STRATEGY\",\"GAME STRATEGY\",\"GAME STRATEGY\",\"GAME STRATEGY\",\"GAME STRATEGY\",\"GAME STRATEGY\",\"GAME STRATEGY\",\"GAME STRATEGY\",\"GAME STRATEGY\",\"GAME STRATEGY\",\"GAME STRATEGY\",\"GAME STRATEGY\",\"GAME STRATEGY\",\"GAME STRATEGY\",\"GAME STRATEGY\",\"GAME STRATEGY\",\"GAME STRATEGY\",\"GAME STRATEGY\",\"GAME STRATEGY\",\"GAME STRATEGY\",\"GAME STRATEGY\",\"GAME STRATEGY\",\"GAME STRATEGY\",\"GAME STRATEGY\",\"GAME STRATEGY\",\"GAME STRATEGY\",\"GAME STRATEGY\",\"GAME STRATEGY\",\"GAME STRATEGY\",\"GAME STRATEGY\",\"GAME STRATEGY\",\"GAME STRATEGY\",\"GAME STRATEGY\",\"GAME STRATEGY\",\"GAME STRATEGY\",\"GAME STRATEGY\",\"GAME STRATEGY\",\"GAME STRATEGY\",\"GAME STRATEGY\",\"GAME STRATEGY\",\"GAME STRATEGY\",\"GAME STRATEGY\",\"GAME STRATEGY\",\"GAME STRATEGY\",\"GAME STRATEGY\",\"GAME STRATEGY\",\"GAME STRATEGY\",\"GAME STRATEGY\",\"GAME STRATEGY\",\"GAME STRATEGY\",\"GAME STRATEGY\",\"GAME STRATEGY\",\"GAME STRATEGY\",\"GAME STRATEGY\",\"GAME STRATEGY\",\"GAME STRATEGY\",\"GAME STRATEGY\",\"GAME STRATEGY\",\"GAME STRATEGY\",\"GAME STRATEGY\",\"GAME STRATEGY\",\"GAME STRATEGY\",\"GAME STRATEGY\",\"GAME STRATEGY\",\"GAME STRATEGY\",\"GAME STRATEGY\",\"GAME STRATEGY\",\"GAME STRATEGY\",\"GAME STRATEGY\",\"GAME STRATEGY\",\"GAME STRATEGY\",\"GAME STRATEGY\",\"GAME TRIVIA\",\"GAME TRIVIA\",\"GAME TRIVIA\",\"GAME TRIVIA\",\"GAME TRIVIA\",\"GAME TRIVIA\",\"GAME TRIVIA\",\"GAME TRIVIA\",\"GAME TRIVIA\",\"GAME TRIVIA\",\"GAME TRIVIA\",\"GAME TRIVIA\",\"GAME TRIVIA\",\"GAME TRIVIA\",\"GAME TRIVIA\",\"GAME TRIVIA\",\"GAME TRIVIA\",\"GAME TRIVIA\",\"GAME TRIVIA\",\"GAME TRIVIA\",\"GAME TRIVIA\",\"GAME TRIVIA\",\"GAME TRIVIA\",\"GAME TRIVIA\",\"GAME TRIVIA\",\"GAME TRIVIA\",\"GAME TRIVIA\",\"GAME TRIVIA\",\"GAME TRIVIA\",\"GAME TRIVIA\",\"GAME TRIVIA\",\"GAME TRIVIA\",\"GAME TRIVIA\",\"GAME TRIVIA\",\"GAME TRIVIA\",\"GAME TRIVIA\",\"GAME TRIVIA\",\"GAME TRIVIA\",\"GAME TRIVIA\",\"GAME TRIVIA\",\"GAME TRIVIA\",\"GAME TRIVIA\",\"GAME TRIVIA\",\"GAME TRIVIA\",\"GAME TRIVIA\",\"GAME TRIVIA\",\"GAME TRIVIA\",\"GAME TRIVIA\",\"GAME TRIVIA\",\"GAME TRIVIA\",\"GAME TRIVIA\",\"GAME TRIVIA\",\"GAME TRIVIA\",\"GAME TRIVIA\",\"GAME TRIVIA\",\"GAME TRIVIA\",\"GAME TRIVIA\",\"GAME TRIVIA\",\"GAME TRIVIA\",\"GAME TRIVIA\",\"GAME TRIVIA\",\"GAME TRIVIA\",\"GAME TRIVIA\",\"GAME TRIVIA\",\"GAME TRIVIA\",\"GAME TRIVIA\",\"GAME TRIVIA\",\"GAME TRIVIA\",\"GAME TRIVIA\",\"GAME TRIVIA\",\"GAME TRIVIA\",\"GAME TRIVIA\",\"GAME TRIVIA\",\"GAME TRIVIA\",\"GAME TRIVIA\",\"GAME TRIVIA\",\"GAME TRIVIA\",\"GAME TRIVIA\",\"GAME TRIVIA\",\"GAME TRIVIA\",\"GAME TRIVIA\",\"GAME TRIVIA\",\"GAME TRIVIA\",\"GAME TRIVIA\",\"GAME TRIVIA\",\"GAME TRIVIA\",\"GAME TRIVIA\",\"GAME TRIVIA\",\"GAME TRIVIA\",\"GAME TRIVIA\",\"GAME TRIVIA\",\"GAME TRIVIA\",\"GAME TRIVIA\",\"GAME TRIVIA\",\"GAME TRIVIA\",\"GAME TRIVIA\",\"GAME TRIVIA\",\"GAME TRIVIA\",\"GAME TRIVIA\",\"GAME TRIVIA\",\"GAME WORD\",\"GAME WORD\",\"GAME WORD\",\"GAME WORD\",\"GAME WORD\",\"GAME WORD\",\"GAME WORD\",\"GAME WORD\",\"GAME WORD\",\"GAME WORD\",\"GAME WORD\",\"GAME WORD\",\"GAME WORD\",\"GAME WORD\",\"GAME WORD\",\"GAME WORD\",\"GAME WORD\",\"GAME WORD\",\"GAME WORD\",\"GAME WORD\",\"GAME WORD\",\"GAME WORD\",\"GAME WORD\",\"GAME WORD\",\"GAME WORD\",\"GAME WORD\",\"GAME WORD\",\"GAME WORD\",\"GAME WORD\",\"GAME WORD\",\"GAME WORD\",\"GAME WORD\",\"GAME WORD\",\"GAME WORD\",\"GAME WORD\",\"GAME WORD\",\"GAME WORD\",\"GAME WORD\",\"GAME WORD\",\"GAME WORD\",\"GAME WORD\",\"GAME WORD\",\"GAME WORD\",\"GAME WORD\",\"GAME WORD\",\"GAME WORD\",\"GAME WORD\",\"GAME WORD\",\"GAME WORD\",\"GAME WORD\",\"GAME WORD\",\"GAME WORD\",\"GAME WORD\",\"GAME WORD\",\"GAME WORD\",\"GAME WORD\",\"GAME WORD\",\"GAME WORD\",\"GAME WORD\",\"GAME WORD\",\"GAME WORD\",\"GAME WORD\",\"GAME WORD\",\"GAME WORD\",\"GAME WORD\",\"GAME WORD\",\"GAME WORD\",\"GAME WORD\",\"GAME WORD\",\"GAME WORD\",\"GAME WORD\",\"GAME WORD\",\"GAME WORD\",\"GAME WORD\",\"GAME WORD\",\"GAME WORD\",\"GAME WORD\",\"GAME WORD\",\"GAME WORD\",\"GAME WORD\",\"GAME WORD\",\"GAME WORD\",\"GAME WORD\",\"GAME WORD\",\"GAME WORD\",\"GAME WORD\",\"GAME WORD\",\"GAME WORD\",\"GAME WORD\",\"GAME WORD\",\"GAME WORD\",\"GAME WORD\",\"GAME WORD\",\"GAME WORD\",\"GAME WORD\",\"GAME WORD\",\"GAME WORD\",\"GAME WORD\",\"GAME WORD\",\"GAME WORD\",\"GAME WORD\",\"GAME WORD\",\"GAME WORD\",\"GAME WORD\"],\"xaxis\":\"x\",\"yaxis\":\"y\"}],                        {\"barmode\":\"relative\",\"legend\":{\"tracegroupgap\":0},\"template\":{\"data\":{\"bar\":[{\"error_x\":{\"color\":\"#2a3f5f\"},\"error_y\":{\"color\":\"#2a3f5f\"},\"marker\":{\"line\":{\"color\":\"#E5ECF6\",\"width\":0.5},\"pattern\":{\"fillmode\":\"overlay\",\"size\":10,\"solidity\":0.2}},\"type\":\"bar\"}],\"barpolar\":[{\"marker\":{\"line\":{\"color\":\"#E5ECF6\",\"width\":0.5},\"pattern\":{\"fillmode\":\"overlay\",\"size\":10,\"solidity\":0.2}},\"type\":\"barpolar\"}],\"carpet\":[{\"aaxis\":{\"endlinecolor\":\"#2a3f5f\",\"gridcolor\":\"white\",\"linecolor\":\"white\",\"minorgridcolor\":\"white\",\"startlinecolor\":\"#2a3f5f\"},\"baxis\":{\"endlinecolor\":\"#2a3f5f\",\"gridcolor\":\"white\",\"linecolor\":\"white\",\"minorgridcolor\":\"white\",\"startlinecolor\":\"#2a3f5f\"},\"type\":\"carpet\"}],\"choropleth\":[{\"colorbar\":{\"outlinewidth\":0,\"ticks\":\"\"},\"type\":\"choropleth\"}],\"contour\":[{\"colorbar\":{\"outlinewidth\":0,\"ticks\":\"\"},\"colorscale\":[[0.0,\"#0d0887\"],[0.1111111111111111,\"#46039f\"],[0.2222222222222222,\"#7201a8\"],[0.3333333333333333,\"#9c179e\"],[0.4444444444444444,\"#bd3786\"],[0.5555555555555556,\"#d8576b\"],[0.6666666666666666,\"#ed7953\"],[0.7777777777777778,\"#fb9f3a\"],[0.8888888888888888,\"#fdca26\"],[1.0,\"#f0f921\"]],\"type\":\"contour\"}],\"contourcarpet\":[{\"colorbar\":{\"outlinewidth\":0,\"ticks\":\"\"},\"type\":\"contourcarpet\"}],\"heatmap\":[{\"colorbar\":{\"outlinewidth\":0,\"ticks\":\"\"},\"colorscale\":[[0.0,\"#0d0887\"],[0.1111111111111111,\"#46039f\"],[0.2222222222222222,\"#7201a8\"],[0.3333333333333333,\"#9c179e\"],[0.4444444444444444,\"#bd3786\"],[0.5555555555555556,\"#d8576b\"],[0.6666666666666666,\"#ed7953\"],[0.7777777777777778,\"#fb9f3a\"],[0.8888888888888888,\"#fdca26\"],[1.0,\"#f0f921\"]],\"type\":\"heatmap\"}],\"heatmapgl\":[{\"colorbar\":{\"outlinewidth\":0,\"ticks\":\"\"},\"colorscale\":[[0.0,\"#0d0887\"],[0.1111111111111111,\"#46039f\"],[0.2222222222222222,\"#7201a8\"],[0.3333333333333333,\"#9c179e\"],[0.4444444444444444,\"#bd3786\"],[0.5555555555555556,\"#d8576b\"],[0.6666666666666666,\"#ed7953\"],[0.7777777777777778,\"#fb9f3a\"],[0.8888888888888888,\"#fdca26\"],[1.0,\"#f0f921\"]],\"type\":\"heatmapgl\"}],\"histogram\":[{\"marker\":{\"pattern\":{\"fillmode\":\"overlay\",\"size\":10,\"solidity\":0.2}},\"type\":\"histogram\"}],\"histogram2d\":[{\"colorbar\":{\"outlinewidth\":0,\"ticks\":\"\"},\"colorscale\":[[0.0,\"#0d0887\"],[0.1111111111111111,\"#46039f\"],[0.2222222222222222,\"#7201a8\"],[0.3333333333333333,\"#9c179e\"],[0.4444444444444444,\"#bd3786\"],[0.5555555555555556,\"#d8576b\"],[0.6666666666666666,\"#ed7953\"],[0.7777777777777778,\"#fb9f3a\"],[0.8888888888888888,\"#fdca26\"],[1.0,\"#f0f921\"]],\"type\":\"histogram2d\"}],\"histogram2dcontour\":[{\"colorbar\":{\"outlinewidth\":0,\"ticks\":\"\"},\"colorscale\":[[0.0,\"#0d0887\"],[0.1111111111111111,\"#46039f\"],[0.2222222222222222,\"#7201a8\"],[0.3333333333333333,\"#9c179e\"],[0.4444444444444444,\"#bd3786\"],[0.5555555555555556,\"#d8576b\"],[0.6666666666666666,\"#ed7953\"],[0.7777777777777778,\"#fb9f3a\"],[0.8888888888888888,\"#fdca26\"],[1.0,\"#f0f921\"]],\"type\":\"histogram2dcontour\"}],\"mesh3d\":[{\"colorbar\":{\"outlinewidth\":0,\"ticks\":\"\"},\"type\":\"mesh3d\"}],\"parcoords\":[{\"line\":{\"colorbar\":{\"outlinewidth\":0,\"ticks\":\"\"}},\"type\":\"parcoords\"}],\"pie\":[{\"automargin\":true,\"type\":\"pie\"}],\"scatter\":[{\"marker\":{\"colorbar\":{\"outlinewidth\":0,\"ticks\":\"\"}},\"type\":\"scatter\"}],\"scatter3d\":[{\"line\":{\"colorbar\":{\"outlinewidth\":0,\"ticks\":\"\"}},\"marker\":{\"colorbar\":{\"outlinewidth\":0,\"ticks\":\"\"}},\"type\":\"scatter3d\"}],\"scattercarpet\":[{\"marker\":{\"colorbar\":{\"outlinewidth\":0,\"ticks\":\"\"}},\"type\":\"scattercarpet\"}],\"scattergeo\":[{\"marker\":{\"colorbar\":{\"outlinewidth\":0,\"ticks\":\"\"}},\"type\":\"scattergeo\"}],\"scattergl\":[{\"marker\":{\"colorbar\":{\"outlinewidth\":0,\"ticks\":\"\"}},\"type\":\"scattergl\"}],\"scattermapbox\":[{\"marker\":{\"colorbar\":{\"outlinewidth\":0,\"ticks\":\"\"}},\"type\":\"scattermapbox\"}],\"scatterpolar\":[{\"marker\":{\"colorbar\":{\"outlinewidth\":0,\"ticks\":\"\"}},\"type\":\"scatterpolar\"}],\"scatterpolargl\":[{\"marker\":{\"colorbar\":{\"outlinewidth\":0,\"ticks\":\"\"}},\"type\":\"scatterpolargl\"}],\"scatterternary\":[{\"marker\":{\"colorbar\":{\"outlinewidth\":0,\"ticks\":\"\"}},\"type\":\"scatterternary\"}],\"surface\":[{\"colorbar\":{\"outlinewidth\":0,\"ticks\":\"\"},\"colorscale\":[[0.0,\"#0d0887\"],[0.1111111111111111,\"#46039f\"],[0.2222222222222222,\"#7201a8\"],[0.3333333333333333,\"#9c179e\"],[0.4444444444444444,\"#bd3786\"],[0.5555555555555556,\"#d8576b\"],[0.6666666666666666,\"#ed7953\"],[0.7777777777777778,\"#fb9f3a\"],[0.8888888888888888,\"#fdca26\"],[1.0,\"#f0f921\"]],\"type\":\"surface\"}],\"table\":[{\"cells\":{\"fill\":{\"color\":\"#EBF0F8\"},\"line\":{\"color\":\"white\"}},\"header\":{\"fill\":{\"color\":\"#C8D4E3\"},\"line\":{\"color\":\"white\"}},\"type\":\"table\"}]},\"layout\":{\"annotationdefaults\":{\"arrowcolor\":\"#2a3f5f\",\"arrowhead\":0,\"arrowwidth\":1},\"autotypenumbers\":\"strict\",\"coloraxis\":{\"colorbar\":{\"outlinewidth\":0,\"ticks\":\"\"}},\"colorscale\":{\"diverging\":[[0,\"#8e0152\"],[0.1,\"#c51b7d\"],[0.2,\"#de77ae\"],[0.3,\"#f1b6da\"],[0.4,\"#fde0ef\"],[0.5,\"#f7f7f7\"],[0.6,\"#e6f5d0\"],[0.7,\"#b8e186\"],[0.8,\"#7fbc41\"],[0.9,\"#4d9221\"],[1,\"#276419\"]],\"sequential\":[[0.0,\"#0d0887\"],[0.1111111111111111,\"#46039f\"],[0.2222222222222222,\"#7201a8\"],[0.3333333333333333,\"#9c179e\"],[0.4444444444444444,\"#bd3786\"],[0.5555555555555556,\"#d8576b\"],[0.6666666666666666,\"#ed7953\"],[0.7777777777777778,\"#fb9f3a\"],[0.8888888888888888,\"#fdca26\"],[1.0,\"#f0f921\"]],\"sequentialminus\":[[0.0,\"#0d0887\"],[0.1111111111111111,\"#46039f\"],[0.2222222222222222,\"#7201a8\"],[0.3333333333333333,\"#9c179e\"],[0.4444444444444444,\"#bd3786\"],[0.5555555555555556,\"#d8576b\"],[0.6666666666666666,\"#ed7953\"],[0.7777777777777778,\"#fb9f3a\"],[0.8888888888888888,\"#fdca26\"],[1.0,\"#f0f921\"]]},\"colorway\":[\"#636efa\",\"#EF553B\",\"#00cc96\",\"#ab63fa\",\"#FFA15A\",\"#19d3f3\",\"#FF6692\",\"#B6E880\",\"#FF97FF\",\"#FECB52\"],\"font\":{\"color\":\"#2a3f5f\"},\"geo\":{\"bgcolor\":\"white\",\"lakecolor\":\"white\",\"landcolor\":\"#E5ECF6\",\"showlakes\":true,\"showland\":true,\"subunitcolor\":\"white\"},\"hoverlabel\":{\"align\":\"left\"},\"hovermode\":\"closest\",\"mapbox\":{\"style\":\"light\"},\"paper_bgcolor\":\"white\",\"plot_bgcolor\":\"#E5ECF6\",\"polar\":{\"angularaxis\":{\"gridcolor\":\"white\",\"linecolor\":\"white\",\"ticks\":\"\"},\"bgcolor\":\"#E5ECF6\",\"radialaxis\":{\"gridcolor\":\"white\",\"linecolor\":\"white\",\"ticks\":\"\"}},\"scene\":{\"xaxis\":{\"backgroundcolor\":\"#E5ECF6\",\"gridcolor\":\"white\",\"gridwidth\":2,\"linecolor\":\"white\",\"showbackground\":true,\"ticks\":\"\",\"zerolinecolor\":\"white\"},\"yaxis\":{\"backgroundcolor\":\"#E5ECF6\",\"gridcolor\":\"white\",\"gridwidth\":2,\"linecolor\":\"white\",\"showbackground\":true,\"ticks\":\"\",\"zerolinecolor\":\"white\"},\"zaxis\":{\"backgroundcolor\":\"#E5ECF6\",\"gridcolor\":\"white\",\"gridwidth\":2,\"linecolor\":\"white\",\"showbackground\":true,\"ticks\":\"\",\"zerolinecolor\":\"white\"}},\"shapedefaults\":{\"line\":{\"color\":\"#2a3f5f\"}},\"ternary\":{\"aaxis\":{\"gridcolor\":\"white\",\"linecolor\":\"white\",\"ticks\":\"\"},\"baxis\":{\"gridcolor\":\"white\",\"linecolor\":\"white\",\"ticks\":\"\"},\"bgcolor\":\"#E5ECF6\",\"caxis\":{\"gridcolor\":\"white\",\"linecolor\":\"white\",\"ticks\":\"\"}},\"title\":{\"x\":0.05},\"xaxis\":{\"automargin\":true,\"gridcolor\":\"white\",\"linecolor\":\"white\",\"ticks\":\"\",\"title\":{\"standoff\":15},\"zerolinecolor\":\"white\",\"zerolinewidth\":2},\"yaxis\":{\"automargin\":true,\"gridcolor\":\"white\",\"linecolor\":\"white\",\"ticks\":\"\",\"title\":{\"standoff\":15},\"zerolinecolor\":\"white\",\"zerolinewidth\":2}}},\"title\":{\"text\":\"Game Categories\"},\"xaxis\":{\"anchor\":\"y\",\"categoryorder\":\"total descending\",\"domain\":[0.0,1.0],\"title\":{\"text\":\"category\"}},\"yaxis\":{\"anchor\":\"x\",\"domain\":[0.0,1.0],\"title\":{\"text\":\"count\"}}},                        {\"responsive\": true}                    ).then(function(){\n",
       "                            \n",
       "var gd = document.getElementById('28bd3671-00f6-42c2-83b3-d0cc4e4f0ca4');\n",
       "var x = new MutationObserver(function (mutations, observer) {{\n",
       "        var display = window.getComputedStyle(gd).display;\n",
       "        if (!display || display === 'none') {{\n",
       "            console.log([gd, 'removed!']);\n",
       "            Plotly.purge(gd);\n",
       "            observer.disconnect();\n",
       "        }}\n",
       "}});\n",
       "\n",
       "// Listen for the removal of the full notebook cells\n",
       "var notebookContainer = gd.closest('#notebook-container');\n",
       "if (notebookContainer) {{\n",
       "    x.observe(notebookContainer, {childList: true});\n",
       "}}\n",
       "\n",
       "// Listen for the clearing of the current output cell\n",
       "var outputEl = gd.closest('.output');\n",
       "if (outputEl) {{\n",
       "    x.observe(outputEl, {childList: true});\n",
       "}}\n",
       "\n",
       "                        })                };                });            </script>        </div>"
      ]
     },
     "metadata": {},
     "output_type": "display_data"
    }
   ],
   "source": [
    "fig = px.histogram(df_1, x=\"category\", title='Game Categories')\n",
    "fig.update_layout(xaxis={'categoryorder':'total descending'}) \n",
    "fig.show()"
   ]
  },
  {
   "cell_type": "markdown",
   "id": "cb9e6aa8",
   "metadata": {},
   "source": [
    "# Total Ratings"
   ]
  },
  {
   "cell_type": "code",
   "execution_count": 83,
   "id": "32399f85",
   "metadata": {},
   "outputs": [
    {
     "data": {
      "text/plain": [
       "count    1.730000e+03\n",
       "mean     1.064332e+06\n",
       "std      3.429250e+06\n",
       "min      3.299300e+04\n",
       "25%      1.759992e+05\n",
       "50%      4.286065e+05\n",
       "75%      8.837970e+05\n",
       "max      8.627313e+07\n",
       "Name: total ratings, dtype: float64"
      ]
     },
     "execution_count": 83,
     "metadata": {},
     "output_type": "execute_result"
    }
   ],
   "source": [
    "df_1['total ratings'].describe()"
   ]
  },
  {
   "cell_type": "code",
   "execution_count": 86,
   "id": "12098c70",
   "metadata": {},
   "outputs": [
    {
     "data": {
      "text/plain": [
       "count    1.730000e+03\n",
       "mean     1.064332e+06\n",
       "std      3.429250e+06\n",
       "min      3.299300e+04\n",
       "25%      1.759992e+05\n",
       "50%      4.286065e+05\n",
       "75%      8.837970e+05\n",
       "max      8.627313e+07\n",
       "Name: total ratings, dtype: float64"
      ]
     },
     "execution_count": 86,
     "metadata": {},
     "output_type": "execute_result"
    }
   ],
   "source": [
    "df_1['total ratings'].describe()"
   ]
  },
  {
   "cell_type": "code",
   "execution_count": 87,
   "id": "a5831dc5",
   "metadata": {},
   "outputs": [
    {
     "data": {
      "text/plain": [
       "<AxesSubplot:xlabel='total ratings', ylabel='Count'>"
      ]
     },
     "execution_count": 87,
     "metadata": {},
     "output_type": "execute_result"
    },
    {
     "data": {
      "image/png": "[encoded data removed]",
      "text/plain": [
       "<Figure size 1080x360 with 1 Axes>"
      ]
     },
     "metadata": {},
     "output_type": "display_data"
    }
   ],
   "source": [
    "plt.figure(figsize=(15,5))\n",
    "sns.histplot(data=df_1, x =\"total ratings\")"
   ]
  },
  {
   "cell_type": "code",
   "execution_count": 50,
   "id": "0821c63a",
   "metadata": {},
   "outputs": [
    {
     "data": {
      "text/plain": [
       "<AxesSubplot:xlabel='total ratings'>"
      ]
     },
     "execution_count": 50,
     "metadata": {},
     "output_type": "execute_result"
    },
    {
     "data": {
      "image/png": "[encoded data removed]",
      "text/plain": [
       "<Figure size 1080x360 with 1 Axes>"
      ]
     },
     "metadata": {},
     "output_type": "display_data"
    }
   ],
   "source": [
    "plt.figure(figsize=(15,5))\n",
    "sns.boxplot(data=df_1, x =\"total ratings\")"
   ]
  },
  {
   "cell_type": "markdown",
   "id": "1349f9c9",
   "metadata": {},
   "source": [
    "# Number of Game Install"
   ]
  },
  {
   "cell_type": "code",
   "execution_count": 88,
   "id": "a4978aed",
   "metadata": {},
   "outputs": [
    {
     "data": {
      "text/plain": [
       "count    1730.000000\n",
       "mean       29.176185\n",
       "std        60.287333\n",
       "min         0.100000\n",
       "25%         5.000000\n",
       "50%        10.000000\n",
       "75%        50.000000\n",
       "max      1000.000000\n",
       "Name: installs_in_million, dtype: float64"
      ]
     },
     "execution_count": 88,
     "metadata": {},
     "output_type": "execute_result"
    }
   ],
   "source": [
    "df_1[\"installs_in_million\"].describe()"
   ]
  },
  {
   "cell_type": "code",
   "execution_count": 92,
   "id": "281922ce",
   "metadata": {},
   "outputs": [
    {
     "data": {
      "text/plain": [
       "10.0      805\n",
       "50.0      252\n",
       "5.0       245\n",
       "100.0     204\n",
       "1.0       192\n",
       "0.5        15\n",
       "500.0      12\n",
       "0.1         3\n",
       "1000.0      2\n",
       "Name: installs_in_million, dtype: int64"
      ]
     },
     "execution_count": 92,
     "metadata": {},
     "output_type": "execute_result"
    }
   ],
   "source": [
    "df_1[\"installs_in_million\"].value_counts()"
   ]
  },
  {
   "cell_type": "code",
   "execution_count": 90,
   "id": "d7fe03be",
   "metadata": {},
   "outputs": [
    {
     "data": {
      "text/plain": [
       "<AxesSubplot:xlabel='installs_in_million', ylabel='Count'>"
      ]
     },
     "execution_count": 90,
     "metadata": {},
     "output_type": "execute_result"
    },
    {
     "data": {
      "image/png": "[encoded data removed]",
      "text/plain": [
       "<Figure size 1080x360 with 1 Axes>"
      ]
     },
     "metadata": {},
     "output_type": "display_data"
    }
   ],
   "source": [
    "plt.figure(figsize=(15,5))\n",
    "sns.histplot(data=df_1, x =\"installs_in_million\")"
   ]
  },
  {
   "cell_type": "code",
   "execution_count": 91,
   "id": "7455c87d",
   "metadata": {},
   "outputs": [
    {
     "data": {
      "text/plain": [
       "<AxesSubplot:xlabel='installs_in_million'>"
      ]
     },
     "execution_count": 91,
     "metadata": {},
     "output_type": "execute_result"
    },
    {
     "data": {
      "image/png": "[encoded data removed]",
      "text/plain": [
       "<Figure size 1080x360 with 1 Axes>"
      ]
     },
     "metadata": {},
     "output_type": "display_data"
    }
   ],
   "source": [
    "plt.figure(figsize=(15,5))\n",
    "sns.boxplot(data=df_1, x =\"installs_in_million\")"
   ]
  },
  {
   "cell_type": "code",
   "execution_count": null,
   "id": "7fd2d79d",
   "metadata": {},
   "outputs": [],
   "source": []
  },
  {
   "cell_type": "markdown",
   "id": "94999590",
   "metadata": {},
   "source": [
    "# Paid-Free Games"
   ]
  },
  {
   "cell_type": "code",
   "execution_count": 96,
   "id": "fcae3d61",
   "metadata": {},
   "outputs": [
    {
     "data": {
      "text/plain": [
       "False    1723\n",
       "True        7\n",
       "Name: paid, dtype: int64"
      ]
     },
     "execution_count": 96,
     "metadata": {},
     "output_type": "execute_result"
    }
   ],
   "source": [
    "df_1[\"paid\"].value_counts()"
   ]
  },
  {
   "cell_type": "code",
   "execution_count": 95,
   "id": "df362c64",
   "metadata": {},
   "outputs": [
    {
     "data": {
      "text/plain": [
       "False    0.995954\n",
       "True     0.004046\n",
       "Name: paid, dtype: float64"
      ]
     },
     "execution_count": 95,
     "metadata": {},
     "output_type": "execute_result"
    }
   ],
   "source": [
    "df_1[\"paid\"].value_counts(normalize=True)"
   ]
  },
  {
   "cell_type": "code",
   "execution_count": 100,
   "id": "8c1cbb68",
   "metadata": {},
   "outputs": [
    {
     "data": {
      "text/plain": [
       "['Paid', 'Free']"
      ]
     },
     "execution_count": 100,
     "metadata": {},
     "output_type": "execute_result"
    }
   ],
   "source": [
    "index = [\"Paid\", \"Free\"]\n",
    "index"
   ]
  },
  {
   "cell_type": "code",
   "execution_count": 101,
   "id": "0298ddb7",
   "metadata": {},
   "outputs": [
    {
     "data": {
      "text/plain": [
       "[7, 1723]"
      ]
     },
     "execution_count": 101,
     "metadata": {},
     "output_type": "execute_result"
    }
   ],
   "source": [
    "values = [7, 1723]\n",
    "values"
   ]
  },
  {
   "cell_type": "code",
   "execution_count": 102,
   "id": "cedffa22",
   "metadata": {},
   "outputs": [
    {
     "data": {
      "image/png": "[encoded data removed]",
      "text/plain": [
       "<Figure size 504x360 with 1 Axes>"
      ]
     },
     "metadata": {},
     "output_type": "display_data"
    }
   ],
   "source": [
    "plt.figure(figsize=(7,5))\n",
    "y = values\n",
    "mylabels = index\n",
    "myexplode = [0, 0]\n",
    "\n",
    "plt.pie(y, labels = mylabels, labeldistance=1.1, explode = myexplode, startangle=0, autopct='%1.1f%%')\n",
    "\n",
    "plt.show()"
   ]
  },
  {
   "cell_type": "code",
   "execution_count": 103,
   "id": "223b6a95",
   "metadata": {},
   "outputs": [
    {
     "data": {
      "image/png": "[encoded data removed]",
      "text/plain": [
       "<Figure size 504x360 with 1 Axes>"
      ]
     },
     "metadata": {},
     "output_type": "display_data"
    }
   ],
   "source": [
    "plt.figure(figsize=(7,5))\n",
    "y = df_1[\"paid\"].value_counts().values\n",
    "mylabels = df_1[\"paid\"].value_counts().index\n",
    "myexplode = [0, 0]\n",
    "\n",
    "plt.pie(y, labels = mylabels, labeldistance=1.1, explode = myexplode, startangle=0, autopct='%1.1f%%')\n",
    "\n",
    "plt.show()"
   ]
  },
  {
   "cell_type": "markdown",
   "id": "78e1453e",
   "metadata": {},
   "source": [
    "# Total Ratings by Category"
   ]
  },
  {
   "cell_type": "code",
   "execution_count": 120,
   "id": "d06b359f",
   "metadata": {},
   "outputs": [
    {
     "data": {
      "text/plain": [
       "category\n",
       "GAME ACTION          4.011344e+06\n",
       "GAME CASUAL          2.470866e+06\n",
       "GAME STRATEGY        1.856570e+06\n",
       "GAME ARCADE          1.793780e+06\n",
       "GAME SPORTS          1.353829e+06\n",
       "GAME RACING          1.139027e+06\n",
       "GAME PUZZLE          9.466929e+05\n",
       "GAME SIMULATION      9.341417e+05\n",
       "GAME ADVENTURE       8.935617e+05\n",
       "GAME ROLE PLAYING    7.087648e+05\n",
       "GAME BOARD           4.457431e+05\n",
       "GAME WORD            3.943603e+05\n",
       "GAME CASINO          3.619031e+05\n",
       "GAME CARD            3.326041e+05\n",
       "GAME TRIVIA          2.982217e+05\n",
       "GAME MUSIC           2.163020e+05\n",
       "GAME EDUCATIONAL     1.529804e+05\n",
       "Name: total ratings, dtype: float64"
      ]
     },
     "execution_count": 120,
     "metadata": {},
     "output_type": "execute_result"
    }
   ],
   "source": [
    "total_ratings_by_category = df_1.groupby(\"category\")[\"total ratings\"].mean().sort_values(ascending=False)\n",
    "total_ratings_by_category"
   ]
  },
  {
   "cell_type": "code",
   "execution_count": 121,
   "id": "4c524cf8",
   "metadata": {},
   "outputs": [
    {
     "data": {
      "image/png": "[encoded data removed]",
      "text/plain": [
       "<Figure size 720x432 with 1 Axes>"
      ]
     },
     "metadata": {},
     "output_type": "display_data"
    }
   ],
   "source": [
    "plt.figure(figsize=(10,6))\n",
    "\n",
    "sns.barplot(data = df_1, x = total_ratings_by_category.index, y = total_ratings_by_category.values)\n",
    "plt.xticks(rotation = 60);\n",
    "plt.show()"
   ]
  },
  {
   "cell_type": "markdown",
   "id": "644a810a",
   "metadata": {},
   "source": [
    "# number_installations_by_category"
   ]
  },
  {
   "cell_type": "code",
   "execution_count": 122,
   "id": "8bbefd68",
   "metadata": {},
   "outputs": [
    {
     "data": {
      "text/plain": [
       "category\n",
       "GAME ACTION          74.100000\n",
       "GAME ARCADE          71.610000\n",
       "GAME CASUAL          63.970000\n",
       "GAME RACING          46.750000\n",
       "GAME PUZZLE          36.210000\n",
       "GAME SPORTS          33.610000\n",
       "GAME SIMULATION      27.710000\n",
       "GAME STRATEGY        23.910000\n",
       "GAME BOARD           21.230000\n",
       "GAME ADVENTURE       18.030000\n",
       "GAME EDUCATIONAL     17.895000\n",
       "GAME ROLE PLAYING    14.080000\n",
       "GAME MUSIC           12.487000\n",
       "GAME CARD            12.484127\n",
       "GAME WORD            12.317308\n",
       "GAME CASINO           7.715000\n",
       "GAME TRIVIA           6.901000\n",
       "Name: installs_in_million, dtype: float64"
      ]
     },
     "execution_count": 122,
     "metadata": {},
     "output_type": "execute_result"
    }
   ],
   "source": [
    "number_installations_by_category = df_1.groupby(\"category\")[\"installs_in_million\"].mean().sort_values(ascending=False)\n",
    "number_installations_by_category"
   ]
  },
  {
   "cell_type": "code",
   "execution_count": 123,
   "id": "1087b32e",
   "metadata": {},
   "outputs": [
    {
     "data": {
      "image/png": "[encoded data removed]",
      "text/plain": [
       "<Figure size 720x432 with 1 Axes>"
      ]
     },
     "metadata": {},
     "output_type": "display_data"
    }
   ],
   "source": [
    "plt.figure(figsize=(10,6))\n",
    "\n",
    "sns.barplot(data = df_1, x = number_installations_by_category.index, y = number_installations_by_category.values)\n",
    "plt.xticks(rotation = 60);\n",
    "plt.show()"
   ]
  },
  {
   "cell_type": "markdown",
   "id": "3c8fa2e8",
   "metadata": {},
   "source": [
    "# Top 5 Ranked Games by Category\n",
    "\n",
    "- Rank\n",
    "- Title\n",
    "- Category\n",
    "- Total ratings\n",
    "- Installation"
   ]
  },
  {
   "cell_type": "code",
   "execution_count": 126,
   "id": "71ea6f12",
   "metadata": {},
   "outputs": [
    {
     "data": {
      "text/html": [
       "<div>\n",
       "<style scoped>\n",
       "    .dataframe tbody tr th:only-of-type {\n",
       "        vertical-align: middle;\n",
       "    }\n",
       "\n",
       "    .dataframe tbody tr th {\n",
       "        vertical-align: top;\n",
       "    }\n",
       "\n",
       "    .dataframe thead th {\n",
       "        text-align: right;\n",
       "    }\n",
       "</style>\n",
       "<table border=\"1\" class=\"dataframe\">\n",
       "  <thead>\n",
       "    <tr style=\"text-align: right;\">\n",
       "      <th></th>\n",
       "      <th>rank</th>\n",
       "      <th>title</th>\n",
       "      <th>category</th>\n",
       "      <th>total ratings</th>\n",
       "      <th>installs_in_million</th>\n",
       "    </tr>\n",
       "  </thead>\n",
       "  <tbody>\n",
       "    <tr>\n",
       "      <th>0</th>\n",
       "      <td>1</td>\n",
       "      <td>Garena Free Fire- World Series</td>\n",
       "      <td>GAME ACTION</td>\n",
       "      <td>86273129</td>\n",
       "      <td>500.0</td>\n",
       "    </tr>\n",
       "    <tr>\n",
       "      <th>1</th>\n",
       "      <td>2</td>\n",
       "      <td>PUBG MOBILE - Traverse</td>\n",
       "      <td>GAME ACTION</td>\n",
       "      <td>37276732</td>\n",
       "      <td>500.0</td>\n",
       "    </tr>\n",
       "    <tr>\n",
       "      <th>2</th>\n",
       "      <td>3</td>\n",
       "      <td>Mobile Legends: Bang Bang</td>\n",
       "      <td>GAME ACTION</td>\n",
       "      <td>26663595</td>\n",
       "      <td>100.0</td>\n",
       "    </tr>\n",
       "    <tr>\n",
       "      <th>3</th>\n",
       "      <td>4</td>\n",
       "      <td>Brawl Stars</td>\n",
       "      <td>GAME ACTION</td>\n",
       "      <td>17971552</td>\n",
       "      <td>100.0</td>\n",
       "    </tr>\n",
       "    <tr>\n",
       "      <th>4</th>\n",
       "      <td>5</td>\n",
       "      <td>Sniper 3D: Fun Free Online FPS Shooting Game</td>\n",
       "      <td>GAME ACTION</td>\n",
       "      <td>14464235</td>\n",
       "      <td>500.0</td>\n",
       "    </tr>\n",
       "    <tr>\n",
       "      <th>...</th>\n",
       "      <td>...</td>\n",
       "      <td>...</td>\n",
       "      <td>...</td>\n",
       "      <td>...</td>\n",
       "      <td>...</td>\n",
       "    </tr>\n",
       "    <tr>\n",
       "      <th>1725</th>\n",
       "      <td>96</td>\n",
       "      <td>زوايا - لعبة ستحرك زوايا عقلك</td>\n",
       "      <td>GAME WORD</td>\n",
       "      <td>112408</td>\n",
       "      <td>1.0</td>\n",
       "    </tr>\n",
       "    <tr>\n",
       "      <th>1726</th>\n",
       "      <td>97</td>\n",
       "      <td>Bible Word Puzzle - Free Bible Word Games</td>\n",
       "      <td>GAME WORD</td>\n",
       "      <td>111595</td>\n",
       "      <td>1.0</td>\n",
       "    </tr>\n",
       "    <tr>\n",
       "      <th>1727</th>\n",
       "      <td>98</td>\n",
       "      <td>Scrabble® GO - New Word Game</td>\n",
       "      <td>GAME WORD</td>\n",
       "      <td>110723</td>\n",
       "      <td>10.0</td>\n",
       "    </tr>\n",
       "    <tr>\n",
       "      <th>1728</th>\n",
       "      <td>99</td>\n",
       "      <td>Word Nut: Word Puzzle Games &amp; Crosswords</td>\n",
       "      <td>GAME WORD</td>\n",
       "      <td>109530</td>\n",
       "      <td>5.0</td>\n",
       "    </tr>\n",
       "    <tr>\n",
       "      <th>1729</th>\n",
       "      <td>100</td>\n",
       "      <td>Pinturillo 2</td>\n",
       "      <td>GAME WORD</td>\n",
       "      <td>108917</td>\n",
       "      <td>10.0</td>\n",
       "    </tr>\n",
       "  </tbody>\n",
       "</table>\n",
       "<p>1730 rows × 5 columns</p>\n",
       "</div>"
      ],
      "text/plain": [
       "      rank                                         title     category  \\\n",
       "0        1                Garena Free Fire- World Series  GAME ACTION   \n",
       "1        2                        PUBG MOBILE - Traverse  GAME ACTION   \n",
       "2        3                     Mobile Legends: Bang Bang  GAME ACTION   \n",
       "3        4                                   Brawl Stars  GAME ACTION   \n",
       "4        5  Sniper 3D: Fun Free Online FPS Shooting Game  GAME ACTION   \n",
       "...    ...                                           ...          ...   \n",
       "1725    96                 زوايا - لعبة ستحرك زوايا عقلك    GAME WORD   \n",
       "1726    97     Bible Word Puzzle - Free Bible Word Games    GAME WORD   \n",
       "1727    98                  Scrabble® GO - New Word Game    GAME WORD   \n",
       "1728    99      Word Nut: Word Puzzle Games & Crosswords    GAME WORD   \n",
       "1729   100                                  Pinturillo 2    GAME WORD   \n",
       "\n",
       "      total ratings  installs_in_million  \n",
       "0          86273129                500.0  \n",
       "1          37276732                500.0  \n",
       "2          26663595                100.0  \n",
       "3          17971552                100.0  \n",
       "4          14464235                500.0  \n",
       "...             ...                  ...  \n",
       "1725         112408                  1.0  \n",
       "1726         111595                  1.0  \n",
       "1727         110723                 10.0  \n",
       "1728         109530                  5.0  \n",
       "1729         108917                 10.0  \n",
       "\n",
       "[1730 rows x 5 columns]"
      ]
     },
     "execution_count": 126,
     "metadata": {},
     "output_type": "execute_result"
    }
   ],
   "source": [
    "df_2 = df_1[[\"rank\",\"title\",\"category\", \"total ratings\", \"installs_in_million\"]]\n",
    "df_2"
   ]
  },
  {
   "cell_type": "code",
   "execution_count": 129,
   "id": "52c976da",
   "metadata": {},
   "outputs": [
    {
     "data": {
      "text/html": [
       "<div>\n",
       "<style scoped>\n",
       "    .dataframe tbody tr th:only-of-type {\n",
       "        vertical-align: middle;\n",
       "    }\n",
       "\n",
       "    .dataframe tbody tr th {\n",
       "        vertical-align: top;\n",
       "    }\n",
       "\n",
       "    .dataframe thead th {\n",
       "        text-align: right;\n",
       "    }\n",
       "</style>\n",
       "<table border=\"1\" class=\"dataframe\">\n",
       "  <thead>\n",
       "    <tr style=\"text-align: right;\">\n",
       "      <th></th>\n",
       "      <th>rank</th>\n",
       "      <th>title</th>\n",
       "      <th>category</th>\n",
       "      <th>total ratings</th>\n",
       "      <th>installs_in_million</th>\n",
       "    </tr>\n",
       "  </thead>\n",
       "  <tbody>\n",
       "    <tr>\n",
       "      <th>0</th>\n",
       "      <td>1</td>\n",
       "      <td>Garena Free Fire- World Series</td>\n",
       "      <td>GAME ACTION</td>\n",
       "      <td>86273129</td>\n",
       "      <td>500.0</td>\n",
       "    </tr>\n",
       "    <tr>\n",
       "      <th>1</th>\n",
       "      <td>2</td>\n",
       "      <td>PUBG MOBILE - Traverse</td>\n",
       "      <td>GAME ACTION</td>\n",
       "      <td>37276732</td>\n",
       "      <td>500.0</td>\n",
       "    </tr>\n",
       "    <tr>\n",
       "      <th>2</th>\n",
       "      <td>3</td>\n",
       "      <td>Mobile Legends: Bang Bang</td>\n",
       "      <td>GAME ACTION</td>\n",
       "      <td>26663595</td>\n",
       "      <td>100.0</td>\n",
       "    </tr>\n",
       "    <tr>\n",
       "      <th>3</th>\n",
       "      <td>4</td>\n",
       "      <td>Brawl Stars</td>\n",
       "      <td>GAME ACTION</td>\n",
       "      <td>17971552</td>\n",
       "      <td>100.0</td>\n",
       "    </tr>\n",
       "    <tr>\n",
       "      <th>4</th>\n",
       "      <td>5</td>\n",
       "      <td>Sniper 3D: Fun Free Online FPS Shooting Game</td>\n",
       "      <td>GAME ACTION</td>\n",
       "      <td>14464235</td>\n",
       "      <td>500.0</td>\n",
       "    </tr>\n",
       "    <tr>\n",
       "      <th>...</th>\n",
       "      <td>...</td>\n",
       "      <td>...</td>\n",
       "      <td>...</td>\n",
       "      <td>...</td>\n",
       "      <td>...</td>\n",
       "    </tr>\n",
       "    <tr>\n",
       "      <th>1626</th>\n",
       "      <td>1</td>\n",
       "      <td>كلمات كراش - لعبة تسلية وتحدي من زيتونة</td>\n",
       "      <td>GAME WORD</td>\n",
       "      <td>2418119</td>\n",
       "      <td>10.0</td>\n",
       "    </tr>\n",
       "    <tr>\n",
       "      <th>1627</th>\n",
       "      <td>2</td>\n",
       "      <td>Word Cookies!®</td>\n",
       "      <td>GAME WORD</td>\n",
       "      <td>2250585</td>\n",
       "      <td>10.0</td>\n",
       "    </tr>\n",
       "    <tr>\n",
       "      <th>1628</th>\n",
       "      <td>3</td>\n",
       "      <td>Words of Wonders: Crossword to Connect Vocabulary</td>\n",
       "      <td>GAME WORD</td>\n",
       "      <td>1885400</td>\n",
       "      <td>100.0</td>\n",
       "    </tr>\n",
       "    <tr>\n",
       "      <th>1629</th>\n",
       "      <td>4</td>\n",
       "      <td>Words with Friends Classic: Word Puzzle Challenge</td>\n",
       "      <td>GAME WORD</td>\n",
       "      <td>1722914</td>\n",
       "      <td>50.0</td>\n",
       "    </tr>\n",
       "    <tr>\n",
       "      <th>1630</th>\n",
       "      <td>5</td>\n",
       "      <td>4 Fotos 1 Palabra</td>\n",
       "      <td>GAME WORD</td>\n",
       "      <td>1227499</td>\n",
       "      <td>50.0</td>\n",
       "    </tr>\n",
       "  </tbody>\n",
       "</table>\n",
       "<p>88 rows × 5 columns</p>\n",
       "</div>"
      ],
      "text/plain": [
       "      rank                                              title     category  \\\n",
       "0        1                     Garena Free Fire- World Series  GAME ACTION   \n",
       "1        2                             PUBG MOBILE - Traverse  GAME ACTION   \n",
       "2        3                          Mobile Legends: Bang Bang  GAME ACTION   \n",
       "3        4                                        Brawl Stars  GAME ACTION   \n",
       "4        5       Sniper 3D: Fun Free Online FPS Shooting Game  GAME ACTION   \n",
       "...    ...                                                ...          ...   \n",
       "1626     1            كلمات كراش - لعبة تسلية وتحدي من زيتونة    GAME WORD   \n",
       "1627     2                                     Word Cookies!®    GAME WORD   \n",
       "1628     3  Words of Wonders: Crossword to Connect Vocabulary    GAME WORD   \n",
       "1629     4  Words with Friends Classic: Word Puzzle Challenge    GAME WORD   \n",
       "1630     5                                  4 Fotos 1 Palabra    GAME WORD   \n",
       "\n",
       "      total ratings  installs_in_million  \n",
       "0          86273129                500.0  \n",
       "1          37276732                500.0  \n",
       "2          26663595                100.0  \n",
       "3          17971552                100.0  \n",
       "4          14464235                500.0  \n",
       "...             ...                  ...  \n",
       "1626        2418119                 10.0  \n",
       "1627        2250585                 10.0  \n",
       "1628        1885400                100.0  \n",
       "1629        1722914                 50.0  \n",
       "1630        1227499                 50.0  \n",
       "\n",
       "[88 rows x 5 columns]"
      ]
     },
     "execution_count": 129,
     "metadata": {},
     "output_type": "execute_result"
    }
   ],
   "source": [
    "df_3 = df_2[df_2['rank']<6]\n",
    "df_3"
   ]
  },
  {
   "cell_type": "code",
   "execution_count": null,
   "id": "bf0e5032",
   "metadata": {},
   "outputs": [],
   "source": []
  },
  {
   "cell_type": "code",
   "execution_count": null,
   "id": "b09f2886",
   "metadata": {},
   "outputs": [],
   "source": []
  },
  {
   "cell_type": "code",
   "execution_count": null,
   "id": "f35f6937",
   "metadata": {},
   "outputs": [],
   "source": []
  },
  {
   "cell_type": "code",
   "execution_count": null,
   "id": "a648ad16",
   "metadata": {},
   "outputs": [],
   "source": []
  },
  {
   "cell_type": "code",
   "execution_count": null,
   "id": "111ad310",
   "metadata": {},
   "outputs": [],
   "source": []
  },
  {
   "cell_type": "code",
   "execution_count": null,
   "id": "ca6d06a6",
   "metadata": {},
   "outputs": [],
   "source": []
  },
  {
   "cell_type": "code",
   "execution_count": null,
   "id": "8d0af851",
   "metadata": {},
   "outputs": [],
   "source": []
  },
  {
   "cell_type": "code",
   "execution_count": null,
   "id": "edc63112",
   "metadata": {},
   "outputs": [],
   "source": []
  },
  {
   "cell_type": "code",
   "execution_count": null,
   "id": "189cb36d",
   "metadata": {},
   "outputs": [],
   "source": []
  },
  {
   "cell_type": "code",
   "execution_count": null,
   "id": "14af96b2",
   "metadata": {},
   "outputs": [],
   "source": []
  },
  {
   "cell_type": "code",
   "execution_count": null,
   "id": "1a99ca03",
   "metadata": {},
   "outputs": [],
   "source": []
  },
  {
   "cell_type": "code",
   "execution_count": null,
   "id": "2b15ac96",
   "metadata": {},
   "outputs": [],
   "source": []
  }
 ],
 "metadata": {
  "kernelspec": {
   "display_name": "Python 3",
   "language": "python",
   "name": "python3"
  },
  "language_info": {
   "codemirror_mode": {
    "name": "ipython",
    "version": 3
   },
   "file_extension": ".py",
   "mimetype": "text/x-python",
   "name": "python",
   "nbconvert_exporter": "python",
   "pygments_lexer": "ipython3",
   "version": "3.8.8"
  }
 },
 "nbformat": 4,
 "nbformat_minor": 5
}
